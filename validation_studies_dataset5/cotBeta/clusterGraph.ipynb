{
 "cells": [
  {
   "cell_type": "code",
   "execution_count": 1,
   "id": "6e5d270e",
   "metadata": {},
   "outputs": [],
   "source": [
    "import numpy as np\n",
    "import pandas as pd\n",
    "from pandas import read_csv\n",
    "import math\n",
    "import seaborn as sns\n",
    "import matplotlib.pyplot as plt"
   ]
  },
  {
   "cell_type": "code",
   "execution_count": 2,
   "id": "aa0cad13",
   "metadata": {},
   "outputs": [],
   "source": [
    "df1 = pd.read_csv('clusterData.csv', header=None)"
   ]
  },
  {
   "cell_type": "code",
   "execution_count": 3,
   "id": "3e6c1065",
   "metadata": {},
   "outputs": [],
   "source": [
    "df1.columns = ['binBegin', 'binEnd', 'nEntries','avg', 'Sem']"
   ]
  },
  {
   "cell_type": "code",
   "execution_count": 4,
   "id": "d6c57485",
   "metadata": {},
   "outputs": [],
   "source": [
    "#df1\n",
    "avgList = list(df1['avg'])\n",
    "#avgList\n",
    "semList = list(df1['Sem'])\n",
    "#semList\n",
    "xList = list(df1['binBegin'])\n",
    "y_error = semList"
   ]
  },
  {
   "cell_type": "code",
   "execution_count": 5,
   "id": "a9052dc7",
   "metadata": {},
   "outputs": [
    {
     "data": {
      "image/png": "[encoded data removed]",
      "text/plain": [
       "<Figure size 432x288 with 1 Axes>"
      ]
     },
     "metadata": {
      "needs_background": "light"
     },
     "output_type": "display_data"
    }
   ],
   "source": [
    "y_error = semList\n",
    "plt.scatter(xList,avgList)\n",
    "plt.ylabel('y-size')\n",
    "plt.xlabel('cotBeta')\n",
    "plt.title('y-clusterSize vs cotBeta')\n",
    "plt.errorbar(xList, avgList, yerr = y_error, color='white', fmt='+')\n",
    "plt.savefig('clusterCotBeta.png')"
   ]
  },
  {
   "cell_type": "code",
   "execution_count": null,
   "id": "90053690",
   "metadata": {},
   "outputs": [],
   "source": []
  }
 ],
 "metadata": {
  "kernelspec": {
   "display_name": "Python 3 (ipykernel)",
   "language": "python",
   "name": "python3"
  },
  "language_info": {
   "codemirror_mode": {
    "name": "ipython",
    "version": 3
   },
   "file_extension": ".py",
   "mimetype": "text/x-python",
   "name": "python",
   "nbconvert_exporter": "python",
   "pygments_lexer": "ipython3",
   "version": "3.9.4"
  }
 },
 "nbformat": 4,
 "nbformat_minor": 5
}
