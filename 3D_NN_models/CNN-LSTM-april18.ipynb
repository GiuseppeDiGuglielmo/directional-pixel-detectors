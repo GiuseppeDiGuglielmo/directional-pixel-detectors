{
 "cells": [
  {
   "cell_type": "code",
   "execution_count": 1,
   "id": "3f683539",
   "metadata": {},
   "outputs": [],
   "source": [
    "from sklearn.utils import shuffle\n",
    "from sklearn.preprocessing import StandardScaler\n",
    "import tensorflow as tf\n",
    "import keras\n",
    "from tensorflow.keras import datasets, layers, models\n",
    "from keras.models import Sequential\n",
    "from keras.layers import Dense, Dropout, Flatten, Activation\n",
    "from keras.layers import Conv2D, MaxPooling2D, TimeDistributed, LSTM, Conv3D\n",
    "from tensorflow.keras.optimizers import Adam\n",
    "from keras.utils import np_utils\n",
    "from keras.callbacks import CSVLogger\n",
    "import os\n",
    "import matplotlib.pyplot as plt\n",
    "import numpy as np\n",
    "import pandas as pd\n",
    "from pandas import read_csv\n",
    "import math\n",
    "import seaborn as sns\n",
    "from collections import deque\n",
    "import copy\n",
    "\n",
    "BATCH_SIZE = 2 #use for train only\n",
    "EPOCHS = 1\n",
    "NUMBER_TEST_SET = 10 #will do train/test split before this, and pass already-made sets in\n",
    "TEMPORAL_LENGTH = 8 #use first 8 frames (these are 16 frames in each video)"
   ]
  },
  {
   "cell_type": "code",
   "execution_count": 2,
   "id": "bed62e65",
   "metadata": {},
   "outputs": [],
   "source": [
    "def file_generator(data_path,data_files,temporal_stride=1,temporal_length=TEMPORAL_LENGTH):\n",
    "    print(data_files)\n",
    "    for f in data_files: \n",
    "        tmp_df = pd.read_csv(os.path.join(data_path,f), sep=',')\n",
    "        label_list = list(tmp_df['label'])  \n",
    "        total_images = len(label_list) \n",
    "        if total_images==temporal_length: \n",
    "            num_samples = int((total_images-temporal_length)/temporal_stride)+1\n",
    "            print ('num of frames: {}: {}'.format(f,num_samples))\n",
    "            img_list = list(tmp_df['FileName'])\n",
    "        else: # if the number of frames < than temporal length , discard it\n",
    "            print ('num of frames is less than temporal length; hence discarding this file-{}'.format(f))\n",
    "            continue\n",
    "\n",
    "        start_frame = 0\n",
    "        samples = deque()  \n",
    "        samp_count=0  \n",
    "        for img in img_list:\n",
    "            samples.append(img)\n",
    "            if len(samples)==temporal_length: \n",
    "                samples_c=copy.deepcopy(samples) \n",
    "                samp_count+=1\n",
    "                for t in range(temporal_stride): \n",
    "                    samples.popleft()\n",
    "                yield samples_c,label_list[0]  "
   ]
  },
  {
   "cell_type": "code",
   "execution_count": 3,
   "id": "f0e6b34a",
   "metadata": {},
   "outputs": [],
   "source": [
    "def load_samples(data_cat='train',temporal_stride=1,temporal_length=TEMPORAL_LENGTH):\n",
    "    data_path = os.path.join('data_files',data_cat)\n",
    "    data_files = os.listdir(data_path)\n",
    "    #generator to read the samples\n",
    "    file_gen = file_generator(data_path,data_files,temporal_stride,temporal_length)\n",
    "    iterator = True\n",
    "    data_list = []\n",
    "    while iterator:\n",
    "        try:\n",
    "            x,y = next(file_gen)\n",
    "            x=list(x)\n",
    "            data_list.append([x,y])\n",
    "        except Exception as e:\n",
    "            print ('Exception: ',e)\n",
    "            iterator = False\n",
    "            print ('end of data generator')\n",
    "    return data_list"
   ]
  },
  {
   "cell_type": "code",
   "execution_count": 4,
   "id": "425c3c7a",
   "metadata": {},
   "outputs": [
    {
     "name": "stdout",
     "output_type": "stream",
     "text": [
      "['cluster1.csv', 'cluster0.csv', 'cluster2.csv', 'cluster3.csv', 'cluster7.csv', 'cluster6.csv', 'cluster4.csv', 'cluster5.csv', 'cluster8.csv', 'cluster9.csv']\n",
      "num of frames: cluster1.csv: 1\n",
      "num of frames: cluster0.csv: 1\n",
      "num of frames: cluster2.csv: 1\n",
      "num of frames: cluster3.csv: 1\n",
      "num of frames: cluster7.csv: 1\n",
      "num of frames: cluster6.csv: 1\n",
      "num of frames: cluster4.csv: 1\n",
      "num of frames: cluster5.csv: 1\n",
      "num of frames: cluster8.csv: 1\n",
      "num of frames: cluster9.csv: 1\n",
      "Exception:  \n",
      "end of data generator\n"
     ]
    }
   ],
   "source": [
    "train_data = load_samples(data_cat='train',temporal_stride=1,temporal_length=TEMPORAL_LENGTH)"
   ]
  },
  {
   "cell_type": "code",
   "execution_count": 5,
   "id": "bd9f6465",
   "metadata": {},
   "outputs": [
    {
     "name": "stdout",
     "output_type": "stream",
     "text": [
      "['cluster1.csv', 'cluster0.csv', 'cluster2.csv', 'cluster3.csv', 'cluster7.csv', 'cluster6.csv', 'cluster4.csv', 'cluster5.csv', 'cluster8.csv', 'cluster9.csv']\n",
      "num of frames: cluster1.csv: 1\n",
      "num of frames: cluster0.csv: 1\n",
      "num of frames: cluster2.csv: 1\n",
      "num of frames: cluster3.csv: 1\n",
      "num of frames: cluster7.csv: 1\n",
      "num of frames: cluster6.csv: 1\n",
      "num of frames: cluster4.csv: 1\n",
      "num of frames: cluster5.csv: 1\n",
      "num of frames: cluster8.csv: 1\n",
      "num of frames: cluster9.csv: 1\n",
      "Exception:  \n",
      "end of data generator\n"
     ]
    }
   ],
   "source": [
    "test_data = load_samples(data_cat='test',temporal_stride=1,temporal_length=TEMPORAL_LENGTH)"
   ]
  },
  {
   "cell_type": "code",
   "execution_count": 6,
   "id": "ddc52f89",
   "metadata": {},
   "outputs": [
    {
     "name": "stdout",
     "output_type": "stream",
     "text": [
      "Total number of train samples: 10\n"
     ]
    }
   ],
   "source": [
    "print ('Total number of train samples:',len(train_data))"
   ]
  },
  {
   "cell_type": "code",
   "execution_count": 7,
   "id": "5ed09b1b",
   "metadata": {},
   "outputs": [
    {
     "data": {
      "text/plain": [
       "[['/Users/jieunyoo/april12_3dCNN/figures/cluster1/event000001_frame00.npy',\n",
       "  '/Users/jieunyoo/april12_3dCNN/figures/cluster1/event000001_frame01.npy',\n",
       "  '/Users/jieunyoo/april12_3dCNN/figures/cluster1/event000001_frame02.npy',\n",
       "  '/Users/jieunyoo/april12_3dCNN/figures/cluster1/event000001_frame03.npy',\n",
       "  '/Users/jieunyoo/april12_3dCNN/figures/cluster1/event000001_frame04.npy',\n",
       "  '/Users/jieunyoo/april12_3dCNN/figures/cluster1/event000001_frame05.npy',\n",
       "  '/Users/jieunyoo/april12_3dCNN/figures/cluster1/event000001_frame06.npy',\n",
       "  '/Users/jieunyoo/april12_3dCNN/figures/cluster1/event000001_frame07.npy'],\n",
       " 0.0143572918886504]"
      ]
     },
     "execution_count": 7,
     "metadata": {},
     "output_type": "execute_result"
    }
   ],
   "source": [
    "train_data[0]"
   ]
  },
  {
   "cell_type": "code",
   "execution_count": 8,
   "id": "08067eaf",
   "metadata": {},
   "outputs": [
    {
     "name": "stdout",
     "output_type": "stream",
     "text": [
      "Total number of test samples: 10\n"
     ]
    }
   ],
   "source": [
    "print ('Total number of test samples:',len(test_data))"
   ]
  },
  {
   "cell_type": "code",
   "execution_count": 9,
   "id": "795e0e99",
   "metadata": {},
   "outputs": [
    {
     "data": {
      "text/plain": [
       "[['/Users/jieunyoo/april12_3dCNN/figures-test/cluster1/event000001_frame00.npy',\n",
       "  '/Users/jieunyoo/april12_3dCNN/figures-test/cluster1/event000001_frame01.npy',\n",
       "  '/Users/jieunyoo/april12_3dCNN/figures-test/cluster1/event000001_frame02.npy',\n",
       "  '/Users/jieunyoo/april12_3dCNN/figures-test/cluster1/event000001_frame03.npy',\n",
       "  '/Users/jieunyoo/april12_3dCNN/figures-test/cluster1/event000001_frame04.npy',\n",
       "  '/Users/jieunyoo/april12_3dCNN/figures-test/cluster1/event000001_frame05.npy',\n",
       "  '/Users/jieunyoo/april12_3dCNN/figures-test/cluster1/event000001_frame06.npy',\n",
       "  '/Users/jieunyoo/april12_3dCNN/figures-test/cluster1/event000001_frame07.npy'],\n",
       " 0.0412772962208331]"
      ]
     },
     "execution_count": 9,
     "metadata": {},
     "output_type": "execute_result"
    }
   ],
   "source": [
    "test_data[0]"
   ]
  },
  {
   "cell_type": "code",
   "execution_count": 10,
   "id": "45c91fbe",
   "metadata": {},
   "outputs": [],
   "source": [
    "def shuffle_data(samples):\n",
    "    data = shuffle(samples,random_state=2)\n",
    "    return data"
   ]
  },
  {
   "cell_type": "code",
   "execution_count": 11,
   "id": "4e0142dd",
   "metadata": {},
   "outputs": [],
   "source": [
    "def data_generator(data,batch_size=BATCH_SIZE,temporal_padding='same',shuffle=True):               \n",
    "    num_samples = len(data)\n",
    "    if shuffle:\n",
    "        data = shuffle_data(data)\n",
    "    while True:   \n",
    "        for offset in range(0, num_samples, batch_size):\n",
    "            print ('starting index: ', offset) \n",
    "            batch_samples = data[offset:offset+batch_size]\n",
    "            \n",
    "            X_train = []\n",
    "            y_train = []\n",
    "            \n",
    "            for batch_sample in batch_samples: \n",
    "                print(batch_sample)\n",
    "                # Load image (X)\n",
    "                x = batch_sample[0] #image\n",
    "                y = batch_sample[1] #label\n",
    "                temp_data_list = []\n",
    "                for img in x:\n",
    "                    try:\n",
    "                        img = np.load(img)                        \n",
    "                        temp_data_list.append(img)\n",
    "                    except Exception as e:\n",
    "                        print (e)\n",
    "                        print ('error reading in frame: ',img)                      \n",
    "\n",
    "                X_train.append(temp_data_list)\n",
    "                y_train.append(y)\n",
    "\n",
    "            X_train = np.array(X_train)   \n",
    "            y_train = np.array(y_train)\n",
    "            \n",
    "            scaler = StandardScaler()\n",
    "            X_train = scaler.fit_transform(X_train.reshape(-1, X_train.shape[-1])).reshape(X_train.shape)\n",
    "        \n",
    "            print(X_train.shape)               \n",
    "            yield X_train, y_train"
   ]
  },
  {
   "cell_type": "code",
   "execution_count": 12,
   "id": "dea2200d",
   "metadata": {},
   "outputs": [
    {
     "name": "stdout",
     "output_type": "stream",
     "text": [
      "10\n",
      "10\n"
     ]
    }
   ],
   "source": [
    "print(len(train_data))\n",
    "print(len(test_data))\n",
    "\n",
    "train_generator = data_generator(train_data,batch_size=BATCH_SIZE,shuffle=True)\n",
    "\n",
    "test_generator = data_generator(test_data,batch_size=1,shuffle=False) \n",
    "#x,y = next(train_generator)\n",
    "#xx,yy = next(train_generator)"
   ]
  },
  {
   "cell_type": "code",
   "execution_count": 13,
   "id": "0f849eb2",
   "metadata": {},
   "outputs": [
    {
     "name": "stderr",
     "output_type": "stream",
     "text": [
      "2022-04-18 13:36:24.915691: I tensorflow/core/platform/cpu_feature_guard.cc:151] This TensorFlow binary is optimized with oneAPI Deep Neural Network Library (oneDNN) to use the following CPU instructions in performance-critical operations:  AVX2 FMA\n",
      "To enable them in other operations, rebuild TensorFlow with the appropriate compiler flags.\n"
     ]
    },
    {
     "name": "stdout",
     "output_type": "stream",
     "text": [
      "Model: \"sequential\"\n",
      "_________________________________________________________________\n",
      " Layer (type)                Output Shape              Param #   \n",
      "=================================================================\n",
      " time_distributed (TimeDistr  (None, 8, 11, 19, 64)    640       \n",
      " ibuted)                                                         \n",
      "                                                                 \n",
      " time_distributed_1 (TimeDis  (None, 8, 9, 17, 64)     36928     \n",
      " tributed)                                                       \n",
      "                                                                 \n",
      " time_distributed_2 (TimeDis  (None, 8, 9792)          0         \n",
      " tributed)                                                       \n",
      "                                                                 \n",
      " lstm (LSTM)                 (None, 1024)              44306432  \n",
      "                                                                 \n",
      " dense (Dense)               (None, 1024)              1049600   \n",
      "                                                                 \n",
      " dense_1 (Dense)             (None, 1)                 1025      \n",
      "                                                                 \n",
      "=================================================================\n",
      "Total params: 45,394,625\n",
      "Trainable params: 45,394,625\n",
      "Non-trainable params: 0\n",
      "_________________________________________________________________\n"
     ]
    }
   ],
   "source": [
    "def get_model():\n",
    "    model = Sequential()\n",
    "    model.add(\n",
    "    TimeDistributed(\n",
    "        Conv2D(64, (3,3), activation='relu'), \n",
    "        input_shape=(8, 13, 21, 1))\n",
    "    )\n",
    "    model.add(\n",
    "    TimeDistributed(\n",
    "        Conv2D(64, (3,3), activation='relu')\n",
    "        )\n",
    "    )\n",
    "    model.add(\n",
    "    TimeDistributed(\n",
    "        Flatten()\n",
    "        )\n",
    "    )        \n",
    "    model.add(LSTM(1024, activation='relu', return_sequences=False))\n",
    "    model.add(Dense(1024, activation='relu'))\n",
    "    #model.add(Dropout(.01))\n",
    "    model.add(Dense(1, activation='linear'))\n",
    "    model.compile(loss='Huber', optimizer=Adam(), metrics=['mean_squared_error'])\n",
    "    model.summary()\n",
    "    return model\n",
    "\n",
    "model = get_model()\n"
   ]
  },
  {
   "cell_type": "code",
   "execution_count": 14,
   "id": "b63f2586",
   "metadata": {},
   "outputs": [],
   "source": [
    "class CustomCallback(keras.callbacks.Callback):\n",
    "    def on_train_begin(self, logs=None):\n",
    "        keys = list(logs.keys())\n",
    "        print(\"Starting training; got log keys: {}\".format(keys))\n",
    "\n",
    "    def on_train_end(self, logs=None):\n",
    "        keys = list(logs.keys())\n",
    "        print(\"Stop training; got log keys: {}\".format(keys))\n",
    "\n",
    "    def on_epoch_begin(self, epoch, logs=None):\n",
    "        keys = list(logs.keys())\n",
    "        print(\"Start epoch {} of training; got log keys: {}\".format(epoch, keys))\n",
    "\n",
    "    def on_epoch_end(self, epoch, logs=None):\n",
    "        keys = list(logs.keys())\n",
    "        print(\"End epoch {} of training; got log keys: {}\".format(epoch, keys))\n",
    "\n",
    "    def on_test_begin(self, logs=None):\n",
    "        keys = list(logs.keys())\n",
    "        print(\"Start testing; got log keys: {}\".format(keys))\n",
    "\n",
    "    def on_test_end(self, logs=None):\n",
    "        keys = list(logs.keys())\n",
    "        print(\"Stop testing; got log keys: {}\".format(keys))\n",
    "\n",
    "    def on_predict_begin(self, logs=None):\n",
    "        keys = list(logs.keys())\n",
    "        print(\"Start predicting; got log keys: {}\".format(keys))\n",
    "\n",
    "    def on_predict_end(self, logs=None):\n",
    "        keys = list(logs.keys())\n",
    "        print(\"Stop predicting; got log keys: {}\".format(keys))\n",
    "\n",
    "    def on_train_batch_begin(self, batch, logs=None):\n",
    "        keys = list(logs.keys())\n",
    "        print(\"...Training: start of batch {}; got log keys: {}\".format(batch, keys))\n",
    "\n",
    "    def on_train_batch_end(self, batch, logs=None):\n",
    "        keys = list(logs.keys())\n",
    "        print(\"...Training: end of batch {}; got log keys: {}\".format(batch, keys))\n",
    "\n",
    "    def on_test_batch_begin(self, batch, logs=None):\n",
    "        keys = list(logs.keys())\n",
    "        print(\"...Evaluating: start of batch {}; got log keys: {}\".format(batch, keys))\n",
    "\n",
    "    def on_test_batch_end(self, batch, logs=None):\n",
    "        keys = list(logs.keys())\n",
    "        print(\"...Evaluating: end of batch {}; got log keys: {}\".format(batch, keys))    "
   ]
  },
  {
   "cell_type": "code",
   "execution_count": 15,
   "id": "bdaa0c56",
   "metadata": {},
   "outputs": [],
   "source": [
    "checkpoint_path = \"cp.ckpt\"\n",
    "earlyStop_callback = tf.keras.callbacks.EarlyStopping(monitor='loss', patience=20)\n",
    "cp_callback = tf.keras.callbacks.ModelCheckpoint(filepath=checkpoint_path,\n",
    "                                                 save_weights_only=True,\n",
    "                                                 verbose=1)\n",
    "csv_logger = CSVLogger('log.csv', append=True, separator=';')"
   ]
  },
  {
   "cell_type": "code",
   "execution_count": 16,
   "id": "0f2b9ef4",
   "metadata": {},
   "outputs": [
    {
     "name": "stdout",
     "output_type": "stream",
     "text": [
      "starting index:  0\n",
      "[['/Users/jieunyoo/april12_3dCNN/figures/cluster7/event000007_frame00.npy', '/Users/jieunyoo/april12_3dCNN/figures/cluster7/event000007_frame01.npy', '/Users/jieunyoo/april12_3dCNN/figures/cluster7/event000007_frame02.npy', '/Users/jieunyoo/april12_3dCNN/figures/cluster7/event000007_frame03.npy', '/Users/jieunyoo/april12_3dCNN/figures/cluster7/event000007_frame04.npy', '/Users/jieunyoo/april12_3dCNN/figures/cluster7/event000007_frame05.npy', '/Users/jieunyoo/april12_3dCNN/figures/cluster7/event000007_frame06.npy', '/Users/jieunyoo/april12_3dCNN/figures/cluster7/event000007_frame07.npy'], -0.0172832196569843]\n",
      "[['/Users/jieunyoo/april12_3dCNN/figures/cluster0/event000000_frame00.npy', '/Users/jieunyoo/april12_3dCNN/figures/cluster0/event000000_frame01.npy', '/Users/jieunyoo/april12_3dCNN/figures/cluster0/event000000_frame02.npy', '/Users/jieunyoo/april12_3dCNN/figures/cluster0/event000000_frame03.npy', '/Users/jieunyoo/april12_3dCNN/figures/cluster0/event000000_frame04.npy', '/Users/jieunyoo/april12_3dCNN/figures/cluster0/event000000_frame05.npy', '/Users/jieunyoo/april12_3dCNN/figures/cluster0/event000000_frame06.npy', '/Users/jieunyoo/april12_3dCNN/figures/cluster0/event000000_frame07.npy'], -0.1132745164574143]\n",
      "(2, 8, 13, 21)\n",
      "starting index:  2\n",
      "[['/Users/jieunyoo/april12_3dCNN/figures/cluster6/event000006_frame00.npy', '/Users/jieunyoo/april12_3dCNN/figures/cluster6/event000006_frame01.npy', '/Users/jieunyoo/april12_3dCNN/figures/cluster6/event000006_frame02.npy', '/Users/jieunyoo/april12_3dCNN/figures/cluster6/event000006_frame03.npy', '/Users/jieunyoo/april12_3dCNN/figures/cluster6/event000006_frame04.npy', '/Users/jieunyoo/april12_3dCNN/figures/cluster6/event000006_frame05.npy', '/Users/jieunyoo/april12_3dCNN/figures/cluster6/event000006_frame06.npy', '/Users/jieunyoo/april12_3dCNN/figures/cluster6/event000006_frame07.npy'], 0.1980315965623848]\n",
      "[['/Users/jieunyoo/april12_3dCNN/figures/cluster1/event000001_frame00.npy', '/Users/jieunyoo/april12_3dCNN/figures/cluster1/event000001_frame01.npy', '/Users/jieunyoo/april12_3dCNN/figures/cluster1/event000001_frame02.npy', '/Users/jieunyoo/april12_3dCNN/figures/cluster1/event000001_frame03.npy', '/Users/jieunyoo/april12_3dCNN/figures/cluster1/event000001_frame04.npy', '/Users/jieunyoo/april12_3dCNN/figures/cluster1/event000001_frame05.npy', '/Users/jieunyoo/april12_3dCNN/figures/cluster1/event000001_frame06.npy', '/Users/jieunyoo/april12_3dCNN/figures/cluster1/event000001_frame07.npy'], 0.0143572918886504]\n",
      "(2, 8, 13, 21)\n",
      "1/5 [=====>........................] - ETA: 8s - loss: 0.0031 - mean_squared_error: 0.0063starting index:  4\n",
      "[['/Users/jieunyoo/april12_3dCNN/figures/cluster5/event000005_frame00.npy', '/Users/jieunyoo/april12_3dCNN/figures/cluster5/event000005_frame01.npy', '/Users/jieunyoo/april12_3dCNN/figures/cluster5/event000005_frame02.npy', '/Users/jieunyoo/april12_3dCNN/figures/cluster5/event000005_frame03.npy', '/Users/jieunyoo/april12_3dCNN/figures/cluster5/event000005_frame04.npy', '/Users/jieunyoo/april12_3dCNN/figures/cluster5/event000005_frame05.npy', '/Users/jieunyoo/april12_3dCNN/figures/cluster5/event000005_frame06.npy', '/Users/jieunyoo/april12_3dCNN/figures/cluster5/event000005_frame07.npy'], 0.1023928165442195]\n",
      "[['/Users/jieunyoo/april12_3dCNN/figures/cluster2/event000002_frame00.npy', '/Users/jieunyoo/april12_3dCNN/figures/cluster2/event000002_frame01.npy', '/Users/jieunyoo/april12_3dCNN/figures/cluster2/event000002_frame02.npy', '/Users/jieunyoo/april12_3dCNN/figures/cluster2/event000002_frame03.npy', '/Users/jieunyoo/april12_3dCNN/figures/cluster2/event000002_frame04.npy', '/Users/jieunyoo/april12_3dCNN/figures/cluster2/event000002_frame05.npy', '/Users/jieunyoo/april12_3dCNN/figures/cluster2/event000002_frame06.npy', '/Users/jieunyoo/april12_3dCNN/figures/cluster2/event000002_frame07.npy'], 0.0553064351772234]\n",
      "(2, 8, 13, 21)\n",
      "2/5 [===========>..................] - ETA: 2s - loss: 4.5770 - mean_squared_error: 51.8454starting index:  6\n",
      "[['/Users/jieunyoo/april12_3dCNN/figures/cluster3/event000003_frame00.npy', '/Users/jieunyoo/april12_3dCNN/figures/cluster3/event000003_frame01.npy', '/Users/jieunyoo/april12_3dCNN/figures/cluster3/event000003_frame02.npy', '/Users/jieunyoo/april12_3dCNN/figures/cluster3/event000003_frame03.npy', '/Users/jieunyoo/april12_3dCNN/figures/cluster3/event000003_frame04.npy', '/Users/jieunyoo/april12_3dCNN/figures/cluster3/event000003_frame05.npy', '/Users/jieunyoo/april12_3dCNN/figures/cluster3/event000003_frame06.npy', '/Users/jieunyoo/april12_3dCNN/figures/cluster3/event000003_frame07.npy'], 0.2123361350666399]\n",
      "[['/Users/jieunyoo/april12_3dCNN/figures/cluster4/event000004_frame00.npy', '/Users/jieunyoo/april12_3dCNN/figures/cluster4/event000004_frame01.npy', '/Users/jieunyoo/april12_3dCNN/figures/cluster4/event000004_frame02.npy', '/Users/jieunyoo/april12_3dCNN/figures/cluster4/event000004_frame03.npy', '/Users/jieunyoo/april12_3dCNN/figures/cluster4/event000004_frame04.npy', '/Users/jieunyoo/april12_3dCNN/figures/cluster4/event000004_frame05.npy', '/Users/jieunyoo/april12_3dCNN/figures/cluster4/event000004_frame06.npy', '/Users/jieunyoo/april12_3dCNN/figures/cluster4/event000004_frame07.npy'], -0.0949876833132468]\n",
      "(2, 8, 13, 21)\n",
      "3/5 [=================>............] - ETA: 1s - loss: 3.0621 - mean_squared_error: 34.5851starting index:  8\n",
      "[['/Users/jieunyoo/april12_3dCNN/figures/cluster9/event000009_frame00.npy', '/Users/jieunyoo/april12_3dCNN/figures/cluster9/event000009_frame01.npy', '/Users/jieunyoo/april12_3dCNN/figures/cluster9/event000009_frame02.npy', '/Users/jieunyoo/april12_3dCNN/figures/cluster9/event000009_frame03.npy', '/Users/jieunyoo/april12_3dCNN/figures/cluster9/event000009_frame04.npy', '/Users/jieunyoo/april12_3dCNN/figures/cluster9/event000009_frame05.npy', '/Users/jieunyoo/april12_3dCNN/figures/cluster9/event000009_frame06.npy', '/Users/jieunyoo/april12_3dCNN/figures/cluster9/event000009_frame07.npy'], 0.2243026366068017]\n",
      "[['/Users/jieunyoo/april12_3dCNN/figures/cluster8/event000008_frame00.npy', '/Users/jieunyoo/april12_3dCNN/figures/cluster8/event000008_frame01.npy', '/Users/jieunyoo/april12_3dCNN/figures/cluster8/event000008_frame02.npy', '/Users/jieunyoo/april12_3dCNN/figures/cluster8/event000008_frame03.npy', '/Users/jieunyoo/april12_3dCNN/figures/cluster8/event000008_frame04.npy', '/Users/jieunyoo/april12_3dCNN/figures/cluster8/event000008_frame05.npy', '/Users/jieunyoo/april12_3dCNN/figures/cluster8/event000008_frame06.npy', '/Users/jieunyoo/april12_3dCNN/figures/cluster8/event000008_frame07.npy'], 0.0979876771315702]\n",
      "(2, 8, 13, 21)\n",
      "4/5 [=======================>......] - ETA: 0s - loss: 2.3934 - mean_squared_error: 26.1387starting index:  0\n",
      "[['/Users/jieunyoo/april12_3dCNN/figures/cluster7/event000007_frame00.npy', '/Users/jieunyoo/april12_3dCNN/figures/cluster7/event000007_frame01.npy', '/Users/jieunyoo/april12_3dCNN/figures/cluster7/event000007_frame02.npy', '/Users/jieunyoo/april12_3dCNN/figures/cluster7/event000007_frame03.npy', '/Users/jieunyoo/april12_3dCNN/figures/cluster7/event000007_frame04.npy', '/Users/jieunyoo/april12_3dCNN/figures/cluster7/event000007_frame05.npy', '/Users/jieunyoo/april12_3dCNN/figures/cluster7/event000007_frame06.npy', '/Users/jieunyoo/april12_3dCNN/figures/cluster7/event000007_frame07.npy'], -0.0172832196569843]\n",
      "[['/Users/jieunyoo/april12_3dCNN/figures/cluster0/event000000_frame00.npy', '/Users/jieunyoo/april12_3dCNN/figures/cluster0/event000000_frame01.npy', '/Users/jieunyoo/april12_3dCNN/figures/cluster0/event000000_frame02.npy', '/Users/jieunyoo/april12_3dCNN/figures/cluster0/event000000_frame03.npy', '/Users/jieunyoo/april12_3dCNN/figures/cluster0/event000000_frame04.npy', '/Users/jieunyoo/april12_3dCNN/figures/cluster0/event000000_frame05.npy', '/Users/jieunyoo/april12_3dCNN/figures/cluster0/event000000_frame06.npy', '/Users/jieunyoo/april12_3dCNN/figures/cluster0/event000000_frame07.npy'], -0.1132745164574143]\n",
      "(2, 8, 13, 21)\n",
      "5/5 [==============================] - ETA: 0s - loss: 1.9219 - mean_squared_error: 20.9254\n",
      "Epoch 00001: saving model to cp.ckpt\n",
      "5/5 [==============================] - 8s 1s/step - loss: 1.9219 - mean_squared_error: 20.9254\n"
     ]
    }
   ],
   "source": [
    "#NUMBER_TEST = len(test_data)\n",
    "\n",
    "#num_val_steps = int(NUMBER_TEST/BATCH_SIZE)\n",
    "\n",
    "hist = model.fit(train_generator,\n",
    "                 steps_per_epoch=(len(train_data)/BATCH_SIZE),\n",
    "                 epochs=EPOCHS,\n",
    "                 callbacks=[cp_callback, csv_logger, earlyStop_callback])"
   ]
  },
  {
   "cell_type": "code",
   "execution_count": 17,
   "id": "bf838717",
   "metadata": {},
   "outputs": [],
   "source": [
    "model.save_weights('myModel.h5')\n",
    "model_json = model.to_json()\n",
    "with open(\"model.json\", \"w\") as json_file:\n",
    "  json_file.write(model_json)"
   ]
  },
  {
   "cell_type": "code",
   "execution_count": 18,
   "id": "f79accbd",
   "metadata": {},
   "outputs": [],
   "source": [
    "#res = model.predict_generator(test_generator,NUMBER_SAMPLES)\n",
    "#strangely, above line gives an extra sample (repeats one sample) \n",
    "#predict_generator is deprecated in favor of Model.predict, but Model.predict wasn't working, \n",
    "#so below, will just do. regular loop to get the predictions/true values"
   ]
  },
  {
   "cell_type": "code",
   "execution_count": 19,
   "id": "dcdb2863",
   "metadata": {},
   "outputs": [
    {
     "name": "stdout",
     "output_type": "stream",
     "text": [
      "starting index:  0\n",
      "[['/Users/jieunyoo/april12_3dCNN/figures-test/cluster1/event000001_frame00.npy', '/Users/jieunyoo/april12_3dCNN/figures-test/cluster1/event000001_frame01.npy', '/Users/jieunyoo/april12_3dCNN/figures-test/cluster1/event000001_frame02.npy', '/Users/jieunyoo/april12_3dCNN/figures-test/cluster1/event000001_frame03.npy', '/Users/jieunyoo/april12_3dCNN/figures-test/cluster1/event000001_frame04.npy', '/Users/jieunyoo/april12_3dCNN/figures-test/cluster1/event000001_frame05.npy', '/Users/jieunyoo/april12_3dCNN/figures-test/cluster1/event000001_frame06.npy', '/Users/jieunyoo/april12_3dCNN/figures-test/cluster1/event000001_frame07.npy'], 0.0412772962208331]\n",
      "(1, 8, 13, 21)\n",
      "starting index:  1\n",
      "[['/Users/jieunyoo/april12_3dCNN/figures-test/cluster0/event000000_frame00.npy', '/Users/jieunyoo/april12_3dCNN/figures-test/cluster0/event000000_frame01.npy', '/Users/jieunyoo/april12_3dCNN/figures-test/cluster0/event000000_frame02.npy', '/Users/jieunyoo/april12_3dCNN/figures-test/cluster0/event000000_frame03.npy', '/Users/jieunyoo/april12_3dCNN/figures-test/cluster0/event000000_frame04.npy', '/Users/jieunyoo/april12_3dCNN/figures-test/cluster0/event000000_frame05.npy', '/Users/jieunyoo/april12_3dCNN/figures-test/cluster0/event000000_frame06.npy', '/Users/jieunyoo/april12_3dCNN/figures-test/cluster0/event000000_frame07.npy'], -0.0703799102849495]\n",
      "(1, 8, 13, 21)\n",
      "starting index:  2\n",
      "[['/Users/jieunyoo/april12_3dCNN/figures-test/cluster2/event000002_frame00.npy', '/Users/jieunyoo/april12_3dCNN/figures-test/cluster2/event000002_frame01.npy', '/Users/jieunyoo/april12_3dCNN/figures-test/cluster2/event000002_frame02.npy', '/Users/jieunyoo/april12_3dCNN/figures-test/cluster2/event000002_frame03.npy', '/Users/jieunyoo/april12_3dCNN/figures-test/cluster2/event000002_frame04.npy', '/Users/jieunyoo/april12_3dCNN/figures-test/cluster2/event000002_frame05.npy', '/Users/jieunyoo/april12_3dCNN/figures-test/cluster2/event000002_frame06.npy', '/Users/jieunyoo/april12_3dCNN/figures-test/cluster2/event000002_frame07.npy'], -0.0563475491595186]\n",
      "(1, 8, 13, 21)\n",
      "starting index:  3\n",
      "[['/Users/jieunyoo/april12_3dCNN/figures-test/cluster3/event000003_frame00.npy', '/Users/jieunyoo/april12_3dCNN/figures-test/cluster3/event000003_frame01.npy', '/Users/jieunyoo/april12_3dCNN/figures-test/cluster3/event000003_frame02.npy', '/Users/jieunyoo/april12_3dCNN/figures-test/cluster3/event000003_frame03.npy', '/Users/jieunyoo/april12_3dCNN/figures-test/cluster3/event000003_frame04.npy', '/Users/jieunyoo/april12_3dCNN/figures-test/cluster3/event000003_frame05.npy', '/Users/jieunyoo/april12_3dCNN/figures-test/cluster3/event000003_frame06.npy', '/Users/jieunyoo/april12_3dCNN/figures-test/cluster3/event000003_frame07.npy'], 0.2360560880812827]\n",
      "(1, 8, 13, 21)\n",
      "starting index:  4\n",
      "[['/Users/jieunyoo/april12_3dCNN/figures-test/cluster7/event000007_frame00.npy', '/Users/jieunyoo/april12_3dCNN/figures-test/cluster7/event000007_frame01.npy', '/Users/jieunyoo/april12_3dCNN/figures-test/cluster7/event000007_frame02.npy', '/Users/jieunyoo/april12_3dCNN/figures-test/cluster7/event000007_frame03.npy', '/Users/jieunyoo/april12_3dCNN/figures-test/cluster7/event000007_frame04.npy', '/Users/jieunyoo/april12_3dCNN/figures-test/cluster7/event000007_frame05.npy', '/Users/jieunyoo/april12_3dCNN/figures-test/cluster7/event000007_frame06.npy', '/Users/jieunyoo/april12_3dCNN/figures-test/cluster7/event000007_frame07.npy'], 0.1137033719396643]\n",
      "(1, 8, 13, 21)\n",
      "starting index:  5\n",
      "[['/Users/jieunyoo/april12_3dCNN/figures-test/cluster6/event000006_frame00.npy', '/Users/jieunyoo/april12_3dCNN/figures-test/cluster6/event000006_frame01.npy', '/Users/jieunyoo/april12_3dCNN/figures-test/cluster6/event000006_frame02.npy', '/Users/jieunyoo/april12_3dCNN/figures-test/cluster6/event000006_frame03.npy', '/Users/jieunyoo/april12_3dCNN/figures-test/cluster6/event000006_frame04.npy', '/Users/jieunyoo/april12_3dCNN/figures-test/cluster6/event000006_frame05.npy', '/Users/jieunyoo/april12_3dCNN/figures-test/cluster6/event000006_frame06.npy', '/Users/jieunyoo/april12_3dCNN/figures-test/cluster6/event000006_frame07.npy'], 0.2174379513290014]\n",
      "(1, 8, 13, 21)\n",
      "starting index:  6\n",
      "[['/Users/jieunyoo/april12_3dCNN/figures-test/cluster4/event000004_frame00.npy', '/Users/jieunyoo/april12_3dCNN/figures-test/cluster4/event000004_frame01.npy', '/Users/jieunyoo/april12_3dCNN/figures-test/cluster4/event000004_frame02.npy', '/Users/jieunyoo/april12_3dCNN/figures-test/cluster4/event000004_frame03.npy', '/Users/jieunyoo/april12_3dCNN/figures-test/cluster4/event000004_frame04.npy', '/Users/jieunyoo/april12_3dCNN/figures-test/cluster4/event000004_frame05.npy', '/Users/jieunyoo/april12_3dCNN/figures-test/cluster4/event000004_frame06.npy', '/Users/jieunyoo/april12_3dCNN/figures-test/cluster4/event000004_frame07.npy'], -0.1559193882618451]\n",
      "(1, 8, 13, 21)\n",
      "starting index:  7\n",
      "[['/Users/jieunyoo/april12_3dCNN/figures-test/cluster5/event000005_frame00.npy', '/Users/jieunyoo/april12_3dCNN/figures-test/cluster5/event000005_frame01.npy', '/Users/jieunyoo/april12_3dCNN/figures-test/cluster5/event000005_frame02.npy', '/Users/jieunyoo/april12_3dCNN/figures-test/cluster5/event000005_frame03.npy', '/Users/jieunyoo/april12_3dCNN/figures-test/cluster5/event000005_frame04.npy', '/Users/jieunyoo/april12_3dCNN/figures-test/cluster5/event000005_frame05.npy', '/Users/jieunyoo/april12_3dCNN/figures-test/cluster5/event000005_frame06.npy', '/Users/jieunyoo/april12_3dCNN/figures-test/cluster5/event000005_frame07.npy'], 0.189535976992423]\n",
      "(1, 8, 13, 21)\n",
      "starting index:  8\n",
      "[['/Users/jieunyoo/april12_3dCNN/figures-test/cluster8/event000008_frame00.npy', '/Users/jieunyoo/april12_3dCNN/figures-test/cluster8/event000008_frame01.npy', '/Users/jieunyoo/april12_3dCNN/figures-test/cluster8/event000008_frame02.npy', '/Users/jieunyoo/april12_3dCNN/figures-test/cluster8/event000008_frame03.npy', '/Users/jieunyoo/april12_3dCNN/figures-test/cluster8/event000008_frame04.npy', '/Users/jieunyoo/april12_3dCNN/figures-test/cluster8/event000008_frame05.npy', '/Users/jieunyoo/april12_3dCNN/figures-test/cluster8/event000008_frame06.npy', '/Users/jieunyoo/april12_3dCNN/figures-test/cluster8/event000008_frame07.npy'], 0.2111784625027709]\n",
      "(1, 8, 13, 21)\n",
      "starting index:  9\n",
      "[['/Users/jieunyoo/april12_3dCNN/figures-test/cluster9/event000009_frame00.npy', '/Users/jieunyoo/april12_3dCNN/figures-test/cluster9/event000009_frame01.npy', '/Users/jieunyoo/april12_3dCNN/figures-test/cluster9/event000009_frame02.npy', '/Users/jieunyoo/april12_3dCNN/figures-test/cluster9/event000009_frame03.npy', '/Users/jieunyoo/april12_3dCNN/figures-test/cluster9/event000009_frame04.npy', '/Users/jieunyoo/april12_3dCNN/figures-test/cluster9/event000009_frame05.npy', '/Users/jieunyoo/april12_3dCNN/figures-test/cluster9/event000009_frame06.npy', '/Users/jieunyoo/april12_3dCNN/figures-test/cluster9/event000009_frame07.npy'], -0.2348570414703069]\n",
      "(1, 8, 13, 21)\n",
      "10\n",
      "10\n"
     ]
    }
   ],
   "source": [
    "test_steps=NUMBER_TEST_SET \n",
    "truth = []\n",
    "pred = []\n",
    "\n",
    "for i in range(test_steps):\n",
    "    x, y = next(test_generator)\n",
    "    pred.append(model.predict(x))\n",
    "    truth.append(y) \n",
    "\n",
    "pred = np.concatenate(pred)\n",
    "truth = np.concatenate(truth)\n",
    "print(len(truth))\n",
    "print(len(pred))\n",
    "\n",
    "df_predict = pd.DataFrame(pred, columns=['cotBeta'])\n",
    "df_true = pd.DataFrame(truth, columns=['cotBeta'])\n",
    "df_predict.to_csv('predictions.csv')\n",
    "df_true.to_csv('trueLabels.csv')"
   ]
  },
  {
   "cell_type": "code",
   "execution_count": 20,
   "id": "5def2da4",
   "metadata": {},
   "outputs": [
    {
     "name": "stderr",
     "output_type": "stream",
     "text": [
      "/usr/local/lib/python3.9/site-packages/seaborn/distributions.py:2619: FutureWarning: `distplot` is a deprecated function and will be removed in a future version. Please adapt your code to use either `displot` (a figure-level function with similar flexibility) or `histplot` (an axes-level function for histograms).\n",
      "  warnings.warn(msg, FutureWarning)\n"
     ]
    },
    {
     "data": {
      "image/png": "[encoded data removed]",
      "text/plain": [
       "<Figure size 432x288 with 1 Axes>"
      ]
     },
     "metadata": {
      "needs_background": "light"
     },
     "output_type": "display_data"
    }
   ],
   "source": [
    "sns.distplot(df_true['cotBeta']-df_predict['cotBeta'], kde=False, bins=50)\n",
    "plt.xlabel('cotBeta residual')\n",
    "plt.ylabel('frequency')\n",
    "plt.xlim([-.3,.3])\n",
    "plt.title('Cot Beta Residual')\n",
    "plt.savefig('cotBeta-resolution.png')"
   ]
  }
 ],
 "metadata": {
  "kernelspec": {
   "display_name": "Python 3 (ipykernel)",
   "language": "python",
   "name": "python3"
  },
  "language_info": {
   "codemirror_mode": {
    "name": "ipython",
    "version": 3
   },
   "file_extension": ".py",
   "mimetype": "text/x-python",
   "name": "python",
   "nbconvert_exporter": "python",
   "pygments_lexer": "ipython3",
   "version": "3.9.4"
  }
 },
 "nbformat": 4,
 "nbformat_minor": 5
}
