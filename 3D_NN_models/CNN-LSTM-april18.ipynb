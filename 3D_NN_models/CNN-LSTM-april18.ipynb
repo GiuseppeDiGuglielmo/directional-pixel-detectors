{
 "cells": [
  {
   "cell_type": "code",
   "execution_count": 1,
   "id": "3f683539",
   "metadata": {},
   "outputs": [],
   "source": [
    "from sklearn.model_selection import train_test_split\n",
    "from sklearn.utils import shuffle\n",
    "from sklearn.metrics import mean_squared_error\n",
    "from sklearn.preprocessing import StandardScaler\n",
    "import tensorflow as tf\n",
    "import keras\n",
    "from tensorflow.keras import datasets, layers, models\n",
    "from keras.models import Sequential\n",
    "from keras.layers import Dense, Dropout, Flatten, Activation\n",
    "from keras.layers import Conv2D, MaxPooling2D, TimeDistributed, LSTM, Conv3D\n",
    "from tensorflow.keras.optimizers import Adam\n",
    "from keras.utils import np_utils\n",
    "from keras.callbacks import CSVLogger\n",
    "import os\n",
    "import matplotlib.pyplot as plt\n",
    "import numpy as np\n",
    "import pandas as pd\n",
    "from pandas import read_csv\n",
    "import math\n",
    "import seaborn as sns\n",
    "from collections import deque\n",
    "import copy"
   ]
  },
  {
   "cell_type": "code",
   "execution_count": 2,
   "id": "bed62e65",
   "metadata": {},
   "outputs": [],
   "source": [
    "def file_generator(data_path,data_files,temporal_stride=1,temporal_length=8):\n",
    "    print(data_files)\n",
    "    for f in data_files: \n",
    "        tmp_df = pd.read_csv(os.path.join(data_path,f), sep=',')\n",
    "        label_list = list(tmp_df['label'])  \n",
    "        total_images = len(label_list) \n",
    "        if total_images==temporal_length: \n",
    "            num_samples = int((total_images-temporal_length)/temporal_stride)+1\n",
    "            print ('num of frames: {}: {}'.format(f,num_samples))\n",
    "            img_list = list(tmp_df['FileName'])\n",
    "            #print(img_list)\n",
    "        else: # if the number of frames < than temporal length , discard it\n",
    "            print ('num of frames is less than temporal length; hence discarding this file-{}'.format(f))\n",
    "            continue\n",
    "\n",
    "        start_frame = 0\n",
    "        samples = deque()  \n",
    "        samp_count=0  \n",
    "        for img in img_list:\n",
    "            samples.append(img)\n",
    "            if len(samples)==temporal_length: \n",
    "                samples_c=copy.deepcopy(samples) \n",
    "                samp_count+=1\n",
    "                for t in range(temporal_stride): \n",
    "                    samples.popleft()\n",
    "                yield samples_c,label_list[0]  "
   ]
  },
  {
   "cell_type": "code",
   "execution_count": 3,
   "id": "f0e6b34a",
   "metadata": {},
   "outputs": [],
   "source": [
    "def load_samples(data_cat='train',temporal_stride=1,temporal_length=8):\n",
    "    data_path = os.path.join('data_files',data_cat)\n",
    "    data_files = os.listdir(data_path)\n",
    "    #print(data_files)\n",
    "    # define a generator to read the samples\n",
    "    file_gen = file_generator(data_path,data_files,temporal_stride,temporal_length)\n",
    "    iterator = True\n",
    "    data_list = []\n",
    "    while iterator:\n",
    "        try:\n",
    "            x,y = next(file_gen)\n",
    "            x=list(x)\n",
    "            data_list.append([x,y])\n",
    "        except Exception as e:\n",
    "            print ('Exception: ',e)\n",
    "            iterator = False\n",
    "            print ('end of data generator')\n",
    "    return data_list"
   ]
  },
  {
   "cell_type": "code",
   "execution_count": 4,
   "id": "425c3c7a",
   "metadata": {},
   "outputs": [
    {
     "name": "stdout",
     "output_type": "stream",
     "text": [
      "['cluster1.csv', 'cluster0.csv', 'cluster2.csv', 'cluster3.csv', 'cluster7.csv', 'cluster6.csv', 'cluster4.csv', 'cluster5.csv', 'cluster8.csv', 'cluster9.csv']\n",
      "num of frames: cluster1.csv: 1\n",
      "num of frames: cluster0.csv: 1\n",
      "num of frames: cluster2.csv: 1\n",
      "num of frames: cluster3.csv: 1\n",
      "num of frames: cluster7.csv: 1\n",
      "num of frames: cluster6.csv: 1\n",
      "num of frames: cluster4.csv: 1\n",
      "num of frames: cluster5.csv: 1\n",
      "num of frames: cluster8.csv: 1\n",
      "num of frames: cluster9.csv: 1\n",
      "Exception:  \n",
      "end of data generator\n"
     ]
    }
   ],
   "source": [
    "train_data = load_samples(data_cat='train',temporal_stride=1,temporal_length=8)"
   ]
  },
  {
   "cell_type": "code",
   "execution_count": 5,
   "id": "ddc52f89",
   "metadata": {},
   "outputs": [
    {
     "name": "stdout",
     "output_type": "stream",
     "text": [
      "Total number of train samples: 10\n"
     ]
    }
   ],
   "source": [
    "print ('Total number of train samples:',len(train_data))"
   ]
  },
  {
   "cell_type": "code",
   "execution_count": 6,
   "id": "5ed09b1b",
   "metadata": {},
   "outputs": [
    {
     "data": {
      "text/plain": [
       "[['/Users/jieunyoo/april12_3dCNN/figures/cluster1/event000001_frame00.npy',\n",
       "  '/Users/jieunyoo/april12_3dCNN/figures/cluster1/event000001_frame01.npy',\n",
       "  '/Users/jieunyoo/april12_3dCNN/figures/cluster1/event000001_frame02.npy',\n",
       "  '/Users/jieunyoo/april12_3dCNN/figures/cluster1/event000001_frame03.npy',\n",
       "  '/Users/jieunyoo/april12_3dCNN/figures/cluster1/event000001_frame04.npy',\n",
       "  '/Users/jieunyoo/april12_3dCNN/figures/cluster1/event000001_frame05.npy',\n",
       "  '/Users/jieunyoo/april12_3dCNN/figures/cluster1/event000001_frame06.npy',\n",
       "  '/Users/jieunyoo/april12_3dCNN/figures/cluster1/event000001_frame07.npy'],\n",
       " -0.0398580703991084]"
      ]
     },
     "execution_count": 6,
     "metadata": {},
     "output_type": "execute_result"
    }
   ],
   "source": [
    "train_data[0]"
   ]
  },
  {
   "cell_type": "code",
   "execution_count": 7,
   "id": "45c91fbe",
   "metadata": {},
   "outputs": [],
   "source": [
    "def shuffle_data(samples):\n",
    "    data = shuffle(samples,random_state=2)\n",
    "    return data"
   ]
  },
  {
   "cell_type": "code",
   "execution_count": 8,
   "id": "4e0142dd",
   "metadata": {},
   "outputs": [
    {
     "name": "stdout",
     "output_type": "stream",
     "text": [
      "10\n"
     ]
    }
   ],
   "source": [
    "def data_generator(data,batch_size=2,temporal_padding='same',shuffle=True):               \n",
    "    num_samples = len(data)\n",
    "    print(num_samples)\n",
    "    if shuffle:\n",
    "        data = shuffle_data(data)\n",
    "    while True:   \n",
    "        for offset in range(0, num_samples, batch_size):\n",
    "            print ('starting index: ', offset) \n",
    "            batch_samples = data[offset:offset+batch_size]\n",
    "            \n",
    "            X_train = []\n",
    "            y_train = []\n",
    "            \n",
    "            for batch_sample in batch_samples: \n",
    "                print(batch_sample)\n",
    "                # Load image (X)\n",
    "                x = batch_sample[0]\n",
    "                y = batch_sample[1]\n",
    "                temp_data_list = []\n",
    "                for img in x:\n",
    "                    try:\n",
    "                        img = np.load(img)                        \n",
    "                        temp_data_list.append(img)\n",
    "                    except Exception as e:\n",
    "                        print (e)\n",
    "                        print ('error reading in frame: ',img)                      \n",
    "\n",
    "                X_train.append(temp_data_list)\n",
    "                y_train.append(y)\n",
    "\n",
    "            X_train = np.array(X_train)   \n",
    "            y_train = np.array(y_train)\n",
    "            \n",
    "            scaler = StandardScaler()\n",
    "            X_train = scaler.fit_transform(X_train.reshape(-1, X_train.shape[-1])).reshape(X_train.shape)\n",
    "        \n",
    "            print(X_train.shape)               \n",
    "            yield X_train, y_train\n",
    "\n",
    "            \n",
    "print(len(train_data))\n",
    "train_generator = data_generator(train_data,batch_size=2,shuffle=True)\n",
    "#x,y = next(train_generator)\n",
    "#print ('x shape: ',x.shape) \n",
    "#print(X_train.shape)\n",
    "#xx,yy = next(train_generator)"
   ]
  },
  {
   "cell_type": "code",
   "execution_count": 9,
   "id": "0f849eb2",
   "metadata": {},
   "outputs": [
    {
     "name": "stderr",
     "output_type": "stream",
     "text": [
      "2022-04-18 08:41:30.488483: I tensorflow/core/platform/cpu_feature_guard.cc:151] This TensorFlow binary is optimized with oneAPI Deep Neural Network Library (oneDNN) to use the following CPU instructions in performance-critical operations:  AVX2 FMA\n",
      "To enable them in other operations, rebuild TensorFlow with the appropriate compiler flags.\n"
     ]
    },
    {
     "name": "stdout",
     "output_type": "stream",
     "text": [
      "Model: \"sequential\"\n",
      "_________________________________________________________________\n",
      " Layer (type)                Output Shape              Param #   \n",
      "=================================================================\n",
      " time_distributed (TimeDistr  (None, 8, 11, 19, 64)    640       \n",
      " ibuted)                                                         \n",
      "                                                                 \n",
      " time_distributed_1 (TimeDis  (None, 8, 9, 17, 64)     36928     \n",
      " tributed)                                                       \n",
      "                                                                 \n",
      " time_distributed_2 (TimeDis  (None, 8, 9792)          0         \n",
      " tributed)                                                       \n",
      "                                                                 \n",
      " lstm (LSTM)                 (None, 1024)              44306432  \n",
      "                                                                 \n",
      " dense (Dense)               (None, 1024)              1049600   \n",
      "                                                                 \n",
      " dense_1 (Dense)             (None, 1)                 1025      \n",
      "                                                                 \n",
      "=================================================================\n",
      "Total params: 45,394,625\n",
      "Trainable params: 45,394,625\n",
      "Non-trainable params: 0\n",
      "_________________________________________________________________\n"
     ]
    }
   ],
   "source": [
    "def get_model(num_classes=1):\n",
    "    model = Sequential()\n",
    "    model.add(\n",
    "    TimeDistributed(\n",
    "        Conv2D(64, (3,3), activation='relu'), \n",
    "        input_shape=(8, 13, 21, 1))\n",
    "    )\n",
    "    model.add(\n",
    "    TimeDistributed(\n",
    "        Conv2D(64, (3,3), activation='relu')\n",
    "        )\n",
    "    )\n",
    "    model.add(\n",
    "    TimeDistributed(\n",
    "        Flatten()\n",
    "        )\n",
    "    )        \n",
    "    model.add(LSTM(1024, activation='relu', return_sequences=False))\n",
    "    model.add(Dense(1024, activation='relu'))\n",
    "    #model.add(Dropout(.01))\n",
    "    model.add(Dense(1, activation='linear'))\n",
    "    model.compile(loss='Huber', optimizer=Adam(), metrics=['mean_squared_error'])\n",
    "    model.summary()\n",
    "    return model\n",
    "\n",
    "model = get_model()\n",
    "    "
   ]
  },
  {
   "cell_type": "code",
   "execution_count": 10,
   "id": "0f2b9ef4",
   "metadata": {},
   "outputs": [
    {
     "name": "stdout",
     "output_type": "stream",
     "text": [
      "10\n",
      "starting index:  0\n",
      "[['/Users/jieunyoo/april12_3dCNN/figures/cluster7/event000007_frame00.npy', '/Users/jieunyoo/april12_3dCNN/figures/cluster7/event000007_frame01.npy', '/Users/jieunyoo/april12_3dCNN/figures/cluster7/event000007_frame02.npy', '/Users/jieunyoo/april12_3dCNN/figures/cluster7/event000007_frame03.npy', '/Users/jieunyoo/april12_3dCNN/figures/cluster7/event000007_frame04.npy', '/Users/jieunyoo/april12_3dCNN/figures/cluster7/event000007_frame05.npy', '/Users/jieunyoo/april12_3dCNN/figures/cluster7/event000007_frame06.npy', '/Users/jieunyoo/april12_3dCNN/figures/cluster7/event000007_frame07.npy'], 0.2371483913959306]\n",
      "[['/Users/jieunyoo/april12_3dCNN/figures/cluster0/event000000_frame00.npy', '/Users/jieunyoo/april12_3dCNN/figures/cluster0/event000000_frame01.npy', '/Users/jieunyoo/april12_3dCNN/figures/cluster0/event000000_frame02.npy', '/Users/jieunyoo/april12_3dCNN/figures/cluster0/event000000_frame03.npy', '/Users/jieunyoo/april12_3dCNN/figures/cluster0/event000000_frame04.npy', '/Users/jieunyoo/april12_3dCNN/figures/cluster0/event000000_frame05.npy', '/Users/jieunyoo/april12_3dCNN/figures/cluster0/event000000_frame06.npy', '/Users/jieunyoo/april12_3dCNN/figures/cluster0/event000000_frame07.npy'], -0.1132745164574143]\n",
      "(2, 8, 13, 21)\n",
      "Epoch 1/2\n",
      "starting index:  2\n",
      "[['/Users/jieunyoo/april12_3dCNN/figures/cluster6/event000006_frame00.npy', '/Users/jieunyoo/april12_3dCNN/figures/cluster6/event000006_frame01.npy', '/Users/jieunyoo/april12_3dCNN/figures/cluster6/event000006_frame02.npy', '/Users/jieunyoo/april12_3dCNN/figures/cluster6/event000006_frame03.npy', '/Users/jieunyoo/april12_3dCNN/figures/cluster6/event000006_frame04.npy', '/Users/jieunyoo/april12_3dCNN/figures/cluster6/event000006_frame05.npy', '/Users/jieunyoo/april12_3dCNN/figures/cluster6/event000006_frame06.npy', '/Users/jieunyoo/april12_3dCNN/figures/cluster6/event000006_frame07.npy'], -0.2465167654585621]\n",
      "[['/Users/jieunyoo/april12_3dCNN/figures/cluster1/event000001_frame00.npy', '/Users/jieunyoo/april12_3dCNN/figures/cluster1/event000001_frame01.npy', '/Users/jieunyoo/april12_3dCNN/figures/cluster1/event000001_frame02.npy', '/Users/jieunyoo/april12_3dCNN/figures/cluster1/event000001_frame03.npy', '/Users/jieunyoo/april12_3dCNN/figures/cluster1/event000001_frame04.npy', '/Users/jieunyoo/april12_3dCNN/figures/cluster1/event000001_frame05.npy', '/Users/jieunyoo/april12_3dCNN/figures/cluster1/event000001_frame06.npy', '/Users/jieunyoo/april12_3dCNN/figures/cluster1/event000001_frame07.npy'], -0.0398580703991084]\n",
      "(2, 8, 13, 21)\n",
      " 1/10 [==>...........................] - ETA: 18s - loss: 0.0130 - mean_squared_error: 0.0260starting index:  4\n",
      "[['/Users/jieunyoo/april12_3dCNN/figures/cluster5/event000005_frame00.npy', '/Users/jieunyoo/april12_3dCNN/figures/cluster5/event000005_frame01.npy', '/Users/jieunyoo/april12_3dCNN/figures/cluster5/event000005_frame02.npy', '/Users/jieunyoo/april12_3dCNN/figures/cluster5/event000005_frame03.npy', '/Users/jieunyoo/april12_3dCNN/figures/cluster5/event000005_frame04.npy', '/Users/jieunyoo/april12_3dCNN/figures/cluster5/event000005_frame05.npy', '/Users/jieunyoo/april12_3dCNN/figures/cluster5/event000005_frame06.npy', '/Users/jieunyoo/april12_3dCNN/figures/cluster5/event000005_frame07.npy'], 0.0981641229120418]\n",
      "[['/Users/jieunyoo/april12_3dCNN/figures/cluster2/event000002_frame00.npy', '/Users/jieunyoo/april12_3dCNN/figures/cluster2/event000002_frame01.npy', '/Users/jieunyoo/april12_3dCNN/figures/cluster2/event000002_frame02.npy', '/Users/jieunyoo/april12_3dCNN/figures/cluster2/event000002_frame03.npy', '/Users/jieunyoo/april12_3dCNN/figures/cluster2/event000002_frame04.npy', '/Users/jieunyoo/april12_3dCNN/figures/cluster2/event000002_frame05.npy', '/Users/jieunyoo/april12_3dCNN/figures/cluster2/event000002_frame06.npy', '/Users/jieunyoo/april12_3dCNN/figures/cluster2/event000002_frame07.npy'], 0.2040737068630721]\n",
      "(2, 8, 13, 21)\n",
      " 2/10 [=====>........................] - ETA: 7s - loss: 0.0271 - mean_squared_error: 0.0542 starting index:  6\n",
      "[['/Users/jieunyoo/april12_3dCNN/figures/cluster3/event000003_frame00.npy', '/Users/jieunyoo/april12_3dCNN/figures/cluster3/event000003_frame01.npy', '/Users/jieunyoo/april12_3dCNN/figures/cluster3/event000003_frame02.npy', '/Users/jieunyoo/april12_3dCNN/figures/cluster3/event000003_frame03.npy', '/Users/jieunyoo/april12_3dCNN/figures/cluster3/event000003_frame04.npy', '/Users/jieunyoo/april12_3dCNN/figures/cluster3/event000003_frame05.npy', '/Users/jieunyoo/april12_3dCNN/figures/cluster3/event000003_frame06.npy', '/Users/jieunyoo/april12_3dCNN/figures/cluster3/event000003_frame07.npy'], 0.1443460621105261]\n",
      "[['/Users/jieunyoo/april12_3dCNN/figures/cluster4/event000004_frame00.npy', '/Users/jieunyoo/april12_3dCNN/figures/cluster4/event000004_frame01.npy', '/Users/jieunyoo/april12_3dCNN/figures/cluster4/event000004_frame02.npy', '/Users/jieunyoo/april12_3dCNN/figures/cluster4/event000004_frame03.npy', '/Users/jieunyoo/april12_3dCNN/figures/cluster4/event000004_frame04.npy', '/Users/jieunyoo/april12_3dCNN/figures/cluster4/event000004_frame05.npy', '/Users/jieunyoo/april12_3dCNN/figures/cluster4/event000004_frame06.npy', '/Users/jieunyoo/april12_3dCNN/figures/cluster4/event000004_frame07.npy'], -0.154822719634697]\n",
      "(2, 8, 13, 21)\n",
      " 3/10 [========>.....................] - ETA: 6s - loss: 1.7606 - mean_squared_error: 15.4951starting index:  8\n",
      "[['/Users/jieunyoo/april12_3dCNN/figures/cluster9/event000009_frame00.npy', '/Users/jieunyoo/april12_3dCNN/figures/cluster9/event000009_frame01.npy', '/Users/jieunyoo/april12_3dCNN/figures/cluster9/event000009_frame02.npy', '/Users/jieunyoo/april12_3dCNN/figures/cluster9/event000009_frame03.npy', '/Users/jieunyoo/april12_3dCNN/figures/cluster9/event000009_frame04.npy', '/Users/jieunyoo/april12_3dCNN/figures/cluster9/event000009_frame05.npy', '/Users/jieunyoo/april12_3dCNN/figures/cluster9/event000009_frame06.npy', '/Users/jieunyoo/april12_3dCNN/figures/cluster9/event000009_frame07.npy'], 0.175330401018919]\n",
      "[['/Users/jieunyoo/april12_3dCNN/figures/cluster8/event000008_frame00.npy', '/Users/jieunyoo/april12_3dCNN/figures/cluster8/event000008_frame01.npy', '/Users/jieunyoo/april12_3dCNN/figures/cluster8/event000008_frame02.npy', '/Users/jieunyoo/april12_3dCNN/figures/cluster8/event000008_frame03.npy', '/Users/jieunyoo/april12_3dCNN/figures/cluster8/event000008_frame04.npy', '/Users/jieunyoo/april12_3dCNN/figures/cluster8/event000008_frame05.npy', '/Users/jieunyoo/april12_3dCNN/figures/cluster8/event000008_frame06.npy', '/Users/jieunyoo/april12_3dCNN/figures/cluster8/event000008_frame07.npy'], 0.0323468647358247]\n",
      "(2, 8, 13, 21)\n",
      " 4/10 [===========>..................] - ETA: 5s - loss: 1.3278 - mean_squared_error: 11.6360starting index:  0\n",
      "[['/Users/jieunyoo/april12_3dCNN/figures/cluster7/event000007_frame00.npy', '/Users/jieunyoo/april12_3dCNN/figures/cluster7/event000007_frame01.npy', '/Users/jieunyoo/april12_3dCNN/figures/cluster7/event000007_frame02.npy', '/Users/jieunyoo/april12_3dCNN/figures/cluster7/event000007_frame03.npy', '/Users/jieunyoo/april12_3dCNN/figures/cluster7/event000007_frame04.npy', '/Users/jieunyoo/april12_3dCNN/figures/cluster7/event000007_frame05.npy', '/Users/jieunyoo/april12_3dCNN/figures/cluster7/event000007_frame06.npy', '/Users/jieunyoo/april12_3dCNN/figures/cluster7/event000007_frame07.npy'], 0.2371483913959306]\n",
      "[['/Users/jieunyoo/april12_3dCNN/figures/cluster0/event000000_frame00.npy', '/Users/jieunyoo/april12_3dCNN/figures/cluster0/event000000_frame01.npy', '/Users/jieunyoo/april12_3dCNN/figures/cluster0/event000000_frame02.npy', '/Users/jieunyoo/april12_3dCNN/figures/cluster0/event000000_frame03.npy', '/Users/jieunyoo/april12_3dCNN/figures/cluster0/event000000_frame04.npy', '/Users/jieunyoo/april12_3dCNN/figures/cluster0/event000000_frame05.npy', '/Users/jieunyoo/april12_3dCNN/figures/cluster0/event000000_frame06.npy', '/Users/jieunyoo/april12_3dCNN/figures/cluster0/event000000_frame07.npy'], -0.1132745164574143]\n",
      "(2, 8, 13, 21)\n",
      " 5/10 [==============>...............] - ETA: 4s - loss: 1.4500 - mean_squared_error: 10.6277starting index:  2\n",
      "[['/Users/jieunyoo/april12_3dCNN/figures/cluster6/event000006_frame00.npy', '/Users/jieunyoo/april12_3dCNN/figures/cluster6/event000006_frame01.npy', '/Users/jieunyoo/april12_3dCNN/figures/cluster6/event000006_frame02.npy', '/Users/jieunyoo/april12_3dCNN/figures/cluster6/event000006_frame03.npy', '/Users/jieunyoo/april12_3dCNN/figures/cluster6/event000006_frame04.npy', '/Users/jieunyoo/april12_3dCNN/figures/cluster6/event000006_frame05.npy', '/Users/jieunyoo/april12_3dCNN/figures/cluster6/event000006_frame06.npy', '/Users/jieunyoo/april12_3dCNN/figures/cluster6/event000006_frame07.npy'], -0.2465167654585621]\n",
      "[['/Users/jieunyoo/april12_3dCNN/figures/cluster1/event000001_frame00.npy', '/Users/jieunyoo/april12_3dCNN/figures/cluster1/event000001_frame01.npy', '/Users/jieunyoo/april12_3dCNN/figures/cluster1/event000001_frame02.npy', '/Users/jieunyoo/april12_3dCNN/figures/cluster1/event000001_frame03.npy', '/Users/jieunyoo/april12_3dCNN/figures/cluster1/event000001_frame04.npy', '/Users/jieunyoo/april12_3dCNN/figures/cluster1/event000001_frame05.npy', '/Users/jieunyoo/april12_3dCNN/figures/cluster1/event000001_frame06.npy', '/Users/jieunyoo/april12_3dCNN/figures/cluster1/event000001_frame07.npy'], -0.0398580703991084]\n",
      "(2, 8, 13, 21)\n"
     ]
    },
    {
     "name": "stdout",
     "output_type": "stream",
     "text": [
      " 6/10 [=================>............] - ETA: 3s - loss: 1.2297 - mean_squared_error: 8.8991 starting index:  4\n",
      "[['/Users/jieunyoo/april12_3dCNN/figures/cluster5/event000005_frame00.npy', '/Users/jieunyoo/april12_3dCNN/figures/cluster5/event000005_frame01.npy', '/Users/jieunyoo/april12_3dCNN/figures/cluster5/event000005_frame02.npy', '/Users/jieunyoo/april12_3dCNN/figures/cluster5/event000005_frame03.npy', '/Users/jieunyoo/april12_3dCNN/figures/cluster5/event000005_frame04.npy', '/Users/jieunyoo/april12_3dCNN/figures/cluster5/event000005_frame05.npy', '/Users/jieunyoo/april12_3dCNN/figures/cluster5/event000005_frame06.npy', '/Users/jieunyoo/april12_3dCNN/figures/cluster5/event000005_frame07.npy'], 0.0981641229120418]\n",
      "[['/Users/jieunyoo/april12_3dCNN/figures/cluster2/event000002_frame00.npy', '/Users/jieunyoo/april12_3dCNN/figures/cluster2/event000002_frame01.npy', '/Users/jieunyoo/april12_3dCNN/figures/cluster2/event000002_frame02.npy', '/Users/jieunyoo/april12_3dCNN/figures/cluster2/event000002_frame03.npy', '/Users/jieunyoo/april12_3dCNN/figures/cluster2/event000002_frame04.npy', '/Users/jieunyoo/april12_3dCNN/figures/cluster2/event000002_frame05.npy', '/Users/jieunyoo/april12_3dCNN/figures/cluster2/event000002_frame06.npy', '/Users/jieunyoo/april12_3dCNN/figures/cluster2/event000002_frame07.npy'], 0.2040737068630721]\n",
      "(2, 8, 13, 21)\n",
      " 7/10 [====================>.........] - ETA: 2s - loss: 1.0549 - mean_squared_error: 7.6296starting index:  6\n",
      "[['/Users/jieunyoo/april12_3dCNN/figures/cluster3/event000003_frame00.npy', '/Users/jieunyoo/april12_3dCNN/figures/cluster3/event000003_frame01.npy', '/Users/jieunyoo/april12_3dCNN/figures/cluster3/event000003_frame02.npy', '/Users/jieunyoo/april12_3dCNN/figures/cluster3/event000003_frame03.npy', '/Users/jieunyoo/april12_3dCNN/figures/cluster3/event000003_frame04.npy', '/Users/jieunyoo/april12_3dCNN/figures/cluster3/event000003_frame05.npy', '/Users/jieunyoo/april12_3dCNN/figures/cluster3/event000003_frame06.npy', '/Users/jieunyoo/april12_3dCNN/figures/cluster3/event000003_frame07.npy'], 0.1443460621105261]\n",
      "[['/Users/jieunyoo/april12_3dCNN/figures/cluster4/event000004_frame00.npy', '/Users/jieunyoo/april12_3dCNN/figures/cluster4/event000004_frame01.npy', '/Users/jieunyoo/april12_3dCNN/figures/cluster4/event000004_frame02.npy', '/Users/jieunyoo/april12_3dCNN/figures/cluster4/event000004_frame03.npy', '/Users/jieunyoo/april12_3dCNN/figures/cluster4/event000004_frame04.npy', '/Users/jieunyoo/april12_3dCNN/figures/cluster4/event000004_frame05.npy', '/Users/jieunyoo/april12_3dCNN/figures/cluster4/event000004_frame06.npy', '/Users/jieunyoo/april12_3dCNN/figures/cluster4/event000004_frame07.npy'], -0.154822719634697]\n",
      "(2, 8, 13, 21)\n",
      " 8/10 [=======================>......] - ETA: 1s - loss: 0.9391 - mean_squared_error: 6.7080starting index:  8\n",
      "[['/Users/jieunyoo/april12_3dCNN/figures/cluster9/event000009_frame00.npy', '/Users/jieunyoo/april12_3dCNN/figures/cluster9/event000009_frame01.npy', '/Users/jieunyoo/april12_3dCNN/figures/cluster9/event000009_frame02.npy', '/Users/jieunyoo/april12_3dCNN/figures/cluster9/event000009_frame03.npy', '/Users/jieunyoo/april12_3dCNN/figures/cluster9/event000009_frame04.npy', '/Users/jieunyoo/april12_3dCNN/figures/cluster9/event000009_frame05.npy', '/Users/jieunyoo/april12_3dCNN/figures/cluster9/event000009_frame06.npy', '/Users/jieunyoo/april12_3dCNN/figures/cluster9/event000009_frame07.npy'], 0.175330401018919]\n",
      "[['/Users/jieunyoo/april12_3dCNN/figures/cluster8/event000008_frame00.npy', '/Users/jieunyoo/april12_3dCNN/figures/cluster8/event000008_frame01.npy', '/Users/jieunyoo/april12_3dCNN/figures/cluster8/event000008_frame02.npy', '/Users/jieunyoo/april12_3dCNN/figures/cluster8/event000008_frame03.npy', '/Users/jieunyoo/april12_3dCNN/figures/cluster8/event000008_frame04.npy', '/Users/jieunyoo/april12_3dCNN/figures/cluster8/event000008_frame05.npy', '/Users/jieunyoo/april12_3dCNN/figures/cluster8/event000008_frame06.npy', '/Users/jieunyoo/april12_3dCNN/figures/cluster8/event000008_frame07.npy'], 0.0323468647358247]\n",
      "(2, 8, 13, 21)\n",
      " 9/10 [==========================>...] - ETA: 0s - loss: 0.8371 - mean_squared_error: 5.9674starting index:  0\n",
      "[['/Users/jieunyoo/april12_3dCNN/figures/cluster7/event000007_frame00.npy', '/Users/jieunyoo/april12_3dCNN/figures/cluster7/event000007_frame01.npy', '/Users/jieunyoo/april12_3dCNN/figures/cluster7/event000007_frame02.npy', '/Users/jieunyoo/april12_3dCNN/figures/cluster7/event000007_frame03.npy', '/Users/jieunyoo/april12_3dCNN/figures/cluster7/event000007_frame04.npy', '/Users/jieunyoo/april12_3dCNN/figures/cluster7/event000007_frame05.npy', '/Users/jieunyoo/april12_3dCNN/figures/cluster7/event000007_frame06.npy', '/Users/jieunyoo/april12_3dCNN/figures/cluster7/event000007_frame07.npy'], 0.2371483913959306]\n",
      "[['/Users/jieunyoo/april12_3dCNN/figures/cluster0/event000000_frame00.npy', '/Users/jieunyoo/april12_3dCNN/figures/cluster0/event000000_frame01.npy', '/Users/jieunyoo/april12_3dCNN/figures/cluster0/event000000_frame02.npy', '/Users/jieunyoo/april12_3dCNN/figures/cluster0/event000000_frame03.npy', '/Users/jieunyoo/april12_3dCNN/figures/cluster0/event000000_frame04.npy', '/Users/jieunyoo/april12_3dCNN/figures/cluster0/event000000_frame05.npy', '/Users/jieunyoo/april12_3dCNN/figures/cluster0/event000000_frame06.npy', '/Users/jieunyoo/april12_3dCNN/figures/cluster0/event000000_frame07.npy'], -0.1132745164574143]\n",
      "(2, 8, 13, 21)\n",
      "10/10 [==============================] - 11s 972ms/step - loss: 0.7614 - mean_squared_error: 5.3868\n",
      "Epoch 2/2\n",
      "starting index:  2\n",
      "[['/Users/jieunyoo/april12_3dCNN/figures/cluster6/event000006_frame00.npy', '/Users/jieunyoo/april12_3dCNN/figures/cluster6/event000006_frame01.npy', '/Users/jieunyoo/april12_3dCNN/figures/cluster6/event000006_frame02.npy', '/Users/jieunyoo/april12_3dCNN/figures/cluster6/event000006_frame03.npy', '/Users/jieunyoo/april12_3dCNN/figures/cluster6/event000006_frame04.npy', '/Users/jieunyoo/april12_3dCNN/figures/cluster6/event000006_frame05.npy', '/Users/jieunyoo/april12_3dCNN/figures/cluster6/event000006_frame06.npy', '/Users/jieunyoo/april12_3dCNN/figures/cluster6/event000006_frame07.npy'], -0.2465167654585621]\n",
      "[['/Users/jieunyoo/april12_3dCNN/figures/cluster1/event000001_frame00.npy', '/Users/jieunyoo/april12_3dCNN/figures/cluster1/event000001_frame01.npy', '/Users/jieunyoo/april12_3dCNN/figures/cluster1/event000001_frame02.npy', '/Users/jieunyoo/april12_3dCNN/figures/cluster1/event000001_frame03.npy', '/Users/jieunyoo/april12_3dCNN/figures/cluster1/event000001_frame04.npy', '/Users/jieunyoo/april12_3dCNN/figures/cluster1/event000001_frame05.npy', '/Users/jieunyoo/april12_3dCNN/figures/cluster1/event000001_frame06.npy', '/Users/jieunyoo/april12_3dCNN/figures/cluster1/event000001_frame07.npy'], -0.0398580703991084]\n",
      "(2, 8, 13, 21)\n",
      " 1/10 [==>...........................] - ETA: 8s - loss: 0.1522 - mean_squared_error: 0.3045starting index:  4\n",
      "[['/Users/jieunyoo/april12_3dCNN/figures/cluster5/event000005_frame00.npy', '/Users/jieunyoo/april12_3dCNN/figures/cluster5/event000005_frame01.npy', '/Users/jieunyoo/april12_3dCNN/figures/cluster5/event000005_frame02.npy', '/Users/jieunyoo/april12_3dCNN/figures/cluster5/event000005_frame03.npy', '/Users/jieunyoo/april12_3dCNN/figures/cluster5/event000005_frame04.npy', '/Users/jieunyoo/april12_3dCNN/figures/cluster5/event000005_frame05.npy', '/Users/jieunyoo/april12_3dCNN/figures/cluster5/event000005_frame06.npy', '/Users/jieunyoo/april12_3dCNN/figures/cluster5/event000005_frame07.npy'], 0.0981641229120418]\n",
      "[['/Users/jieunyoo/april12_3dCNN/figures/cluster2/event000002_frame00.npy', '/Users/jieunyoo/april12_3dCNN/figures/cluster2/event000002_frame01.npy', '/Users/jieunyoo/april12_3dCNN/figures/cluster2/event000002_frame02.npy', '/Users/jieunyoo/april12_3dCNN/figures/cluster2/event000002_frame03.npy', '/Users/jieunyoo/april12_3dCNN/figures/cluster2/event000002_frame04.npy', '/Users/jieunyoo/april12_3dCNN/figures/cluster2/event000002_frame05.npy', '/Users/jieunyoo/april12_3dCNN/figures/cluster2/event000002_frame06.npy', '/Users/jieunyoo/april12_3dCNN/figures/cluster2/event000002_frame07.npy'], 0.2040737068630721]\n",
      "(2, 8, 13, 21)\n"
     ]
    },
    {
     "name": "stdout",
     "output_type": "stream",
     "text": [
      " 2/10 [=====>........................] - ETA: 7s - loss: 0.0809 - mean_squared_error: 0.1618starting index:  6\n",
      "[['/Users/jieunyoo/april12_3dCNN/figures/cluster3/event000003_frame00.npy', '/Users/jieunyoo/april12_3dCNN/figures/cluster3/event000003_frame01.npy', '/Users/jieunyoo/april12_3dCNN/figures/cluster3/event000003_frame02.npy', '/Users/jieunyoo/april12_3dCNN/figures/cluster3/event000003_frame03.npy', '/Users/jieunyoo/april12_3dCNN/figures/cluster3/event000003_frame04.npy', '/Users/jieunyoo/april12_3dCNN/figures/cluster3/event000003_frame05.npy', '/Users/jieunyoo/april12_3dCNN/figures/cluster3/event000003_frame06.npy', '/Users/jieunyoo/april12_3dCNN/figures/cluster3/event000003_frame07.npy'], 0.1443460621105261]\n",
      "[['/Users/jieunyoo/april12_3dCNN/figures/cluster4/event000004_frame00.npy', '/Users/jieunyoo/april12_3dCNN/figures/cluster4/event000004_frame01.npy', '/Users/jieunyoo/april12_3dCNN/figures/cluster4/event000004_frame02.npy', '/Users/jieunyoo/april12_3dCNN/figures/cluster4/event000004_frame03.npy', '/Users/jieunyoo/april12_3dCNN/figures/cluster4/event000004_frame04.npy', '/Users/jieunyoo/april12_3dCNN/figures/cluster4/event000004_frame05.npy', '/Users/jieunyoo/april12_3dCNN/figures/cluster4/event000004_frame06.npy', '/Users/jieunyoo/april12_3dCNN/figures/cluster4/event000004_frame07.npy'], -0.154822719634697]\n",
      "(2, 8, 13, 21)\n",
      " 3/10 [========>.....................] - ETA: 6s - loss: 0.0608 - mean_squared_error: 0.1215starting index:  8\n",
      "[['/Users/jieunyoo/april12_3dCNN/figures/cluster9/event000009_frame00.npy', '/Users/jieunyoo/april12_3dCNN/figures/cluster9/event000009_frame01.npy', '/Users/jieunyoo/april12_3dCNN/figures/cluster9/event000009_frame02.npy', '/Users/jieunyoo/april12_3dCNN/figures/cluster9/event000009_frame03.npy', '/Users/jieunyoo/april12_3dCNN/figures/cluster9/event000009_frame04.npy', '/Users/jieunyoo/april12_3dCNN/figures/cluster9/event000009_frame05.npy', '/Users/jieunyoo/april12_3dCNN/figures/cluster9/event000009_frame06.npy', '/Users/jieunyoo/april12_3dCNN/figures/cluster9/event000009_frame07.npy'], 0.175330401018919]\n",
      "[['/Users/jieunyoo/april12_3dCNN/figures/cluster8/event000008_frame00.npy', '/Users/jieunyoo/april12_3dCNN/figures/cluster8/event000008_frame01.npy', '/Users/jieunyoo/april12_3dCNN/figures/cluster8/event000008_frame02.npy', '/Users/jieunyoo/april12_3dCNN/figures/cluster8/event000008_frame03.npy', '/Users/jieunyoo/april12_3dCNN/figures/cluster8/event000008_frame04.npy', '/Users/jieunyoo/april12_3dCNN/figures/cluster8/event000008_frame05.npy', '/Users/jieunyoo/april12_3dCNN/figures/cluster8/event000008_frame06.npy', '/Users/jieunyoo/april12_3dCNN/figures/cluster8/event000008_frame07.npy'], 0.0323468647358247]\n",
      "(2, 8, 13, 21)\n",
      " 4/10 [===========>..................] - ETA: 5s - loss: 0.0481 - mean_squared_error: 0.0961starting index:  0\n",
      "[['/Users/jieunyoo/april12_3dCNN/figures/cluster7/event000007_frame00.npy', '/Users/jieunyoo/april12_3dCNN/figures/cluster7/event000007_frame01.npy', '/Users/jieunyoo/april12_3dCNN/figures/cluster7/event000007_frame02.npy', '/Users/jieunyoo/april12_3dCNN/figures/cluster7/event000007_frame03.npy', '/Users/jieunyoo/april12_3dCNN/figures/cluster7/event000007_frame04.npy', '/Users/jieunyoo/april12_3dCNN/figures/cluster7/event000007_frame05.npy', '/Users/jieunyoo/april12_3dCNN/figures/cluster7/event000007_frame06.npy', '/Users/jieunyoo/april12_3dCNN/figures/cluster7/event000007_frame07.npy'], 0.2371483913959306]\n",
      "[['/Users/jieunyoo/april12_3dCNN/figures/cluster0/event000000_frame00.npy', '/Users/jieunyoo/april12_3dCNN/figures/cluster0/event000000_frame01.npy', '/Users/jieunyoo/april12_3dCNN/figures/cluster0/event000000_frame02.npy', '/Users/jieunyoo/april12_3dCNN/figures/cluster0/event000000_frame03.npy', '/Users/jieunyoo/april12_3dCNN/figures/cluster0/event000000_frame04.npy', '/Users/jieunyoo/april12_3dCNN/figures/cluster0/event000000_frame05.npy', '/Users/jieunyoo/april12_3dCNN/figures/cluster0/event000000_frame06.npy', '/Users/jieunyoo/april12_3dCNN/figures/cluster0/event000000_frame07.npy'], -0.1132745164574143]\n",
      "(2, 8, 13, 21)\n",
      " 5/10 [==============>...............] - ETA: 4s - loss: 0.0400 - mean_squared_error: 0.0799starting index:  2\n",
      "[['/Users/jieunyoo/april12_3dCNN/figures/cluster6/event000006_frame00.npy', '/Users/jieunyoo/april12_3dCNN/figures/cluster6/event000006_frame01.npy', '/Users/jieunyoo/april12_3dCNN/figures/cluster6/event000006_frame02.npy', '/Users/jieunyoo/april12_3dCNN/figures/cluster6/event000006_frame03.npy', '/Users/jieunyoo/april12_3dCNN/figures/cluster6/event000006_frame04.npy', '/Users/jieunyoo/april12_3dCNN/figures/cluster6/event000006_frame05.npy', '/Users/jieunyoo/april12_3dCNN/figures/cluster6/event000006_frame06.npy', '/Users/jieunyoo/april12_3dCNN/figures/cluster6/event000006_frame07.npy'], -0.2465167654585621]\n",
      "[['/Users/jieunyoo/april12_3dCNN/figures/cluster1/event000001_frame00.npy', '/Users/jieunyoo/april12_3dCNN/figures/cluster1/event000001_frame01.npy', '/Users/jieunyoo/april12_3dCNN/figures/cluster1/event000001_frame02.npy', '/Users/jieunyoo/april12_3dCNN/figures/cluster1/event000001_frame03.npy', '/Users/jieunyoo/april12_3dCNN/figures/cluster1/event000001_frame04.npy', '/Users/jieunyoo/april12_3dCNN/figures/cluster1/event000001_frame05.npy', '/Users/jieunyoo/april12_3dCNN/figures/cluster1/event000001_frame06.npy', '/Users/jieunyoo/april12_3dCNN/figures/cluster1/event000001_frame07.npy'], -0.0398580703991084]\n",
      "(2, 8, 13, 21)\n",
      " 6/10 [=================>............] - ETA: 3s - loss: 0.0360 - mean_squared_error: 0.0719starting index:  4\n",
      "[['/Users/jieunyoo/april12_3dCNN/figures/cluster5/event000005_frame00.npy', '/Users/jieunyoo/april12_3dCNN/figures/cluster5/event000005_frame01.npy', '/Users/jieunyoo/april12_3dCNN/figures/cluster5/event000005_frame02.npy', '/Users/jieunyoo/april12_3dCNN/figures/cluster5/event000005_frame03.npy', '/Users/jieunyoo/april12_3dCNN/figures/cluster5/event000005_frame04.npy', '/Users/jieunyoo/april12_3dCNN/figures/cluster5/event000005_frame05.npy', '/Users/jieunyoo/april12_3dCNN/figures/cluster5/event000005_frame06.npy', '/Users/jieunyoo/april12_3dCNN/figures/cluster5/event000005_frame07.npy'], 0.0981641229120418]\n",
      "[['/Users/jieunyoo/april12_3dCNN/figures/cluster2/event000002_frame00.npy', '/Users/jieunyoo/april12_3dCNN/figures/cluster2/event000002_frame01.npy', '/Users/jieunyoo/april12_3dCNN/figures/cluster2/event000002_frame02.npy', '/Users/jieunyoo/april12_3dCNN/figures/cluster2/event000002_frame03.npy', '/Users/jieunyoo/april12_3dCNN/figures/cluster2/event000002_frame04.npy', '/Users/jieunyoo/april12_3dCNN/figures/cluster2/event000002_frame05.npy', '/Users/jieunyoo/april12_3dCNN/figures/cluster2/event000002_frame06.npy', '/Users/jieunyoo/april12_3dCNN/figures/cluster2/event000002_frame07.npy'], 0.2040737068630721]\n",
      "(2, 8, 13, 21)\n",
      " 7/10 [====================>.........] - ETA: 2s - loss: 0.0331 - mean_squared_error: 0.0663starting index:  6\n",
      "[['/Users/jieunyoo/april12_3dCNN/figures/cluster3/event000003_frame00.npy', '/Users/jieunyoo/april12_3dCNN/figures/cluster3/event000003_frame01.npy', '/Users/jieunyoo/april12_3dCNN/figures/cluster3/event000003_frame02.npy', '/Users/jieunyoo/april12_3dCNN/figures/cluster3/event000003_frame03.npy', '/Users/jieunyoo/april12_3dCNN/figures/cluster3/event000003_frame04.npy', '/Users/jieunyoo/april12_3dCNN/figures/cluster3/event000003_frame05.npy', '/Users/jieunyoo/april12_3dCNN/figures/cluster3/event000003_frame06.npy', '/Users/jieunyoo/april12_3dCNN/figures/cluster3/event000003_frame07.npy'], 0.1443460621105261]\n",
      "[['/Users/jieunyoo/april12_3dCNN/figures/cluster4/event000004_frame00.npy', '/Users/jieunyoo/april12_3dCNN/figures/cluster4/event000004_frame01.npy', '/Users/jieunyoo/april12_3dCNN/figures/cluster4/event000004_frame02.npy', '/Users/jieunyoo/april12_3dCNN/figures/cluster4/event000004_frame03.npy', '/Users/jieunyoo/april12_3dCNN/figures/cluster4/event000004_frame04.npy', '/Users/jieunyoo/april12_3dCNN/figures/cluster4/event000004_frame05.npy', '/Users/jieunyoo/april12_3dCNN/figures/cluster4/event000004_frame06.npy', '/Users/jieunyoo/april12_3dCNN/figures/cluster4/event000004_frame07.npy'], -0.154822719634697]\n",
      "(2, 8, 13, 21)\n"
     ]
    },
    {
     "name": "stdout",
     "output_type": "stream",
     "text": [
      " 8/10 [=======================>......] - ETA: 1s - loss: 0.0302 - mean_squared_error: 0.0603starting index:  8\n",
      "[['/Users/jieunyoo/april12_3dCNN/figures/cluster9/event000009_frame00.npy', '/Users/jieunyoo/april12_3dCNN/figures/cluster9/event000009_frame01.npy', '/Users/jieunyoo/april12_3dCNN/figures/cluster9/event000009_frame02.npy', '/Users/jieunyoo/april12_3dCNN/figures/cluster9/event000009_frame03.npy', '/Users/jieunyoo/april12_3dCNN/figures/cluster9/event000009_frame04.npy', '/Users/jieunyoo/april12_3dCNN/figures/cluster9/event000009_frame05.npy', '/Users/jieunyoo/april12_3dCNN/figures/cluster9/event000009_frame06.npy', '/Users/jieunyoo/april12_3dCNN/figures/cluster9/event000009_frame07.npy'], 0.175330401018919]\n",
      "[['/Users/jieunyoo/april12_3dCNN/figures/cluster8/event000008_frame00.npy', '/Users/jieunyoo/april12_3dCNN/figures/cluster8/event000008_frame01.npy', '/Users/jieunyoo/april12_3dCNN/figures/cluster8/event000008_frame02.npy', '/Users/jieunyoo/april12_3dCNN/figures/cluster8/event000008_frame03.npy', '/Users/jieunyoo/april12_3dCNN/figures/cluster8/event000008_frame04.npy', '/Users/jieunyoo/april12_3dCNN/figures/cluster8/event000008_frame05.npy', '/Users/jieunyoo/april12_3dCNN/figures/cluster8/event000008_frame06.npy', '/Users/jieunyoo/april12_3dCNN/figures/cluster8/event000008_frame07.npy'], 0.0323468647358247]\n",
      "(2, 8, 13, 21)\n",
      " 9/10 [==========================>...] - ETA: 0s - loss: 0.0279 - mean_squared_error: 0.0558starting index:  0\n",
      "[['/Users/jieunyoo/april12_3dCNN/figures/cluster7/event000007_frame00.npy', '/Users/jieunyoo/april12_3dCNN/figures/cluster7/event000007_frame01.npy', '/Users/jieunyoo/april12_3dCNN/figures/cluster7/event000007_frame02.npy', '/Users/jieunyoo/april12_3dCNN/figures/cluster7/event000007_frame03.npy', '/Users/jieunyoo/april12_3dCNN/figures/cluster7/event000007_frame04.npy', '/Users/jieunyoo/april12_3dCNN/figures/cluster7/event000007_frame05.npy', '/Users/jieunyoo/april12_3dCNN/figures/cluster7/event000007_frame06.npy', '/Users/jieunyoo/april12_3dCNN/figures/cluster7/event000007_frame07.npy'], 0.2371483913959306]\n",
      "[['/Users/jieunyoo/april12_3dCNN/figures/cluster0/event000000_frame00.npy', '/Users/jieunyoo/april12_3dCNN/figures/cluster0/event000000_frame01.npy', '/Users/jieunyoo/april12_3dCNN/figures/cluster0/event000000_frame02.npy', '/Users/jieunyoo/april12_3dCNN/figures/cluster0/event000000_frame03.npy', '/Users/jieunyoo/april12_3dCNN/figures/cluster0/event000000_frame04.npy', '/Users/jieunyoo/april12_3dCNN/figures/cluster0/event000000_frame05.npy', '/Users/jieunyoo/april12_3dCNN/figures/cluster0/event000000_frame06.npy', '/Users/jieunyoo/april12_3dCNN/figures/cluster0/event000000_frame07.npy'], -0.1132745164574143]\n",
      "(2, 8, 13, 21)\n",
      "10/10 [==============================] - 9s 949ms/step - loss: 0.0256 - mean_squared_error: 0.0513\n"
     ]
    }
   ],
   "source": [
    "hist = model.fit(train_generator,steps_per_epoch=len(train_data),epochs=2)"
   ]
  }
 ],
 "metadata": {
  "kernelspec": {
   "display_name": "Python 3 (ipykernel)",
   "language": "python",
   "name": "python3"
  },
  "language_info": {
   "codemirror_mode": {
    "name": "ipython",
    "version": 3
   },
   "file_extension": ".py",
   "mimetype": "text/x-python",
   "name": "python",
   "nbconvert_exporter": "python",
   "pygments_lexer": "ipython3",
   "version": "3.9.4"
  }
 },
 "nbformat": 4,
 "nbformat_minor": 5
}
