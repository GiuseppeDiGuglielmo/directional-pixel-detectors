{
 "cells": [
  {
   "cell_type": "markdown",
   "id": "27f17246",
   "metadata": {},
   "source": [
    "# Simple NN"
   ]
  },
  {
   "cell_type": "markdown",
   "id": "092f7870",
   "metadata": {},
   "source": [
    "## Library setup"
   ]
  },
  {
   "cell_type": "markdown",
   "id": "13488dfd",
   "metadata": {},
   "source": [
    "Disable some console warnings"
   ]
  },
  {
   "cell_type": "code",
   "execution_count": 1,
   "id": "e6d36675",
   "metadata": {},
   "outputs": [],
   "source": [
    "import os\n",
    "os.environ['TF_XLA_FLAGS'] = '--tf_xla_enable_xla_devices'\n",
    "os.environ['TF_CPP_MIN_LOG_LEVEL'] = '3'"
   ]
  },
  {
   "cell_type": "markdown",
   "id": "a23b160d",
   "metadata": {},
   "source": [
    "Import libraries"
   ]
  },
  {
   "cell_type": "code",
   "execution_count": 2,
   "id": "3a8391fa-659e-448d-bc55-8f6c207a2ffb",
   "metadata": {},
   "outputs": [],
   "source": [
    "from sklearn.model_selection import train_test_split\n",
    "from sklearn.metrics import mean_squared_error\n",
    "from sklearn.preprocessing import StandardScaler\n",
    "from sklearn.metrics import confusion_matrix\n",
    "from sklearn.metrics import classification_report\n",
    "from sklearn.model_selection import StratifiedKFold\n",
    "import tensorflow as tf\n",
    "from tensorflow.keras import datasets, layers, models\n",
    "#import keras\n",
    "from tensorflow.keras.models import Sequential\n",
    "from tensorflow.keras.layers import Dense, Dropout, Flatten\n",
    "from tensorflow.keras.layers import Conv2D, MaxPooling2D\n",
    "from tensorflow.keras.callbacks import CSVLogger\n",
    "from tensorflow.keras.callbacks import EarlyStopping\n",
    "import matplotlib.pyplot as plt\n",
    "import numpy as np\n",
    "import pandas as pd\n",
    "from pandas import read_csv\n",
    "import math\n",
    "import seaborn as sns\n",
    "from tensorflow.keras.optimizers import Adam\n",
    "\n",
    "from tensorflow.keras.layers import Input, Activation\n",
    "from qkeras import *\n",
    "\n",
    "%matplotlib inline\n",
    "import matplotlib.pyplot as plt"
   ]
  },
  {
   "cell_type": "markdown",
   "id": "5575533b",
   "metadata": {},
   "source": [
    "Define some additional helpers"
   ]
  },
  {
   "cell_type": "code",
   "execution_count": 3,
   "id": "cddbe3aa",
   "metadata": {},
   "outputs": [],
   "source": [
    "from IPython.display import display_html\n",
    "from itertools import chain,cycle\n",
    "def display_side_by_side(*args,titles=cycle([''])):\n",
    "    html_str=''\n",
    "    for df,title in zip(args, chain(titles,cycle(['</br>'])) ):\n",
    "        html_str+='<th style=\"text-align:center\"><td style=\"vertical-align:top\">'\n",
    "        html_str+=f'<h5 style=\"text-align: center;\">{title}</h5>'\n",
    "        html_str+=df.to_html().replace('table','table style=\"display:inline\"')\n",
    "        html_str+='</td></th>'\n",
    "    display_html(html_str,raw=True)"
   ]
  },
  {
   "cell_type": "code",
   "execution_count": 4,
   "id": "d6bf8e84",
   "metadata": {},
   "outputs": [],
   "source": [
    "def get_number_of_tracks(model_label, test_csv = 'data/oct4_MCwithQuantInputs', pred_csv_dir = 'csv'):\n",
    "    df1 = pd.read_csv(pred_csv_dir + '/' + model_label + '_true.csv')\n",
    "    headers =  [\"true\"]\n",
    "    df1.columns = headers\n",
    "    df2 = pd.read_csv(pred_csv_dir + '/' + model_label + '_predictionsFiles.csv')\n",
    "    headers =  [\"predicted\"]\n",
    "    df2.columns = headers\n",
    "    df3 = pd.concat([df1,df2],  axis=1, join=\"inner\")\n",
    "    dfPT = pd.read_csv(test_csv)\n",
    "    df5 = pd.concat([df1,df2,dfPT],  axis=1, join=\"inner\")\n",
    "    df5.to_csv(pred_csv_dir + '/' + model_label + '_concatenatedSample.csv',index=False)\n",
    "    \n",
    "    df6=pd.read_csv(pred_csv_dir + '/' + model_label + '_concatenatedSample.csv')\n",
    "    \n",
    "    df7 = df6.loc[ (df6['pt'] > 0.2) | (df6['pt'] < -0.2)]\n",
    "    totalNumberRowsSelected = df7.shape[0] \n",
    "    predictedCorrect = df7.loc[ df7['predicted'] == 0]\n",
    "    numberCorrectlyPredictedAsHighPT = predictedCorrect.shape[0] #first number is number of rows\n",
    "    newAccuracyMetric = numberCorrectlyPredictedAsHighPT/totalNumberRowsSelected\n",
    "    \n",
    "    df8 = df6.loc[ (df6['pt'] > 0.5) | (df6['pt'] < -0.5)]\n",
    "    totalNumberRowsSelected_halfGeV = df8.shape[0] \n",
    "    predictedCorrect_halfGeV = df8.loc[ df8['predicted'] == 0]\n",
    "    numberCorrectlyPredictedAsHighPT_halfGeV = predictedCorrect_halfGeV.shape[0] #first number is number of rows\n",
    "    newAccuracyMetric_halfGeV = numberCorrectlyPredictedAsHighPT_halfGeV/totalNumberRowsSelected_halfGeV\n",
    "    \n",
    "    df9 = df6.loc[ (df6['pt'] > 1) | (df6['pt'] < -1)]\n",
    "    totalNumberRowsSelected_1GeV = df9.shape[0] \n",
    "    predictedCorrect_1GeV = df9.loc[df9['predicted'] == 0]\n",
    "    numberCorrectlyPredictedAsHighPT_1GeV = predictedCorrect_1GeV.shape[0] \n",
    "    newAccuracyMetric_1GeV = numberCorrectlyPredictedAsHighPT_1GeV/totalNumberRowsSelected_1GeV\n",
    "\n",
    "    df10 = df6.loc[ (df6['pt'] > 2) | (df6['pt'] < -2)]\n",
    "    totalNumberRowsSelected_2GeV = df10.shape[0] \n",
    "    predictedCorrect_2GeV = df10.loc[df10['predicted'] == 0]\n",
    "    numberCorrectlyPredictedAsHighPT_2GeV = predictedCorrect_2GeV.shape[0] \n",
    "    newAccuracyMetric_2GeV = numberCorrectlyPredictedAsHighPT_2GeV/totalNumberRowsSelected_2GeV\n",
    "\n",
    "    return (newAccuracyMetric, newAccuracyMetric_halfGeV, newAccuracyMetric_1GeV, newAccuracyMetric_2GeV)"
   ]
  },
  {
   "cell_type": "code",
   "execution_count": 5,
   "id": "e1e8f25c",
   "metadata": {},
   "outputs": [],
   "source": [
    "def write_results(filename, model_id, loss, accuracy, GeV_0_2, GeV_0_5, GeV_1_0, GeV_2_0):\n",
    "    import os\n",
    "    import csv\n",
    "\n",
    "    from datetime import datetime\n",
    "    now = datetime.now()\n",
    "    date_string = now.strftime(\"%d/%m/%Y %H:%M:%S\")\n",
    "\n",
    "    f = open(filename, 'a+')\n",
    "    writer = csv.writer(f)\n",
    "    if os.stat(filename).st_size == 0:\n",
    "        writer.writerow([\"date\", \"id\", \"loss\", \"accuracy\", \"nt_gev02\", \"nt_gev05\", \"nt_gev10\", \"nt_gev20\"])\n",
    "    writer.writerow([date_string, model_id, loss, accuracy, GeV_0_2, GeV_0_5, GeV_1_0, GeV_2_0])\n",
    "    f.close()"
   ]
  },
  {
   "cell_type": "code",
   "execution_count": 6,
   "id": "4d733e1f",
   "metadata": {},
   "outputs": [],
   "source": [
    "def print_results(filename):\n",
    "    import pandas as pd\n",
    "    with pd.option_context('display.float_format', '{:0.4f}'.format):\n",
    "        csv_data = pd.read_csv(filename)\n",
    "        accuracy_avg = csv_data.groupby('id').accuracy.mean()\n",
    "        #csv_data = csv_data.join(accuracy_avg, on='id', rsuffix='_avg')\n",
    "        nt_gev10_avg = csv_data.groupby('id').nt_gev10.mean()\n",
    "        #csv_data = csv_data.join(nt_gev10_avg, on='id', rsuffix='_avg')        \n",
    "        display(csv_data)"
   ]
  },
  {
   "cell_type": "code",
   "execution_count": 7,
   "id": "ef5251c9",
   "metadata": {},
   "outputs": [],
   "source": [
    "def print_avg_results(filename):\n",
    "    import pandas as pd\n",
    "    with pd.option_context('display.float_format', '{:0.4f}'.format):\n",
    "        csv_data = pd.read_csv(filename)\n",
    "        accuracy_avg = csv_data.groupby('id').accuracy.mean()\n",
    "        nt_gev10_avg = csv_data.groupby('id').nt_gev10.mean()\n",
    "        accuracy_std = csv_data.groupby('id').accuracy.std()\n",
    "        nt_gev10_std = csv_data.groupby('id').nt_gev10.std()        \n",
    "        csv_avg_std_data = pd.DataFrame(accuracy_avg)\n",
    "        csv_avg_std_data = csv_avg_std_data.join(nt_gev10_avg, on='id')\n",
    "        display(csv_avg_std_data)"
   ]
  },
  {
   "cell_type": "code",
   "execution_count": 8,
   "id": "24859a6a",
   "metadata": {},
   "outputs": [],
   "source": [
    "def plot_avg_results(filename, accuracy_th=0.76, tracks_th=0.9):\n",
    "    import numpy as np\n",
    "    import pandas as pd\n",
    "    import matplotlib.pyplot as plt\n",
    "    %matplotlib inline\n",
    "    with pd.option_context('display.float_format', '{:0.4f}'.format):\n",
    "        csv_data = pd.read_csv(filename)\n",
    "        accuracy_avg = csv_data.groupby('id').accuracy.mean()\n",
    "        nt_gev10_avg = csv_data.groupby('id').nt_gev10.mean()\n",
    "        \n",
    "        df = pd.DataFrame({'accuracy': accuracy_avg, 'nt_gev10': nt_gev10_avg})\n",
    "        yticks=[0, 0.1, 0.2, 0.3, 0.4, 0.5, 0.6, 0.7, 0.8, 0.9, 1.0] \n",
    "        ax = df.plot.bar(rot=65, title='Avg metrics', ylim=[0.,1], yticks=yticks)\n",
    "        for container in ax.containers:\n",
    "            ax.bar_label(container, fmt='%.2f', fontsize=8)\n",
    "        \n",
    "        # Shrink current axis by 20%\n",
    "        box = ax.get_position()\n",
    "        ax.set_position([box.x0, box.y0, box.width * 0.9, box.height])\n",
    "\n",
    "        # Put a legend to the right of the current axis\n",
    "        ax.legend(loc='center left', bbox_to_anchor=(1, 0.5))\n",
    "        \n",
    "        # Threshold line\n",
    "        ax.axhline(tracks_th, color=\"orange\", linestyle=\":\")\n",
    "        ax.text(1.05, tracks_th,\n",
    "                str(tracks_th*100) + '%',\n",
    "                va='center',\n",
    "                ha=\"left\",\n",
    "                bbox=dict(facecolor=\"w\",alpha=0.5, boxstyle='larrow', edgecolor='orange'),\n",
    "                transform=ax.get_yaxis_transform())\n",
    "        ax.axhline(accuracy_th, color=\"lightblue\", linestyle=\":\")\n",
    "        ax.text(1.05, accuracy_th,\n",
    "                str(accuracy_th*100) + '%',\n",
    "                va='center',\n",
    "                ha=\"left\",\n",
    "                bbox=dict(facecolor=\"w\",alpha=0.5, boxstyle='larrow', edgecolor='lightblue'),\n",
    "                transform=ax.get_yaxis_transform())  "
   ]
  },
  {
   "cell_type": "code",
   "execution_count": 9,
   "id": "84d0ca0e",
   "metadata": {},
   "outputs": [],
   "source": [
    "def print_dictionary(d, indent=0):\n",
    "   for key, value in d.items():\n",
    "      print('  ' * indent + str(key))\n",
    "      if isinstance(value, dict):\n",
    "         print_dictionary(value, indent+1)\n",
    "      else:\n",
    "         print('  ' * (indent+1) + str(value))"
   ]
  },
  {
   "cell_type": "markdown",
   "id": "3ae779ee",
   "metadata": {},
   "source": [
    "## Prepare dataset"
   ]
  },
  {
   "cell_type": "markdown",
   "id": "87da12e7",
   "metadata": {},
   "source": [
    "### Load dataset"
   ]
  },
  {
   "cell_type": "markdown",
   "id": "94d80471",
   "metadata": {},
   "source": [
    "Original dataset (aka `dataset 7`)"
   ]
  },
  {
   "cell_type": "raw",
   "id": "434b55de",
   "metadata": {},
   "source": [
    "dataset = 'origin_'\n",
    "base_dir = 'data/oct4_MCwithQuantInputs'\n",
    "\n",
    "df1 = pd.read_csv(base_dir + '/InputTrainSet.csv')\n",
    "df2 = pd.read_csv(base_dir + '/labelsTrain.csv')\n",
    "df3 = pd.read_csv(base_dir + '/InputTestSet.csv')\n",
    "df4 = pd.read_csv(base_dir + '/labelsTest.csv')"
   ]
  },
  {
   "cell_type": "markdown",
   "id": "b96669f2",
   "metadata": {},
   "source": [
    "Balanced dataset (deprecated)"
   ]
  },
  {
   "cell_type": "raw",
   "id": "ce8bc763",
   "metadata": {},
   "source": [
    "#dataset = 'balanced_'\n",
    "#base_dir = 'data/balancedOct27'\n",
    "\n",
    "#df1 = pd.read_csv(base_dir + '/InputTrainSet.csv')\n",
    "#df2 = pd.read_csv(base_dir + '/labelsTrain.csv')\n",
    "#df3 = pd.read_csv(base_dir + '/InputTestSet.csv')\n",
    "#df4 = pd.read_csv(base_dir + '/labelsTest.csv')"
   ]
  },
  {
   "cell_type": "markdown",
   "id": "d0099068",
   "metadata": {},
   "source": [
    "Larger dataset (aka `dataset 6-7-8`). The 14th column is distributed on the range `[0,11]`"
   ]
  },
  {
   "cell_type": "code",
   "execution_count": 10,
   "id": "3b0d1092",
   "metadata": {},
   "outputs": [],
   "source": [
    "dataset = 'quantized6b_'\n",
    "base_dir = 'data/BigDS_Multiclassifier_Nov15'\n",
    "\n",
    "df1 = pd.read_csv(base_dir + '/TrainSetWithIntegerYLocalAllUint8.csv')\n",
    "#df1 = pd.read_csv(base_dir + '/InputTrainSetQuantized.csv')\n",
    "\n",
    "df2 = pd.read_csv(base_dir + '/TrainSetLabel.csv')\n",
    "\n",
    "df3 = pd.read_csv(base_dir + '/TestSetWithIntegerYLocalAllUint8.csv')\n",
    "#df3 = pd.read_csv(base_dir + '/InputTestSetQuantized.csv')\n",
    "\n",
    "df4 = pd.read_csv(base_dir + '/TestSetLabel.csv')"
   ]
  },
  {
   "cell_type": "code",
   "execution_count": 11,
   "id": "f150ba39-5d91-4633-b6cd-b1ecd0b3ed91",
   "metadata": {},
   "outputs": [
    {
     "name": "stdout",
     "output_type": "stream",
     "text": [
      "Trainig set shape         : (1641960, 14)\n",
      "Trainig set shape (labels): (1641960, 1)\n",
      "Test set shape:           : (410488, 14)\n",
      "Test set shape (labels)   : (410488, 1)\n"
     ]
    }
   ],
   "source": [
    "X_train = df1.values\n",
    "X_test = df3.values\n",
    "\n",
    "y_train = df2.values\n",
    "y_test = df4.values\n",
    "\n",
    "print('Trainig set shape         :', X_train.shape) \n",
    "print('Trainig set shape (labels):', y_train.shape)\n",
    "print('Test set shape:           :', X_test.shape)\n",
    "print('Test set shape (labels)   :', y_test.shape)"
   ]
  },
  {
   "cell_type": "markdown",
   "id": "3e0047eb",
   "metadata": {},
   "source": [
    "#### Visualize dataset"
   ]
  },
  {
   "cell_type": "markdown",
   "id": "e1f02192",
   "metadata": {},
   "source": [
    "Observe the span of the value for each of the 14 columns. The 14th column -- if quantized -- should span on the range `[0,11]`."
   ]
  },
  {
   "cell_type": "code",
   "execution_count": 12,
   "id": "beca2ee4",
   "metadata": {},
   "outputs": [],
   "source": [
    "frames = [df1, df3]\n",
    "\n",
    "df = pd.concat(frames)"
   ]
  },
  {
   "cell_type": "code",
   "execution_count": 13,
   "id": "d9298756",
   "metadata": {},
   "outputs": [
    {
     "data": {
      "image/png": "[encoded data removed]",
      "text/plain": [
       "<Figure size 640x480 with 1 Axes>"
      ]
     },
     "metadata": {},
     "output_type": "display_data"
    }
   ],
   "source": [
    "_ = plt.title(\"dataset with outliers\")\n",
    "_ = plt.boxplot(df.values, showfliers=True)"
   ]
  },
  {
   "cell_type": "code",
   "execution_count": 14,
   "id": "56731637",
   "metadata": {},
   "outputs": [
    {
     "data": {
      "image/png": "[encoded data removed]",
      "text/plain": [
       "<Figure size 640x480 with 1 Axes>"
      ]
     },
     "metadata": {},
     "output_type": "display_data"
    }
   ],
   "source": [
    "_ = plt.title(\"dataset without outliers\")\n",
    "_ = plt.boxplot(df.values, showfliers=False)"
   ]
  },
  {
   "cell_type": "markdown",
   "id": "f6f29504",
   "metadata": {},
   "source": [
    "You should see all integers if you are using the `dataset 6-7-8` with 14th column quantized"
   ]
  },
  {
   "cell_type": "code",
   "execution_count": 15,
   "id": "e8e74612",
   "metadata": {},
   "outputs": [
    {
     "data": {
      "text/html": [
       "<div>\n",
       "<style scoped>\n",
       "    .dataframe tbody tr th:only-of-type {\n",
       "        vertical-align: middle;\n",
       "    }\n",
       "\n",
       "    .dataframe tbody tr th {\n",
       "        vertical-align: top;\n",
       "    }\n",
       "\n",
       "    .dataframe thead th {\n",
       "        text-align: right;\n",
       "    }\n",
       "</style>\n",
       "<table border=\"1\" class=\"dataframe\">\n",
       "  <thead>\n",
       "    <tr style=\"text-align: right;\">\n",
       "      <th></th>\n",
       "      <th>0</th>\n",
       "      <th>1</th>\n",
       "      <th>2</th>\n",
       "      <th>3</th>\n",
       "      <th>4</th>\n",
       "      <th>5</th>\n",
       "      <th>6</th>\n",
       "      <th>7</th>\n",
       "      <th>8</th>\n",
       "      <th>9</th>\n",
       "      <th>10</th>\n",
       "      <th>11</th>\n",
       "      <th>12</th>\n",
       "      <th>13</th>\n",
       "    </tr>\n",
       "  </thead>\n",
       "  <tbody>\n",
       "    <tr>\n",
       "      <th>0</th>\n",
       "      <td>0</td>\n",
       "      <td>0</td>\n",
       "      <td>0</td>\n",
       "      <td>3</td>\n",
       "      <td>3</td>\n",
       "      <td>11</td>\n",
       "      <td>12</td>\n",
       "      <td>6</td>\n",
       "      <td>0</td>\n",
       "      <td>0</td>\n",
       "      <td>0</td>\n",
       "      <td>0</td>\n",
       "      <td>0</td>\n",
       "      <td>3</td>\n",
       "    </tr>\n",
       "    <tr>\n",
       "      <th>1</th>\n",
       "      <td>0</td>\n",
       "      <td>0</td>\n",
       "      <td>0</td>\n",
       "      <td>0</td>\n",
       "      <td>0</td>\n",
       "      <td>0</td>\n",
       "      <td>6</td>\n",
       "      <td>0</td>\n",
       "      <td>0</td>\n",
       "      <td>0</td>\n",
       "      <td>0</td>\n",
       "      <td>0</td>\n",
       "      <td>0</td>\n",
       "      <td>9</td>\n",
       "    </tr>\n",
       "    <tr>\n",
       "      <th>2</th>\n",
       "      <td>0</td>\n",
       "      <td>0</td>\n",
       "      <td>0</td>\n",
       "      <td>9</td>\n",
       "      <td>7</td>\n",
       "      <td>0</td>\n",
       "      <td>0</td>\n",
       "      <td>0</td>\n",
       "      <td>0</td>\n",
       "      <td>0</td>\n",
       "      <td>0</td>\n",
       "      <td>0</td>\n",
       "      <td>0</td>\n",
       "      <td>7</td>\n",
       "    </tr>\n",
       "    <tr>\n",
       "      <th>3</th>\n",
       "      <td>0</td>\n",
       "      <td>0</td>\n",
       "      <td>0</td>\n",
       "      <td>0</td>\n",
       "      <td>0</td>\n",
       "      <td>1</td>\n",
       "      <td>15</td>\n",
       "      <td>9</td>\n",
       "      <td>0</td>\n",
       "      <td>0</td>\n",
       "      <td>0</td>\n",
       "      <td>0</td>\n",
       "      <td>0</td>\n",
       "      <td>7</td>\n",
       "    </tr>\n",
       "    <tr>\n",
       "      <th>4</th>\n",
       "      <td>0</td>\n",
       "      <td>0</td>\n",
       "      <td>0</td>\n",
       "      <td>1</td>\n",
       "      <td>3</td>\n",
       "      <td>4</td>\n",
       "      <td>3</td>\n",
       "      <td>0</td>\n",
       "      <td>0</td>\n",
       "      <td>0</td>\n",
       "      <td>0</td>\n",
       "      <td>0</td>\n",
       "      <td>0</td>\n",
       "      <td>2</td>\n",
       "    </tr>\n",
       "  </tbody>\n",
       "</table>\n",
       "</div>"
      ],
      "text/plain": [
       "   0   1   2   3   4   5   6   7   8   9   10  11  12  13\n",
       "0   0   0   0   3   3  11  12   6   0   0   0   0   0   3\n",
       "1   0   0   0   0   0   0   6   0   0   0   0   0   0   9\n",
       "2   0   0   0   9   7   0   0   0   0   0   0   0   0   7\n",
       "3   0   0   0   0   0   1  15   9   0   0   0   0   0   7\n",
       "4   0   0   0   1   3   4   3   0   0   0   0   0   0   2"
      ]
     },
     "execution_count": 15,
     "metadata": {},
     "output_type": "execute_result"
    }
   ],
   "source": [
    "pd.DataFrame(X_test[:5])"
   ]
  },
  {
   "cell_type": "code",
   "execution_count": 16,
   "id": "e8179491",
   "metadata": {},
   "outputs": [
    {
     "name": "stdout",
     "output_type": "stream",
     "text": [
      "X_train: max= 51 , log2(max)= 6 , min= 0\n",
      "X_test: max= 51 , log2(max)= 6 , min= 0\n"
     ]
    }
   ],
   "source": [
    "import math\n",
    "max_value_X_train = np.max(X_train)\n",
    "min_value_X_train = np.min(X_train)\n",
    "max_value_X_test = np.max(X_test)\n",
    "min_value_X_test = np.min(X_test)\n",
    "\n",
    "log2_max_value_X_train = int(np.ceil(math.log2(np.abs(max_value_X_train))))\n",
    "#log2_min_value_X_train = int(np.ceil(math.log2(np.abs(min_value_X_train))))\n",
    "log2_max_value_X_test = int(np.ceil(math.log2(np.abs(max_value_X_test))))\n",
    "#log2_min_value_X_test = int(np.ceil(math.log2(np.abs(min_value_X_test))))\n",
    "\n",
    "print('X_train: max=', max_value_X_train, ', log2(max)=', log2_max_value_X_train, ', min=', min_value_X_train)\n",
    "print('X_test: max=', max_value_X_test, ', log2(max)=', log2_max_value_X_test, ', min=', min_value_X_test)"
   ]
  },
  {
   "cell_type": "markdown",
   "id": "bc0a3846",
   "metadata": {},
   "source": [
    "### Scale dataset"
   ]
  },
  {
   "cell_type": "markdown",
   "id": "0d77a244",
   "metadata": {},
   "source": [
    "Disabling scaling will simplify the hardware design"
   ]
  },
  {
   "cell_type": "code",
   "execution_count": 17,
   "id": "84cd9b69",
   "metadata": {},
   "outputs": [],
   "source": [
    "scale = False\n",
    "\n",
    "scaling = ''\n",
    "if scale:\n",
    "    scaling = 'scaling_'\n",
    "    scaler = StandardScaler()\n",
    "    X_train = scaler.fit_transform(X_train.reshape(-1, X_train.shape[-1])).reshape(X_train.shape)\n",
    "    X_test = scaler.transform(X_test.reshape(-1, X_test.shape[-1])).reshape(X_test.shape)\n",
    "else:\n",
    "    scaling = 'noscaling_'"
   ]
  },
  {
   "cell_type": "markdown",
   "id": "c7ed1ee5",
   "metadata": {},
   "source": [
    "#### Visualize dataset post-scaling"
   ]
  },
  {
   "cell_type": "code",
   "execution_count": 18,
   "id": "8762378e",
   "metadata": {},
   "outputs": [],
   "source": [
    "pd.DataFrame(X_train).to_csv('csv/' + dataset + scaling + 'InputTrainSetScale.csv',index=False)\n",
    "pd.DataFrame(X_test).to_csv('csv/' + dataset + scaling + 'InputTestSetScale.csv',index=False)"
   ]
  },
  {
   "cell_type": "code",
   "execution_count": 19,
   "id": "845eb39f",
   "metadata": {},
   "outputs": [
    {
     "data": {
      "text/html": [
       "<div>\n",
       "<style scoped>\n",
       "    .dataframe tbody tr th:only-of-type {\n",
       "        vertical-align: middle;\n",
       "    }\n",
       "\n",
       "    .dataframe tbody tr th {\n",
       "        vertical-align: top;\n",
       "    }\n",
       "\n",
       "    .dataframe thead th {\n",
       "        text-align: right;\n",
       "    }\n",
       "</style>\n",
       "<table border=\"1\" class=\"dataframe\">\n",
       "  <thead>\n",
       "    <tr style=\"text-align: right;\">\n",
       "      <th></th>\n",
       "      <th>0</th>\n",
       "      <th>1</th>\n",
       "      <th>2</th>\n",
       "      <th>3</th>\n",
       "      <th>4</th>\n",
       "      <th>5</th>\n",
       "      <th>6</th>\n",
       "      <th>7</th>\n",
       "      <th>8</th>\n",
       "      <th>9</th>\n",
       "      <th>10</th>\n",
       "      <th>11</th>\n",
       "      <th>12</th>\n",
       "      <th>13</th>\n",
       "    </tr>\n",
       "  </thead>\n",
       "  <tbody>\n",
       "    <tr>\n",
       "      <th>0</th>\n",
       "      <td>0</td>\n",
       "      <td>0</td>\n",
       "      <td>0</td>\n",
       "      <td>3</td>\n",
       "      <td>3</td>\n",
       "      <td>11</td>\n",
       "      <td>12</td>\n",
       "      <td>6</td>\n",
       "      <td>0</td>\n",
       "      <td>0</td>\n",
       "      <td>0</td>\n",
       "      <td>0</td>\n",
       "      <td>0</td>\n",
       "      <td>3</td>\n",
       "    </tr>\n",
       "    <tr>\n",
       "      <th>1</th>\n",
       "      <td>0</td>\n",
       "      <td>0</td>\n",
       "      <td>0</td>\n",
       "      <td>0</td>\n",
       "      <td>0</td>\n",
       "      <td>0</td>\n",
       "      <td>6</td>\n",
       "      <td>0</td>\n",
       "      <td>0</td>\n",
       "      <td>0</td>\n",
       "      <td>0</td>\n",
       "      <td>0</td>\n",
       "      <td>0</td>\n",
       "      <td>9</td>\n",
       "    </tr>\n",
       "    <tr>\n",
       "      <th>2</th>\n",
       "      <td>0</td>\n",
       "      <td>0</td>\n",
       "      <td>0</td>\n",
       "      <td>9</td>\n",
       "      <td>7</td>\n",
       "      <td>0</td>\n",
       "      <td>0</td>\n",
       "      <td>0</td>\n",
       "      <td>0</td>\n",
       "      <td>0</td>\n",
       "      <td>0</td>\n",
       "      <td>0</td>\n",
       "      <td>0</td>\n",
       "      <td>7</td>\n",
       "    </tr>\n",
       "    <tr>\n",
       "      <th>3</th>\n",
       "      <td>0</td>\n",
       "      <td>0</td>\n",
       "      <td>0</td>\n",
       "      <td>0</td>\n",
       "      <td>0</td>\n",
       "      <td>1</td>\n",
       "      <td>15</td>\n",
       "      <td>9</td>\n",
       "      <td>0</td>\n",
       "      <td>0</td>\n",
       "      <td>0</td>\n",
       "      <td>0</td>\n",
       "      <td>0</td>\n",
       "      <td>7</td>\n",
       "    </tr>\n",
       "    <tr>\n",
       "      <th>4</th>\n",
       "      <td>0</td>\n",
       "      <td>0</td>\n",
       "      <td>0</td>\n",
       "      <td>1</td>\n",
       "      <td>3</td>\n",
       "      <td>4</td>\n",
       "      <td>3</td>\n",
       "      <td>0</td>\n",
       "      <td>0</td>\n",
       "      <td>0</td>\n",
       "      <td>0</td>\n",
       "      <td>0</td>\n",
       "      <td>0</td>\n",
       "      <td>2</td>\n",
       "    </tr>\n",
       "  </tbody>\n",
       "</table>\n",
       "</div>"
      ],
      "text/plain": [
       "   0   1   2   3   4   5   6   7   8   9   10  11  12  13\n",
       "0   0   0   0   3   3  11  12   6   0   0   0   0   0   3\n",
       "1   0   0   0   0   0   0   6   0   0   0   0   0   0   9\n",
       "2   0   0   0   9   7   0   0   0   0   0   0   0   0   7\n",
       "3   0   0   0   0   0   1  15   9   0   0   0   0   0   7\n",
       "4   0   0   0   1   3   4   3   0   0   0   0   0   0   2"
      ]
     },
     "execution_count": 19,
     "metadata": {},
     "output_type": "execute_result"
    }
   ],
   "source": [
    "pd.DataFrame(X_test[:5])"
   ]
  },
  {
   "cell_type": "code",
   "execution_count": 20,
   "id": "fafeb235",
   "metadata": {},
   "outputs": [
    {
     "name": "stdout",
     "output_type": "stream",
     "text": [
      "X_train: max= 51 , log2(max)= 6 , min= 0\n",
      "X_test: max= 51 , log2(max)= 6 , min= 0\n"
     ]
    }
   ],
   "source": [
    "import math\n",
    "max_value_X_train = np.max(X_train)\n",
    "min_value_X_train = np.min(X_train)\n",
    "max_value_X_test = np.max(X_test)\n",
    "min_value_X_test = np.min(X_test)\n",
    "\n",
    "log2_max_value_X_train = int(np.ceil(math.log2(np.abs(max_value_X_train))))\n",
    "#log2_min_value_X_train = int(np.ceil(math.log2(np.abs(min_value_X_train))))\n",
    "log2_max_value_X_test = int(np.ceil(math.log2(np.abs(max_value_X_test))))\n",
    "#log2_min_value_X_test = int(np.ceil(math.log2(np.abs(min_value_X_test))))\n",
    "\n",
    "print('X_train: max=', max_value_X_train, ', log2(max)=', log2_max_value_X_train, ', min=', min_value_X_train)\n",
    "print('X_test: max=', max_value_X_test, ', log2(max)=', log2_max_value_X_test, ', min=', min_value_X_test)"
   ]
  },
  {
   "cell_type": "markdown",
   "id": "1c14b727",
   "metadata": {},
   "source": [
    "### One-hot encoding"
   ]
  },
  {
   "cell_type": "code",
   "execution_count": 21,
   "id": "672edbc8",
   "metadata": {},
   "outputs": [],
   "source": [
    "y_train_oh = pd.get_dummies(df2['ptLabel'])\n",
    "y_test_oh = pd.get_dummies(df4['ptLabel'])\n",
    "\n",
    "y_train_oh.to_csv(\"csv/\" + dataset + \"labelsTrainOH.csv\",index=False)\n",
    "y_test_oh.to_csv(\"csv/\" + dataset + \"labelsTestOH.csv\",index=False)"
   ]
  },
  {
   "cell_type": "code",
   "execution_count": 22,
   "id": "4232926e",
   "metadata": {},
   "outputs": [
    {
     "data": {
      "text/html": [
       "<th style=\"text-align:center\"><td style=\"vertical-align:top\"><h5 style=\"text-align: center;\">Prediction</h5><table style=\"display:inline\" border=\"1\" class=\"dataframe\">\n",
       "  <thead>\n",
       "    <tr style=\"text-align: right;\">\n",
       "      <th></th>\n",
       "      <th>0</th>\n",
       "    </tr>\n",
       "  </thead>\n",
       "  <tbody>\n",
       "    <tr>\n",
       "      <th>0</th>\n",
       "      <td>0</td>\n",
       "    </tr>\n",
       "    <tr>\n",
       "      <th>1</th>\n",
       "      <td>1</td>\n",
       "    </tr>\n",
       "    <tr>\n",
       "      <th>2</th>\n",
       "      <td>1</td>\n",
       "    </tr>\n",
       "    <tr>\n",
       "      <th>3</th>\n",
       "      <td>0</td>\n",
       "    </tr>\n",
       "    <tr>\n",
       "      <th>4</th>\n",
       "      <td>0</td>\n",
       "    </tr>\n",
       "  </tbody>\n",
       "</table style=\"display:inline\"></td></th><th style=\"text-align:center\"><td style=\"vertical-align:top\"><h5 style=\"text-align: center;\">One-hot encoding</h5><table style=\"display:inline\" border=\"1\" class=\"dataframe\">\n",
       "  <thead>\n",
       "    <tr style=\"text-align: right;\">\n",
       "      <th></th>\n",
       "      <th>0</th>\n",
       "      <th>1</th>\n",
       "      <th>2</th>\n",
       "    </tr>\n",
       "  </thead>\n",
       "  <tbody>\n",
       "    <tr>\n",
       "      <th>0</th>\n",
       "      <td>1</td>\n",
       "      <td>0</td>\n",
       "      <td>0</td>\n",
       "    </tr>\n",
       "    <tr>\n",
       "      <th>1</th>\n",
       "      <td>0</td>\n",
       "      <td>1</td>\n",
       "      <td>0</td>\n",
       "    </tr>\n",
       "    <tr>\n",
       "      <th>2</th>\n",
       "      <td>0</td>\n",
       "      <td>1</td>\n",
       "      <td>0</td>\n",
       "    </tr>\n",
       "    <tr>\n",
       "      <th>3</th>\n",
       "      <td>1</td>\n",
       "      <td>0</td>\n",
       "      <td>0</td>\n",
       "    </tr>\n",
       "    <tr>\n",
       "      <th>4</th>\n",
       "      <td>1</td>\n",
       "      <td>0</td>\n",
       "      <td>0</td>\n",
       "    </tr>\n",
       "  </tbody>\n",
       "</table style=\"display:inline\"></td></th>"
      ]
     },
     "metadata": {},
     "output_type": "display_data"
    }
   ],
   "source": [
    "display_side_by_side(pd.DataFrame(y_test[:5]), pd.DataFrame(y_test_oh[:5]), titles=['Prediction','One-hot encoding'])"
   ]
  },
  {
   "cell_type": "markdown",
   "id": "f8ef817d",
   "metadata": {},
   "source": [
    "## Model (Keras)\n",
    "\n",
    "Let's start with a Keras model that is more traditional and uses floating-point. Our goal is to eventually get a quantized model for QKeras and hls4ml that is _close enough_ to this initial model."
   ]
  },
  {
   "cell_type": "markdown",
   "id": "427fdd0a",
   "metadata": {},
   "source": [
    "### Model definition\n",
    "\n",
    "Define a few MLP models with different size and number of layers"
   ]
  },
  {
   "cell_type": "code",
   "execution_count": 23,
   "id": "f6472f8b",
   "metadata": {},
   "outputs": [],
   "source": [
    "models = {}"
   ]
  },
  {
   "cell_type": "markdown",
   "id": "d893e573",
   "metadata": {},
   "source": [
    "#### d128\n",
    "\n",
    "This is our original model that we also use as a reference"
   ]
  },
  {
   "cell_type": "code",
   "execution_count": 24,
   "id": "2765799f",
   "metadata": {},
   "outputs": [],
   "source": [
    "def CreateModel(shape, nb_classes):\n",
    "    x = x_in = Input(shape, name=\"input\")\n",
    "    x = Dense(128, name=\"dense1\")(x)\n",
    "    x = keras.layers.BatchNormalization()(x)\n",
    "    x = Activation(\"relu\", name=\"relu1\")(x)\n",
    "    x = Dense(3, name=\"dense2\")(x)\n",
    "    x = Activation(\"softmax\", name=\"softmax\")(x)\n",
    "    model = Model(inputs=x_in, outputs=x)\n",
    "    return model\n",
    "\n",
    "models['d128'] = {\n",
    "    'prefix': dataset + scaling + 'keras_d128_',\n",
    "    'type'  : 'keras',\n",
    "    'def'   : CreateModel}"
   ]
  },
  {
   "cell_type": "markdown",
   "id": "4c8f544e",
   "metadata": {
    "heading_collapsed": true
   },
   "source": [
    "#### d64"
   ]
  },
  {
   "cell_type": "raw",
   "id": "0a2946a2",
   "metadata": {
    "hidden": true
   },
   "source": [
    "def CreateModel(shape, nb_classes):\n",
    "    x = x_in = Input(shape, name=\"input\")\n",
    "    x = Dense(64, name=\"dense1\")(x)\n",
    "    x = keras.layers.BatchNormalization()(x)\n",
    "    x = Activation(\"relu\", name=\"relu1\")(x)\n",
    "    x = Dense(3, name=\"dense2\")(x)\n",
    "    x = Activation(\"softmax\", name=\"softmax\")(x)\n",
    "    model = Model(inputs=x_in, outputs=x)\n",
    "    return model\n",
    "\n",
    "models['d64'] = {'prefix': dataset + scaling + 'keras_d64_', 'def': CreateModel}"
   ]
  },
  {
   "cell_type": "markdown",
   "id": "114951a2",
   "metadata": {
    "heading_collapsed": true
   },
   "source": [
    "#### d64_d32"
   ]
  },
  {
   "cell_type": "raw",
   "id": "4877e4dc",
   "metadata": {
    "hidden": true
   },
   "source": [
    "def CreateModel(shape, nb_classes):\n",
    "    x = x_in = Input(shape, name=\"input\")\n",
    "    x = Dense(64, name=\"dense1\")(x)\n",
    "    x = keras.layers.BatchNormalization()(x)\n",
    "    x = Activation(\"relu\", name=\"relu1\")(x)\n",
    "    x = Dense(32, name=\"dense2\")(x)\n",
    "    x = Activation(\"relu\", name=\"relu2\")(x)\n",
    "    x = Dense(3, name=\"dense3\")(x)\n",
    "    x = Activation(\"softmax\", name=\"softmax\")(x)\n",
    "    model = Model(inputs=x_in, outputs=x)\n",
    "    return model\n",
    "\n",
    "models['d64_d32'] = {'prefix': dataset + scaling + 'keras_d64_d32_', 'def': CreateModel}"
   ]
  },
  {
   "cell_type": "markdown",
   "id": "3b1e9115",
   "metadata": {
    "heading_collapsed": true
   },
   "source": [
    "#### d32_d32"
   ]
  },
  {
   "cell_type": "raw",
   "id": "d9d367b3",
   "metadata": {
    "hidden": true
   },
   "source": [
    "prefix = dataset + scaling + 'keras_d32_d32_'\n",
    "\n",
    "def CreateModel(shape, nb_classes):\n",
    "    x = x_in = Input(shape, name=\"input\")\n",
    "    x = Dense(32, name=\"dense1\")(x)\n",
    "    x = keras.layers.BatchNormalization()(x)\n",
    "    x = Activation(\"relu\", name=\"relu1\")(x)\n",
    "    x = Dense(32, name=\"dense2\")(x)\n",
    "    x = Activation(\"relu\", name=\"relu2\")(x)\n",
    "    x = Dense(3, name=\"dense3\")(x)\n",
    "    x = Activation(\"softmax\", name=\"softmax\")(x)\n",
    "    model = Model(inputs=x_in, outputs=x)\n",
    "    return model\n",
    "\n",
    "models['d32_d32'] = {'prefix': dataset + scaling + 'keras_d32_d32_', 'def': CreateModel}"
   ]
  },
  {
   "cell_type": "markdown",
   "id": "faf9fd83",
   "metadata": {},
   "source": [
    "#### Create and summary"
   ]
  },
  {
   "cell_type": "markdown",
   "id": "c1224f3d",
   "metadata": {},
   "source": [
    "Show the dictionary of models"
   ]
  },
  {
   "cell_type": "code",
   "execution_count": 25,
   "id": "7f978da2",
   "metadata": {},
   "outputs": [
    {
     "name": "stdout",
     "output_type": "stream",
     "text": [
      "d128\n",
      "  prefix\n",
      "    quantized6b_noscaling_keras_d128_\n",
      "  type\n",
      "    keras\n",
      "  def\n",
      "    <function CreateModel at 0x7f3f5ca4f3a0>\n"
     ]
    }
   ],
   "source": [
    "print_dictionary(models)"
   ]
  },
  {
   "cell_type": "markdown",
   "id": "1c4db9a4",
   "metadata": {},
   "source": [
    "Choose a model for training and testing"
   ]
  },
  {
   "cell_type": "code",
   "execution_count": 26,
   "id": "037bf14c",
   "metadata": {},
   "outputs": [],
   "source": [
    "chosen_model = 'd128' # <<< PAY ATTENTION <<<\n",
    "\n",
    "prefix = models[chosen_model]['prefix']\n",
    "model_def = models[chosen_model]['def']\n",
    "model_type = models[chosen_model]['type']"
   ]
  },
  {
   "cell_type": "code",
   "execution_count": 27,
   "id": "42427723",
   "metadata": {},
   "outputs": [
    {
     "name": "stdout",
     "output_type": "stream",
     "text": [
      "Model: \"model\"\n",
      "_________________________________________________________________\n",
      "Layer (type)                 Output Shape              Param #   \n",
      "=================================================================\n",
      "input (InputLayer)           [(None, 14)]              0         \n",
      "_________________________________________________________________\n",
      "dense1 (Dense)               (None, 128)               1920      \n",
      "_________________________________________________________________\n",
      "batch_normalization (BatchNo (None, 128)               512       \n",
      "_________________________________________________________________\n",
      "relu1 (Activation)           (None, 128)               0         \n",
      "_________________________________________________________________\n",
      "dense2 (Dense)               (None, 3)                 387       \n",
      "_________________________________________________________________\n",
      "softmax (Activation)         (None, 3)                 0         \n",
      "=================================================================\n",
      "Total params: 2,819\n",
      "Trainable params: 2,563\n",
      "Non-trainable params: 256\n",
      "_________________________________________________________________\n"
     ]
    }
   ],
   "source": [
    "model = model_def(X_train.shape[1:], y_train.shape[-1])\n",
    "\n",
    "model.compile(optimizer=Adam(),\n",
    "              loss=keras.losses.SparseCategoricalCrossentropy(from_logits=True), # default from_logits=False\n",
    "              metrics=[keras.metrics.SparseCategoricalAccuracy()])\n",
    "\n",
    "model.summary()"
   ]
  },
  {
   "cell_type": "markdown",
   "id": "8fdb5cce",
   "metadata": {},
   "source": [
    "### Model training"
   ]
  },
  {
   "cell_type": "code",
   "execution_count": 28,
   "id": "cddbaede",
   "metadata": {},
   "outputs": [],
   "source": [
    "train_and_save = False # <<< PAY ATTENTION <<<"
   ]
  },
  {
   "cell_type": "code",
   "execution_count": 29,
   "id": "bed975c9",
   "metadata": {},
   "outputs": [
    {
     "name": "stdout",
     "output_type": "stream",
     "text": [
      "models/quantized6b_noscaling_keras_d128_model.h5\n"
     ]
    }
   ],
   "source": [
    "model_file = 'models/' + prefix + 'model.h5'\n",
    "\n",
    "history = None\n",
    "if train_and_save:\n",
    "    es = EarlyStopping(monitor='val_sparse_categorical_accuracy', \n",
    "                       mode='max', # don't minimize the accuracy!\n",
    "                       patience=10,\n",
    "                       restore_best_weights=True)\n",
    "\n",
    "    history = model.fit(X_train,\n",
    "                    y_train,\n",
    "                    callbacks=[es],\n",
    "                    epochs=150, \n",
    "                    batch_size=1024,\n",
    "                    validation_split=0.2,\n",
    "                    shuffle=True,\n",
    "                    verbose=0)\n",
    "    \n",
    "    model.save(model_file)\n",
    "print(model_file)\n",
    "co = {}\n",
    "utils._add_supported_quantized_objects(co)\n",
    "model = tf.keras.models.load_model(model_file, custom_objects=co)"
   ]
  },
  {
   "cell_type": "markdown",
   "id": "e5cf6b82",
   "metadata": {},
   "source": [
    "### Model evaluation"
   ]
  },
  {
   "cell_type": "code",
   "execution_count": 30,
   "id": "309677e8",
   "metadata": {},
   "outputs": [
    {
     "data": {
      "image/png": "[encoded data removed]",
      "text/plain": [
       "<PIL.PngImagePlugin.PngImageFile image mode=RGBA size=640x480>"
      ]
     },
     "metadata": {},
     "output_type": "display_data"
    }
   ],
   "source": [
    "if train_and_save:\n",
    "    history_dict = history.history\n",
    "    loss_values = history_dict['loss'] \n",
    "    val_loss_values = history_dict['val_loss'] \n",
    "    epochs = range(1, len(loss_values) + 1) \n",
    "    plt.plot(epochs, loss_values, 'bo', label='Training loss')\n",
    "    plt.plot(epochs, val_loss_values, 'orange', label='Validation loss')\n",
    "    plt.title('Training and validation loss')\n",
    "    plt.xlabel('Epochs')\n",
    "    plt.ylabel('Loss')\n",
    "    plt.legend()\n",
    "    plt.savefig('images/' + prefix + 'loss.png')\n",
    "else:\n",
    "    from PIL import Image\n",
    "\n",
    "    img = Image.open('images/' + prefix + 'loss.png')\n",
    "    display(img)"
   ]
  },
  {
   "cell_type": "code",
   "execution_count": 31,
   "id": "fe0ede71",
   "metadata": {},
   "outputs": [
    {
     "data": {
      "image/png": "[encoded data removed]",
      "text/plain": [
       "<PIL.PngImagePlugin.PngImageFile image mode=RGBA size=640x480>"
      ]
     },
     "metadata": {},
     "output_type": "display_data"
    }
   ],
   "source": [
    "if train_and_save:\n",
    "    acc = history.history['sparse_categorical_accuracy']\n",
    "    val_acc = history.history['val_sparse_categorical_accuracy']\n",
    "    epochs = range(1, len(acc) + 1)\n",
    "    plt.plot(epochs, acc, 'bo', label='Training accuracy')\n",
    "    plt.plot(epochs, val_acc, 'orange', label='Validation accuracy')\n",
    "    plt.title('Training and validation accuracy')\n",
    "    plt.xlabel('Epochs')\n",
    "    plt.ylabel('Accuracy')\n",
    "    plt.legend()\n",
    "    #np.max(val_acc)\n",
    "    plt.savefig('images/' + prefix + 'accuracy.png')\n",
    "    plt.show()\n",
    "else:\n",
    "    from PIL import Image\n",
    "    #from os.path import exists\n",
    "\n",
    "    img = Image.open('images/' + prefix + 'accuracy.png')\n",
    "    display(img)"
   ]
  },
  {
   "cell_type": "code",
   "execution_count": 32,
   "id": "94799472",
   "metadata": {},
   "outputs": [],
   "source": [
    "preds = model.predict(X_test) \n",
    "predictionsFiles = np.argmax(preds, axis=1)"
   ]
  },
  {
   "cell_type": "raw",
   "id": "94c1cf0a",
   "metadata": {},
   "source": [
    "predictionsFiles"
   ]
  },
  {
   "cell_type": "code",
   "execution_count": 33,
   "id": "25c1ce01",
   "metadata": {},
   "outputs": [],
   "source": [
    "pd.DataFrame(predictionsFiles).to_csv(\"csv/\" + prefix + \"predictionsFiles.csv\", header='predict', index=False)"
   ]
  },
  {
   "cell_type": "code",
   "execution_count": 34,
   "id": "0f2184f5",
   "metadata": {},
   "outputs": [],
   "source": [
    "pd.DataFrame(y_test).to_csv(\"csv/\" + prefix + \"true.csv\", header='true', index=False)"
   ]
  },
  {
   "cell_type": "code",
   "execution_count": null,
   "id": "e5c53c9b",
   "metadata": {
    "scrolled": true
   },
   "outputs": [],
   "source": [
    "score = model.evaluate(X_test, y_test, verbose=0)\n",
    "print(\"Test loss (Keras) {}: {}\".format(chosen_model, score[0]))\n",
    "print(\"Test accuracy (Keras) {}: {}\".format(chosen_model, score[1]))"
   ]
  },
  {
   "cell_type": "code",
   "execution_count": null,
   "id": "ef39357f",
   "metadata": {},
   "outputs": [],
   "source": [
    "from sklearn import datasets, svm, metrics\n",
    "disp = metrics.ConfusionMatrixDisplay.from_predictions(y_test, predictionsFiles)\n",
    "disp.figure_.suptitle(\"Multiclassifier Confusion Matrix\")\n",
    "print(f\"Confusion matrix:\\n{disp.confusion_matrix}\")\n",
    "plt.savefig('images/' + prefix + 'confusionMatrix.png')\n",
    "plt.show()"
   ]
  },
  {
   "cell_type": "markdown",
   "id": "2e69a99a",
   "metadata": {},
   "source": [
    "Besides ML accuracy, we can evaluate the model with a metric that is closer to the physical application. We use _the number of tracks that are greater of 1.0 GeV and that are correctly classified as high pT_."
   ]
  },
  {
   "cell_type": "code",
   "execution_count": null,
   "id": "74bc0eea",
   "metadata": {},
   "outputs": [],
   "source": [
    "GeV_0_2, GeV_0_5, GeV_1_0, GeV_2_0 = get_number_of_tracks(dataset + scaling + 'keras_' + chosen_model, base_dir + '/TestSetTruePT.csv')\n",
    "#GeV_0_2, GeV_0_5, GeV_1_0, GeV_2_0 = get_number_of_tracks(dataset + scaling + 'keras_' + chosen_model, base_dir + '/trueTestPT.csv')"
   ]
  },
  {
   "cell_type": "code",
   "execution_count": null,
   "id": "f6af6431",
   "metadata": {},
   "outputs": [],
   "source": [
    "print('---')\n",
    "print('Number of tracks greater than')\n",
    "print('- 0.2GeV correctly classified as high pT:', GeV_0_2)\n",
    "print('- 0.5GeV correctly classified as high pT:', GeV_0_5)\n",
    "print('- 1.0GeV correctly classified as high pT:', GeV_1_0, '<<<')\n",
    "print('- 2.0GeV correctly classified as high pT:', GeV_2_0)\n",
    "print('---')"
   ]
  },
  {
   "cell_type": "markdown",
   "id": "5ecf7a4f",
   "metadata": {},
   "source": [
    "Summary of the results.\n",
    "\n",
    "The model **id** is a label of the kind `dataset_scale_mltype_mlmodel`:\n",
    "- `datased` can be `origin` (the original dataset) or `quantized6b` (the larger dataset with quantized 14th column)\n",
    "- `scale` can be `scaling` (use standard scaler) or `noscaling` (don't scale)\n",
    "- `mltype` can be `keras` (Keras), `qkeras` (QKeras), and `qkeras_foldbatchnorm` (QKeras + patch to fold batch normalization layer in the previous dense layer)\n",
    "- `mlmodel` can be `d128`, `d64`, etc."
   ]
  },
  {
   "cell_type": "code",
   "execution_count": null,
   "id": "6fdb4c28",
   "metadata": {},
   "outputs": [],
   "source": [
    "with pd.option_context('display.float_format', '{:0.4f}'.format):\n",
    "    model_id = dataset + scaling + model_type + '_' + chosen_model\n",
    "    data = pd.DataFrame([[model_id, score[0], score[1], GeV_0_2, GeV_0_5, GeV_1_0, GeV_2_0]], columns=[\"id\", \"loss\", \"accuracy\", \"nt_gev02\", \"nt_gev05\", \"nt_gev10\", \"nt_gev20\"])\n",
    "    display(data)"
   ]
  },
  {
   "cell_type": "markdown",
   "id": "e6b1cc55",
   "metadata": {},
   "source": [
    "Current and previous results"
   ]
  },
  {
   "cell_type": "code",
   "execution_count": null,
   "id": "a1323081",
   "metadata": {},
   "outputs": [],
   "source": [
    "results_filename = 'csv/results.csv'\n",
    "if train_and_save:\n",
    "    write_results(results_filename, model_id, score[0], score[1], GeV_0_2, GeV_0_5, GeV_1_0, GeV_2_0)"
   ]
  },
  {
   "cell_type": "code",
   "execution_count": null,
   "id": "3b597e6d",
   "metadata": {},
   "outputs": [],
   "source": [
    "print_results(results_filename)"
   ]
  },
  {
   "cell_type": "markdown",
   "id": "1cda2500",
   "metadata": {},
   "source": [
    "Average results so far"
   ]
  },
  {
   "cell_type": "code",
   "execution_count": null,
   "id": "e4c61112",
   "metadata": {},
   "outputs": [],
   "source": [
    "print_avg_results(results_filename)"
   ]
  },
  {
   "cell_type": "code",
   "execution_count": null,
   "id": "d23c3043",
   "metadata": {},
   "outputs": [],
   "source": [
    "plot_avg_results(results_filename, accuracy_th=0.76, tracks_th=0.9)"
   ]
  },
  {
   "cell_type": "markdown",
   "id": "d7ee7f4e",
   "metadata": {},
   "source": [
    "## Model (QKeras)\n",
    "\n",
    "Mostly the same as the previous section, but now we are usin QKeras"
   ]
  },
  {
   "cell_type": "markdown",
   "id": "ad7c3c7f",
   "metadata": {},
   "source": [
    "### Model definition"
   ]
  },
  {
   "cell_type": "code",
   "execution_count": null,
   "id": "cd7f5006",
   "metadata": {},
   "outputs": [],
   "source": [
    "qmodels = {}"
   ]
  },
  {
   "cell_type": "markdown",
   "id": "bf2dd0bd",
   "metadata": {},
   "source": [
    "#### d128"
   ]
  },
  {
   "cell_type": "code",
   "execution_count": null,
   "id": "5af05867-d2f2-4be1-9bd1-f179487a47ee",
   "metadata": {},
   "outputs": [],
   "source": [
    "# def CreateQModel(shape, nb_classes):\n",
    "#     x = x_in = Input(shape)\n",
    "#     x = QDense(128,\n",
    "#         kernel_quantizer=quantized_bits(5,0,alpha=1), bias_quantizer=quantized_bits(5,0,alpha=1),\n",
    "#         name=\"dense1\")(x)\n",
    "#     x = keras.layers.BatchNormalization()(x)\n",
    "#     #x = keras.layers.Dropout(0.1)(x)\n",
    "#     x = QActivation(\"quantized_relu(10,0)\", name=\"relu1\")(x)\n",
    "#     x = QDense(3,\n",
    "#         kernel_quantizer=quantized_bits(5,0,alpha=1), bias_quantizer=quantized_bits(5,0,alpha=1),\n",
    "#         name=\"dense2\")(x)\n",
    "#     x = Activation(\"softmax\", name=\"softmax\")(x)\n",
    "#     model = Model(inputs=x_in, outputs=x)\n",
    "#     return model\n",
    "\n",
    "# qmodels['d128'] = {\n",
    "#     'prefix': dataset + scaling + 'qkeras_d128_',\n",
    "#      'type'  : 'qkeras_',\n",
    "#     'def': CreateQModel}\n",
    "\n",
    "# Fold BatchNormalization in QDense\n",
    "def CreateQModel(shape, nb_classes):\n",
    "    x = x_in = Input(shape)\n",
    "    x = QDenseBatchnorm(128,\n",
    "        kernel_quantizer=quantized_bits(5,0,alpha=1), bias_quantizer=quantized_bits(5,0,alpha=1),\n",
    "        name=\"dense1\")(x)\n",
    "    x = QActivation(\"quantized_relu(10,0)\", name=\"relu1\")(x)\n",
    "    x = QDense(3,\n",
    "        kernel_quantizer=quantized_bits(5,0,alpha=1), bias_quantizer=quantized_bits(5,0,alpha=1),\n",
    "        name=\"dense2\")(x)\n",
    "    x = Activation(\"softmax\", name=\"softmax\")(x)\n",
    "    model = Model(inputs=x_in, outputs=x)\n",
    "    return model\n",
    "\n",
    "qmodels['d128'] = {\n",
    "    'prefix': dataset + scaling + 'qkeras_foldbatchnorm_d128_',\n",
    "    'type'  : 'qkeras_foldbatchnorm',\n",
    "    'def'   : CreateQModel}"
   ]
  },
  {
   "cell_type": "markdown",
   "id": "579bf3d9",
   "metadata": {},
   "source": [
    "#### d64"
   ]
  },
  {
   "cell_type": "raw",
   "id": "f12ebed9",
   "metadata": {},
   "source": [
    "# prefix = scaling + 'qkeras_d64'\n",
    "# def CreateQModel(shape, nb_classes):\n",
    "#     x = x_in = Input(shape)\n",
    "#     x = QDense(128,\n",
    "#         kernel_quantizer=quantized_bits(5,0,alpha=1), bias_quantizer=quantized_bits(5,0,alpha=1),\n",
    "#         name=\"dense1\")(x)\n",
    "#     x = keras.layers.BatchNormalization()(x)\n",
    "#     x = QActivation(\"quantized_relu(10,0)\", name=\"relu1\")(x)\n",
    "#     x = QDense(3,\n",
    "#         kernel_quantizer=quantized_bits(5,0,alpha=1), bias_quantizer=quantized_bits(5,0,alpha=1),\n",
    "#         name=\"dense2\")(x)\n",
    "#     x = Activation(\"softmax\", name=\"softmax\")(x)\n",
    "#     model = Model(inputs=x_in, outputs=x)\n",
    "#     return model\n",
    "\n",
    "# Fold BatchNormalization in QDense\n",
    "def CreateQModel(shape, nb_classes):\n",
    "    x = x_in = Input(shape)\n",
    "    x = QDenseBatchnorm(64,\n",
    "        kernel_quantizer=quantized_bits(5,0,alpha=1), bias_quantizer=quantized_bits(5,0,alpha=1),\n",
    "        name=\"dense1\")(x)\n",
    "    x = QActivation(\"quantized_relu(10,0)\", name=\"relu1\")(x)\n",
    "    x = QDense(3,\n",
    "        kernel_quantizer=quantized_bits(5,0,alpha=1), bias_quantizer=quantized_bits(5,0,alpha=1),\n",
    "        name=\"dense2\")(x)\n",
    "    x = Activation(\"softmax\", name=\"softmax\")(x)\n",
    "    model = Model(inputs=x_in, outputs=x)\n",
    "    return model\n",
    "\n",
    "qmodels['d64'] = {'prefix': dataset + scaling + 'qkeras_foldbatchnorm_d64_', 'def': CreateQModel}"
   ]
  },
  {
   "cell_type": "markdown",
   "id": "656dadb4",
   "metadata": {},
   "source": [
    "#### d64_d32"
   ]
  },
  {
   "cell_type": "raw",
   "id": "a029729d",
   "metadata": {},
   "source": [
    "# prefix = scaling + 'qkeras_d64_d32_'\n",
    "# def CreateQModel(shape, nb_classes):\n",
    "#     x = x_in = Input(shape)\n",
    "#     x = QDense(128,\n",
    "#         kernel_quantizer=quantized_bits(5,0,alpha=1), bias_quantizer=quantized_bits(5,0,alpha=1),\n",
    "#         name=\"dense1\")(x)\n",
    "#     x = keras.layers.BatchNormalization()(x)\n",
    "#     x = QActivation(\"quantized_relu(10,0)\", name=\"relu1\")(x)\n",
    "#     x = QDense(3,\n",
    "#         kernel_quantizer=quantized_bits(5,0,alpha=1), bias_quantizer=quantized_bits(5,0,alpha=1),\n",
    "#         name=\"dense2\")(x)\n",
    "#     x = Activation(\"softmax\", name=\"softmax\")(x)\n",
    "#     model = Model(inputs=x_in, outputs=x)\n",
    "#     return model\n",
    "\n",
    "# Fold BatchNormalization in QDense\n",
    "def CreateQModel(shape, nb_classes):\n",
    "    x = x_in = Input(shape)\n",
    "    x = QDenseBatchnorm(64,\n",
    "        kernel_quantizer=quantized_bits(5,0,alpha=1), bias_quantizer=quantized_bits(5,0,alpha=1),\n",
    "        name=\"dense1\")(x)\n",
    "    x = QActivation(\"quantized_relu(10,0)\", name=\"relu1\")(x)\n",
    "    x = QDense(32,\n",
    "         kernel_quantizer=quantized_bits(5,0,alpha=1), bias_quantizer=quantized_bits(5,0,alpha=1),\n",
    "         name=\"dense2\")(x)\n",
    "    x = QActivation(\"quantized_relu(10,0)\", name=\"relu2\")(x)\n",
    "    x = QDense(3,\n",
    "        kernel_quantizer=quantized_bits(5,0,alpha=1), bias_quantizer=quantized_bits(5,0,alpha=1),\n",
    "        name=\"dense3\")(x)\n",
    "    x = Activation(\"softmax\", name=\"softmax\")(x)\n",
    "    model = Model(inputs=x_in, outputs=x)\n",
    "    return model\n",
    "\n",
    "qmodels['d64_d32'] = {'prefix': dataset + scaling + 'qkeras_foldbatchnorm_d64_d32_', 'def': CreateQModel}"
   ]
  },
  {
   "cell_type": "markdown",
   "id": "af1498dd",
   "metadata": {},
   "source": [
    "#### d32_d32"
   ]
  },
  {
   "cell_type": "raw",
   "id": "a4c4acfa",
   "metadata": {},
   "source": [
    "# prefix = scaling + 'qkeras_d64_d32_'\n",
    "# def CreateQModel(shape, nb_classes):\n",
    "#     x = x_in = Input(shape)\n",
    "#     x = QDense(128,\n",
    "#         kernel_quantizer=quantized_bits(5,0,alpha=1), bias_quantizer=quantized_bits(5,0,alpha=1),\n",
    "#         name=\"dense1\")(x)\n",
    "#     x = keras.layers.BatchNormalization()(x)\n",
    "#     x = QActivation(\"quantized_relu(10,0)\", name=\"relu1\")(x)\n",
    "#     x = QDense(3,\n",
    "#         kernel_quantizer=quantized_bits(5,0,alpha=1), bias_quantizer=quantized_bits(5,0,alpha=1),\n",
    "#         name=\"dense2\")(x)\n",
    "#     x = Activation(\"softmax\", name=\"softmax\")(x)\n",
    "#     model = Model(inputs=x_in, outputs=x)\n",
    "#     return model\n",
    "\n",
    "# Fold BatchNormalization in QDense\n",
    "prefix = dataset + scaling + 'qkeras_foldbatchnorm_d32_d32_'\n",
    "def CreateQModel(shape, nb_classes):\n",
    "    x = x_in = Input(shape)\n",
    "    x = QDenseBatchnorm(32,\n",
    "        kernel_quantizer=quantized_bits(5,0,alpha=1), bias_quantizer=quantized_bits(5,0,alpha=1),\n",
    "        name=\"dense1\")(x)\n",
    "    x = QActivation(\"quantized_relu(10,0)\", name=\"relu1\")(x)\n",
    "    x = QDense(32,\n",
    "         kernel_quantizer=quantized_bits(5,0,alpha=1), bias_quantizer=quantized_bits(5,0,alpha=1),\n",
    "         name=\"dense2\")(x)\n",
    "    x = QActivation(\"quantized_relu(10,0)\", name=\"relu2\")(x)\n",
    "    x = QDense(3,\n",
    "        kernel_quantizer=quantized_bits(5,0,alpha=1), bias_quantizer=quantized_bits(5,0,alpha=1),\n",
    "        name=\"dense3\")(x)\n",
    "    x = Activation(\"softmax\", name=\"softmax\")(x)\n",
    "    model = Model(inputs=x_in, outputs=x)\n",
    "    return model\n",
    "\n",
    "\n",
    "qmodels['d32_d32'] = {'prefix': dataset + scaling + 'qkeras_foldbatchnorm_d32_d32_', 'def': CreateQModel}"
   ]
  },
  {
   "cell_type": "markdown",
   "id": "1945dd28",
   "metadata": {},
   "source": [
    "#### d128_q6"
   ]
  },
  {
   "cell_type": "raw",
   "id": "0cb071fd",
   "metadata": {},
   "source": [
    "# prefix = scaling + 'qkeras_d64'\n",
    "# def CreateQModel(shape, nb_classes):\n",
    "#     x = x_in = Input(shape)\n",
    "#     x = QDense(128,\n",
    "#         kernel_quantizer=quantized_bits(5,0,alpha=1), bias_quantizer=quantized_bits(5,0,alpha=1),\n",
    "#         name=\"dense1\")(x)\n",
    "#     x = keras.layers.BatchNormalization()(x)\n",
    "#     x = QActivation(\"quantized_relu(10,0)\", name=\"relu1\")(x)\n",
    "#     x = QDense(3,\n",
    "#         kernel_quantizer=quantized_bits(5,0,alpha=1), bias_quantizer=quantized_bits(5,0,alpha=1),\n",
    "#         name=\"dense2\")(x)\n",
    "#     x = Activation(\"softmax\", name=\"softmax\")(x)\n",
    "#     model = Model(inputs=x_in, outputs=x)\n",
    "#     return model\n",
    "\n",
    "# Fold BatchNormalization in QDense\n",
    "def CreateQModel(shape, nb_classes):\n",
    "    x = x_in = Input(shape)\n",
    "    x = QActivation(\"quantized_bits(6,0)\", name = \"quantizeInputs\")(x) \n",
    "    x = QDenseBatchnorm(128,\n",
    "        kernel_quantizer=quantized_bits(5,0,alpha=1), bias_quantizer=quantized_bits(5,0,alpha=1),\n",
    "        name=\"dense1\")(x)\n",
    "    x = QActivation(\"quantized_relu(10,0)\", name=\"relu1\")(x)\n",
    "    x = QDense(3,\n",
    "        kernel_quantizer=quantized_bits(5,0,alpha=1), bias_quantizer=quantized_bits(5,0,alpha=1),\n",
    "        name=\"dense2\")(x)\n",
    "    x = Activation(\"softmax\", name=\"softmax\")(x)\n",
    "    model = Model(inputs=x_in, outputs=x)\n",
    "    return model\n",
    "\n",
    "qmodels['d128_q6'] = {'prefix': dataset + scaling + 'qkeras_foldbatchnorm_d64_q6_', 'def': CreateQModel}"
   ]
  },
  {
   "cell_type": "markdown",
   "id": "bc6b18a5",
   "metadata": {},
   "source": [
    "#### Create and summary"
   ]
  },
  {
   "cell_type": "code",
   "execution_count": null,
   "id": "8f67e57a",
   "metadata": {},
   "outputs": [],
   "source": [
    "print_dictionary(models)"
   ]
  },
  {
   "cell_type": "code",
   "execution_count": null,
   "id": "20c95f45",
   "metadata": {},
   "outputs": [],
   "source": [
    "chosen_model = 'd128'  # <<< PAY ATTENTION <<<\n",
    "\n",
    "prefix = qmodels[chosen_model]['prefix']\n",
    "model_def = qmodels[chosen_model]['def']\n",
    "model_type = qmodels[chosen_model]['type']"
   ]
  },
  {
   "cell_type": "code",
   "execution_count": null,
   "id": "1d8610bb",
   "metadata": {},
   "outputs": [],
   "source": [
    "model = model_def(X_train.shape[1:], y_train.shape[-1])\n",
    "\n",
    "model.compile(optimizer=Adam(),\n",
    "              loss=keras.losses.SparseCategoricalCrossentropy(from_logits=True), # default from_logits=False\n",
    "              metrics=[keras.metrics.SparseCategoricalAccuracy()])\n",
    "\n",
    "model.summary()"
   ]
  },
  {
   "cell_type": "markdown",
   "id": "6bd850c3",
   "metadata": {},
   "source": [
    "### Model training"
   ]
  },
  {
   "cell_type": "code",
   "execution_count": null,
   "id": "c619c9c0",
   "metadata": {},
   "outputs": [],
   "source": [
    "train_and_save = False # <<< PAY ATTENTION <<<"
   ]
  },
  {
   "cell_type": "code",
   "execution_count": null,
   "id": "4720ce89-2eae-4016-a7c2-955ae4bbaae9",
   "metadata": {
    "scrolled": true
   },
   "outputs": [],
   "source": [
    "model_file = 'models/' + prefix + 'model.h5'\n",
    "\n",
    "history = None\n",
    "if train_and_save:\n",
    "    es = EarlyStopping(monitor='val_sparse_categorical_accuracy', \n",
    "                                   mode='max', # don't minimize the accuracy!\n",
    "                                   patience=10,\n",
    "                                   restore_best_weights=True)\n",
    "\n",
    "    history = model.fit(X_train,\n",
    "                    y_train,\n",
    "                    callbacks=[es],\n",
    "                    epochs=150, \n",
    "                    batch_size=1024,\n",
    "                    validation_split=0.2,\n",
    "                    shuffle=True,\n",
    "                    verbose=0)\n",
    "    \n",
    "    model.save(model_file)\n",
    "    \n",
    "co = {}\n",
    "utils._add_supported_quantized_objects(co)\n",
    "model = tf.keras.models.load_model(model_file, custom_objects=co)"
   ]
  },
  {
   "cell_type": "raw",
   "id": "19db391b",
   "metadata": {},
   "source": [
    "from keras_sequential_ascii import keras2ascii\n",
    "keras2ascii(model)"
   ]
  },
  {
   "cell_type": "markdown",
   "id": "f2a04ec9",
   "metadata": {},
   "source": [
    "### Model evaluation"
   ]
  },
  {
   "cell_type": "code",
   "execution_count": null,
   "id": "0bb4c82a-85d8-4e6c-9396-5ea7ec79e0c4",
   "metadata": {},
   "outputs": [],
   "source": [
    "if train_and_save:\n",
    "    history_dict = history.history\n",
    "    loss_values = history_dict['loss'] \n",
    "    val_loss_values = history_dict['val_loss'] \n",
    "    epochs = range(1, len(loss_values) + 1) \n",
    "    plt.plot(epochs, loss_values, 'bo', label='Training loss')\n",
    "    plt.plot(epochs, val_loss_values, 'orange', label='Validation loss')\n",
    "    plt.title('Training and validation loss')\n",
    "    plt.xlabel('Epochs')\n",
    "    plt.ylabel('Loss')\n",
    "    plt.legend()\n",
    "    plt.savefig('images/' + prefix + 'loss.png')\n",
    "else:\n",
    "    from PIL import Image\n",
    "\n",
    "    img = Image.open('images/' + prefix + 'loss.png')\n",
    "    display(img)"
   ]
  },
  {
   "cell_type": "code",
   "execution_count": null,
   "id": "0c4da634-9a07-4808-93f1-afc1428c08d2",
   "metadata": {},
   "outputs": [],
   "source": [
    "if train_and_save:\n",
    "    acc = history.history['sparse_categorical_accuracy']\n",
    "    val_acc = history.history['val_sparse_categorical_accuracy']\n",
    "    epochs = range(1, len(acc) + 1)\n",
    "    plt.plot(epochs, acc, 'bo', label='Training accuracy')\n",
    "    plt.plot(epochs, val_acc, 'orange', label='Validation accuracy')\n",
    "    plt.title('Training and validation accuracy')\n",
    "    plt.xlabel('Epochs')\n",
    "    plt.ylabel('Accuracy')\n",
    "    plt.legend()\n",
    "    #np.max(val_acc)\n",
    "    plt.savefig('images/' + prefix + 'accuracy.png')\n",
    "    plt.show()\n",
    "else:\n",
    "    from PIL import Image\n",
    "    #from os.path import exists\n",
    "\n",
    "    img = Image.open('images/' + prefix + 'accuracy.png')\n",
    "    display(img)"
   ]
  },
  {
   "cell_type": "code",
   "execution_count": null,
   "id": "1378681c-a72c-4380-84bd-9fcf5b782038",
   "metadata": {},
   "outputs": [],
   "source": [
    "preds = model.predict(X_test) \n",
    "predictionsFiles = np.argmax(preds, axis=1)"
   ]
  },
  {
   "cell_type": "raw",
   "id": "9e22a93b",
   "metadata": {},
   "source": [
    "predictionsFiles"
   ]
  },
  {
   "cell_type": "code",
   "execution_count": null,
   "id": "091327bd-28ed-4570-8f00-9315e209bf7e",
   "metadata": {},
   "outputs": [],
   "source": [
    "pd.DataFrame(predictionsFiles).to_csv(\"csv/\" + prefix + \"predictionsFiles.csv\", header='predict', index=False)"
   ]
  },
  {
   "cell_type": "code",
   "execution_count": null,
   "id": "5fa23cc3-3f30-4cd4-85e5-ae6064869378",
   "metadata": {},
   "outputs": [],
   "source": [
    "pd.DataFrame(y_test).to_csv(\"csv/\" + prefix + \"true.csv\", header='true', index=False)"
   ]
  },
  {
   "cell_type": "code",
   "execution_count": null,
   "id": "caf53631-bfae-4276-9400-30bbf6bc5490",
   "metadata": {},
   "outputs": [],
   "source": [
    "score = model.evaluate(X_test, y_test, verbose=0)\n",
    "print(\"Test loss (QKeras) {}: {}\".format(chosen_model, score[0]))\n",
    "print(\"Test accuracy (QKeras) {}: {}\".format(chosen_model, score[1]))"
   ]
  },
  {
   "cell_type": "code",
   "execution_count": null,
   "id": "9edf8385-5618-4176-aba4-f1fc0c459df7",
   "metadata": {},
   "outputs": [],
   "source": [
    "from sklearn import datasets, svm, metrics\n",
    "disp = metrics.ConfusionMatrixDisplay.from_predictions(y_test, predictionsFiles)\n",
    "disp.figure_.suptitle(\"Multiclassifier Confusion Matrix\")\n",
    "print(f\"Confusion matrix:\\n{disp.confusion_matrix}\")\n",
    "plt.savefig('images/' + prefix + 'confusionMatrix.png')\n",
    "plt.show()"
   ]
  },
  {
   "cell_type": "code",
   "execution_count": null,
   "id": "2fc62a7d",
   "metadata": {},
   "outputs": [],
   "source": [
    "GeV_0_2, GeV_0_5, GeV_1_0, GeV_2_0 = get_number_of_tracks(dataset + scaling + 'qkeras_foldbatchnorm_' + chosen_model, base_dir + '/TestSetTruePT.csv')\n",
    "#GeV_0_2, GeV_0_5, GeV_1_0, GeV_2_0 = get_number_of_tracks(dataset + scaling + 'qkeras_foldbatchnorm_' + chosen_model, base_dir + '/trueTestPT.csv')"
   ]
  },
  {
   "cell_type": "code",
   "execution_count": null,
   "id": "e366f25b",
   "metadata": {},
   "outputs": [],
   "source": [
    "print('---')\n",
    "print('Number of tracks greater than')\n",
    "print('- 0.2GeV correctly classified as high pT:', GeV_0_2)\n",
    "print('- 0.5GeV correctly classified as high pT:', GeV_0_5)\n",
    "print('- 1.0GeV correctly classified as high pT:', GeV_1_0)\n",
    "print('- 2.0GeV correctly classified as high pT:', GeV_2_0)\n",
    "print('---')"
   ]
  },
  {
   "cell_type": "code",
   "execution_count": null,
   "id": "c8139f58",
   "metadata": {},
   "outputs": [],
   "source": [
    "with pd.option_context('display.float_format', '{:0.4f}'.format):\n",
    "    model_id = dataset + scaling + model_type + '_' + chosen_model\n",
    "    data = pd.DataFrame([[model_id, score[0], score[1], GeV_0_2, GeV_0_5, GeV_1_0, GeV_2_0]], columns=[\"id\", \"loss\", \"accuracy\", \"nt_gev02\", \"nt_gev05\", \"nt_gev10\", \"nt_gev20\"])\n",
    "    display(data)"
   ]
  },
  {
   "cell_type": "code",
   "execution_count": null,
   "id": "f12caa7b",
   "metadata": {},
   "outputs": [],
   "source": [
    "results_filename = 'csv/results.csv'\n",
    "if train_and_save:\n",
    "    write_results(results_filename, model_id, score[0], score[1], GeV_0_2, GeV_0_5, GeV_1_0, GeV_2_0)"
   ]
  },
  {
   "cell_type": "code",
   "execution_count": null,
   "id": "f139a820",
   "metadata": {},
   "outputs": [],
   "source": [
    "print_results(results_filename)"
   ]
  },
  {
   "cell_type": "code",
   "execution_count": null,
   "id": "f6ec8b5f",
   "metadata": {},
   "outputs": [],
   "source": [
    "print_avg_results(results_filename)"
   ]
  },
  {
   "cell_type": "code",
   "execution_count": null,
   "id": "86ff2071",
   "metadata": {},
   "outputs": [],
   "source": [
    "plot_avg_results(results_filename, accuracy_th=0.76, tracks_th=0.9)"
   ]
  },
  {
   "cell_type": "markdown",
   "id": "ee5cc7da",
   "metadata": {},
   "source": [
    "## Hardware translation\n",
    "\n",
    "### hls4ml configuration"
   ]
  },
  {
   "cell_type": "code",
   "execution_count": null,
   "id": "c4af5eab",
   "metadata": {},
   "outputs": [],
   "source": [
    "import hls4ml\n",
    "import plotting\n",
    "\n",
    "prefix = 'hls4ml_' + prefix"
   ]
  },
  {
   "cell_type": "code",
   "execution_count": null,
   "id": "a702497f",
   "metadata": {},
   "outputs": [],
   "source": [
    "print('hls4ml ver.', hls4ml.__version__)"
   ]
  },
  {
   "cell_type": "code",
   "execution_count": null,
   "id": "a68b0d22",
   "metadata": {},
   "outputs": [],
   "source": [
    "import os\n",
    "os.environ['PATH'] = '/opt/xilinx/Vivado/2019.1/bin:' + os.environ['PATH']\n",
    "def is_tool(name):\n",
    "    from distutils.spawn import find_executable\n",
    "    return find_executable(name) is not None\n",
    "\n",
    "print('-----------------------------------')\n",
    "if not is_tool('vivado_hls'):\n",
    "    print('Xilinx Vivado HLS is NOT in the PATH')\n",
    "else:\n",
    "    print('Xilinx Vivado HLS is in the PATH')\n",
    "print('-----------------------------------')"
   ]
  },
  {
   "cell_type": "code",
   "execution_count": null,
   "id": "5257322b",
   "metadata": {},
   "outputs": [],
   "source": [
    "hls4ml.model.optimizer.OutputRoundingSaturationMode.layers = ['Activation']\n",
    "hls4ml.model.optimizer.OutputRoundingSaturationMode.rounding_mode = 'AP_RND'\n",
    "hls4ml.model.optimizer.OutputRoundingSaturationMode.saturation_mode = 'AP_SAT'\n",
    "\n",
    "# hls4ml.model.optimizer.get_optimizer('output_rounding_saturation_mode').configure(\n",
    "#     layers=['Activation'],\n",
    "#     rounding_mode='AP_RND_CONV',\n",
    "#     saturation_mode='AP_SAT')\n",
    "\n",
    "hconfig = hls4ml.utils.config_from_keras_model(model, granularity='name')\n",
    "\n",
    "hconfig['Model']['Precision'] = 'ap_fixed<16,8>'\n",
    "\n",
    "# Input\n",
    "hconfig['LayerName']['input_1']['Precision']['result'] = 'ap_fixed<16,8>'\n",
    "\n",
    "# Dense\n",
    "hconfig['LayerName']['dense1']['accum_t'] = 'ap_fixed<16,8>'\n",
    "hconfig['LayerName']['dense1']['Precision']['result'] = 'ap_fixed<16,8>'\n",
    "\n",
    "# ReLU\n",
    "#hconfig['LayerName']['relu1']['Precision']['result'] = 'ap_fixed<10,0>'\n",
    "\n",
    "# Dense\n",
    "hconfig['LayerName']['dense2']['accum_t'] = 'ap_fixed<16,8>'\n",
    "hconfig['LayerName']['dense2']['Precision']['result'] = 'ap_fixed<16,8>'\n",
    "\n",
    "# # ReLU\n",
    "# #hconfig['LayerName']['relu2']['Precision']['result'] = 'ap_fixed<10,0>'\n",
    "\n",
    "# # Dense\n",
    "# hconfig['LayerName']['dense3']['accum_t'] = 'ap_fixed<16,8>'\n",
    "# hconfig['LayerName']['dense3']['Precision']['result'] = 'ap_fixed<16,8>'\n",
    "\n",
    "# SoftMax\n",
    "# #hconfig['LayerName']['softmax']['Precision'] = 'ap_fixed<128,64>'\n",
    "\n",
    "hconfig['LayerName']['softmax']['exp_table_t'] = 'ap_fixed<18,8>'\n",
    "hconfig['LayerName']['softmax']['inv_table_t'] = 'ap_fixed<18,4>'\n",
    "hconfig['LayerName']['softmax']['Precision'] = 'ap_fixed<16,6>'\n",
    "\n",
    "# Required for the folding of BatchNormalization\n",
    "#hconfig['SkipOptimizers'] = ['relu_merge']\n",
    "\n",
    "for layer in hconfig['LayerName'].keys():\n",
    "    hconfig['LayerName'][layer]['Trace'] = True"
   ]
  },
  {
   "cell_type": "code",
   "execution_count": null,
   "id": "82919641",
   "metadata": {},
   "outputs": [],
   "source": [
    "plotting.print_dict(hconfig)"
   ]
  },
  {
   "cell_type": "code",
   "execution_count": null,
   "id": "e6e7f904",
   "metadata": {},
   "outputs": [],
   "source": [
    "hmodel = hls4ml.converters.convert_from_keras_model(model,\n",
    "                                                    clock_period=10.0,\n",
    "                                                    hls_config=hconfig,\n",
    "                                                    output_dir=prefix + 'vivado_prj',\n",
    "                                                    part='XC7A100T')"
   ]
  },
  {
   "cell_type": "code",
   "execution_count": null,
   "id": "91684a84",
   "metadata": {},
   "outputs": [],
   "source": [
    "hls4ml.utils.plot_model(hmodel, show_shapes=True, show_precision=True, to_file=None)"
   ]
  },
  {
   "cell_type": "markdown",
   "id": "01e86dd8",
   "metadata": {},
   "source": [
    "### Bit-accurate simulation"
   ]
  },
  {
   "cell_type": "code",
   "execution_count": null,
   "id": "c09e51b9",
   "metadata": {},
   "outputs": [],
   "source": [
    "hpreds, htrace = hmodel.trace(np.ascontiguousarray(X_test))"
   ]
  },
  {
   "cell_type": "code",
   "execution_count": null,
   "id": "28d814fb",
   "metadata": {},
   "outputs": [],
   "source": [
    "trace = hls4ml.model.profiling.get_ymodel_keras(model, X_test)"
   ]
  },
  {
   "cell_type": "code",
   "execution_count": null,
   "id": "68aa91af",
   "metadata": {},
   "outputs": [],
   "source": [
    "for layer in htrace.keys():\n",
    "    plt.figure()\n",
    "    klayer = layer\n",
    "    if '_alpha' in layer:\n",
    "        klayer = layer.replace('_alpha', '')\n",
    "    plt.scatter(htrace[layer].flatten(), trace[klayer].flatten(), s=0.2)\n",
    "    min_x = min(np.amin(htrace[layer]), np.amin(trace[klayer]))\n",
    "    max_x = max(np.amax(htrace[layer]), np.amax(trace[klayer]))\n",
    "    plt.plot([min_x, max_x], [min_x, max_x], c='gray')\n",
    "    plt.xlabel('hls4ml {}'.format(layer))\n",
    "    plt.ylabel('QKeras {}'.format(klayer))\n",
    "    plt.savefig(os.path.join(prefix + 'vivado_prj', 'profiling_{}.png'.format(layer)), dpi=300)"
   ]
  },
  {
   "cell_type": "code",
   "execution_count": null,
   "id": "db5363d5",
   "metadata": {},
   "outputs": [],
   "source": [
    "for layer in hconfig['LayerName'].keys():\n",
    "    hconfig['LayerName'][layer]['Trace'] = False\n",
    "\n",
    "hmodel = hls4ml.converters.convert_from_keras_model(model,\n",
    "                                                    clock_period=10.0,\n",
    "                                                    hls_config=hconfig,\n",
    "                                                    output_dir=prefix + 'vivado_prj',\n",
    "                                                    part='XC7A100T')\n",
    "\n",
    "hmodel.compile()"
   ]
  },
  {
   "cell_type": "code",
   "execution_count": null,
   "id": "aa9d3e26",
   "metadata": {},
   "outputs": [],
   "source": [
    "hpreds = hmodel.predict(np.ascontiguousarray(X_test)) "
   ]
  },
  {
   "cell_type": "code",
   "execution_count": null,
   "id": "8e377c39",
   "metadata": {},
   "outputs": [],
   "source": [
    "from sklearn.metrics import accuracy_score\n",
    "print('-----------------------------------')\n",
    "print(\"QKeras accuracy: {:.4f}%\".format(100*accuracy_score(np.argmax(y_test_oh.values, axis=1), np.argmax(preds, axis=1))))\n",
    "print(\"hls4ml accuracy: {:.4f}%\".format(100*accuracy_score(np.argmax(y_test_oh.values, axis=1), np.argmax(hpreds, axis=1))))\n",
    "print('-----------------------------------')"
   ]
  },
  {
   "cell_type": "raw",
   "id": "8dacd52e",
   "metadata": {},
   "source": [
    "for i in range(5):\n",
    "    print('X[{}], {}'.format(i, X_test[i]))\n",
    "    print('golden y[{}]'.format(i), y_test[i])\n",
    "    print('onehot y[{}]'.format(i), y_test_oh.values[i])\n",
    "    print('QKeras y[{}]'.format(i), preds[i])\n",
    "    print('hls4ml y[{}]'.format(i), hpreds[i])\n",
    "    print()"
   ]
  },
  {
   "cell_type": "code",
   "execution_count": null,
   "id": "bc5f6825",
   "metadata": {},
   "outputs": [],
   "source": [
    "display_side_by_side(pd.DataFrame(X_test[:5]), titles=['Scaled input'])"
   ]
  },
  {
   "cell_type": "code",
   "execution_count": null,
   "id": "47771f5d",
   "metadata": {},
   "outputs": [],
   "source": [
    "display_side_by_side(pd.DataFrame(y_test[:5]),\n",
    "                     pd.DataFrame(y_test_oh[:5]),\n",
    "                     pd.DataFrame(preds[:5]),\n",
    "                     pd.DataFrame(hpreds[:5]),\n",
    "                     titles=['Expected prediction','Expected prediction (one-hot enc.)', 'QKeras prediction', 'hls4ml prediction'])"
   ]
  },
  {
   "cell_type": "markdown",
   "id": "ddc6495d",
   "metadata": {},
   "source": [
    "### Synthesis"
   ]
  },
  {
   "cell_type": "code",
   "execution_count": null,
   "id": "cd3930a9",
   "metadata": {},
   "outputs": [],
   "source": [
    "# This cell applies a patch/workaround necessary with some version of hls4ml.\n",
    "# It is a poor solution, but it works. Edit patches/project.tcl if you make any change\n",
    "# in this notebook.\n",
    "import shutil\n",
    "_ = shutil.copyfile('patches/project.tcl', prefix + 'vivado_prj/project.tcl')"
   ]
  },
  {
   "cell_type": "code",
   "execution_count": null,
   "id": "1317e526",
   "metadata": {},
   "outputs": [],
   "source": [
    "%%time\n",
    "results = hmodel.build(csim=False)"
   ]
  },
  {
   "cell_type": "code",
   "execution_count": null,
   "id": "610f8456",
   "metadata": {},
   "outputs": [],
   "source": [
    "print('-----------------------------------')\n",
    "#print(results) # Print hashmap\n",
    "hls_results=results\n",
    "#['CSynthesisReport'] \n",
    "print(\"Estimated Clock Period: {} ns\".format(hls_results['EstimatedClockPeriod']))\n",
    "print(\"Best/Worst Latency:     {} / {}\".format(hls_results['BestLatency'], hls_results['WorstLatency']))\n",
    "print(\"Interval Min/Max:       {} / {}\".format(hls_results['IntervalMin'], hls_results['IntervalMax']))\n",
    "print(\"BRAM_18K:               {}, {:0.1f}% (Aval. {})\".format(hls_results['BRAM_18K'], int(hls_results['BRAM_18K'])*100.0/int(hls_results['AvailableBRAM_18K']), hls_results['AvailableBRAM_18K']))\n",
    "print(\"DSP48E:                 {}, {:0.1f}% (Aval. {})\".format(hls_results['DSP48E'], int(hls_results['DSP48E'])*100.0/int(hls_results['AvailableDSP48E']), hls_results['AvailableDSP48E']))\n",
    "print(\"FF:                     {}, {:0.1f}% (Aval. {})\".format(hls_results['FF'], int(hls_results['FF'])*100.0/int(hls_results['AvailableFF']), hls_results['AvailableFF']))\n",
    "print(\"LUT:                    {}, {:0.1f}% (Aval. {})\".format(hls_results['LUT'], int(hls_results['LUT'])*100.0/int(hls_results['AvailableLUT']), hls_results['AvailableLUT']))\n",
    "#print(\"URAM:                   {}, {} (Aval. {})\".format(hls_results['URAM'], int(hls_results['URAM'])*100.0/int(hls_results['AvailableURAM']), hls_results['AvailableURAM']))\n",
    "print('-----------------------------------')"
   ]
  },
  {
   "cell_type": "raw",
   "id": "6d65f3bb",
   "metadata": {},
   "source": [
    "hmodel = hls4ml.converters.convert_from_keras_model(model,\n",
    "                                                    clock_period=10.0,\n",
    "                                                    hls_config=hconfig,\n",
    "                                                    output_dir='hls4ml_catapult_prj',\n",
    "                                                    backend='Catapult')\n",
    "\n",
    "hmodel.compile()"
   ]
  }
 ],
 "metadata": {
  "kernelspec": {
   "display_name": "Python 3 (ipykernel)",
   "language": "python",
   "name": "python3"
  },
  "language_info": {
   "codemirror_mode": {
    "name": "ipython",
    "version": 3
   },
   "file_extension": ".py",
   "mimetype": "text/x-python",
   "name": "python",
   "nbconvert_exporter": "python",
   "pygments_lexer": "ipython3",
   "version": "3.8.13"
  },
  "toc": {
   "base_numbering": 1,
   "nav_menu": {},
   "number_sections": true,
   "sideBar": true,
   "skip_h1_title": false,
   "title_cell": "Table of Contents",
   "title_sidebar": "Contents",
   "toc_cell": false,
   "toc_position": {
    "height": "calc(100% - 180px)",
    "left": "10px",
    "top": "150px",
    "width": "353.217px"
   },
   "toc_section_display": true,
   "toc_window_display": true
  },
  "varInspector": {
   "cols": {
    "lenName": 16,
    "lenType": 16,
    "lenVar": 40
   },
   "kernels_config": {
    "python": {
     "delete_cmd_postfix": "",
     "delete_cmd_prefix": "del ",
     "library": "var_list.py",
     "varRefreshCmd": "print(var_dic_list())"
    },
    "r": {
     "delete_cmd_postfix": ") ",
     "delete_cmd_prefix": "rm(",
     "library": "var_list.r",
     "varRefreshCmd": "cat(var_dic_list()) "
    }
   },
   "types_to_exclude": [
    "module",
    "function",
    "builtin_function_or_method",
    "instance",
    "_Feature"
   ],
   "window_display": false
  }
 },
 "nbformat": 4,
 "nbformat_minor": 5
}
