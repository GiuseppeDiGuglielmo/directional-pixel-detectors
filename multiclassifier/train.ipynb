{
 "cells": [
  {
   "cell_type": "markdown",
   "id": "27f17246",
   "metadata": {},
   "source": [
    "# CMS28 Smart Pix NN"
   ]
  },
  {
   "cell_type": "markdown",
   "id": "092f7870",
   "metadata": {},
   "source": [
    "## Library setup"
   ]
  },
  {
   "cell_type": "markdown",
   "id": "69082377",
   "metadata": {},
   "source": [
    "Disable some console warnings"
   ]
  },
  {
   "cell_type": "code",
   "execution_count": 2,
   "id": "eafd49d2",
   "metadata": {
    "tags": []
   },
   "outputs": [],
   "source": [
    "import os\n",
    "os.environ['TF_XLA_FLAGS'] = '--tf_xla_enable_xla_devices'\n",
    "os.environ['TF_CPP_MIN_LOG_LEVEL'] = '3'"
   ]
  },
  {
   "cell_type": "markdown",
   "id": "2e0f6a50",
   "metadata": {},
   "source": [
    "Import libraries"
   ]
  },
  {
   "cell_type": "code",
   "execution_count": 3,
   "id": "3a8391fa-659e-448d-bc55-8f6c207a2ffb",
   "metadata": {
    "tags": []
   },
   "outputs": [],
   "source": [
    "from sklearn.model_selection import train_test_split\n",
    "from sklearn.metrics import mean_squared_error\n",
    "from sklearn.preprocessing import StandardScaler\n",
    "from sklearn.metrics import confusion_matrix\n",
    "from sklearn.metrics import classification_report\n",
    "from sklearn.model_selection import StratifiedKFold\n",
    "import tensorflow as tf\n",
    "from tensorflow.keras import datasets, layers, models\n",
    "#import keras\n",
    "from tensorflow.keras.models import Sequential\n",
    "from tensorflow.keras.layers import Dense, Dropout, Flatten, Lambda\n",
    "from tensorflow.keras.layers import Conv2D, MaxPooling2D\n",
    "from tensorflow.keras.callbacks import CSVLogger\n",
    "from tensorflow.keras.callbacks import EarlyStopping\n",
    "import matplotlib.pyplot as plt\n",
    "import numpy as np\n",
    "import pandas as pd\n",
    "from pandas import read_csv\n",
    "import math\n",
    "import seaborn as sns\n",
    "from tensorflow.keras.optimizers import Adam\n",
    "\n",
    "from tensorflow.keras.layers import Input, Activation\n",
    "from qkeras import *\n",
    "\n",
    "%matplotlib inline\n",
    "import matplotlib.pyplot as plt"
   ]
  },
  {
   "cell_type": "markdown",
   "id": "78aca1ed",
   "metadata": {},
   "source": [
    "Define some additional helpers"
   ]
  },
  {
   "cell_type": "code",
   "execution_count": 4,
   "id": "cddbe3aa",
   "metadata": {
    "code_folding": [],
    "tags": []
   },
   "outputs": [],
   "source": [
    "from IPython.display import display_html\n",
    "from itertools import chain, cycle\n",
    "def display_side_by_side(*args,titles=cycle([''])):\n",
    "    html_str=''\n",
    "    for df,title in zip(args, chain(titles,cycle(['</br>'])) ):\n",
    "        html_str+='<th style=\"text-align:center\"><td style=\"vertical-align:top\">'\n",
    "        html_str+=f'<h5 style=\"text-align: center;\">{title}</h5>'\n",
    "        html_str+=df.to_html().replace('table','table style=\"display:inline\"')\n",
    "        html_str+='</td></th>'\n",
    "    display_html(html_str,raw=True)"
   ]
  },
  {
   "cell_type": "code",
   "execution_count": 5,
   "id": "d6bf8e84",
   "metadata": {
    "code_folding": [
     0
    ],
    "tags": []
   },
   "outputs": [],
   "source": [
    "def get_number_of_tracks(model_label, test_csv = 'data/oct4_MCwithQuantInputs', pred_csv_dir = 'csv'):\n",
    "    df1 = pd.read_csv(pred_csv_dir + '/' + model_label + '_true.csv')\n",
    "    headers =  [\"true\"]\n",
    "    df1.columns = headers\n",
    "    df2 = pd.read_csv(pred_csv_dir + '/' + model_label + '_predictionsFiles.csv')\n",
    "    headers =  [\"predicted\"]\n",
    "    df2.columns = headers\n",
    "    df3 = pd.concat([df1,df2],  axis=1, join=\"inner\")\n",
    "    dfPT = pd.read_csv(test_csv)\n",
    "    df5 = pd.concat([df1,df2,dfPT],  axis=1, join=\"inner\")\n",
    "    df5.to_csv(pred_csv_dir + '/' + model_label + '_concatenatedSample.csv',index=False)\n",
    "    \n",
    "    df6=pd.read_csv(pred_csv_dir + '/' + model_label + '_concatenatedSample.csv')\n",
    "    \n",
    "    df7 = df6.loc[ (df6['pt'] > 0.2) | (df6['pt'] < -0.2)]\n",
    "    totalNumberRowsSelected = df7.shape[0] \n",
    "    predictedCorrect = df7.loc[ df7['predicted'] == 0]\n",
    "    numberCorrectlyPredictedAsHighPT = predictedCorrect.shape[0] #first number is number of rows\n",
    "    newAccuracyMetric = numberCorrectlyPredictedAsHighPT/totalNumberRowsSelected\n",
    "    \n",
    "    df8 = df6.loc[ (df6['pt'] > 0.5) | (df6['pt'] < -0.5)]\n",
    "    totalNumberRowsSelected_halfGeV = df8.shape[0] \n",
    "    predictedCorrect_halfGeV = df8.loc[ df8['predicted'] == 0]\n",
    "    numberCorrectlyPredictedAsHighPT_halfGeV = predictedCorrect_halfGeV.shape[0] #first number is number of rows\n",
    "    newAccuracyMetric_halfGeV = numberCorrectlyPredictedAsHighPT_halfGeV/totalNumberRowsSelected_halfGeV\n",
    "    \n",
    "    df9 = df6.loc[ (df6['pt'] > 1) | (df6['pt'] < -1)]\n",
    "    totalNumberRowsSelected_1GeV = df9.shape[0] \n",
    "    predictedCorrect_1GeV = df9.loc[df9['predicted'] == 0]\n",
    "    numberCorrectlyPredictedAsHighPT_1GeV = predictedCorrect_1GeV.shape[0] \n",
    "    newAccuracyMetric_1GeV = numberCorrectlyPredictedAsHighPT_1GeV/totalNumberRowsSelected_1GeV\n",
    "\n",
    "    df10 = df6.loc[ (df6['pt'] > 2) | (df6['pt'] < -2)]\n",
    "    totalNumberRowsSelected_2GeV = df10.shape[0] \n",
    "    predictedCorrect_2GeV = df10.loc[df10['predicted'] == 0]\n",
    "    numberCorrectlyPredictedAsHighPT_2GeV = predictedCorrect_2GeV.shape[0] \n",
    "    newAccuracyMetric_2GeV = numberCorrectlyPredictedAsHighPT_2GeV/totalNumberRowsSelected_2GeV\n",
    "\n",
    "    return (newAccuracyMetric, newAccuracyMetric_halfGeV, newAccuracyMetric_1GeV, newAccuracyMetric_2GeV)"
   ]
  },
  {
   "cell_type": "code",
   "execution_count": 6,
   "id": "e1e8f25c",
   "metadata": {
    "code_folding": [
     0
    ],
    "tags": []
   },
   "outputs": [],
   "source": [
    "def write_results(filename, model_id, loss, accuracy, GeV_0_2, GeV_0_5, GeV_1_0, GeV_2_0):\n",
    "    import os\n",
    "    import csv\n",
    "\n",
    "    from datetime import datetime\n",
    "    now = datetime.now()\n",
    "    date_string = now.strftime(\"%d/%m/%Y %H:%M:%S\")\n",
    "\n",
    "    f = open(filename, 'a+')\n",
    "    writer = csv.writer(f)\n",
    "    if os.stat(filename).st_size == 0:\n",
    "        writer.writerow([\"date\", \"id\", \"loss\", \"accuracy\", \"nt_gev02\", \"nt_gev05\", \"nt_gev10\", \"nt_gev20\"])\n",
    "    writer.writerow([date_string, model_id, loss, accuracy, GeV_0_2, GeV_0_5, GeV_1_0, GeV_2_0])\n",
    "    f.close()"
   ]
  },
  {
   "cell_type": "code",
   "execution_count": 7,
   "id": "4d733e1f",
   "metadata": {
    "code_folding": [
     0
    ]
   },
   "outputs": [],
   "source": [
    "def print_results(filename):\n",
    "    import pandas as pd\n",
    "    with pd.option_context('display.float_format', '{:0.4f}'.format):\n",
    "        csv_data = pd.read_csv(filename)\n",
    "        accuracy_avg = csv_data.groupby('id').accuracy.mean()\n",
    "        #csv_data = csv_data.join(accuracy_avg, on='id', rsuffix='_avg')\n",
    "        nt_gev10_avg = csv_data.groupby('id').nt_gev10.mean()\n",
    "        #csv_data = csv_data.join(nt_gev10_avg, on='id', rsuffix='_avg')        \n",
    "        display(csv_data)"
   ]
  },
  {
   "cell_type": "code",
   "execution_count": 8,
   "id": "ef5251c9",
   "metadata": {
    "code_folding": [
     0
    ]
   },
   "outputs": [],
   "source": [
    "def print_avg_results(filename):\n",
    "    import pandas as pd\n",
    "    with pd.option_context('display.float_format', '{:0.4f}'.format):\n",
    "        csv_data = pd.read_csv(filename)\n",
    "        accuracy_avg = csv_data.groupby('id').accuracy.mean()\n",
    "        nt_gev10_avg = csv_data.groupby('id').nt_gev10.mean()\n",
    "        accuracy_std = csv_data.groupby('id').accuracy.std()\n",
    "        nt_gev10_std = csv_data.groupby('id').nt_gev10.std()        \n",
    "        csv_avg_std_data = pd.DataFrame(accuracy_avg)\n",
    "        csv_avg_std_data = csv_avg_std_data.join(nt_gev10_avg, on='id')\n",
    "        \n",
    "        csv_data = pd.read_csv(filename, usecols=['id', 'accuracy'])\n",
    "        csv_data_count = csv_data.groupby(['id']).count().rename(columns={'accuracy':'count'})\n",
    "        \n",
    "        csv_avg_std_data = csv_avg_std_data.join(csv_data_count, on='id')\n",
    "        \n",
    "        display(csv_avg_std_data)"
   ]
  },
  {
   "cell_type": "code",
   "execution_count": 9,
   "id": "853b4256",
   "metadata": {
    "code_folding": [
     0
    ]
   },
   "outputs": [],
   "source": [
    "def plot_avg_results(filename, accuracy_th=0.76, tracks_th=0.9, id_ordering=None):\n",
    "    import numpy as np\n",
    "    import pandas as pd\n",
    "    import matplotlib.pyplot as plt\n",
    "    %matplotlib inline\n",
    "    with pd.option_context('display.float_format', '{:0.4f}'.format):\n",
    "        restore_figsize = plt.rcParams[\"figure.figsize\"]\n",
    "        plt.rcParams[\"figure.figsize\"] = (10,10)\n",
    "        csv_data = pd.read_csv(filename)\n",
    "        accuracy_avg = csv_data.groupby('id').accuracy.mean()\n",
    "        #nt_gev10_avg = csv_data.groupby('id').nt_gev10.mean()\n",
    "        \n",
    "        #df = pd.DataFrame({'accuracy': accuracy_avg, 'nt_gev10': nt_gev10_avg})\n",
    "        df = pd.DataFrame({'accuracy': accuracy_avg})\n",
    "        if id_ordering != None:\n",
    "            df = df.reindex(id_ordering)\n",
    "        yticks=[0, 0.1, 0.2, 0.3, 0.4, 0.5, 0.6, 0.7, 0.8, 0.9, 1.0]\n",
    "        #ax = df.set_index('id').loc[id_ordering].plot.bar(rot=65, title='Avg metrics', ylim=[0.,1], yticks=yticks)\n",
    "        ax = df.plot.barh(rot=0, title='Avg metrics', ylim=[0.,1], yticks=yticks)\n",
    "        for container in ax.containers:\n",
    "            ax.bar_label(container, fmt='%.4f', fontsize=8)\n",
    "        \n",
    "        # Shrink current axis by 20%\n",
    "        box = ax.get_position()\n",
    "        ax.set_position([box.x0, box.y0, box.width * 0.9, box.height])\n",
    "\n",
    "        # Put a legend below current axis\n",
    "        ax.legend(loc='upper right', bbox_to_anchor=(0.5, -0.05),\n",
    "          fancybox=True, shadow=True, ncol=5)\n",
    "        \n",
    "        # Threshold lines\n",
    "#         ax.axvline(tracks_th, color=\"orange\", linestyle=\":\")\n",
    "#         ax.text(tracks_th, -1.5,\n",
    "#                 str(tracks_th*100) + '%',\n",
    "#                 va='center',\n",
    "#                 ha='center',\n",
    "#                 bbox=dict(facecolor=\"w\",alpha=0.5, boxstyle='rarrow', edgecolor='orange'),\n",
    "#                 #transform=ax.get_yaxis_transform(),\n",
    "#                 rotation=90)\n",
    "        \n",
    "        ax.axvline(accuracy_th, color=\"lightblue\", linestyle=\":\")\n",
    "        ax.text(accuracy_th, -1.5,\n",
    "                str(accuracy_th*100) + '%',\n",
    "                va='center',\n",
    "                ha='center',\n",
    "                bbox=dict(facecolor=\"w\",alpha=0.5, boxstyle='rarrow', edgecolor='lightblue'),\n",
    "                #transform=ax.get_yaxis_transform(),\n",
    "                rotation=90)\n",
    "        \n",
    "        plt.rcParams[\"figure.figsize\"] = restore_figsize"
   ]
  },
  {
   "cell_type": "code",
   "execution_count": 10,
   "id": "9f67af62",
   "metadata": {
    "code_folding": [
     0
    ]
   },
   "outputs": [],
   "source": [
    "def print_dictionary(d, indent=0):\n",
    "   for key, value in d.items():\n",
    "      print('  ' * indent + str(key))\n",
    "      if isinstance(value, dict):\n",
    "         print_dictionary(value, indent+1)\n",
    "      else:\n",
    "         print('  ' * (indent+1) + str(value))"
   ]
  },
  {
   "cell_type": "code",
   "execution_count": 11,
   "id": "32afa30b",
   "metadata": {},
   "outputs": [],
   "source": [
    "def get_model_ids(lrange=range(12),\n",
    "                  srange=['noscaling'],\n",
    "                  mrange=['keras_d64', 'qkeras_foldbatchnorm_d64w6a10', 'hls4ml_qkeras_foldbatchnorm_d64w6a10'],\n",
    "                  reverse=True\n",
    "                 ):\n",
    "    import itertools as it\n",
    "    id_ordering = ['ds8l{}_{}_{}'.format(str(l), s, m) for [l, s, m] in it.product(\n",
    "        lrange, # local bin\n",
    "        srange, # dataset scaling\n",
    "        mrange) # models\n",
    "    ]\n",
    "    if reverse:\n",
    "        id_ordering.reverse()\n",
    "    return id_ordering"
   ]
  },
  {
   "cell_type": "markdown",
   "id": "3ae779ee",
   "metadata": {
    "tags": [],
    "toc-hr-collapsed": true
   },
   "source": [
    "## Prepare dataset"
   ]
  },
  {
   "cell_type": "markdown",
   "id": "a52cef08",
   "metadata": {
    "toc-hr-collapsed": true
   },
   "source": [
    "### Load dataset"
   ]
  },
  {
   "cell_type": "markdown",
   "id": "36a18169",
   "metadata": {
    "tags": []
   },
   "source": [
    "#### ds7"
   ]
  },
  {
   "cell_type": "markdown",
   "id": "006d2b76",
   "metadata": {},
   "source": [
    "`dataset 7`"
   ]
  },
  {
   "cell_type": "raw",
   "id": "100d4aa0",
   "metadata": {},
   "source": [
    "dataset = 'ds7_'\n",
    "base_dir = 'data/oct4_MCwithQuantInputs'\n",
    "\n",
    "df1 = pd.read_csv(base_dir + '/InputTrainSet.csv')\n",
    "df2 = pd.read_csv(base_dir + '/labelsTrain.csv')\n",
    "df3 = pd.read_csv(base_dir + '/InputTestSet.csv')\n",
    "df4 = pd.read_csv(base_dir + '/labelsTest.csv')"
   ]
  },
  {
   "cell_type": "markdown",
   "id": "1d2e2098",
   "metadata": {
    "tags": []
   },
   "source": [
    "#### ds-balanced"
   ]
  },
  {
   "cell_type": "markdown",
   "id": "a776da8f",
   "metadata": {},
   "source": [
    "Balanced dataset (deprecated)"
   ]
  },
  {
   "cell_type": "raw",
   "id": "f3080911",
   "metadata": {},
   "source": [
    "#dataset = 'balanced_'\n",
    "#base_dir = 'data/balancedOct27'\n",
    "\n",
    "#df1 = pd.read_csv(base_dir + '/InputTrainSet.csv')\n",
    "#df2 = pd.read_csv(base_dir + '/labelsTrain.csv')\n",
    "#df3 = pd.read_csv(base_dir + '/InputTestSet.csv')\n",
    "#df4 = pd.read_csv(base_dir + '/labelsTest.csv')"
   ]
  },
  {
   "cell_type": "markdown",
   "id": "c121f2e1",
   "metadata": {
    "tags": []
   },
   "source": [
    "#### ds7q"
   ]
  },
  {
   "cell_type": "markdown",
   "id": "035e6723",
   "metadata": {},
   "source": [
    "`dataset 7` and the 14th column is distributed on the range `[0,11]`"
   ]
  },
  {
   "cell_type": "raw",
   "id": "156f47df",
   "metadata": {},
   "source": [
    "dataset = 'ds7q_'\n",
    "base_dir = 'data/oct4_MCwithQuantInputs'\n",
    "\n",
    "df1 = pd.read_csv(base_dir + '/TrainSetWithIntegerYLocalAllUint8.csv')\n",
    "df2 = pd.read_csv(base_dir + '/labelsTrain.csv')\n",
    "df3 = pd.read_csv(base_dir + '/TestSetWithIntegerYLocalAllUint8.csv')\n",
    "df4 = pd.read_csv(base_dir + '/labelsTest.csv')"
   ]
  },
  {
   "cell_type": "markdown",
   "id": "768bebdb",
   "metadata": {},
   "source": [
    "#### ds678q"
   ]
  },
  {
   "cell_type": "markdown",
   "id": "05aa3fcc",
   "metadata": {},
   "source": [
    "`dataset 6-7-8` (larger dataset) and the 14th column is distributed on the range `[0,11]`"
   ]
  },
  {
   "cell_type": "raw",
   "id": "bc4e949d",
   "metadata": {},
   "source": [
    "dataset = 'ds678q'\n",
    "base_dir = 'data/BigDS_Multiclassifier_Nov15'\n",
    "\n",
    "df1 = pd.read_csv(base_dir + '/TrainSetWithIntegerYLocalAllUint8.csv')\n",
    "df2 = pd.read_csv(base_dir + '/TrainSetLabel.csv')\n",
    "df3 = pd.read_csv(base_dir + '/TestSetWithIntegerYLocalAllUint8.csv')\n",
    "df4 = pd.read_csv(base_dir + '/TestSetLabel.csv')"
   ]
  },
  {
   "cell_type": "markdown",
   "id": "b4d90fb2",
   "metadata": {
    "tags": []
   },
   "source": [
    "#### ds8"
   ]
  },
  {
   "cell_type": "markdown",
   "id": "4e96d13e",
   "metadata": {},
   "source": [
    "`dataset 8`"
   ]
  },
  {
   "cell_type": "raw",
   "id": "9a155cbd",
   "metadata": {},
   "source": [
    "dataset = 'ds8_'\n",
    "base_dir = 'data/ds8_only'\n",
    "\n",
    "df1 = pd.read_csv(base_dir + '/dec6_ds8_quant/QuantizedInputTrainSet.csv')\n",
    "df2 = pd.read_csv(base_dir + '/TrainSetLabel.csv')\n",
    "df3 = pd.read_csv(base_dir + '/dec6_ds8_quant/QuantizedInputTestSet.csv')\n",
    "df4 = pd.read_csv(base_dir + '/TestSetLabel.csv')"
   ]
  },
  {
   "cell_type": "markdown",
   "id": "cc430d8f",
   "metadata": {
    "tags": []
   },
   "source": [
    "#### ds8q"
   ]
  },
  {
   "cell_type": "markdown",
   "id": "7f893b6c",
   "metadata": {},
   "source": [
    "`dataset 8` and the 14th column is distributed on the range `[0,11]`"
   ]
  },
  {
   "cell_type": "raw",
   "id": "b157ee0c",
   "metadata": {},
   "source": [
    "dataset = 'ds8q_'\n",
    "base_dir = 'data/ds8_only'\n",
    "\n",
    "df1 = pd.read_csv(base_dir + '/dec6_ds8_quant/QuantizedInputTrainSetWithIntegerYLocal.csv')\n",
    "df2 = pd.read_csv(base_dir + '/TrainSetLabel.csv')\n",
    "df3 = pd.read_csv(base_dir + '/dec6_ds8_quant/QuantizedInputTestSetWithIntegerYLocal.csv')\n",
    "df4 = pd.read_csv(base_dir + '/TestSetLabel.csv')"
   ]
  },
  {
   "cell_type": "markdown",
   "id": "44e8ddc7",
   "metadata": {},
   "source": [
    "#### ds8-local"
   ]
  },
  {
   "cell_type": "markdown",
   "id": "cfbe1b0c",
   "metadata": {},
   "source": [
    "`dataset 8` but split for _each local bin_"
   ]
  },
  {
   "cell_type": "markdown",
   "id": "52eb2693",
   "metadata": {},
   "source": [
    "<p style=\"background-color:Yellow;\"><b>Choose the local bin (y-local).</b></p>"
   ]
  },
  {
   "cell_type": "code",
   "execution_count": 12,
   "id": "75171706",
   "metadata": {},
   "outputs": [],
   "source": [
    "local_id = 0 # 0 - 11"
   ]
  },
  {
   "cell_type": "markdown",
   "id": "c89e05d8",
   "metadata": {},
   "source": [
    "<p style=\"background-color:Yellow;\"><b>Run identifier.</b></p>"
   ]
  },
  {
   "cell_type": "code",
   "execution_count": 13,
   "id": "efa13577",
   "metadata": {},
   "outputs": [],
   "source": [
    "run_id = 0"
   ]
  },
  {
   "cell_type": "code",
   "execution_count": 14,
   "id": "e76ac76e",
   "metadata": {},
   "outputs": [],
   "source": [
    "dataset = 'ds8l' + str(local_id) + '_'\n",
    "base_dir = 'data/ds8_only'\n",
    "\n",
    "df1 = pd.read_csv(base_dir + '/dec6_ds8_quant/QuantizedInputTrainSetLocal' + str(local_id) + '.csv')\n",
    "df2 = pd.read_csv(base_dir + '/dec6_ds8_quant/TrainSetLabelLocal' + str(local_id) + '.csv')\n",
    "df3 = pd.read_csv(base_dir + '/dec6_ds8_quant/QuantizedInputTestSetLocal' + str(local_id) + '.csv')\n",
    "df4 = pd.read_csv(base_dir + '/dec6_ds8_quant/TestSetLabelLocal' + str(local_id) + '.csv')"
   ]
  },
  {
   "cell_type": "code",
   "execution_count": 15,
   "id": "0b664e2d",
   "metadata": {},
   "outputs": [
    {
     "name": "stdout",
     "output_type": "stream",
     "text": [
      "       0  1  2   3   4   5   6  7  8  9  10  11  12\n",
      "0      0  0  0   0   1   2   1  2  2  0   0   0   0\n",
      "1      0  0  0   3   3   4   3  4  0  0   0   0   0\n",
      "2      0  0  0   2   6   6   5  3  0  0   0   0   0\n",
      "3      0  0  0   4   3   4   2  1  0  0   0   0   0\n",
      "4      0  0  0   1   2   2   2  0  0  0   0   0   0\n",
      "...   .. .. ..  ..  ..  ..  .. .. .. ..  ..  ..  ..\n",
      "45410  0  0  0   0   3   7   5  5  3  0   0   0   0\n",
      "45411  0  0  0   0   4   5   5  5  4  0   0   0   0\n",
      "45412  0  0  0   0   7  11  10  7  0  0   0   0   0\n",
      "45413  0  5  6   5   5   5   4  0  0  0   0   0   0\n",
      "45414  0  0  1  10  12  11   7  0  0  0   0   0   0\n",
      "\n",
      "[45415 rows x 13 columns]\n"
     ]
    }
   ],
   "source": [
    "print(df1)"
   ]
  },
  {
   "cell_type": "markdown",
   "id": "87da12e7",
   "metadata": {},
   "source": [
    "### Pad dataset"
   ]
  },
  {
   "cell_type": "markdown",
   "id": "b957b96e",
   "metadata": {},
   "source": [
    "<p style=\"background-color:Tomato;\"><b>DO NOT USE A PADDED DATASET TO TRAIN AND EVALUATE A MODEL! Padding a dataset is useful only to generate a \"larger\" accelerator in the synthesis flow.</b></p>\n",
    "\n",
    "Enable following cell to enable padding."
   ]
  },
  {
   "cell_type": "code",
   "execution_count": 16,
   "id": "0b40a6f9",
   "metadata": {},
   "outputs": [],
   "source": [
    "padding = \"\""
   ]
  },
  {
   "cell_type": "raw",
   "id": "63d69101-ea7e-41aa-ab51-53eef5ab453f",
   "metadata": {},
   "source": [
    "padding = \"padded_\"\n",
    "\n",
    "if '14' not in df1:\n",
    "    df1['14'] = 0\n",
    "df1['15'] = 0\n",
    "df1['16'] = 0\n",
    "\n",
    "if '14' not in df3:\n",
    "    df3['14'] = 0\n",
    "df3['15'] = 0\n",
    "df3['16'] = 0"
   ]
  },
  {
   "cell_type": "code",
   "execution_count": 17,
   "id": "f150ba39-5d91-4633-b6cd-b1ecd0b3ed91",
   "metadata": {},
   "outputs": [
    {
     "name": "stdout",
     "output_type": "stream",
     "text": [
      "Trainig set shape         : (45415, 13)\n",
      "Trainig set shape (labels): (45415, 1)\n",
      "Test set shape:           : (11113, 13)\n",
      "Test set shape (labels)   : (11113, 1)\n"
     ]
    }
   ],
   "source": [
    "X_train = df1.values\n",
    "X_test = df3.values\n",
    "\n",
    "y_train = df2.values\n",
    "y_test = df4.values\n",
    "\n",
    "print('Trainig set shape         :', X_train.shape) \n",
    "print('Trainig set shape (labels):', y_train.shape)\n",
    "print('Test set shape:           :', X_test.shape)\n",
    "print('Test set shape (labels)   :', y_test.shape)"
   ]
  },
  {
   "cell_type": "markdown",
   "id": "3e0047eb",
   "metadata": {},
   "source": [
    "### Visualize dataset"
   ]
  },
  {
   "cell_type": "markdown",
   "id": "95c4715f",
   "metadata": {},
   "source": [
    "Observe the span of the value for each of the 14 columns. The 14th column -- if quantized -- should span on the range `[0,11]`."
   ]
  },
  {
   "cell_type": "code",
   "execution_count": 18,
   "id": "beca2ee4",
   "metadata": {},
   "outputs": [],
   "source": [
    "frames = [df1, df3]\n",
    "\n",
    "df = pd.concat(frames)"
   ]
  },
  {
   "cell_type": "code",
   "execution_count": 19,
   "id": "d9298756",
   "metadata": {},
   "outputs": [
    {
     "data": {
      "image/png": "[encoded data removed]",
      "text/plain": [
       "<Figure size 640x480 with 1 Axes>"
      ]
     },
     "metadata": {},
     "output_type": "display_data"
    }
   ],
   "source": [
    "_ = plt.title(\"dataset with outliers\")\n",
    "_ = plt.boxplot(df.values, showfliers=True)"
   ]
  },
  {
   "cell_type": "code",
   "execution_count": 20,
   "id": "56731637",
   "metadata": {},
   "outputs": [
    {
     "data": {
      "image/png": "[encoded data removed]",
      "text/plain": [
       "<Figure size 640x480 with 1 Axes>"
      ]
     },
     "metadata": {},
     "output_type": "display_data"
    }
   ],
   "source": [
    "_ = plt.title(\"dataset without outliers\")\n",
    "_ = plt.boxplot(df.values, showfliers=False)"
   ]
  },
  {
   "cell_type": "markdown",
   "id": "88353d40",
   "metadata": {},
   "source": [
    "You should see all integers if you are using the `dataset 6-7-8` with 14th column quantized"
   ]
  },
  {
   "cell_type": "code",
   "execution_count": 21,
   "id": "e8e74612",
   "metadata": {},
   "outputs": [
    {
     "data": {
      "text/html": [
       "<div>\n",
       "<style scoped>\n",
       "    .dataframe tbody tr th:only-of-type {\n",
       "        vertical-align: middle;\n",
       "    }\n",
       "\n",
       "    .dataframe tbody tr th {\n",
       "        vertical-align: top;\n",
       "    }\n",
       "\n",
       "    .dataframe thead th {\n",
       "        text-align: right;\n",
       "    }\n",
       "</style>\n",
       "<table border=\"1\" class=\"dataframe\">\n",
       "  <thead>\n",
       "    <tr style=\"text-align: right;\">\n",
       "      <th></th>\n",
       "      <th>0</th>\n",
       "      <th>1</th>\n",
       "      <th>2</th>\n",
       "      <th>3</th>\n",
       "      <th>4</th>\n",
       "      <th>5</th>\n",
       "      <th>6</th>\n",
       "      <th>7</th>\n",
       "      <th>8</th>\n",
       "      <th>9</th>\n",
       "      <th>10</th>\n",
       "      <th>11</th>\n",
       "      <th>12</th>\n",
       "    </tr>\n",
       "  </thead>\n",
       "  <tbody>\n",
       "    <tr>\n",
       "      <th>0</th>\n",
       "      <td>0</td>\n",
       "      <td>0</td>\n",
       "      <td>1</td>\n",
       "      <td>3</td>\n",
       "      <td>3</td>\n",
       "      <td>5</td>\n",
       "      <td>3</td>\n",
       "      <td>3</td>\n",
       "      <td>0</td>\n",
       "      <td>0</td>\n",
       "      <td>0</td>\n",
       "      <td>0</td>\n",
       "      <td>0</td>\n",
       "    </tr>\n",
       "    <tr>\n",
       "      <th>1</th>\n",
       "      <td>0</td>\n",
       "      <td>0</td>\n",
       "      <td>0</td>\n",
       "      <td>4</td>\n",
       "      <td>9</td>\n",
       "      <td>6</td>\n",
       "      <td>7</td>\n",
       "      <td>3</td>\n",
       "      <td>0</td>\n",
       "      <td>0</td>\n",
       "      <td>0</td>\n",
       "      <td>0</td>\n",
       "      <td>0</td>\n",
       "    </tr>\n",
       "    <tr>\n",
       "      <th>2</th>\n",
       "      <td>0</td>\n",
       "      <td>0</td>\n",
       "      <td>2</td>\n",
       "      <td>3</td>\n",
       "      <td>4</td>\n",
       "      <td>3</td>\n",
       "      <td>1</td>\n",
       "      <td>0</td>\n",
       "      <td>0</td>\n",
       "      <td>0</td>\n",
       "      <td>0</td>\n",
       "      <td>0</td>\n",
       "      <td>0</td>\n",
       "    </tr>\n",
       "    <tr>\n",
       "      <th>3</th>\n",
       "      <td>0</td>\n",
       "      <td>0</td>\n",
       "      <td>1</td>\n",
       "      <td>1</td>\n",
       "      <td>2</td>\n",
       "      <td>2</td>\n",
       "      <td>0</td>\n",
       "      <td>0</td>\n",
       "      <td>0</td>\n",
       "      <td>0</td>\n",
       "      <td>0</td>\n",
       "      <td>0</td>\n",
       "      <td>0</td>\n",
       "    </tr>\n",
       "    <tr>\n",
       "      <th>4</th>\n",
       "      <td>0</td>\n",
       "      <td>0</td>\n",
       "      <td>5</td>\n",
       "      <td>6</td>\n",
       "      <td>5</td>\n",
       "      <td>5</td>\n",
       "      <td>2</td>\n",
       "      <td>0</td>\n",
       "      <td>0</td>\n",
       "      <td>0</td>\n",
       "      <td>0</td>\n",
       "      <td>0</td>\n",
       "      <td>0</td>\n",
       "    </tr>\n",
       "  </tbody>\n",
       "</table>\n",
       "</div>"
      ],
      "text/plain": [
       "   0   1   2   3   4   5   6   7   8   9   10  11  12\n",
       "0   0   0   1   3   3   5   3   3   0   0   0   0   0\n",
       "1   0   0   0   4   9   6   7   3   0   0   0   0   0\n",
       "2   0   0   2   3   4   3   1   0   0   0   0   0   0\n",
       "3   0   0   1   1   2   2   0   0   0   0   0   0   0\n",
       "4   0   0   5   6   5   5   2   0   0   0   0   0   0"
      ]
     },
     "execution_count": 21,
     "metadata": {},
     "output_type": "execute_result"
    }
   ],
   "source": [
    "pd.DataFrame(X_test[:5])"
   ]
  },
  {
   "cell_type": "code",
   "execution_count": 22,
   "id": "fb4f0be6",
   "metadata": {},
   "outputs": [
    {
     "name": "stdout",
     "output_type": "stream",
     "text": [
      "X_train: max= 25 , log2(max)= 5 , min= 0\n",
      "X_test: max= 21 , log2(max)= 5 , min= 0\n"
     ]
    }
   ],
   "source": [
    "import math\n",
    "max_value_X_train = np.max(X_train)\n",
    "min_value_X_train = np.min(X_train)\n",
    "max_value_X_test = np.max(X_test)\n",
    "min_value_X_test = np.min(X_test)\n",
    "\n",
    "log2_max_value_X_train = int(np.ceil(math.log2(np.abs(max_value_X_train))))\n",
    "#log2_min_value_X_train = int(np.ceil(math.log2(np.abs(min_value_X_train))))\n",
    "log2_max_value_X_test = int(np.ceil(math.log2(np.abs(max_value_X_test))))\n",
    "#log2_min_value_X_test = int(np.ceil(math.log2(np.abs(min_value_X_test))))\n",
    "\n",
    "print('X_train: max=', max_value_X_train, ', log2(max)=', log2_max_value_X_train, ', min=', min_value_X_train)\n",
    "print('X_test: max=', max_value_X_test, ', log2(max)=', log2_max_value_X_test, ', min=', min_value_X_test)"
   ]
  },
  {
   "cell_type": "markdown",
   "id": "bc0a3846",
   "metadata": {
    "toc-hr-collapsed": true
   },
   "source": [
    "### Scale dataset"
   ]
  },
  {
   "cell_type": "markdown",
   "id": "e9a6df7a",
   "metadata": {},
   "source": [
    "<p style=\"background-color:Yellow;\"><b>Disabling scaling will simplify the hardware design</b></p>"
   ]
  },
  {
   "cell_type": "code",
   "execution_count": 23,
   "id": "499e8afc",
   "metadata": {},
   "outputs": [],
   "source": [
    "scale = False"
   ]
  },
  {
   "cell_type": "code",
   "execution_count": 24,
   "id": "84cd9b69",
   "metadata": {},
   "outputs": [],
   "source": [
    "scaling = ''\n",
    "if scale:\n",
    "    scaling = 'scaling_'\n",
    "    scaler = StandardScaler()\n",
    "    X_train = scaler.fit_transform(X_train.reshape(-1, X_train.shape[-1])).reshape(X_train.shape)\n",
    "    X_test = scaler.transform(X_test.reshape(-1, X_test.shape[-1])).reshape(X_test.shape)\n",
    "else:\n",
    "    scaling = 'noscaling_'"
   ]
  },
  {
   "cell_type": "markdown",
   "id": "c7ed1ee5",
   "metadata": {},
   "source": [
    "#### Visualize dataset post-scaling"
   ]
  },
  {
   "cell_type": "code",
   "execution_count": 25,
   "id": "8762378e",
   "metadata": {},
   "outputs": [],
   "source": [
    "pd.DataFrame(X_train).to_csv('csv/' + dataset + scaling + 'InputTrainSetScale.csv',index=False)\n",
    "pd.DataFrame(X_test).to_csv('csv/' + dataset + scaling + 'InputTestSetScale.csv',index=False)"
   ]
  },
  {
   "cell_type": "code",
   "execution_count": 26,
   "id": "845eb39f",
   "metadata": {},
   "outputs": [
    {
     "data": {
      "text/html": [
       "<div>\n",
       "<style scoped>\n",
       "    .dataframe tbody tr th:only-of-type {\n",
       "        vertical-align: middle;\n",
       "    }\n",
       "\n",
       "    .dataframe tbody tr th {\n",
       "        vertical-align: top;\n",
       "    }\n",
       "\n",
       "    .dataframe thead th {\n",
       "        text-align: right;\n",
       "    }\n",
       "</style>\n",
       "<table border=\"1\" class=\"dataframe\">\n",
       "  <thead>\n",
       "    <tr style=\"text-align: right;\">\n",
       "      <th></th>\n",
       "      <th>0</th>\n",
       "      <th>1</th>\n",
       "      <th>2</th>\n",
       "      <th>3</th>\n",
       "      <th>4</th>\n",
       "      <th>5</th>\n",
       "      <th>6</th>\n",
       "      <th>7</th>\n",
       "      <th>8</th>\n",
       "      <th>9</th>\n",
       "      <th>10</th>\n",
       "      <th>11</th>\n",
       "      <th>12</th>\n",
       "    </tr>\n",
       "  </thead>\n",
       "  <tbody>\n",
       "    <tr>\n",
       "      <th>0</th>\n",
       "      <td>0</td>\n",
       "      <td>0</td>\n",
       "      <td>1</td>\n",
       "      <td>3</td>\n",
       "      <td>3</td>\n",
       "      <td>5</td>\n",
       "      <td>3</td>\n",
       "      <td>3</td>\n",
       "      <td>0</td>\n",
       "      <td>0</td>\n",
       "      <td>0</td>\n",
       "      <td>0</td>\n",
       "      <td>0</td>\n",
       "    </tr>\n",
       "    <tr>\n",
       "      <th>1</th>\n",
       "      <td>0</td>\n",
       "      <td>0</td>\n",
       "      <td>0</td>\n",
       "      <td>4</td>\n",
       "      <td>9</td>\n",
       "      <td>6</td>\n",
       "      <td>7</td>\n",
       "      <td>3</td>\n",
       "      <td>0</td>\n",
       "      <td>0</td>\n",
       "      <td>0</td>\n",
       "      <td>0</td>\n",
       "      <td>0</td>\n",
       "    </tr>\n",
       "    <tr>\n",
       "      <th>2</th>\n",
       "      <td>0</td>\n",
       "      <td>0</td>\n",
       "      <td>2</td>\n",
       "      <td>3</td>\n",
       "      <td>4</td>\n",
       "      <td>3</td>\n",
       "      <td>1</td>\n",
       "      <td>0</td>\n",
       "      <td>0</td>\n",
       "      <td>0</td>\n",
       "      <td>0</td>\n",
       "      <td>0</td>\n",
       "      <td>0</td>\n",
       "    </tr>\n",
       "    <tr>\n",
       "      <th>3</th>\n",
       "      <td>0</td>\n",
       "      <td>0</td>\n",
       "      <td>1</td>\n",
       "      <td>1</td>\n",
       "      <td>2</td>\n",
       "      <td>2</td>\n",
       "      <td>0</td>\n",
       "      <td>0</td>\n",
       "      <td>0</td>\n",
       "      <td>0</td>\n",
       "      <td>0</td>\n",
       "      <td>0</td>\n",
       "      <td>0</td>\n",
       "    </tr>\n",
       "    <tr>\n",
       "      <th>4</th>\n",
       "      <td>0</td>\n",
       "      <td>0</td>\n",
       "      <td>5</td>\n",
       "      <td>6</td>\n",
       "      <td>5</td>\n",
       "      <td>5</td>\n",
       "      <td>2</td>\n",
       "      <td>0</td>\n",
       "      <td>0</td>\n",
       "      <td>0</td>\n",
       "      <td>0</td>\n",
       "      <td>0</td>\n",
       "      <td>0</td>\n",
       "    </tr>\n",
       "  </tbody>\n",
       "</table>\n",
       "</div>"
      ],
      "text/plain": [
       "   0   1   2   3   4   5   6   7   8   9   10  11  12\n",
       "0   0   0   1   3   3   5   3   3   0   0   0   0   0\n",
       "1   0   0   0   4   9   6   7   3   0   0   0   0   0\n",
       "2   0   0   2   3   4   3   1   0   0   0   0   0   0\n",
       "3   0   0   1   1   2   2   0   0   0   0   0   0   0\n",
       "4   0   0   5   6   5   5   2   0   0   0   0   0   0"
      ]
     },
     "execution_count": 26,
     "metadata": {},
     "output_type": "execute_result"
    }
   ],
   "source": [
    "pd.DataFrame(X_test[:5])"
   ]
  },
  {
   "cell_type": "code",
   "execution_count": 27,
   "id": "fafeb235",
   "metadata": {},
   "outputs": [
    {
     "name": "stdout",
     "output_type": "stream",
     "text": [
      "X_train: max= 25 , log2(max)= 5 , min= 0\n",
      "X_test: max= 21 , log2(max)= 5 , min= 0\n"
     ]
    }
   ],
   "source": [
    "import math\n",
    "max_value_X_train = np.max(X_train)\n",
    "min_value_X_train = np.min(X_train)\n",
    "max_value_X_test = np.max(X_test)\n",
    "min_value_X_test = np.min(X_test)\n",
    "\n",
    "log2_max_value_X_train = int(np.ceil(math.log2(np.abs(max_value_X_train))))\n",
    "#log2_min_value_X_train = int(np.ceil(math.log2(np.abs(min_value_X_train))))\n",
    "log2_max_value_X_test = int(np.ceil(math.log2(np.abs(max_value_X_test))))\n",
    "#log2_min_value_X_test = int(np.ceil(math.log2(np.abs(min_value_X_test))))\n",
    "\n",
    "print('X_train: max=', max_value_X_train, ', log2(max)=', log2_max_value_X_train, ', min=', min_value_X_train)\n",
    "print('X_test: max=', max_value_X_test, ', log2(max)=', log2_max_value_X_test, ', min=', min_value_X_test)"
   ]
  },
  {
   "cell_type": "markdown",
   "id": "1c14b727",
   "metadata": {
    "toc-hr-collapsed": true
   },
   "source": [
    "### One-hot encoding"
   ]
  },
  {
   "cell_type": "code",
   "execution_count": 28,
   "id": "672edbc8",
   "metadata": {},
   "outputs": [],
   "source": [
    "y_train_oh = pd.get_dummies(df2['ptLabel'])\n",
    "y_test_oh = pd.get_dummies(df4['ptLabel'])\n",
    "\n",
    "y_train_oh.to_csv(\"csv/\" + dataset + \"labelsTrainOH.csv\",index=False)\n",
    "y_test_oh.to_csv(\"csv/\" + dataset + \"labelsTestOH.csv\",index=False)"
   ]
  },
  {
   "cell_type": "code",
   "execution_count": 29,
   "id": "4232926e",
   "metadata": {},
   "outputs": [
    {
     "data": {
      "text/html": [
       "<th style=\"text-align:center\"><td style=\"vertical-align:top\"><h5 style=\"text-align: center;\">Prediction</h5><table style=\"display:inline\" border=\"1\" class=\"dataframe\">\n",
       "  <thead>\n",
       "    <tr style=\"text-align: right;\">\n",
       "      <th></th>\n",
       "      <th>0</th>\n",
       "    </tr>\n",
       "  </thead>\n",
       "  <tbody>\n",
       "    <tr>\n",
       "      <th>0</th>\n",
       "      <td>2</td>\n",
       "    </tr>\n",
       "    <tr>\n",
       "      <th>1</th>\n",
       "      <td>0</td>\n",
       "    </tr>\n",
       "    <tr>\n",
       "      <th>2</th>\n",
       "      <td>1</td>\n",
       "    </tr>\n",
       "    <tr>\n",
       "      <th>3</th>\n",
       "      <td>0</td>\n",
       "    </tr>\n",
       "    <tr>\n",
       "      <th>4</th>\n",
       "      <td>1</td>\n",
       "    </tr>\n",
       "  </tbody>\n",
       "</table style=\"display:inline\"></td></th><th style=\"text-align:center\"><td style=\"vertical-align:top\"><h5 style=\"text-align: center;\">One-hot encoding</h5><table style=\"display:inline\" border=\"1\" class=\"dataframe\">\n",
       "  <thead>\n",
       "    <tr style=\"text-align: right;\">\n",
       "      <th></th>\n",
       "      <th>0</th>\n",
       "      <th>1</th>\n",
       "      <th>2</th>\n",
       "    </tr>\n",
       "  </thead>\n",
       "  <tbody>\n",
       "    <tr>\n",
       "      <th>0</th>\n",
       "      <td>0</td>\n",
       "      <td>0</td>\n",
       "      <td>1</td>\n",
       "    </tr>\n",
       "    <tr>\n",
       "      <th>1</th>\n",
       "      <td>1</td>\n",
       "      <td>0</td>\n",
       "      <td>0</td>\n",
       "    </tr>\n",
       "    <tr>\n",
       "      <th>2</th>\n",
       "      <td>0</td>\n",
       "      <td>1</td>\n",
       "      <td>0</td>\n",
       "    </tr>\n",
       "    <tr>\n",
       "      <th>3</th>\n",
       "      <td>1</td>\n",
       "      <td>0</td>\n",
       "      <td>0</td>\n",
       "    </tr>\n",
       "    <tr>\n",
       "      <th>4</th>\n",
       "      <td>0</td>\n",
       "      <td>1</td>\n",
       "      <td>0</td>\n",
       "    </tr>\n",
       "  </tbody>\n",
       "</table style=\"display:inline\"></td></th>"
      ]
     },
     "metadata": {},
     "output_type": "display_data"
    }
   ],
   "source": [
    "display_side_by_side(pd.DataFrame(y_test[:5]), pd.DataFrame(y_test_oh[:5]), titles=['Prediction','One-hot encoding'])"
   ]
  },
  {
   "cell_type": "markdown",
   "id": "c574fbbc",
   "metadata": {},
   "source": [
    "### Save .dat files"
   ]
  },
  {
   "cell_type": "raw",
   "id": "e83acb41-1a08-4918-8c2b-4b3469e331bc",
   "metadata": {},
   "source": [
    "pd.DataFrame(X_test).to_csv('dat/pad/l{:d}/tb_input_features.dat'.format(local_id), sep=' ', index=False)\n",
    "y_test_oh.to_csv('dat/pad/l{:d}/tb_output_predictions.dat'.format(local_id), sep=' ', index=False)"
   ]
  },
  {
   "cell_type": "markdown",
   "id": "f8ef817d",
   "metadata": {
    "tags": [],
    "toc-hr-collapsed": true
   },
   "source": [
    "## Model (Keras)\n",
    "\n",
    "Let's start with a Keras model that is more traditional and uses floating-point. Our goal is to eventually get a quantized model for QKeras and hls4ml that is _close enough_ to this initial model."
   ]
  },
  {
   "cell_type": "markdown",
   "id": "f52234ec",
   "metadata": {
    "tags": [],
    "toc-hr-collapsed": true
   },
   "source": [
    "### Model definition\n",
    "\n",
    "Define a few MLP models with different size and number of layers"
   ]
  },
  {
   "cell_type": "code",
   "execution_count": 30,
   "id": "f6472f8b",
   "metadata": {},
   "outputs": [],
   "source": [
    "models = {}"
   ]
  },
  {
   "cell_type": "markdown",
   "id": "d893e573",
   "metadata": {},
   "source": [
    "#### d128\n",
    "\n",
    "This is our original model that we also use as a reference"
   ]
  },
  {
   "cell_type": "code",
   "execution_count": 31,
   "id": "265384f6",
   "metadata": {},
   "outputs": [],
   "source": [
    "def CreateModel(shape, nb_classes):\n",
    "    x = x_in = Input(shape, name=\"input\")\n",
    "    x = Dense(128, name=\"dense1\")(x)\n",
    "    x = keras.layers.BatchNormalization()(x)\n",
    "    x = Activation(\"relu\", name=\"relu1\")(x)\n",
    "    x = Dense(3, name=\"dense2\")(x)\n",
    "    x = Activation(\"linear\", name=\"linear\")(x)\n",
    "    model = Model(inputs=x_in, outputs=x)\n",
    "    return model\n",
    "\n",
    "models['d128'] = {\n",
    "    'prefix': dataset + padding + scaling + 'keras_d128',\n",
    "    'type'  : 'keras',\n",
    "    'def'   : CreateModel}"
   ]
  },
  {
   "cell_type": "markdown",
   "id": "6a2dd92e",
   "metadata": {},
   "source": [
    "#### d64"
   ]
  },
  {
   "cell_type": "code",
   "execution_count": 32,
   "id": "bad10194",
   "metadata": {},
   "outputs": [],
   "source": [
    "def CreateModel(shape, nb_classes):\n",
    "    x = x_in = Input(shape, name=\"input\")\n",
    "    x = Dense(64, name=\"dense1\")(x)\n",
    "    x = keras.layers.BatchNormalization()(x)\n",
    "    x = Activation(\"relu\", name=\"relu1\")(x)\n",
    "    x = Dense(3, name=\"dense2\")(x)\n",
    "    x = Activation(\"linear\", name=\"linear\")(x)\n",
    "    model = Model(inputs=x_in, outputs=x)\n",
    "    return model\n",
    "\n",
    "models['d64'] = {\n",
    "    'prefix': dataset + padding + scaling + 'keras_d64',\n",
    "    'type'  : 'keras',\n",
    "    'def'   : CreateModel}"
   ]
  },
  {
   "cell_type": "markdown",
   "id": "2abd24f3",
   "metadata": {},
   "source": [
    "#### d60"
   ]
  },
  {
   "cell_type": "code",
   "execution_count": 33,
   "id": "798ce1e2",
   "metadata": {},
   "outputs": [],
   "source": [
    "def CreateModel(shape, nb_classes):\n",
    "    x = x_in = Input(shape, name=\"input\")\n",
    "    x = Dense(60, name=\"dense1\")(x)\n",
    "    x = keras.layers.BatchNormalization()(x)\n",
    "    x = Activation(\"relu\", name=\"relu1\")(x)\n",
    "    x = Dense(3, name=\"dense2\")(x)\n",
    "    x = Activation(\"linear\", name=\"linear\")(x)\n",
    "    model = Model(inputs=x_in, outputs=x)\n",
    "    return model\n",
    "\n",
    "models['d60'] = {\n",
    "    'prefix': dataset + padding + scaling + 'keras_d60',\n",
    "    'type'  : 'keras',\n",
    "    'def'   : CreateModel}"
   ]
  },
  {
   "cell_type": "markdown",
   "id": "2071f153",
   "metadata": {},
   "source": [
    "#### d58"
   ]
  },
  {
   "cell_type": "code",
   "execution_count": 34,
   "id": "54e6f068",
   "metadata": {},
   "outputs": [],
   "source": [
    "def CreateModel(shape, nb_classes):\n",
    "    x = x_in = Input(shape, name=\"input\")\n",
    "    x = Dense(58, name=\"dense1\")(x)\n",
    "    x = keras.layers.BatchNormalization()(x)\n",
    "    x = Activation(\"relu\", name=\"relu1\")(x)\n",
    "    x = Dense(3, name=\"dense2\")(x)\n",
    "    x = Activation(\"linear\", name=\"linear\")(x)\n",
    "    model = Model(inputs=x_in, outputs=x)\n",
    "    return model\n",
    "\n",
    "models['d58'] = {\n",
    "    'prefix': dataset + padding + scaling + 'keras_d58',\n",
    "    'type'  : 'keras',\n",
    "    'def'   : CreateModel}"
   ]
  },
  {
   "cell_type": "markdown",
   "id": "faf9fd83",
   "metadata": {},
   "source": [
    "### Model create and summary"
   ]
  },
  {
   "cell_type": "markdown",
   "id": "7d14e3b8",
   "metadata": {},
   "source": [
    "Show the dictionary of models"
   ]
  },
  {
   "cell_type": "code",
   "execution_count": 35,
   "id": "7f978da2",
   "metadata": {},
   "outputs": [
    {
     "name": "stdout",
     "output_type": "stream",
     "text": [
      "d128\n",
      "  prefix\n",
      "    ds8l0_noscaling_keras_d128\n",
      "  type\n",
      "    keras\n",
      "  def\n",
      "    <function CreateModel at 0x7f54f548e280>\n",
      "d64\n",
      "  prefix\n",
      "    ds8l0_noscaling_keras_d64\n",
      "  type\n",
      "    keras\n",
      "  def\n",
      "    <function CreateModel at 0x7f54f548e5e0>\n",
      "d60\n",
      "  prefix\n",
      "    ds8l0_noscaling_keras_d60\n",
      "  type\n",
      "    keras\n",
      "  def\n",
      "    <function CreateModel at 0x7f54f548ea60>\n",
      "d58\n",
      "  prefix\n",
      "    ds8l0_noscaling_keras_d58\n",
      "  type\n",
      "    keras\n",
      "  def\n",
      "    <function CreateModel at 0x7f54f548ed30>\n"
     ]
    }
   ],
   "source": [
    "print_dictionary(models)"
   ]
  },
  {
   "cell_type": "markdown",
   "id": "a1769609",
   "metadata": {},
   "source": [
    "<p style=\"background-color:Yellow;\"><b>Choose a model for training and testing</b></p>\n"
   ]
  },
  {
   "cell_type": "code",
   "execution_count": 36,
   "id": "e44c10a6",
   "metadata": {},
   "outputs": [],
   "source": [
    "chosen_model = 'd58' # <<< PAY ATTENTION <<<"
   ]
  },
  {
   "cell_type": "code",
   "execution_count": 37,
   "id": "037bf14c",
   "metadata": {},
   "outputs": [],
   "source": [
    "model_prefix = models[chosen_model]['prefix']\n",
    "model_def = models[chosen_model]['def']\n",
    "model_type = models[chosen_model]['type']"
   ]
  },
  {
   "cell_type": "code",
   "execution_count": 38,
   "id": "7b3813d9",
   "metadata": {},
   "outputs": [
    {
     "name": "stdout",
     "output_type": "stream",
     "text": [
      "ds8l0_noscaling_keras_d58\n"
     ]
    }
   ],
   "source": [
    "print(model_prefix)"
   ]
  },
  {
   "cell_type": "code",
   "execution_count": 39,
   "id": "13cc8f74-2eea-47f4-982b-9cbcc0bf0dbe",
   "metadata": {
    "tags": []
   },
   "outputs": [
    {
     "name": "stdout",
     "output_type": "stream",
     "text": [
      "[[0]\n",
      " [0]\n",
      " [0]\n",
      " ...\n",
      " [1]\n",
      " [2]\n",
      " [1]]\n"
     ]
    }
   ],
   "source": [
    "print(y_train)"
   ]
  },
  {
   "cell_type": "code",
   "execution_count": 40,
   "id": "42427723",
   "metadata": {},
   "outputs": [
    {
     "name": "stdout",
     "output_type": "stream",
     "text": [
      "Model: \"model\"\n",
      "_________________________________________________________________\n",
      " Layer (type)                Output Shape              Param #   \n",
      "=================================================================\n",
      " input (InputLayer)          [(None, 13)]              0         \n",
      "                                                                 \n",
      " dense1 (Dense)              (None, 58)                812       \n",
      "                                                                 \n",
      " batch_normalization (BatchN  (None, 58)               232       \n",
      " ormalization)                                                   \n",
      "                                                                 \n",
      " relu1 (Activation)          (None, 58)                0         \n",
      "                                                                 \n",
      " dense2 (Dense)              (None, 3)                 177       \n",
      "                                                                 \n",
      " linear (Activation)         (None, 3)                 0         \n",
      "                                                                 \n",
      "=================================================================\n",
      "Total params: 1,221\n",
      "Trainable params: 1,105\n",
      "Non-trainable params: 116\n",
      "_________________________________________________________________\n"
     ]
    }
   ],
   "source": [
    "model = model_def(X_train.shape[1:], y_train.shape[-1])\n",
    "\n",
    "model.compile(optimizer=Adam(),\n",
    "              loss=keras.losses.SparseCategoricalCrossentropy(from_logits=True), # default from_logits=False\n",
    "              metrics=[keras.metrics.SparseCategoricalAccuracy()])\n",
    "\n",
    "model.summary()"
   ]
  },
  {
   "cell_type": "markdown",
   "id": "8fdb5cce",
   "metadata": {},
   "source": [
    "### Model training"
   ]
  },
  {
   "cell_type": "code",
   "execution_count": 41,
   "id": "cddbaede",
   "metadata": {},
   "outputs": [],
   "source": [
    "train_and_save = False # <<< PAY ATTENTION <<<"
   ]
  },
  {
   "cell_type": "code",
   "execution_count": 42,
   "id": "bed975c9",
   "metadata": {},
   "outputs": [],
   "source": [
    "model_file = 'models/' + model_prefix + 'model.h5'\n",
    "\n",
    "history = None\n",
    "if train_and_save:\n",
    "    es = EarlyStopping(monitor='val_loss',\n",
    "                       #monitor='val_sparse_categorical_accuracy', \n",
    "                       #mode='max', # don't minimize the accuracy!\n",
    "                       patience=20,\n",
    "                       restore_best_weights=True)\n",
    "\n",
    "    history = model.fit(X_train,\n",
    "                    y_train,\n",
    "                    callbacks=[es],\n",
    "                    epochs=150, \n",
    "                    batch_size=512,\n",
    "                    validation_split=0.2,\n",
    "                    shuffle=True,\n",
    "                    verbose=0)\n",
    "    \n",
    "    model.save(model_file)\n",
    "co = {}\n",
    "utils._add_supported_quantized_objects(co)\n",
    "model = tf.keras.models.load_model(model_file, custom_objects=co)"
   ]
  },
  {
   "cell_type": "markdown",
   "id": "e5cf6b82",
   "metadata": {},
   "source": [
    "### Model evaluation"
   ]
  },
  {
   "cell_type": "code",
   "execution_count": 43,
   "id": "309677e8",
   "metadata": {},
   "outputs": [
    {
     "data": {
      "image/png": "[encoded data removed]",
      "text/plain": [
       "<PIL.PngImagePlugin.PngImageFile image mode=RGBA size=640x480>"
      ]
     },
     "metadata": {},
     "output_type": "display_data"
    }
   ],
   "source": [
    "if train_and_save:\n",
    "    history_dict = history.history\n",
    "    loss_values = history_dict['loss'] \n",
    "    val_loss_values = history_dict['val_loss'] \n",
    "    epochs = range(1, len(loss_values) + 1) \n",
    "    plt.plot(epochs, loss_values, 'bo', label='Training loss')\n",
    "    plt.plot(epochs, val_loss_values, 'orange', label='Validation loss')\n",
    "    plt.title('Training and validation loss')\n",
    "    plt.xlabel('Epochs')\n",
    "    plt.ylabel('Loss')\n",
    "    plt.legend()\n",
    "    plt.savefig('images/' + model_prefix + 'loss.png')\n",
    "else:\n",
    "    from PIL import Image\n",
    "\n",
    "    img = Image.open('images/' + model_prefix + 'loss.png')\n",
    "    display(img)"
   ]
  },
  {
   "cell_type": "code",
   "execution_count": 44,
   "id": "fe0ede71",
   "metadata": {},
   "outputs": [
    {
     "data": {
      "image/png": "[encoded data removed]",
      "text/plain": [
       "<PIL.PngImagePlugin.PngImageFile image mode=RGBA size=640x480>"
      ]
     },
     "metadata": {},
     "output_type": "display_data"
    }
   ],
   "source": [
    "if train_and_save:\n",
    "    acc = history.history['sparse_categorical_accuracy']\n",
    "    val_acc = history.history['val_sparse_categorical_accuracy']\n",
    "    epochs = range(1, len(acc) + 1)\n",
    "    plt.plot(epochs, acc, 'bo', label='Training accuracy')\n",
    "    plt.plot(epochs, val_acc, 'orange', label='Validation accuracy')\n",
    "    plt.title('Training and validation accuracy')\n",
    "    plt.xlabel('Epochs')\n",
    "    plt.ylabel('Accuracy')\n",
    "    plt.legend()\n",
    "    #np.max(val_acc)\n",
    "    plt.savefig('images/' + model_prefix + 'accuracy.png')\n",
    "    plt.show()\n",
    "else:\n",
    "    from PIL import Image\n",
    "    #from os.path import exists\n",
    "\n",
    "    img = Image.open('images/' + model_prefix + 'accuracy.png')\n",
    "    display(img)"
   ]
  },
  {
   "cell_type": "code",
   "execution_count": 45,
   "id": "94799472",
   "metadata": {},
   "outputs": [],
   "source": [
    "preds = model.predict(X_test) \n",
    "predictionsFiles = np.argmax(preds, axis=1)"
   ]
  },
  {
   "cell_type": "code",
   "execution_count": 46,
   "id": "25c1ce01",
   "metadata": {},
   "outputs": [],
   "source": [
    "pd.DataFrame(predictionsFiles).to_csv(\"csv/\" + model_prefix + \"predictionsFiles.csv\", header='predict', index=False)"
   ]
  },
  {
   "cell_type": "code",
   "execution_count": 47,
   "id": "0f2184f5",
   "metadata": {},
   "outputs": [],
   "source": [
    "pd.DataFrame(y_test).to_csv(\"csv/\" + model_prefix + \"true.csv\", header='true', index=False)"
   ]
  },
  {
   "cell_type": "code",
   "execution_count": 48,
   "id": "e5c53c9b",
   "metadata": {
    "scrolled": true
   },
   "outputs": [
    {
     "name": "stdout",
     "output_type": "stream",
     "text": [
      "Test loss (Keras) d58: 0.5741040110588074\n",
      "Test accuracy (Keras) d58: 0.7416539192199707\n"
     ]
    }
   ],
   "source": [
    "score = model.evaluate(X_test, y_test, verbose=0)\n",
    "print(\"Test loss (Keras) {}: {}\".format(chosen_model, score[0]))\n",
    "print(\"Test accuracy (Keras) {}: {}\".format(chosen_model, score[1]))"
   ]
  },
  {
   "cell_type": "code",
   "execution_count": 49,
   "id": "ef39357f",
   "metadata": {},
   "outputs": [
    {
     "name": "stdout",
     "output_type": "stream",
     "text": [
      "Confusion matrix:\n",
      "[[4605  718  720]\n",
      " [ 807 1911   18]\n",
      " [ 605    3 1726]]\n"
     ]
    },
    {
     "data": {
      "image/png": "[encoded data removed]",
      "text/plain": [
       "<Figure size 640x480 with 2 Axes>"
      ]
     },
     "metadata": {},
     "output_type": "display_data"
    }
   ],
   "source": [
    "from sklearn import datasets, svm, metrics\n",
    "disp = metrics.ConfusionMatrixDisplay.from_predictions(y_test, predictionsFiles)\n",
    "disp.figure_.suptitle(\"Multiclassifier Confusion Matrix\")\n",
    "print(f\"Confusion matrix:\\n{disp.confusion_matrix}\")\n",
    "plt.savefig('images/' + model_prefix + 'confusionMatrix.png')\n",
    "plt.show()"
   ]
  },
  {
   "cell_type": "markdown",
   "id": "1a907cd3",
   "metadata": {},
   "source": [
    "Besides ML accuracy, we can evaluate the model with a metric that is closer to the physical application. We use _the number of tracks that are greater of 1.0 GeV and that are correctly classified as high pT_."
   ]
  },
  {
   "cell_type": "raw",
   "id": "0d01acbf",
   "metadata": {},
   "source": [
    "GeV_0_2, GeV_0_5, GeV_1_0, GeV_2_0 = get_number_of_tracks(dataset + scaling + model_type + '_' + chosen_model, base_dir + '/TestSetTruePT.csv')"
   ]
  },
  {
   "cell_type": "code",
   "execution_count": 50,
   "id": "8651c091",
   "metadata": {},
   "outputs": [],
   "source": [
    "GeV_0_2, GeV_0_5, GeV_1_0, GeV_2_0 = [0, 0, 0, 0]"
   ]
  },
  {
   "cell_type": "code",
   "execution_count": 51,
   "id": "f6af6431",
   "metadata": {},
   "outputs": [
    {
     "name": "stdout",
     "output_type": "stream",
     "text": [
      "---\n",
      "Number of tracks greater than\n",
      "- 0.2GeV correctly classified as high pT: 0\n",
      "- 0.5GeV correctly classified as high pT: 0\n",
      "- 1.0GeV correctly classified as high pT: 0 <<<\n",
      "- 2.0GeV correctly classified as high pT: 0\n",
      "---\n"
     ]
    }
   ],
   "source": [
    "print('---')\n",
    "print('Number of tracks greater than')\n",
    "print('- 0.2GeV correctly classified as high pT:', GeV_0_2)\n",
    "print('- 0.5GeV correctly classified as high pT:', GeV_0_5)\n",
    "print('- 1.0GeV correctly classified as high pT:', GeV_1_0, '<<<')\n",
    "print('- 2.0GeV correctly classified as high pT:', GeV_2_0)\n",
    "print('---')"
   ]
  },
  {
   "cell_type": "markdown",
   "id": "c150ed9b",
   "metadata": {},
   "source": [
    "Summary of the results.\n",
    "\n",
    "The model **id** is a label of the kind `dataset_scale_mltype_mlmodel`:\n",
    "- `dataset` can be `ds7` (the original dataset) or `ds678` (the larger dataset with quantized 14th column)\n",
    "- `scale` can be `scaling` (use standard scaler) or `noscaling` (don't scale)\n",
    "- `mltype` can be `keras` (Keras), `qkeras` (QKeras), and `qkeras_foldbatchnorm` (QKeras + patch to fold batch normalization layer in the previous dense layer)\n",
    "- `mlmodel` can be `d128`, `d64`, etc."
   ]
  },
  {
   "cell_type": "code",
   "execution_count": 52,
   "id": "6fdb4c28",
   "metadata": {},
   "outputs": [
    {
     "data": {
      "text/html": [
       "<div>\n",
       "<style scoped>\n",
       "    .dataframe tbody tr th:only-of-type {\n",
       "        vertical-align: middle;\n",
       "    }\n",
       "\n",
       "    .dataframe tbody tr th {\n",
       "        vertical-align: top;\n",
       "    }\n",
       "\n",
       "    .dataframe thead th {\n",
       "        text-align: right;\n",
       "    }\n",
       "</style>\n",
       "<table border=\"1\" class=\"dataframe\">\n",
       "  <thead>\n",
       "    <tr style=\"text-align: right;\">\n",
       "      <th></th>\n",
       "      <th>id</th>\n",
       "      <th>loss</th>\n",
       "      <th>accuracy</th>\n",
       "      <th>nt_gev02</th>\n",
       "      <th>nt_gev05</th>\n",
       "      <th>nt_gev10</th>\n",
       "      <th>nt_gev20</th>\n",
       "    </tr>\n",
       "  </thead>\n",
       "  <tbody>\n",
       "    <tr>\n",
       "      <th>0</th>\n",
       "      <td>ds8l0_noscaling_keras_d58</td>\n",
       "      <td>0.5741</td>\n",
       "      <td>0.7417</td>\n",
       "      <td>0</td>\n",
       "      <td>0</td>\n",
       "      <td>0</td>\n",
       "      <td>0</td>\n",
       "    </tr>\n",
       "  </tbody>\n",
       "</table>\n",
       "</div>"
      ],
      "text/plain": [
       "                          id   loss  accuracy  nt_gev02  nt_gev05  nt_gev10  \\\n",
       "0  ds8l0_noscaling_keras_d58 0.5741    0.7417         0         0         0   \n",
       "\n",
       "   nt_gev20  \n",
       "0         0  "
      ]
     },
     "metadata": {},
     "output_type": "display_data"
    }
   ],
   "source": [
    "with pd.option_context('display.float_format', '{:0.4f}'.format):\n",
    "    data = pd.DataFrame([[model_prefix, score[0], score[1], GeV_0_2, GeV_0_5, GeV_1_0, GeV_2_0]], columns=[\"id\", \"loss\", \"accuracy\", \"nt_gev02\", \"nt_gev05\", \"nt_gev10\", \"nt_gev20\"])\n",
    "    display(data)"
   ]
  },
  {
   "cell_type": "markdown",
   "id": "5d71a583",
   "metadata": {},
   "source": [
    "Current and previous results"
   ]
  },
  {
   "cell_type": "code",
   "execution_count": 53,
   "id": "a1323081",
   "metadata": {},
   "outputs": [],
   "source": [
    "results_filename = 'csv/results.csv'\n",
    "if train_and_save:\n",
    "    write_results(results_filename, model_prefix, score[0], score[1], GeV_0_2, GeV_0_5, GeV_1_0, GeV_2_0)"
   ]
  },
  {
   "cell_type": "code",
   "execution_count": 54,
   "id": "3b597e6d",
   "metadata": {},
   "outputs": [
    {
     "data": {
      "text/html": [
       "<div>\n",
       "<style scoped>\n",
       "    .dataframe tbody tr th:only-of-type {\n",
       "        vertical-align: middle;\n",
       "    }\n",
       "\n",
       "    .dataframe tbody tr th {\n",
       "        vertical-align: top;\n",
       "    }\n",
       "\n",
       "    .dataframe thead th {\n",
       "        text-align: right;\n",
       "    }\n",
       "</style>\n",
       "<table border=\"1\" class=\"dataframe\">\n",
       "  <thead>\n",
       "    <tr style=\"text-align: right;\">\n",
       "      <th></th>\n",
       "      <th>date</th>\n",
       "      <th>id</th>\n",
       "      <th>loss</th>\n",
       "      <th>accuracy</th>\n",
       "      <th>nt_gev02</th>\n",
       "      <th>nt_gev05</th>\n",
       "      <th>nt_gev10</th>\n",
       "      <th>nt_gev20</th>\n",
       "    </tr>\n",
       "  </thead>\n",
       "  <tbody>\n",
       "    <tr>\n",
       "      <th>0</th>\n",
       "      <td>16/02/2023 19:27:38</td>\n",
       "      <td>ds8l0_noscaling_keras_d58</td>\n",
       "      <td>0.5686</td>\n",
       "      <td>0.7470</td>\n",
       "      <td>0</td>\n",
       "      <td>0</td>\n",
       "      <td>0</td>\n",
       "      <td>0</td>\n",
       "    </tr>\n",
       "    <tr>\n",
       "      <th>1</th>\n",
       "      <td>16/02/2023 19:28:06</td>\n",
       "      <td>ds8l0_noscaling_qkeras_foldbatchnorm_d58w4a8</td>\n",
       "      <td>0.5898</td>\n",
       "      <td>0.7354</td>\n",
       "      <td>0</td>\n",
       "      <td>0</td>\n",
       "      <td>0</td>\n",
       "      <td>0</td>\n",
       "    </tr>\n",
       "    <tr>\n",
       "      <th>2</th>\n",
       "      <td>16/02/2023 19:28:16</td>\n",
       "      <td>ds8l0_noscaling_hls4ml_qkeras_foldbatchnorm_d5...</td>\n",
       "      <td>0.0000</td>\n",
       "      <td>0.7357</td>\n",
       "      <td>0</td>\n",
       "      <td>0</td>\n",
       "      <td>0</td>\n",
       "      <td>0</td>\n",
       "    </tr>\n",
       "    <tr>\n",
       "      <th>3</th>\n",
       "      <td>16/02/2023 20:31:04</td>\n",
       "      <td>ds8l0_noscaling_keras_d58</td>\n",
       "      <td>0.5684</td>\n",
       "      <td>0.7462</td>\n",
       "      <td>0</td>\n",
       "      <td>0</td>\n",
       "      <td>0</td>\n",
       "      <td>0</td>\n",
       "    </tr>\n",
       "    <tr>\n",
       "      <th>4</th>\n",
       "      <td>16/02/2023 20:31:26</td>\n",
       "      <td>ds8l0_noscaling_qkeras_foldbatchnorm_d58w4a8</td>\n",
       "      <td>0.6017</td>\n",
       "      <td>0.7298</td>\n",
       "      <td>0</td>\n",
       "      <td>0</td>\n",
       "      <td>0</td>\n",
       "      <td>0</td>\n",
       "    </tr>\n",
       "    <tr>\n",
       "      <th>5</th>\n",
       "      <td>16/02/2023 20:36:57</td>\n",
       "      <td>ds8l0_noscaling_keras_d58</td>\n",
       "      <td>0.5741</td>\n",
       "      <td>0.7417</td>\n",
       "      <td>0</td>\n",
       "      <td>0</td>\n",
       "      <td>0</td>\n",
       "      <td>0</td>\n",
       "    </tr>\n",
       "    <tr>\n",
       "      <th>6</th>\n",
       "      <td>16/02/2023 20:37:57</td>\n",
       "      <td>ds8l0_noscaling_qkeras_foldbatchnorm_d58w4a8</td>\n",
       "      <td>0.5920</td>\n",
       "      <td>0.7283</td>\n",
       "      <td>0</td>\n",
       "      <td>0</td>\n",
       "      <td>0</td>\n",
       "      <td>0</td>\n",
       "    </tr>\n",
       "  </tbody>\n",
       "</table>\n",
       "</div>"
      ],
      "text/plain": [
       "                  date                                                 id  \\\n",
       "0  16/02/2023 19:27:38                          ds8l0_noscaling_keras_d58   \n",
       "1  16/02/2023 19:28:06       ds8l0_noscaling_qkeras_foldbatchnorm_d58w4a8   \n",
       "2  16/02/2023 19:28:16  ds8l0_noscaling_hls4ml_qkeras_foldbatchnorm_d5...   \n",
       "3  16/02/2023 20:31:04                          ds8l0_noscaling_keras_d58   \n",
       "4  16/02/2023 20:31:26       ds8l0_noscaling_qkeras_foldbatchnorm_d58w4a8   \n",
       "5  16/02/2023 20:36:57                          ds8l0_noscaling_keras_d58   \n",
       "6  16/02/2023 20:37:57       ds8l0_noscaling_qkeras_foldbatchnorm_d58w4a8   \n",
       "\n",
       "    loss  accuracy  nt_gev02  nt_gev05  nt_gev10  nt_gev20  \n",
       "0 0.5686    0.7470         0         0         0         0  \n",
       "1 0.5898    0.7354         0         0         0         0  \n",
       "2 0.0000    0.7357         0         0         0         0  \n",
       "3 0.5684    0.7462         0         0         0         0  \n",
       "4 0.6017    0.7298         0         0         0         0  \n",
       "5 0.5741    0.7417         0         0         0         0  \n",
       "6 0.5920    0.7283         0         0         0         0  "
      ]
     },
     "metadata": {},
     "output_type": "display_data"
    }
   ],
   "source": [
    "print_results(results_filename)"
   ]
  },
  {
   "cell_type": "markdown",
   "id": "297de867",
   "metadata": {},
   "source": [
    "Average results so far"
   ]
  },
  {
   "cell_type": "code",
   "execution_count": 55,
   "id": "e4c61112",
   "metadata": {},
   "outputs": [
    {
     "data": {
      "text/html": [
       "<div>\n",
       "<style scoped>\n",
       "    .dataframe tbody tr th:only-of-type {\n",
       "        vertical-align: middle;\n",
       "    }\n",
       "\n",
       "    .dataframe tbody tr th {\n",
       "        vertical-align: top;\n",
       "    }\n",
       "\n",
       "    .dataframe thead th {\n",
       "        text-align: right;\n",
       "    }\n",
       "</style>\n",
       "<table border=\"1\" class=\"dataframe\">\n",
       "  <thead>\n",
       "    <tr style=\"text-align: right;\">\n",
       "      <th></th>\n",
       "      <th>accuracy</th>\n",
       "      <th>nt_gev10</th>\n",
       "      <th>count</th>\n",
       "    </tr>\n",
       "    <tr>\n",
       "      <th>id</th>\n",
       "      <th></th>\n",
       "      <th></th>\n",
       "      <th></th>\n",
       "    </tr>\n",
       "  </thead>\n",
       "  <tbody>\n",
       "    <tr>\n",
       "      <th>ds8l0_noscaling_hls4ml_qkeras_foldbatchnorm_d58w4a8</th>\n",
       "      <td>0.7357</td>\n",
       "      <td>0.0000</td>\n",
       "      <td>1</td>\n",
       "    </tr>\n",
       "    <tr>\n",
       "      <th>ds8l0_noscaling_keras_d58</th>\n",
       "      <td>0.7450</td>\n",
       "      <td>0.0000</td>\n",
       "      <td>3</td>\n",
       "    </tr>\n",
       "    <tr>\n",
       "      <th>ds8l0_noscaling_qkeras_foldbatchnorm_d58w4a8</th>\n",
       "      <td>0.7312</td>\n",
       "      <td>0.0000</td>\n",
       "      <td>3</td>\n",
       "    </tr>\n",
       "  </tbody>\n",
       "</table>\n",
       "</div>"
      ],
      "text/plain": [
       "                                                    accuracy  nt_gev10  count\n",
       "id                                                                           \n",
       "ds8l0_noscaling_hls4ml_qkeras_foldbatchnorm_d58...    0.7357    0.0000      1\n",
       "ds8l0_noscaling_keras_d58                             0.7450    0.0000      3\n",
       "ds8l0_noscaling_qkeras_foldbatchnorm_d58w4a8          0.7312    0.0000      3"
      ]
     },
     "metadata": {},
     "output_type": "display_data"
    }
   ],
   "source": [
    "print_avg_results(results_filename)"
   ]
  },
  {
   "cell_type": "code",
   "execution_count": 56,
   "id": "ac1ae0a2",
   "metadata": {},
   "outputs": [],
   "source": [
    "id_ordering = get_model_ids(lrange=[0],\n",
    "                            srange=['noscaling'],\n",
    "                            mrange=[#'keras_d128',\n",
    "                                    #'qkeras_foldbatchnorm_d128w5a10',\n",
    "                                    #'hls4ml_qkeras_foldbatchnorm_d128w5a10',\n",
    "                                    #\n",
    "                                    #'keras_d64',\n",
    "                                    #'qkeras_foldbatchnorm_d64w5a10',\n",
    "                                    #'hls4ml_qkeras_foldbatchnorm_d64w5a10',\n",
    "                                    #'qkeras_foldbatchnorm_d64w4a8',\n",
    "                                    #'hls4ml_qkeras_foldbatchnorm_d64w4a8',\n",
    "                                    #\n",
    "                                    #'keras_d60',\n",
    "                                    #'qkeras_foldbatchnorm_d60w5a10',\n",
    "                                    #'hls4ml_qkeras_foldbatchnorm_d60w5a10',\n",
    "                                    #'qkeras_foldbatchnorm_d60w4a8',\n",
    "                                    #'hls4ml_qkeras_foldbatchnorm_d60w4a8',\n",
    "                                    #\n",
    "                                    'keras_d58',\n",
    "                                    #'qkeras_foldbatchnorm_d58w5a10',\n",
    "                                    #'hls4ml_qkeras_foldbatchnorm_d58w5a10',\n",
    "                                    'qkeras_foldbatchnorm_d58w4a8',\n",
    "                                    'hls4ml_qkeras_foldbatchnorm_d58w4a8',\n",
    "                                   ],\n",
    "                            reverse=True\n",
    "                           )"
   ]
  },
  {
   "cell_type": "code",
   "execution_count": 57,
   "id": "ff3e2701",
   "metadata": {},
   "outputs": [
    {
     "data": {
      "image/png": "[encoded data removed]",
      "text/plain": [
       "<Figure size 1000x1000 with 1 Axes>"
      ]
     },
     "metadata": {},
     "output_type": "display_data"
    }
   ],
   "source": [
    "plot_avg_results(results_filename, accuracy_th=0.76, tracks_th=0.9, id_ordering=id_ordering)"
   ]
  },
  {
   "cell_type": "markdown",
   "id": "273e1247",
   "metadata": {},
   "source": [
    "- Dataset:\n",
    "  - `ds7` is the `dataset 7`\n",
    "  - `ds7q` is `dataset 7` where we also quantized 14th column on 12 bins\n",
    "  - `ds8` is `dataset 8`\n",
    "  - `ds8q` is `dataset 8` where we also quantized 14th column on 12 bins\n",
    "  - `ds678q` is `dataset 6-7-8` where we also quantized 14th column on 12 bins\n",
    "- All of the dataset are non scaled (`noscaling`)\n",
    "- Model:\n",
    "  - `keras` use Keras\n",
    "  - `qkeras` use QKeras (quantized model)\n",
    "- If it says `foldbatchnorm` then we folded the Batch Normalization layer in the previous Dense layer"
   ]
  },
  {
   "cell_type": "markdown",
   "id": "d7ee7f4e",
   "metadata": {
    "tags": [],
    "toc-hr-collapsed": true
   },
   "source": [
    "## Model (QKeras)\n",
    "\n",
    "Mostly the same as the previous section, but now we are usin QKeras"
   ]
  },
  {
   "cell_type": "markdown",
   "id": "fc9b8b15",
   "metadata": {
    "tags": [],
    "toc-hr-collapsed": true
   },
   "source": [
    "### Model definition"
   ]
  },
  {
   "cell_type": "code",
   "execution_count": 58,
   "id": "cd7f5006",
   "metadata": {},
   "outputs": [],
   "source": [
    "qmodels = {}"
   ]
  },
  {
   "cell_type": "markdown",
   "id": "dc8445a5",
   "metadata": {},
   "source": [
    "#### qkeras-foldbatchnorm-d128w5a10"
   ]
  },
  {
   "cell_type": "code",
   "execution_count": 59,
   "id": "dd870058",
   "metadata": {},
   "outputs": [],
   "source": [
    "# Fold BatchNormalization in QDense\n",
    "def CreateQModel(shape, nb_classes):\n",
    "    x = x_in = Input(shape, name=\"input1\")\n",
    "    x = QDenseBatchnorm(128,\n",
    "        kernel_quantizer=quantized_bits(5,0,alpha=1),\n",
    "        bias_quantizer=quantized_bits(5,0,alpha=1),\n",
    "        name=\"dense1\")(x)\n",
    "    x = QActivation(\"quantized_relu(10,0)\", name=\"relu1\")(x)\n",
    "    x = QDense(3,\n",
    "        kernel_quantizer=quantized_bits(5,0,alpha=1),\n",
    "        bias_quantizer=quantized_bits(5,0,alpha=1),\n",
    "        name=\"dense2\")(x)\n",
    "    x = Activation(\"linear\", name=\"linear\")(x)\n",
    "    model = Model(inputs=x_in, outputs=x)\n",
    "    return model\n",
    "\n",
    "qmodels['d128w5a10'] = {\n",
    "    'prefix': dataset + padding + scaling + 'qkeras_foldbatchnorm_d128w5a10',\n",
    "    'type'  : 'qkeras_foldbatchnorm',\n",
    "    'def'   : CreateQModel}"
   ]
  },
  {
   "cell_type": "markdown",
   "id": "82dbd855",
   "metadata": {},
   "source": [
    "#### qkeras-foldbatchnorm-d128w4a8"
   ]
  },
  {
   "cell_type": "code",
   "execution_count": 60,
   "id": "5440474e",
   "metadata": {},
   "outputs": [],
   "source": [
    "# Fold BatchNormalization in QDense\n",
    "def CreateQModel(shape, nb_classes):\n",
    "    x = x_in = Input(shape, name=\"input1\")\n",
    "    x = QDenseBatchnorm(128,\n",
    "        kernel_quantizer=quantized_bits(4,0,alpha=1),\n",
    "        bias_quantizer=quantized_bits(4,0,alpha=1),\n",
    "        name=\"dense1\")(x)\n",
    "    x = QActivation(\"quantized_relu(8,0)\", name=\"relu1\")(x)\n",
    "    x = QDense(3,\n",
    "        kernel_quantizer=quantized_bits(4,0,alpha=1),\n",
    "        bias_quantizer=quantized_bits(4,0,alpha=1),\n",
    "        name=\"dense2\")(x)\n",
    "    x = Activation(\"linear\", name=\"linear\")(x)\n",
    "    model = Model(inputs=x_in, outputs=x)\n",
    "    return model\n",
    "\n",
    "qmodels['d128w4a8'] = {\n",
    "    'prefix': dataset + padding + scaling + 'qkeras_foldbatchnorm_d128w4a8',\n",
    "    'type'  : 'qkeras_foldbatchnorm',\n",
    "    'def'   : CreateQModel}"
   ]
  },
  {
   "cell_type": "markdown",
   "id": "477c5227",
   "metadata": {},
   "source": [
    "#### qkeras-foldbatchnorm-d64w5a10"
   ]
  },
  {
   "cell_type": "code",
   "execution_count": 61,
   "id": "6c918f8c",
   "metadata": {},
   "outputs": [],
   "source": [
    "# Fold BatchNormalization in QDense\n",
    "def CreateQModel(shape, nb_classes):\n",
    "    x = x_in = Input(shape, name=\"input1\")\n",
    "    x = QDenseBatchnorm(64,\n",
    "        kernel_quantizer=quantized_bits(5,0,alpha=1),\n",
    "        bias_quantizer=quantized_bits(5,0,alpha=1),\n",
    "        name=\"dense1\")(x)\n",
    "    x = QActivation(\"quantized_relu(10,0)\", name=\"relu1\")(x)\n",
    "    x = QDense(3,\n",
    "        kernel_quantizer=quantized_bits(5,0,alpha=1),\n",
    "        bias_quantizer=quantized_bits(5,0,alpha=1),\n",
    "        name=\"dense2\")(x)\n",
    "    x = Activation(\"linear\", name=\"linear\")(x)\n",
    "    model = Model(inputs=x_in, outputs=x)\n",
    "    return model\n",
    "\n",
    "qmodels['d64w5a10'] = {\n",
    "    'prefix': dataset + padding + scaling + 'qkeras_foldbatchnorm_d64w5a10',\n",
    "    'type'  : 'qkeras_foldbatchnorm',\n",
    "    'def'   : CreateQModel}"
   ]
  },
  {
   "cell_type": "markdown",
   "id": "210d9992",
   "metadata": {},
   "source": [
    "#### qkeras-foldbatchnorm-d64w4a8"
   ]
  },
  {
   "cell_type": "code",
   "execution_count": 62,
   "id": "eb278b12",
   "metadata": {},
   "outputs": [],
   "source": [
    "# Fold BatchNormalization in QDense\n",
    "def CreateQModel(shape, nb_classes):\n",
    "    x = x_in = Input(shape, name=\"input1\")\n",
    "    x = QDenseBatchnorm(64,\n",
    "        kernel_quantizer=quantized_bits(4,0,alpha=1),\n",
    "        bias_quantizer=quantized_bits(4,0,alpha=1),\n",
    "        name=\"dense1\")(x)\n",
    "    x = QActivation(\"quantized_relu(8,0)\", name=\"relu1\")(x)\n",
    "    x = QDense(3,\n",
    "        kernel_quantizer=quantized_bits(4,0,alpha=1),\n",
    "        bias_quantizer=quantized_bits(4,0,alpha=1),\n",
    "        name=\"dense2\")(x)\n",
    "    x = Activation(\"linear\", name=\"linear\")(x)\n",
    "    model = Model(inputs=x_in, outputs=x)\n",
    "    return model\n",
    "\n",
    "qmodels['d64w4a8'] = {\n",
    "    'prefix': dataset + padding + scaling + 'qkeras_foldbatchnorm_d64w4a8',\n",
    "    'type'  : 'qkeras_foldbatchnorm',\n",
    "    'def'   : CreateQModel}"
   ]
  },
  {
   "cell_type": "markdown",
   "id": "ac70467a",
   "metadata": {},
   "source": [
    "#### qkeras-foldbatchnorm-d60w5a10"
   ]
  },
  {
   "cell_type": "code",
   "execution_count": 63,
   "id": "23f1af22",
   "metadata": {},
   "outputs": [],
   "source": [
    "# Fold BatchNormalization in QDense\n",
    "def CreateQModel(shape, nb_classes):\n",
    "    x = x_in = Input(shape, name=\"input1\")\n",
    "    x = QDenseBatchnorm(60,\n",
    "        kernel_quantizer=quantized_bits(5,0,alpha=1),\n",
    "        bias_quantizer=quantized_bits(5,0,alpha=1),\n",
    "        name=\"dense1\")(x)\n",
    "    x = QActivation(\"quantized_relu(10,0)\", name=\"relu1\")(x)\n",
    "    x = QDense(3,\n",
    "        kernel_quantizer=quantized_bits(5,0,alpha=1),\n",
    "        bias_quantizer=quantized_bits(5,0,alpha=1),\n",
    "        name=\"dense2\")(x)\n",
    "    x = Activation(\"linear\", name=\"linear\")(x)\n",
    "    model = Model(inputs=x_in, outputs=x)\n",
    "    return model\n",
    "\n",
    "qmodels['d60w5a10'] = {\n",
    "    'prefix': dataset + padding + scaling + 'qkeras_foldbatchnorm_d60w5a10',\n",
    "    'type'  : 'qkeras_foldbatchnorm',\n",
    "    'def'   : CreateQModel}"
   ]
  },
  {
   "cell_type": "markdown",
   "id": "110e211b",
   "metadata": {},
   "source": [
    "#### qkeras-foldbatchnorm-d60w4a8"
   ]
  },
  {
   "cell_type": "code",
   "execution_count": 64,
   "id": "9a493db9",
   "metadata": {},
   "outputs": [],
   "source": [
    "# Fold BatchNormalization in QDense\n",
    "def CreateQModel(shape, nb_classes):\n",
    "    x = x_in = Input(shape, name=\"input1\")\n",
    "    x = QDenseBatchnorm(60,\n",
    "        kernel_quantizer=quantized_bits(4,0,alpha=1),\n",
    "        bias_quantizer=quantized_bits(4,0,alpha=1),\n",
    "        name=\"dense1\")(x)\n",
    "    x = QActivation(\"quantized_relu(8,0)\", name=\"relu1\")(x)\n",
    "    x = QDense(3,\n",
    "        kernel_quantizer=quantized_bits(4,0,alpha=1),\n",
    "        bias_quantizer=quantized_bits(4,0,alpha=1),\n",
    "        name=\"dense2\")(x)\n",
    "    x = Activation(\"linear\", name=\"linear\")(x)\n",
    "    model = Model(inputs=x_in, outputs=x)\n",
    "    return model\n",
    "\n",
    "qmodels['d60w4a8'] = {\n",
    "    'prefix': dataset + padding + scaling + 'qkeras_foldbatchnorm_d60w4a8',\n",
    "    'type'  : 'qkeras_foldbatchnorm',\n",
    "    'def'   : CreateQModel}"
   ]
  },
  {
   "cell_type": "markdown",
   "id": "7f9008b8",
   "metadata": {},
   "source": [
    "#### qkeras-foldbatchnorm-d58w5a10"
   ]
  },
  {
   "cell_type": "code",
   "execution_count": 65,
   "id": "5bade480",
   "metadata": {},
   "outputs": [],
   "source": [
    "# Fold BatchNormalization in QDense\n",
    "def CreateQModel(shape, nb_classes):\n",
    "    x = x_in = Input(shape, name=\"input1\")\n",
    "    x = QDenseBatchnorm(58,\n",
    "        kernel_quantizer=quantized_bits(5,0,alpha=1),\n",
    "        bias_quantizer=quantized_bits(5,0,alpha=1),\n",
    "        name=\"dense1\")(x)\n",
    "    x = QActivation(\"quantized_relu(10,0)\", name=\"relu1\")(x)\n",
    "    x = QDense(3,\n",
    "        kernel_quantizer=quantized_bits(5,0,alpha=1),\n",
    "        bias_quantizer=quantized_bits(5,0,alpha=1),\n",
    "        name=\"dense2\")(x)\n",
    "    x = Activation(\"linear\", name=\"linear\")(x)\n",
    "    model = Model(inputs=x_in, outputs=x)\n",
    "    return model\n",
    "\n",
    "qmodels['d58w5a10'] = {\n",
    "    'prefix': dataset + padding + scaling + 'qkeras_foldbatchnorm_d58w5a10',\n",
    "    'type'  : 'qkeras_foldbatchnorm',\n",
    "    'def'   : CreateQModel}"
   ]
  },
  {
   "cell_type": "markdown",
   "id": "daa1db1d",
   "metadata": {},
   "source": [
    "#### qkeras-foldbatchnorm-d58w4a8"
   ]
  },
  {
   "cell_type": "code",
   "execution_count": 66,
   "id": "df573f25",
   "metadata": {},
   "outputs": [],
   "source": [
    "# Fold BatchNormalization in QDense\n",
    "def CreateQModel(shape, nb_classes):\n",
    "    x = x_in = Input(shape, name=\"input1\")\n",
    "    \n",
    "    x = QDenseBatchnorm(58,\n",
    "       kernel_quantizer=quantized_bits(4,0,alpha=1),\n",
    "       bias_quantizer=quantized_bits(4,0,alpha=1),\n",
    "       name=\"dense1\")(x)\n",
    "    # x = QDense(58,\n",
    "    #     kernel_quantizer=quantized_bits(4,0,alpha=1),\n",
    "    #     bias_quantizer=quantized_bits(4,0,alpha=1),\n",
    "    #     name=\"dense1\")(x)\n",
    "    # x = keras.layers.BatchNormalization()(x)\n",
    "    \n",
    "    x = QActivation(\"quantized_relu(8,0)\", name=\"relu1\")(x)\n",
    "    x = QDense(3,\n",
    "        kernel_quantizer=quantized_bits(4,0,alpha=1),\n",
    "        bias_quantizer=quantized_bits(4,0,alpha=1),\n",
    "        name=\"dense2\")(x)\n",
    "    x = Activation(\"linear\", name=\"linear\")(x)\n",
    "    model = Model(inputs=x_in, outputs=x)\n",
    "    return model\n",
    "\n",
    "qmodels['d58w4a8'] = {\n",
    "    'prefix': dataset + padding + scaling + 'qkeras_foldbatchnorm_d58w4a8',\n",
    "    'type'  : 'qkeras_foldbatchnorm',\n",
    "    'def'   : CreateQModel}"
   ]
  },
  {
   "cell_type": "markdown",
   "id": "bc6b18a5",
   "metadata": {},
   "source": [
    "### Model create and summary"
   ]
  },
  {
   "cell_type": "code",
   "execution_count": 67,
   "id": "8f67e57a",
   "metadata": {},
   "outputs": [
    {
     "name": "stdout",
     "output_type": "stream",
     "text": [
      "d128w5a10\n",
      "  prefix\n",
      "    ds8l0_noscaling_qkeras_foldbatchnorm_d128w5a10\n",
      "  type\n",
      "    qkeras_foldbatchnorm\n",
      "  def\n",
      "    <function CreateQModel at 0x7f54e04813a0>\n",
      "d128w4a8\n",
      "  prefix\n",
      "    ds8l0_noscaling_qkeras_foldbatchnorm_d128w4a8\n",
      "  type\n",
      "    qkeras_foldbatchnorm\n",
      "  def\n",
      "    <function CreateQModel at 0x7f54e0481670>\n",
      "d64w5a10\n",
      "  prefix\n",
      "    ds8l0_noscaling_qkeras_foldbatchnorm_d64w5a10\n",
      "  type\n",
      "    qkeras_foldbatchnorm\n",
      "  def\n",
      "    <function CreateQModel at 0x7f54e0481a60>\n",
      "d64w4a8\n",
      "  prefix\n",
      "    ds8l0_noscaling_qkeras_foldbatchnorm_d64w4a8\n",
      "  type\n",
      "    qkeras_foldbatchnorm\n",
      "  def\n",
      "    <function CreateQModel at 0x7f54e0481dc0>\n",
      "d60w5a10\n",
      "  prefix\n",
      "    ds8l0_noscaling_qkeras_foldbatchnorm_d60w5a10\n",
      "  type\n",
      "    qkeras_foldbatchnorm\n",
      "  def\n",
      "    <function CreateQModel at 0x7f54e04883a0>\n",
      "d60w4a8\n",
      "  prefix\n",
      "    ds8l0_noscaling_qkeras_foldbatchnorm_d60w4a8\n",
      "  type\n",
      "    qkeras_foldbatchnorm\n",
      "  def\n",
      "    <function CreateQModel at 0x7f54e04884c0>\n",
      "d58w5a10\n",
      "  prefix\n",
      "    ds8l0_noscaling_qkeras_foldbatchnorm_d58w5a10\n",
      "  type\n",
      "    qkeras_foldbatchnorm\n",
      "  def\n",
      "    <function CreateQModel at 0x7f54e0488a60>\n",
      "d58w4a8\n",
      "  prefix\n",
      "    ds8l0_noscaling_qkeras_foldbatchnorm_d58w4a8\n",
      "  type\n",
      "    qkeras_foldbatchnorm\n",
      "  def\n",
      "    <function CreateQModel at 0x7f54e0488b80>\n"
     ]
    }
   ],
   "source": [
    "print_dictionary(qmodels)"
   ]
  },
  {
   "cell_type": "markdown",
   "id": "89c262c9",
   "metadata": {},
   "source": [
    "<p style=\"background-color:Yellow;\"><b>Choose a QKeras model for training and testing. Pay attention to the previously created model in Keras.</b></p>"
   ]
  },
  {
   "cell_type": "code",
   "execution_count": 68,
   "id": "512b8b36",
   "metadata": {},
   "outputs": [
    {
     "name": "stdout",
     "output_type": "stream",
     "text": [
      "Keras model: d58\n"
     ]
    }
   ],
   "source": [
    "print('Keras model:', chosen_model)"
   ]
  },
  {
   "cell_type": "code",
   "execution_count": 69,
   "id": "0b652c4e",
   "metadata": {},
   "outputs": [],
   "source": [
    "chosen_qmodel = 'd58w4a8'  # <<< PAY ATTENTION <<<"
   ]
  },
  {
   "cell_type": "code",
   "execution_count": 70,
   "id": "20c95f45",
   "metadata": {},
   "outputs": [],
   "source": [
    "qmodel_prefix = qmodels[chosen_qmodel]['prefix']\n",
    "qmodel_def = qmodels[chosen_qmodel]['def']\n",
    "qmodel_type = qmodels[chosen_qmodel]['type']"
   ]
  },
  {
   "cell_type": "code",
   "execution_count": 71,
   "id": "1d8610bb",
   "metadata": {},
   "outputs": [
    {
     "name": "stdout",
     "output_type": "stream",
     "text": [
      "Model: \"model_1\"\n",
      "_________________________________________________________________\n",
      " Layer (type)                Output Shape              Param #   \n",
      "=================================================================\n",
      " input1 (InputLayer)         [(None, 13)]              0         \n",
      "                                                                 \n",
      " dense1 (QDenseBatchnorm)    (None, 58)                1045      \n",
      "                                                                 \n",
      " relu1 (QActivation)         (None, 58)                0         \n",
      "                                                                 \n",
      " dense2 (QDense)             (None, 3)                 177       \n",
      "                                                                 \n",
      " linear (Activation)         (None, 3)                 0         \n",
      "                                                                 \n",
      "=================================================================\n",
      "Total params: 1,222\n",
      "Trainable params: 1,105\n",
      "Non-trainable params: 117\n",
      "_________________________________________________________________\n"
     ]
    }
   ],
   "source": [
    "model = qmodel_def(X_train.shape[1:], y_train.shape[-1])\n",
    "\n",
    "model.compile(optimizer=Adam(),\n",
    "              loss=keras.losses.SparseCategoricalCrossentropy(from_logits=True), # default from_logits=False\n",
    "              metrics=[keras.metrics.SparseCategoricalAccuracy()])\n",
    "\n",
    "model.summary()"
   ]
  },
  {
   "cell_type": "markdown",
   "id": "6bd850c3",
   "metadata": {},
   "source": [
    "### Model training"
   ]
  },
  {
   "cell_type": "code",
   "execution_count": 72,
   "id": "c619c9c0",
   "metadata": {},
   "outputs": [],
   "source": [
    "train_and_save = False # <<< PAY ATTENTION <<<"
   ]
  },
  {
   "cell_type": "code",
   "execution_count": 73,
   "id": "4720ce89-2eae-4016-a7c2-955ae4bbaae9",
   "metadata": {
    "scrolled": true
   },
   "outputs": [],
   "source": [
    "from qkeras.utils import model_save_quantized_weights\n",
    "\n",
    "model_file = 'models/' + qmodel_prefix + 'model.h5'\n",
    "model_q_weights_file = 'models/' + qmodel_prefix + 'model_q_weights.h5'\n",
    "\n",
    "history = None\n",
    "if train_and_save:\n",
    "    es = EarlyStopping(monitor='val_loss',\n",
    "                       #monitor='val_sparse_categorical_accuracy', \n",
    "                       #mode='max', # don't minimize the accuracy!\n",
    "                       patience=20,\n",
    "                       restore_best_weights=True)\n",
    "\n",
    "    history = model.fit(X_train,\n",
    "                    y_train,\n",
    "                    callbacks=[es],\n",
    "                    epochs=150, \n",
    "                    batch_size=1024,\n",
    "                    validation_split=0.2,\n",
    "                    shuffle=True,\n",
    "                    verbose=0)\n",
    "    \n",
    "    model_save_quantized_weights(model, model_q_weights_file)\n",
    "    model.save(model_file)\n",
    "    print('Save:', model_file)\n",
    "    print('Save:', model_q_weights_file)\n",
    "\n",
    "co = {}\n",
    "utils._add_supported_quantized_objects(co)\n",
    "model = tf.keras.models.load_model(model_file, custom_objects=co)"
   ]
  },
  {
   "cell_type": "raw",
   "id": "19db391b",
   "metadata": {},
   "source": [
    "from keras_sequential_ascii import keras2ascii\n",
    "keras2ascii(model)"
   ]
  },
  {
   "cell_type": "markdown",
   "id": "f2a04ec9",
   "metadata": {},
   "source": [
    "### Model evaluation"
   ]
  },
  {
   "cell_type": "code",
   "execution_count": 74,
   "id": "0bb4c82a-85d8-4e6c-9396-5ea7ec79e0c4",
   "metadata": {},
   "outputs": [
    {
     "data": {
      "image/png": "[encoded data removed]",
      "text/plain": [
       "<PIL.PngImagePlugin.PngImageFile image mode=RGBA size=640x480>"
      ]
     },
     "metadata": {},
     "output_type": "display_data"
    }
   ],
   "source": [
    "if train_and_save:\n",
    "    history_dict = history.history\n",
    "    loss_values = history_dict['loss'] \n",
    "    val_loss_values = history_dict['val_loss'] \n",
    "    epochs = range(1, len(loss_values) + 1) \n",
    "    plt.plot(epochs, loss_values, 'bo', label='Training loss')\n",
    "    plt.plot(epochs, val_loss_values, 'orange', label='Validation loss')\n",
    "    plt.title('Training and validation loss')\n",
    "    plt.xlabel('Epochs')\n",
    "    plt.ylabel('Loss')\n",
    "    plt.legend()\n",
    "    plt.savefig('images/' + qmodel_prefix + 'loss.png')\n",
    "else:\n",
    "    from PIL import Image\n",
    "\n",
    "    img = Image.open('images/' + qmodel_prefix + 'loss.png')\n",
    "    display(img)"
   ]
  },
  {
   "cell_type": "code",
   "execution_count": 75,
   "id": "0c4da634-9a07-4808-93f1-afc1428c08d2",
   "metadata": {},
   "outputs": [
    {
     "data": {
      "image/png": "[encoded data removed]",
      "text/plain": [
       "<PIL.PngImagePlugin.PngImageFile image mode=RGBA size=640x480>"
      ]
     },
     "metadata": {},
     "output_type": "display_data"
    }
   ],
   "source": [
    "if train_and_save:\n",
    "    acc = history.history['sparse_categorical_accuracy']\n",
    "    val_acc = history.history['val_sparse_categorical_accuracy']\n",
    "    epochs = range(1, len(acc) + 1)\n",
    "    plt.plot(epochs, acc, 'bo', label='Training accuracy')\n",
    "    plt.plot(epochs, val_acc, 'orange', label='Validation accuracy')\n",
    "    plt.title('Training and validation accuracy')\n",
    "    plt.xlabel('Epochs')\n",
    "    plt.ylabel('Accuracy')\n",
    "    plt.legend()\n",
    "    #np.max(val_acc)\n",
    "    plt.savefig('images/' + qmodel_prefix + 'accuracy.png')\n",
    "    plt.show()\n",
    "else:\n",
    "    from PIL import Image\n",
    "    #from os.path import exists\n",
    "\n",
    "    img = Image.open('images/' + qmodel_prefix + 'accuracy.png')\n",
    "    display(img)"
   ]
  },
  {
   "cell_type": "code",
   "execution_count": 76,
   "id": "1378681c-a72c-4380-84bd-9fcf5b782038",
   "metadata": {},
   "outputs": [],
   "source": [
    "preds = model.predict(X_test) \n",
    "predictionsFiles = np.argmax(preds, axis=1)"
   ]
  },
  {
   "cell_type": "raw",
   "id": "9e22a93b",
   "metadata": {},
   "source": [
    "predictionsFiles"
   ]
  },
  {
   "cell_type": "code",
   "execution_count": 77,
   "id": "091327bd-28ed-4570-8f00-9315e209bf7e",
   "metadata": {},
   "outputs": [],
   "source": [
    "pd.DataFrame(predictionsFiles).to_csv(\"csv/\" + qmodel_prefix + \"predictionsFiles.csv\", header='predict', index=False)"
   ]
  },
  {
   "cell_type": "code",
   "execution_count": 78,
   "id": "5fa23cc3-3f30-4cd4-85e5-ae6064869378",
   "metadata": {},
   "outputs": [],
   "source": [
    "pd.DataFrame(y_test).to_csv(\"csv/\" + qmodel_prefix + \"true.csv\", header='true', index=False)"
   ]
  },
  {
   "cell_type": "code",
   "execution_count": 79,
   "id": "caf53631-bfae-4276-9400-30bbf6bc5490",
   "metadata": {},
   "outputs": [
    {
     "name": "stdout",
     "output_type": "stream",
     "text": [
      "Test loss (QKeras) d58: 0.5919830799102783\n",
      "Test accuracy (QKeras) d58: 0.7283361554145813\n"
     ]
    }
   ],
   "source": [
    "score = model.evaluate(X_test, y_test, verbose=0)\n",
    "print(\"Test loss (QKeras) {}: {}\".format(chosen_model, score[0]))\n",
    "print(\"Test accuracy (QKeras) {}: {}\".format(chosen_model, score[1]))"
   ]
  },
  {
   "cell_type": "code",
   "execution_count": 80,
   "id": "9edf8385-5618-4176-aba4-f1fc0c459df7",
   "metadata": {},
   "outputs": [
    {
     "name": "stdout",
     "output_type": "stream",
     "text": [
      "Confusion matrix:\n",
      "[[4930  535  578]\n",
      " [1048 1675   13]\n",
      " [ 840    5 1489]]\n"
     ]
    },
    {
     "data": {
      "image/png": "[encoded data removed]",
      "text/plain": [
       "<Figure size 640x480 with 2 Axes>"
      ]
     },
     "metadata": {},
     "output_type": "display_data"
    }
   ],
   "source": [
    "from sklearn import datasets, svm, metrics\n",
    "disp = metrics.ConfusionMatrixDisplay.from_predictions(y_test, predictionsFiles)\n",
    "disp.figure_.suptitle(\"Multiclassifier Confusion Matrix\")\n",
    "print(f\"Confusion matrix:\\n{disp.confusion_matrix}\")\n",
    "plt.savefig('images/' + qmodel_prefix + 'confusionMatrix.png')\n",
    "plt.show()"
   ]
  },
  {
   "cell_type": "raw",
   "id": "86208ddb",
   "metadata": {},
   "source": [
    "GeV_0_2, GeV_0_5, GeV_1_0, GeV_2_0 = get_number_of_tracks(dataset + scaling + qmodel_type + '_' + chosen_model, base_dir + '/TestSetTruePT.csv')"
   ]
  },
  {
   "cell_type": "code",
   "execution_count": 81,
   "id": "c2c7af29",
   "metadata": {},
   "outputs": [],
   "source": [
    "GeV_0_2, GeV_0_5, GeV_1_0, GeV_2_0 = [0, 0, 0, 0]"
   ]
  },
  {
   "cell_type": "code",
   "execution_count": 82,
   "id": "e366f25b",
   "metadata": {},
   "outputs": [
    {
     "name": "stdout",
     "output_type": "stream",
     "text": [
      "---\n",
      "Number of tracks greater than\n",
      "- 0.2GeV correctly classified as high pT: 0\n",
      "- 0.5GeV correctly classified as high pT: 0\n",
      "- 1.0GeV correctly classified as high pT: 0\n",
      "- 2.0GeV correctly classified as high pT: 0\n",
      "---\n"
     ]
    }
   ],
   "source": [
    "print('---')\n",
    "print('Number of tracks greater than')\n",
    "print('- 0.2GeV correctly classified as high pT:', GeV_0_2)\n",
    "print('- 0.5GeV correctly classified as high pT:', GeV_0_5)\n",
    "print('- 1.0GeV correctly classified as high pT:', GeV_1_0)\n",
    "print('- 2.0GeV correctly classified as high pT:', GeV_2_0)\n",
    "print('---')"
   ]
  },
  {
   "cell_type": "code",
   "execution_count": 83,
   "id": "c8139f58",
   "metadata": {},
   "outputs": [
    {
     "data": {
      "text/html": [
       "<div>\n",
       "<style scoped>\n",
       "    .dataframe tbody tr th:only-of-type {\n",
       "        vertical-align: middle;\n",
       "    }\n",
       "\n",
       "    .dataframe tbody tr th {\n",
       "        vertical-align: top;\n",
       "    }\n",
       "\n",
       "    .dataframe thead th {\n",
       "        text-align: right;\n",
       "    }\n",
       "</style>\n",
       "<table border=\"1\" class=\"dataframe\">\n",
       "  <thead>\n",
       "    <tr style=\"text-align: right;\">\n",
       "      <th></th>\n",
       "      <th>id</th>\n",
       "      <th>loss</th>\n",
       "      <th>accuracy</th>\n",
       "      <th>nt_gev02</th>\n",
       "      <th>nt_gev05</th>\n",
       "      <th>nt_gev10</th>\n",
       "      <th>nt_gev20</th>\n",
       "    </tr>\n",
       "  </thead>\n",
       "  <tbody>\n",
       "    <tr>\n",
       "      <th>0</th>\n",
       "      <td>ds8l0_noscaling_qkeras_foldbatchnorm_d58w4a8</td>\n",
       "      <td>0.5920</td>\n",
       "      <td>0.7283</td>\n",
       "      <td>0</td>\n",
       "      <td>0</td>\n",
       "      <td>0</td>\n",
       "      <td>0</td>\n",
       "    </tr>\n",
       "  </tbody>\n",
       "</table>\n",
       "</div>"
      ],
      "text/plain": [
       "                                             id   loss  accuracy  nt_gev02  \\\n",
       "0  ds8l0_noscaling_qkeras_foldbatchnorm_d58w4a8 0.5920    0.7283         0   \n",
       "\n",
       "   nt_gev05  nt_gev10  nt_gev20  \n",
       "0         0         0         0  "
      ]
     },
     "metadata": {},
     "output_type": "display_data"
    }
   ],
   "source": [
    "with pd.option_context('display.float_format', '{:0.4f}'.format):\n",
    "    data = pd.DataFrame([[qmodel_prefix, score[0], score[1], GeV_0_2, GeV_0_5, GeV_1_0, GeV_2_0]], columns=[\"id\", \"loss\", \"accuracy\", \"nt_gev02\", \"nt_gev05\", \"nt_gev10\", \"nt_gev20\"])\n",
    "    display(data)"
   ]
  },
  {
   "cell_type": "code",
   "execution_count": 84,
   "id": "f12caa7b",
   "metadata": {},
   "outputs": [],
   "source": [
    "results_filename = 'csv/results.csv'\n",
    "if train_and_save:\n",
    "    write_results(results_filename, qmodel_prefix, score[0], score[1], GeV_0_2, GeV_0_5, GeV_1_0, GeV_2_0)"
   ]
  },
  {
   "cell_type": "code",
   "execution_count": 85,
   "id": "f139a820",
   "metadata": {},
   "outputs": [
    {
     "data": {
      "text/html": [
       "<div>\n",
       "<style scoped>\n",
       "    .dataframe tbody tr th:only-of-type {\n",
       "        vertical-align: middle;\n",
       "    }\n",
       "\n",
       "    .dataframe tbody tr th {\n",
       "        vertical-align: top;\n",
       "    }\n",
       "\n",
       "    .dataframe thead th {\n",
       "        text-align: right;\n",
       "    }\n",
       "</style>\n",
       "<table border=\"1\" class=\"dataframe\">\n",
       "  <thead>\n",
       "    <tr style=\"text-align: right;\">\n",
       "      <th></th>\n",
       "      <th>date</th>\n",
       "      <th>id</th>\n",
       "      <th>loss</th>\n",
       "      <th>accuracy</th>\n",
       "      <th>nt_gev02</th>\n",
       "      <th>nt_gev05</th>\n",
       "      <th>nt_gev10</th>\n",
       "      <th>nt_gev20</th>\n",
       "    </tr>\n",
       "  </thead>\n",
       "  <tbody>\n",
       "    <tr>\n",
       "      <th>0</th>\n",
       "      <td>16/02/2023 19:27:38</td>\n",
       "      <td>ds8l0_noscaling_keras_d58</td>\n",
       "      <td>0.5686</td>\n",
       "      <td>0.7470</td>\n",
       "      <td>0</td>\n",
       "      <td>0</td>\n",
       "      <td>0</td>\n",
       "      <td>0</td>\n",
       "    </tr>\n",
       "    <tr>\n",
       "      <th>1</th>\n",
       "      <td>16/02/2023 19:28:06</td>\n",
       "      <td>ds8l0_noscaling_qkeras_foldbatchnorm_d58w4a8</td>\n",
       "      <td>0.5898</td>\n",
       "      <td>0.7354</td>\n",
       "      <td>0</td>\n",
       "      <td>0</td>\n",
       "      <td>0</td>\n",
       "      <td>0</td>\n",
       "    </tr>\n",
       "    <tr>\n",
       "      <th>2</th>\n",
       "      <td>16/02/2023 19:28:16</td>\n",
       "      <td>ds8l0_noscaling_hls4ml_qkeras_foldbatchnorm_d5...</td>\n",
       "      <td>0.0000</td>\n",
       "      <td>0.7357</td>\n",
       "      <td>0</td>\n",
       "      <td>0</td>\n",
       "      <td>0</td>\n",
       "      <td>0</td>\n",
       "    </tr>\n",
       "    <tr>\n",
       "      <th>3</th>\n",
       "      <td>16/02/2023 20:31:04</td>\n",
       "      <td>ds8l0_noscaling_keras_d58</td>\n",
       "      <td>0.5684</td>\n",
       "      <td>0.7462</td>\n",
       "      <td>0</td>\n",
       "      <td>0</td>\n",
       "      <td>0</td>\n",
       "      <td>0</td>\n",
       "    </tr>\n",
       "    <tr>\n",
       "      <th>4</th>\n",
       "      <td>16/02/2023 20:31:26</td>\n",
       "      <td>ds8l0_noscaling_qkeras_foldbatchnorm_d58w4a8</td>\n",
       "      <td>0.6017</td>\n",
       "      <td>0.7298</td>\n",
       "      <td>0</td>\n",
       "      <td>0</td>\n",
       "      <td>0</td>\n",
       "      <td>0</td>\n",
       "    </tr>\n",
       "    <tr>\n",
       "      <th>5</th>\n",
       "      <td>16/02/2023 20:36:57</td>\n",
       "      <td>ds8l0_noscaling_keras_d58</td>\n",
       "      <td>0.5741</td>\n",
       "      <td>0.7417</td>\n",
       "      <td>0</td>\n",
       "      <td>0</td>\n",
       "      <td>0</td>\n",
       "      <td>0</td>\n",
       "    </tr>\n",
       "    <tr>\n",
       "      <th>6</th>\n",
       "      <td>16/02/2023 20:37:57</td>\n",
       "      <td>ds8l0_noscaling_qkeras_foldbatchnorm_d58w4a8</td>\n",
       "      <td>0.5920</td>\n",
       "      <td>0.7283</td>\n",
       "      <td>0</td>\n",
       "      <td>0</td>\n",
       "      <td>0</td>\n",
       "      <td>0</td>\n",
       "    </tr>\n",
       "  </tbody>\n",
       "</table>\n",
       "</div>"
      ],
      "text/plain": [
       "                  date                                                 id  \\\n",
       "0  16/02/2023 19:27:38                          ds8l0_noscaling_keras_d58   \n",
       "1  16/02/2023 19:28:06       ds8l0_noscaling_qkeras_foldbatchnorm_d58w4a8   \n",
       "2  16/02/2023 19:28:16  ds8l0_noscaling_hls4ml_qkeras_foldbatchnorm_d5...   \n",
       "3  16/02/2023 20:31:04                          ds8l0_noscaling_keras_d58   \n",
       "4  16/02/2023 20:31:26       ds8l0_noscaling_qkeras_foldbatchnorm_d58w4a8   \n",
       "5  16/02/2023 20:36:57                          ds8l0_noscaling_keras_d58   \n",
       "6  16/02/2023 20:37:57       ds8l0_noscaling_qkeras_foldbatchnorm_d58w4a8   \n",
       "\n",
       "    loss  accuracy  nt_gev02  nt_gev05  nt_gev10  nt_gev20  \n",
       "0 0.5686    0.7470         0         0         0         0  \n",
       "1 0.5898    0.7354         0         0         0         0  \n",
       "2 0.0000    0.7357         0         0         0         0  \n",
       "3 0.5684    0.7462         0         0         0         0  \n",
       "4 0.6017    0.7298         0         0         0         0  \n",
       "5 0.5741    0.7417         0         0         0         0  \n",
       "6 0.5920    0.7283         0         0         0         0  "
      ]
     },
     "metadata": {},
     "output_type": "display_data"
    }
   ],
   "source": [
    "print_results(results_filename)"
   ]
  },
  {
   "cell_type": "code",
   "execution_count": 86,
   "id": "f6ec8b5f",
   "metadata": {},
   "outputs": [
    {
     "data": {
      "text/html": [
       "<div>\n",
       "<style scoped>\n",
       "    .dataframe tbody tr th:only-of-type {\n",
       "        vertical-align: middle;\n",
       "    }\n",
       "\n",
       "    .dataframe tbody tr th {\n",
       "        vertical-align: top;\n",
       "    }\n",
       "\n",
       "    .dataframe thead th {\n",
       "        text-align: right;\n",
       "    }\n",
       "</style>\n",
       "<table border=\"1\" class=\"dataframe\">\n",
       "  <thead>\n",
       "    <tr style=\"text-align: right;\">\n",
       "      <th></th>\n",
       "      <th>accuracy</th>\n",
       "      <th>nt_gev10</th>\n",
       "      <th>count</th>\n",
       "    </tr>\n",
       "    <tr>\n",
       "      <th>id</th>\n",
       "      <th></th>\n",
       "      <th></th>\n",
       "      <th></th>\n",
       "    </tr>\n",
       "  </thead>\n",
       "  <tbody>\n",
       "    <tr>\n",
       "      <th>ds8l0_noscaling_hls4ml_qkeras_foldbatchnorm_d58w4a8</th>\n",
       "      <td>0.7357</td>\n",
       "      <td>0.0000</td>\n",
       "      <td>1</td>\n",
       "    </tr>\n",
       "    <tr>\n",
       "      <th>ds8l0_noscaling_keras_d58</th>\n",
       "      <td>0.7450</td>\n",
       "      <td>0.0000</td>\n",
       "      <td>3</td>\n",
       "    </tr>\n",
       "    <tr>\n",
       "      <th>ds8l0_noscaling_qkeras_foldbatchnorm_d58w4a8</th>\n",
       "      <td>0.7312</td>\n",
       "      <td>0.0000</td>\n",
       "      <td>3</td>\n",
       "    </tr>\n",
       "  </tbody>\n",
       "</table>\n",
       "</div>"
      ],
      "text/plain": [
       "                                                    accuracy  nt_gev10  count\n",
       "id                                                                           \n",
       "ds8l0_noscaling_hls4ml_qkeras_foldbatchnorm_d58...    0.7357    0.0000      1\n",
       "ds8l0_noscaling_keras_d58                             0.7450    0.0000      3\n",
       "ds8l0_noscaling_qkeras_foldbatchnorm_d58w4a8          0.7312    0.0000      3"
      ]
     },
     "metadata": {},
     "output_type": "display_data"
    }
   ],
   "source": [
    "print_avg_results(results_filename)"
   ]
  },
  {
   "cell_type": "code",
   "execution_count": 87,
   "id": "e872afbf",
   "metadata": {},
   "outputs": [],
   "source": [
    "id_ordering = get_model_ids(lrange=[0],\n",
    "                            srange=['noscaling'],\n",
    "                            mrange=[#'keras_d128',\n",
    "                                    #'qkeras_foldbatchnorm_d128w5a10',\n",
    "                                    #'hls4ml_qkeras_foldbatchnorm_d128w5a10',\n",
    "                                    #\n",
    "                                    #'keras_d64',\n",
    "                                    #'qkeras_foldbatchnorm_d64w5a10',\n",
    "                                    #'hls4ml_qkeras_foldbatchnorm_d64w5a10',\n",
    "                                    #'qkeras_foldbatchnorm_d64w4a8',\n",
    "                                    #'hls4ml_qkeras_foldbatchnorm_d64w4a8',\n",
    "                                    #\n",
    "                                    #'keras_d60',\n",
    "                                    #'qkeras_foldbatchnorm_d60w5a10',\n",
    "                                    #'hls4ml_qkeras_foldbatchnorm_d60w5a10',\n",
    "                                    #'qkeras_foldbatchnorm_d60w4a8',\n",
    "                                    #'hls4ml_qkeras_foldbatchnorm_d60w4a8',\n",
    "                                    #\n",
    "                                    'keras_d58',\n",
    "                                    #'qkeras_foldbatchnorm_d58w5a10',\n",
    "                                    #'hls4ml_qkeras_foldbatchnorm_d58w5a10',\n",
    "                                    'qkeras_foldbatchnorm_d58w4a8',\n",
    "                                    'hls4ml_qkeras_foldbatchnorm_d58w4a8',\n",
    "                                   ],\n",
    "                            reverse=True\n",
    "                           )"
   ]
  },
  {
   "cell_type": "code",
   "execution_count": 88,
   "id": "4c52633a",
   "metadata": {},
   "outputs": [
    {
     "data": {
      "image/png": "[encoded data removed]",
      "text/plain": [
       "<Figure size 1000x1000 with 1 Axes>"
      ]
     },
     "metadata": {},
     "output_type": "display_data"
    }
   ],
   "source": [
    "plot_avg_results(results_filename, accuracy_th=0.76, tracks_th=0.9, id_ordering=id_ordering)"
   ]
  },
  {
   "cell_type": "raw",
   "id": "0a79835b",
   "metadata": {},
   "source": [
    "- Dataset:\n",
    "  - `ds7` is the `dataset 7`\n",
    "  - `ds7q` is `dataset 7` where we also quantized 14th column on 12 bins\n",
    "  - `ds8` is `dataset 8`\n",
    "  - `ds8q` is `dataset 8` where we also quantized 14th column on 12 bins\n",
    "  - `ds678q` is `dataset 6-7-8` where we also quantized 14th column on 12 bins\n",
    "- All of the dataset are non scaled (`noscaling`)\n",
    "- Model:\n",
    "  - `keras` use Keras\n",
    "  - `qkeras` use QKeras (quantized model)\n",
    "- If it says `foldbatchnorm` then we folded the Batch Normalization layer in the previous Dense layer"
   ]
  },
  {
   "cell_type": "markdown",
   "id": "d4dec2f6",
   "metadata": {},
   "source": [
    "## Hardware translation"
   ]
  },
  {
   "cell_type": "raw",
   "id": "426f59e4-06c3-49f6-9347-3a4edc848088",
   "metadata": {
    "tags": []
   },
   "source": [
    "np.savetxt('tb_input_features.dat', np.array(X_test, dtype='int32'), fmt='%d')\n",
    "np.savetxt('tb_output_predictions.dat', np.array(y_test, dtype='int32'), fmt='%d')"
   ]
  },
  {
   "cell_type": "markdown",
   "id": "c480711c",
   "metadata": {
    "tags": [],
    "toc-hr-collapsed": true
   },
   "source": [
    "### hls4ml configuration"
   ]
  },
  {
   "cell_type": "markdown",
   "id": "f8f53536",
   "metadata": {},
   "source": [
    "#### Setup"
   ]
  },
  {
   "cell_type": "code",
   "execution_count": 89,
   "id": "fe95fdbb",
   "metadata": {},
   "outputs": [
    {
     "name": "stderr",
     "output_type": "stream",
     "text": [
      "/home/giuseppe/research/projects/fnal/CMS_PIX_28/hls4ml/hls4ml_catapult/hls4ml/converters/__init__.py:24: UserWarning: WARNING: Pytorch converter is not enabled!\n",
      "  warnings.warn(\"WARNING: Pytorch converter is not enabled!\")\n"
     ]
    }
   ],
   "source": [
    "import hls4ml\n",
    "import plotting\n",
    "\n",
    "hmodel_prefix = dataset + padding + scaling + 'hls4ml_' + qmodel_type + '_' + chosen_qmodel"
   ]
  },
  {
   "cell_type": "code",
   "execution_count": 90,
   "id": "5bd934a0",
   "metadata": {},
   "outputs": [
    {
     "name": "stdout",
     "output_type": "stream",
     "text": [
      "------------------------------------\n",
      "ds8l0_noscaling_hls4ml_qkeras_foldbatchnorm_d58w4a8\n",
      "------------------------------------\n"
     ]
    }
   ],
   "source": [
    "print('------------------------------------')\n",
    "print(hmodel_prefix)\n",
    "print('------------------------------------')"
   ]
  },
  {
   "cell_type": "code",
   "execution_count": 91,
   "id": "a85c18fb",
   "metadata": {},
   "outputs": [
    {
     "name": "stdout",
     "output_type": "stream",
     "text": [
      "hls4ml ver. 0.1.0.dev1479+gaef46bd.d20230217\n"
     ]
    }
   ],
   "source": [
    "print('hls4ml ver.', hls4ml.__version__)"
   ]
  },
  {
   "cell_type": "code",
   "execution_count": 92,
   "id": "b45fffa5",
   "metadata": {},
   "outputs": [
    {
     "name": "stdout",
     "output_type": "stream",
     "text": [
      "-----------------------------------\n",
      "Xilinx Vivado HLS is in the PATH\n",
      "-----------------------------------\n"
     ]
    }
   ],
   "source": [
    "import os\n",
    "os.environ['PATH'] = '/opt/xilinx/Vivado/2019.1/bin:' + os.environ['PATH']\n",
    "def is_tool(name):\n",
    "    from distutils.spawn import find_executable\n",
    "    return find_executable(name) is not None\n",
    "\n",
    "print('-----------------------------------')\n",
    "if not is_tool('vivado_hls'):\n",
    "    print('Xilinx Vivado HLS is NOT in the PATH')\n",
    "else:\n",
    "    print('Xilinx Vivado HLS is in the PATH')\n",
    "print('-----------------------------------')"
   ]
  },
  {
   "cell_type": "code",
   "execution_count": 93,
   "id": "35b63263",
   "metadata": {},
   "outputs": [],
   "source": [
    "input_size = 6"
   ]
  },
  {
   "cell_type": "markdown",
   "id": "e1e3219e",
   "metadata": {},
   "source": [
    "#### d**w5a10"
   ]
  },
  {
   "cell_type": "raw",
   "id": "53721736",
   "metadata": {},
   "source": [
    "hls4ml.model.optimizer.OutputRoundingSaturationMode.layers = ['Activation']\n",
    "hls4ml.model.optimizer.OutputRoundingSaturationMode.rounding_mode = 'AP_RND'\n",
    "hls4ml.model.optimizer.OutputRoundingSaturationMode.saturation_mode = 'AP_SAT'\n",
    "\n",
    "# hls4ml.model.optimizer.get_optimizer('output_rounding_saturation_mode').configure(\n",
    "#     layers=['Activation'],\n",
    "#     rounding_mode='AP_RND_CONV',\n",
    "#     saturation_mode='AP_SAT')\n",
    "\n",
    "hconfig = hls4ml.utils.config_from_keras_model(model, granularity='name')\n",
    "\n",
    "hconfig['Model']['Precision'] = 'ap_fixed<16,8>'\n",
    "\n",
    "# Input\n",
    "hconfig['LayerName']['input1']['Precision']['result'] = 'ap_ufixed<' + str(input_size) + ',' + str(input_size) + '>'\n",
    "\n",
    "# Dense\n",
    "hconfig['LayerName']['dense1']['accum_t'] = 'ap_fixed<10,5>'\n",
    "hconfig['LayerName']['dense1']['Precision']['result'] = 'ap_fixed<10,5>'\n",
    "\n",
    "# ReLU\n",
    "hconfig['LayerName']['relu1']['Precision']['result'] = 'ap_ufixed<10,0>'\n",
    "\n",
    "# Dense\n",
    "hconfig['LayerName']['dense2']['accum_t'] = 'ap_fixed<13,5>'\n",
    "hconfig['LayerName']['dense2']['Precision']['result'] = 'ap_fixed<10,5>'\n",
    "\n",
    "# SoftMax\n",
    "#hconfig['LayerName']['softmax']['Precision'] = 'ap_fixed<128,64>'\n",
    "\n",
    "hconfig['LayerName']['softmax']['exp_table_t'] = 'ap_fixed<18,8>'\n",
    "hconfig['LayerName']['softmax']['inv_table_t'] = 'ap_fixed<18,4>'\n",
    "hconfig['LayerName']['softmax']['Precision'] = 'ap_fixed<16,6>'\n",
    "\n",
    "# Required for the folding of BatchNormalization\n",
    "#hconfig['SkipOptimizers'] = ['relu_merge']\n",
    "\n",
    "for layer in hconfig['LayerName'].keys():\n",
    "    hconfig['LayerName'][layer]['Trace'] = True"
   ]
  },
  {
   "cell_type": "markdown",
   "id": "65ea8398",
   "metadata": {},
   "source": [
    "#### d**w4a8"
   ]
  },
  {
   "cell_type": "raw",
   "id": "160519c3-d58d-43aa-b587-be278dd52c84",
   "metadata": {
    "tags": []
   },
   "source": [
    "print(model.layers)"
   ]
  },
  {
   "cell_type": "raw",
   "id": "7ae8bbe0-f6d8-4d50-883d-d222aec1cefb",
   "metadata": {
    "tags": []
   },
   "source": [
    "model = new_model = Model(model.input, model.layers[-5].output)"
   ]
  },
  {
   "cell_type": "code",
   "execution_count": 131,
   "id": "4e0ff7bb",
   "metadata": {},
   "outputs": [
    {
     "name": "stdout",
     "output_type": "stream",
     "text": [
      "Interpreting Model\n",
      "Topology:\n",
      "Layer name: input1, layer type: InputLayer, input shapes: [[None, 13]], output shape: [None, 13]\n",
      "Layer name: dense1, layer type: QDenseBatchnorm, input shapes: [[None, 13]], output shape: [None, 58]\n",
      "Layer name: relu1, layer type: Activation, input shapes: [[None, 58]], output shape: [None, 58]\n",
      "Layer name: dense2, layer type: QDense, input shapes: [[None, 58]], output shape: [None, 3]\n",
      "Layer name: linear, layer type: Activation, input shapes: [[None, 3]], output shape: [None, 3]\n"
     ]
    }
   ],
   "source": [
    "# hls4ml.model.optimizer.OutputRoundingSaturationMode.layers = ['Activation']\n",
    "# hls4ml.model.optimizer.OutputRoundingSaturationMode.rounding_mode = 'AP_RND'\n",
    "# hls4ml.model.optimizer.OutputRoundingSaturationMode.saturation_mode = 'AP_SAT'\n",
    "\n",
    "hls4ml.model.optimizer.get_optimizer('output_rounding_saturation_mode').configure(\n",
    "    layers=['Activation'],\n",
    "    rounding_mode='AP_RND_CONV',\n",
    "    saturation_mode='AP_SAT')\n",
    "\n",
    "\n",
    "\n",
    "hconfig = hls4ml.utils.config_from_keras_model(model, granularity='name')\n",
    "\n",
    "#hconfig['Model']['Precision'] = 'ap_fixed<16,8>'\n",
    "\n",
    "# Input\n",
    "hconfig['LayerName']['input1']['Precision']['result'] = 'ap_ufixed<' + str(input_size) + ',' + str(input_size) + '>'\n",
    "\n",
    "# Dense\n",
    "#hconfig['LayerName']['dense1']['accum_t'] = 'ap_fixed<8,5>'\n",
    "#hconfig['LayerName']['dense1']['Precision']['result'] = 'ap_fixed<8,5>'\n",
    "#hconfig['LayerName']['dense1']['Precision']['default'] = 'ap_fixed<8,5>'\n",
    "\n",
    "# ReLU\n",
    "#hconfig['LayerName']['relu1']['Precision']['result'] = 'ap_fixed<8,0>'\n",
    "\n",
    "# Dense\n",
    "#hconfig['LayerName']['dense2']['accum_t'] = 'ap_fixed<10,6>'\n",
    "#hconfig['LayerName']['dense2']['Precision']['result'] = 'ap_fixed<10,6>'\n",
    "\n",
    "# SoftMax\n",
    "#hconfig['LayerName']['softmax']['Precision'] = 'ap_fixed<128,64>'\n",
    "\n",
    "#hconfig['LayerName']['softmax']['exp_table_t'] = 'ap_fixed<18,8>'\n",
    "#hconfig['LayerName']['softmax']['inv_table_t'] = 'ap_fixed<18,4>'\n",
    "#hconfig['LayerName']['softmax']['Precision'] = 'ap_fixed<16,6>'\n",
    "\n",
    "# Required for the folding of BatchNormalization\n",
    "hconfig['SkipOptimizers'] = ['propagate_dense_precision']\n",
    "\n",
    "for layer in hconfig['LayerName'].keys():\n",
    "    hconfig['LayerName'][layer]['Trace'] = True\n",
    "    \n",
    "hconfig['LayerName']['dense1_linear']['Trace'] = True\n",
    "hconfig['LayerName']['dense2_linear']['Trace'] = True"
   ]
  },
  {
   "cell_type": "markdown",
   "id": "d7705fd5",
   "metadata": {},
   "source": [
    "#### Convert"
   ]
  },
  {
   "cell_type": "code",
   "execution_count": 132,
   "id": "01abd0ad",
   "metadata": {},
   "outputs": [
    {
     "name": "stdout",
     "output_type": "stream",
     "text": [
      "Model\n",
      "  Precision:         fixed<16,6>\n",
      "  ReuseFactor:       1\n",
      "  Strategy:          Latency\n",
      "  BramFactor:        1000000000\n",
      "  TraceOutput:       False\n",
      "LayerName\n",
      "  input1\n",
      "    Trace:           True\n",
      "    Precision\n",
      "      result:        ap_ufixed<6,6>\n",
      "  dense1\n",
      "    Trace:           True\n",
      "    Precision\n",
      "      result:        fixed<16,6>\n",
      "      weight:        fixed<4,1>\n",
      "      bias:          fixed<4,1>\n",
      "  dense1_linear\n",
      "    Trace:           True\n",
      "    Precision\n",
      "      result:        fixed<16,6>\n",
      "  relu1\n",
      "    Trace:           True\n",
      "    Precision\n",
      "      result:        ufixed<8,0>\n",
      "  dense2\n",
      "    Trace:           True\n",
      "    Precision\n",
      "      result:        fixed<16,6>\n",
      "      weight:        fixed<4,1>\n",
      "      bias:          fixed<4,1>\n",
      "  dense2_linear\n",
      "    Trace:           True\n",
      "    Precision\n",
      "      result:        fixed<16,6>\n",
      "  linear\n",
      "    Trace:           True\n",
      "    Precision\n",
      "      result:        fixed<16,6>\n",
      "SkipOptimizers:      ['propagate_dense_precision']\n"
     ]
    }
   ],
   "source": [
    "plotting.print_dict(hconfig)"
   ]
  },
  {
   "cell_type": "code",
   "execution_count": 135,
   "id": "21b99051",
   "metadata": {},
   "outputs": [
    {
     "ename": "Exception",
     "evalue": "Unknown backend: Catapult",
     "output_type": "error",
     "traceback": [
      "\u001b[0;31m---------------------------------------------------------------------------\u001b[0m",
      "\u001b[0;31mException\u001b[0m                                 Traceback (most recent call last)",
      "Cell \u001b[0;32mIn[135], line 1\u001b[0m\n\u001b[0;32m----> 1\u001b[0m hmodel \u001b[38;5;241m=\u001b[39m \u001b[43mhls4ml\u001b[49m\u001b[38;5;241;43m.\u001b[39;49m\u001b[43mconverters\u001b[49m\u001b[38;5;241;43m.\u001b[39;49m\u001b[43mconvert_from_keras_model\u001b[49m\u001b[43m(\u001b[49m\u001b[43mmodel\u001b[49m\u001b[43m,\u001b[49m\n\u001b[1;32m      2\u001b[0m \u001b[43m                                                    \u001b[49m\u001b[43mclock_period\u001b[49m\u001b[38;5;241;43m=\u001b[39;49m\u001b[38;5;241;43m10.0\u001b[39;49m\u001b[43m,\u001b[49m\n\u001b[1;32m      3\u001b[0m \u001b[43m                                                    \u001b[49m\u001b[43mhls_config\u001b[49m\u001b[38;5;241;43m=\u001b[39;49m\u001b[43mhconfig\u001b[49m\u001b[43m,\u001b[49m\n\u001b[1;32m      4\u001b[0m \u001b[43m                                                    \u001b[49m\u001b[43moutput_dir\u001b[49m\u001b[38;5;241;43m=\u001b[39;49m\u001b[43mhmodel_prefix\u001b[49m\u001b[43m \u001b[49m\u001b[38;5;241;43m+\u001b[39;49m\u001b[43m \u001b[49m\u001b[38;5;124;43m'\u001b[39;49m\u001b[38;5;124;43m_\u001b[39;49m\u001b[38;5;124;43m'\u001b[39;49m\u001b[43m \u001b[49m\u001b[38;5;241;43m+\u001b[39;49m\u001b[43m \u001b[49m\u001b[38;5;28;43mstr\u001b[39;49m\u001b[43m(\u001b[49m\u001b[43mrun_id\u001b[49m\u001b[43m)\u001b[49m\u001b[43m \u001b[49m\u001b[38;5;241;43m+\u001b[39;49m\u001b[43m \u001b[49m\u001b[38;5;124;43m'\u001b[39;49m\u001b[38;5;124;43m_catapult_prj\u001b[39;49m\u001b[38;5;124;43m'\u001b[39;49m\u001b[43m,\u001b[49m\n\u001b[1;32m      5\u001b[0m \u001b[43m                                                    \u001b[49m\u001b[43mbackend\u001b[49m\u001b[38;5;241;43m=\u001b[39;49m\u001b[38;5;124;43m'\u001b[39;49m\u001b[38;5;124;43mCatapult\u001b[39;49m\u001b[38;5;124;43m'\u001b[39;49m\u001b[43m,\u001b[49m\n\u001b[1;32m      6\u001b[0m \u001b[43m                                                    \u001b[49m\u001b[43mpart\u001b[49m\u001b[38;5;241;43m=\u001b[39;49m\u001b[38;5;124;43m'\u001b[39;49m\u001b[38;5;124;43mXC7A100T\u001b[39;49m\u001b[38;5;124;43m'\u001b[39;49m\u001b[43m)\u001b[49m\n",
      "File \u001b[0;32m~/research/projects/fnal/CMS_PIX_28/hls4ml/hls4ml_catapult/hls4ml/converters/__init__.py:226\u001b[0m, in \u001b[0;36mconvert_from_keras_model\u001b[0;34m(model, output_dir, project_name, input_data_tb, output_data_tb, backend, hls_config, **kwargs)\u001b[0m\n\u001b[1;32m    186\u001b[0m \u001b[38;5;28;01mdef\u001b[39;00m \u001b[38;5;21mconvert_from_keras_model\u001b[39m(\n\u001b[1;32m    187\u001b[0m     model,\n\u001b[1;32m    188\u001b[0m     output_dir\u001b[38;5;241m=\u001b[39m\u001b[38;5;124m'\u001b[39m\u001b[38;5;124mmy-hls-test\u001b[39m\u001b[38;5;124m'\u001b[39m,\n\u001b[0;32m   (...)\u001b[0m\n\u001b[1;32m    194\u001b[0m     \u001b[38;5;241m*\u001b[39m\u001b[38;5;241m*\u001b[39mkwargs,\n\u001b[1;32m    195\u001b[0m ):\n\u001b[1;32m    196\u001b[0m \u001b[38;5;250m    \u001b[39m\u001b[38;5;124;03m\"\"\"Convert to hls4ml model based on the provided configuration.\u001b[39;00m\n\u001b[1;32m    197\u001b[0m \u001b[38;5;124;03m    Args:\u001b[39;00m\n\u001b[1;32m    198\u001b[0m \u001b[38;5;124;03m        model: Keras model to convert\u001b[39;00m\n\u001b[0;32m   (...)\u001b[0m\n\u001b[1;32m    223\u001b[0m \u001b[38;5;124;03m        ModelGraph: hls4ml model.\u001b[39;00m\n\u001b[1;32m    224\u001b[0m \u001b[38;5;124;03m    \"\"\"\u001b[39;00m\n\u001b[0;32m--> 226\u001b[0m     config \u001b[38;5;241m=\u001b[39m \u001b[43mcreate_config\u001b[49m\u001b[43m(\u001b[49m\u001b[43moutput_dir\u001b[49m\u001b[38;5;241;43m=\u001b[39;49m\u001b[43moutput_dir\u001b[49m\u001b[43m,\u001b[49m\u001b[43m \u001b[49m\u001b[43mproject_name\u001b[49m\u001b[38;5;241;43m=\u001b[39;49m\u001b[43mproject_name\u001b[49m\u001b[43m,\u001b[49m\u001b[43m \u001b[49m\u001b[43mbackend\u001b[49m\u001b[38;5;241;43m=\u001b[39;49m\u001b[43mbackend\u001b[49m\u001b[43m,\u001b[49m\u001b[43m \u001b[49m\u001b[38;5;241;43m*\u001b[39;49m\u001b[38;5;241;43m*\u001b[39;49m\u001b[43mkwargs\u001b[49m\u001b[43m)\u001b[49m\n\u001b[1;32m    228\u001b[0m     config[\u001b[38;5;124m'\u001b[39m\u001b[38;5;124mKerasModel\u001b[39m\u001b[38;5;124m'\u001b[39m] \u001b[38;5;241m=\u001b[39m model\n\u001b[1;32m    229\u001b[0m     config[\u001b[38;5;124m'\u001b[39m\u001b[38;5;124mInputData\u001b[39m\u001b[38;5;124m'\u001b[39m] \u001b[38;5;241m=\u001b[39m input_data_tb\n",
      "File \u001b[0;32m~/research/projects/fnal/CMS_PIX_28/hls4ml/hls4ml_catapult/hls4ml/utils/config.py:10\u001b[0m, in \u001b[0;36mcreate_config\u001b[0;34m(output_dir, project_name, backend, **kwargs)\u001b[0m\n\u001b[1;32m      8\u001b[0m backend_list \u001b[38;5;241m=\u001b[39m hls4ml\u001b[38;5;241m.\u001b[39mbackends\u001b[38;5;241m.\u001b[39mget_available_backends()\n\u001b[1;32m      9\u001b[0m \u001b[38;5;28;01mif\u001b[39;00m backend\u001b[38;5;241m.\u001b[39mlower() \u001b[38;5;129;01mnot\u001b[39;00m \u001b[38;5;129;01min\u001b[39;00m backend_list:\n\u001b[0;32m---> 10\u001b[0m     \u001b[38;5;28;01mraise\u001b[39;00m \u001b[38;5;167;01mException\u001b[39;00m(\u001b[38;5;124mf\u001b[39m\u001b[38;5;124m'\u001b[39m\u001b[38;5;124mUnknown backend: \u001b[39m\u001b[38;5;132;01m{\u001b[39;00mbackend\u001b[38;5;132;01m}\u001b[39;00m\u001b[38;5;124m'\u001b[39m)\n\u001b[1;32m     12\u001b[0m backend \u001b[38;5;241m=\u001b[39m hls4ml\u001b[38;5;241m.\u001b[39mbackends\u001b[38;5;241m.\u001b[39mget_backend(backend)\n\u001b[1;32m     14\u001b[0m backend_config \u001b[38;5;241m=\u001b[39m backend\u001b[38;5;241m.\u001b[39mcreate_initial_config(\u001b[38;5;241m*\u001b[39m\u001b[38;5;241m*\u001b[39mkwargs)\n",
      "\u001b[0;31mException\u001b[0m: Unknown backend: Catapult"
     ]
    }
   ],
   "source": [
    "hmodel = hls4ml.converters.convert_from_keras_model(model,\n",
    "                                                    clock_period=10.0,\n",
    "                                                    hls_config=hconfig,\n",
    "                                                    output_dir=hmodel_prefix + '_' + str(run_id) + '_catapult_prj',\n",
    "                                                    backend='Catapult',\n",
    "                                                    part='XC7A100T')"
   ]
  },
  {
   "cell_type": "code",
   "execution_count": 118,
   "id": "5570d6dd",
   "metadata": {},
   "outputs": [
    {
     "data": {
      "image/png": "[encoded data removed]",
      "text/plain": [
       "<IPython.core.display.Image object>"
      ]
     },
     "execution_count": 118,
     "metadata": {},
     "output_type": "execute_result"
    }
   ],
   "source": [
    "hls4ml.utils.plot_model(hmodel, show_shapes=True, show_precision=True, to_file=None)"
   ]
  },
  {
   "cell_type": "markdown",
   "id": "01e86dd8",
   "metadata": {},
   "source": [
    "### Bit-accurate simulation"
   ]
  },
  {
   "cell_type": "code",
   "execution_count": 119,
   "id": "7fec9677",
   "metadata": {},
   "outputs": [
    {
     "name": "stdout",
     "output_type": "stream",
     "text": [
      "Recompiling myproject with tracing\n",
      "Writing HLS project\n",
      "Done\n"
     ]
    }
   ],
   "source": [
    "hpreds, htrace = hmodel.trace(np.ascontiguousarray(X_test.astype(float)))"
   ]
  },
  {
   "cell_type": "code",
   "execution_count": 120,
   "id": "6f6faef5",
   "metadata": {},
   "outputs": [
    {
     "name": "stdout",
     "output_type": "stream",
     "text": [
      "Processing input1 in Keras model...\n",
      "Processing dense1 in Keras model...\n",
      "Processing relu1 in Keras model...\n",
      "Processing dense2 in Keras model...\n",
      "Processing linear in Keras model...\n",
      "Done taking outputs for Keras model.\n"
     ]
    }
   ],
   "source": [
    "trace = hls4ml.model.profiling.get_ymodel_keras(model, X_test)"
   ]
  },
  {
   "cell_type": "code",
   "execution_count": 121,
   "id": "467c2902",
   "metadata": {},
   "outputs": [
    {
     "data": {
      "image/png": "[encoded data removed]",
      "text/plain": [
       "<Figure size 640x480 with 1 Axes>"
      ]
     },
     "metadata": {},
     "output_type": "display_data"
    },
    {
     "data": {
      "text/plain": [
       "<Figure size 640x480 with 0 Axes>"
      ]
     },
     "metadata": {},
     "output_type": "display_data"
    },
    {
     "data": {
      "image/png": "[encoded data removed]",
      "text/plain": [
       "<Figure size 640x480 with 1 Axes>"
      ]
     },
     "metadata": {},
     "output_type": "display_data"
    },
    {
     "data": {
      "image/png": "[encoded data removed]",
      "text/plain": [
       "<Figure size 640x480 with 1 Axes>"
      ]
     },
     "metadata": {},
     "output_type": "display_data"
    },
    {
     "data": {
      "text/plain": [
       "<Figure size 640x480 with 0 Axes>"
      ]
     },
     "metadata": {},
     "output_type": "display_data"
    }
   ],
   "source": [
    "for layer in htrace.keys():\n",
    "    plt.figure()\n",
    "    klayer = layer\n",
    "    if '_alpha' in layer:\n",
    "        klayer = layer.replace('_alpha', '')\n",
    "    if 'dense1_linear' in layer:\n",
    "        continue\n",
    "    if 'dense2_linear' in layer:\n",
    "        continue\n",
    "    plt.scatter(htrace[layer].flatten(), trace[klayer].flatten(), s=0.2)\n",
    "    min_x = min(np.amin(htrace[layer]), np.amin(trace[klayer]))\n",
    "    max_x = max(np.amax(htrace[layer]), np.amax(trace[klayer]))\n",
    "    plt.plot([min_x, max_x], [min_x, max_x], c='gray')\n",
    "    plt.xlabel('hls4ml {}'.format(layer))\n",
    "    plt.ylabel('QKeras {}'.format(klayer))\n",
    "    plt.savefig(os.path.join(hmodel_prefix + '_' + str(run_id) + '_vivado_prj', 'profiling_{}.png'.format(layer)), dpi=300)"
   ]
  },
  {
   "cell_type": "markdown",
   "id": "be404394",
   "metadata": {},
   "source": [
    "### Model evaluation"
   ]
  },
  {
   "cell_type": "code",
   "execution_count": 122,
   "id": "f6c3675a",
   "metadata": {},
   "outputs": [
    {
     "name": "stdout",
     "output_type": "stream",
     "text": [
      "Interpreting Model\n",
      "Topology:\n",
      "Layer name: input1, layer type: InputLayer, input shapes: [[None, 13]], output shape: [None, 13]\n",
      "Layer name: dense1, layer type: QDenseBatchnorm, input shapes: [[None, 13]], output shape: [None, 58]\n",
      "Layer name: relu1, layer type: Activation, input shapes: [[None, 58]], output shape: [None, 58]\n",
      "Layer name: dense2, layer type: QDense, input shapes: [[None, 58]], output shape: [None, 3]\n",
      "Layer name: linear, layer type: Activation, input shapes: [[None, 3]], output shape: [None, 3]\n",
      "Creating HLS model\n",
      "Writing HLS project\n",
      "Done\n"
     ]
    }
   ],
   "source": [
    "for layer in hconfig['LayerName'].keys():\n",
    "    hconfig['LayerName'][layer]['Trace'] = False\n",
    "\n",
    "hmodel = hls4ml.converters.convert_from_keras_model(model,\n",
    "                                                    clock_period=10.0,\n",
    "                                                    hls_config=hconfig,\n",
    "                                                    output_dir=hmodel_prefix + '_' + str(run_id) + '_vivado_prj',\n",
    "                                                    part='XC7A100T')\n",
    "\n",
    "hmodel.compile()"
   ]
  },
  {
   "cell_type": "code",
   "execution_count": 123,
   "id": "40426bc6",
   "metadata": {},
   "outputs": [],
   "source": [
    "hpreds = hmodel.predict(np.ascontiguousarray(X_test.astype(float)))\n",
    "np.savetxt('tb_output_predictions_hw.dat', hpreds, fmt='%f')"
   ]
  },
  {
   "cell_type": "code",
   "execution_count": 124,
   "id": "e845ffe6",
   "metadata": {},
   "outputs": [
    {
     "name": "stdout",
     "output_type": "stream",
     "text": [
      "-----------------------------------\n",
      "QKeras accuracy: 72.8336%\n",
      "hls4ml accuracy: 72.8156%\n",
      "-----------------------------------\n"
     ]
    }
   ],
   "source": [
    "from sklearn.metrics import accuracy_score\n",
    "print('-----------------------------------')\n",
    "print(\"QKeras accuracy: {:.4f}%\".format(100*accuracy_score(np.argmax(y_test_oh.values, axis=1), np.argmax(preds, axis=1))))\n",
    "print(\"hls4ml accuracy: {:.4f}%\".format(100*accuracy_score(np.argmax(y_test_oh.values, axis=1), np.argmax(hpreds, axis=1))))\n",
    "print('-----------------------------------')"
   ]
  },
  {
   "cell_type": "code",
   "execution_count": 104,
   "id": "2e779a35",
   "metadata": {},
   "outputs": [],
   "source": [
    "hls4ml_accuracy = accuracy_score(np.argmax(y_test_oh.values, axis=1), np.argmax(hpreds, axis=1))"
   ]
  },
  {
   "cell_type": "code",
   "execution_count": 105,
   "id": "3f890780",
   "metadata": {},
   "outputs": [
    {
     "name": "stdout",
     "output_type": "stream",
     "text": [
      "X[0], [0 0 1 3 3 5 3 3 0 0 0 0 0]\n",
      "golden y[0] [2]\n",
      "onehot y[0] [0 0 1]\n",
      "QKeras y[0] [ 2.0112305 -1.9179688  1.1396484]\n",
      "hls4ml y[0] [ 2.00976562 -1.91992188  1.13867188]\n",
      "\n",
      "X[1], [0 0 0 4 9 6 7 3 0 0 0 0 0]\n",
      "golden y[1] [0]\n",
      "onehot y[1] [1 0 0]\n",
      "QKeras y[1] [ 1.2163086   0.12060547 -1.5883789 ]\n",
      "hls4ml y[1] [ 1.21191406  0.11523438 -1.59277344]\n",
      "\n",
      "X[2], [0 0 2 3 4 3 1 0 0 0 0 0 0]\n",
      "golden y[2] [1]\n",
      "onehot y[2] [0 1 0]\n",
      "QKeras y[2] [ 1.5878906  -0.46240234 -2.3432617 ]\n",
      "hls4ml y[2] [ 1.58691406 -0.46386719 -2.34472656]\n",
      "\n",
      "X[3], [0 0 1 1 2 2 0 0 0 0 0 0 0]\n",
      "golden y[3] [0]\n",
      "onehot y[3] [1 0 0]\n",
      "QKeras y[3] [ 0.85595703  0.30419922 -1.8608398 ]\n",
      "hls4ml y[3] [ 0.85546875  0.30371094 -1.86230469]\n",
      "\n",
      "X[4], [0 0 5 6 5 5 2 0 0 0 0 0 0]\n",
      "golden y[4] [1]\n",
      "onehot y[4] [0 1 0]\n",
      "QKeras y[4] [ 1.3208008  -0.11962891 -1.7636719 ]\n",
      "hls4ml y[4] [ 1.31835938 -0.12304688 -1.76855469]\n",
      "\n"
     ]
    }
   ],
   "source": [
    "for i in range(5):\n",
    "    print('X[{}], {}'.format(i, X_test[i]))\n",
    "    print('golden y[{}]'.format(i), y_test[i])\n",
    "    print('onehot y[{}]'.format(i), y_test_oh.values[i])\n",
    "    print('QKeras y[{}]'.format(i), preds[i])\n",
    "    print('hls4ml y[{}]'.format(i), hpreds[i])\n",
    "    print()"
   ]
  },
  {
   "cell_type": "code",
   "execution_count": 106,
   "id": "bc5f6825",
   "metadata": {},
   "outputs": [
    {
     "data": {
      "text/html": [
       "<th style=\"text-align:center\"><td style=\"vertical-align:top\"><h5 style=\"text-align: center;\">Scaled input</h5><table style=\"display:inline\" border=\"1\" class=\"dataframe\">\n",
       "  <thead>\n",
       "    <tr style=\"text-align: right;\">\n",
       "      <th></th>\n",
       "      <th>0</th>\n",
       "      <th>1</th>\n",
       "      <th>2</th>\n",
       "      <th>3</th>\n",
       "      <th>4</th>\n",
       "      <th>5</th>\n",
       "      <th>6</th>\n",
       "      <th>7</th>\n",
       "      <th>8</th>\n",
       "      <th>9</th>\n",
       "      <th>10</th>\n",
       "      <th>11</th>\n",
       "      <th>12</th>\n",
       "    </tr>\n",
       "  </thead>\n",
       "  <tbody>\n",
       "    <tr>\n",
       "      <th>0</th>\n",
       "      <td>0</td>\n",
       "      <td>0</td>\n",
       "      <td>1</td>\n",
       "      <td>3</td>\n",
       "      <td>3</td>\n",
       "      <td>5</td>\n",
       "      <td>3</td>\n",
       "      <td>3</td>\n",
       "      <td>0</td>\n",
       "      <td>0</td>\n",
       "      <td>0</td>\n",
       "      <td>0</td>\n",
       "      <td>0</td>\n",
       "    </tr>\n",
       "    <tr>\n",
       "      <th>1</th>\n",
       "      <td>0</td>\n",
       "      <td>0</td>\n",
       "      <td>0</td>\n",
       "      <td>4</td>\n",
       "      <td>9</td>\n",
       "      <td>6</td>\n",
       "      <td>7</td>\n",
       "      <td>3</td>\n",
       "      <td>0</td>\n",
       "      <td>0</td>\n",
       "      <td>0</td>\n",
       "      <td>0</td>\n",
       "      <td>0</td>\n",
       "    </tr>\n",
       "    <tr>\n",
       "      <th>2</th>\n",
       "      <td>0</td>\n",
       "      <td>0</td>\n",
       "      <td>2</td>\n",
       "      <td>3</td>\n",
       "      <td>4</td>\n",
       "      <td>3</td>\n",
       "      <td>1</td>\n",
       "      <td>0</td>\n",
       "      <td>0</td>\n",
       "      <td>0</td>\n",
       "      <td>0</td>\n",
       "      <td>0</td>\n",
       "      <td>0</td>\n",
       "    </tr>\n",
       "    <tr>\n",
       "      <th>3</th>\n",
       "      <td>0</td>\n",
       "      <td>0</td>\n",
       "      <td>1</td>\n",
       "      <td>1</td>\n",
       "      <td>2</td>\n",
       "      <td>2</td>\n",
       "      <td>0</td>\n",
       "      <td>0</td>\n",
       "      <td>0</td>\n",
       "      <td>0</td>\n",
       "      <td>0</td>\n",
       "      <td>0</td>\n",
       "      <td>0</td>\n",
       "    </tr>\n",
       "    <tr>\n",
       "      <th>4</th>\n",
       "      <td>0</td>\n",
       "      <td>0</td>\n",
       "      <td>5</td>\n",
       "      <td>6</td>\n",
       "      <td>5</td>\n",
       "      <td>5</td>\n",
       "      <td>2</td>\n",
       "      <td>0</td>\n",
       "      <td>0</td>\n",
       "      <td>0</td>\n",
       "      <td>0</td>\n",
       "      <td>0</td>\n",
       "      <td>0</td>\n",
       "    </tr>\n",
       "  </tbody>\n",
       "</table style=\"display:inline\"></td></th>"
      ]
     },
     "metadata": {},
     "output_type": "display_data"
    }
   ],
   "source": [
    "display_side_by_side(pd.DataFrame(X_test[:5]), titles=['Scaled input'])"
   ]
  },
  {
   "cell_type": "code",
   "execution_count": 107,
   "id": "956fa97a",
   "metadata": {},
   "outputs": [
    {
     "data": {
      "text/html": [
       "<th style=\"text-align:center\"><td style=\"vertical-align:top\"><h5 style=\"text-align: center;\">Expected prediction</h5><table style=\"display:inline\" border=\"1\" class=\"dataframe\">\n",
       "  <thead>\n",
       "    <tr style=\"text-align: right;\">\n",
       "      <th></th>\n",
       "      <th>0</th>\n",
       "    </tr>\n",
       "  </thead>\n",
       "  <tbody>\n",
       "    <tr>\n",
       "      <th>0</th>\n",
       "      <td>2</td>\n",
       "    </tr>\n",
       "    <tr>\n",
       "      <th>1</th>\n",
       "      <td>0</td>\n",
       "    </tr>\n",
       "    <tr>\n",
       "      <th>2</th>\n",
       "      <td>1</td>\n",
       "    </tr>\n",
       "    <tr>\n",
       "      <th>3</th>\n",
       "      <td>0</td>\n",
       "    </tr>\n",
       "    <tr>\n",
       "      <th>4</th>\n",
       "      <td>1</td>\n",
       "    </tr>\n",
       "  </tbody>\n",
       "</table style=\"display:inline\"></td></th><th style=\"text-align:center\"><td style=\"vertical-align:top\"><h5 style=\"text-align: center;\">Expected prediction (one-hot enc.)</h5><table style=\"display:inline\" border=\"1\" class=\"dataframe\">\n",
       "  <thead>\n",
       "    <tr style=\"text-align: right;\">\n",
       "      <th></th>\n",
       "      <th>0</th>\n",
       "      <th>1</th>\n",
       "      <th>2</th>\n",
       "    </tr>\n",
       "  </thead>\n",
       "  <tbody>\n",
       "    <tr>\n",
       "      <th>0</th>\n",
       "      <td>0</td>\n",
       "      <td>0</td>\n",
       "      <td>1</td>\n",
       "    </tr>\n",
       "    <tr>\n",
       "      <th>1</th>\n",
       "      <td>1</td>\n",
       "      <td>0</td>\n",
       "      <td>0</td>\n",
       "    </tr>\n",
       "    <tr>\n",
       "      <th>2</th>\n",
       "      <td>0</td>\n",
       "      <td>1</td>\n",
       "      <td>0</td>\n",
       "    </tr>\n",
       "    <tr>\n",
       "      <th>3</th>\n",
       "      <td>1</td>\n",
       "      <td>0</td>\n",
       "      <td>0</td>\n",
       "    </tr>\n",
       "    <tr>\n",
       "      <th>4</th>\n",
       "      <td>0</td>\n",
       "      <td>1</td>\n",
       "      <td>0</td>\n",
       "    </tr>\n",
       "  </tbody>\n",
       "</table style=\"display:inline\"></td></th><th style=\"text-align:center\"><td style=\"vertical-align:top\"><h5 style=\"text-align: center;\">QKeras prediction</h5><table style=\"display:inline\" border=\"1\" class=\"dataframe\">\n",
       "  <thead>\n",
       "    <tr style=\"text-align: right;\">\n",
       "      <th></th>\n",
       "      <th>0</th>\n",
       "      <th>1</th>\n",
       "      <th>2</th>\n",
       "    </tr>\n",
       "  </thead>\n",
       "  <tbody>\n",
       "    <tr>\n",
       "      <th>0</th>\n",
       "      <td>2.011230</td>\n",
       "      <td>-1.917969</td>\n",
       "      <td>1.139648</td>\n",
       "    </tr>\n",
       "    <tr>\n",
       "      <th>1</th>\n",
       "      <td>1.216309</td>\n",
       "      <td>0.120605</td>\n",
       "      <td>-1.588379</td>\n",
       "    </tr>\n",
       "    <tr>\n",
       "      <th>2</th>\n",
       "      <td>1.587891</td>\n",
       "      <td>-0.462402</td>\n",
       "      <td>-2.343262</td>\n",
       "    </tr>\n",
       "    <tr>\n",
       "      <th>3</th>\n",
       "      <td>0.855957</td>\n",
       "      <td>0.304199</td>\n",
       "      <td>-1.860840</td>\n",
       "    </tr>\n",
       "    <tr>\n",
       "      <th>4</th>\n",
       "      <td>1.320801</td>\n",
       "      <td>-0.119629</td>\n",
       "      <td>-1.763672</td>\n",
       "    </tr>\n",
       "  </tbody>\n",
       "</table style=\"display:inline\"></td></th><th style=\"text-align:center\"><td style=\"vertical-align:top\"><h5 style=\"text-align: center;\">hls4ml prediction</h5><table style=\"display:inline\" border=\"1\" class=\"dataframe\">\n",
       "  <thead>\n",
       "    <tr style=\"text-align: right;\">\n",
       "      <th></th>\n",
       "      <th>0</th>\n",
       "      <th>1</th>\n",
       "      <th>2</th>\n",
       "    </tr>\n",
       "  </thead>\n",
       "  <tbody>\n",
       "    <tr>\n",
       "      <th>0</th>\n",
       "      <td>2.009766</td>\n",
       "      <td>-1.919922</td>\n",
       "      <td>1.138672</td>\n",
       "    </tr>\n",
       "    <tr>\n",
       "      <th>1</th>\n",
       "      <td>1.211914</td>\n",
       "      <td>0.115234</td>\n",
       "      <td>-1.592773</td>\n",
       "    </tr>\n",
       "    <tr>\n",
       "      <th>2</th>\n",
       "      <td>1.586914</td>\n",
       "      <td>-0.463867</td>\n",
       "      <td>-2.344727</td>\n",
       "    </tr>\n",
       "    <tr>\n",
       "      <th>3</th>\n",
       "      <td>0.855469</td>\n",
       "      <td>0.303711</td>\n",
       "      <td>-1.862305</td>\n",
       "    </tr>\n",
       "    <tr>\n",
       "      <th>4</th>\n",
       "      <td>1.318359</td>\n",
       "      <td>-0.123047</td>\n",
       "      <td>-1.768555</td>\n",
       "    </tr>\n",
       "  </tbody>\n",
       "</table style=\"display:inline\"></td></th>"
      ]
     },
     "metadata": {},
     "output_type": "display_data"
    }
   ],
   "source": [
    "display_side_by_side(pd.DataFrame(y_test[:5]),\n",
    "                     pd.DataFrame(y_test_oh[:5]),\n",
    "                     pd.DataFrame(preds[:5]),\n",
    "                     pd.DataFrame(hpreds[:5]),\n",
    "                     titles=['Expected prediction','Expected prediction (one-hot enc.)', 'QKeras prediction', 'hls4ml prediction'])"
   ]
  },
  {
   "cell_type": "code",
   "execution_count": 108,
   "id": "0e7b4727",
   "metadata": {},
   "outputs": [],
   "source": [
    "GeV_0_2, GeV_0_5, GeV_1_0, GeV_2_0 = [0, 0, 0, 0]"
   ]
  },
  {
   "cell_type": "code",
   "execution_count": 109,
   "id": "7aee62a9",
   "metadata": {},
   "outputs": [
    {
     "name": "stdout",
     "output_type": "stream",
     "text": [
      "ds8l0_noscaling_hls4ml_qkeras_foldbatchnorm_d58w4a8\n"
     ]
    }
   ],
   "source": [
    "print(hmodel_prefix)"
   ]
  },
  {
   "cell_type": "code",
   "execution_count": 110,
   "id": "bc1a4ae4",
   "metadata": {},
   "outputs": [
    {
     "data": {
      "text/html": [
       "<div>\n",
       "<style scoped>\n",
       "    .dataframe tbody tr th:only-of-type {\n",
       "        vertical-align: middle;\n",
       "    }\n",
       "\n",
       "    .dataframe tbody tr th {\n",
       "        vertical-align: top;\n",
       "    }\n",
       "\n",
       "    .dataframe thead th {\n",
       "        text-align: right;\n",
       "    }\n",
       "</style>\n",
       "<table border=\"1\" class=\"dataframe\">\n",
       "  <thead>\n",
       "    <tr style=\"text-align: right;\">\n",
       "      <th></th>\n",
       "      <th>id</th>\n",
       "      <th>loss</th>\n",
       "      <th>accuracy</th>\n",
       "      <th>nt_gev02</th>\n",
       "      <th>nt_gev05</th>\n",
       "      <th>nt_gev10</th>\n",
       "      <th>nt_gev20</th>\n",
       "    </tr>\n",
       "  </thead>\n",
       "  <tbody>\n",
       "    <tr>\n",
       "      <th>0</th>\n",
       "      <td>ds8l0_noscaling_hls4ml_qkeras_foldbatchnorm_d5...</td>\n",
       "      <td>0</td>\n",
       "      <td>0.7282</td>\n",
       "      <td>0</td>\n",
       "      <td>0</td>\n",
       "      <td>0</td>\n",
       "      <td>0</td>\n",
       "    </tr>\n",
       "  </tbody>\n",
       "</table>\n",
       "</div>"
      ],
      "text/plain": [
       "                                                  id  loss  accuracy  \\\n",
       "0  ds8l0_noscaling_hls4ml_qkeras_foldbatchnorm_d5...     0    0.7282   \n",
       "\n",
       "   nt_gev02  nt_gev05  nt_gev10  nt_gev20  \n",
       "0         0         0         0         0  "
      ]
     },
     "metadata": {},
     "output_type": "display_data"
    }
   ],
   "source": [
    "with pd.option_context('display.float_format', '{:0.4f}'.format):\n",
    "    data = pd.DataFrame([[hmodel_prefix, 0, hls4ml_accuracy, GeV_0_2, GeV_0_5, GeV_1_0, GeV_2_0]], columns=[\"id\", \"loss\", \"accuracy\", \"nt_gev02\", \"nt_gev05\", \"nt_gev10\", \"nt_gev20\"])\n",
    "    display(data)"
   ]
  },
  {
   "cell_type": "code",
   "execution_count": 111,
   "id": "4c05a6e4",
   "metadata": {},
   "outputs": [],
   "source": [
    "results_filename = 'csv/results.csv'\n",
    "if train_and_save:\n",
    "    write_results(results_filename, hmodel_prefix, 0, hls4ml_accuracy, GeV_0_2, GeV_0_5, GeV_1_0, GeV_2_0)"
   ]
  },
  {
   "cell_type": "code",
   "execution_count": 112,
   "id": "e1cf1d82",
   "metadata": {},
   "outputs": [
    {
     "data": {
      "text/html": [
       "<div>\n",
       "<style scoped>\n",
       "    .dataframe tbody tr th:only-of-type {\n",
       "        vertical-align: middle;\n",
       "    }\n",
       "\n",
       "    .dataframe tbody tr th {\n",
       "        vertical-align: top;\n",
       "    }\n",
       "\n",
       "    .dataframe thead th {\n",
       "        text-align: right;\n",
       "    }\n",
       "</style>\n",
       "<table border=\"1\" class=\"dataframe\">\n",
       "  <thead>\n",
       "    <tr style=\"text-align: right;\">\n",
       "      <th></th>\n",
       "      <th>date</th>\n",
       "      <th>id</th>\n",
       "      <th>loss</th>\n",
       "      <th>accuracy</th>\n",
       "      <th>nt_gev02</th>\n",
       "      <th>nt_gev05</th>\n",
       "      <th>nt_gev10</th>\n",
       "      <th>nt_gev20</th>\n",
       "    </tr>\n",
       "  </thead>\n",
       "  <tbody>\n",
       "    <tr>\n",
       "      <th>0</th>\n",
       "      <td>16/02/2023 19:27:38</td>\n",
       "      <td>ds8l0_noscaling_keras_d58</td>\n",
       "      <td>0.5686</td>\n",
       "      <td>0.7470</td>\n",
       "      <td>0</td>\n",
       "      <td>0</td>\n",
       "      <td>0</td>\n",
       "      <td>0</td>\n",
       "    </tr>\n",
       "    <tr>\n",
       "      <th>1</th>\n",
       "      <td>16/02/2023 19:28:06</td>\n",
       "      <td>ds8l0_noscaling_qkeras_foldbatchnorm_d58w4a8</td>\n",
       "      <td>0.5898</td>\n",
       "      <td>0.7354</td>\n",
       "      <td>0</td>\n",
       "      <td>0</td>\n",
       "      <td>0</td>\n",
       "      <td>0</td>\n",
       "    </tr>\n",
       "    <tr>\n",
       "      <th>2</th>\n",
       "      <td>16/02/2023 19:28:16</td>\n",
       "      <td>ds8l0_noscaling_hls4ml_qkeras_foldbatchnorm_d5...</td>\n",
       "      <td>0.0000</td>\n",
       "      <td>0.7357</td>\n",
       "      <td>0</td>\n",
       "      <td>0</td>\n",
       "      <td>0</td>\n",
       "      <td>0</td>\n",
       "    </tr>\n",
       "    <tr>\n",
       "      <th>3</th>\n",
       "      <td>16/02/2023 20:31:04</td>\n",
       "      <td>ds8l0_noscaling_keras_d58</td>\n",
       "      <td>0.5684</td>\n",
       "      <td>0.7462</td>\n",
       "      <td>0</td>\n",
       "      <td>0</td>\n",
       "      <td>0</td>\n",
       "      <td>0</td>\n",
       "    </tr>\n",
       "    <tr>\n",
       "      <th>4</th>\n",
       "      <td>16/02/2023 20:31:26</td>\n",
       "      <td>ds8l0_noscaling_qkeras_foldbatchnorm_d58w4a8</td>\n",
       "      <td>0.6017</td>\n",
       "      <td>0.7298</td>\n",
       "      <td>0</td>\n",
       "      <td>0</td>\n",
       "      <td>0</td>\n",
       "      <td>0</td>\n",
       "    </tr>\n",
       "    <tr>\n",
       "      <th>5</th>\n",
       "      <td>16/02/2023 20:36:57</td>\n",
       "      <td>ds8l0_noscaling_keras_d58</td>\n",
       "      <td>0.5741</td>\n",
       "      <td>0.7417</td>\n",
       "      <td>0</td>\n",
       "      <td>0</td>\n",
       "      <td>0</td>\n",
       "      <td>0</td>\n",
       "    </tr>\n",
       "    <tr>\n",
       "      <th>6</th>\n",
       "      <td>16/02/2023 20:37:57</td>\n",
       "      <td>ds8l0_noscaling_qkeras_foldbatchnorm_d58w4a8</td>\n",
       "      <td>0.5920</td>\n",
       "      <td>0.7283</td>\n",
       "      <td>0</td>\n",
       "      <td>0</td>\n",
       "      <td>0</td>\n",
       "      <td>0</td>\n",
       "    </tr>\n",
       "  </tbody>\n",
       "</table>\n",
       "</div>"
      ],
      "text/plain": [
       "                  date                                                 id  \\\n",
       "0  16/02/2023 19:27:38                          ds8l0_noscaling_keras_d58   \n",
       "1  16/02/2023 19:28:06       ds8l0_noscaling_qkeras_foldbatchnorm_d58w4a8   \n",
       "2  16/02/2023 19:28:16  ds8l0_noscaling_hls4ml_qkeras_foldbatchnorm_d5...   \n",
       "3  16/02/2023 20:31:04                          ds8l0_noscaling_keras_d58   \n",
       "4  16/02/2023 20:31:26       ds8l0_noscaling_qkeras_foldbatchnorm_d58w4a8   \n",
       "5  16/02/2023 20:36:57                          ds8l0_noscaling_keras_d58   \n",
       "6  16/02/2023 20:37:57       ds8l0_noscaling_qkeras_foldbatchnorm_d58w4a8   \n",
       "\n",
       "    loss  accuracy  nt_gev02  nt_gev05  nt_gev10  nt_gev20  \n",
       "0 0.5686    0.7470         0         0         0         0  \n",
       "1 0.5898    0.7354         0         0         0         0  \n",
       "2 0.0000    0.7357         0         0         0         0  \n",
       "3 0.5684    0.7462         0         0         0         0  \n",
       "4 0.6017    0.7298         0         0         0         0  \n",
       "5 0.5741    0.7417         0         0         0         0  \n",
       "6 0.5920    0.7283         0         0         0         0  "
      ]
     },
     "metadata": {},
     "output_type": "display_data"
    }
   ],
   "source": [
    "print_results(results_filename)"
   ]
  },
  {
   "cell_type": "code",
   "execution_count": 113,
   "id": "db8abd0b",
   "metadata": {},
   "outputs": [],
   "source": [
    "id_ordering = get_model_ids(lrange=[0],\n",
    "                            srange=['noscaling'],\n",
    "                            mrange=[#'keras_d128',\n",
    "                                    #'qkeras_foldbatchnorm_d128w5a10',\n",
    "                                    #'hls4ml_qkeras_foldbatchnorm_d128w5a10',\n",
    "                                    #\n",
    "                                    #'keras_d64',\n",
    "                                    #'qkeras_foldbatchnorm_d64w5a10',\n",
    "                                    #'hls4ml_qkeras_foldbatchnorm_d64w5a10',\n",
    "                                    #'qkeras_foldbatchnorm_d64w4a8',\n",
    "                                    #'hls4ml_qkeras_foldbatchnorm_d64w4a8',\n",
    "                                    #\n",
    "                                    #'keras_d60',\n",
    "                                    #'qkeras_foldbatchnorm_d60w5a10',\n",
    "                                    #'hls4ml_qkeras_foldbatchnorm_d60w5a10',\n",
    "                                    #'qkeras_foldbatchnorm_d60w4a8',\n",
    "                                    #'hls4ml_qkeras_foldbatchnorm_d60w4a8',\n",
    "                                    #\n",
    "                                    'keras_d58',\n",
    "                                    #'qkeras_foldbatchnorm_d58w5a10',\n",
    "                                    #'hls4ml_qkeras_foldbatchnorm_d58w5a10',\n",
    "                                    'qkeras_foldbatchnorm_d58w4a8',\n",
    "                                    'hls4ml_qkeras_foldbatchnorm_d58w4a8',\n",
    "                                   ],\n",
    "                            reverse=True\n",
    "                           )"
   ]
  },
  {
   "cell_type": "code",
   "execution_count": 114,
   "id": "9521b6d9",
   "metadata": {},
   "outputs": [
    {
     "data": {
      "image/png": "[encoded data removed]",
      "text/plain": [
       "<Figure size 1000x1000 with 1 Axes>"
      ]
     },
     "metadata": {},
     "output_type": "display_data"
    }
   ],
   "source": [
    "plot_avg_results(results_filename, accuracy_th=0.76, tracks_th=0.9, id_ordering=id_ordering)"
   ]
  },
  {
   "cell_type": "markdown",
   "id": "ddc6495d",
   "metadata": {},
   "source": [
    "### Synthesis"
   ]
  },
  {
   "cell_type": "raw",
   "id": "da890b43",
   "metadata": {},
   "source": [
    "# This cell applies a patch/workaround necessary with some version of hls4ml.\n",
    "# It is a poor solution, but it works. Edit patches/project.tcl if you make any change\n",
    "# in this notebook.\n",
    "import shutil\n",
    "_ = shutil.copyfile('patches/project.tcl', hmodel_prefix + 'vivado_prj/project.tcl')"
   ]
  },
  {
   "cell_type": "raw",
   "id": "e0b17b6e",
   "metadata": {},
   "source": [
    "%%time\n",
    "results = hmodel.build(csim=False)"
   ]
  },
  {
   "cell_type": "raw",
   "id": "84c439b6",
   "metadata": {},
   "source": [
    "print('-----------------------------------')\n",
    "#print(results) # Print hashmap\n",
    "hls_results=results\n",
    "#['CSynthesisReport'] \n",
    "print(\"Estimated Clock Period: {} ns\".format(hls_results['EstimatedClockPeriod']))\n",
    "print(\"Best/Worst Latency:     {} / {}\".format(hls_results['BestLatency'], hls_results['WorstLatency']))\n",
    "print(\"Interval Min/Max:       {} / {}\".format(hls_results['IntervalMin'], hls_results['IntervalMax']))\n",
    "print(\"BRAM_18K:               {}, {:0.1f}% (Aval. {})\".format(hls_results['BRAM_18K'], int(hls_results['BRAM_18K'])*100.0/int(hls_results['AvailableBRAM_18K']), hls_results['AvailableBRAM_18K']))\n",
    "print(\"DSP48E:                 {}, {:0.1f}% (Aval. {})\".format(hls_results['DSP48E'], int(hls_results['DSP48E'])*100.0/int(hls_results['AvailableDSP48E']), hls_results['AvailableDSP48E']))\n",
    "print(\"FF:                     {}, {:0.1f}% (Aval. {})\".format(hls_results['FF'], int(hls_results['FF'])*100.0/int(hls_results['AvailableFF']), hls_results['AvailableFF']))\n",
    "print(\"LUT:                    {}, {:0.1f}% (Aval. {})\".format(hls_results['LUT'], int(hls_results['LUT'])*100.0/int(hls_results['AvailableLUT']), hls_results['AvailableLUT']))\n",
    "#print(\"URAM:                   {}, {} (Aval. {})\".format(hls_results['URAM'], int(hls_results['URAM'])*100.0/int(hls_results['AvailableURAM']), hls_results['AvailableURAM']))\n",
    "print('-----------------------------------')"
   ]
  }
 ],
 "metadata": {
  "kernelspec": {
   "display_name": "Python 3 (ipykernel)",
   "language": "python",
   "name": "python3"
  },
  "language_info": {
   "codemirror_mode": {
    "name": "ipython",
    "version": 3
   },
   "file_extension": ".py",
   "mimetype": "text/x-python",
   "name": "python",
   "nbconvert_exporter": "python",
   "pygments_lexer": "ipython3",
   "version": "3.9.16"
  },
  "toc": {
   "base_numbering": 1,
   "nav_menu": {},
   "number_sections": true,
   "sideBar": true,
   "skip_h1_title": false,
   "title_cell": "Table of Contents",
   "title_sidebar": "Contents",
   "toc_cell": false,
   "toc_position": {
    "height": "calc(100% - 180px)",
    "left": "10px",
    "top": "150px",
    "width": "353.217px"
   },
   "toc_section_display": true,
   "toc_window_display": true
  },
  "toc-autonumbering": false,
  "toc-showmarkdowntxt": false,
  "toc-showtags": false,
  "varInspector": {
   "cols": {
    "lenName": 16,
    "lenType": 16,
    "lenVar": 40
   },
   "kernels_config": {
    "python": {
     "delete_cmd_postfix": "",
     "delete_cmd_prefix": "del ",
     "library": "var_list.py",
     "varRefreshCmd": "print(var_dic_list())"
    },
    "r": {
     "delete_cmd_postfix": ") ",
     "delete_cmd_prefix": "rm(",
     "library": "var_list.r",
     "varRefreshCmd": "cat(var_dic_list()) "
    }
   },
   "types_to_exclude": [
    "module",
    "function",
    "builtin_function_or_method",
    "instance",
    "_Feature"
   ],
   "window_display": false
  }
 },
 "nbformat": 4,
 "nbformat_minor": 5
}
