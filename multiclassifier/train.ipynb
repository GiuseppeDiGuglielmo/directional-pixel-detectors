{
 "cells": [
  {
   "cell_type": "markdown",
   "id": "27f17246",
   "metadata": {},
   "source": [
    "# CMS28 Smart Pix NN"
   ]
  },
  {
   "cell_type": "markdown",
   "id": "092f7870",
   "metadata": {},
   "source": [
    "## Library setup"
   ]
  },
  {
   "cell_type": "markdown",
   "id": "69082377",
   "metadata": {},
   "source": [
    "Disable some console warnings"
   ]
  },
  {
   "cell_type": "code",
   "execution_count": null,
   "id": "eafd49d2",
   "metadata": {
    "tags": []
   },
   "outputs": [],
   "source": [
    "import os\n",
    "os.environ['TF_XLA_FLAGS'] = '--tf_xla_enable_xla_devices'\n",
    "os.environ['TF_CPP_MIN_LOG_LEVEL'] = '3'"
   ]
  },
  {
   "cell_type": "markdown",
   "id": "2e0f6a50",
   "metadata": {},
   "source": [
    "Import libraries"
   ]
  },
  {
   "cell_type": "code",
   "execution_count": null,
   "id": "3a8391fa-659e-448d-bc55-8f6c207a2ffb",
   "metadata": {
    "tags": []
   },
   "outputs": [],
   "source": [
    "from sklearn.model_selection import train_test_split\n",
    "from sklearn.metrics import mean_squared_error\n",
    "from sklearn.preprocessing import StandardScaler\n",
    "from sklearn.metrics import confusion_matrix\n",
    "from sklearn.metrics import classification_report\n",
    "from sklearn.model_selection import StratifiedKFold\n",
    "import tensorflow as tf\n",
    "from tensorflow.keras import datasets, layers, models\n",
    "#import keras\n",
    "from tensorflow.keras.models import Sequential\n",
    "from tensorflow.keras.layers import Dense, Dropout, Flatten, Lambda\n",
    "from tensorflow.keras.layers import Conv2D, MaxPooling2D\n",
    "from tensorflow.keras.callbacks import CSVLogger\n",
    "from tensorflow.keras.callbacks import EarlyStopping\n",
    "import matplotlib.pyplot as plt\n",
    "import numpy as np\n",
    "import pandas as pd\n",
    "from pandas import read_csv\n",
    "import math\n",
    "import seaborn as sns\n",
    "from tensorflow.keras.optimizers import Adam\n",
    "\n",
    "from tensorflow.keras.layers import Input, Activation\n",
    "from qkeras import *\n",
    "\n",
    "%matplotlib inline\n",
    "import matplotlib.pyplot as plt"
   ]
  },
  {
   "cell_type": "markdown",
   "id": "457601f3-71eb-42d8-91de-f52c1dd8df4f",
   "metadata": {},
   "source": [
    "Import plot `pT filter` function."
   ]
  },
  {
   "cell_type": "code",
   "execution_count": null,
   "id": "5e505b7a-868d-4796-bc41-b816c3663794",
   "metadata": {
    "tags": []
   },
   "outputs": [],
   "source": [
    "from plot_pt_filter import plot_pt_filter\n",
    "from plot_pt_filter import get_number_of_tracks"
   ]
  },
  {
   "cell_type": "markdown",
   "id": "78aca1ed",
   "metadata": {},
   "source": [
    "Define some additional helpers"
   ]
  },
  {
   "cell_type": "code",
   "execution_count": null,
   "id": "cddbe3aa",
   "metadata": {
    "code_folding": [],
    "tags": []
   },
   "outputs": [],
   "source": [
    "from IPython.display import display_html\n",
    "from itertools import chain, cycle\n",
    "def display_side_by_side(*args,titles=cycle([''])):\n",
    "    html_str=''\n",
    "    for df,title in zip(args, chain(titles,cycle(['</br>'])) ):\n",
    "        html_str+='<th style=\"text-align:center\"><td style=\"vertical-align:top\">'\n",
    "        html_str+=f'<h5 style=\"text-align: center;\">{title}</h5>'\n",
    "        html_str+=df.to_html().replace('table','table style=\"display:inline\"')\n",
    "        html_str+='</td></th>'\n",
    "    display_html(html_str,raw=True)"
   ]
  },
  {
   "cell_type": "code",
   "execution_count": null,
   "id": "e1e8f25c",
   "metadata": {
    "code_folding": [
     0
    ],
    "tags": []
   },
   "outputs": [],
   "source": [
    "def write_results(filename, model_id, loss, accuracy, GeV_0_2, GeV_0_5, GeV_1_0, GeV_2_0):\n",
    "    import os\n",
    "    import csv\n",
    "\n",
    "    from datetime import datetime\n",
    "    now = datetime.now()\n",
    "    date_string = now.strftime(\"%d/%m/%Y %H:%M:%S\")\n",
    "\n",
    "    f = open(filename, 'a+')\n",
    "    writer = csv.writer(f)\n",
    "    if os.stat(filename).st_size == 0:\n",
    "        writer.writerow([\"date\", \"id\", \"loss\", \"accuracy\", \"nt_gev02\", \"nt_gev05\", \"nt_gev10\", \"nt_gev20\"])\n",
    "    writer.writerow([date_string, model_id, loss, accuracy, GeV_0_2, GeV_0_5, GeV_1_0, GeV_2_0])\n",
    "    f.close()\n",
    "    \n",
    "def write_hw_results(filename, model_id, hls_area, ls_area, latency):\n",
    "    import os\n",
    "    import csv\n",
    "\n",
    "    from datetime import datetime\n",
    "    now = datetime.now()\n",
    "    date_string = now.strftime(\"%d/%m/%Y %H:%M:%S\")\n",
    "\n",
    "    f = open(filename, 'a+')\n",
    "    writer = csv.writer(f)\n",
    "    if os.stat(filename).st_size == 0:\n",
    "        writer.writerow([\"date\", \"id\", \"HLS area\", \"LS area\", \"latency\"])\n",
    "    writer.writerow([date_string, model_id, hls_area, ls_area, latency])\n",
    "    f.close()"
   ]
  },
  {
   "cell_type": "code",
   "execution_count": null,
   "id": "4d733e1f",
   "metadata": {
    "code_folding": [
     0
    ],
    "tags": []
   },
   "outputs": [],
   "source": [
    "def print_results(filename):\n",
    "    import pandas as pd\n",
    "    with pd.option_context('display.float_format', '{:0.4f}'.format):\n",
    "        csv_data = pd.read_csv(filename)\n",
    "        accuracy_avg = csv_data.groupby('id').accuracy.mean()\n",
    "        #csv_data = csv_data.join(accuracy_avg, on='id', rsuffix='_avg')\n",
    "        nt_gev10_avg = csv_data.groupby('id').nt_gev10.mean()\n",
    "        #csv_data = csv_data.join(nt_gev10_avg, on='id', rsuffix='_avg')        \n",
    "        display(csv_data)\n",
    "        \n",
    "def print_hw_results(filename):\n",
    "    import pandas as pd\n",
    "    display_width = pd.get_option('display.width')\n",
    "    pd.set_option('display.width', 1000)\n",
    "    with pd.option_context('display.float_format', '{:0.4f}'.format):\n",
    "        csv_data = pd.read_csv(filename)\n",
    "        display(csv_data)\n",
    "    pd.set_option('display.width', display_width)"
   ]
  },
  {
   "cell_type": "code",
   "execution_count": null,
   "id": "ef5251c9",
   "metadata": {
    "code_folding": [
     0
    ],
    "tags": []
   },
   "outputs": [],
   "source": [
    "def print_avg_results(filename):\n",
    "    import pandas as pd\n",
    "    with pd.option_context('display.float_format', '{:0.4f}'.format):\n",
    "        csv_data = pd.read_csv(filename)\n",
    "        accuracy_avg = csv_data.groupby('id').accuracy.mean()\n",
    "        nt_gev10_avg = csv_data.groupby('id').nt_gev10.mean()\n",
    "        accuracy_std = csv_data.groupby('id').accuracy.std()\n",
    "        nt_gev10_std = csv_data.groupby('id').nt_gev10.std()        \n",
    "        csv_avg_std_data = pd.DataFrame(accuracy_avg)\n",
    "        csv_avg_std_data = csv_avg_std_data.join(nt_gev10_avg, on='id')\n",
    "        \n",
    "        csv_data = pd.read_csv(filename, usecols=['id', 'accuracy'])\n",
    "        csv_data_count = csv_data.groupby(['id']).count().rename(columns={'accuracy':'count'})\n",
    "        \n",
    "        csv_avg_std_data = csv_avg_std_data.join(csv_data_count, on='id')\n",
    "        \n",
    "        display(csv_avg_std_data)"
   ]
  },
  {
   "cell_type": "code",
   "execution_count": null,
   "id": "853b4256",
   "metadata": {
    "code_folding": [
     0
    ],
    "tags": []
   },
   "outputs": [],
   "source": [
    "def plot_avg_results(filename, accuracy_th=0.76, tracks_th=0.9, id_ordering=None):\n",
    "    import numpy as np\n",
    "    import pandas as pd\n",
    "    import matplotlib.pyplot as plt\n",
    "    %matplotlib inline\n",
    "    with pd.option_context('display.float_format', '{:0.4f}'.format):\n",
    "        restore_figsize = plt.rcParams[\"figure.figsize\"]\n",
    "        plt.rcParams[\"figure.figsize\"] = (10,10)\n",
    "        csv_data = pd.read_csv(filename)\n",
    "        accuracy_avg = csv_data.groupby('id').accuracy.mean()\n",
    "        nt_gev10_avg = csv_data.groupby('id').nt_gev10.mean()\n",
    "        \n",
    "        df = pd.DataFrame({'accuracy': accuracy_avg, 'nt_gev10': nt_gev10_avg})\n",
    "        #df = pd.DataFrame({'accuracy': accuracy_avg})\n",
    "        if id_ordering != None:\n",
    "            df = df.reindex(id_ordering)\n",
    "        yticks=[0, 0.1, 0.2, 0.3, 0.4, 0.5, 0.6, 0.7, 0.8, 0.9, 1.0]\n",
    "        #ax = df.set_index('id').loc[id_ordering].plot.bar(rot=65, title='Avg metrics', ylim=[0.,1], yticks=yticks)\n",
    "        ax = df.plot.barh(rot=0, title='Avg metrics', ylim=[0.,1], yticks=yticks)\n",
    "        for container in ax.containers:\n",
    "            ax.bar_label(container, fmt='%.4f', fontsize=8)\n",
    "        \n",
    "        # Shrink current axis by 20%\n",
    "        box = ax.get_position()\n",
    "        ax.set_position([box.x0, box.y0, box.width * 0.9, box.height])\n",
    "\n",
    "        # Put a legend below current axis\n",
    "        ax.legend(loc='upper right', bbox_to_anchor=(0.5, -0.05),\n",
    "          fancybox=True, shadow=True, ncol=5)\n",
    "        \n",
    "        # Threshold lines\n",
    "        ax.axvline(tracks_th, color=\"orange\", linestyle=\":\")\n",
    "        ax.text(tracks_th, -2.0,\n",
    "                str(tracks_th*100) + '%',\n",
    "                va='center',\n",
    "                ha='center',\n",
    "                bbox=dict(facecolor=\"w\",alpha=0.5, boxstyle='rarrow', edgecolor='orange'),\n",
    "                #transform=ax.get_yaxis_transform(),\n",
    "                rotation=90)\n",
    "        \n",
    "        ax.axvline(accuracy_th, color=\"lightblue\", linestyle=\":\")\n",
    "        ax.text(accuracy_th, -2.0,\n",
    "                str(accuracy_th*100) + '%',\n",
    "                va='center',\n",
    "                ha='center',\n",
    "                bbox=dict(facecolor=\"w\",alpha=0.5, boxstyle='rarrow', edgecolor='lightblue'),\n",
    "                #transform=ax.get_yaxis_transform(),\n",
    "                rotation=90)\n",
    "        \n",
    "        plt.rcParams[\"figure.figsize\"] = restore_figsize"
   ]
  },
  {
   "cell_type": "code",
   "execution_count": null,
   "id": "9f67af62",
   "metadata": {
    "code_folding": [
     0
    ],
    "tags": []
   },
   "outputs": [],
   "source": [
    "def print_dictionary(d, indent=0):\n",
    "   for key, value in d.items():\n",
    "      print('  ' * indent + str(key))\n",
    "      if isinstance(value, dict):\n",
    "         print_dictionary(value, indent+1)\n",
    "      else:\n",
    "         print('  ' * (indent+1) + str(value))"
   ]
  },
  {
   "cell_type": "code",
   "execution_count": null,
   "id": "32afa30b",
   "metadata": {
    "tags": []
   },
   "outputs": [],
   "source": [
    "def get_model_ids(lrange=range(12),\n",
    "                  srange=['noscaling'],\n",
    "                  mrange=['keras_d64', 'qkeras_foldbatchnorm_d64w6a10', 'hls4ml_qkeras_foldbatchnorm_d64w6a10'],\n",
    "                  reverse=True\n",
    "                 ):\n",
    "    import itertools as it\n",
    "    id_ordering = ['ds8l{}_{}_{}'.format(str(l), s, m) for [l, s, m] in it.product(\n",
    "        lrange, # local bin\n",
    "        srange, # dataset scaling\n",
    "        mrange) # models\n",
    "    ]\n",
    "    if reverse:\n",
    "        id_ordering.reverse()\n",
    "    return id_ordering"
   ]
  },
  {
   "cell_type": "markdown",
   "id": "3ae779ee",
   "metadata": {
    "tags": [],
    "toc-hr-collapsed": true
   },
   "source": [
    "## Prepare dataset"
   ]
  },
  {
   "cell_type": "markdown",
   "id": "a52cef08",
   "metadata": {
    "toc-hr-collapsed": true
   },
   "source": [
    "### Load dataset"
   ]
  },
  {
   "cell_type": "markdown",
   "id": "36a18169",
   "metadata": {
    "tags": []
   },
   "source": [
    "#### ds7"
   ]
  },
  {
   "cell_type": "markdown",
   "id": "006d2b76",
   "metadata": {},
   "source": [
    "`dataset 7`"
   ]
  },
  {
   "cell_type": "raw",
   "id": "100d4aa0",
   "metadata": {},
   "source": [
    "dataset = 'ds7_'\n",
    "base_dir = 'data/oct4_MCwithQuantInputs'\n",
    "\n",
    "df1 = pd.read_csv(base_dir + '/InputTrainSet.csv')\n",
    "df2 = pd.read_csv(base_dir + '/labelsTrain.csv')\n",
    "df3 = pd.read_csv(base_dir + '/InputTestSet.csv')\n",
    "df4 = pd.read_csv(base_dir + '/labelsTest.csv')"
   ]
  },
  {
   "cell_type": "markdown",
   "id": "1d2e2098",
   "metadata": {
    "tags": []
   },
   "source": [
    "#### ds-balanced"
   ]
  },
  {
   "cell_type": "markdown",
   "id": "a776da8f",
   "metadata": {},
   "source": [
    "Balanced dataset (deprecated)"
   ]
  },
  {
   "cell_type": "raw",
   "id": "f3080911",
   "metadata": {},
   "source": [
    "#dataset = 'balanced_'\n",
    "#base_dir = 'data/balancedOct27'\n",
    "\n",
    "#df1 = pd.read_csv(base_dir + '/InputTrainSet.csv')\n",
    "#df2 = pd.read_csv(base_dir + '/labelsTrain.csv')\n",
    "#df3 = pd.read_csv(base_dir + '/InputTestSet.csv')\n",
    "#df4 = pd.read_csv(base_dir + '/labelsTest.csv')"
   ]
  },
  {
   "cell_type": "markdown",
   "id": "c121f2e1",
   "metadata": {
    "tags": []
   },
   "source": [
    "#### ds7q"
   ]
  },
  {
   "cell_type": "markdown",
   "id": "035e6723",
   "metadata": {},
   "source": [
    "`dataset 7` and the 14th column is distributed on the range `[0,11]`"
   ]
  },
  {
   "cell_type": "raw",
   "id": "156f47df",
   "metadata": {},
   "source": [
    "dataset = 'ds7q_'\n",
    "base_dir = 'data/oct4_MCwithQuantInputs'\n",
    "\n",
    "df1 = pd.read_csv(base_dir + '/TrainSetWithIntegerYLocalAllUint8.csv')\n",
    "df2 = pd.read_csv(base_dir + '/labelsTrain.csv')\n",
    "df3 = pd.read_csv(base_dir + '/TestSetWithIntegerYLocalAllUint8.csv')\n",
    "df4 = pd.read_csv(base_dir + '/labelsTest.csv')"
   ]
  },
  {
   "cell_type": "markdown",
   "id": "768bebdb",
   "metadata": {},
   "source": [
    "#### ds678q"
   ]
  },
  {
   "cell_type": "markdown",
   "id": "05aa3fcc",
   "metadata": {},
   "source": [
    "`dataset 6-7-8` (larger dataset) and the 14th column is distributed on the range `[0,11]`"
   ]
  },
  {
   "cell_type": "raw",
   "id": "bc4e949d",
   "metadata": {},
   "source": [
    "dataset = 'ds678q'\n",
    "base_dir = 'data/BigDS_Multiclassifier_Nov15'\n",
    "\n",
    "df1 = pd.read_csv(base_dir + '/TrainSetWithIntegerYLocalAllUint8.csv')\n",
    "df2 = pd.read_csv(base_dir + '/TrainSetLabel.csv')\n",
    "df3 = pd.read_csv(base_dir + '/TestSetWithIntegerYLocalAllUint8.csv')\n",
    "df4 = pd.read_csv(base_dir + '/TestSetLabel.csv')"
   ]
  },
  {
   "cell_type": "markdown",
   "id": "b4d90fb2",
   "metadata": {
    "tags": []
   },
   "source": [
    "#### ds8"
   ]
  },
  {
   "cell_type": "markdown",
   "id": "4e96d13e",
   "metadata": {},
   "source": [
    "`dataset 8`"
   ]
  },
  {
   "cell_type": "raw",
   "id": "9a155cbd",
   "metadata": {},
   "source": [
    "dataset = 'ds8_'\n",
    "base_dir = 'data/ds8_only'\n",
    "\n",
    "df1 = pd.read_csv(base_dir + '/dec6_ds8_quant/QuantizedInputTrainSet.csv')\n",
    "df2 = pd.read_csv(base_dir + '/TrainSetLabel.csv')\n",
    "df3 = pd.read_csv(base_dir + '/dec6_ds8_quant/QuantizedInputTestSet.csv')\n",
    "df4 = pd.read_csv(base_dir + '/TestSetLabel.csv')"
   ]
  },
  {
   "cell_type": "markdown",
   "id": "cc430d8f",
   "metadata": {
    "tags": []
   },
   "source": [
    "#### ds8q"
   ]
  },
  {
   "cell_type": "markdown",
   "id": "7f893b6c",
   "metadata": {},
   "source": [
    "`dataset 8` and the 14th column is distributed on the range `[0,11]`"
   ]
  },
  {
   "cell_type": "raw",
   "id": "b157ee0c",
   "metadata": {},
   "source": [
    "dataset = 'ds8q_'\n",
    "base_dir = 'data/ds8_only'\n",
    "\n",
    "df1 = pd.read_csv(base_dir + '/dec6_ds8_quant/QuantizedInputTrainSetWithIntegerYLocal.csv')\n",
    "df2 = pd.read_csv(base_dir + '/TrainSetLabel.csv')\n",
    "df3 = pd.read_csv(base_dir + '/dec6_ds8_quant/QuantizedInputTestSetWithIntegerYLocal.csv')\n",
    "df4 = pd.read_csv(base_dir + '/TestSetLabel.csv')"
   ]
  },
  {
   "cell_type": "markdown",
   "id": "44e8ddc7",
   "metadata": {},
   "source": [
    "#### ds8-local"
   ]
  },
  {
   "cell_type": "markdown",
   "id": "cfbe1b0c",
   "metadata": {},
   "source": [
    "`dataset 8` but split for _each local bin_"
   ]
  },
  {
   "cell_type": "markdown",
   "id": "52eb2693",
   "metadata": {},
   "source": [
    "<p style=\"background-color:Yellow;\"><b>Choose the local bin (y-local).</b></p>"
   ]
  },
  {
   "cell_type": "code",
   "execution_count": null,
   "id": "d2bea924-d4ce-41c1-bba8-236d82c4e04b",
   "metadata": {
    "tags": []
   },
   "outputs": [],
   "source": [
    "local_id = 0 # 0 - 11"
   ]
  },
  {
   "cell_type": "markdown",
   "id": "c89e05d8",
   "metadata": {},
   "source": [
    "<p style=\"background-color:Yellow;\"><b>Run identifier.</b></p>"
   ]
  },
  {
   "cell_type": "code",
   "execution_count": null,
   "id": "efa13577",
   "metadata": {
    "tags": []
   },
   "outputs": [],
   "source": [
    "run_id = 0"
   ]
  },
  {
   "cell_type": "code",
   "execution_count": null,
   "id": "e76ac76e",
   "metadata": {
    "tags": []
   },
   "outputs": [],
   "source": [
    "dataset = 'ds8l' + str(local_id) + '_'\n",
    "\n",
    "base_dir = 'data/ds8_only'\n",
    "\n",
    "train_data = base_dir + '/dec6_ds8_quant/QuantizedInputTrainSetLocal{}.csv'.format(local_id)\n",
    "train_label = base_dir + '/dec6_ds8_quant/TrainSetLabelLocal{}.csv'.format(local_id)\n",
    "test_data = base_dir + '/dec6_ds8_quant/QuantizedInputTestSetLocal{}.csv'.format(local_id)\n",
    "test_label = base_dir + '/dec6_ds8_quant/TestSetLabelLocal{}.csv'.format(local_id)\n",
    "\n",
    "pt_data = base_dir + '/dec6_ds8_quant/TestSetTruePTLocal{}.csv'.format(local_id)\n",
    "\n",
    "df1 = pd.read_csv(train_data)\n",
    "df2 = pd.read_csv(train_label)\n",
    "df3 = pd.read_csv(test_data)\n",
    "df4 = pd.read_csv(test_label)"
   ]
  },
  {
   "cell_type": "code",
   "execution_count": null,
   "id": "0b664e2d",
   "metadata": {
    "tags": []
   },
   "outputs": [],
   "source": [
    "print(df1)"
   ]
  },
  {
   "cell_type": "markdown",
   "id": "87da12e7",
   "metadata": {},
   "source": [
    "### Pad dataset"
   ]
  },
  {
   "cell_type": "markdown",
   "id": "b957b96e",
   "metadata": {},
   "source": [
    "<p style=\"background-color:Tomato;\"><b>DO NOT USE A PADDED DATASET TO TRAIN AND EVALUATE A MODEL! Padding a dataset is useful only to generate a \"larger\" accelerator in the synthesis flow.</b></p>\n",
    "\n",
    "Enable following cell to enable padding."
   ]
  },
  {
   "cell_type": "code",
   "execution_count": null,
   "id": "0b40a6f9",
   "metadata": {},
   "outputs": [],
   "source": [
    "padding = \"\""
   ]
  },
  {
   "cell_type": "code",
   "execution_count": null,
   "id": "93a95444-6347-4f10-aead-ba77d6d3285e",
   "metadata": {},
   "outputs": [],
   "source": [
    "padding = \"padded_\"\n",
    "\n",
    "if '14' not in df1:\n",
    "    df1['14'] = 0\n",
    "df1['15'] = 0\n",
    "df1['16'] = 0\n",
    "\n",
    "if '14' not in df3:\n",
    "    df3['14'] = 0\n",
    "df3['15'] = 0\n",
    "df3['16'] = 0"
   ]
  },
  {
   "cell_type": "code",
   "execution_count": null,
   "id": "f150ba39-5d91-4633-b6cd-b1ecd0b3ed91",
   "metadata": {},
   "outputs": [],
   "source": [
    "X_train = df1.values\n",
    "X_test = df3.values\n",
    "\n",
    "y_train = df2.values\n",
    "y_test = df4.values\n",
    "\n",
    "print('Trainig set shape         :', X_train.shape) \n",
    "print('Trainig set shape (labels):', y_train.shape)\n",
    "print('Test set shape:           :', X_test.shape)\n",
    "print('Test set shape (labels)   :', y_test.shape)"
   ]
  },
  {
   "cell_type": "markdown",
   "id": "3e0047eb",
   "metadata": {},
   "source": [
    "### Visualize dataset"
   ]
  },
  {
   "cell_type": "markdown",
   "id": "95c4715f",
   "metadata": {},
   "source": [
    "Observe the span of the value for each of the 14 columns. The 14th column -- if quantized -- should span on the range `[0,11]`."
   ]
  },
  {
   "cell_type": "code",
   "execution_count": null,
   "id": "beca2ee4",
   "metadata": {},
   "outputs": [],
   "source": [
    "frames = [df1, df3]\n",
    "\n",
    "df = pd.concat(frames)"
   ]
  },
  {
   "cell_type": "code",
   "execution_count": null,
   "id": "d9298756",
   "metadata": {},
   "outputs": [],
   "source": [
    "_ = plt.title(\"dataset with outliers\")\n",
    "_ = plt.boxplot(df.values, showfliers=True)"
   ]
  },
  {
   "cell_type": "code",
   "execution_count": null,
   "id": "56731637",
   "metadata": {},
   "outputs": [],
   "source": [
    "_ = plt.title(\"dataset without outliers\")\n",
    "_ = plt.boxplot(df.values, showfliers=False)"
   ]
  },
  {
   "cell_type": "markdown",
   "id": "88353d40",
   "metadata": {},
   "source": [
    "You should see all integers if you are using the `dataset 6-7-8` with 14th column quantized"
   ]
  },
  {
   "cell_type": "code",
   "execution_count": null,
   "id": "e8e74612",
   "metadata": {},
   "outputs": [],
   "source": [
    "pd.DataFrame(X_test[:5])"
   ]
  },
  {
   "cell_type": "code",
   "execution_count": null,
   "id": "fb4f0be6",
   "metadata": {},
   "outputs": [],
   "source": [
    "import math\n",
    "max_value_X_train = np.max(X_train)\n",
    "min_value_X_train = np.min(X_train)\n",
    "max_value_X_test = np.max(X_test)\n",
    "min_value_X_test = np.min(X_test)\n",
    "\n",
    "log2_max_value_X_train = int(np.ceil(math.log2(np.abs(max_value_X_train))))\n",
    "#log2_min_value_X_train = int(np.ceil(math.log2(np.abs(min_value_X_train))))\n",
    "log2_max_value_X_test = int(np.ceil(math.log2(np.abs(max_value_X_test))))\n",
    "#log2_min_value_X_test = int(np.ceil(math.log2(np.abs(min_value_X_test))))\n",
    "\n",
    "print('X_train: max=', max_value_X_train, ', log2(max)=', log2_max_value_X_train, ', min=', min_value_X_train)\n",
    "print('X_test: max=', max_value_X_test, ', log2(max)=', log2_max_value_X_test, ', min=', min_value_X_test)"
   ]
  },
  {
   "cell_type": "markdown",
   "id": "bc0a3846",
   "metadata": {
    "toc-hr-collapsed": true
   },
   "source": [
    "### Scale dataset"
   ]
  },
  {
   "cell_type": "markdown",
   "id": "e9a6df7a",
   "metadata": {},
   "source": [
    "<p style=\"background-color:Yellow;\"><b>Disabling scaling will simplify the hardware design</b></p>"
   ]
  },
  {
   "cell_type": "code",
   "execution_count": null,
   "id": "499e8afc",
   "metadata": {},
   "outputs": [],
   "source": [
    "scale = False"
   ]
  },
  {
   "cell_type": "code",
   "execution_count": null,
   "id": "84cd9b69",
   "metadata": {},
   "outputs": [],
   "source": [
    "scaling = ''\n",
    "if scale:\n",
    "    scaling = 'scaling_'\n",
    "    scaler = StandardScaler()\n",
    "    X_train = scaler.fit_transform(X_train.reshape(-1, X_train.shape[-1])).reshape(X_train.shape)\n",
    "    X_test = scaler.transform(X_test.reshape(-1, X_test.shape[-1])).reshape(X_test.shape)\n",
    "else:\n",
    "    scaling = 'noscaling_'"
   ]
  },
  {
   "cell_type": "markdown",
   "id": "c7ed1ee5",
   "metadata": {},
   "source": [
    "#### Visualize dataset post-scaling"
   ]
  },
  {
   "cell_type": "code",
   "execution_count": null,
   "id": "8762378e",
   "metadata": {},
   "outputs": [],
   "source": [
    "pd.DataFrame(X_train).to_csv('csv/' + dataset + scaling + 'InputTrainSetScale.csv',index=False)\n",
    "pd.DataFrame(X_test).to_csv('csv/' + dataset + scaling + 'InputTestSetScale.csv',index=False)"
   ]
  },
  {
   "cell_type": "code",
   "execution_count": null,
   "id": "845eb39f",
   "metadata": {},
   "outputs": [],
   "source": [
    "pd.DataFrame(X_test[:5])"
   ]
  },
  {
   "cell_type": "code",
   "execution_count": null,
   "id": "fafeb235",
   "metadata": {},
   "outputs": [],
   "source": [
    "import math\n",
    "max_value_X_train = np.max(X_train)\n",
    "min_value_X_train = np.min(X_train)\n",
    "max_value_X_test = np.max(X_test)\n",
    "min_value_X_test = np.min(X_test)\n",
    "\n",
    "log2_max_value_X_train = int(np.ceil(math.log2(np.abs(max_value_X_train))))\n",
    "#log2_min_value_X_train = int(np.ceil(math.log2(np.abs(min_value_X_train))))\n",
    "log2_max_value_X_test = int(np.ceil(math.log2(np.abs(max_value_X_test))))\n",
    "#log2_min_value_X_test = int(np.ceil(math.log2(np.abs(min_value_X_test))))\n",
    "\n",
    "print('X_train: max=', max_value_X_train, ', log2(max)=', log2_max_value_X_train, ', min=', min_value_X_train)\n",
    "print('X_test: max=', max_value_X_test, ', log2(max)=', log2_max_value_X_test, ', min=', min_value_X_test)"
   ]
  },
  {
   "cell_type": "markdown",
   "id": "1c14b727",
   "metadata": {
    "toc-hr-collapsed": true
   },
   "source": [
    "### One-hot encoding"
   ]
  },
  {
   "cell_type": "code",
   "execution_count": null,
   "id": "672edbc8",
   "metadata": {},
   "outputs": [],
   "source": [
    "y_train_oh = pd.get_dummies(df2['ptLabel'])\n",
    "y_test_oh = pd.get_dummies(df4['ptLabel'])\n",
    "\n",
    "y_train_oh.to_csv(\"csv/\" + dataset + \"labelsTrainOH.csv\",index=False)\n",
    "y_test_oh.to_csv(\"csv/\" + dataset + \"labelsTestOH.csv\",index=False)"
   ]
  },
  {
   "cell_type": "code",
   "execution_count": null,
   "id": "4232926e",
   "metadata": {},
   "outputs": [],
   "source": [
    "display_side_by_side(pd.DataFrame(y_test[:5]), pd.DataFrame(y_test_oh[:5]), titles=['Prediction','One-hot encoding'])"
   ]
  },
  {
   "cell_type": "markdown",
   "id": "c574fbbc",
   "metadata": {},
   "source": [
    "### Save .dat files"
   ]
  },
  {
   "cell_type": "raw",
   "id": "e83acb41-1a08-4918-8c2b-4b3469e331bc",
   "metadata": {},
   "source": [
    "pd.DataFrame(X_test).to_csv('dat/pad/l{:d}/tb_input_features.dat'.format(local_id), sep=' ', index=False)\n",
    "y_test_oh.to_csv('dat/pad/l{:d}/tb_output_predictions.dat'.format(local_id), sep=' ', index=False)"
   ]
  },
  {
   "cell_type": "markdown",
   "id": "f8ef817d",
   "metadata": {
    "tags": []
   },
   "source": [
    "## Model (Keras)\n",
    "\n",
    "Let's start with a Keras model that is more traditional and uses floating-point. Our goal is to eventually get a quantized model for QKeras and hls4ml that is _close enough_ to this initial model."
   ]
  },
  {
   "cell_type": "markdown",
   "id": "f52234ec",
   "metadata": {
    "tags": [],
    "toc-hr-collapsed": true
   },
   "source": [
    "### Model definition\n",
    "\n",
    "Define a few MLP models with different size and number of layers"
   ]
  },
  {
   "cell_type": "code",
   "execution_count": null,
   "id": "f6472f8b",
   "metadata": {},
   "outputs": [],
   "source": [
    "models = {}"
   ]
  },
  {
   "cell_type": "markdown",
   "id": "d893e573",
   "metadata": {},
   "source": [
    "#### d128\n",
    "\n",
    "This is our original model that we also use as a reference"
   ]
  },
  {
   "cell_type": "code",
   "execution_count": null,
   "id": "265384f6",
   "metadata": {},
   "outputs": [],
   "source": [
    "def CreateModel(shape, nb_classes):\n",
    "    x = x_in = Input(shape, name=\"input\")\n",
    "    x = Dense(128, name=\"dense1\")(x)\n",
    "    x = keras.layers.BatchNormalization()(x)\n",
    "    x = Activation(\"relu\", name=\"relu1\")(x)\n",
    "    x = Dense(3, name=\"dense2\")(x)\n",
    "    x = Activation(\"linear\", name=\"linear\")(x)\n",
    "    model = Model(inputs=x_in, outputs=x)\n",
    "    return model\n",
    "\n",
    "models['d128'] = {\n",
    "    'prefix': dataset + padding + scaling + 'keras_d128',\n",
    "    'type'  : 'keras',\n",
    "    'def'   : CreateModel}"
   ]
  },
  {
   "cell_type": "markdown",
   "id": "6a2dd92e",
   "metadata": {},
   "source": [
    "#### d64"
   ]
  },
  {
   "cell_type": "code",
   "execution_count": null,
   "id": "bad10194",
   "metadata": {},
   "outputs": [],
   "source": [
    "def CreateModel(shape, nb_classes):\n",
    "    x = x_in = Input(shape, name=\"input\")\n",
    "    x = Dense(64, name=\"dense1\")(x)\n",
    "    x = keras.layers.BatchNormalization()(x)\n",
    "    x = Activation(\"relu\", name=\"relu1\")(x)\n",
    "    x = Dense(3, name=\"dense2\")(x)\n",
    "    x = Activation(\"linear\", name=\"linear\")(x)\n",
    "    model = Model(inputs=x_in, outputs=x)\n",
    "    return model\n",
    "\n",
    "models['d64'] = {\n",
    "    'prefix': dataset + padding + scaling + 'keras_d64',\n",
    "    'type'  : 'keras',\n",
    "    'def'   : CreateModel}"
   ]
  },
  {
   "cell_type": "markdown",
   "id": "2abd24f3",
   "metadata": {},
   "source": [
    "#### d60"
   ]
  },
  {
   "cell_type": "code",
   "execution_count": null,
   "id": "798ce1e2",
   "metadata": {},
   "outputs": [],
   "source": [
    "def CreateModel(shape, nb_classes):\n",
    "    x = x_in = Input(shape, name=\"input\")\n",
    "    x = Dense(60, name=\"dense1\")(x)\n",
    "    x = keras.layers.BatchNormalization()(x)\n",
    "    x = Activation(\"relu\", name=\"relu1\")(x)\n",
    "    x = Dense(3, name=\"dense2\")(x)\n",
    "    x = Activation(\"linear\", name=\"linear\")(x)\n",
    "    model = Model(inputs=x_in, outputs=x)\n",
    "    return model\n",
    "\n",
    "models['d60'] = {\n",
    "    'prefix': dataset + padding + scaling + 'keras_d60',\n",
    "    'type'  : 'keras',\n",
    "    'def'   : CreateModel}"
   ]
  },
  {
   "cell_type": "markdown",
   "id": "2071f153",
   "metadata": {},
   "source": [
    "#### d58"
   ]
  },
  {
   "cell_type": "code",
   "execution_count": null,
   "id": "54e6f068",
   "metadata": {},
   "outputs": [],
   "source": [
    "def CreateModel(shape, nb_classes):\n",
    "    x = x_in = Input(shape, name=\"input\")\n",
    "    x = Dense(58, name=\"dense1\")(x)\n",
    "    x = keras.layers.BatchNormalization()(x)\n",
    "    x = Activation(\"relu\", name=\"relu1\")(x)\n",
    "    x = Dense(3, name=\"dense2\")(x)\n",
    "    x = Activation(\"linear\", name=\"linear\")(x)\n",
    "    model = Model(inputs=x_in, outputs=x)\n",
    "    return model\n",
    "\n",
    "models['d58'] = {\n",
    "    'prefix': dataset + padding + scaling + 'keras_d58',\n",
    "    'type'  : 'keras',\n",
    "    'def'   : CreateModel}"
   ]
  },
  {
   "cell_type": "markdown",
   "id": "faf9fd83",
   "metadata": {},
   "source": [
    "### Model create and summary"
   ]
  },
  {
   "cell_type": "markdown",
   "id": "7d14e3b8",
   "metadata": {},
   "source": [
    "Show the dictionary of models"
   ]
  },
  {
   "cell_type": "code",
   "execution_count": null,
   "id": "7f978da2",
   "metadata": {},
   "outputs": [],
   "source": [
    "print_dictionary(models)"
   ]
  },
  {
   "cell_type": "markdown",
   "id": "a1769609",
   "metadata": {},
   "source": [
    "<p style=\"background-color:Yellow;\"><b>Choose a model for training and testing</b></p>\n"
   ]
  },
  {
   "cell_type": "code",
   "execution_count": null,
   "id": "e44c10a6",
   "metadata": {},
   "outputs": [],
   "source": [
    "#chosen_model = 'd64' # <<< PAY ATTENTION <<<\n",
    "#chosen_model = 'd60' # <<< PAY ATTENTION <<<\n",
    "chosen_model = 'd58' # <<< PAY ATTENTION <<<"
   ]
  },
  {
   "cell_type": "code",
   "execution_count": null,
   "id": "037bf14c",
   "metadata": {},
   "outputs": [],
   "source": [
    "model_prefix = models[chosen_model]['prefix']\n",
    "model_def = models[chosen_model]['def']\n",
    "model_type = models[chosen_model]['type']"
   ]
  },
  {
   "cell_type": "code",
   "execution_count": null,
   "id": "7b3813d9",
   "metadata": {},
   "outputs": [],
   "source": [
    "print(model_prefix)"
   ]
  },
  {
   "cell_type": "code",
   "execution_count": null,
   "id": "13cc8f74-2eea-47f4-982b-9cbcc0bf0dbe",
   "metadata": {
    "tags": []
   },
   "outputs": [],
   "source": [
    "print(y_train)"
   ]
  },
  {
   "cell_type": "code",
   "execution_count": null,
   "id": "42427723",
   "metadata": {},
   "outputs": [],
   "source": [
    "model = model_def(X_train.shape[1:], y_train.shape[-1])\n",
    "\n",
    "model.compile(optimizer=Adam(),\n",
    "              loss=keras.losses.SparseCategoricalCrossentropy(from_logits=True), # default from_logits=False\n",
    "              metrics=[keras.metrics.SparseCategoricalAccuracy()])\n",
    "\n",
    "model.summary()"
   ]
  },
  {
   "cell_type": "markdown",
   "id": "8fdb5cce",
   "metadata": {},
   "source": [
    "### Model training"
   ]
  },
  {
   "cell_type": "code",
   "execution_count": null,
   "id": "cddbaede",
   "metadata": {},
   "outputs": [],
   "source": [
    "train_and_save = True # <<< PAY ATTENTION <<<"
   ]
  },
  {
   "cell_type": "code",
   "execution_count": null,
   "id": "bed975c9",
   "metadata": {},
   "outputs": [],
   "source": [
    "model_file = 'models/' + model_prefix + 'model.h5'\n",
    "\n",
    "history = None\n",
    "if train_and_save:\n",
    "    es = EarlyStopping(monitor='val_loss',\n",
    "                       #monitor='val_sparse_categorical_accuracy', \n",
    "                       #mode='max', # don't minimize the accuracy!\n",
    "                       patience=20,\n",
    "                       restore_best_weights=True)\n",
    "\n",
    "    history = model.fit(X_train,\n",
    "                    y_train,\n",
    "                    callbacks=[es],\n",
    "                    epochs=150, \n",
    "                    batch_size=512,\n",
    "                    validation_split=0.2,\n",
    "                    shuffle=True,\n",
    "                    verbose=0)\n",
    "    \n",
    "    model.save(model_file)\n",
    "co = {}\n",
    "utils._add_supported_quantized_objects(co)\n",
    "model = tf.keras.models.load_model(model_file, custom_objects=co)"
   ]
  },
  {
   "cell_type": "markdown",
   "id": "e5cf6b82",
   "metadata": {},
   "source": [
    "### Model evaluation"
   ]
  },
  {
   "cell_type": "code",
   "execution_count": null,
   "id": "309677e8",
   "metadata": {},
   "outputs": [],
   "source": [
    "if train_and_save:\n",
    "    history_dict = history.history\n",
    "    loss_values = history_dict['loss'] \n",
    "    val_loss_values = history_dict['val_loss'] \n",
    "    epochs = range(1, len(loss_values) + 1) \n",
    "    plt.plot(epochs, loss_values, 'bo', label='Training loss')\n",
    "    plt.plot(epochs, val_loss_values, 'orange', label='Validation loss')\n",
    "    plt.title('Training and validation loss')\n",
    "    plt.xlabel('Epochs')\n",
    "    plt.ylabel('Loss')\n",
    "    plt.legend()\n",
    "    plt.savefig('images/' + model_prefix + '_loss.png')\n",
    "else:\n",
    "    from PIL import Image\n",
    "\n",
    "    img = Image.open('images/' + model_prefix + '_loss.png')\n",
    "    display(img)"
   ]
  },
  {
   "cell_type": "code",
   "execution_count": null,
   "id": "fe0ede71",
   "metadata": {},
   "outputs": [],
   "source": [
    "if train_and_save:\n",
    "    acc = history.history['sparse_categorical_accuracy']\n",
    "    val_acc = history.history['val_sparse_categorical_accuracy']\n",
    "    epochs = range(1, len(acc) + 1)\n",
    "    plt.plot(epochs, acc, 'bo', label='Training accuracy')\n",
    "    plt.plot(epochs, val_acc, 'orange', label='Validation accuracy')\n",
    "    plt.title('Training and validation accuracy')\n",
    "    plt.xlabel('Epochs')\n",
    "    plt.ylabel('Accuracy')\n",
    "    plt.legend()\n",
    "    #np.max(val_acc)\n",
    "    plt.savefig('images/' + model_prefix + '_accuracy.png')\n",
    "    plt.show()\n",
    "else:\n",
    "    from PIL import Image\n",
    "    #from os.path import exists\n",
    "\n",
    "    img = Image.open('images/' + model_prefix + '_accuracy.png')\n",
    "    display(img)"
   ]
  },
  {
   "cell_type": "code",
   "execution_count": null,
   "id": "94799472",
   "metadata": {},
   "outputs": [],
   "source": [
    "preds = model.predict(X_test) \n",
    "predictionsFiles = np.argmax(preds, axis=1)"
   ]
  },
  {
   "cell_type": "code",
   "execution_count": null,
   "id": "25c1ce01",
   "metadata": {},
   "outputs": [],
   "source": [
    "pd.DataFrame(predictionsFiles).to_csv('csv/' + model_prefix + '_predictionsFiles.csv', header='predict', index=False)"
   ]
  },
  {
   "cell_type": "code",
   "execution_count": null,
   "id": "0f2184f5",
   "metadata": {},
   "outputs": [],
   "source": [
    "pd.DataFrame(y_test).to_csv('csv/' + model_prefix + '_true.csv', header='true', index=False)"
   ]
  },
  {
   "cell_type": "code",
   "execution_count": null,
   "id": "e5c53c9b",
   "metadata": {
    "scrolled": true
   },
   "outputs": [],
   "source": [
    "score = model.evaluate(X_test, y_test, verbose=0)\n",
    "print(\"Test loss (Keras) {}: {}\".format(chosen_model, score[0]))\n",
    "print(\"Test accuracy (Keras) {}: {}\".format(chosen_model, score[1]))"
   ]
  },
  {
   "cell_type": "code",
   "execution_count": null,
   "id": "ef39357f",
   "metadata": {},
   "outputs": [],
   "source": [
    "from sklearn import datasets, svm, metrics\n",
    "disp = metrics.ConfusionMatrixDisplay.from_predictions(y_test, predictionsFiles)\n",
    "disp.figure_.suptitle(\"Multiclassifier Confusion Matrix\")\n",
    "print(f\"Confusion matrix:\\n{disp.confusion_matrix}\")\n",
    "plt.savefig('images/' + model_prefix + '_confusionMatrix.png')\n",
    "plt.show()"
   ]
  },
  {
   "cell_type": "markdown",
   "id": "1a907cd3",
   "metadata": {},
   "source": [
    "Besides ML accuracy, we can evaluate the model with a metric that is closer to the physical application. We use _the number of tracks that are greater of 1.0 GeV and that are correctly classified as high pT_."
   ]
  },
  {
   "cell_type": "code",
   "execution_count": null,
   "id": "54e39715-95f3-40b6-bfa3-a09bc82da029",
   "metadata": {
    "tags": []
   },
   "outputs": [],
   "source": [
    "#GeV_0_2, GeV_0_5, GeV_1_0, GeV_2_0 = get_number_of_tracks(dataset + scaling + model_type + '_' + chosen_model, pt_data)\n",
    "GeV_0_2, GeV_0_5, GeV_1_0, GeV_2_0 = [0, 0, 0, 0]"
   ]
  },
  {
   "cell_type": "code",
   "execution_count": null,
   "id": "f6af6431",
   "metadata": {},
   "outputs": [],
   "source": [
    "print('---')\n",
    "print('Number of tracks greater than')\n",
    "print('- 0.2GeV correctly classified as high pT:', GeV_0_2)\n",
    "print('- 0.5GeV correctly classified as high pT:', GeV_0_5)\n",
    "print('- 1.0GeV correctly classified as high pT:', GeV_1_0, '<<<')\n",
    "print('- 2.0GeV correctly classified as high pT:', GeV_2_0)\n",
    "print('---')"
   ]
  },
  {
   "cell_type": "markdown",
   "id": "c150ed9b",
   "metadata": {},
   "source": [
    "Summary of the results.\n",
    "\n",
    "The model **id** is a label of the kind `dataset_scale_mltype_mlmodel`:\n",
    "- `dataset` can be `ds7` (the original dataset) or `ds678` (the larger dataset with quantized 14th column)\n",
    "- `scale` can be `scaling` (use standard scaler) or `noscaling` (don't scale)\n",
    "- `mltype` can be `keras` (Keras), `qkeras` (QKeras), and `qkeras_foldbatchnorm` (QKeras + patch to fold batch normalization layer in the previous dense layer)\n",
    "- `mlmodel` can be `d128`, `d64`, etc."
   ]
  },
  {
   "cell_type": "code",
   "execution_count": null,
   "id": "6fdb4c28",
   "metadata": {},
   "outputs": [],
   "source": [
    "with pd.option_context('display.float_format', '{:0.4f}'.format):\n",
    "    data = pd.DataFrame([[model_prefix, score[0], score[1], GeV_0_2, GeV_0_5, GeV_1_0, GeV_2_0]], columns=[\"id\", \"loss\", \"accuracy\", \"nt_gev02\", \"nt_gev05\", \"nt_gev10\", \"nt_gev20\"])\n",
    "    display(data)"
   ]
  },
  {
   "cell_type": "markdown",
   "id": "5d71a583",
   "metadata": {},
   "source": [
    "Current and previous results"
   ]
  },
  {
   "cell_type": "code",
   "execution_count": null,
   "id": "a1323081",
   "metadata": {},
   "outputs": [],
   "source": [
    "results_filename = 'csv/results.csv'\n",
    "if train_and_save:\n",
    "    write_results(results_filename, model_prefix, score[0], score[1], GeV_0_2, GeV_0_5, GeV_1_0, GeV_2_0)"
   ]
  },
  {
   "cell_type": "code",
   "execution_count": null,
   "id": "3b597e6d",
   "metadata": {},
   "outputs": [],
   "source": [
    "print_results(results_filename)"
   ]
  },
  {
   "cell_type": "markdown",
   "id": "297de867",
   "metadata": {},
   "source": [
    "Average results so far"
   ]
  },
  {
   "cell_type": "code",
   "execution_count": null,
   "id": "e4c61112",
   "metadata": {},
   "outputs": [],
   "source": [
    "print_avg_results(results_filename)"
   ]
  },
  {
   "cell_type": "code",
   "execution_count": null,
   "id": "ac1ae0a2",
   "metadata": {},
   "outputs": [],
   "source": [
    "id_ordering = get_model_ids(lrange=[0, 1, 2, 3, 4, 5, 6, 7, 8, 9, 10, 11],\n",
    "                            srange=['noscaling'],\n",
    "                            mrange=[#'keras_d128',\n",
    "                                    #'qkeras_foldbatchnorm_d128w5a10',\n",
    "                                    #'hls4ml_qkeras_foldbatchnorm_d128w5a10',\n",
    "                                    #\n",
    "                                    #'keras_d64',\n",
    "                                    #'qkeras_foldbatchnorm_d64w5a10',\n",
    "                                    #'hls4ml_qkeras_foldbatchnorm_d64w5a10',\n",
    "                                    #'qkeras_foldbatchnorm_d64w4a8',\n",
    "                                    #'hls4ml_qkeras_foldbatchnorm_d64w4a8',\n",
    "                                    #\n",
    "                                    #'keras_d60',\n",
    "                                    #'qkeras_foldbatchnorm_d60w5a10',\n",
    "                                    #'hls4ml_qkeras_foldbatchnorm_d60w5a10',\n",
    "                                    #'qkeras_foldbatchnorm_d60w4a8',\n",
    "                                    #'hls4ml_qkeras_foldbatchnorm_d60w4a8',\n",
    "                                    #\n",
    "                                    'keras_d58',\n",
    "                                    #'qkeras_foldbatchnorm_d58w5a10',\n",
    "                                    #'hls4ml_qkeras_foldbatchnorm_d58w5a10',\n",
    "                                    'qkeras_foldbatchnorm_d58w4a8',\n",
    "                                    'hls4ml_qkeras_foldbatchnorm_d58w4a8',\n",
    "                                   ],\n",
    "                            reverse=True\n",
    "                           )"
   ]
  },
  {
   "cell_type": "code",
   "execution_count": null,
   "id": "ff3e2701",
   "metadata": {},
   "outputs": [],
   "source": [
    "plot_avg_results(results_filename, accuracy_th=0.76, tracks_th=0.9, id_ordering=id_ordering)"
   ]
  },
  {
   "cell_type": "code",
   "execution_count": null,
   "id": "e01acdb5-ebc1-4656-ab99-267510b5a779",
   "metadata": {},
   "outputs": [],
   "source": [
    "plot_pt_filter(local_id=local_id, \n",
    "               pt_data=pt_data,\n",
    "               label_k='Keras y-local = {}'.format(local_id), predict_data_k='csv/' + model_prefix + '_predictionsFiles.csv', true_data_k='csv/' + model_prefix + '_true.csv',\n",
    "               label_q=None, predict_data_q=None, true_data_q=None,\n",
    "               label_h=None, predict_data_h=None, true_data_h=None,\n",
    "               output_image='images/' + model_prefix + '_turnonCurve.png',\n",
    "               base_dir='.')"
   ]
  },
  {
   "cell_type": "markdown",
   "id": "273e1247",
   "metadata": {},
   "source": [
    "- Dataset:\n",
    "  - `ds7` is the `dataset 7`\n",
    "  - `ds7q` is `dataset 7` where we also quantized 14th column on 12 bins\n",
    "  - `ds8` is `dataset 8`\n",
    "  - `ds8q` is `dataset 8` where we also quantized 14th column on 12 bins\n",
    "  - `ds678q` is `dataset 6-7-8` where we also quantized 14th column on 12 bins\n",
    "- All of the dataset are non scaled (`noscaling`)\n",
    "- Model:\n",
    "  - `keras` use Keras\n",
    "  - `qkeras` use QKeras (quantized model)\n",
    "- If it says `foldbatchnorm` then we folded the Batch Normalization layer in the previous Dense layer"
   ]
  },
  {
   "cell_type": "markdown",
   "id": "d7ee7f4e",
   "metadata": {
    "tags": []
   },
   "source": [
    "## Model (QKeras)\n",
    "\n",
    "Mostly the same as the previous section, but now we are usin QKeras"
   ]
  },
  {
   "cell_type": "markdown",
   "id": "fc9b8b15",
   "metadata": {
    "tags": [],
    "toc-hr-collapsed": true
   },
   "source": [
    "### Model definition"
   ]
  },
  {
   "cell_type": "code",
   "execution_count": null,
   "id": "cd7f5006",
   "metadata": {},
   "outputs": [],
   "source": [
    "qmodels = {}"
   ]
  },
  {
   "cell_type": "markdown",
   "id": "dc8445a5",
   "metadata": {
    "tags": []
   },
   "source": [
    "#### qkeras-foldbatchnorm-d128w5a10"
   ]
  },
  {
   "cell_type": "code",
   "execution_count": null,
   "id": "dd870058",
   "metadata": {},
   "outputs": [],
   "source": [
    "# Fold BatchNormalization in QDense\n",
    "def CreateQModel(shape, nb_classes):\n",
    "    x = x_in = Input(shape, name=\"input1\")\n",
    "    x = QDenseBatchnorm(128,\n",
    "        kernel_quantizer=quantized_bits(5,0,alpha=1),\n",
    "        bias_quantizer=quantized_bits(5,0,alpha=1),\n",
    "        name=\"dense1\")(x)\n",
    "    x = QActivation(\"quantized_relu(10,0)\", name=\"relu1\")(x)\n",
    "    x = QDense(3,\n",
    "        kernel_quantizer=quantized_bits(5,0,alpha=1),\n",
    "        bias_quantizer=quantized_bits(5,0,alpha=1),\n",
    "        name=\"dense2\")(x)\n",
    "    x = Activation(\"linear\", name=\"linear\")(x)\n",
    "    model = Model(inputs=x_in, outputs=x)\n",
    "    return model\n",
    "\n",
    "qmodels['d128w5a10'] = {\n",
    "    'prefix': dataset + padding + scaling + 'qkeras_foldbatchnorm_d128w5a10',\n",
    "    'type'  : 'qkeras_foldbatchnorm',\n",
    "    'def'   : CreateQModel}"
   ]
  },
  {
   "cell_type": "markdown",
   "id": "82dbd855",
   "metadata": {
    "tags": []
   },
   "source": [
    "#### qkeras-foldbatchnorm-d128w4a8"
   ]
  },
  {
   "cell_type": "code",
   "execution_count": null,
   "id": "5440474e",
   "metadata": {},
   "outputs": [],
   "source": [
    "# Fold BatchNormalization in QDense\n",
    "def CreateQModel(shape, nb_classes):\n",
    "    x = x_in = Input(shape, name=\"input1\")\n",
    "    x = QDenseBatchnorm(128,\n",
    "        kernel_quantizer=quantized_bits(4,0,alpha=1),\n",
    "        bias_quantizer=quantized_bits(4,0,alpha=1),\n",
    "        name=\"dense1\")(x)\n",
    "    x = QActivation(\"quantized_relu(8,0)\", name=\"relu1\")(x)\n",
    "    x = QDense(3,\n",
    "        kernel_quantizer=quantized_bits(4,0,alpha=1),\n",
    "        bias_quantizer=quantized_bits(4,0,alpha=1),\n",
    "        name=\"dense2\")(x)\n",
    "    x = Activation(\"linear\", name=\"linear\")(x)\n",
    "    model = Model(inputs=x_in, outputs=x)\n",
    "    return model\n",
    "\n",
    "qmodels['d128w4a8'] = {\n",
    "    'prefix': dataset + padding + scaling + 'qkeras_foldbatchnorm_d128w4a8',\n",
    "    'type'  : 'qkeras_foldbatchnorm',\n",
    "    'def'   : CreateQModel}"
   ]
  },
  {
   "cell_type": "markdown",
   "id": "477c5227",
   "metadata": {
    "tags": []
   },
   "source": [
    "#### qkeras-foldbatchnorm-d64w5a10"
   ]
  },
  {
   "cell_type": "code",
   "execution_count": null,
   "id": "6c918f8c",
   "metadata": {},
   "outputs": [],
   "source": [
    "# Fold BatchNormalization in QDense\n",
    "def CreateQModel(shape, nb_classes):\n",
    "    x = x_in = Input(shape, name=\"input1\")\n",
    "    x = QDenseBatchnorm(64,\n",
    "        kernel_quantizer=quantized_bits(5,0,alpha=1),\n",
    "        bias_quantizer=quantized_bits(5,0,alpha=1),\n",
    "        name=\"dense1\")(x)\n",
    "    x = QActivation(\"quantized_relu(10,0)\", name=\"relu1\")(x)\n",
    "    x = QDense(3,\n",
    "        kernel_quantizer=quantized_bits(5,0,alpha=1),\n",
    "        bias_quantizer=quantized_bits(5,0,alpha=1),\n",
    "        name=\"dense2\")(x)\n",
    "    x = Activation(\"linear\", name=\"linear\")(x)\n",
    "    model = Model(inputs=x_in, outputs=x)\n",
    "    return model\n",
    "\n",
    "qmodels['d64w5a10'] = {\n",
    "    'prefix': dataset + padding + scaling + 'qkeras_foldbatchnorm_d64w5a10',\n",
    "    'type'  : 'qkeras_foldbatchnorm',\n",
    "    'def'   : CreateQModel}"
   ]
  },
  {
   "cell_type": "markdown",
   "id": "210d9992",
   "metadata": {
    "tags": []
   },
   "source": [
    "#### qkeras-foldbatchnorm-d64w4a8"
   ]
  },
  {
   "cell_type": "code",
   "execution_count": null,
   "id": "eb278b12",
   "metadata": {},
   "outputs": [],
   "source": [
    "# Fold BatchNormalization in QDense\n",
    "def CreateQModel(shape, nb_classes):\n",
    "    x = x_in = Input(shape, name=\"input1\")\n",
    "    x = QDenseBatchnorm(64,\n",
    "        kernel_quantizer=quantized_bits(4,0,alpha=1),\n",
    "        bias_quantizer=quantized_bits(4,0,alpha=1),\n",
    "        name=\"dense1\")(x)\n",
    "    x = QActivation(\"quantized_relu(8,0)\", name=\"relu1\")(x)\n",
    "    x = QDense(3,\n",
    "        kernel_quantizer=quantized_bits(4,0,alpha=1),\n",
    "        bias_quantizer=quantized_bits(4,0,alpha=1),\n",
    "        name=\"dense2\")(x)\n",
    "    x = Activation(\"linear\", name=\"linear\")(x)\n",
    "    model = Model(inputs=x_in, outputs=x)\n",
    "    return model\n",
    "\n",
    "qmodels['d64w4a8'] = {\n",
    "    'prefix': dataset + padding + scaling + 'qkeras_foldbatchnorm_d64w4a8',\n",
    "    'type'  : 'qkeras_foldbatchnorm',\n",
    "    'def'   : CreateQModel}"
   ]
  },
  {
   "cell_type": "markdown",
   "id": "ac70467a",
   "metadata": {
    "tags": []
   },
   "source": [
    "#### qkeras-foldbatchnorm-d60w5a10"
   ]
  },
  {
   "cell_type": "code",
   "execution_count": null,
   "id": "23f1af22",
   "metadata": {},
   "outputs": [],
   "source": [
    "# Fold BatchNormalization in QDense\n",
    "def CreateQModel(shape, nb_classes):\n",
    "    x = x_in = Input(shape, name=\"input1\")\n",
    "    x = QDenseBatchnorm(60,\n",
    "        kernel_quantizer=quantized_bits(5,0,alpha=1),\n",
    "        bias_quantizer=quantized_bits(5,0,alpha=1),\n",
    "        name=\"dense1\")(x)\n",
    "    x = QActivation(\"quantized_relu(10,0)\", name=\"relu1\")(x)\n",
    "    x = QDense(3,\n",
    "        kernel_quantizer=quantized_bits(5,0,alpha=1),\n",
    "        bias_quantizer=quantized_bits(5,0,alpha=1),\n",
    "        name=\"dense2\")(x)\n",
    "    x = Activation(\"linear\", name=\"linear\")(x)\n",
    "    model = Model(inputs=x_in, outputs=x)\n",
    "    return model\n",
    "\n",
    "qmodels['d60w5a10'] = {\n",
    "    'prefix': dataset + padding + scaling + 'qkeras_foldbatchnorm_d60w5a10',\n",
    "    'type'  : 'qkeras_foldbatchnorm',\n",
    "    'def'   : CreateQModel}"
   ]
  },
  {
   "cell_type": "markdown",
   "id": "110e211b",
   "metadata": {
    "tags": []
   },
   "source": [
    "#### qkeras-foldbatchnorm-d60w4a8"
   ]
  },
  {
   "cell_type": "code",
   "execution_count": null,
   "id": "9a493db9",
   "metadata": {},
   "outputs": [],
   "source": [
    "# Fold BatchNormalization in QDense\n",
    "def CreateQModel(shape, nb_classes):\n",
    "    x = x_in = Input(shape, name=\"input1\")\n",
    "    x = QDenseBatchnorm(60,\n",
    "        kernel_quantizer=quantized_bits(4,0,alpha=1),\n",
    "        bias_quantizer=quantized_bits(4,0,alpha=1),\n",
    "        name=\"dense1\")(x)\n",
    "    x = QActivation(\"quantized_relu(8,0)\", name=\"relu1\")(x)\n",
    "    x = QDense(3,\n",
    "        kernel_quantizer=quantized_bits(4,0,alpha=1),\n",
    "        bias_quantizer=quantized_bits(4,0,alpha=1),\n",
    "        name=\"dense2\")(x)\n",
    "    x = Activation(\"linear\", name=\"linear\")(x)\n",
    "    model = Model(inputs=x_in, outputs=x)\n",
    "    return model\n",
    "\n",
    "qmodels['d60w4a8'] = {\n",
    "    'prefix': dataset + padding + scaling + 'qkeras_foldbatchnorm_d60w4a8',\n",
    "    'type'  : 'qkeras_foldbatchnorm',\n",
    "    'def'   : CreateQModel}"
   ]
  },
  {
   "cell_type": "markdown",
   "id": "7f9008b8",
   "metadata": {
    "tags": []
   },
   "source": [
    "#### qkeras-foldbatchnorm-d58w5a10"
   ]
  },
  {
   "cell_type": "code",
   "execution_count": null,
   "id": "5bade480",
   "metadata": {},
   "outputs": [],
   "source": [
    "# Fold BatchNormalization in QDense\n",
    "def CreateQModel(shape, nb_classes):\n",
    "    x = x_in = Input(shape, name=\"input1\")\n",
    "    x = QDenseBatchnorm(58,\n",
    "        kernel_quantizer=quantized_bits(5,0,alpha=1),\n",
    "        bias_quantizer=quantized_bits(5,0,alpha=1),\n",
    "        name=\"dense1\")(x)\n",
    "    x = QActivation(\"quantized_relu(10,0)\", name=\"relu1\")(x)\n",
    "    x = QDense(3,\n",
    "        kernel_quantizer=quantized_bits(5,0,alpha=1),\n",
    "        bias_quantizer=quantized_bits(5,0,alpha=1),\n",
    "        name=\"dense2\")(x)\n",
    "    x = Activation(\"linear\", name=\"linear\")(x)\n",
    "    model = Model(inputs=x_in, outputs=x)\n",
    "    return model\n",
    "\n",
    "qmodels['d58w5a10'] = {\n",
    "    'prefix': dataset + padding + scaling + 'qkeras_foldbatchnorm_d58w5a10',\n",
    "    'type'  : 'qkeras_foldbatchnorm',\n",
    "    'def'   : CreateQModel}"
   ]
  },
  {
   "cell_type": "markdown",
   "id": "daa1db1d",
   "metadata": {
    "tags": []
   },
   "source": [
    "#### qkeras-foldbatchnorm-d58w4a8"
   ]
  },
  {
   "cell_type": "code",
   "execution_count": null,
   "id": "df573f25",
   "metadata": {},
   "outputs": [],
   "source": [
    "# Fold BatchNormalization in QDense\n",
    "def CreateQModel(shape, nb_classes):\n",
    "    x = x_in = Input(shape, name=\"input1\")\n",
    "    \n",
    "    x = QDenseBatchnorm(58,\n",
    "      kernel_quantizer=quantized_bits(4,0,alpha=1),\n",
    "      bias_quantizer=quantized_bits(4,0,alpha=1),\n",
    "      name=\"dense1\")(x)\n",
    "    # x = QDense(58,\n",
    "    #      kernel_quantizer=quantized_bits(4,0,alpha=1),\n",
    "    #      bias_quantizer=quantized_bits(4,0,alpha=1),\n",
    "    #      name=\"dense1\")(x)\n",
    "    # x = keras.layers.BatchNormalization()(x)\n",
    "    \n",
    "    x = QActivation(\"quantized_relu(8,0)\", name=\"relu1\")(x)\n",
    "    x = QDense(3,\n",
    "        kernel_quantizer=quantized_bits(4,0,alpha=1),\n",
    "        bias_quantizer=quantized_bits(4,0,alpha=1),\n",
    "        name=\"dense2\")(x)\n",
    "    x = Activation(\"linear\", name=\"linear\")(x)\n",
    "    model = Model(inputs=x_in, outputs=x)\n",
    "    return model\n",
    "\n",
    "qmodels['d58w4a8'] = {\n",
    "    'prefix': dataset + padding + scaling + 'qkeras_foldbatchnorm_d58w4a8',\n",
    "    'type'  : 'qkeras_foldbatchnorm',\n",
    "    'def'   : CreateQModel}"
   ]
  },
  {
   "cell_type": "markdown",
   "id": "bc6b18a5",
   "metadata": {
    "tags": []
   },
   "source": [
    "### Model create and summary"
   ]
  },
  {
   "cell_type": "code",
   "execution_count": null,
   "id": "8f67e57a",
   "metadata": {},
   "outputs": [],
   "source": [
    "print_dictionary(qmodels)"
   ]
  },
  {
   "cell_type": "markdown",
   "id": "89c262c9",
   "metadata": {},
   "source": [
    "<p style=\"background-color:Yellow;\"><b>Choose a QKeras model for training and testing. Pay attention to the previously created model in Keras.</b></p>"
   ]
  },
  {
   "cell_type": "code",
   "execution_count": null,
   "id": "512b8b36",
   "metadata": {},
   "outputs": [],
   "source": [
    "print('Keras model:', chosen_model)"
   ]
  },
  {
   "cell_type": "code",
   "execution_count": null,
   "id": "0b652c4e",
   "metadata": {},
   "outputs": [],
   "source": [
    "#chosen_qmodel = 'd64w5a10'  # <<< PAY ATTENTION <<<\n",
    "#chosen_qmodel = 'd64w4a8'  # <<< PAY ATTENTION <<<\n",
    "#chosen_qmodel = 'd60w5a10'  # <<< PAY ATTENTION <<<\n",
    "#chosen_qmodel = 'd60w4a8'  # <<< PAY ATTENTION <<<\n",
    "#chosen_qmodel = 'd58w5a10'  # <<< PAY ATTENTION <<<\n",
    "chosen_qmodel = 'd58w4a8'  # <<< PAY ATTENTION <<<"
   ]
  },
  {
   "cell_type": "code",
   "execution_count": null,
   "id": "20c95f45",
   "metadata": {},
   "outputs": [],
   "source": [
    "qmodel_prefix = qmodels[chosen_qmodel]['prefix']\n",
    "qmodel_def = qmodels[chosen_qmodel]['def']\n",
    "qmodel_type = qmodels[chosen_qmodel]['type']"
   ]
  },
  {
   "cell_type": "code",
   "execution_count": null,
   "id": "1d8610bb",
   "metadata": {},
   "outputs": [],
   "source": [
    "model = qmodel_def(X_train.shape[1:], y_train.shape[-1])\n",
    "\n",
    "model.compile(optimizer=Adam(),\n",
    "              loss=keras.losses.SparseCategoricalCrossentropy(from_logits=True), # default from_logits=False\n",
    "              metrics=[keras.metrics.SparseCategoricalAccuracy()])\n",
    "\n",
    "model.summary()"
   ]
  },
  {
   "cell_type": "markdown",
   "id": "6bd850c3",
   "metadata": {},
   "source": [
    "### Model training"
   ]
  },
  {
   "cell_type": "code",
   "execution_count": null,
   "id": "c619c9c0",
   "metadata": {},
   "outputs": [],
   "source": [
    "train_and_save = True # <<< PAY ATTENTION <<<"
   ]
  },
  {
   "cell_type": "code",
   "execution_count": null,
   "id": "4720ce89-2eae-4016-a7c2-955ae4bbaae9",
   "metadata": {
    "scrolled": true
   },
   "outputs": [],
   "source": [
    "from qkeras.utils import model_save_quantized_weights\n",
    "\n",
    "model_file = 'models/' + qmodel_prefix + 'model.h5'\n",
    "model_q_weights_file = 'models/' + qmodel_prefix + 'model_q_weights.h5'\n",
    "\n",
    "history = None\n",
    "if train_and_save:\n",
    "    es = EarlyStopping(monitor='val_loss',\n",
    "                       #monitor='val_sparse_categorical_accuracy', \n",
    "                       #mode='max', # don't minimize the accuracy!\n",
    "                       patience=20,\n",
    "                       restore_best_weights=True)\n",
    "\n",
    "    history = model.fit(X_train,\n",
    "                    y_train,\n",
    "                    callbacks=[es],\n",
    "                    epochs=150, \n",
    "                    batch_size=1024,\n",
    "                    validation_split=0.2,\n",
    "                    shuffle=True,\n",
    "                    verbose=0)\n",
    "    \n",
    "    model_save_quantized_weights(model, model_q_weights_file)\n",
    "    model.save(model_file)\n",
    "    print('Save:', model_file)\n",
    "    print('Save:', model_q_weights_file)\n",
    "\n",
    "co = {}\n",
    "utils._add_supported_quantized_objects(co)\n",
    "model = tf.keras.models.load_model(model_file, custom_objects=co)"
   ]
  },
  {
   "cell_type": "raw",
   "id": "19db391b",
   "metadata": {},
   "source": [
    "from keras_sequential_ascii import keras2ascii\n",
    "keras2ascii(model)"
   ]
  },
  {
   "cell_type": "markdown",
   "id": "f2a04ec9",
   "metadata": {},
   "source": [
    "### Model evaluation"
   ]
  },
  {
   "cell_type": "code",
   "execution_count": null,
   "id": "0bb4c82a-85d8-4e6c-9396-5ea7ec79e0c4",
   "metadata": {},
   "outputs": [],
   "source": [
    "if train_and_save:\n",
    "    history_dict = history.history\n",
    "    loss_values = history_dict['loss'] \n",
    "    val_loss_values = history_dict['val_loss'] \n",
    "    epochs = range(1, len(loss_values) + 1) \n",
    "    plt.plot(epochs, loss_values, 'bo', label='Training loss')\n",
    "    plt.plot(epochs, val_loss_values, 'orange', label='Validation loss')\n",
    "    plt.title('Training and validation loss')\n",
    "    plt.xlabel('Epochs')\n",
    "    plt.ylabel('Loss')\n",
    "    plt.legend()\n",
    "    plt.savefig('images/' + qmodel_prefix + '_loss.png')\n",
    "else:\n",
    "    from PIL import Image\n",
    "\n",
    "    img = Image.open('images/' + qmodel_prefix + '_loss.png')\n",
    "    display(img)"
   ]
  },
  {
   "cell_type": "code",
   "execution_count": null,
   "id": "0c4da634-9a07-4808-93f1-afc1428c08d2",
   "metadata": {},
   "outputs": [],
   "source": [
    "if train_and_save:\n",
    "    acc = history.history['sparse_categorical_accuracy']\n",
    "    val_acc = history.history['val_sparse_categorical_accuracy']\n",
    "    epochs = range(1, len(acc) + 1)\n",
    "    plt.plot(epochs, acc, 'bo', label='Training accuracy')\n",
    "    plt.plot(epochs, val_acc, 'orange', label='Validation accuracy')\n",
    "    plt.title('Training and validation accuracy')\n",
    "    plt.xlabel('Epochs')\n",
    "    plt.ylabel('Accuracy')\n",
    "    plt.legend()\n",
    "    #np.max(val_acc)\n",
    "    plt.savefig('images/' + qmodel_prefix + '_accuracy.png')\n",
    "    plt.show()\n",
    "else:\n",
    "    from PIL import Image\n",
    "    #from os.path import exists\n",
    "\n",
    "    img = Image.open('images/' + qmodel_prefix + '_accuracy.png')\n",
    "    display(img)"
   ]
  },
  {
   "cell_type": "code",
   "execution_count": null,
   "id": "1378681c-a72c-4380-84bd-9fcf5b782038",
   "metadata": {},
   "outputs": [],
   "source": [
    "preds = model.predict(X_test) \n",
    "predictionsFiles = np.argmax(preds, axis=1)"
   ]
  },
  {
   "cell_type": "raw",
   "id": "9e22a93b",
   "metadata": {},
   "source": [
    "predictionsFiles"
   ]
  },
  {
   "cell_type": "code",
   "execution_count": null,
   "id": "091327bd-28ed-4570-8f00-9315e209bf7e",
   "metadata": {},
   "outputs": [],
   "source": [
    "pd.DataFrame(predictionsFiles).to_csv(\"csv/\" + qmodel_prefix + \"_predictionsFiles.csv\", header='predict', index=False)"
   ]
  },
  {
   "cell_type": "code",
   "execution_count": null,
   "id": "5fa23cc3-3f30-4cd4-85e5-ae6064869378",
   "metadata": {},
   "outputs": [],
   "source": [
    "pd.DataFrame(y_test).to_csv(\"csv/\" + qmodel_prefix + \"_true.csv\", header='true', index=False)"
   ]
  },
  {
   "cell_type": "code",
   "execution_count": null,
   "id": "caf53631-bfae-4276-9400-30bbf6bc5490",
   "metadata": {},
   "outputs": [],
   "source": [
    "score = model.evaluate(X_test, y_test, verbose=0)\n",
    "print(\"Test loss (QKeras) {}: {}\".format(chosen_model, score[0]))\n",
    "print(\"Test accuracy (QKeras) {}: {}\".format(chosen_model, score[1]))"
   ]
  },
  {
   "cell_type": "code",
   "execution_count": null,
   "id": "9edf8385-5618-4176-aba4-f1fc0c459df7",
   "metadata": {},
   "outputs": [],
   "source": [
    "from sklearn import datasets, svm, metrics\n",
    "disp = metrics.ConfusionMatrixDisplay.from_predictions(y_test, predictionsFiles)\n",
    "disp.figure_.suptitle(\"Multiclassifier Confusion Matrix\")\n",
    "print(f\"Confusion matrix:\\n{disp.confusion_matrix}\")\n",
    "plt.savefig('images/' + qmodel_prefix + '_confusionMatrix.png')\n",
    "plt.show()"
   ]
  },
  {
   "cell_type": "code",
   "execution_count": null,
   "id": "14c4f813-0f03-43e6-baa0-0741630f6cee",
   "metadata": {
    "tags": []
   },
   "outputs": [],
   "source": [
    "#GeV_0_2, GeV_0_5, GeV_1_0, GeV_2_0 = get_number_of_tracks(dataset + scaling + qmodel_type + '_' + chosen_qmodel, pt_data)\n",
    "GeV_0_2, GeV_0_5, GeV_1_0, GeV_2_0 = [0, 0, 0, 0]"
   ]
  },
  {
   "cell_type": "code",
   "execution_count": null,
   "id": "e366f25b",
   "metadata": {},
   "outputs": [],
   "source": [
    "print('---')\n",
    "print('Number of tracks greater than')\n",
    "print('- 0.2GeV correctly classified as high pT:', GeV_0_2)\n",
    "print('- 0.5GeV correctly classified as high pT:', GeV_0_5)\n",
    "print('- 1.0GeV correctly classified as high pT:', GeV_1_0)\n",
    "print('- 2.0GeV correctly classified as high pT:', GeV_2_0)\n",
    "print('---')"
   ]
  },
  {
   "cell_type": "code",
   "execution_count": null,
   "id": "c8139f58",
   "metadata": {},
   "outputs": [],
   "source": [
    "with pd.option_context('display.float_format', '{:0.4f}'.format):\n",
    "    data = pd.DataFrame([[qmodel_prefix, score[0], score[1], GeV_0_2, GeV_0_5, GeV_1_0, GeV_2_0]], columns=[\"id\", \"loss\", \"accuracy\", \"nt_gev02\", \"nt_gev05\", \"nt_gev10\", \"nt_gev20\"])\n",
    "    display(data)"
   ]
  },
  {
   "cell_type": "code",
   "execution_count": null,
   "id": "f12caa7b",
   "metadata": {},
   "outputs": [],
   "source": [
    "results_filename = 'csv/results.csv'\n",
    "if train_and_save:\n",
    "    write_results(results_filename, qmodel_prefix, score[0], score[1], GeV_0_2, GeV_0_5, GeV_1_0, GeV_2_0)"
   ]
  },
  {
   "cell_type": "code",
   "execution_count": null,
   "id": "f139a820",
   "metadata": {},
   "outputs": [],
   "source": [
    "print_results(results_filename)"
   ]
  },
  {
   "cell_type": "code",
   "execution_count": null,
   "id": "f6ec8b5f",
   "metadata": {},
   "outputs": [],
   "source": [
    "print_avg_results(results_filename)"
   ]
  },
  {
   "cell_type": "code",
   "execution_count": null,
   "id": "e872afbf",
   "metadata": {},
   "outputs": [],
   "source": [
    "id_ordering = get_model_ids(lrange=range(12),\n",
    "                            srange=['noscaling'],\n",
    "                            mrange=[#'keras_d128',\n",
    "                                    #'qkeras_foldbatchnorm_d128w5a10',\n",
    "                                    #'hls4ml_qkeras_foldbatchnorm_d128w5a10',\n",
    "                                    #\n",
    "                                    #'keras_d64',\n",
    "                                    #'qkeras_foldbatchnorm_d64w5a10',\n",
    "                                    #'hls4ml_qkeras_foldbatchnorm_d64w5a10',\n",
    "                                    #'qkeras_foldbatchnorm_d64w4a8',\n",
    "                                    #'hls4ml_qkeras_foldbatchnorm_d64w4a8',\n",
    "                                    #\n",
    "                                    #'keras_d60',\n",
    "                                    #'qkeras_foldbatchnorm_d60w5a10',\n",
    "                                    #'hls4ml_qkeras_foldbatchnorm_d60w5a10',\n",
    "                                    #'qkeras_foldbatchnorm_d60w4a8',\n",
    "                                    #'hls4ml_qkeras_foldbatchnorm_d60w4a8',\n",
    "                                    #\n",
    "                                    #'keras_d58',\n",
    "                                    #'qkeras_foldbatchnorm_d58w5a10',\n",
    "                                    #'hls4ml_qkeras_foldbatchnorm_d58w5a10',\n",
    "                                    'qkeras_foldbatchnorm_d58w4a8',\n",
    "                                    'hls4ml_qkeras_foldbatchnorm_d58w4a8',\n",
    "                                   ],\n",
    "                            reverse=True\n",
    "                           )"
   ]
  },
  {
   "cell_type": "code",
   "execution_count": null,
   "id": "4c52633a",
   "metadata": {},
   "outputs": [],
   "source": [
    "plot_avg_results(results_filename, accuracy_th=0.76, tracks_th=0.9, id_ordering=id_ordering)"
   ]
  },
  {
   "cell_type": "code",
   "execution_count": null,
   "id": "9de5e049-5c78-49de-a9a1-9ebd9c746254",
   "metadata": {},
   "outputs": [],
   "source": [
    "plot_pt_filter(local_id=local_id, \n",
    "               pt_data=pt_data,\n",
    "               label_k='Keras y-local = {}'.format(local_id), predict_data_k='csv/' + model_prefix + '_predictionsFiles.csv', true_data_k='csv/' + model_prefix + '_true.csv',\n",
    "               label_q='QKeras y-local = {}'.format(local_id), predict_data_q='csv/' + qmodel_prefix + '_predictionsFiles.csv', true_data_q='csv/' + qmodel_prefix + '_true.csv',\n",
    "               label_h=None, predict_data_h=None, true_data_h=None,\n",
    "               output_image='images/' + model_prefix + '_turnonCurve.png',\n",
    "               base_dir='.')"
   ]
  },
  {
   "cell_type": "raw",
   "id": "0a79835b",
   "metadata": {},
   "source": [
    "- Dataset:\n",
    "  - `ds7` is the `dataset 7`\n",
    "  - `ds7q` is `dataset 7` where we also quantized 14th column on 12 bins\n",
    "  - `ds8` is `dataset 8`\n",
    "  - `ds8q` is `dataset 8` where we also quantized 14th column on 12 bins\n",
    "  - `ds678q` is `dataset 6-7-8` where we also quantized 14th column on 12 bins\n",
    "- All of the dataset are non scaled (`noscaling`)\n",
    "- Model:\n",
    "  - `keras` use Keras\n",
    "  - `qkeras` use QKeras (quantized model)\n",
    "- If it says `foldbatchnorm` then we folded the Batch Normalization layer in the previous Dense layer"
   ]
  },
  {
   "cell_type": "markdown",
   "id": "d4dec2f6",
   "metadata": {
    "tags": []
   },
   "source": [
    "## Hardware translation"
   ]
  },
  {
   "cell_type": "raw",
   "id": "426f59e4-06c3-49f6-9347-3a4edc848088",
   "metadata": {
    "tags": []
   },
   "source": [
    "np.savetxt('tb_input_features.dat', np.array(X_test, dtype='int32'), fmt='%d')\n",
    "np.savetxt('tb_output_predictions.dat', np.array(y_test, dtype='int32'), fmt='%d')"
   ]
  },
  {
   "cell_type": "markdown",
   "id": "c480711c",
   "metadata": {
    "tags": [],
    "toc-hr-collapsed": true
   },
   "source": [
    "### hls4ml configuration"
   ]
  },
  {
   "cell_type": "markdown",
   "id": "f8f53536",
   "metadata": {},
   "source": [
    "#### Setup"
   ]
  },
  {
   "cell_type": "code",
   "execution_count": null,
   "id": "fe95fdbb",
   "metadata": {},
   "outputs": [],
   "source": [
    "import hls4ml\n",
    "import plotting\n",
    "\n",
    "hmodel_prefix = dataset + padding + scaling + 'hls4ml_' + qmodel_type + '_' + chosen_qmodel"
   ]
  },
  {
   "cell_type": "code",
   "execution_count": null,
   "id": "5bd934a0",
   "metadata": {},
   "outputs": [],
   "source": [
    "print('------------------------------------')\n",
    "print(hmodel_prefix)\n",
    "print('------------------------------------')"
   ]
  },
  {
   "cell_type": "code",
   "execution_count": null,
   "id": "a85c18fb",
   "metadata": {},
   "outputs": [],
   "source": [
    "print('hls4ml ver.', hls4ml.__version__)"
   ]
  },
  {
   "cell_type": "code",
   "execution_count": null,
   "id": "b45fffa5",
   "metadata": {},
   "outputs": [],
   "source": [
    "import os\n",
    "os.environ['PATH'] = '/fpga/cad/xilinx/Vivado/2019.2/bin:' + os.environ['PATH']\n",
    "def is_tool(name):\n",
    "    from distutils.spawn import find_executable\n",
    "    return find_executable(name) is not None\n",
    "\n",
    "print('-----------------------------------')\n",
    "if not is_tool('vivado_hls'):\n",
    "    print('Xilinx Vivado HLS is NOT in the PATH')\n",
    "else:\n",
    "    print('Xilinx Vivado HLS is in the PATH')\n",
    "print('-----------------------------------')"
   ]
  },
  {
   "cell_type": "code",
   "execution_count": null,
   "id": "f8b1494d-21fe-4c42-a876-81d455466e12",
   "metadata": {
    "tags": []
   },
   "outputs": [],
   "source": [
    "import os\n",
    "\n",
    "print('-----------------------------------')\n",
    "if os.environ.get('MGC_HOME') is not None and is_tool('catapult'):\n",
    "    print('Siemens Catapult HLS is configured')\n",
    "else:\n",
    "    print('Siemens Catapult HLS is NOT configured')\n",
    "print('-----------------------------------')"
   ]
  },
  {
   "cell_type": "code",
   "execution_count": null,
   "id": "35b63263",
   "metadata": {},
   "outputs": [],
   "source": [
    "input_size = 6"
   ]
  },
  {
   "cell_type": "code",
   "execution_count": null,
   "id": "4e0ff7bb",
   "metadata": {
    "tags": []
   },
   "outputs": [],
   "source": [
    "hls4ml.model.optimizer.get_optimizer('output_rounding_saturation_mode').configure(\n",
    "    layers=['Activation'],\n",
    "    rounding_mode='AP_RND_CONV',\n",
    "    saturation_mode='AP_SAT')\n",
    "\n",
    "hconfig = hls4ml.utils.config_from_keras_model(model, granularity='name')\n",
    "\n",
    "# programmable weights (weights on the interface)\n",
    "hconfig[\"Model\"][\"BramFactor\"] = 0\n",
    "\n",
    "# set bitwidth of the input features\n",
    "hconfig['LayerName']['input1']['Precision']['result'] = 'ufixed<' + str(input_size) + ',' + str(input_size) + '>'\n",
    "\n",
    "# enable tracing\n",
    "for layer in hconfig['LayerName'].keys():\n",
    "    hconfig['LayerName'][layer]['Trace'] = True\n",
    "\n",
    "# hls4ml.model.optimizer.OutputRoundingSaturationMode.layers = ['Activation']\n",
    "# hls4ml.model.optimizer.OutputRoundingSaturationMode.rounding_mode = 'AP_RND'\n",
    "# hls4ml.model.optimizer.OutputRoundingSaturationMode.saturation_mode = 'AP_SAT'\n",
    "#hconfig['Model']['Precision'] = 'ap_fixed<16,8>'\n",
    "# Dense\n",
    "#hconfig['LayerName']['dense1']['accum_t'] = 'ap_fixed<8,5>'\n",
    "#hconfig['LayerName']['dense1']['Precision']['result'] = 'ap_fixed<8,5>'\n",
    "#hconfig['LayerName']['dense1']['Precision']['default'] = 'ap_fixed<8,5>'\n",
    "# ReLU\n",
    "#hconfig['LayerName']['relu1']['Precision']['result'] = 'ap_fixed<8,0,AC_RND_CONV,AC_SAT>'\n",
    "# Dense\n",
    "#hconfig['LayerName']['dense2']['accum_t'] = 'ap_fixed<10,6>'\n",
    "#hconfig['LayerName']['dense2']['Precision']['result'] = 'ap_fixed<10,6>'\n",
    "# SoftMax\n",
    "#hconfig['LayerName']['softmax']['Precision'] = 'ap_fixed<128,64>'\n",
    "#hconfig['LayerName']['softmax']['exp_table_t'] = 'ap_fixed<18,8>'\n",
    "#hconfig['LayerName']['softmax']['inv_table_t'] = 'ap_fixed<18,4>'\n",
    "#hconfig['LayerName']['softmax']['Precision'] = 'ap_fixed<16,6>'\n",
    "# Required for the folding of BatchNormalization\n",
    "#hconfig['SkipOptimizers'] = ['propagate_dense_precision']    \n",
    "#hconfig['LayerName']['dense1_linear']['Trace'] = True\n",
    "#hconfig['LayerName']['dense2_linear']['Trace'] = True"
   ]
  },
  {
   "cell_type": "markdown",
   "id": "d7705fd5",
   "metadata": {},
   "source": [
    "#### Convert"
   ]
  },
  {
   "cell_type": "code",
   "execution_count": null,
   "id": "01abd0ad",
   "metadata": {},
   "outputs": [],
   "source": [
    "plotting.print_dict(hconfig)"
   ]
  },
  {
   "cell_type": "code",
   "execution_count": null,
   "id": "e4f3a420-e32f-438c-a73b-57a3f761a5f1",
   "metadata": {
    "tags": []
   },
   "outputs": [],
   "source": [
    "!rm -rf $hmodel_prefix\\_$run_id\\_catapult_prj*"
   ]
  },
  {
   "cell_type": "code",
   "execution_count": null,
   "id": "21b99051",
   "metadata": {},
   "outputs": [],
   "source": [
    "hmodel = hls4ml.converters.convert_from_keras_model(model,\n",
    "                                                    clock_period=10.0,\n",
    "                                                    hls_config=hconfig,\n",
    "                                                    output_dir=hmodel_prefix + '_' + str(run_id) + '_catapult_prj',\n",
    "                                                    backend='Catapult',\n",
    "                                                    #output_dir=hmodel_prefix + '_' + str(run_id) + '_vivado_prj',\n",
    "                                                    #backend='Vivado',\n",
    "                                                    part='XC7A100T')"
   ]
  },
  {
   "cell_type": "code",
   "execution_count": null,
   "id": "5570d6dd",
   "metadata": {},
   "outputs": [],
   "source": [
    "hls4ml.utils.plot_model(hmodel, show_shapes=True, show_precision=True, to_file='model.png')"
   ]
  },
  {
   "cell_type": "markdown",
   "id": "01e86dd8",
   "metadata": {},
   "source": [
    "### Bit-accurate simulation"
   ]
  },
  {
   "cell_type": "code",
   "execution_count": null,
   "id": "7fec9677",
   "metadata": {},
   "outputs": [],
   "source": [
    "hpreds, htrace = hmodel.trace(np.ascontiguousarray(X_test.astype(float)))"
   ]
  },
  {
   "cell_type": "raw",
   "id": "7db6520c-2fd3-4a71-a03d-0f47f1ad9a25",
   "metadata": {
    "tags": []
   },
   "source": [
    "print(htrace.keys())"
   ]
  },
  {
   "cell_type": "code",
   "execution_count": null,
   "id": "6f6faef5",
   "metadata": {},
   "outputs": [],
   "source": [
    "trace = hls4ml.model.profiling.get_ymodel_keras(model, X_test)"
   ]
  },
  {
   "cell_type": "raw",
   "id": "8a0b0bd3-b8a1-46cc-9365-940bd672813d",
   "metadata": {
    "tags": []
   },
   "source": [
    "print(trace['dense1'][0])\n",
    "print(htrace['dense1'][0])"
   ]
  },
  {
   "cell_type": "code",
   "execution_count": null,
   "id": "467c2902",
   "metadata": {},
   "outputs": [],
   "source": [
    "for layer in htrace.keys():\n",
    "    plt.figure()\n",
    "    klayer = layer\n",
    "    if '_alpha' in layer:\n",
    "        klayer = layer.replace('_alpha', '')\n",
    "    if 'dense1_linear' in layer:\n",
    "        continue\n",
    "    if 'dense2_linear' in layer:\n",
    "        continue\n",
    "    plt.scatter(htrace[layer].flatten(), trace[klayer].flatten(), s=0.2)\n",
    "    min_x = min(np.amin(htrace[layer]), np.amin(trace[klayer]))\n",
    "    max_x = max(np.amax(htrace[layer]), np.amax(trace[klayer]))\n",
    "    plt.plot([min_x, max_x], [min_x, max_x], c='gray')\n",
    "    plt.xlabel('hls4ml {}'.format(layer))\n",
    "    plt.ylabel('QKeras {}'.format(klayer))\n",
    "    plt.savefig(os.path.join(hmodel_prefix + '_' + str(run_id) + '_catapult_prj', 'profiling_{}.png'.format(layer)), dpi=300)"
   ]
  },
  {
   "cell_type": "markdown",
   "id": "be404394",
   "metadata": {},
   "source": [
    "### Model evaluation"
   ]
  },
  {
   "cell_type": "code",
   "execution_count": null,
   "id": "f6c3675a",
   "metadata": {},
   "outputs": [],
   "source": [
    "for layer in hconfig['LayerName'].keys():\n",
    "    hconfig['LayerName'][layer]['Trace'] = False\n",
    "\n",
    "hmodel = hls4ml.converters.convert_from_keras_model(model,\n",
    "                                                    clock_period=10.0,\n",
    "                                                    hls_config=hconfig,\n",
    "                                                    output_dir=hmodel_prefix + '_' + str(run_id) + '_catapult_prj',\n",
    "                                                    backend='Catapult',\n",
    "                                                    #output_dir=hmodel_prefix + '_' + str(run_id) + '_vivado_prj',\n",
    "                                                    #backend='Vivado',\n",
    "                                                    part='XC7A100T')\n",
    "\n",
    "hmodel.compile()"
   ]
  },
  {
   "cell_type": "code",
   "execution_count": null,
   "id": "40426bc6",
   "metadata": {},
   "outputs": [],
   "source": [
    "hpreds = hmodel.predict(np.ascontiguousarray(X_test.astype(float)))\n",
    "np.savetxt('tb_output_predictions_hw.dat', hpreds, fmt='%f')\n",
    "\n",
    "predictionsFiles = np.argmax(hpreds, axis=1)\n",
    "pd.DataFrame(predictionsFiles).to_csv(\"csv/\" + hmodel_prefix + \"_predictionsFiles.csv\", header='predict', index=False)\n",
    "pd.DataFrame(y_test).to_csv('csv/' + hmodel_prefix + '_true.csv', header='true', index=False)"
   ]
  },
  {
   "cell_type": "code",
   "execution_count": null,
   "id": "e845ffe6",
   "metadata": {},
   "outputs": [],
   "source": [
    "from sklearn.metrics import accuracy_score\n",
    "print('-----------------------------------')\n",
    "print(\"QKeras accuracy: {:.4f}%\".format(100*accuracy_score(np.argmax(y_test_oh.values, axis=1), np.argmax(preds, axis=1))))\n",
    "print(\"hls4ml accuracy: {:.4f}%\".format(100*accuracy_score(np.argmax(y_test_oh.values, axis=1), np.argmax(hpreds, axis=1))))\n",
    "print('-----------------------------------')"
   ]
  },
  {
   "cell_type": "code",
   "execution_count": null,
   "id": "2e779a35",
   "metadata": {},
   "outputs": [],
   "source": [
    "hls4ml_accuracy = accuracy_score(np.argmax(y_test_oh.values, axis=1), np.argmax(hpreds, axis=1))"
   ]
  },
  {
   "cell_type": "raw",
   "id": "5ed64d9b-0b94-4335-8174-82144a9f1c99",
   "metadata": {},
   "source": [
    "for i in range(5):\n",
    "    print('X[{}], {}'.format(i, X_test[i]))\n",
    "    print('golden y[{}]'.format(i), y_test[i])\n",
    "    print('onehot y[{}]'.format(i), y_test_oh.values[i])\n",
    "    print('QKeras y[{}]'.format(i), preds[i])\n",
    "    print('hls4ml y[{}]'.format(i), hpreds[i])\n",
    "    print()"
   ]
  },
  {
   "cell_type": "raw",
   "id": "78588bfd-b28f-4ca7-b6cf-2787f9416898",
   "metadata": {},
   "source": [
    "display_side_by_side(pd.DataFrame(X_test[:5]), titles=['Scaled input'])"
   ]
  },
  {
   "cell_type": "raw",
   "id": "f1835b02-8b53-4b0c-b69e-5efe33be7478",
   "metadata": {},
   "source": [
    "display_side_by_side(pd.DataFrame(y_test[:5]),\n",
    "                     pd.DataFrame(y_test_oh[:5]),\n",
    "                     pd.DataFrame(preds[:5]),\n",
    "                     pd.DataFrame(hpreds[:5]),\n",
    "                     titles=['Expected prediction','Expected prediction (one-hot enc.)', 'QKeras prediction', 'hls4ml prediction'])"
   ]
  },
  {
   "cell_type": "code",
   "execution_count": null,
   "id": "0704fbf9-8064-479b-8af0-39d265b55f7b",
   "metadata": {
    "tags": []
   },
   "outputs": [],
   "source": [
    "GeV_0_2, GeV_0_5, GeV_1_0, GeV_2_0 = get_number_of_tracks(dataset + padding + scaling + 'hls4ml_' + qmodel_type + '_' + chosen_qmodel, pt_data)"
   ]
  },
  {
   "cell_type": "code",
   "execution_count": null,
   "id": "bc1a4ae4",
   "metadata": {},
   "outputs": [],
   "source": [
    "with pd.option_context('display.float_format', '{:0.4f}'.format):\n",
    "    data = pd.DataFrame([[hmodel_prefix, 0, hls4ml_accuracy, GeV_0_2, GeV_0_5, GeV_1_0, GeV_2_0]], columns=[\"id\", \"loss\", \"accuracy\", \"nt_gev02\", \"nt_gev05\", \"nt_gev10\", \"nt_gev20\"])\n",
    "    display(data)"
   ]
  },
  {
   "cell_type": "code",
   "execution_count": null,
   "id": "4c05a6e4",
   "metadata": {},
   "outputs": [],
   "source": [
    "results_filename = 'csv/results.csv'\n",
    "write_results(results_filename, hmodel_prefix, 0, hls4ml_accuracy, GeV_0_2, GeV_0_5, GeV_1_0, GeV_2_0)"
   ]
  },
  {
   "cell_type": "code",
   "execution_count": null,
   "id": "e1cf1d82",
   "metadata": {},
   "outputs": [],
   "source": [
    "print_results(results_filename)"
   ]
  },
  {
   "cell_type": "code",
   "execution_count": null,
   "id": "db8abd0b",
   "metadata": {},
   "outputs": [],
   "source": [
    "id_ordering = get_model_ids(lrange=range(12),\n",
    "                            srange=['noscaling'],\n",
    "                            mrange=[#'keras_d128',\n",
    "                                    #'qkeras_foldbatchnorm_d128w5a10',\n",
    "                                    #'hls4ml_qkeras_foldbatchnorm_d128w5a10',\n",
    "                                    #\n",
    "                                    #'keras_d64',\n",
    "                                    #'qkeras_foldbatchnorm_d64w5a10',\n",
    "                                    #'hls4ml_qkeras_foldbatchnorm_d64w5a10',\n",
    "                                    #'qkeras_foldbatchnorm_d64w4a8',\n",
    "                                    #'hls4ml_qkeras_foldbatchnorm_d64w4a8',\n",
    "                                    #\n",
    "                                    #'keras_d60',\n",
    "                                    #'qkeras_foldbatchnorm_d60w5a10',\n",
    "                                    #'hls4ml_qkeras_foldbatchnorm_d60w5a10',\n",
    "                                    #'qkeras_foldbatchnorm_d60w4a8',\n",
    "                                    #'hls4ml_qkeras_foldbatchnorm_d60w4a8',\n",
    "                                    #\n",
    "                                    'keras_d58',\n",
    "                                    #'qkeras_foldbatchnorm_d58w5a10',\n",
    "                                    #'hls4ml_qkeras_foldbatchnorm_d58w5a10',\n",
    "                                    'qkeras_foldbatchnorm_d58w4a8',\n",
    "                                    'hls4ml_qkeras_foldbatchnorm_d58w4a8',\n",
    "                                   ],\n",
    "                            reverse=True\n",
    "                           )"
   ]
  },
  {
   "cell_type": "code",
   "execution_count": null,
   "id": "9521b6d9",
   "metadata": {},
   "outputs": [],
   "source": [
    "plot_avg_results(results_filename, accuracy_th=0.76, tracks_th=0.9, id_ordering=id_ordering)"
   ]
  },
  {
   "cell_type": "code",
   "execution_count": null,
   "id": "82ed2ac1-4edb-4a67-92a2-7fb3ff609979",
   "metadata": {
    "tags": []
   },
   "outputs": [],
   "source": [
    "plot_pt_filter(local_id=local_id, \n",
    "               pt_data=pt_data,\n",
    "               label_k='Keras y-local = {}'.format(local_id), predict_data_k='csv/' + model_prefix + '_predictionsFiles.csv', true_data_k='csv/' + model_prefix + '_true.csv',\n",
    "               label_q='QKeras y-local = {}'.format(local_id), predict_data_q='csv/' + qmodel_prefix + '_predictionsFiles.csv', true_data_q='csv/' + qmodel_prefix + '_true.csv',\n",
    "               label_h='hls4ml y-local = {}'.format(local_id), predict_data_h='csv/' + hmodel_prefix + '_predictionsFiles.csv', true_data_h='csv/' + hmodel_prefix + '_true.csv',\n",
    "               output_image='images/' + hmodel_prefix + '_turnonCurve.png',\n",
    "               base_dir='.')"
   ]
  },
  {
   "cell_type": "markdown",
   "id": "ddc6495d",
   "metadata": {},
   "source": [
    "### Synthesis"
   ]
  },
  {
   "cell_type": "code",
   "execution_count": null,
   "id": "abcaee67-2b6f-42fe-8e34-1dc96faeb80d",
   "metadata": {
    "tags": []
   },
   "outputs": [],
   "source": [
    "%%time\n",
    "results = hmodel.build(csim=False, synth=True, vsynth=True)"
   ]
  },
  {
   "cell_type": "raw",
   "id": "fa0f0c3b-9d9c-47cf-a2b2-d4447723ebff",
   "metadata": {
    "tags": []
   },
   "source": [
    "print(results)"
   ]
  },
  {
   "cell_type": "raw",
   "id": "8968c077-2212-4581-9ae8-e815286ade65",
   "metadata": {
    "tags": []
   },
   "source": [
    "!grep \"Total Area Score\" ds8l0_noscaling_hls4ml_qkeras_foldbatchnorm_d58w4a8_0_catapult_prj/myproject_prj/myproject.v1/rtl.rpt | awk '{print $6}'"
   ]
  },
  {
   "cell_type": "raw",
   "id": "84c439b6",
   "metadata": {},
   "source": [
    "#print('-----------------------------------')\n",
    "##print(results) # Print hashmap\n",
    "#hls_results=results\n",
    "##['CSynthesisReport'] \n",
    "#print(\"Estimated Clock Period: {} ns\".format(hls_results['EstimatedClockPeriod']))\n",
    "#print(\"Best/Worst Latency:     {} / {}\".format(hls_results['BestLatency'], hls_results['WorstLatency']))\n",
    "#print(\"Interval Min/Max:       {} / {}\".format(hls_results['IntervalMin'], hls_results['IntervalMax']))\n",
    "#print(\"BRAM_18K:               {}, {:0.1f}% (Aval. {})\".format(hls_results['BRAM_18K'], int(hls_results['BRAM_18K'])*100.0/int(hls_results['AvailableBRAM_18K']), #hls_results['AvailableBRAM_18K']))\n",
    "#print(\"DSP48E:                 {}, {:0.1f}% (Aval. {})\".format(hls_results['DSP48E'], int(hls_results['DSP48E'])*100.0/int(hls_results['AvailableDSP48E']), hls_results['AvailableDSP48E']))\n",
    "#print(\"FF:                     {}, {:0.1f}% (Aval. {})\".format(hls_results['FF'], int(hls_results['FF'])*100.0/int(hls_results['AvailableFF']), hls_results['AvailableFF']))\n",
    "#print(\"LUT:                    {}, {:0.1f}% (Aval. {})\".format(hls_results['LUT'], int(hls_results['LUT'])*100.0/int(hls_results['AvailableLUT']), hls_results['AvailableLUT']))\n",
    "##print(\"URAM:                   {}, {} (Aval. {})\".format(hls_results['URAM'], int(hls_results['URAM'])*100.0/int(hls_results['AvailableURAM']), hls_results['AvailableURAM']))\n",
    "#print('-----------------------------------')"
   ]
  },
  {
   "cell_type": "code",
   "execution_count": null,
   "id": "39660fa9-d0d2-44bc-b603-ea9560935105",
   "metadata": {
    "tags": []
   },
   "outputs": [],
   "source": [
    "def get_catapult_results(project_dir, project_name = 'myproject', solution_id = 'v1'):\n",
    "\n",
    "    import re\n",
    "    import sys\n",
    "\n",
    "    hls_result = {'HLSArea': 0, 'LSArea': 0, 'Latency': 0}\n",
    "\n",
    "    file = open('{}/{}_prj/{}.{}/rtl.rpt'.format(project_dir, project_name, project_name, solution_id), 'r')\n",
    "    for line in file:\n",
    "        if re.search('Total Area Score', line):\n",
    "            hls_result['HLSArea'] = float(line.split()[5])\n",
    "    file.close()\n",
    "\n",
    "    file = open('{}/{}_prj/{}.{}/rtl.rpt'.format(project_dir, project_name, project_name, solution_id), 'r')\n",
    "    for line in file:\n",
    "        if re.search('Design Total:', line):\n",
    "            hls_result['Latency'] = int(line.split()[3])\n",
    "    file.close()\n",
    "    \n",
    "    file = open('{}/{}_prj/{}.{}/oasys.log.00'.format(project_dir, project_name, project_name, solution_id), 'r')\n",
    "    for line in file:\n",
    "        if re.search('Total Cell Area is', line):\n",
    "            hls_result['LSArea'] = float(line.split()[4])\n",
    "    file.close()\n",
    "    \n",
    "    return hls_result"
   ]
  },
  {
   "cell_type": "code",
   "execution_count": null,
   "id": "ce089d25-1a7f-4cfe-bcad-a77537647e3c",
   "metadata": {
    "tags": []
   },
   "outputs": [],
   "source": [
    "hls4ml_project_dir = hmodel_prefix + '_' + str(run_id) + '_catapult_prj'\n",
    "hls_results = get_catapult_results(project_dir = hls4ml_project_dir)\n",
    "print('HLS Area:', hls_results['HLSArea'])\n",
    "print('LS Area:', hls_results['LSArea'])\n",
    "print('Latency:', hls_results['Latency'])"
   ]
  },
  {
   "cell_type": "code",
   "execution_count": null,
   "id": "1906738c-3ab5-4298-b4f5-a50eab6f8105",
   "metadata": {
    "tags": []
   },
   "outputs": [],
   "source": [
    "results_filename = 'csv/hw_results.csv'\n",
    "write_hw_results(results_filename, hmodel_prefix, hls_results['HLSArea'], hls_results['LSArea'], hls_results['Latency'])"
   ]
  },
  {
   "cell_type": "code",
   "execution_count": null,
   "id": "8da9f287-47fe-4513-a4db-c2a58d339112",
   "metadata": {
    "tags": []
   },
   "outputs": [],
   "source": [
    "def print_hw_results(filename):\n",
    "    import pandas as pd\n",
    "    pd.set_option('display.max_rows', None)\n",
    "    pd.set_option('display.max_columns', None)\n",
    "    pd.set_option('display.width', 2000)\n",
    "    pd.set_option('display.max_colwidth', None)\n",
    "    with pd.option_context('display.float_format', '{:0.4f}'.format):\n",
    "        csv_data = pd.read_csv(filename)\n",
    "        display(csv_data)\n",
    "    pd.reset_option('display.max_rows')\n",
    "    pd.reset_option('display.max_columns')\n",
    "    pd.reset_option('display.width')\n",
    "    pd.reset_option('display.max_colwidth')\n",
    "\n",
    "print_hw_results(results_filename)"
   ]
  },
  {
   "cell_type": "code",
   "execution_count": null,
   "id": "8720cd82-f8a4-427b-8553-ae517e12c638",
   "metadata": {},
   "outputs": [],
   "source": []
  }
 ],
 "metadata": {
  "kernelspec": {
   "display_name": "Python 3 (ipykernel)",
   "language": "python",
   "name": "python3"
  },
  "language_info": {
   "codemirror_mode": {
    "name": "ipython",
    "version": 3
   },
   "file_extension": ".py",
   "mimetype": "text/x-python",
   "name": "python",
   "nbconvert_exporter": "python",
   "pygments_lexer": "ipython3",
   "version": "3.8.10"
  },
  "toc": {
   "base_numbering": 1,
   "nav_menu": {},
   "number_sections": true,
   "sideBar": true,
   "skip_h1_title": false,
   "title_cell": "Table of Contents",
   "title_sidebar": "Contents",
   "toc_cell": false,
   "toc_position": {
    "height": "calc(100% - 180px)",
    "left": "10px",
    "top": "150px",
    "width": "353.217px"
   },
   "toc_section_display": true,
   "toc_window_display": true
  },
  "toc-autonumbering": false,
  "toc-showmarkdowntxt": false,
  "toc-showtags": false,
  "varInspector": {
   "cols": {
    "lenName": 16,
    "lenType": 16,
    "lenVar": 40
   },
   "kernels_config": {
    "python": {
     "delete_cmd_postfix": "",
     "delete_cmd_prefix": "del ",
     "library": "var_list.py",
     "varRefreshCmd": "print(var_dic_list())"
    },
    "r": {
     "delete_cmd_postfix": ") ",
     "delete_cmd_prefix": "rm(",
     "library": "var_list.r",
     "varRefreshCmd": "cat(var_dic_list()) "
    }
   },
   "types_to_exclude": [
    "module",
    "function",
    "builtin_function_or_method",
    "instance",
    "_Feature"
   ],
   "window_display": false
  }
 },
 "nbformat": 4,
 "nbformat_minor": 5
}
