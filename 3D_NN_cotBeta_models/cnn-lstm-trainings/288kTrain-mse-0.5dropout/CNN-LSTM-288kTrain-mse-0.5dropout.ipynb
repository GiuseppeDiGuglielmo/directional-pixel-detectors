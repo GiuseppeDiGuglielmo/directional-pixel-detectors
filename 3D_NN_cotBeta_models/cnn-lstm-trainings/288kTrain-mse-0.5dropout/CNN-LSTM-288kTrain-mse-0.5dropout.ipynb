{
 "cells": [
  {
   "cell_type": "code",
   "execution_count": 1,
   "id": "3f683539",
   "metadata": {},
   "outputs": [
    {
     "name": "stderr",
     "output_type": "stream",
     "text": [
      "2022-05-08 11:31:12.325640: I tensorflow/stream_executor/cuda/cuda_gpu_executor.cc:939] successful NUMA node read from SysFS had negative value (-1), but there must be at least one NUMA node, so returning NUMA node zero\n",
      "2022-05-08 11:31:15.589934: I tensorflow/stream_executor/cuda/cuda_gpu_executor.cc:939] successful NUMA node read from SysFS had negative value (-1), but there must be at least one NUMA node, so returning NUMA node zero\n",
      "2022-05-08 11:31:15.591330: I tensorflow/stream_executor/cuda/cuda_gpu_executor.cc:939] successful NUMA node read from SysFS had negative value (-1), but there must be at least one NUMA node, so returning NUMA node zero\n"
     ]
    }
   ],
   "source": [
    "from sklearn.utils import shuffle\n",
    "from sklearn.preprocessing import StandardScaler\n",
    "import tensorflow as tf\n",
    "import keras\n",
    "from tensorflow.keras import datasets, layers, models\n",
    "from keras.models import Sequential\n",
    "from keras.layers import Dense, Dropout, Flatten, Activation\n",
    "from keras.layers import Conv2D, MaxPooling2D, TimeDistributed, LSTM, Conv3D\n",
    "from tensorflow.keras.optimizers import Adam\n",
    "from keras.utils import np_utils\n",
    "from keras.callbacks import CSVLogger\n",
    "import os\n",
    "import matplotlib.pyplot as plt\n",
    "import numpy as np\n",
    "import pandas as pd\n",
    "from pandas import read_csv\n",
    "import math\n",
    "import seaborn as sns\n",
    "from collections import deque\n",
    "import copy\n",
    "\n",
    "gpus = tf.config.experimental.list_physical_devices('GPU')\n",
    "for gpu in gpus:\n",
    "  tf.config.experimental.set_memory_growth(gpu, True)\n",
    "\n",
    "BATCH_SIZE = 256 \n",
    "EPOCHS = 50\n",
    "NUMBER_TEST_SET = 72000 #will do train/test split before this, and pass already-made sets in\n",
    "TEMPORAL_LENGTH = 8 #use first 8 frames (these are 16 frames in each video)"
   ]
  },
  {
   "cell_type": "code",
   "execution_count": 4,
   "id": "bed62e65",
   "metadata": {},
   "outputs": [],
   "source": [
    "def file_generator(data_path,data_files,temporal_stride=1,temporal_length=TEMPORAL_LENGTH):\n",
    "    #print(data_files)\n",
    "    for f in data_files: \n",
    "        tmp_df = pd.read_csv(os.path.join(data_path,f), sep=',')\n",
    "        label_list = list(tmp_df['label'])  \n",
    "        total_images = len(label_list) \n",
    "        if total_images==temporal_length: \n",
    "            num_samples = int((total_images-temporal_length)/temporal_stride)+1\n",
    "            #print ('num of frames: {}: {}'.format(f,num_samples))\n",
    "            img_list = list(tmp_df['FileName'])\n",
    "        else: # if the number of frames < than temporal length , discard it\n",
    "            print ('num of frames is less than temporal length; hence discarding this file-{}'.format(f))\n",
    "            continue\n",
    "\n",
    "        start_frame = 0\n",
    "        samples = deque()  \n",
    "        samp_count=0  \n",
    "        for img in img_list:\n",
    "            samples.append(img)\n",
    "            if len(samples)==temporal_length: \n",
    "                samples_c=copy.deepcopy(samples) \n",
    "                samp_count+=1\n",
    "                for t in range(temporal_stride): \n",
    "                    samples.popleft()\n",
    "                yield samples_c,label_list[0]  "
   ]
  },
  {
   "cell_type": "code",
   "execution_count": 5,
   "id": "f0e6b34a",
   "metadata": {},
   "outputs": [],
   "source": [
    "def load_samples(data_cat='train',temporal_stride=1,temporal_length=TEMPORAL_LENGTH):\n",
    "    data_path = os.path.join('/uscms_data/d3/jieun201/YOURWORKINGAREA/data_files',data_cat)\n",
    "    data_files = os.listdir(data_path)\n",
    "    #generator to read the samples\n",
    "    file_gen = file_generator(data_path,data_files,temporal_stride,temporal_length)\n",
    "    iterator = True\n",
    "    data_list = []\n",
    "    while iterator:\n",
    "        try:\n",
    "            x,y = next(file_gen)\n",
    "            x=list(x)\n",
    "            #print(x)\n",
    "            data_list.append([x,y])\n",
    "        except Exception as e:\n",
    "            print ('Exception: ',e)\n",
    "            iterator = False\n",
    "            print ('end of data generator')\n",
    "    return data_list"
   ]
  },
  {
   "cell_type": "code",
   "execution_count": 4,
   "id": "425c3c7a",
   "metadata": {},
   "outputs": [
    {
     "name": "stdout",
     "output_type": "stream",
     "text": [
      "Exception:  \n",
      "end of data generator\n"
     ]
    }
   ],
   "source": [
    "train_data = load_samples(data_cat='train',temporal_stride=1,temporal_length=TEMPORAL_LENGTH)"
   ]
  },
  {
   "cell_type": "code",
   "execution_count": 5,
   "id": "e042abd7-27a2-4958-a570-c6e9525d25c0",
   "metadata": {},
   "outputs": [
    {
     "name": "stdout",
     "output_type": "stream",
     "text": [
      "/uscms_data/d3/jieun201/YOURWORKINGAREA/data_files/train\n"
     ]
    }
   ],
   "source": [
    "print(os.path.join('/uscms_data/d3/jieun201/YOURWORKINGAREA/data_files','train'))"
   ]
  },
  {
   "cell_type": "code",
   "execution_count": 8,
   "id": "bd9f6465",
   "metadata": {},
   "outputs": [
    {
     "name": "stdout",
     "output_type": "stream",
     "text": [
      "Exception:  \n",
      "end of data generator\n"
     ]
    }
   ],
   "source": [
    "test_data = load_samples(data_cat='test',temporal_stride=1,temporal_length=TEMPORAL_LENGTH)"
   ]
  },
  {
   "cell_type": "code",
   "execution_count": 7,
   "id": "ddc52f89",
   "metadata": {},
   "outputs": [
    {
     "name": "stdout",
     "output_type": "stream",
     "text": [
      "Total number of train samples: 288000\n"
     ]
    }
   ],
   "source": [
    "print ('Total number of train samples:',len(train_data))"
   ]
  },
  {
   "cell_type": "code",
   "execution_count": 8,
   "id": "5ed09b1b",
   "metadata": {},
   "outputs": [
    {
     "data": {
      "text/plain": [
       "[['/uscms_data/d3/jieun201/YOURWORKINGAREA/figures/d16111cluster0/event000000_frame00.npy',\n",
       "  '/uscms_data/d3/jieun201/YOURWORKINGAREA/figures/d16111cluster0/event000000_frame01.npy',\n",
       "  '/uscms_data/d3/jieun201/YOURWORKINGAREA/figures/d16111cluster0/event000000_frame02.npy',\n",
       "  '/uscms_data/d3/jieun201/YOURWORKINGAREA/figures/d16111cluster0/event000000_frame03.npy',\n",
       "  '/uscms_data/d3/jieun201/YOURWORKINGAREA/figures/d16111cluster0/event000000_frame04.npy',\n",
       "  '/uscms_data/d3/jieun201/YOURWORKINGAREA/figures/d16111cluster0/event000000_frame05.npy',\n",
       "  '/uscms_data/d3/jieun201/YOURWORKINGAREA/figures/d16111cluster0/event000000_frame06.npy',\n",
       "  '/uscms_data/d3/jieun201/YOURWORKINGAREA/figures/d16111cluster0/event000000_frame07.npy'],\n",
       " -0.1132745164574143]"
      ]
     },
     "execution_count": 8,
     "metadata": {},
     "output_type": "execute_result"
    }
   ],
   "source": [
    "train_data[0]"
   ]
  },
  {
   "cell_type": "code",
   "execution_count": 9,
   "id": "08067eaf",
   "metadata": {},
   "outputs": [
    {
     "name": "stdout",
     "output_type": "stream",
     "text": [
      "Total number of test samples: 72000\n"
     ]
    }
   ],
   "source": [
    "print ('Total number of test samples:',len(test_data))"
   ]
  },
  {
   "cell_type": "code",
   "execution_count": 10,
   "id": "795e0e99",
   "metadata": {},
   "outputs": [
    {
     "data": {
      "text/plain": [
       "[['/uscms_data/d3/jieun201/YOURWORKINGAREA/figures-test/cluster0/event000000_frame00.npy',\n",
       "  '/uscms_data/d3/jieun201/YOURWORKINGAREA/figures-test/cluster0/event000000_frame01.npy',\n",
       "  '/uscms_data/d3/jieun201/YOURWORKINGAREA/figures-test/cluster0/event000000_frame02.npy',\n",
       "  '/uscms_data/d3/jieun201/YOURWORKINGAREA/figures-test/cluster0/event000000_frame03.npy',\n",
       "  '/uscms_data/d3/jieun201/YOURWORKINGAREA/figures-test/cluster0/event000000_frame04.npy',\n",
       "  '/uscms_data/d3/jieun201/YOURWORKINGAREA/figures-test/cluster0/event000000_frame05.npy',\n",
       "  '/uscms_data/d3/jieun201/YOURWORKINGAREA/figures-test/cluster0/event000000_frame06.npy',\n",
       "  '/uscms_data/d3/jieun201/YOURWORKINGAREA/figures-test/cluster0/event000000_frame07.npy'],\n",
       " 0.0806657911875553]"
      ]
     },
     "execution_count": 10,
     "metadata": {},
     "output_type": "execute_result"
    }
   ],
   "source": [
    "test_data[0]"
   ]
  },
  {
   "cell_type": "code",
   "execution_count": 11,
   "id": "45c91fbe",
   "metadata": {},
   "outputs": [],
   "source": [
    "def shuffle_data(samples):\n",
    "    data = shuffle(samples,random_state=2)\n",
    "    return data"
   ]
  },
  {
   "cell_type": "code",
   "execution_count": 6,
   "id": "4e0142dd",
   "metadata": {},
   "outputs": [],
   "source": [
    "def data_generator(data,batch_size=BATCH_SIZE,temporal_padding='same',shuffle=True):               \n",
    "    num_samples = len(data)\n",
    "    if shuffle:\n",
    "        data = shuffle_data(data)\n",
    "    while True:   \n",
    "        for offset in range(0, num_samples, batch_size):\n",
    "            #print ('starting index: ', offset) \n",
    "            batch_samples = data[offset:offset+batch_size]\n",
    "            \n",
    "            X_train = []\n",
    "            y_train = []\n",
    "            \n",
    "            for batch_sample in batch_samples: \n",
    "                #print(batch_sample)\n",
    "                # Load image (X)\n",
    "                x = batch_sample[0] #image\n",
    "                y = batch_sample[1] #label\n",
    "                temp_data_list = []\n",
    "                for img in x:\n",
    "                    try:\n",
    "                        img = np.load(img)                        \n",
    "                        temp_data_list.append(img)\n",
    "                    except Exception as e:\n",
    "                        print (e)\n",
    "                        print ('error reading in frame: ',img)                      \n",
    "\n",
    "                X_train.append(temp_data_list)\n",
    "                y_train.append(y)\n",
    "\n",
    "            X_train = np.array(X_train)   \n",
    "            y_train = np.array(y_train)\n",
    "            \n",
    "            scaler = StandardScaler()\n",
    "            X_train = scaler.fit_transform(X_train.reshape(-1, X_train.shape[-1])).reshape(X_train.shape)\n",
    "        \n",
    "            print(X_train.shape)               \n",
    "            yield X_train, y_train"
   ]
  },
  {
   "cell_type": "code",
   "execution_count": 11,
   "id": "dea2200d",
   "metadata": {},
   "outputs": [],
   "source": [
    "#print(len(train_data))\n",
    "#print(len(test_data))\n",
    "\n",
    "#train_generator = data_generator(train_data,batch_size=BATCH_SIZE,shuffle=True)\n",
    "\n",
    "test_generator = data_generator(test_data,batch_size=BATCH_SIZE,shuffle=False) \n",
    "#x,y = next(train_generator)\n",
    "#xx,yy = next(train_generator)"
   ]
  },
  {
   "cell_type": "code",
   "execution_count": 14,
   "id": "0f849eb2",
   "metadata": {},
   "outputs": [
    {
     "name": "stdout",
     "output_type": "stream",
     "text": [
      "WARNING:tensorflow:Layer lstm will not use cuDNN kernels since it doesn't meet the criteria. It will use a generic GPU kernel as fallback when running on GPU.\n"
     ]
    },
    {
     "name": "stderr",
     "output_type": "stream",
     "text": [
      "2022-05-07 23:50:59.206350: I tensorflow/core/platform/cpu_feature_guard.cc:151] This TensorFlow binary is optimized with oneAPI Deep Neural Network Library (oneDNN) to use the following CPU instructions in performance-critical operations:  SSE4.1 SSE4.2 AVX\n",
      "To enable them in other operations, rebuild TensorFlow with the appropriate compiler flags.\n",
      "2022-05-07 23:50:59.211132: I tensorflow/stream_executor/cuda/cuda_gpu_executor.cc:939] successful NUMA node read from SysFS had negative value (-1), but there must be at least one NUMA node, so returning NUMA node zero\n",
      "2022-05-07 23:50:59.212737: I tensorflow/stream_executor/cuda/cuda_gpu_executor.cc:939] successful NUMA node read from SysFS had negative value (-1), but there must be at least one NUMA node, so returning NUMA node zero\n",
      "2022-05-07 23:50:59.213895: I tensorflow/stream_executor/cuda/cuda_gpu_executor.cc:939] successful NUMA node read from SysFS had negative value (-1), but there must be at least one NUMA node, so returning NUMA node zero\n",
      "2022-05-07 23:51:01.495323: I tensorflow/stream_executor/cuda/cuda_gpu_executor.cc:939] successful NUMA node read from SysFS had negative value (-1), but there must be at least one NUMA node, so returning NUMA node zero\n",
      "2022-05-07 23:51:01.496697: I tensorflow/stream_executor/cuda/cuda_gpu_executor.cc:939] successful NUMA node read from SysFS had negative value (-1), but there must be at least one NUMA node, so returning NUMA node zero\n",
      "2022-05-07 23:51:01.497909: I tensorflow/stream_executor/cuda/cuda_gpu_executor.cc:939] successful NUMA node read from SysFS had negative value (-1), but there must be at least one NUMA node, so returning NUMA node zero\n",
      "2022-05-07 23:51:01.499034: I tensorflow/core/common_runtime/gpu/gpu_device.cc:1525] Created device /job:localhost/replica:0/task:0/device:GPU:0 with 10775 MB memory:  -> device: 0, name: Tesla K40m, pci bus id: 0000:00:07.0, compute capability: 3.5\n"
     ]
    },
    {
     "name": "stdout",
     "output_type": "stream",
     "text": [
      "Model: \"sequential\"\n",
      "_________________________________________________________________\n",
      " Layer (type)                Output Shape              Param #   \n",
      "=================================================================\n",
      " time_distributed (TimeDistr  (None, 8, 11, 19, 16)    160       \n",
      " ibuted)                                                         \n",
      "                                                                 \n",
      " time_distributed_1 (TimeDis  (None, 8, 9, 17, 32)     4640      \n",
      " tributed)                                                       \n",
      "                                                                 \n",
      " time_distributed_2 (TimeDis  (None, 8, 4, 8, 32)      0         \n",
      " tributed)                                                       \n",
      "                                                                 \n",
      " time_distributed_3 (TimeDis  (None, 8, 1024)          0         \n",
      " tributed)                                                       \n",
      "                                                                 \n",
      " lstm (LSTM)                 (None, 64)                278784    \n",
      "                                                                 \n",
      " dense (Dense)               (None, 32)                2080      \n",
      "                                                                 \n",
      " dropout (Dropout)           (None, 32)                0         \n",
      "                                                                 \n",
      " dense_1 (Dense)             (None, 1)                 33        \n",
      "                                                                 \n",
      "=================================================================\n",
      "Total params: 285,697\n",
      "Trainable params: 285,697\n",
      "Non-trainable params: 0\n",
      "_________________________________________________________________\n"
     ]
    }
   ],
   "source": [
    "def get_model():\n",
    "    model = Sequential()\n",
    "    model.add(\n",
    "    TimeDistributed(\n",
    "        Conv2D(16, (3,3), activation='relu'), \n",
    "        input_shape=(8, 13, 21, 1))\n",
    "    )\n",
    "    model.add(\n",
    "    TimeDistributed(\n",
    "        Conv2D(32, (3,3), activation='relu')\n",
    "        )\n",
    "    )\n",
    "    model.add(\n",
    "    TimeDistributed(\n",
    "        MaxPooling2D()\n",
    "        )\n",
    "    ) \n",
    "          \n",
    "    model.add(\n",
    "    TimeDistributed(\n",
    "        Flatten()\n",
    "        )\n",
    "    )        \n",
    "    model.add(LSTM(64, activation='relu', return_sequences=False))\n",
    "    model.add(Dense(32, activation='relu'))\n",
    "    model.add(Dropout(.5))\n",
    "    model.add(Dense(1, activation='linear'))\n",
    "    model.compile(loss='mse', optimizer=Adam(), metrics=['mean_squared_error'])\n",
    "    model.summary()\n",
    "    return model\n",
    "\n",
    "model = get_model()\n"
   ]
  },
  {
   "cell_type": "code",
   "execution_count": 15,
   "id": "b63f2586",
   "metadata": {},
   "outputs": [],
   "source": [
    "class CustomCallback(keras.callbacks.Callback):\n",
    "    def on_train_begin(self, logs=None):\n",
    "        keys = list(logs.keys())\n",
    "        print(\"Starting training; got log keys: {}\".format(keys))\n",
    "\n",
    "    def on_train_end(self, logs=None):\n",
    "        keys = list(logs.keys())\n",
    "        print(\"Stop training; got log keys: {}\".format(keys))\n",
    "\n",
    "    def on_epoch_begin(self, epoch, logs=None):\n",
    "        keys = list(logs.keys())\n",
    "        print(\"Start epoch {} of training; got log keys: {}\".format(epoch, keys))\n",
    "\n",
    "    def on_epoch_end(self, epoch, logs=None):\n",
    "        keys = list(logs.keys())\n",
    "        print(\"End epoch {} of training; got log keys: {}\".format(epoch, keys))\n",
    "\n",
    "    def on_test_begin(self, logs=None):\n",
    "        keys = list(logs.keys())\n",
    "        print(\"Start testing; got log keys: {}\".format(keys))\n",
    "\n",
    "    def on_test_end(self, logs=None):\n",
    "        keys = list(logs.keys())\n",
    "        print(\"Stop testing; got log keys: {}\".format(keys))\n",
    "\n",
    "    def on_predict_begin(self, logs=None):\n",
    "        keys = list(logs.keys())\n",
    "        print(\"Start predicting; got log keys: {}\".format(keys))\n",
    "\n",
    "    def on_predict_end(self, logs=None):\n",
    "        keys = list(logs.keys())\n",
    "        print(\"Stop predicting; got log keys: {}\".format(keys))\n",
    "\n",
    "    def on_train_batch_begin(self, batch, logs=None):\n",
    "        keys = list(logs.keys())\n",
    "        print(\"...Training: start of batch {}; got log keys: {}\".format(batch, keys))\n",
    "\n",
    "    def on_train_batch_end(self, batch, logs=None):\n",
    "        keys = list(logs.keys())\n",
    "        print(\"...Training: end of batch {}; got log keys: {}\".format(batch, keys))\n",
    "\n",
    "    def on_test_batch_begin(self, batch, logs=None):\n",
    "        keys = list(logs.keys())\n",
    "        print(\"...Evaluating: start of batch {}; got log keys: {}\".format(batch, keys))\n",
    "\n",
    "    def on_test_batch_end(self, batch, logs=None):\n",
    "        keys = list(logs.keys())\n",
    "        print(\"...Evaluating: end of batch {}; got log keys: {}\".format(batch, keys))    "
   ]
  },
  {
   "cell_type": "code",
   "execution_count": 16,
   "id": "bdaa0c56",
   "metadata": {},
   "outputs": [],
   "source": [
    "checkpoint_path = \"cp.ckpt\"\n",
    "earlyStop_callback = tf.keras.callbacks.EarlyStopping(monitor='loss', patience=10)\n",
    "cp_callback = tf.keras.callbacks.ModelCheckpoint(filepath=checkpoint_path,\n",
    "                                                 save_weights_only=False,\n",
    "                                                 verbose=1)\n",
    "csv_logger = CSVLogger('log.csv', append=True, separator=';')"
   ]
  },
  {
   "cell_type": "code",
   "execution_count": 2,
   "id": "0f2b9ef4",
   "metadata": {},
   "outputs": [
    {
     "name": "stderr",
     "output_type": "stream",
     "text": [
      "2022-05-08 11:31:23.348859: I tensorflow/core/platform/cpu_feature_guard.cc:151] This TensorFlow binary is optimized with oneAPI Deep Neural Network Library (oneDNN) to use the following CPU instructions in performance-critical operations:  SSE4.1 SSE4.2 AVX\n",
      "To enable them in other operations, rebuild TensorFlow with the appropriate compiler flags.\n",
      "2022-05-08 11:31:23.351213: I tensorflow/stream_executor/cuda/cuda_gpu_executor.cc:939] successful NUMA node read from SysFS had negative value (-1), but there must be at least one NUMA node, so returning NUMA node zero\n",
      "2022-05-08 11:31:23.352641: I tensorflow/stream_executor/cuda/cuda_gpu_executor.cc:939] successful NUMA node read from SysFS had negative value (-1), but there must be at least one NUMA node, so returning NUMA node zero\n",
      "2022-05-08 11:31:23.353902: I tensorflow/stream_executor/cuda/cuda_gpu_executor.cc:939] successful NUMA node read from SysFS had negative value (-1), but there must be at least one NUMA node, so returning NUMA node zero\n",
      "2022-05-08 11:31:34.974312: I tensorflow/stream_executor/cuda/cuda_gpu_executor.cc:939] successful NUMA node read from SysFS had negative value (-1), but there must be at least one NUMA node, so returning NUMA node zero\n",
      "2022-05-08 11:31:34.976212: I tensorflow/stream_executor/cuda/cuda_gpu_executor.cc:939] successful NUMA node read from SysFS had negative value (-1), but there must be at least one NUMA node, so returning NUMA node zero\n",
      "2022-05-08 11:31:34.977532: I tensorflow/stream_executor/cuda/cuda_gpu_executor.cc:939] successful NUMA node read from SysFS had negative value (-1), but there must be at least one NUMA node, so returning NUMA node zero\n",
      "2022-05-08 11:31:34.979258: I tensorflow/core/common_runtime/gpu/gpu_device.cc:1525] Created device /job:localhost/replica:0/task:0/device:GPU:0 with 10775 MB memory:  -> device: 0, name: Tesla K40m, pci bus id: 0000:00:09.0, compute capability: 3.5\n"
     ]
    },
    {
     "name": "stdout",
     "output_type": "stream",
     "text": [
      "WARNING:tensorflow:Layer lstm will not use cuDNN kernels since it doesn't meet the criteria. It will use a generic GPU kernel as fallback when running on GPU.\n"
     ]
    }
   ],
   "source": [
    "\n",
    "from tensorflow.keras.models import model_from_json\n",
    "#rom keras.models import load_model\n",
    "\n",
    "\n",
    "model = tf.keras.models.load_model('./cp.ckpt/')\n",
    "\n",
    "#hist = model.fit(train_generator,\n",
    " #                steps_per_epoch=(len(train_data)/BATCH_SIZE),\n",
    "  #               epochs=EPOCHS,\n",
    "   #              validation_data=(test_generator), validation_steps=(len(test_data)/BATCH_SIZE),\n",
    "    #             use_multiprocessing=True,workers=6,\n",
    "     #            callbacks=[cp_callback, csv_logger, earlyStop_callback])"
   ]
  },
  {
   "cell_type": "code",
   "execution_count": 12,
   "id": "dcdb2863",
   "metadata": {},
   "outputs": [
    {
     "name": "stdout",
     "output_type": "stream",
     "text": [
      "(256, 8, 13, 21)\n"
     ]
    },
    {
     "name": "stderr",
     "output_type": "stream",
     "text": [
      "2022-05-08 11:50:18.637685: I tensorflow/stream_executor/cuda/cuda_dnn.cc:366] Loaded cuDNN version 8201\n",
      "2022-05-08 11:50:32.550408: W tensorflow/stream_executor/gpu/asm_compiler.cc:80] Couldn't get ptxas version string: INTERNAL: Running ptxas --version returned 32512\n",
      "2022-05-08 11:50:32.644231: W tensorflow/stream_executor/gpu/redzone_allocator.cc:314] INTERNAL: ptxas exited with non-zero error code 32512, output: \n",
      "Relying on driver to perform ptx compilation. \n",
      "Modify $PATH to customize ptxas location.\n",
      "This message will be only logged once.\n"
     ]
    },
    {
     "name": "stdout",
     "output_type": "stream",
     "text": [
      "(256, 8, 13, 21)\n",
      "(256, 8, 13, 21)\n",
      "(256, 8, 13, 21)\n",
      "(256, 8, 13, 21)\n",
      "(256, 8, 13, 21)\n",
      "(256, 8, 13, 21)\n",
      "(256, 8, 13, 21)\n",
      "(256, 8, 13, 21)\n",
      "(256, 8, 13, 21)\n",
      "(256, 8, 13, 21)\n",
      "(256, 8, 13, 21)\n",
      "(256, 8, 13, 21)\n",
      "(256, 8, 13, 21)\n",
      "(256, 8, 13, 21)\n",
      "(256, 8, 13, 21)\n",
      "(256, 8, 13, 21)\n",
      "(256, 8, 13, 21)\n",
      "(256, 8, 13, 21)\n",
      "(256, 8, 13, 21)\n",
      "(256, 8, 13, 21)\n",
      "(256, 8, 13, 21)\n",
      "(256, 8, 13, 21)\n",
      "(256, 8, 13, 21)\n",
      "(256, 8, 13, 21)\n",
      "(256, 8, 13, 21)\n",
      "(256, 8, 13, 21)\n",
      "(256, 8, 13, 21)\n",
      "(256, 8, 13, 21)\n",
      "(256, 8, 13, 21)\n",
      "(256, 8, 13, 21)\n",
      "(256, 8, 13, 21)\n",
      "(256, 8, 13, 21)\n",
      "(256, 8, 13, 21)\n",
      "(256, 8, 13, 21)\n",
      "(256, 8, 13, 21)\n",
      "(256, 8, 13, 21)\n",
      "(256, 8, 13, 21)\n",
      "(256, 8, 13, 21)\n",
      "(256, 8, 13, 21)\n",
      "(256, 8, 13, 21)\n",
      "(256, 8, 13, 21)\n",
      "(256, 8, 13, 21)\n",
      "(256, 8, 13, 21)\n",
      "(256, 8, 13, 21)\n",
      "(256, 8, 13, 21)\n",
      "(256, 8, 13, 21)\n",
      "(256, 8, 13, 21)\n",
      "(256, 8, 13, 21)\n",
      "(256, 8, 13, 21)\n",
      "(256, 8, 13, 21)\n",
      "(256, 8, 13, 21)\n",
      "(256, 8, 13, 21)\n",
      "(256, 8, 13, 21)\n",
      "(256, 8, 13, 21)\n",
      "(256, 8, 13, 21)\n",
      "(256, 8, 13, 21)\n",
      "(256, 8, 13, 21)\n",
      "(256, 8, 13, 21)\n",
      "(256, 8, 13, 21)\n",
      "(256, 8, 13, 21)\n",
      "(256, 8, 13, 21)\n",
      "(256, 8, 13, 21)\n",
      "(256, 8, 13, 21)\n",
      "(256, 8, 13, 21)\n",
      "(256, 8, 13, 21)\n",
      "(256, 8, 13, 21)\n",
      "(256, 8, 13, 21)\n",
      "(256, 8, 13, 21)\n",
      "(256, 8, 13, 21)\n",
      "(256, 8, 13, 21)\n",
      "(256, 8, 13, 21)\n",
      "(256, 8, 13, 21)\n",
      "(256, 8, 13, 21)\n",
      "(256, 8, 13, 21)\n",
      "(256, 8, 13, 21)\n",
      "(256, 8, 13, 21)\n",
      "(256, 8, 13, 21)\n",
      "(256, 8, 13, 21)\n",
      "(256, 8, 13, 21)\n",
      "(256, 8, 13, 21)\n",
      "(256, 8, 13, 21)\n",
      "(256, 8, 13, 21)\n",
      "(256, 8, 13, 21)\n",
      "(256, 8, 13, 21)\n",
      "(256, 8, 13, 21)\n",
      "(256, 8, 13, 21)\n",
      "(256, 8, 13, 21)\n",
      "(256, 8, 13, 21)\n",
      "(256, 8, 13, 21)\n",
      "(256, 8, 13, 21)\n",
      "(256, 8, 13, 21)\n",
      "(256, 8, 13, 21)\n",
      "(256, 8, 13, 21)\n",
      "(256, 8, 13, 21)\n",
      "(256, 8, 13, 21)\n",
      "(256, 8, 13, 21)\n",
      "(256, 8, 13, 21)\n",
      "(256, 8, 13, 21)\n",
      "(256, 8, 13, 21)\n",
      "(256, 8, 13, 21)\n",
      "(256, 8, 13, 21)\n",
      "(256, 8, 13, 21)\n",
      "(256, 8, 13, 21)\n",
      "(256, 8, 13, 21)\n",
      "(256, 8, 13, 21)\n",
      "(256, 8, 13, 21)\n",
      "(256, 8, 13, 21)\n",
      "(256, 8, 13, 21)\n",
      "(256, 8, 13, 21)\n",
      "(256, 8, 13, 21)\n",
      "(256, 8, 13, 21)\n",
      "(256, 8, 13, 21)\n",
      "(256, 8, 13, 21)\n",
      "(256, 8, 13, 21)\n",
      "(256, 8, 13, 21)\n",
      "(256, 8, 13, 21)\n",
      "(256, 8, 13, 21)\n",
      "(256, 8, 13, 21)\n",
      "(256, 8, 13, 21)\n",
      "(256, 8, 13, 21)\n",
      "(256, 8, 13, 21)\n",
      "(256, 8, 13, 21)\n",
      "(256, 8, 13, 21)\n",
      "(256, 8, 13, 21)\n",
      "(256, 8, 13, 21)\n",
      "(256, 8, 13, 21)\n",
      "(256, 8, 13, 21)\n",
      "(256, 8, 13, 21)\n",
      "(256, 8, 13, 21)\n",
      "(256, 8, 13, 21)\n",
      "(256, 8, 13, 21)\n",
      "(256, 8, 13, 21)\n",
      "(256, 8, 13, 21)\n",
      "(256, 8, 13, 21)\n",
      "(256, 8, 13, 21)\n",
      "(256, 8, 13, 21)\n",
      "(256, 8, 13, 21)\n",
      "(256, 8, 13, 21)\n",
      "(256, 8, 13, 21)\n",
      "(256, 8, 13, 21)\n",
      "(256, 8, 13, 21)\n",
      "(256, 8, 13, 21)\n",
      "(256, 8, 13, 21)\n",
      "(256, 8, 13, 21)\n",
      "(256, 8, 13, 21)\n",
      "(256, 8, 13, 21)\n",
      "(256, 8, 13, 21)\n",
      "(256, 8, 13, 21)\n",
      "(256, 8, 13, 21)\n",
      "(256, 8, 13, 21)\n",
      "(256, 8, 13, 21)\n",
      "(256, 8, 13, 21)\n",
      "(256, 8, 13, 21)\n",
      "(256, 8, 13, 21)\n",
      "(256, 8, 13, 21)\n",
      "(256, 8, 13, 21)\n",
      "(256, 8, 13, 21)\n",
      "(256, 8, 13, 21)\n",
      "(256, 8, 13, 21)\n",
      "(256, 8, 13, 21)\n",
      "(256, 8, 13, 21)\n",
      "(256, 8, 13, 21)\n",
      "(256, 8, 13, 21)\n",
      "(256, 8, 13, 21)\n",
      "(256, 8, 13, 21)\n",
      "(256, 8, 13, 21)\n",
      "(256, 8, 13, 21)\n",
      "(256, 8, 13, 21)\n",
      "(256, 8, 13, 21)\n",
      "(256, 8, 13, 21)\n",
      "(256, 8, 13, 21)\n",
      "(256, 8, 13, 21)\n",
      "(256, 8, 13, 21)\n",
      "(256, 8, 13, 21)\n",
      "(256, 8, 13, 21)\n",
      "(256, 8, 13, 21)\n",
      "(256, 8, 13, 21)\n",
      "(256, 8, 13, 21)\n",
      "(256, 8, 13, 21)\n",
      "(256, 8, 13, 21)\n",
      "(256, 8, 13, 21)\n",
      "(256, 8, 13, 21)\n",
      "(256, 8, 13, 21)\n",
      "(256, 8, 13, 21)\n",
      "(256, 8, 13, 21)\n",
      "(256, 8, 13, 21)\n",
      "(256, 8, 13, 21)\n",
      "(256, 8, 13, 21)\n",
      "(256, 8, 13, 21)\n",
      "(256, 8, 13, 21)\n",
      "(256, 8, 13, 21)\n",
      "(256, 8, 13, 21)\n",
      "(256, 8, 13, 21)\n",
      "(256, 8, 13, 21)\n",
      "(256, 8, 13, 21)\n",
      "(256, 8, 13, 21)\n",
      "(256, 8, 13, 21)\n",
      "(256, 8, 13, 21)\n",
      "(256, 8, 13, 21)\n",
      "(256, 8, 13, 21)\n",
      "(256, 8, 13, 21)\n",
      "(256, 8, 13, 21)\n",
      "(256, 8, 13, 21)\n",
      "(256, 8, 13, 21)\n",
      "(256, 8, 13, 21)\n",
      "(256, 8, 13, 21)\n",
      "(256, 8, 13, 21)\n",
      "(256, 8, 13, 21)\n",
      "(256, 8, 13, 21)\n",
      "(256, 8, 13, 21)\n",
      "(256, 8, 13, 21)\n",
      "(256, 8, 13, 21)\n",
      "(256, 8, 13, 21)\n",
      "(256, 8, 13, 21)\n",
      "(256, 8, 13, 21)\n",
      "(256, 8, 13, 21)\n",
      "(256, 8, 13, 21)\n",
      "(256, 8, 13, 21)\n",
      "(256, 8, 13, 21)\n",
      "(256, 8, 13, 21)\n",
      "(256, 8, 13, 21)\n",
      "(256, 8, 13, 21)\n",
      "(256, 8, 13, 21)\n",
      "(256, 8, 13, 21)\n",
      "(256, 8, 13, 21)\n",
      "(256, 8, 13, 21)\n",
      "(256, 8, 13, 21)\n",
      "(256, 8, 13, 21)\n",
      "(256, 8, 13, 21)\n",
      "(256, 8, 13, 21)\n",
      "(256, 8, 13, 21)\n",
      "(256, 8, 13, 21)\n",
      "(256, 8, 13, 21)\n",
      "(256, 8, 13, 21)\n",
      "(256, 8, 13, 21)\n",
      "(256, 8, 13, 21)\n",
      "(256, 8, 13, 21)\n",
      "(256, 8, 13, 21)\n",
      "(256, 8, 13, 21)\n",
      "(256, 8, 13, 21)\n",
      "(256, 8, 13, 21)\n",
      "(256, 8, 13, 21)\n",
      "(256, 8, 13, 21)\n",
      "(256, 8, 13, 21)\n",
      "(256, 8, 13, 21)\n",
      "(256, 8, 13, 21)\n",
      "(256, 8, 13, 21)\n",
      "(256, 8, 13, 21)\n",
      "(256, 8, 13, 21)\n",
      "(256, 8, 13, 21)\n",
      "(256, 8, 13, 21)\n",
      "(256, 8, 13, 21)\n",
      "(256, 8, 13, 21)\n",
      "(256, 8, 13, 21)\n",
      "(256, 8, 13, 21)\n",
      "(256, 8, 13, 21)\n",
      "(256, 8, 13, 21)\n",
      "(256, 8, 13, 21)\n",
      "(256, 8, 13, 21)\n",
      "(256, 8, 13, 21)\n",
      "(256, 8, 13, 21)\n",
      "(256, 8, 13, 21)\n",
      "(256, 8, 13, 21)\n",
      "(256, 8, 13, 21)\n",
      "(256, 8, 13, 21)\n",
      "(256, 8, 13, 21)\n",
      "(256, 8, 13, 21)\n",
      "(256, 8, 13, 21)\n",
      "(256, 8, 13, 21)\n",
      "(256, 8, 13, 21)\n",
      "(256, 8, 13, 21)\n",
      "(256, 8, 13, 21)\n",
      "(256, 8, 13, 21)\n",
      "(256, 8, 13, 21)\n",
      "(256, 8, 13, 21)\n",
      "(256, 8, 13, 21)\n",
      "(256, 8, 13, 21)\n",
      "(256, 8, 13, 21)\n",
      "(256, 8, 13, 21)\n",
      "(256, 8, 13, 21)\n"
     ]
    }
   ],
   "source": [
    "truthB = []\n",
    "predB = []\n",
    "\n",
    "limit = NUMBER_TEST_SET/BATCH_SIZE\n",
    "\n",
    "batches = 0\n",
    "for i in test_generator:\n",
    "  predB.append(model.predict(i[0]))\n",
    "  truthB.append(i[1]) \n",
    "  batches += 1\n",
    "  if batches > (NUMBER_TEST_SET/BATCH_SIZE)-1:\n",
    "    break\n",
    "\n",
    "predBATCHED = np.concatenate(predB)\n",
    "truthBATCHED = np.concatenate(truthB)\n",
    "\n",
    "df_predict2 = pd.DataFrame(predBATCHED, columns=['cotBeta'])\n",
    "df_true = pd.DataFrame(truthBATCHED, columns=['cotBeta'])"
   ]
  },
  {
   "cell_type": "code",
   "execution_count": 14,
   "id": "5def2da4",
   "metadata": {},
   "outputs": [
    {
     "name": "stderr",
     "output_type": "stream",
     "text": [
      "/home/jieun201/.local/lib/python3.8/site-packages/seaborn/distributions.py:2619: FutureWarning: `distplot` is a deprecated function and will be removed in a future version. Please adapt your code to use either `displot` (a figure-level function with similar flexibility) or `histplot` (an axes-level function for histograms).\n",
      "  warnings.warn(msg, FutureWarning)\n"
     ]
    },
    {
     "data": {
      "image/png": "[encoded data removed]",
      "text/plain": [
       "<Figure size 432x288 with 1 Axes>"
      ]
     },
     "metadata": {
      "needs_background": "light"
     },
     "output_type": "display_data"
    }
   ],
   "source": [
    "sns.distplot(df_true['cotBeta']-df_predict2['cotBeta'], kde=False, bins=50)\n",
    "plt.xlabel('cotBeta residual')\n",
    "plt.ylabel('frequency')\n",
    "plt.xlim([-.3,.3])\n",
    "plt.title('Cot Beta Residual')\n",
    "plt.savefig('cotBeta-resolution.png')"
   ]
  }
 ],
 "metadata": {
  "kernelspec": {
   "display_name": "Python 3 (ipykernel)",
   "language": "python",
   "name": "python3"
  },
  "language_info": {
   "codemirror_mode": {
    "name": "ipython",
    "version": 3
   },
   "file_extension": ".py",
   "mimetype": "text/x-python",
   "name": "python",
   "nbconvert_exporter": "python",
   "pygments_lexer": "ipython3",
   "version": "3.9.4"
  }
 },
 "nbformat": 4,
 "nbformat_minor": 5
}
