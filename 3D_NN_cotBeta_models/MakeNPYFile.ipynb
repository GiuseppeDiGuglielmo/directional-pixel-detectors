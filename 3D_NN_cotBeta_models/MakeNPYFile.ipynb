{
 "cells": [
  {
   "cell_type": "code",
   "execution_count": null,
   "id": "nm7L3FAB9RTp",
   "metadata": {
    "colab": {
     "base_uri": "https://localhost:8080/"
    },
    "id": "nm7L3FAB9RTp",
    "outputId": "66532a7b-6457-4243-eaa3-8013d3cf3ca6"
   },
   "outputs": [],
   "source": [
    "#from google.colab import drive\n",
    "#drive.mount('/content/drive')"
   ]
  },
  {
   "cell_type": "code",
   "execution_count": 1,
   "id": "3f683539",
   "metadata": {
    "id": "3f683539"
   },
   "outputs": [],
   "source": [
    "import os\n",
    "import numpy as np\n",
    "import pandas as pd\n",
    "from collections import deque\n",
    "import copy\n",
    "TEMPORAL_LENGTH = 8"
   ]
  },
  {
   "cell_type": "code",
   "execution_count": 2,
   "id": "bed62e65",
   "metadata": {
    "id": "bed62e65"
   },
   "outputs": [],
   "source": [
    "def file_generator(data_path,data_files,temporal_stride=1,temporal_length=TEMPORAL_LENGTH):\n",
    "    #print(data_files)\n",
    "    for f in data_files: \n",
    "        tmp_df = pd.read_csv(os.path.join(data_path,f), sep=',')\n",
    "        label_list = list(tmp_df['label'])  \n",
    "        total_images = len(label_list) \n",
    "        if total_images==temporal_length: \n",
    "            num_samples = int((total_images-temporal_length)/temporal_stride)+1\n",
    "            #print ('num of frames: {}: {}'.format(f,num_samples))\n",
    "            img_list = list(tmp_df['FileName'])\n",
    "        else: # if the number of frames < than temporal length , discard it\n",
    "            print ('num of frames is less than temporal length; hence discarding this file-{}'.format(f))\n",
    "            continue\n",
    "\n",
    "        start_frame = 0\n",
    "        samples = deque()  \n",
    "        samp_count=0  \n",
    "        for img in img_list:\n",
    "            samples.append(img)\n",
    "            if len(samples)==temporal_length: \n",
    "                samples_c=copy.deepcopy(samples) \n",
    "                samp_count+=1\n",
    "                for t in range(temporal_stride): \n",
    "                    samples.popleft()\n",
    "                yield samples_c,label_list[0]  "
   ]
  },
  {
   "cell_type": "code",
   "execution_count": 3,
   "id": "RwHIVh3E-9fD",
   "metadata": {
    "id": "RwHIVh3E-9fD"
   },
   "outputs": [],
   "source": [
    "def load_samplesTest(temporal_stride=1,temporal_length=TEMPORAL_LENGTH):\n",
    "    #data_path = os.path.join('/Users/jieunyoo/Downloads/data_files_test/')\n",
    "    data_path = os.path.join('/Users/jieunyoo/Downloads/data_files_test/')\n",
    "    data_files = os.listdir(data_path)\n",
    "    #generator to read the samples\n",
    "    file_gen = file_generator(data_path,data_files,temporal_stride,temporal_length)\n",
    "    iterator = True\n",
    "    data_list = []\n",
    "    while iterator:\n",
    "        try:\n",
    "            x,y = next(file_gen)\n",
    "            x=list(x)\n",
    "            data_list.append([x,y])\n",
    "        except Exception as e:\n",
    "            print ('Exception: ',e)\n",
    "            iterator = False\n",
    "            print ('end of data generator')\n",
    "    return data_list"
   ]
  },
  {
   "cell_type": "code",
   "execution_count": null,
   "id": "425c3c7a",
   "metadata": {
    "colab": {
     "base_uri": "https://localhost:8080/"
    },
    "id": "425c3c7a",
    "outputId": "be5b7eb4-e540-43c8-bc39-07f0e3603855"
   },
   "outputs": [],
   "source": [
    "#train_data = load_samplesTrain(temporal_stride=1,temporal_length=TEMPORAL_LENGTH)"
   ]
  },
  {
   "cell_type": "code",
   "execution_count": 4,
   "id": "2pOqxLlIFXoR",
   "metadata": {
    "colab": {
     "base_uri": "https://localhost:8080/"
    },
    "id": "2pOqxLlIFXoR",
    "outputId": "278e76e9-1f4f-469b-d3c3-2e3772427a66"
   },
   "outputs": [
    {
     "name": "stdout",
     "output_type": "stream",
     "text": [
      "Exception:  \n",
      "end of data generator\n"
     ]
    }
   ],
   "source": [
    "test_data = load_samplesTest(temporal_stride=1,temporal_length=TEMPORAL_LENGTH)"
   ]
  },
  {
   "cell_type": "code",
   "execution_count": 5,
   "id": "_kKPicPl08pR",
   "metadata": {
    "id": "_kKPicPl08pR"
   },
   "outputs": [],
   "source": [
    "#type(train_data)\n",
    "#trainListToArray = np.array(train_data,dtype=object)\n",
    "#np.save(\"/content/drive/MyDrive/testGCP-DEBUG/TrainingData.npy\", trainListToArray, allow_pickle=True,fix_imports=True)\n",
    "\n",
    "testListToArray = np.array(test_data,dtype=object)\n",
    "np.save(\"/Users/jieunyoo/Downloads/TestData.npy\", testListToArray, allow_pickle=True,fix_imports=True)"
   ]
  },
  {
   "cell_type": "code",
   "execution_count": 6,
   "id": "ddc52f89",
   "metadata": {
    "colab": {
     "base_uri": "https://localhost:8080/"
    },
    "id": "ddc52f89",
    "outputId": "b2e6fe25-aaf7-4570-b314-23e1bed624b1"
   },
   "outputs": [
    {
     "data": {
      "text/plain": [
       "array([list(['pixel-data-3d/figures-test2/d16118cluster23003/event023003_frame00.npy', 'pixel-data-3d/figures-test2/d16118cluster23003/event023003_frame01.npy', 'pixel-data-3d/figures-test2/d16118cluster23003/event023003_frame02.npy', 'pixel-data-3d/figures-test2/d16118cluster23003/event023003_frame03.npy', 'pixel-data-3d/figures-test2/d16118cluster23003/event023003_frame04.npy', 'pixel-data-3d/figures-test2/d16118cluster23003/event023003_frame05.npy', 'pixel-data-3d/figures-test2/d16118cluster23003/event023003_frame06.npy', 'pixel-data-3d/figures-test2/d16118cluster23003/event023003_frame07.npy']),\n",
       "       0.0381937792525752], dtype=object)"
      ]
     },
     "execution_count": 6,
     "metadata": {},
     "output_type": "execute_result"
    }
   ],
   "source": [
    "#print ('Total number of train samples:',len(train_data))\n",
    "#print ('Total number of test samples:',len(test_data))\n",
    "testListToArray[0]"
   ]
  },
  {
   "cell_type": "code",
   "execution_count": null,
   "id": "awBW9l-JKn0f",
   "metadata": {
    "colab": {
     "base_uri": "https://localhost:8080/"
    },
    "id": "awBW9l-JKn0f",
    "outputId": "efe7cd66-5e5c-4496-bc78-56583cc9ab7c"
   },
   "outputs": [],
   "source": [
    "testLoading = np.load('/Users/jieunyoo/Downloads/TestData.npy', allow_pickle=True)\n",
    "testLoading"
   ]
  }
 ],
 "metadata": {
  "colab": {
   "collapsed_sections": [],
   "name": "MakeLists.ipynb",
   "provenance": []
  },
  "kernelspec": {
   "display_name": "Python 3 (ipykernel)",
   "language": "python",
   "name": "python3"
  },
  "language_info": {
   "codemirror_mode": {
    "name": "ipython",
    "version": 3
   },
   "file_extension": ".py",
   "mimetype": "text/x-python",
   "name": "python",
   "nbconvert_exporter": "python",
   "pygments_lexer": "ipython3",
   "version": "3.9.4"
  }
 },
 "nbformat": 4,
 "nbformat_minor": 5
}
