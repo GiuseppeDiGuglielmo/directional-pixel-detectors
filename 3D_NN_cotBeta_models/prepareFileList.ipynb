{
 "cells": [
  {
   "cell_type": "code",
   "execution_count": null,
   "id": "f4a3a7d2",
   "metadata": {},
   "outputs": [],
   "source": [
    "import os\n",
    "import numpy as np\n",
    "import pandas as pd\n",
    "\n",
    "import warnings\n",
    "warnings.filterwarnings('ignore')\n",
    "\n",
    "path = os.getcwd()\n",
    "pathTrain = os.path.join(path,'figures')\n",
    "pathTest = os.path.join(path,'figures-test')"
   ]
  },
  {
   "cell_type": "code",
   "execution_count": null,
   "id": "6a10958d",
   "metadata": {},
   "outputs": [],
   "source": [
    "labelsList=pd.read_csv('/Users/jieunyoo/april12_3dCNN/labels.csv')\n",
    "labelsList"
   ]
  },
  {
   "cell_type": "code",
   "execution_count": null,
   "id": "d321312d",
   "metadata": {},
   "outputs": [],
   "source": [
    "labelsListTest=pd.read_csv('/Users/jieunyoo/april12_3dCNN/labelsTest.csv')\n",
    "labelsListTest"
   ]
  },
  {
   "cell_type": "code",
   "execution_count": null,
   "id": "6593531e",
   "metadata": {},
   "outputs": [],
   "source": [
    "#get file lists for training\n",
    "cluster_directory_list = os.listdir('/Users/jieunyoo/april12_3dCNN/figures')\n",
    "\n",
    "for index1, data_dir in enumerate(cluster_directory_list):\n",
    "    clusterpath = os.path.join(pathTrain,data_dir)\n",
    "    print(clusterpath)\n",
    "    img_list = os.listdir(os.path.join(clusterpath))\n",
    "    img_list.sort()\n",
    "\n",
    "    train_df = pd.DataFrame(columns=['FileName'])\n",
    "    for frame in img_list:\n",
    "        frame_list = os.path.join(clusterpath,frame)\n",
    "        train_df = train_df.append({'FileName': frame_list},ignore_index=True)\n",
    "   \n",
    "    file_name='{}.csv'.format(data_dir)\n",
    "    train_df.to_csv('/Users/jieunyoo/april12_3dCNN/data_files/train/{}'.format(file_name),index=False)"
   ]
  },
  {
   "cell_type": "code",
   "execution_count": null,
   "id": "3e361fe9",
   "metadata": {},
   "outputs": [],
   "source": [
    "#get file lists for testing\n",
    "cluster_directory_listTest = os.listdir('/Users/jieunyoo/april12_3dCNN/figures-test')\n",
    "print(cluster_directory_listTest)\n",
    "for index1, data_dir in enumerate(cluster_directory_listTest):\n",
    "    clusterpathTest = os.path.join(pathTest,data_dir)\n",
    "    img_list = os.listdir(os.path.join(clusterpathTest))\n",
    "    img_list.sort()\n",
    "    test_df = pd.DataFrame(columns=['FileName'])\n",
    "    for frame in img_list:\n",
    "        frame_list = os.path.join(clusterpathTest,frame)\n",
    "        test_df = test_df.append({'FileName': frame_list},ignore_index=True)\n",
    "    file_name='{}.csv'.format(data_dir)\n",
    "    test_df.to_csv('/Users/jieunyoo/april12_3dCNN/data_files/test/{}'.format(file_name),index=False)"
   ]
  },
  {
   "cell_type": "code",
   "execution_count": null,
   "id": "bd42bdb2",
   "metadata": {},
   "outputs": [],
   "source": [
    "#train\n",
    "cotBeta = labelsList.to_numpy()\n",
    "print(cotBeta)"
   ]
  },
  {
   "cell_type": "code",
   "execution_count": null,
   "id": "5981c7a8",
   "metadata": {},
   "outputs": [],
   "source": [
    "#test\n",
    "cotBetaTest = labelsListTest.to_numpy()\n",
    "print(cotBetaTest)"
   ]
  },
  {
   "cell_type": "code",
   "execution_count": null,
   "id": "aa34f227",
   "metadata": {},
   "outputs": [],
   "source": [
    "#append cotBeta label (for training)\n",
    "for index,file in enumerate(cluster_directory_list):\n",
    "    label = cotBeta[index][0]\n",
    "    temporaryList=np.repeat(label,8)\n",
    "    temporaryDF = pd.DataFrame(temporaryList, columns=['label'])\n",
    "       \n",
    "    file_name='{}.csv'.format(index)\n",
    "    temporary1 = pd.read_csv('/Users/jieunyoo/april12_3dCNN/data_files/train/cluster{}'.format(file_name))\n",
    "    result = pd.concat([temporary1,temporaryDF],axis=1)\n",
    "    print(result)\n",
    "    result.to_csv('/Users/jieunyoo/april12_3dCNN/data_files/train/cluster{}'.format(file_name),index=False)"
   ]
  },
  {
   "cell_type": "code",
   "execution_count": null,
   "id": "ea3cec52",
   "metadata": {},
   "outputs": [],
   "source": [
    "#append cotBeta label (for testing)\n",
    "for index,file in enumerate(cluster_directory_listTest):\n",
    "    label = cotBetaTest[index][0]\n",
    "    temporaryList=np.repeat(label,8)\n",
    "    temporaryDF = pd.DataFrame(temporaryList, columns=['label'])\n",
    "       \n",
    "    file_name='{}.csv'.format(index)\n",
    "    temporary1 = pd.read_csv('/Users/jieunyoo/april12_3dCNN/data_files/test/cluster{}'.format(file_name))\n",
    "    result = pd.concat([temporary1,temporaryDF],axis=1)\n",
    "    print(result)\n",
    "    result.to_csv('/Users/jieunyoo/april12_3dCNN/data_files/test/cluster{}'.format(file_name),index=False)"
   ]
  }
 ],
 "metadata": {
  "kernelspec": {
   "display_name": "Python 3 (ipykernel)",
   "language": "python",
   "name": "python3"
  },
  "language_info": {
   "codemirror_mode": {
    "name": "ipython",
    "version": 3
   },
   "file_extension": ".py",
   "mimetype": "text/x-python",
   "name": "python",
   "nbconvert_exporter": "python",
   "pygments_lexer": "ipython3",
   "version": "3.9.4"
  }
 },
 "nbformat": 4,
 "nbformat_minor": 5
}
