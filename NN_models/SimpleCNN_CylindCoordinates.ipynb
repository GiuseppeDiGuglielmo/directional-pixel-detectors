{
  "cells": [
    {
      "cell_type": "code",
      "execution_count": 1,
      "metadata": {
        "id": "XU9xrpZGwcI2"
      },
      "outputs": [],
      "source": [
        "from sklearn.model_selection import train_test_split\n",
        "from sklearn.metrics import mean_squared_error\n",
        "from sklearn.preprocessing import StandardScaler\n",
        "\n",
        "import tensorflow as tf\n",
        "from tensorflow.keras import datasets, layers, models\n",
        "import keras\n",
        "from keras.models import Sequential\n",
        "from keras.layers import Dense, Dropout, Flatten\n",
        "from keras.layers import Conv2D, MaxPooling2D\n",
        "\n",
        "import os\n",
        "#import glob\n",
        "\n",
        "import matplotlib.pyplot as plt\n",
        "import numpy as np\n",
        "import pandas as pd\n",
        "from pandas import read_csv\n",
        "import math\n",
        "import seaborn as sns\n",
        "\n",
        "import keras\n",
        "from keras.models import Sequential\n",
        "from keras.layers import Dense, Dropout, Flatten\n",
        "from keras.layers import Conv2D, MaxPooling2D\n",
        "from keras.callbacks import CSVLogger"
      ]
    },
    {
      "cell_type": "code",
      "execution_count": 2,
      "metadata": {
        "colab": {
          "base_uri": "https://localhost:8080/"
        },
        "id": "-Y57cDjYzglB",
        "outputId": "0f9b1116-1bdc-4253-b1ed-100382924b7c"
      },
      "outputs": [
        {
          "output_type": "stream",
          "name": "stdout",
          "text": [
            "Mounted at /content/drive\n"
          ]
        }
      ],
      "source": [
        "from google.colab import drive\n",
        "drive.mount('/content/drive')"
      ]
    },
    {
      "cell_type": "code",
      "execution_count": 3,
      "metadata": {
        "id": "5TPwIMQAxvw6"
      },
      "outputs": [],
      "source": [
        "\n",
        "df1 = pd.read_csv('/content/drive/MyDrive/NN-jan28/recon50000.csv')\n",
        "df2 = pd.read_csv('/content/drive/MyDrive/NN-jan28/labels50000.csv')\n",
        "\n",
        "X = df1.values\n",
        "y = df2.values\n",
        "\n",
        "n = 49985\n",
        "\n",
        "X = np.reshape(X, (n,13,21))"
      ]
    },
    {
      "cell_type": "code",
      "execution_count": 4,
      "metadata": {
        "colab": {
          "base_uri": "https://localhost:8080/"
        },
        "id": "k5un3gGszLCd",
        "outputId": "c5cd03d7-c361-4372-a81b-762e7e19fe12"
      },
      "outputs": [
        {
          "output_type": "stream",
          "name": "stdout",
          "text": [
            "      x-entry   y-entry  z-entry  cotAlpha   cotBeta\n",
            "0  326.400238  2.956844      0.0 -6.711530 -0.113275\n",
            "1  -96.487137  6.297313      0.0  1.858455 -0.039858\n",
            "2  224.482834 -7.186841      0.0 -4.453536  0.204074\n",
            "3   56.857647 -1.071598      0.0 -0.896232  0.144346\n",
            "4   -0.926316  6.759004      0.0  0.485812 -0.154823\n"
          ]
        }
      ],
      "source": [
        "#note: labels.csv has 11 columns; you need to drop the column you don't want, and then adjust number of outputs in your NN\n",
        "\n",
        "#df2.head()\n",
        "#df2.drop('x-entry', axis=1, inplace=True)\n",
        "#df2.drop('y-entry', axis=1, inplace=True)\n",
        "#df2.drop('z-entry', axis=1, inplace=True)\n",
        "df2.drop('n_x', axis=1, inplace=True)\n",
        "df2.drop('n_y', axis=1, inplace=True)\n",
        "df2.drop('n_z', axis=1, inplace=True)\n",
        "df2.drop('number_eh_pairs', axis=1, inplace=True)\n",
        "\n",
        "print(df2.head())\n",
        "#df2.shape\n",
        "\n",
        "#reset y since you dropped columns\n",
        "y = df2.values"
      ]
    },
    {
      "cell_type": "code",
      "execution_count": 93,
      "metadata": {
        "colab": {
          "base_uri": "https://localhost:8080/",
          "height": 352
        },
        "id": "VQcZvD-4DRjc",
        "outputId": "0c964e7d-3f19-4fc2-fcfd-154b1f3f612a"
      },
      "outputs": [
        {
          "output_type": "stream",
          "name": "stderr",
          "text": [
            "/usr/local/lib/python3.7/dist-packages/seaborn/distributions.py:2619: FutureWarning: `distplot` is a deprecated function and will be removed in a future version. Please adapt your code to use either `displot` (a figure-level function with similar flexibility) or `histplot` (an axes-level function for histograms).\n",
            "  warnings.warn(msg, FutureWarning)\n"
          ]
        },
        {
          "output_type": "display_data",
          "data": {
            "image/png": "[encoded data removed]",
            "text/plain": [
              "<Figure size 432x288 with 1 Axes>"
            ]
          },
          "metadata": {
            "needs_background": "light"
          }
        }
      ],
      "source": [
        "#histo. of true cotAlpha values\n",
        "df_true_cotAlpha = pd.DataFrame(df2, columns=['cotAlpha'])\n",
        "sns.distplot(df_true_cotAlpha['cotAlpha'], kde=False, bins=50)\n",
        "plt.xlabel('cotAlpha')\n",
        "plt.xlim([-10,10])\n",
        "plt.ylabel('frequency')\n",
        "plt.title(\"cotAlpha (true)\")\n",
        "plt.savefig('cotAlpha-true.png')"
      ]
    },
    {
      "cell_type": "code",
      "execution_count": 52,
      "metadata": {
        "colab": {
          "base_uri": "https://localhost:8080/",
          "height": 352
        },
        "id": "L_w9mQriCzUE",
        "outputId": "52b8bd37-b62f-45b5-ad56-004f2c974f8c"
      },
      "outputs": [
        {
          "output_type": "stream",
          "name": "stderr",
          "text": [
            "/usr/local/lib/python3.7/dist-packages/seaborn/distributions.py:2619: FutureWarning: `distplot` is a deprecated function and will be removed in a future version. Please adapt your code to use either `displot` (a figure-level function with similar flexibility) or `histplot` (an axes-level function for histograms).\n",
            "  warnings.warn(msg, FutureWarning)\n"
          ]
        },
        {
          "output_type": "display_data",
          "data": {
            "image/png": "[encoded data removed]",
            "text/plain": [
              "<Figure size 432x288 with 1 Axes>"
            ]
          },
          "metadata": {
            "needs_background": "light"
          }
        }
      ],
      "source": [
        "df_true_cotBeta = pd.DataFrame(df2, columns=['cotBeta'])\n",
        "sns.distplot(df_true_cotBeta['cotBeta'], kde=False, bins=20)\n",
        "plt.xlim([-0.3,0.3])\n",
        "plt.xlabel('cotBeta')\n",
        "plt.ylabel('frequency')\n",
        "plt.title(\"cotBeta (true)\")\n",
        "plt.savefig('cotBeta-true.png')"
      ]
    },
    {
      "cell_type": "code",
      "execution_count": 96,
      "metadata": {
        "colab": {
          "base_uri": "https://localhost:8080/",
          "height": 355
        },
        "id": "0jJrPtkUCz3-",
        "outputId": "ebad6225-b669-4989-faa4-4920375f1bb6"
      },
      "outputs": [
        {
          "output_type": "stream",
          "name": "stderr",
          "text": [
            "/usr/local/lib/python3.7/dist-packages/seaborn/distributions.py:2619: FutureWarning: `distplot` is a deprecated function and will be removed in a future version. Please adapt your code to use either `displot` (a figure-level function with similar flexibility) or `histplot` (an axes-level function for histograms).\n",
            "  warnings.warn(msg, FutureWarning)\n"
          ]
        },
        {
          "output_type": "display_data",
          "data": {
            "image/png": "[encoded data removed]",
            "text/plain": [
              "<Figure size 432x288 with 1 Axes>"
            ]
          },
          "metadata": {
            "needs_background": "light"
          }
        }
      ],
      "source": [
        "df_true_x = pd.DataFrame(df2, columns=['x-entry'])\n",
        "sns.distplot(df_true_x['x-entry'], kde=False, bins=40)\n",
        "plt.xlim([-500,500])\n",
        "plt.xlabel(r'x ($\\mu$m)')\n",
        "plt.ylabel('frequency')\n",
        "plt.title(\"x-entry (true)\")\n",
        "plt.savefig('x-entry-true.png')"
      ]
    },
    {
      "cell_type": "code",
      "execution_count": 97,
      "metadata": {
        "colab": {
          "base_uri": "https://localhost:8080/",
          "height": 355
        },
        "id": "D8e3sx58C0h4",
        "outputId": "13343e59-3692-4397-9045-b9fbac8eb25a"
      },
      "outputs": [
        {
          "output_type": "stream",
          "name": "stderr",
          "text": [
            "/usr/local/lib/python3.7/dist-packages/seaborn/distributions.py:2619: FutureWarning: `distplot` is a deprecated function and will be removed in a future version. Please adapt your code to use either `displot` (a figure-level function with similar flexibility) or `histplot` (an axes-level function for histograms).\n",
            "  warnings.warn(msg, FutureWarning)\n"
          ]
        },
        {
          "output_type": "display_data",
          "data": {
            "image/png": "[encoded data removed]",
            "text/plain": [
              "<Figure size 432x288 with 1 Axes>"
            ]
          },
          "metadata": {
            "needs_background": "light"
          }
        }
      ],
      "source": [
        "df_true_yi = pd.DataFrame(df2, columns=['y-entry'])\n",
        "sns.distplot(df_true_y['y-entry'], kde=False, bins=40)\n",
        "plt.xlabel(r'y ($\\mu$m)')\n",
        "plt.xlim([-20,20])\n",
        "plt.ylabel('frequency')\n",
        "plt.title(\"y-entry (true)\")\n",
        "plt.savefig('y-entry-true.png')"
      ]
    },
    {
      "cell_type": "code",
      "execution_count": 98,
      "metadata": {
        "colab": {
          "base_uri": "https://localhost:8080/",
          "height": 355
        },
        "id": "e1Ha0NY5C11K",
        "outputId": "1da3856b-9ec1-481d-f33b-89bc226eaa95"
      },
      "outputs": [
        {
          "output_type": "stream",
          "name": "stderr",
          "text": [
            "/usr/local/lib/python3.7/dist-packages/seaborn/distributions.py:2619: FutureWarning: `distplot` is a deprecated function and will be removed in a future version. Please adapt your code to use either `displot` (a figure-level function with similar flexibility) or `histplot` (an axes-level function for histograms).\n",
            "  warnings.warn(msg, FutureWarning)\n"
          ]
        },
        {
          "output_type": "display_data",
          "data": {
            "image/png": "[encoded data removed]",
            "text/plain": [
              "<Figure size 432x288 with 1 Axes>"
            ]
          },
          "metadata": {
            "needs_background": "light"
          }
        }
      ],
      "source": [
        "df_true_z = pd.DataFrame(df2, columns=['z-entry'])\n",
        "sns.distplot(df_true_z['z-entry'], kde=False, bins=5)\n",
        "plt.xlabel(r'z ($\\mu$m)')\n",
        "plt.xlim([-0.15,0.15])\n",
        "plt.ylabel('frequency')\n",
        "plt.title(\"z-entry (true)\")\n",
        "plt.savefig('z-entry-true.png')"
      ]
    },
    {
      "cell_type": "code",
      "execution_count": 10,
      "metadata": {
        "id": "QvwmzDiz5O9N"
      },
      "outputs": [],
      "source": [
        "#https://keras.io/api/callbacks/#csvlogger\n",
        "#from https://keras.io/guides/writing_your_own_callbacks/\n",
        "class CustomCallback(keras.callbacks.Callback):\n",
        "    def on_train_begin(self, logs=None):\n",
        "        keys = list(logs.keys())\n",
        "        print(\"Starting training; got log keys: {}\".format(keys))\n",
        "\n",
        "    def on_train_end(self, logs=None):\n",
        "        keys = list(logs.keys())\n",
        "        print(\"Stop training; got log keys: {}\".format(keys))\n",
        "\n",
        "    def on_epoch_begin(self, epoch, logs=None):\n",
        "        keys = list(logs.keys())\n",
        "        print(\"Start epoch {} of training; got log keys: {}\".format(epoch, keys))\n",
        "\n",
        "    def on_epoch_end(self, epoch, logs=None):\n",
        "        keys = list(logs.keys())\n",
        "        print(\"End epoch {} of training; got log keys: {}\".format(epoch, keys))\n",
        "\n",
        "    def on_test_begin(self, logs=None):\n",
        "        keys = list(logs.keys())\n",
        "        print(\"Start testing; got log keys: {}\".format(keys))\n",
        "\n",
        "    def on_test_end(self, logs=None):\n",
        "        keys = list(logs.keys())\n",
        "        print(\"Stop testing; got log keys: {}\".format(keys))\n",
        "\n",
        "    def on_predict_begin(self, logs=None):\n",
        "        keys = list(logs.keys())\n",
        "        print(\"Start predicting; got log keys: {}\".format(keys))\n",
        "\n",
        "    def on_predict_end(self, logs=None):\n",
        "        keys = list(logs.keys())\n",
        "        print(\"Stop predicting; got log keys: {}\".format(keys))\n",
        "\n",
        "    def on_train_batch_begin(self, batch, logs=None):\n",
        "        keys = list(logs.keys())\n",
        "        print(\"...Training: start of batch {}; got log keys: {}\".format(batch, keys))\n",
        "\n",
        "    def on_train_batch_end(self, batch, logs=None):\n",
        "        keys = list(logs.keys())\n",
        "        print(\"...Training: end of batch {}; got log keys: {}\".format(batch, keys))\n",
        "\n",
        "    def on_test_batch_begin(self, batch, logs=None):\n",
        "        keys = list(logs.keys())\n",
        "        print(\"...Evaluating: start of batch {}; got log keys: {}\".format(batch, keys))\n",
        "\n",
        "    def on_test_batch_end(self, batch, logs=None):\n",
        "        keys = list(logs.keys())\n",
        "        print(\"...Evaluating: end of batch {}; got log keys: {}\".format(batch, keys))\n",
        "\n",
        "   # def on_predict_batch_begin(self, batch, logs=None):\n",
        "    #    keys = list(logs.keys())\n",
        "     #   print(\"...Predicting: start of batch {}; got log keys: {}\".format(batch, keys))\n",
        "\n",
        "#    def on_predict_batch_end(self, batch, logs=None):\n",
        " #       keys = list(logs.keys())\n",
        "  #      print(\"...Predicting: end of batch {}; got log keys: {}\".format(batch, keys))"
      ]
    },
    {
      "cell_type": "code",
      "execution_count": 58,
      "metadata": {
        "colab": {
          "base_uri": "https://localhost:8080/"
        },
        "id": "UUjsMRLKxyeb",
        "outputId": "40297914-b765-4f7c-db60-8c7b0e1c1447"
      },
      "outputs": [
        {
          "output_type": "stream",
          "name": "stdout",
          "text": [
            "(49985, 13, 21) (49985, 5)\n",
            "(39988, 13, 21) (9997, 13, 21) (39988, 5) (9997, 5)\n",
            "Model: \"sequential_1\"\n",
            "_________________________________________________________________\n",
            " Layer (type)                Output Shape              Param #   \n",
            "=================================================================\n",
            " conv2d_2 (Conv2D)           (None, 6, 10, 32)         320       \n",
            "                                                                 \n",
            " max_pooling2d_1 (MaxPooling  (None, 3, 5, 32)         0         \n",
            " 2D)                                                             \n",
            "                                                                 \n",
            " conv2d_3 (Conv2D)           (None, 1, 2, 64)          18496     \n",
            "                                                                 \n",
            " flatten_1 (Flatten)         (None, 128)               0         \n",
            "                                                                 \n",
            " dense_2 (Dense)             (None, 64)                8256      \n",
            "                                                                 \n",
            " dropout_1 (Dropout)         (None, 64)                0         \n",
            "                                                                 \n",
            " dense_3 (Dense)             (None, 5)                 325       \n",
            "                                                                 \n",
            "=================================================================\n",
            "Total params: 27,397\n",
            "Trainable params: 27,397\n",
            "Non-trainable params: 0\n",
            "_________________________________________________________________\n"
          ]
        }
      ],
      "source": [
        "X_train, X_test, y_train, y_test = train_test_split(X,y,test_size = 0.20, random_state = 0)\n",
        "print(X.shape, y.shape)\n",
        "print(X_train.shape, X_test.shape, y_train.shape, y_test.shape)\n",
        "\n",
        "#scale input data\n",
        "scaler = StandardScaler()\n",
        "X_train = scaler.fit_transform(X_train.reshape(-1, X_train.shape[-1])).reshape(X_train.shape)\n",
        "X_test = scaler.transform(X_test.reshape(-1, X_test.shape[-1])).reshape(X_test.shape)\n",
        "\n",
        "#make a simple model\n",
        "model = models.Sequential()\n",
        "model.add(layers.Conv2D(32, (3, 3), strides=(2, 2), activation='relu', input_shape=(13, 21, 1)))\n",
        "model.add(layers.MaxPooling2D((2, 2)))\n",
        "model.add(layers.Conv2D(64, (3, 3), strides=(2, 2), activation='relu'))\n",
        "model.add(layers.Flatten())\n",
        "model.add(layers.Dense(64, activation='relu'))\n",
        "model.add(layers.Dropout(0.5))\n",
        "model.add(layers.Dense(5, activation='linear'))\n",
        "model.summary()\n"
      ]
    },
    {
      "cell_type": "code",
      "execution_count": 59,
      "metadata": {
        "colab": {
          "base_uri": "https://localhost:8080/"
        },
        "id": "MSVsseSlYVih",
        "outputId": "b443d367-3660-4f16-bd28-96738d7ca5e5"
      },
      "outputs": [
        {
          "output_type": "stream",
          "name": "stdout",
          "text": [
            "/content/drive/MyDrive/NN-jan28/training_1\n",
            "/content/drive/MyDrive/NN-jan28/training_1\n"
          ]
        }
      ],
      "source": [
        "path = os.getcwd()\n",
        "print(path)\n",
        "os.chdir('/content/drive/MyDrive/NN-jan28/training_1')\n",
        "print(os.getcwd())"
      ]
    },
    {
      "cell_type": "code",
      "execution_count": 60,
      "metadata": {
        "colab": {
          "base_uri": "https://localhost:8080/"
        },
        "id": "A5wetuxp1efH",
        "outputId": "70b0c9ae-1203-4741-fdcd-3a3d235375c3"
      },
      "outputs": [
        {
          "output_type": "stream",
          "name": "stdout",
          "text": [
            "Epoch 1/50\n",
            "625/625 [==============================] - ETA: 0s - loss: 2505.8491 - mean_squared_error: 2505.8491\n",
            "Epoch 00001: saving model to cp.ckpt\n",
            "625/625 [==============================] - 7s 10ms/step - loss: 2505.8491 - mean_squared_error: 2505.8491 - val_loss: 712.0750 - val_mean_squared_error: 712.0750\n",
            "Epoch 2/50\n",
            "623/625 [============================>.] - ETA: 0s - loss: 943.7648 - mean_squared_error: 943.7648\n",
            "Epoch 00002: saving model to cp.ckpt\n",
            "625/625 [==============================] - 5s 8ms/step - loss: 943.5464 - mean_squared_error: 943.5464 - val_loss: 405.0428 - val_mean_squared_error: 405.0428\n",
            "Epoch 3/50\n",
            "620/625 [============================>.] - ETA: 0s - loss: 720.9822 - mean_squared_error: 720.9822\n",
            "Epoch 00003: saving model to cp.ckpt\n",
            "625/625 [==============================] - 5s 8ms/step - loss: 720.7838 - mean_squared_error: 720.7838 - val_loss: 244.8961 - val_mean_squared_error: 244.8961\n",
            "Epoch 4/50\n",
            "625/625 [==============================] - ETA: 0s - loss: 621.7418 - mean_squared_error: 621.7418\n",
            "Epoch 00004: saving model to cp.ckpt\n",
            "625/625 [==============================] - 5s 8ms/step - loss: 621.7418 - mean_squared_error: 621.7418 - val_loss: 225.3665 - val_mean_squared_error: 225.3665\n",
            "Epoch 5/50\n",
            "623/625 [============================>.] - ETA: 0s - loss: 583.1635 - mean_squared_error: 583.1635\n",
            "Epoch 00005: saving model to cp.ckpt\n",
            "625/625 [==============================] - 5s 7ms/step - loss: 583.2646 - mean_squared_error: 583.2646 - val_loss: 151.5618 - val_mean_squared_error: 151.5618\n",
            "Epoch 6/50\n",
            "622/625 [============================>.] - ETA: 0s - loss: 562.5844 - mean_squared_error: 562.5844\n",
            "Epoch 00006: saving model to cp.ckpt\n",
            "625/625 [==============================] - 4s 7ms/step - loss: 562.7004 - mean_squared_error: 562.7004 - val_loss: 122.5190 - val_mean_squared_error: 122.5190\n",
            "Epoch 7/50\n",
            "618/625 [============================>.] - ETA: 0s - loss: 545.1039 - mean_squared_error: 545.1039\n",
            "Epoch 00007: saving model to cp.ckpt\n",
            "625/625 [==============================] - 5s 7ms/step - loss: 545.3721 - mean_squared_error: 545.3721 - val_loss: 133.1168 - val_mean_squared_error: 133.1168\n",
            "Epoch 8/50\n",
            "625/625 [==============================] - ETA: 0s - loss: 539.8471 - mean_squared_error: 539.8471\n",
            "Epoch 00008: saving model to cp.ckpt\n",
            "625/625 [==============================] - 5s 8ms/step - loss: 539.8471 - mean_squared_error: 539.8471 - val_loss: 139.9991 - val_mean_squared_error: 139.9991\n",
            "Epoch 9/50\n",
            "623/625 [============================>.] - ETA: 0s - loss: 503.0230 - mean_squared_error: 503.0230\n",
            "Epoch 00009: saving model to cp.ckpt\n",
            "625/625 [==============================] - 5s 7ms/step - loss: 502.7734 - mean_squared_error: 502.7734 - val_loss: 90.7840 - val_mean_squared_error: 90.7840\n",
            "Epoch 10/50\n",
            "619/625 [============================>.] - ETA: 0s - loss: 493.3871 - mean_squared_error: 493.3871\n",
            "Epoch 00010: saving model to cp.ckpt\n",
            "625/625 [==============================] - 5s 8ms/step - loss: 492.7229 - mean_squared_error: 492.7229 - val_loss: 113.1410 - val_mean_squared_error: 113.1410\n",
            "Epoch 11/50\n",
            "625/625 [==============================] - ETA: 0s - loss: 496.9061 - mean_squared_error: 496.9061\n",
            "Epoch 00011: saving model to cp.ckpt\n",
            "625/625 [==============================] - 5s 8ms/step - loss: 496.9061 - mean_squared_error: 496.9061 - val_loss: 81.3896 - val_mean_squared_error: 81.3896\n",
            "Epoch 12/50\n",
            "618/625 [============================>.] - ETA: 0s - loss: 481.2775 - mean_squared_error: 481.2775\n",
            "Epoch 00012: saving model to cp.ckpt\n",
            "625/625 [==============================] - 4s 7ms/step - loss: 480.8478 - mean_squared_error: 480.8478 - val_loss: 85.5527 - val_mean_squared_error: 85.5527\n",
            "Epoch 13/50\n",
            "618/625 [============================>.] - ETA: 0s - loss: 484.1852 - mean_squared_error: 484.1852\n",
            "Epoch 00013: saving model to cp.ckpt\n",
            "625/625 [==============================] - 5s 7ms/step - loss: 484.0027 - mean_squared_error: 484.0027 - val_loss: 107.3316 - val_mean_squared_error: 107.3316\n",
            "Epoch 14/50\n",
            "623/625 [============================>.] - ETA: 0s - loss: 468.5854 - mean_squared_error: 468.5854\n",
            "Epoch 00014: saving model to cp.ckpt\n",
            "625/625 [==============================] - 4s 7ms/step - loss: 468.7622 - mean_squared_error: 468.7622 - val_loss: 119.0123 - val_mean_squared_error: 119.0123\n",
            "Epoch 15/50\n",
            "620/625 [============================>.] - ETA: 0s - loss: 471.0037 - mean_squared_error: 471.0037\n",
            "Epoch 00015: saving model to cp.ckpt\n",
            "625/625 [==============================] - 4s 7ms/step - loss: 471.8410 - mean_squared_error: 471.8410 - val_loss: 85.2085 - val_mean_squared_error: 85.2085\n",
            "Epoch 16/50\n",
            "625/625 [==============================] - ETA: 0s - loss: 473.2050 - mean_squared_error: 473.2050\n",
            "Epoch 00016: saving model to cp.ckpt\n",
            "625/625 [==============================] - 5s 7ms/step - loss: 473.2050 - mean_squared_error: 473.2050 - val_loss: 81.4281 - val_mean_squared_error: 81.4281\n",
            "Epoch 17/50\n",
            "620/625 [============================>.] - ETA: 0s - loss: 468.2002 - mean_squared_error: 468.2002\n",
            "Epoch 00017: saving model to cp.ckpt\n",
            "625/625 [==============================] - 5s 7ms/step - loss: 468.0823 - mean_squared_error: 468.0823 - val_loss: 75.5836 - val_mean_squared_error: 75.5836\n",
            "Epoch 18/50\n",
            "625/625 [==============================] - ETA: 0s - loss: 474.7655 - mean_squared_error: 474.7655\n",
            "Epoch 00018: saving model to cp.ckpt\n",
            "625/625 [==============================] - 5s 8ms/step - loss: 474.7655 - mean_squared_error: 474.7655 - val_loss: 67.7755 - val_mean_squared_error: 67.7755\n",
            "Epoch 19/50\n",
            "625/625 [==============================] - ETA: 0s - loss: 464.3526 - mean_squared_error: 464.3526\n",
            "Epoch 00019: saving model to cp.ckpt\n",
            "625/625 [==============================] - 4s 7ms/step - loss: 464.3526 - mean_squared_error: 464.3526 - val_loss: 84.4982 - val_mean_squared_error: 84.4982\n",
            "Epoch 20/50\n",
            "624/625 [============================>.] - ETA: 0s - loss: 461.7974 - mean_squared_error: 461.7974\n",
            "Epoch 00020: saving model to cp.ckpt\n",
            "625/625 [==============================] - 4s 7ms/step - loss: 461.5845 - mean_squared_error: 461.5845 - val_loss: 85.0440 - val_mean_squared_error: 85.0440\n",
            "Epoch 21/50\n",
            "618/625 [============================>.] - ETA: 0s - loss: 455.0680 - mean_squared_error: 455.0680\n",
            "Epoch 00021: saving model to cp.ckpt\n",
            "625/625 [==============================] - 5s 8ms/step - loss: 454.9189 - mean_squared_error: 454.9189 - val_loss: 75.1111 - val_mean_squared_error: 75.1111\n",
            "Epoch 22/50\n",
            "619/625 [============================>.] - ETA: 0s - loss: 462.4131 - mean_squared_error: 462.4131\n",
            "Epoch 00022: saving model to cp.ckpt\n",
            "625/625 [==============================] - 5s 8ms/step - loss: 462.2840 - mean_squared_error: 462.2840 - val_loss: 64.3973 - val_mean_squared_error: 64.3973\n",
            "Epoch 23/50\n",
            "621/625 [============================>.] - ETA: 0s - loss: 457.5766 - mean_squared_error: 457.5766\n",
            "Epoch 00023: saving model to cp.ckpt\n",
            "625/625 [==============================] - 4s 7ms/step - loss: 457.5553 - mean_squared_error: 457.5553 - val_loss: 71.4366 - val_mean_squared_error: 71.4366\n",
            "Epoch 24/50\n",
            "623/625 [============================>.] - ETA: 0s - loss: 458.8882 - mean_squared_error: 458.8882\n",
            "Epoch 00024: saving model to cp.ckpt\n",
            "625/625 [==============================] - 4s 7ms/step - loss: 458.8940 - mean_squared_error: 458.8940 - val_loss: 98.7595 - val_mean_squared_error: 98.7595\n",
            "Epoch 25/50\n",
            "625/625 [==============================] - ETA: 0s - loss: 459.5997 - mean_squared_error: 459.5997\n",
            "Epoch 00025: saving model to cp.ckpt\n",
            "625/625 [==============================] - 5s 8ms/step - loss: 459.5997 - mean_squared_error: 459.5997 - val_loss: 78.8365 - val_mean_squared_error: 78.8365\n",
            "Epoch 26/50\n",
            "618/625 [============================>.] - ETA: 0s - loss: 458.7871 - mean_squared_error: 458.7871\n",
            "Epoch 00026: saving model to cp.ckpt\n",
            "625/625 [==============================] - 4s 7ms/step - loss: 458.1813 - mean_squared_error: 458.1813 - val_loss: 63.6310 - val_mean_squared_error: 63.6310\n",
            "Epoch 27/50\n",
            "624/625 [============================>.] - ETA: 0s - loss: 452.1058 - mean_squared_error: 452.1058\n",
            "Epoch 00027: saving model to cp.ckpt\n",
            "625/625 [==============================] - 4s 7ms/step - loss: 452.2125 - mean_squared_error: 452.2125 - val_loss: 82.3237 - val_mean_squared_error: 82.3237\n",
            "Epoch 28/50\n",
            "621/625 [============================>.] - ETA: 0s - loss: 446.1778 - mean_squared_error: 446.1778\n",
            "Epoch 00028: saving model to cp.ckpt\n",
            "625/625 [==============================] - 5s 7ms/step - loss: 446.6929 - mean_squared_error: 446.6929 - val_loss: 78.8336 - val_mean_squared_error: 78.8336\n",
            "Epoch 29/50\n",
            "619/625 [============================>.] - ETA: 0s - loss: 442.3257 - mean_squared_error: 442.3257\n",
            "Epoch 00029: saving model to cp.ckpt\n",
            "625/625 [==============================] - 5s 8ms/step - loss: 443.3169 - mean_squared_error: 443.3169 - val_loss: 60.0009 - val_mean_squared_error: 60.0009\n",
            "Epoch 30/50\n",
            "625/625 [==============================] - ETA: 0s - loss: 438.8505 - mean_squared_error: 438.8505\n",
            "Epoch 00030: saving model to cp.ckpt\n",
            "625/625 [==============================] - 4s 7ms/step - loss: 438.8505 - mean_squared_error: 438.8505 - val_loss: 109.3598 - val_mean_squared_error: 109.3598\n",
            "Epoch 31/50\n",
            "624/625 [============================>.] - ETA: 0s - loss: 440.5410 - mean_squared_error: 440.5410\n",
            "Epoch 00031: saving model to cp.ckpt\n",
            "625/625 [==============================] - 5s 8ms/step - loss: 440.3610 - mean_squared_error: 440.3610 - val_loss: 56.7838 - val_mean_squared_error: 56.7838\n",
            "Epoch 32/50\n",
            "618/625 [============================>.] - ETA: 0s - loss: 446.9240 - mean_squared_error: 446.9240\n",
            "Epoch 00032: saving model to cp.ckpt\n",
            "625/625 [==============================] - 5s 8ms/step - loss: 446.7154 - mean_squared_error: 446.7154 - val_loss: 60.0230 - val_mean_squared_error: 60.0230\n",
            "Epoch 33/50\n",
            "621/625 [============================>.] - ETA: 0s - loss: 448.0740 - mean_squared_error: 448.0740\n",
            "Epoch 00033: saving model to cp.ckpt\n",
            "625/625 [==============================] - 5s 8ms/step - loss: 448.0629 - mean_squared_error: 448.0629 - val_loss: 54.8428 - val_mean_squared_error: 54.8428\n",
            "Epoch 34/50\n",
            "618/625 [============================>.] - ETA: 0s - loss: 440.1847 - mean_squared_error: 440.1847\n",
            "Epoch 00034: saving model to cp.ckpt\n",
            "625/625 [==============================] - 5s 8ms/step - loss: 440.0796 - mean_squared_error: 440.0796 - val_loss: 72.2738 - val_mean_squared_error: 72.2738\n",
            "Epoch 35/50\n",
            "625/625 [==============================] - ETA: 0s - loss: 446.2761 - mean_squared_error: 446.2761\n",
            "Epoch 00035: saving model to cp.ckpt\n",
            "625/625 [==============================] - 5s 7ms/step - loss: 446.2761 - mean_squared_error: 446.2761 - val_loss: 57.3272 - val_mean_squared_error: 57.3272\n",
            "Epoch 36/50\n",
            "624/625 [============================>.] - ETA: 0s - loss: 446.1181 - mean_squared_error: 446.1181\n",
            "Epoch 00036: saving model to cp.ckpt\n",
            "625/625 [==============================] - 5s 8ms/step - loss: 446.0923 - mean_squared_error: 446.0923 - val_loss: 54.3429 - val_mean_squared_error: 54.3429\n",
            "Epoch 37/50\n",
            "619/625 [============================>.] - ETA: 0s - loss: 444.2969 - mean_squared_error: 444.2969\n",
            "Epoch 00037: saving model to cp.ckpt\n",
            "625/625 [==============================] - 5s 8ms/step - loss: 444.1259 - mean_squared_error: 444.1259 - val_loss: 53.7852 - val_mean_squared_error: 53.7852\n",
            "Epoch 38/50\n",
            "622/625 [============================>.] - ETA: 0s - loss: 439.6432 - mean_squared_error: 439.6432\n",
            "Epoch 00038: saving model to cp.ckpt\n",
            "625/625 [==============================] - 5s 7ms/step - loss: 439.9043 - mean_squared_error: 439.9043 - val_loss: 55.9425 - val_mean_squared_error: 55.9425\n",
            "Epoch 39/50\n",
            "625/625 [==============================] - ETA: 0s - loss: 443.3963 - mean_squared_error: 443.3963\n",
            "Epoch 00039: saving model to cp.ckpt\n",
            "625/625 [==============================] - 4s 7ms/step - loss: 443.3963 - mean_squared_error: 443.3963 - val_loss: 64.5715 - val_mean_squared_error: 64.5715\n",
            "Epoch 40/50\n",
            "620/625 [============================>.] - ETA: 0s - loss: 441.9706 - mean_squared_error: 441.9706\n",
            "Epoch 00040: saving model to cp.ckpt\n",
            "625/625 [==============================] - 5s 7ms/step - loss: 441.7206 - mean_squared_error: 441.7206 - val_loss: 61.8473 - val_mean_squared_error: 61.8473\n",
            "Epoch 41/50\n",
            "624/625 [============================>.] - ETA: 0s - loss: 446.0623 - mean_squared_error: 446.0623\n",
            "Epoch 00041: saving model to cp.ckpt\n",
            "625/625 [==============================] - 5s 8ms/step - loss: 446.0087 - mean_squared_error: 446.0087 - val_loss: 50.1332 - val_mean_squared_error: 50.1332\n",
            "Epoch 42/50\n",
            "620/625 [============================>.] - ETA: 0s - loss: 442.0537 - mean_squared_error: 442.0537\n",
            "Epoch 00042: saving model to cp.ckpt\n",
            "625/625 [==============================] - 4s 7ms/step - loss: 442.2653 - mean_squared_error: 442.2653 - val_loss: 78.8353 - val_mean_squared_error: 78.8353\n",
            "Epoch 43/50\n",
            "620/625 [============================>.] - ETA: 0s - loss: 440.9883 - mean_squared_error: 440.9883\n",
            "Epoch 00043: saving model to cp.ckpt\n",
            "625/625 [==============================] - 5s 8ms/step - loss: 441.5323 - mean_squared_error: 441.5323 - val_loss: 59.5606 - val_mean_squared_error: 59.5606\n",
            "Epoch 44/50\n",
            "624/625 [============================>.] - ETA: 0s - loss: 443.9230 - mean_squared_error: 443.9230\n",
            "Epoch 00044: saving model to cp.ckpt\n",
            "625/625 [==============================] - 5s 7ms/step - loss: 443.7728 - mean_squared_error: 443.7728 - val_loss: 57.9427 - val_mean_squared_error: 57.9427\n",
            "Epoch 45/50\n",
            "620/625 [============================>.] - ETA: 0s - loss: 431.9222 - mean_squared_error: 431.9222\n",
            "Epoch 00045: saving model to cp.ckpt\n",
            "625/625 [==============================] - 4s 7ms/step - loss: 431.9743 - mean_squared_error: 431.9743 - val_loss: 63.0404 - val_mean_squared_error: 63.0404\n",
            "Epoch 46/50\n",
            "618/625 [============================>.] - ETA: 0s - loss: 435.6979 - mean_squared_error: 435.6979\n",
            "Epoch 00046: saving model to cp.ckpt\n",
            "625/625 [==============================] - 5s 7ms/step - loss: 436.0841 - mean_squared_error: 436.0841 - val_loss: 54.6576 - val_mean_squared_error: 54.6576\n",
            "Epoch 47/50\n",
            "621/625 [============================>.] - ETA: 0s - loss: 434.5348 - mean_squared_error: 434.5348\n",
            "Epoch 00047: saving model to cp.ckpt\n",
            "625/625 [==============================] - 5s 7ms/step - loss: 434.5456 - mean_squared_error: 434.5456 - val_loss: 89.6423 - val_mean_squared_error: 89.6423\n",
            "Epoch 48/50\n",
            "618/625 [============================>.] - ETA: 0s - loss: 433.2525 - mean_squared_error: 433.2525\n",
            "Epoch 00048: saving model to cp.ckpt\n",
            "625/625 [==============================] - 4s 7ms/step - loss: 433.0579 - mean_squared_error: 433.0579 - val_loss: 73.4440 - val_mean_squared_error: 73.4440\n",
            "Epoch 49/50\n",
            "624/625 [============================>.] - ETA: 0s - loss: 427.9080 - mean_squared_error: 427.9080\n",
            "Epoch 00049: saving model to cp.ckpt\n",
            "625/625 [==============================] - 5s 7ms/step - loss: 427.7154 - mean_squared_error: 427.7154 - val_loss: 83.3515 - val_mean_squared_error: 83.3515\n",
            "Epoch 50/50\n",
            "623/625 [============================>.] - ETA: 0s - loss: 433.2762 - mean_squared_error: 433.2762\n",
            "Epoch 00050: saving model to cp.ckpt\n",
            "625/625 [==============================] - 4s 7ms/step - loss: 433.2966 - mean_squared_error: 433.2966 - val_loss: 75.8435 - val_mean_squared_error: 75.8435\n",
            "157/157 [==============================] - 0s 3ms/step - loss: 75.8435 - mean_squared_error: 75.8435\n",
            "Start predicting; got log keys: []\n",
            "Stop predicting; got log keys: []\n"
          ]
        }
      ],
      "source": [
        "checkpoint_path = \"cp.ckpt\"\n",
        "\n",
        "# Create a callback that saves the model's weights \n",
        "# currently, model weights are saved for each training\n",
        "# to do - update for early stopping\n",
        "cp_callback = tf.keras.callbacks.ModelCheckpoint(filepath=checkpoint_path,\n",
        "                                                 save_weights_only=True,\n",
        "                                                 verbose=1)\n",
        "\n",
        "csv_logger = CSVLogger('log.csv', append=True, separator=';')\n",
        "\n",
        "batch_size = 64\n",
        "epochs = 50\n",
        "\n",
        "model.compile(loss=keras.losses.MeanSquaredError(),\n",
        "              optimizer='adam',\n",
        "              metrics=['mean_squared_error'])\n",
        "\n",
        "history = model.fit(\n",
        "          X_train, y_train,\n",
        "          batch_size=batch_size,\n",
        "          epochs=epochs,\n",
        "          verbose=1,\n",
        "          validation_data=(X_test, y_test),\n",
        "          callbacks=[cp_callback, csv_logger],\n",
        "          )\n",
        "\n",
        "res = model.evaluate(\n",
        "    X_test, y_test, batch_size=batch_size,\n",
        ")\n",
        "\n",
        "predictions = model.predict(X_test, batch_size=batch_size, callbacks=[CustomCallback()])"
      ]
    },
    {
      "cell_type": "code",
      "execution_count": 61,
      "metadata": {
        "id": "zOYkjgBW6w1Z"
      },
      "outputs": [],
      "source": [
        "#save model\n",
        "# serialize model to JSON\n",
        "model_json = model.to_json()\n",
        "with open(\"model.json\", \"w\") as json_file:\n",
        "  json_file.write(model_json)\n",
        "\n",
        "#save full model in hd5 format\n",
        "model.save('my_model.h5')\n",
        "\n",
        "#alt. methods\n",
        "#You can save History attribute of tf.keras.callbacks.History in .txt form\n",
        "#with open(\"/content/drive/MyDrive/NN-jan28/result_model.txt\",'w') as f:\n",
        "#    for k in history.history.keys():\n",
        "#        print(k,file=f)\n",
        "#        for i in history.history[k]:\n",
        "#            print(i,file=f)\n",
        "#import pickle\n",
        "#with open('/content/drive/MyDrive/NN-jan28/trainHistoryDict', 'wb') as file_pi:\n",
        "#    pickle.dump(history.history, file_pi)"
      ]
    },
    {
      "cell_type": "code",
      "execution_count": 62,
      "metadata": {
        "colab": {
          "base_uri": "https://localhost:8080/",
          "height": 628
        },
        "id": "fhqq6gjo210i",
        "outputId": "7c7f7924-b1bc-430b-8fe3-4309eb4e823d"
      },
      "outputs": [
        {
          "output_type": "stream",
          "name": "stdout",
          "text": [
            "9997\n",
            "         x_entry   y_entry   z_entry  cotAlpha   cotBeta\n",
            "0     180.893204 -0.188336 -0.000019 -3.601134 -0.008893\n",
            "1     -89.353493  0.131730 -0.000552  1.756748 -0.011400\n",
            "2    -105.181595  0.158041 -0.000733  2.062767 -0.013126\n",
            "3     101.873772 -0.186038 -0.000044 -2.026474 -0.003481\n",
            "4      -2.512254 -0.118566 -0.000047  0.081971 -0.000711\n",
            "...          ...       ...       ...       ...       ...\n",
            "9992  195.751236 -0.136821 -0.000012 -3.898911 -0.011575\n",
            "9993  307.343689 -0.190690  0.000014 -6.124837 -0.016077\n",
            "9994  242.685944 -0.189042 -0.000039 -4.828167 -0.011976\n",
            "9995 -174.028397  0.283418 -0.001194  3.389105 -0.026429\n",
            "9996  263.818146 -0.197353  0.000006 -5.257496 -0.014607\n",
            "\n",
            "[9997 rows x 5 columns]\n"
          ]
        },
        {
          "output_type": "stream",
          "name": "stderr",
          "text": [
            "/usr/local/lib/python3.7/dist-packages/seaborn/distributions.py:2619: FutureWarning: `distplot` is a deprecated function and will be removed in a future version. Please adapt your code to use either `displot` (a figure-level function with similar flexibility) or `histplot` (an axes-level function for histograms).\n",
            "  warnings.warn(msg, FutureWarning)\n"
          ]
        },
        {
          "output_type": "display_data",
          "data": {
            "image/png": "[encoded data removed]",
            "text/plain": [
              "<Figure size 432x288 with 1 Axes>"
            ]
          },
          "metadata": {
            "needs_background": "light"
          }
        }
      ],
      "source": [
        "print(len(predictions))\n",
        "df_predict = pd.DataFrame(predictions, columns=['x_entry', 'y_entry', 'z_entry', 'cotAlpha', 'cotBeta'])\n",
        "print(df_predict)\n",
        "df_predict.head()\n",
        "sns.distplot(df_predict['cotAlpha'], kde=False, bins=50)\n",
        "plt.xlim([-10,10])\n",
        "plt.xlabel('cotAlpha')\n",
        "plt.ylabel('frequency')\n",
        "plt.title(\"cotAlpha (predicted)\")\n",
        "plt.savefig('cotAlpha-prediction.png')"
      ]
    },
    {
      "cell_type": "code",
      "source": [
        "#X_train, X_test, y_train, y_test = train_test_split(X,y,test_size = 0.20, random_state = 0)\n",
        "#print(X.shape, y.shape)\n",
        "#print(X_train.shape, X_test.shape, y_train.shape, y_test.shape)\n",
        "#df_predict = pd.DataFrame(predictions, columns=['x_entry', 'y_entry', 'z_entry', 'cotAlpha', 'cotBeta'])\n",
        "print(y_test.shape)\n",
        "trueLabels = pd.DataFrame(y_test, columns=['x_entry', 'y_entry', 'z_entry', 'cotAlpha', 'cotBeta'])\n"
      ],
      "metadata": {
        "colab": {
          "base_uri": "https://localhost:8080/"
        },
        "id": "3l2CcXri9wm0",
        "outputId": "9a841034-a046-4008-8c03-eab7a2275ed5"
      },
      "execution_count": 63,
      "outputs": [
        {
          "output_type": "stream",
          "name": "stdout",
          "text": [
            "(9997, 5)\n"
          ]
        }
      ]
    },
    {
      "cell_type": "code",
      "execution_count": 81,
      "metadata": {
        "colab": {
          "base_uri": "https://localhost:8080/",
          "height": 370
        },
        "id": "-4BUK1-2CLxF",
        "outputId": "4ac9e436-9335-4ff3-864b-52612f80917d"
      },
      "outputs": [
        {
          "output_type": "stream",
          "name": "stderr",
          "text": [
            "/usr/local/lib/python3.7/dist-packages/seaborn/distributions.py:2619: FutureWarning: `distplot` is a deprecated function and will be removed in a future version. Please adapt your code to use either `displot` (a figure-level function with similar flexibility) or `histplot` (an axes-level function for histograms).\n",
            "  warnings.warn(msg, FutureWarning)\n"
          ]
        },
        {
          "output_type": "execute_result",
          "data": {
            "text/plain": [
              "Text(0.5, 1.0, 'cotBeta (predicted)')"
            ]
          },
          "metadata": {},
          "execution_count": 81
        },
        {
          "output_type": "display_data",
          "data": {
            "image/png": "[encoded data removed]",
            "text/plain": [
              "<Figure size 432x288 with 1 Axes>"
            ]
          },
          "metadata": {
            "needs_background": "light"
          }
        }
      ],
      "source": [
        "sns.distplot(df_predict['cotBeta'], kde=False, bins=20)\n",
        "plt.xlabel('cotBeta')\n",
        "plt.ylabel('frequency')\n",
        "plt.xlim([-0.15,0.15])\n",
        "plt.title(\"cotBeta (predicted)\")"
      ]
    },
    {
      "cell_type": "code",
      "execution_count": 99,
      "metadata": {
        "colab": {
          "base_uri": "https://localhost:8080/",
          "height": 356
        },
        "id": "SJhhcS8rCMfP",
        "outputId": "9d2523d3-bf36-4271-aac5-bd6e8acd085e"
      },
      "outputs": [
        {
          "output_type": "stream",
          "name": "stderr",
          "text": [
            "/usr/local/lib/python3.7/dist-packages/seaborn/distributions.py:2619: FutureWarning: `distplot` is a deprecated function and will be removed in a future version. Please adapt your code to use either `displot` (a figure-level function with similar flexibility) or `histplot` (an axes-level function for histograms).\n",
            "  warnings.warn(msg, FutureWarning)\n"
          ]
        },
        {
          "output_type": "display_data",
          "data": {
            "image/png": "[encoded data removed]",
            "text/plain": [
              "<Figure size 432x288 with 1 Axes>"
            ]
          },
          "metadata": {
            "needs_background": "light"
          }
        }
      ],
      "source": [
        "sns.distplot(df_predict['x_entry'], kde=False, bins=40)\n",
        "plt.xlabel(r'x_entry ($\\mu$m)')\n",
        "plt.ylabel('frequency')\n",
        "plt.xlim([-500,500])\n",
        "plt.title(\"x_entry (predicted)\")\n",
        "plt.savefig('x-entry-prediction.png')"
      ]
    },
    {
      "cell_type": "code",
      "execution_count": 100,
      "metadata": {
        "colab": {
          "base_uri": "https://localhost:8080/",
          "height": 356
        },
        "id": "BlSaOsnxCNN8",
        "outputId": "8bdc5703-cad1-48da-c133-e4a44de075b5"
      },
      "outputs": [
        {
          "output_type": "stream",
          "name": "stderr",
          "text": [
            "/usr/local/lib/python3.7/dist-packages/seaborn/distributions.py:2619: FutureWarning: `distplot` is a deprecated function and will be removed in a future version. Please adapt your code to use either `displot` (a figure-level function with similar flexibility) or `histplot` (an axes-level function for histograms).\n",
            "  warnings.warn(msg, FutureWarning)\n"
          ]
        },
        {
          "output_type": "display_data",
          "data": {
            "image/png": "[encoded data removed]",
            "text/plain": [
              "<Figure size 432x288 with 1 Axes>"
            ]
          },
          "metadata": {
            "needs_background": "light"
          }
        }
      ],
      "source": [
        "sns.distplot(df_predict['y_entry'], kde=False, bins=10)\n",
        "plt.xlabel(r'y_entry ($\\mu$m)')\n",
        "#plt.xlim([-20,20])\n",
        "plt.ylabel('frequency')\n",
        "plt.title(\"y_entry (predicted)\")\n",
        "plt.savefig('y-entry-prediction.png')"
      ]
    },
    {
      "cell_type": "code",
      "execution_count": 101,
      "metadata": {
        "colab": {
          "base_uri": "https://localhost:8080/",
          "height": 356
        },
        "id": "n5h94oi-CNxK",
        "outputId": "9ef8781c-230f-40cf-d198-d0ca33104b36"
      },
      "outputs": [
        {
          "output_type": "stream",
          "name": "stderr",
          "text": [
            "/usr/local/lib/python3.7/dist-packages/seaborn/distributions.py:2619: FutureWarning: `distplot` is a deprecated function and will be removed in a future version. Please adapt your code to use either `displot` (a figure-level function with similar flexibility) or `histplot` (an axes-level function for histograms).\n",
            "  warnings.warn(msg, FutureWarning)\n"
          ]
        },
        {
          "output_type": "display_data",
          "data": {
            "image/png": "[encoded data removed]",
            "text/plain": [
              "<Figure size 432x288 with 1 Axes>"
            ]
          },
          "metadata": {
            "needs_background": "light"
          }
        }
      ],
      "source": [
        "sns.distplot(df_predict['z_entry'], kde=False, bins=5)\n",
        "plt.xlabel(r'z_entry ($\\mu$m)')\n",
        "plt.ylabel('frequency')\n",
        "#plt.xlim(-.5,.5)\n",
        "plt.title(\"z_entry (predicted)\")\n",
        "plt.savefig('z-entry-prediction.png')"
      ]
    },
    {
      "cell_type": "code",
      "source": [
        "\n",
        "sns.distplot(trueLabels['cotAlpha']-df_predict['cotAlpha'], kde=False, bins=50)\n",
        "plt.xlabel('cotAlpha residual')\n",
        "plt.ylabel('frequency')\n",
        "plt.xlim([-2,2])\n",
        "plt.title('Cot Alpha Residual')\n",
        "plt.savefig('cotAlpha-resolution.png')"
      ],
      "metadata": {
        "colab": {
          "base_uri": "https://localhost:8080/",
          "height": 352
        },
        "id": "tMGuNZsXpe4m",
        "outputId": "3272cc8c-19b6-403a-bf9b-edbdf8257e25"
      },
      "execution_count": 114,
      "outputs": [
        {
          "output_type": "stream",
          "name": "stderr",
          "text": [
            "/usr/local/lib/python3.7/dist-packages/seaborn/distributions.py:2619: FutureWarning: `distplot` is a deprecated function and will be removed in a future version. Please adapt your code to use either `displot` (a figure-level function with similar flexibility) or `histplot` (an axes-level function for histograms).\n",
            "  warnings.warn(msg, FutureWarning)\n"
          ]
        },
        {
          "output_type": "display_data",
          "data": {
            "image/png": "[encoded data removed]",
            "text/plain": [
              "<Figure size 432x288 with 1 Axes>"
            ]
          },
          "metadata": {
            "needs_background": "light"
          }
        }
      ]
    },
    {
      "cell_type": "code",
      "source": [
        "sns.distplot(trueLabels['cotBeta']-df_predict['cotBeta'], kde=False, bins=50)\n",
        "plt.xlabel('cotBeta residual')\n",
        "plt.ylabel('frequency')\n",
        "plt.xlim([-.5,.5])\n",
        "plt.title('Cot Beta Residual')\n",
        "plt.savefig('cotBeta-resolution.png')"
      ],
      "metadata": {
        "colab": {
          "base_uri": "https://localhost:8080/",
          "height": 352
        },
        "id": "kSPzAUblAVwg",
        "outputId": "56f5c742-e93a-4982-f044-90f337cc56de"
      },
      "execution_count": 115,
      "outputs": [
        {
          "output_type": "stream",
          "name": "stderr",
          "text": [
            "/usr/local/lib/python3.7/dist-packages/seaborn/distributions.py:2619: FutureWarning: `distplot` is a deprecated function and will be removed in a future version. Please adapt your code to use either `displot` (a figure-level function with similar flexibility) or `histplot` (an axes-level function for histograms).\n",
            "  warnings.warn(msg, FutureWarning)\n"
          ]
        },
        {
          "output_type": "display_data",
          "data": {
            "image/png": "[encoded data removed]",
            "text/plain": [
              "<Figure size 432x288 with 1 Axes>"
            ]
          },
          "metadata": {
            "needs_background": "light"
          }
        }
      ]
    },
    {
      "cell_type": "code",
      "source": [
        "sns.distplot(trueLabels['x_entry']-df_predict['x_entry'], kde=False, bins=50)\n",
        "plt.xlabel(r'x_entry residual ($\\mu$m)')\n",
        "plt.ylabel('frequency')\n",
        "plt.xlim([-100,100])\n",
        "plt.title('x-entry Residual')\n",
        "plt.savefig('x-entry-resolution.png')"
      ],
      "metadata": {
        "colab": {
          "base_uri": "https://localhost:8080/",
          "height": 356
        },
        "id": "Ruv__2w7AXEf",
        "outputId": "2de86de0-ff27-458d-ca19-259f8027c6e4"
      },
      "execution_count": 116,
      "outputs": [
        {
          "output_type": "stream",
          "name": "stderr",
          "text": [
            "/usr/local/lib/python3.7/dist-packages/seaborn/distributions.py:2619: FutureWarning: `distplot` is a deprecated function and will be removed in a future version. Please adapt your code to use either `displot` (a figure-level function with similar flexibility) or `histplot` (an axes-level function for histograms).\n",
            "  warnings.warn(msg, FutureWarning)\n"
          ]
        },
        {
          "output_type": "display_data",
          "data": {
            "image/png": "[encoded data removed]",
            "text/plain": [
              "<Figure size 432x288 with 1 Axes>"
            ]
          },
          "metadata": {
            "needs_background": "light"
          }
        }
      ]
    },
    {
      "cell_type": "code",
      "source": [
        "sns.distplot(trueLabels['y_entry']-df_predict['y_entry'], kde=False, bins=50)\n",
        "plt.xlabel(r'y_entry residual ($\\mu$m)')\n",
        "plt.ylabel('frequency')\n",
        "#plt.xlim([-200,200])\n",
        "plt.title('y-entry Residual')\n",
        "plt.savefig('y-entry-resolution.png')"
      ],
      "metadata": {
        "colab": {
          "base_uri": "https://localhost:8080/",
          "height": 356
        },
        "id": "kDjXCj3lAX6I",
        "outputId": "3dbee9be-ac98-49a2-cc2a-8dfae7f5830c"
      },
      "execution_count": 117,
      "outputs": [
        {
          "output_type": "stream",
          "name": "stderr",
          "text": [
            "/usr/local/lib/python3.7/dist-packages/seaborn/distributions.py:2619: FutureWarning: `distplot` is a deprecated function and will be removed in a future version. Please adapt your code to use either `displot` (a figure-level function with similar flexibility) or `histplot` (an axes-level function for histograms).\n",
            "  warnings.warn(msg, FutureWarning)\n"
          ]
        },
        {
          "output_type": "display_data",
          "data": {
            "image/png": "[encoded data removed]",
            "text/plain": [
              "<Figure size 432x288 with 1 Axes>"
            ]
          },
          "metadata": {
            "needs_background": "light"
          }
        }
      ]
    },
    {
      "cell_type": "code",
      "source": [
        "sns.distplot(trueLabels['z_entry']-df_predict['z_entry'], kde=False, bins=50)\n",
        "plt.xlabel(r'z_entry residual ($\\mu$m)')\n",
        "plt.ylabel('frequency')\n",
        "#plt.xlim([-200,200])\n",
        "plt.title('z-entry Residual')\n",
        "plt.savefig('z-entry-resolution.png')"
      ],
      "metadata": {
        "colab": {
          "base_uri": "https://localhost:8080/",
          "height": 356
        },
        "id": "jRY98MwUAYmT",
        "outputId": "2f9efcfc-72ad-4111-f495-e016e53a4ec4"
      },
      "execution_count": 118,
      "outputs": [
        {
          "output_type": "stream",
          "name": "stderr",
          "text": [
            "/usr/local/lib/python3.7/dist-packages/seaborn/distributions.py:2619: FutureWarning: `distplot` is a deprecated function and will be removed in a future version. Please adapt your code to use either `displot` (a figure-level function with similar flexibility) or `histplot` (an axes-level function for histograms).\n",
            "  warnings.warn(msg, FutureWarning)\n"
          ]
        },
        {
          "output_type": "display_data",
          "data": {
            "image/png": "[encoded data removed]",
            "text/plain": [
              "<Figure size 432x288 with 1 Axes>"
            ]
          },
          "metadata": {
            "needs_background": "light"
          }
        }
      ]
    },
    {
      "cell_type": "code",
      "execution_count": 79,
      "metadata": {
        "colab": {
          "base_uri": "https://localhost:8080/",
          "height": 297
        },
        "id": "4CDk4yIK1Wt-",
        "outputId": "3267f0be-9aed-4359-8fef-ca63b544c12b"
      },
      "outputs": [
        {
          "output_type": "execute_result",
          "data": {
            "text/plain": [
              "<matplotlib.legend.Legend at 0x7f549a951350>"
            ]
          },
          "metadata": {},
          "execution_count": 79
        },
        {
          "output_type": "display_data",
          "data": {
            "image/png": "[encoded data removed]",
            "text/plain": [
              "<Figure size 432x288 with 1 Axes>"
            ]
          },
          "metadata": {
            "needs_background": "light"
          }
        }
      ],
      "source": [
        "plt.plot(history.history['loss'], label='train_loss')\n",
        "plt.plot(history.history['val_loss'], label = 'val_loss')\n",
        "plt.xlabel('Epoch')\n",
        "plt.ylabel('Loss')\n",
        "plt.legend(loc='upper right')\n"
      ]
    },
    {
      "cell_type": "code",
      "execution_count": 80,
      "metadata": {
        "colab": {
          "base_uri": "https://localhost:8080/",
          "height": 283
        },
        "id": "ypt3Jcn4pdGE",
        "outputId": "801857d5-e011-48f2-fdab-e387a93002a6"
      },
      "outputs": [
        {
          "output_type": "execute_result",
          "data": {
            "text/plain": [
              "<matplotlib.legend.Legend at 0x7f549a91ba10>"
            ]
          },
          "metadata": {},
          "execution_count": 80
        },
        {
          "output_type": "display_data",
          "data": {
            "image/png": "[encoded data removed]",
            "text/plain": [
              "<Figure size 432x288 with 1 Axes>"
            ]
          },
          "metadata": {
            "needs_background": "light"
          }
        }
      ],
      "source": [
        "plt.plot(history.history['mean_squared_error'], label='MSE')\n",
        "plt.legend(loc='upper right')"
      ]
    },
    {
      "cell_type": "code",
      "execution_count": null,
      "metadata": {
        "id": "QIBfASHgGJdo"
      },
      "outputs": [],
      "source": [
        ""
      ]
    }
  ],
  "metadata": {
    "colab": {
      "name": "SimpleCNN-CylindCoordinates.ipynb",
      "provenance": []
    },
    "kernelspec": {
      "display_name": "Python 3",
      "name": "python3"
    },
    "language_info": {
      "name": "python"
    }
  },
  "nbformat": 4,
  "nbformat_minor": 0
}