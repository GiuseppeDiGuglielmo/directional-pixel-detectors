{
 "cells": [
  {
   "cell_type": "code",
   "execution_count": 1,
   "metadata": {
    "id": "XU9xrpZGwcI2"
   },
   "outputs": [],
   "source": [
    "from sklearn.model_selection import train_test_split\n",
    "from sklearn.metrics import mean_squared_error\n",
    "from sklearn.preprocessing import StandardScaler\n",
    "\n",
    "import tensorflow as tf\n",
    "from tensorflow.keras import datasets, layers, models\n",
    "import keras\n",
    "from keras.models import Sequential\n",
    "from keras.layers import Dense, Dropout, Flatten\n",
    "from keras.layers import Conv2D, MaxPooling2D\n",
    "\n",
    "import matplotlib.pyplot as plt\n",
    "import numpy as np\n",
    "import pandas as pd\n",
    "from pandas import read_csv\n",
    "import math\n",
    "import seaborn as sns\n",
    "\n",
    "import keras\n",
    "from keras.models import Sequential\n",
    "from keras.layers import Dense, Dropout, Flatten\n",
    "from keras.layers import Conv2D, MaxPooling2D"
   ]
  },
  {
   "cell_type": "code",
   "execution_count": 2,
   "metadata": {
    "colab": {
     "base_uri": "https://localhost:8080/"
    },
    "id": "-Y57cDjYzglB",
    "outputId": "a8245513-eb0f-4078-ea3f-258f44ce8e29"
   },
   "outputs": [
    {
     "name": "stdout",
     "output_type": "stream",
     "text": [
      "Mounted at /content/drive\n"
     ]
    }
   ],
   "source": [
    "from google.colab import drive\n",
    "drive.mount('/content/drive')"
   ]
  },
  {
   "cell_type": "code",
   "execution_count": 10,
   "metadata": {
    "id": "5TPwIMQAxvw6"
   },
   "outputs": [],
   "source": [
    "\n",
    "df1 = pd.read_csv('/content/drive/MyDrive/NN-Jan2022/recon.csv')\n",
    "df2 = pd.read_csv('/content/drive/MyDrive/NN-Jan2022/labels.csv')\n",
    "\n",
    "X = df1.values\n",
    "y = df2.values\n",
    "\n",
    "n = 49985\n",
    "\n",
    "X = np.reshape(X, (n,13,21))"
   ]
  },
  {
   "cell_type": "code",
   "execution_count": 11,
   "metadata": {
    "colab": {
     "base_uri": "https://localhost:8080/"
    },
    "id": "k5un3gGszLCd",
    "outputId": "db5f2046-e94f-477f-ff1f-4cbe84d55d3c"
   },
   "outputs": [
    {
     "name": "stdout",
     "output_type": "stream",
     "text": [
      "      x-entry   y-entry  z-entry      theta         phi\n",
      "0  326.400238  2.956844      0.0  81.526621 -179.033077\n",
      "1  -96.487137  6.297313      0.0  61.721633   -1.228628\n",
      "2  224.482834 -7.186841      0.0  77.357507  177.376379\n",
      "3   56.857647 -1.071598      0.0  42.232569  170.850583\n",
      "4   -0.926316  6.759004      0.0  27.016447  -17.676475\n"
     ]
    }
   ],
   "source": [
    "#note: labels.csv has 11 columns; you need to drop the column you don't want, and then adjust number of outputs in your NN\n",
    "\n",
    "#df2.head()\n",
    "#df2.drop('x-entry', axis=1, inplace=True)\n",
    "#df2.drop('y-entry', axis=1, inplace=True)\n",
    "#df2.drop('z-entry', axis=1, inplace=True)\n",
    "df2.drop('n_x', axis=1, inplace=True)\n",
    "df2.drop('n_y', axis=1, inplace=True)\n",
    "df2.drop('n_z', axis=1, inplace=True)\n",
    "df2.drop('number_eh_pairs', axis=1, inplace=True)\n",
    "df2.drop('spherR', axis=1, inplace=True)\n",
    "#df2.drop('theta', axis=1, inplace=True)\n",
    "#df2.drop('phi', axis=1, inplace=True)\n",
    "df2.drop('cosPhi', axis=1, inplace=True)\n",
    "print(df2.head())\n",
    "#df2.shape\n",
    "\n",
    "#reset y since you dropped columns\n",
    "y = df2.values"
   ]
  },
  {
   "cell_type": "code",
   "execution_count": 45,
   "metadata": {
    "colab": {
     "base_uri": "https://localhost:8080/",
     "height": 367
    },
    "id": "VQcZvD-4DRjc",
    "outputId": "c062d3d2-e0aa-401e-e58b-b6a342cffbd1"
   },
   "outputs": [
    {
     "name": "stderr",
     "output_type": "stream",
     "text": [
      "/usr/local/lib/python3.7/dist-packages/seaborn/distributions.py:2619: FutureWarning: `distplot` is a deprecated function and will be removed in a future version. Please adapt your code to use either `displot` (a figure-level function with similar flexibility) or `histplot` (an axes-level function for histograms).\n",
      "  warnings.warn(msg, FutureWarning)\n"
     ]
    },
    {
     "data": {
      "text/plain": [
       "Text(0.5, 1.0, 'theta (true)')"
      ]
     },
     "execution_count": 45,
     "metadata": {},
     "output_type": "execute_result"
    },
    {
     "data": {
      "image/png": "[encoded data removed]",
      "text/plain": [
       "<Figure size 432x288 with 1 Axes>"
      ]
     },
     "metadata": {
      "needs_background": "light"
     },
     "output_type": "display_data"
    }
   ],
   "source": [
    "#histo. of true theta values\n",
    "df_true_theta = pd.DataFrame(df2, columns=['theta'])\n",
    "sns.distplot(df_true_theta['theta'], kde=False, bins=10)\n",
    "plt.xlabel('theta')\n",
    "plt.ylabel('frequency')\n",
    "plt.title(\"theta (true)\")"
   ]
  },
  {
   "cell_type": "code",
   "execution_count": 47,
   "metadata": {
    "colab": {
     "base_uri": "https://localhost:8080/",
     "height": 367
    },
    "id": "L_w9mQriCzUE",
    "outputId": "220800fa-048a-461c-8883-34f22aee00fc"
   },
   "outputs": [
    {
     "name": "stderr",
     "output_type": "stream",
     "text": [
      "/usr/local/lib/python3.7/dist-packages/seaborn/distributions.py:2619: FutureWarning: `distplot` is a deprecated function and will be removed in a future version. Please adapt your code to use either `displot` (a figure-level function with similar flexibility) or `histplot` (an axes-level function for histograms).\n",
      "  warnings.warn(msg, FutureWarning)\n"
     ]
    },
    {
     "data": {
      "text/plain": [
       "Text(0.5, 1.0, 'phi (true)')"
      ]
     },
     "execution_count": 47,
     "metadata": {},
     "output_type": "execute_result"
    },
    {
     "data": {
      "image/png": "[encoded data removed]",
      "text/plain": [
       "<Figure size 432x288 with 1 Axes>"
      ]
     },
     "metadata": {
      "needs_background": "light"
     },
     "output_type": "display_data"
    }
   ],
   "source": [
    "df_true_phi = pd.DataFrame(df2, columns=['phi'])\n",
    "sns.distplot(df_true_phi['phi'], kde=False, bins=10)\n",
    "plt.xlabel('phi')\n",
    "plt.ylabel('frequency')\n",
    "plt.title(\"phi (true)\")"
   ]
  },
  {
   "cell_type": "code",
   "execution_count": 51,
   "metadata": {
    "colab": {
     "base_uri": "https://localhost:8080/",
     "height": 367
    },
    "id": "0jJrPtkUCz3-",
    "outputId": "54708048-db13-4f1d-9ea5-3afcfd1caf7e"
   },
   "outputs": [
    {
     "name": "stderr",
     "output_type": "stream",
     "text": [
      "/usr/local/lib/python3.7/dist-packages/seaborn/distributions.py:2619: FutureWarning: `distplot` is a deprecated function and will be removed in a future version. Please adapt your code to use either `displot` (a figure-level function with similar flexibility) or `histplot` (an axes-level function for histograms).\n",
      "  warnings.warn(msg, FutureWarning)\n"
     ]
    },
    {
     "data": {
      "text/plain": [
       "Text(0.5, 1.0, 'x-entry (true)')"
      ]
     },
     "execution_count": 51,
     "metadata": {},
     "output_type": "execute_result"
    },
    {
     "data": {
      "image/png": "[encoded data removed]",
      "text/plain": [
       "<Figure size 432x288 with 1 Axes>"
      ]
     },
     "metadata": {
      "needs_background": "light"
     },
     "output_type": "display_data"
    }
   ],
   "source": [
    "df_true_phi = pd.DataFrame(df2, columns=['x-entry'])\n",
    "sns.distplot(df_true_phi['x-entry'], kde=False, bins=10)\n",
    "plt.xlabel('x')\n",
    "plt.ylabel('frequency')\n",
    "plt.title(\"x-entry (true)\")"
   ]
  },
  {
   "cell_type": "code",
   "execution_count": 52,
   "metadata": {
    "colab": {
     "base_uri": "https://localhost:8080/",
     "height": 367
    },
    "id": "D8e3sx58C0h4",
    "outputId": "6076be31-7a65-444d-bd15-c49b18117087"
   },
   "outputs": [
    {
     "name": "stderr",
     "output_type": "stream",
     "text": [
      "/usr/local/lib/python3.7/dist-packages/seaborn/distributions.py:2619: FutureWarning: `distplot` is a deprecated function and will be removed in a future version. Please adapt your code to use either `displot` (a figure-level function with similar flexibility) or `histplot` (an axes-level function for histograms).\n",
      "  warnings.warn(msg, FutureWarning)\n"
     ]
    },
    {
     "data": {
      "text/plain": [
       "Text(0.5, 1.0, 'y-entry (true)')"
      ]
     },
     "execution_count": 52,
     "metadata": {},
     "output_type": "execute_result"
    },
    {
     "data": {
      "image/png": "[encoded data removed]",
      "text/plain": [
       "<Figure size 432x288 with 1 Axes>"
      ]
     },
     "metadata": {
      "needs_background": "light"
     },
     "output_type": "display_data"
    }
   ],
   "source": [
    "df_true_phi = pd.DataFrame(df2, columns=['y-entry'])\n",
    "sns.distplot(df_true_phi['y-entry'], kde=False, bins=10)\n",
    "plt.xlabel('x')\n",
    "plt.ylabel('frequency')\n",
    "plt.title(\"y-entry (true)\")"
   ]
  },
  {
   "cell_type": "code",
   "execution_count": 53,
   "metadata": {
    "colab": {
     "base_uri": "https://localhost:8080/",
     "height": 367
    },
    "id": "e1Ha0NY5C11K",
    "outputId": "5cd3b037-6a09-4fc8-8389-588231cbb3cc"
   },
   "outputs": [
    {
     "name": "stderr",
     "output_type": "stream",
     "text": [
      "/usr/local/lib/python3.7/dist-packages/seaborn/distributions.py:2619: FutureWarning: `distplot` is a deprecated function and will be removed in a future version. Please adapt your code to use either `displot` (a figure-level function with similar flexibility) or `histplot` (an axes-level function for histograms).\n",
      "  warnings.warn(msg, FutureWarning)\n"
     ]
    },
    {
     "data": {
      "text/plain": [
       "Text(0.5, 1.0, 'z-entry (true)')"
      ]
     },
     "execution_count": 53,
     "metadata": {},
     "output_type": "execute_result"
    },
    {
     "data": {
      "image/png": "[encoded data removed]",
      "text/plain": [
       "<Figure size 432x288 with 1 Axes>"
      ]
     },
     "metadata": {
      "needs_background": "light"
     },
     "output_type": "display_data"
    }
   ],
   "source": [
    "df_true_phi = pd.DataFrame(df2, columns=['z-entry'])\n",
    "sns.distplot(df_true_phi['z-entry'], kde=False, bins=10)\n",
    "plt.xlabel('x')\n",
    "plt.ylabel('frequency')\n",
    "plt.title(\"z-entry (true)\")"
   ]
  },
  {
   "cell_type": "code",
   "execution_count": 32,
   "metadata": {
    "id": "QvwmzDiz5O9N"
   },
   "outputs": [],
   "source": [
    "#from https://keras.io/guides/writing_your_own_callbacks/\n",
    "class CustomCallback(keras.callbacks.Callback):\n",
    "    def on_train_begin(self, logs=None):\n",
    "        keys = list(logs.keys())\n",
    "        print(\"Starting training; got log keys: {}\".format(keys))\n",
    "\n",
    "    def on_train_end(self, logs=None):\n",
    "        keys = list(logs.keys())\n",
    "        print(\"Stop training; got log keys: {}\".format(keys))\n",
    "\n",
    "    def on_epoch_begin(self, epoch, logs=None):\n",
    "        keys = list(logs.keys())\n",
    "        print(\"Start epoch {} of training; got log keys: {}\".format(epoch, keys))\n",
    "\n",
    "    def on_epoch_end(self, epoch, logs=None):\n",
    "        keys = list(logs.keys())\n",
    "        print(\"End epoch {} of training; got log keys: {}\".format(epoch, keys))\n",
    "\n",
    "    def on_test_begin(self, logs=None):\n",
    "        keys = list(logs.keys())\n",
    "        print(\"Start testing; got log keys: {}\".format(keys))\n",
    "\n",
    "    def on_test_end(self, logs=None):\n",
    "        keys = list(logs.keys())\n",
    "        print(\"Stop testing; got log keys: {}\".format(keys))\n",
    "\n",
    "    def on_predict_begin(self, logs=None):\n",
    "        keys = list(logs.keys())\n",
    "        print(\"Start predicting; got log keys: {}\".format(keys))\n",
    "\n",
    "    def on_predict_end(self, logs=None):\n",
    "        keys = list(logs.keys())\n",
    "        print(\"Stop predicting; got log keys: {}\".format(keys))\n",
    "\n",
    "    def on_train_batch_begin(self, batch, logs=None):\n",
    "        keys = list(logs.keys())\n",
    "        print(\"...Training: start of batch {}; got log keys: {}\".format(batch, keys))\n",
    "\n",
    "    def on_train_batch_end(self, batch, logs=None):\n",
    "        keys = list(logs.keys())\n",
    "        print(\"...Training: end of batch {}; got log keys: {}\".format(batch, keys))\n",
    "\n",
    "    def on_test_batch_begin(self, batch, logs=None):\n",
    "        keys = list(logs.keys())\n",
    "        print(\"...Evaluating: start of batch {}; got log keys: {}\".format(batch, keys))\n",
    "\n",
    "    def on_test_batch_end(self, batch, logs=None):\n",
    "        keys = list(logs.keys())\n",
    "        print(\"...Evaluating: end of batch {}; got log keys: {}\".format(batch, keys))\n",
    "\n",
    "   # def on_predict_batch_begin(self, batch, logs=None):\n",
    "    #    keys = list(logs.keys())\n",
    "     #   print(\"...Predicting: start of batch {}; got log keys: {}\".format(batch, keys))\n",
    "\n",
    "#    def on_predict_batch_end(self, batch, logs=None):\n",
    " #       keys = list(logs.keys())\n",
    "  #      print(\"...Predicting: end of batch {}; got log keys: {}\".format(batch, keys))"
   ]
  },
  {
   "cell_type": "code",
   "execution_count": null,
   "metadata": {
    "id": "Q1WInzdn_osl"
   },
   "outputs": [],
   "source": []
  },
  {
   "cell_type": "code",
   "execution_count": 56,
   "metadata": {
    "colab": {
     "base_uri": "https://localhost:8080/"
    },
    "id": "UUjsMRLKxyeb",
    "outputId": "a8722a9d-4fe3-4d5e-bcc8-7992d8670306"
   },
   "outputs": [
    {
     "name": "stdout",
     "output_type": "stream",
     "text": [
      "(49985, 13, 21) (49985, 5)\n",
      "(39988, 13, 21) (9997, 13, 21) (39988, 5) (9997, 5)\n",
      "Model: \"sequential_3\"\n",
      "_________________________________________________________________\n",
      " Layer (type)                Output Shape              Param #   \n",
      "=================================================================\n",
      " conv2d_6 (Conv2D)           (None, 11, 19, 32)        320       \n",
      "                                                                 \n",
      " max_pooling2d_3 (MaxPooling  (None, 5, 9, 32)         0         \n",
      " 2D)                                                             \n",
      "                                                                 \n",
      " conv2d_7 (Conv2D)           (None, 3, 7, 64)          18496     \n",
      "                                                                 \n",
      " flatten_3 (Flatten)         (None, 1344)              0         \n",
      "                                                                 \n",
      " dense_6 (Dense)             (None, 64)                86080     \n",
      "                                                                 \n",
      " dropout_3 (Dropout)         (None, 64)                0         \n",
      "                                                                 \n",
      " dense_7 (Dense)             (None, 5)                 325       \n",
      "                                                                 \n",
      "=================================================================\n",
      "Total params: 105,221\n",
      "Trainable params: 105,221\n",
      "Non-trainable params: 0\n",
      "_________________________________________________________________\n"
     ]
    }
   ],
   "source": [
    "X_train, X_test, y_train, y_test = train_test_split(X,y,test_size = 0.20, random_state = 0)\n",
    "print(X.shape, y.shape)\n",
    "print(X_train.shape, X_test.shape, y_train.shape, y_test.shape)\n",
    "\n",
    "#scale input data\n",
    "scaler = StandardScaler()\n",
    "X_train = scaler.fit_transform(X_train.reshape(-1, X_train.shape[-1])).reshape(X_train.shape)\n",
    "X_test = scaler.transform(X_test.reshape(-1, X_test.shape[-1])).reshape(X_test.shape)\n",
    "\n",
    "#make a simple model\n",
    "model = models.Sequential()\n",
    "model.add(layers.Conv2D(32, (3, 3), activation='relu', input_shape=(13, 21, 1)))\n",
    "model.add(layers.MaxPooling2D((2, 2)))\n",
    "model.add(layers.Conv2D(64, (3, 3), activation='relu'))\n",
    "model.add(layers.Flatten())\n",
    "model.add(layers.Dense(64, activation='relu'))\n",
    "model.add(layers.Dropout(0.5))\n",
    "#change the #nodes in layer below based on number of outputs #*****************\n",
    "model.add(layers.Dense(5, activation='linear'))\n",
    "\n",
    "model.summary()\n"
   ]
  },
  {
   "cell_type": "code",
   "execution_count": 57,
   "metadata": {
    "id": "xc9feL9S24f4"
   },
   "outputs": [],
   "source": [
    "#https://keras.io/guides/writing_your_own_callbacks/\n",
    "class LossAndErrorPrintingCallback(keras.callbacks.Callback):\n",
    "  #***uncomment lines below if you want more detailed logs on each batch*******\n",
    "   # def on_train_batch_end(self, batch, logs=None):\n",
    "    #    print(\n",
    "     #       \"Up to batch {}, the average loss is {:7.2f}.\".format(batch, logs[\"loss\"])\n",
    "     #   )\n",
    "\n",
    "    #def on_test_batch_end(self, batch, logs=None):\n",
    "     #   print(\n",
    "     #       \"Up to batch {}, the average loss is {:7.2f}.\".format(batch, logs[\"loss\"])\n",
    "     #   )\n",
    "\n",
    "    def on_epoch_end(self, epoch, logs=None):\n",
    "        print(\n",
    "            \"The average loss for epoch {} is {:7.2f} \"\n",
    "            \"and mean squared error is {:7.2f}.\".format(\n",
    "                epoch, logs[\"loss\"], logs[\"mean_squared_error\"]\n",
    "            )\n",
    "        )\n"
   ]
  },
  {
   "cell_type": "code",
   "execution_count": 67,
   "metadata": {
    "colab": {
     "base_uri": "https://localhost:8080/"
    },
    "id": "A5wetuxp1efH",
    "outputId": "bc2ed5ad-4ce5-475c-ec41-4cca8eb75a74"
   },
   "outputs": [
    {
     "name": "stdout",
     "output_type": "stream",
     "text": [
      "Epoch 1/200\n",
      "625/625 [==============================] - ETA: 0s - loss: 1186.8925 - mean_squared_error: 1186.8925The average loss for epoch 0 is 1186.89 and mean squared error is 1186.89.\n",
      "625/625 [==============================] - 12s 19ms/step - loss: 1186.8925 - mean_squared_error: 1186.8925 - val_loss: 474.5409 - val_mean_squared_error: 474.5409\n",
      "Epoch 2/200\n",
      "625/625 [==============================] - ETA: 0s - loss: 1182.8101 - mean_squared_error: 1182.8101The average loss for epoch 1 is 1182.81 and mean squared error is 1182.81.\n",
      "625/625 [==============================] - 12s 19ms/step - loss: 1182.8101 - mean_squared_error: 1182.8101 - val_loss: 475.9523 - val_mean_squared_error: 475.9523\n",
      "Epoch 3/200\n",
      "625/625 [==============================] - ETA: 0s - loss: 1169.6552 - mean_squared_error: 1169.6552The average loss for epoch 2 is 1169.66 and mean squared error is 1169.66.\n",
      "625/625 [==============================] - 11s 18ms/step - loss: 1169.6552 - mean_squared_error: 1169.6552 - val_loss: 448.4358 - val_mean_squared_error: 448.4358\n",
      "Epoch 4/200\n",
      "624/625 [============================>.] - ETA: 0s - loss: 1168.9922 - mean_squared_error: 1168.9922The average loss for epoch 3 is 1168.87 and mean squared error is 1168.87.\n",
      "625/625 [==============================] - 12s 19ms/step - loss: 1168.8684 - mean_squared_error: 1168.8684 - val_loss: 450.7580 - val_mean_squared_error: 450.7580\n",
      "Epoch 5/200\n",
      "624/625 [============================>.] - ETA: 0s - loss: 1166.3295 - mean_squared_error: 1166.3295The average loss for epoch 4 is 1166.73 and mean squared error is 1166.73.\n",
      "625/625 [==============================] - 11s 18ms/step - loss: 1166.7258 - mean_squared_error: 1166.7258 - val_loss: 460.0456 - val_mean_squared_error: 460.0456\n",
      "Epoch 6/200\n",
      "624/625 [============================>.] - ETA: 0s - loss: 1183.2328 - mean_squared_error: 1183.2328The average loss for epoch 5 is 1183.28 and mean squared error is 1183.28.\n",
      "625/625 [==============================] - 11s 18ms/step - loss: 1183.2828 - mean_squared_error: 1183.2828 - val_loss: 448.2673 - val_mean_squared_error: 448.2673\n",
      "Epoch 7/200\n",
      "624/625 [============================>.] - ETA: 0s - loss: 1171.4373 - mean_squared_error: 1171.4373The average loss for epoch 6 is 1171.43 and mean squared error is 1171.43.\n",
      "625/625 [==============================] - 11s 18ms/step - loss: 1171.4329 - mean_squared_error: 1171.4329 - val_loss: 457.2043 - val_mean_squared_error: 457.2043\n",
      "Epoch 8/200\n",
      "623/625 [============================>.] - ETA: 0s - loss: 1166.7477 - mean_squared_error: 1166.7477The average loss for epoch 7 is 1166.61 and mean squared error is 1166.61.\n",
      "625/625 [==============================] - 12s 19ms/step - loss: 1166.6077 - mean_squared_error: 1166.6077 - val_loss: 466.5830 - val_mean_squared_error: 466.5830\n",
      "Epoch 9/200\n",
      "625/625 [==============================] - ETA: 0s - loss: 1171.5969 - mean_squared_error: 1171.5969The average loss for epoch 8 is 1171.60 and mean squared error is 1171.60.\n",
      "625/625 [==============================] - 12s 19ms/step - loss: 1171.5969 - mean_squared_error: 1171.5969 - val_loss: 419.4124 - val_mean_squared_error: 419.4124\n",
      "Epoch 10/200\n",
      "624/625 [============================>.] - ETA: 0s - loss: 1155.8127 - mean_squared_error: 1155.8127The average loss for epoch 9 is 1156.11 and mean squared error is 1156.11.\n",
      "625/625 [==============================] - 11s 18ms/step - loss: 1156.1067 - mean_squared_error: 1156.1067 - val_loss: 444.1876 - val_mean_squared_error: 444.1876\n",
      "Epoch 11/200\n",
      "624/625 [============================>.] - ETA: 0s - loss: 1156.8181 - mean_squared_error: 1156.8181The average loss for epoch 10 is 1156.27 and mean squared error is 1156.27.\n",
      "625/625 [==============================] - 11s 18ms/step - loss: 1156.2719 - mean_squared_error: 1156.2719 - val_loss: 440.1676 - val_mean_squared_error: 440.1676\n",
      "Epoch 12/200\n",
      "623/625 [============================>.] - ETA: 0s - loss: 1151.1886 - mean_squared_error: 1151.1886The average loss for epoch 11 is 1151.16 and mean squared error is 1151.16.\n",
      "625/625 [==============================] - 11s 18ms/step - loss: 1151.1616 - mean_squared_error: 1151.1616 - val_loss: 466.8870 - val_mean_squared_error: 466.8870\n",
      "Epoch 13/200\n",
      "625/625 [==============================] - ETA: 0s - loss: 1147.3378 - mean_squared_error: 1147.3378The average loss for epoch 12 is 1147.34 and mean squared error is 1147.34.\n",
      "625/625 [==============================] - 12s 19ms/step - loss: 1147.3378 - mean_squared_error: 1147.3378 - val_loss: 481.3488 - val_mean_squared_error: 481.3488\n",
      "Epoch 14/200\n",
      "622/625 [============================>.] - ETA: 0s - loss: 1146.9071 - mean_squared_error: 1146.9071The average loss for epoch 13 is 1147.48 and mean squared error is 1147.48.\n",
      "625/625 [==============================] - 11s 18ms/step - loss: 1147.4827 - mean_squared_error: 1147.4827 - val_loss: 436.0757 - val_mean_squared_error: 436.0757\n",
      "Epoch 15/200\n",
      "623/625 [============================>.] - ETA: 0s - loss: 1147.7318 - mean_squared_error: 1147.7318The average loss for epoch 14 is 1147.91 and mean squared error is 1147.91.\n",
      "625/625 [==============================] - 12s 19ms/step - loss: 1147.9146 - mean_squared_error: 1147.9146 - val_loss: 435.8634 - val_mean_squared_error: 435.8634\n",
      "Epoch 16/200\n",
      "625/625 [==============================] - ETA: 0s - loss: 1136.9430 - mean_squared_error: 1136.9430The average loss for epoch 15 is 1136.94 and mean squared error is 1136.94.\n",
      "625/625 [==============================] - 12s 19ms/step - loss: 1136.9430 - mean_squared_error: 1136.9430 - val_loss: 459.7586 - val_mean_squared_error: 459.7586\n",
      "Epoch 17/200\n",
      "624/625 [============================>.] - ETA: 0s - loss: 1128.6750 - mean_squared_error: 1128.6750The average loss for epoch 16 is 1128.37 and mean squared error is 1128.37.\n",
      "625/625 [==============================] - 11s 18ms/step - loss: 1128.3713 - mean_squared_error: 1128.3713 - val_loss: 488.4467 - val_mean_squared_error: 488.4467\n",
      "Epoch 18/200\n",
      "624/625 [============================>.] - ETA: 0s - loss: 1144.4590 - mean_squared_error: 1144.4590The average loss for epoch 17 is 1144.68 and mean squared error is 1144.68.\n",
      "625/625 [==============================] - 11s 18ms/step - loss: 1144.6832 - mean_squared_error: 1144.6832 - val_loss: 440.7149 - val_mean_squared_error: 440.7149\n",
      "Epoch 19/200\n",
      "625/625 [==============================] - ETA: 0s - loss: 1142.1615 - mean_squared_error: 1142.1615The average loss for epoch 18 is 1142.16 and mean squared error is 1142.16.\n",
      "625/625 [==============================] - 12s 18ms/step - loss: 1142.1615 - mean_squared_error: 1142.1615 - val_loss: 424.7183 - val_mean_squared_error: 424.7183\n",
      "Epoch 20/200\n",
      "624/625 [============================>.] - ETA: 0s - loss: 1134.0441 - mean_squared_error: 1134.0441The average loss for epoch 19 is 1134.33 and mean squared error is 1134.33.\n",
      "625/625 [==============================] - 11s 18ms/step - loss: 1134.3254 - mean_squared_error: 1134.3254 - val_loss: 467.9751 - val_mean_squared_error: 467.9751\n",
      "Epoch 21/200\n",
      "624/625 [============================>.] - ETA: 0s - loss: 1130.0647 - mean_squared_error: 1130.0647The average loss for epoch 20 is 1130.30 and mean squared error is 1130.30.\n",
      "625/625 [==============================] - 11s 18ms/step - loss: 1130.3031 - mean_squared_error: 1130.3031 - val_loss: 419.0374 - val_mean_squared_error: 419.0374\n",
      "Epoch 22/200\n",
      "623/625 [============================>.] - ETA: 0s - loss: 1134.8241 - mean_squared_error: 1134.8241The average loss for epoch 21 is 1134.99 and mean squared error is 1134.99.\n",
      "625/625 [==============================] - 11s 18ms/step - loss: 1134.9921 - mean_squared_error: 1134.9921 - val_loss: 483.7184 - val_mean_squared_error: 483.7184\n",
      "Epoch 23/200\n",
      "624/625 [============================>.] - ETA: 0s - loss: 1130.5599 - mean_squared_error: 1130.5599The average loss for epoch 22 is 1130.49 and mean squared error is 1130.49.\n",
      "625/625 [==============================] - 11s 18ms/step - loss: 1130.4934 - mean_squared_error: 1130.4934 - val_loss: 506.8682 - val_mean_squared_error: 506.8682\n",
      "Epoch 24/200\n",
      "622/625 [============================>.] - ETA: 0s - loss: 1125.8887 - mean_squared_error: 1125.8887The average loss for epoch 23 is 1125.57 and mean squared error is 1125.57.\n",
      "625/625 [==============================] - 12s 19ms/step - loss: 1125.5681 - mean_squared_error: 1125.5681 - val_loss: 444.2753 - val_mean_squared_error: 444.2753\n",
      "Epoch 25/200\n",
      "625/625 [==============================] - ETA: 0s - loss: 1129.5111 - mean_squared_error: 1129.5111The average loss for epoch 24 is 1129.51 and mean squared error is 1129.51.\n",
      "625/625 [==============================] - 12s 18ms/step - loss: 1129.5111 - mean_squared_error: 1129.5111 - val_loss: 435.2982 - val_mean_squared_error: 435.2982\n",
      "Epoch 26/200\n",
      "624/625 [============================>.] - ETA: 0s - loss: 1111.7375 - mean_squared_error: 1111.7375The average loss for epoch 25 is 1111.42 and mean squared error is 1111.42.\n",
      "625/625 [==============================] - 11s 18ms/step - loss: 1111.4188 - mean_squared_error: 1111.4188 - val_loss: 482.5893 - val_mean_squared_error: 482.5893\n",
      "Epoch 27/200\n",
      "624/625 [============================>.] - ETA: 0s - loss: 1131.7294 - mean_squared_error: 1131.7294The average loss for epoch 26 is 1131.69 and mean squared error is 1131.69.\n",
      "625/625 [==============================] - 12s 19ms/step - loss: 1131.6871 - mean_squared_error: 1131.6871 - val_loss: 444.2602 - val_mean_squared_error: 444.2602\n",
      "Epoch 28/200\n",
      "624/625 [============================>.] - ETA: 0s - loss: 1126.2782 - mean_squared_error: 1126.2782The average loss for epoch 27 is 1126.15 and mean squared error is 1126.15.\n",
      "625/625 [==============================] - 11s 18ms/step - loss: 1126.1522 - mean_squared_error: 1126.1522 - val_loss: 438.1901 - val_mean_squared_error: 438.1901\n",
      "Epoch 29/200\n",
      "623/625 [============================>.] - ETA: 0s - loss: 1120.2981 - mean_squared_error: 1120.2981The average loss for epoch 28 is 1119.72 and mean squared error is 1119.72.\n",
      "625/625 [==============================] - 12s 19ms/step - loss: 1119.7207 - mean_squared_error: 1119.7207 - val_loss: 450.7397 - val_mean_squared_error: 450.7397\n",
      "Epoch 30/200\n",
      "625/625 [==============================] - ETA: 0s - loss: 1119.0884 - mean_squared_error: 1119.0884The average loss for epoch 29 is 1119.09 and mean squared error is 1119.09.\n",
      "625/625 [==============================] - 12s 19ms/step - loss: 1119.0884 - mean_squared_error: 1119.0884 - val_loss: 497.8556 - val_mean_squared_error: 497.8556\n",
      "Epoch 31/200\n",
      "625/625 [==============================] - ETA: 0s - loss: 1112.4327 - mean_squared_error: 1112.4327The average loss for epoch 30 is 1112.43 and mean squared error is 1112.43.\n",
      "625/625 [==============================] - 11s 18ms/step - loss: 1112.4327 - mean_squared_error: 1112.4327 - val_loss: 423.1260 - val_mean_squared_error: 423.1260\n",
      "Epoch 32/200\n",
      "623/625 [============================>.] - ETA: 0s - loss: 1127.7605 - mean_squared_error: 1127.7605The average loss for epoch 31 is 1128.08 and mean squared error is 1128.08.\n",
      "625/625 [==============================] - 12s 19ms/step - loss: 1128.0839 - mean_squared_error: 1128.0839 - val_loss: 466.9849 - val_mean_squared_error: 466.9849\n",
      "Epoch 33/200\n",
      "624/625 [============================>.] - ETA: 0s - loss: 1125.5428 - mean_squared_error: 1125.5428The average loss for epoch 32 is 1125.86 and mean squared error is 1125.86.\n",
      "625/625 [==============================] - 12s 19ms/step - loss: 1125.8571 - mean_squared_error: 1125.8571 - val_loss: 432.9504 - val_mean_squared_error: 432.9504\n",
      "Epoch 34/200\n",
      "623/625 [============================>.] - ETA: 0s - loss: 1112.6647 - mean_squared_error: 1112.6647The average loss for epoch 33 is 1112.54 and mean squared error is 1112.54.\n",
      "625/625 [==============================] - 12s 20ms/step - loss: 1112.5381 - mean_squared_error: 1112.5381 - val_loss: 512.0760 - val_mean_squared_error: 512.0760\n",
      "Epoch 35/200\n",
      "623/625 [============================>.] - ETA: 0s - loss: 1131.4468 - mean_squared_error: 1131.4468The average loss for epoch 34 is 1130.79 and mean squared error is 1130.79.\n",
      "625/625 [==============================] - 11s 18ms/step - loss: 1130.7947 - mean_squared_error: 1130.7947 - val_loss: 440.6771 - val_mean_squared_error: 440.6771\n",
      "Epoch 36/200\n",
      "625/625 [==============================] - ETA: 0s - loss: 1113.4764 - mean_squared_error: 1113.4764The average loss for epoch 35 is 1113.48 and mean squared error is 1113.48.\n",
      "625/625 [==============================] - 12s 19ms/step - loss: 1113.4764 - mean_squared_error: 1113.4764 - val_loss: 470.8380 - val_mean_squared_error: 470.8380\n",
      "Epoch 37/200\n",
      "624/625 [============================>.] - ETA: 0s - loss: 1119.3882 - mean_squared_error: 1119.3882The average loss for epoch 36 is 1119.66 and mean squared error is 1119.66.\n",
      "625/625 [==============================] - 11s 18ms/step - loss: 1119.6554 - mean_squared_error: 1119.6554 - val_loss: 434.2710 - val_mean_squared_error: 434.2710\n",
      "Epoch 38/200\n",
      "623/625 [============================>.] - ETA: 0s - loss: 1110.3798 - mean_squared_error: 1110.3798The average loss for epoch 37 is 1110.10 and mean squared error is 1110.10.\n",
      "625/625 [==============================] - 12s 19ms/step - loss: 1110.0985 - mean_squared_error: 1110.0985 - val_loss: 423.7570 - val_mean_squared_error: 423.7570\n",
      "Epoch 39/200\n",
      "625/625 [==============================] - ETA: 0s - loss: 1112.6056 - mean_squared_error: 1112.6056The average loss for epoch 38 is 1112.61 and mean squared error is 1112.61.\n",
      "625/625 [==============================] - 12s 20ms/step - loss: 1112.6056 - mean_squared_error: 1112.6056 - val_loss: 476.5992 - val_mean_squared_error: 476.5992\n",
      "Epoch 40/200\n",
      "624/625 [============================>.] - ETA: 0s - loss: 1110.5176 - mean_squared_error: 1110.5176The average loss for epoch 39 is 1111.04 and mean squared error is 1111.04.\n",
      "625/625 [==============================] - 12s 19ms/step - loss: 1111.0439 - mean_squared_error: 1111.0439 - val_loss: 474.2453 - val_mean_squared_error: 474.2453\n",
      "Epoch 41/200\n",
      "622/625 [============================>.] - ETA: 0s - loss: 1109.8096 - mean_squared_error: 1109.8096The average loss for epoch 40 is 1110.11 and mean squared error is 1110.11.\n",
      "625/625 [==============================] - 12s 19ms/step - loss: 1110.1123 - mean_squared_error: 1110.1123 - val_loss: 411.3642 - val_mean_squared_error: 411.3642\n",
      "Epoch 42/200\n",
      "625/625 [==============================] - ETA: 0s - loss: 1108.5698 - mean_squared_error: 1108.5698The average loss for epoch 41 is 1108.57 and mean squared error is 1108.57.\n",
      "625/625 [==============================] - 12s 19ms/step - loss: 1108.5698 - mean_squared_error: 1108.5698 - val_loss: 418.6544 - val_mean_squared_error: 418.6544\n",
      "Epoch 43/200\n",
      "624/625 [============================>.] - ETA: 0s - loss: 1102.8442 - mean_squared_error: 1102.8442The average loss for epoch 42 is 1103.12 and mean squared error is 1103.12.\n",
      "625/625 [==============================] - 11s 18ms/step - loss: 1103.1246 - mean_squared_error: 1103.1246 - val_loss: 450.8633 - val_mean_squared_error: 450.8633\n",
      "Epoch 44/200\n",
      "625/625 [==============================] - ETA: 0s - loss: 1090.7643 - mean_squared_error: 1090.7643The average loss for epoch 43 is 1090.76 and mean squared error is 1090.76.\n",
      "625/625 [==============================] - 12s 19ms/step - loss: 1090.7643 - mean_squared_error: 1090.7643 - val_loss: 434.7177 - val_mean_squared_error: 434.7177\n",
      "Epoch 45/200\n",
      "623/625 [============================>.] - ETA: 0s - loss: 1089.6610 - mean_squared_error: 1089.6610The average loss for epoch 44 is 1090.33 and mean squared error is 1090.33.\n",
      "625/625 [==============================] - 12s 20ms/step - loss: 1090.3280 - mean_squared_error: 1090.3280 - val_loss: 416.3123 - val_mean_squared_error: 416.3123\n",
      "Epoch 46/200\n",
      "623/625 [============================>.] - ETA: 0s - loss: 1096.6134 - mean_squared_error: 1096.6134The average loss for epoch 45 is 1096.84 and mean squared error is 1096.84.\n",
      "625/625 [==============================] - 11s 18ms/step - loss: 1096.8438 - mean_squared_error: 1096.8438 - val_loss: 428.8045 - val_mean_squared_error: 428.8045\n",
      "Epoch 47/200\n",
      "624/625 [============================>.] - ETA: 0s - loss: 1097.3801 - mean_squared_error: 1097.3801The average loss for epoch 46 is 1097.48 and mean squared error is 1097.48.\n",
      "625/625 [==============================] - 12s 18ms/step - loss: 1097.4763 - mean_squared_error: 1097.4763 - val_loss: 456.2034 - val_mean_squared_error: 456.2034\n",
      "Epoch 48/200\n",
      "622/625 [============================>.] - ETA: 0s - loss: 1106.4469 - mean_squared_error: 1106.4469The average loss for epoch 47 is 1105.94 and mean squared error is 1105.94.\n",
      "625/625 [==============================] - 12s 19ms/step - loss: 1105.9390 - mean_squared_error: 1105.9390 - val_loss: 451.9031 - val_mean_squared_error: 451.9031\n",
      "Epoch 49/200\n",
      "623/625 [============================>.] - ETA: 0s - loss: 1100.2422 - mean_squared_error: 1100.2422The average loss for epoch 48 is 1100.07 and mean squared error is 1100.07.\n",
      "625/625 [==============================] - 12s 18ms/step - loss: 1100.0692 - mean_squared_error: 1100.0692 - val_loss: 492.7200 - val_mean_squared_error: 492.7200\n",
      "Epoch 50/200\n",
      "623/625 [============================>.] - ETA: 0s - loss: 1098.2527 - mean_squared_error: 1098.2527The average loss for epoch 49 is 1098.01 and mean squared error is 1098.01.\n",
      "625/625 [==============================] - 11s 18ms/step - loss: 1098.0083 - mean_squared_error: 1098.0083 - val_loss: 404.5134 - val_mean_squared_error: 404.5134\n",
      "Epoch 51/200\n",
      "623/625 [============================>.] - ETA: 0s - loss: 1095.2528 - mean_squared_error: 1095.2528The average loss for epoch 50 is 1096.08 and mean squared error is 1096.08.\n",
      "625/625 [==============================] - 12s 19ms/step - loss: 1096.0784 - mean_squared_error: 1096.0784 - val_loss: 509.9777 - val_mean_squared_error: 509.9777\n",
      "Epoch 52/200\n",
      "623/625 [============================>.] - ETA: 0s - loss: 1100.9551 - mean_squared_error: 1100.9551The average loss for epoch 51 is 1100.89 and mean squared error is 1100.89.\n",
      "625/625 [==============================] - 12s 19ms/step - loss: 1100.8883 - mean_squared_error: 1100.8883 - val_loss: 576.0767 - val_mean_squared_error: 576.0767\n",
      "Epoch 53/200\n",
      "622/625 [============================>.] - ETA: 0s - loss: 1106.0781 - mean_squared_error: 1106.0781The average loss for epoch 52 is 1105.96 and mean squared error is 1105.96.\n",
      "625/625 [==============================] - 12s 19ms/step - loss: 1105.9596 - mean_squared_error: 1105.9596 - val_loss: 452.7257 - val_mean_squared_error: 452.7257\n",
      "Epoch 54/200\n",
      "622/625 [============================>.] - ETA: 0s - loss: 1095.6162 - mean_squared_error: 1095.6162The average loss for epoch 53 is 1094.53 and mean squared error is 1094.53.\n",
      "625/625 [==============================] - 12s 19ms/step - loss: 1094.5288 - mean_squared_error: 1094.5288 - val_loss: 419.0160 - val_mean_squared_error: 419.0160\n",
      "Epoch 55/200\n",
      "625/625 [==============================] - ETA: 0s - loss: 1101.9893 - mean_squared_error: 1101.9893The average loss for epoch 54 is 1101.99 and mean squared error is 1101.99.\n",
      "625/625 [==============================] - 12s 19ms/step - loss: 1101.9893 - mean_squared_error: 1101.9893 - val_loss: 445.8532 - val_mean_squared_error: 445.8532\n",
      "Epoch 56/200\n",
      "625/625 [==============================] - ETA: 0s - loss: 1089.2098 - mean_squared_error: 1089.2098The average loss for epoch 55 is 1089.21 and mean squared error is 1089.21.\n",
      "625/625 [==============================] - 12s 19ms/step - loss: 1089.2098 - mean_squared_error: 1089.2098 - val_loss: 428.7474 - val_mean_squared_error: 428.7474\n",
      "Epoch 57/200\n",
      "623/625 [============================>.] - ETA: 0s - loss: 1093.9050 - mean_squared_error: 1093.9050The average loss for epoch 56 is 1093.65 and mean squared error is 1093.65.\n",
      "625/625 [==============================] - 12s 19ms/step - loss: 1093.6523 - mean_squared_error: 1093.6523 - val_loss: 493.2903 - val_mean_squared_error: 493.2903\n",
      "Epoch 58/200\n",
      "622/625 [============================>.] - ETA: 0s - loss: 1088.9219 - mean_squared_error: 1088.9219The average loss for epoch 57 is 1088.03 and mean squared error is 1088.03.\n",
      "625/625 [==============================] - 11s 18ms/step - loss: 1088.0308 - mean_squared_error: 1088.0308 - val_loss: 447.3523 - val_mean_squared_error: 447.3523\n",
      "Epoch 59/200\n",
      "625/625 [==============================] - ETA: 0s - loss: 1086.2939 - mean_squared_error: 1086.2939The average loss for epoch 58 is 1086.29 and mean squared error is 1086.29.\n",
      "625/625 [==============================] - 12s 19ms/step - loss: 1086.2939 - mean_squared_error: 1086.2939 - val_loss: 438.8336 - val_mean_squared_error: 438.8336\n",
      "Epoch 60/200\n",
      "624/625 [============================>.] - ETA: 0s - loss: 1087.5717 - mean_squared_error: 1087.5717The average loss for epoch 59 is 1087.57 and mean squared error is 1087.57.\n",
      "625/625 [==============================] - 12s 19ms/step - loss: 1087.5688 - mean_squared_error: 1087.5688 - val_loss: 433.7064 - val_mean_squared_error: 433.7064\n",
      "Epoch 61/200\n",
      "622/625 [============================>.] - ETA: 0s - loss: 1091.7659 - mean_squared_error: 1091.7659The average loss for epoch 60 is 1091.97 and mean squared error is 1091.97.\n",
      "625/625 [==============================] - 12s 20ms/step - loss: 1091.9742 - mean_squared_error: 1091.9742 - val_loss: 417.8633 - val_mean_squared_error: 417.8633\n",
      "Epoch 62/200\n",
      "625/625 [==============================] - ETA: 0s - loss: 1084.0880 - mean_squared_error: 1084.0880The average loss for epoch 61 is 1084.09 and mean squared error is 1084.09.\n",
      "625/625 [==============================] - 12s 19ms/step - loss: 1084.0880 - mean_squared_error: 1084.0880 - val_loss: 541.8055 - val_mean_squared_error: 541.8055\n",
      "Epoch 63/200\n",
      "625/625 [==============================] - ETA: 0s - loss: 1091.4346 - mean_squared_error: 1091.4346The average loss for epoch 62 is 1091.43 and mean squared error is 1091.43.\n",
      "625/625 [==============================] - 13s 20ms/step - loss: 1091.4346 - mean_squared_error: 1091.4346 - val_loss: 457.5750 - val_mean_squared_error: 457.5750\n",
      "Epoch 64/200\n",
      "625/625 [==============================] - ETA: 0s - loss: 1088.8367 - mean_squared_error: 1088.8367The average loss for epoch 63 is 1088.84 and mean squared error is 1088.84.\n",
      "625/625 [==============================] - 12s 20ms/step - loss: 1088.8367 - mean_squared_error: 1088.8367 - val_loss: 440.3011 - val_mean_squared_error: 440.3011\n",
      "Epoch 65/200\n",
      "625/625 [==============================] - ETA: 0s - loss: 1078.9773 - mean_squared_error: 1078.9773The average loss for epoch 64 is 1078.98 and mean squared error is 1078.98.\n",
      "625/625 [==============================] - 12s 19ms/step - loss: 1078.9773 - mean_squared_error: 1078.9773 - val_loss: 399.1653 - val_mean_squared_error: 399.1653\n",
      "Epoch 66/200\n",
      "623/625 [============================>.] - ETA: 0s - loss: 1077.9623 - mean_squared_error: 1077.9623The average loss for epoch 65 is 1077.27 and mean squared error is 1077.27.\n",
      "625/625 [==============================] - 12s 19ms/step - loss: 1077.2734 - mean_squared_error: 1077.2734 - val_loss: 496.5534 - val_mean_squared_error: 496.5534\n",
      "Epoch 67/200\n",
      "623/625 [============================>.] - ETA: 0s - loss: 1080.8536 - mean_squared_error: 1080.8536The average loss for epoch 66 is 1080.64 and mean squared error is 1080.64.\n",
      "625/625 [==============================] - 12s 19ms/step - loss: 1080.6442 - mean_squared_error: 1080.6442 - val_loss: 416.7806 - val_mean_squared_error: 416.7806\n",
      "Epoch 68/200\n",
      "625/625 [==============================] - ETA: 0s - loss: 1081.6954 - mean_squared_error: 1081.6954The average loss for epoch 67 is 1081.70 and mean squared error is 1081.70.\n",
      "625/625 [==============================] - 12s 20ms/step - loss: 1081.6954 - mean_squared_error: 1081.6954 - val_loss: 432.7792 - val_mean_squared_error: 432.7792\n",
      "Epoch 69/200\n",
      "624/625 [============================>.] - ETA: 0s - loss: 1079.3926 - mean_squared_error: 1079.3926The average loss for epoch 68 is 1079.91 and mean squared error is 1079.91.\n",
      "625/625 [==============================] - 12s 20ms/step - loss: 1079.9121 - mean_squared_error: 1079.9121 - val_loss: 500.0765 - val_mean_squared_error: 500.0765\n",
      "Epoch 70/200\n",
      "625/625 [==============================] - ETA: 0s - loss: 1079.9320 - mean_squared_error: 1079.9320The average loss for epoch 69 is 1079.93 and mean squared error is 1079.93.\n",
      "625/625 [==============================] - 12s 19ms/step - loss: 1079.9320 - mean_squared_error: 1079.9320 - val_loss: 485.4420 - val_mean_squared_error: 485.4420\n",
      "Epoch 71/200\n",
      "623/625 [============================>.] - ETA: 0s - loss: 1081.1368 - mean_squared_error: 1081.1368The average loss for epoch 70 is 1081.13 and mean squared error is 1081.13.\n",
      "625/625 [==============================] - 12s 19ms/step - loss: 1081.1266 - mean_squared_error: 1081.1266 - val_loss: 436.1981 - val_mean_squared_error: 436.1981\n",
      "Epoch 72/200\n",
      "623/625 [============================>.] - ETA: 0s - loss: 1086.5341 - mean_squared_error: 1086.5341The average loss for epoch 71 is 1086.93 and mean squared error is 1086.93.\n",
      "625/625 [==============================] - 12s 20ms/step - loss: 1086.9348 - mean_squared_error: 1086.9348 - val_loss: 469.1045 - val_mean_squared_error: 469.1045\n",
      "Epoch 73/200\n",
      "623/625 [============================>.] - ETA: 0s - loss: 1083.2527 - mean_squared_error: 1083.2527The average loss for epoch 72 is 1083.75 and mean squared error is 1083.75.\n",
      "625/625 [==============================] - 12s 19ms/step - loss: 1083.7477 - mean_squared_error: 1083.7477 - val_loss: 419.6991 - val_mean_squared_error: 419.6991\n",
      "Epoch 74/200\n",
      "624/625 [============================>.] - ETA: 0s - loss: 1069.8870 - mean_squared_error: 1069.8870The average loss for epoch 73 is 1069.98 and mean squared error is 1069.98.\n",
      "625/625 [==============================] - 12s 19ms/step - loss: 1069.9771 - mean_squared_error: 1069.9771 - val_loss: 446.2439 - val_mean_squared_error: 446.2439\n",
      "Epoch 75/200\n",
      "624/625 [============================>.] - ETA: 0s - loss: 1066.4553 - mean_squared_error: 1066.4553The average loss for epoch 74 is 1065.93 and mean squared error is 1065.93.\n",
      "625/625 [==============================] - 12s 19ms/step - loss: 1065.9258 - mean_squared_error: 1065.9258 - val_loss: 447.2053 - val_mean_squared_error: 447.2053\n",
      "Epoch 76/200\n",
      "625/625 [==============================] - ETA: 0s - loss: 1071.7239 - mean_squared_error: 1071.7239The average loss for epoch 75 is 1071.72 and mean squared error is 1071.72.\n",
      "625/625 [==============================] - 12s 19ms/step - loss: 1071.7239 - mean_squared_error: 1071.7239 - val_loss: 435.5553 - val_mean_squared_error: 435.5553\n",
      "Epoch 77/200\n",
      "624/625 [============================>.] - ETA: 0s - loss: 1068.6984 - mean_squared_error: 1068.6984The average loss for epoch 76 is 1068.59 and mean squared error is 1068.59.\n",
      "625/625 [==============================] - 12s 20ms/step - loss: 1068.5881 - mean_squared_error: 1068.5881 - val_loss: 487.8178 - val_mean_squared_error: 487.8178\n",
      "Epoch 78/200\n",
      "624/625 [============================>.] - ETA: 0s - loss: 1074.4440 - mean_squared_error: 1074.4440The average loss for epoch 77 is 1074.21 and mean squared error is 1074.21.\n",
      "625/625 [==============================] - 12s 20ms/step - loss: 1074.2130 - mean_squared_error: 1074.2130 - val_loss: 471.5258 - val_mean_squared_error: 471.5258\n",
      "Epoch 79/200\n",
      "624/625 [============================>.] - ETA: 0s - loss: 1073.9490 - mean_squared_error: 1073.9490The average loss for epoch 78 is 1073.90 and mean squared error is 1073.90.\n",
      "625/625 [==============================] - 12s 19ms/step - loss: 1073.8973 - mean_squared_error: 1073.8973 - val_loss: 459.3473 - val_mean_squared_error: 459.3473\n",
      "Epoch 80/200\n",
      "624/625 [============================>.] - ETA: 0s - loss: 1074.6448 - mean_squared_error: 1074.6448The average loss for epoch 79 is 1074.59 and mean squared error is 1074.59.\n",
      "625/625 [==============================] - 12s 19ms/step - loss: 1074.5874 - mean_squared_error: 1074.5874 - val_loss: 459.6324 - val_mean_squared_error: 459.6324\n",
      "Epoch 81/200\n",
      "625/625 [==============================] - ETA: 0s - loss: 1056.2219 - mean_squared_error: 1056.2219The average loss for epoch 80 is 1056.22 and mean squared error is 1056.22.\n",
      "625/625 [==============================] - 12s 20ms/step - loss: 1056.2219 - mean_squared_error: 1056.2219 - val_loss: 401.8188 - val_mean_squared_error: 401.8188\n",
      "Epoch 82/200\n",
      "623/625 [============================>.] - ETA: 0s - loss: 1066.8322 - mean_squared_error: 1066.8322The average loss for epoch 81 is 1066.52 and mean squared error is 1066.52.\n",
      "625/625 [==============================] - 12s 19ms/step - loss: 1066.5199 - mean_squared_error: 1066.5199 - val_loss: 483.6660 - val_mean_squared_error: 483.6660\n",
      "Epoch 83/200\n",
      "625/625 [==============================] - ETA: 0s - loss: 1067.8202 - mean_squared_error: 1067.8202The average loss for epoch 82 is 1067.82 and mean squared error is 1067.82.\n",
      "625/625 [==============================] - 12s 19ms/step - loss: 1067.8202 - mean_squared_error: 1067.8202 - val_loss: 436.5750 - val_mean_squared_error: 436.5750\n",
      "Epoch 84/200\n",
      "624/625 [============================>.] - ETA: 0s - loss: 1069.6572 - mean_squared_error: 1069.6572The average loss for epoch 83 is 1069.31 and mean squared error is 1069.31.\n",
      "625/625 [==============================] - 12s 19ms/step - loss: 1069.3138 - mean_squared_error: 1069.3138 - val_loss: 415.5889 - val_mean_squared_error: 415.5889\n",
      "Epoch 85/200\n",
      "624/625 [============================>.] - ETA: 0s - loss: 1069.1261 - mean_squared_error: 1069.1261The average loss for epoch 84 is 1068.79 and mean squared error is 1068.79.\n",
      "625/625 [==============================] - 12s 19ms/step - loss: 1068.7941 - mean_squared_error: 1068.7941 - val_loss: 411.0799 - val_mean_squared_error: 411.0799\n",
      "Epoch 86/200\n",
      "624/625 [============================>.] - ETA: 0s - loss: 1073.4717 - mean_squared_error: 1073.4717The average loss for epoch 85 is 1073.44 and mean squared error is 1073.44.\n",
      "625/625 [==============================] - 12s 20ms/step - loss: 1073.4391 - mean_squared_error: 1073.4391 - val_loss: 492.9054 - val_mean_squared_error: 492.9054\n",
      "Epoch 87/200\n",
      "623/625 [============================>.] - ETA: 0s - loss: 1062.3955 - mean_squared_error: 1062.3955The average loss for epoch 86 is 1062.01 and mean squared error is 1062.01.\n",
      "625/625 [==============================] - 12s 19ms/step - loss: 1062.0128 - mean_squared_error: 1062.0128 - val_loss: 459.7027 - val_mean_squared_error: 459.7027\n",
      "Epoch 88/200\n",
      "625/625 [==============================] - ETA: 0s - loss: 1064.1071 - mean_squared_error: 1064.1071The average loss for epoch 87 is 1064.11 and mean squared error is 1064.11.\n",
      "625/625 [==============================] - 12s 20ms/step - loss: 1064.1071 - mean_squared_error: 1064.1071 - val_loss: 420.1011 - val_mean_squared_error: 420.1011\n",
      "Epoch 89/200\n",
      "624/625 [============================>.] - ETA: 0s - loss: 1063.8960 - mean_squared_error: 1063.8960The average loss for epoch 88 is 1063.56 and mean squared error is 1063.56.\n",
      "625/625 [==============================] - 13s 20ms/step - loss: 1063.5593 - mean_squared_error: 1063.5593 - val_loss: 474.1943 - val_mean_squared_error: 474.1943\n",
      "Epoch 90/200\n",
      "623/625 [============================>.] - ETA: 0s - loss: 1072.9785 - mean_squared_error: 1072.9785The average loss for epoch 89 is 1073.15 and mean squared error is 1073.15.\n",
      "625/625 [==============================] - 13s 20ms/step - loss: 1073.1519 - mean_squared_error: 1073.1519 - val_loss: 492.0334 - val_mean_squared_error: 492.0334\n",
      "Epoch 91/200\n",
      "624/625 [============================>.] - ETA: 0s - loss: 1062.7648 - mean_squared_error: 1062.7648The average loss for epoch 90 is 1063.11 and mean squared error is 1063.11.\n",
      "625/625 [==============================] - 13s 20ms/step - loss: 1063.1106 - mean_squared_error: 1063.1106 - val_loss: 473.6143 - val_mean_squared_error: 473.6143\n",
      "Epoch 92/200\n",
      "623/625 [============================>.] - ETA: 0s - loss: 1052.2383 - mean_squared_error: 1052.2383The average loss for epoch 91 is 1052.09 and mean squared error is 1052.09.\n",
      "625/625 [==============================] - 12s 20ms/step - loss: 1052.0867 - mean_squared_error: 1052.0867 - val_loss: 443.5149 - val_mean_squared_error: 443.5149\n",
      "Epoch 93/200\n",
      "622/625 [============================>.] - ETA: 0s - loss: 1060.6890 - mean_squared_error: 1060.6890The average loss for epoch 92 is 1059.75 and mean squared error is 1059.75.\n",
      "625/625 [==============================] - 12s 20ms/step - loss: 1059.7465 - mean_squared_error: 1059.7465 - val_loss: 466.6541 - val_mean_squared_error: 466.6541\n",
      "Epoch 94/200\n",
      "622/625 [============================>.] - ETA: 0s - loss: 1048.5696 - mean_squared_error: 1048.5696The average loss for epoch 93 is 1048.91 and mean squared error is 1048.91.\n",
      "625/625 [==============================] - 12s 20ms/step - loss: 1048.9104 - mean_squared_error: 1048.9104 - val_loss: 406.1638 - val_mean_squared_error: 406.1638\n",
      "Epoch 95/200\n",
      "625/625 [==============================] - ETA: 0s - loss: 1062.4222 - mean_squared_error: 1062.4222The average loss for epoch 94 is 1062.42 and mean squared error is 1062.42.\n",
      "625/625 [==============================] - 12s 19ms/step - loss: 1062.4222 - mean_squared_error: 1062.4222 - val_loss: 450.5851 - val_mean_squared_error: 450.5851\n",
      "Epoch 96/200\n",
      "623/625 [============================>.] - ETA: 0s - loss: 1058.2115 - mean_squared_error: 1058.2115The average loss for epoch 95 is 1057.94 and mean squared error is 1057.94.\n",
      "625/625 [==============================] - 13s 20ms/step - loss: 1057.9431 - mean_squared_error: 1057.9431 - val_loss: 448.4553 - val_mean_squared_error: 448.4553\n",
      "Epoch 97/200\n",
      "625/625 [==============================] - ETA: 0s - loss: 1054.0596 - mean_squared_error: 1054.0596The average loss for epoch 96 is 1054.06 and mean squared error is 1054.06.\n",
      "625/625 [==============================] - 12s 19ms/step - loss: 1054.0596 - mean_squared_error: 1054.0596 - val_loss: 479.6288 - val_mean_squared_error: 479.6288\n",
      "Epoch 98/200\n",
      "622/625 [============================>.] - ETA: 0s - loss: 1056.5841 - mean_squared_error: 1056.5841The average loss for epoch 97 is 1056.34 and mean squared error is 1056.34.\n",
      "625/625 [==============================] - 12s 20ms/step - loss: 1056.3378 - mean_squared_error: 1056.3378 - val_loss: 421.6492 - val_mean_squared_error: 421.6492\n",
      "Epoch 99/200\n",
      "625/625 [==============================] - ETA: 0s - loss: 1061.3997 - mean_squared_error: 1061.3997The average loss for epoch 98 is 1061.40 and mean squared error is 1061.40.\n",
      "625/625 [==============================] - 12s 19ms/step - loss: 1061.3997 - mean_squared_error: 1061.3997 - val_loss: 394.9500 - val_mean_squared_error: 394.9500\n",
      "Epoch 100/200\n",
      "624/625 [============================>.] - ETA: 0s - loss: 1048.8190 - mean_squared_error: 1048.8190The average loss for epoch 99 is 1048.66 and mean squared error is 1048.66.\n",
      "625/625 [==============================] - 12s 20ms/step - loss: 1048.6633 - mean_squared_error: 1048.6633 - val_loss: 441.2112 - val_mean_squared_error: 441.2112\n",
      "Epoch 101/200\n",
      "624/625 [============================>.] - ETA: 0s - loss: 1060.0024 - mean_squared_error: 1060.0024The average loss for epoch 100 is 1060.30 and mean squared error is 1060.30.\n",
      "625/625 [==============================] - 13s 20ms/step - loss: 1060.3038 - mean_squared_error: 1060.3038 - val_loss: 423.9346 - val_mean_squared_error: 423.9346\n",
      "Epoch 102/200\n",
      "624/625 [============================>.] - ETA: 0s - loss: 1065.9688 - mean_squared_error: 1065.9688The average loss for epoch 101 is 1065.74 and mean squared error is 1065.74.\n",
      "625/625 [==============================] - 12s 20ms/step - loss: 1065.7428 - mean_squared_error: 1065.7428 - val_loss: 423.3047 - val_mean_squared_error: 423.3047\n",
      "Epoch 103/200\n",
      "624/625 [============================>.] - ETA: 0s - loss: 1045.4333 - mean_squared_error: 1045.4333The average loss for epoch 102 is 1045.42 and mean squared error is 1045.42.\n",
      "625/625 [==============================] - 12s 20ms/step - loss: 1045.4213 - mean_squared_error: 1045.4213 - val_loss: 462.2319 - val_mean_squared_error: 462.2319\n",
      "Epoch 104/200\n",
      "625/625 [==============================] - ETA: 0s - loss: 1040.5769 - mean_squared_error: 1040.5769The average loss for epoch 103 is 1040.58 and mean squared error is 1040.58.\n",
      "625/625 [==============================] - 13s 20ms/step - loss: 1040.5769 - mean_squared_error: 1040.5769 - val_loss: 427.3821 - val_mean_squared_error: 427.3821\n",
      "Epoch 105/200\n",
      "623/625 [============================>.] - ETA: 0s - loss: 1057.7485 - mean_squared_error: 1057.7485The average loss for epoch 104 is 1057.21 and mean squared error is 1057.21.\n",
      "625/625 [==============================] - 12s 20ms/step - loss: 1057.2130 - mean_squared_error: 1057.2130 - val_loss: 461.9853 - val_mean_squared_error: 461.9853\n",
      "Epoch 106/200\n",
      "625/625 [==============================] - ETA: 0s - loss: 1060.7343 - mean_squared_error: 1060.7343The average loss for epoch 105 is 1060.73 and mean squared error is 1060.73.\n",
      "625/625 [==============================] - 12s 20ms/step - loss: 1060.7343 - mean_squared_error: 1060.7343 - val_loss: 418.7894 - val_mean_squared_error: 418.7894\n",
      "Epoch 107/200\n",
      "625/625 [==============================] - ETA: 0s - loss: 1050.8945 - mean_squared_error: 1050.8945The average loss for epoch 106 is 1050.89 and mean squared error is 1050.89.\n",
      "625/625 [==============================] - 13s 20ms/step - loss: 1050.8945 - mean_squared_error: 1050.8945 - val_loss: 435.1335 - val_mean_squared_error: 435.1335\n",
      "Epoch 108/200\n",
      "623/625 [============================>.] - ETA: 0s - loss: 1033.2993 - mean_squared_error: 1033.2993The average loss for epoch 107 is 1033.44 and mean squared error is 1033.44.\n",
      "625/625 [==============================] - 13s 21ms/step - loss: 1033.4415 - mean_squared_error: 1033.4415 - val_loss: 423.5024 - val_mean_squared_error: 423.5024\n",
      "Epoch 109/200\n",
      "625/625 [==============================] - ETA: 0s - loss: 1035.6636 - mean_squared_error: 1035.6636The average loss for epoch 108 is 1035.66 and mean squared error is 1035.66.\n",
      "625/625 [==============================] - 13s 21ms/step - loss: 1035.6636 - mean_squared_error: 1035.6636 - val_loss: 421.4902 - val_mean_squared_error: 421.4902\n",
      "Epoch 110/200\n",
      "622/625 [============================>.] - ETA: 0s - loss: 1038.6633 - mean_squared_error: 1038.6633The average loss for epoch 109 is 1039.31 and mean squared error is 1039.31.\n",
      "625/625 [==============================] - 13s 21ms/step - loss: 1039.3114 - mean_squared_error: 1039.3114 - val_loss: 449.4300 - val_mean_squared_error: 449.4300\n",
      "Epoch 111/200\n",
      "623/625 [============================>.] - ETA: 0s - loss: 1033.7227 - mean_squared_error: 1033.7227The average loss for epoch 110 is 1033.62 and mean squared error is 1033.62.\n",
      "625/625 [==============================] - 13s 20ms/step - loss: 1033.6207 - mean_squared_error: 1033.6207 - val_loss: 437.2240 - val_mean_squared_error: 437.2240\n",
      "Epoch 112/200\n",
      "625/625 [==============================] - ETA: 0s - loss: 1026.0934 - mean_squared_error: 1026.0934The average loss for epoch 111 is 1026.09 and mean squared error is 1026.09.\n",
      "625/625 [==============================] - 13s 20ms/step - loss: 1026.0934 - mean_squared_error: 1026.0934 - val_loss: 448.2165 - val_mean_squared_error: 448.2165\n",
      "Epoch 113/200\n",
      "624/625 [============================>.] - ETA: 0s - loss: 1036.8331 - mean_squared_error: 1036.8331The average loss for epoch 112 is 1036.79 and mean squared error is 1036.79.\n",
      "625/625 [==============================] - 13s 20ms/step - loss: 1036.7915 - mean_squared_error: 1036.7915 - val_loss: 453.1244 - val_mean_squared_error: 453.1244\n",
      "Epoch 114/200\n",
      "625/625 [==============================] - ETA: 0s - loss: 1028.7705 - mean_squared_error: 1028.7705The average loss for epoch 113 is 1028.77 and mean squared error is 1028.77.\n",
      "625/625 [==============================] - 13s 21ms/step - loss: 1028.7705 - mean_squared_error: 1028.7705 - val_loss: 461.9607 - val_mean_squared_error: 461.9607\n",
      "Epoch 115/200\n",
      "624/625 [============================>.] - ETA: 0s - loss: 1035.2952 - mean_squared_error: 1035.2952The average loss for epoch 114 is 1035.22 and mean squared error is 1035.22.\n",
      "625/625 [==============================] - 13s 20ms/step - loss: 1035.2192 - mean_squared_error: 1035.2192 - val_loss: 431.0703 - val_mean_squared_error: 431.0703\n",
      "Epoch 116/200\n",
      "623/625 [============================>.] - ETA: 0s - loss: 1043.5588 - mean_squared_error: 1043.5588The average loss for epoch 115 is 1044.21 and mean squared error is 1044.21.\n",
      "625/625 [==============================] - 13s 21ms/step - loss: 1044.2120 - mean_squared_error: 1044.2120 - val_loss: 475.6158 - val_mean_squared_error: 475.6158\n",
      "Epoch 117/200\n",
      "625/625 [==============================] - ETA: 0s - loss: 1031.9216 - mean_squared_error: 1031.9216The average loss for epoch 116 is 1031.92 and mean squared error is 1031.92.\n",
      "625/625 [==============================] - 14s 22ms/step - loss: 1031.9216 - mean_squared_error: 1031.9216 - val_loss: 396.8772 - val_mean_squared_error: 396.8772\n",
      "Epoch 118/200\n",
      "623/625 [============================>.] - ETA: 0s - loss: 1033.8514 - mean_squared_error: 1033.8514The average loss for epoch 117 is 1034.26 and mean squared error is 1034.26.\n",
      "625/625 [==============================] - 13s 21ms/step - loss: 1034.2627 - mean_squared_error: 1034.2627 - val_loss: 485.6935 - val_mean_squared_error: 485.6935\n",
      "Epoch 119/200\n",
      "625/625 [==============================] - ETA: 0s - loss: 1037.8350 - mean_squared_error: 1037.8350The average loss for epoch 118 is 1037.83 and mean squared error is 1037.83.\n",
      "625/625 [==============================] - 13s 21ms/step - loss: 1037.8350 - mean_squared_error: 1037.8350 - val_loss: 476.4315 - val_mean_squared_error: 476.4315\n",
      "Epoch 120/200\n",
      "624/625 [============================>.] - ETA: 0s - loss: 1032.5592 - mean_squared_error: 1032.5592The average loss for epoch 119 is 1032.17 and mean squared error is 1032.17.\n",
      "625/625 [==============================] - 13s 21ms/step - loss: 1032.1703 - mean_squared_error: 1032.1703 - val_loss: 413.8086 - val_mean_squared_error: 413.8086\n",
      "Epoch 121/200\n",
      "624/625 [============================>.] - ETA: 0s - loss: 1033.1023 - mean_squared_error: 1033.1023The average loss for epoch 120 is 1033.33 and mean squared error is 1033.33.\n",
      "625/625 [==============================] - 13s 21ms/step - loss: 1033.3345 - mean_squared_error: 1033.3345 - val_loss: 427.7153 - val_mean_squared_error: 427.7153\n",
      "Epoch 122/200\n",
      "623/625 [============================>.] - ETA: 0s - loss: 1024.9198 - mean_squared_error: 1024.9198The average loss for epoch 121 is 1024.95 and mean squared error is 1024.95.\n",
      "625/625 [==============================] - 13s 21ms/step - loss: 1024.9482 - mean_squared_error: 1024.9482 - val_loss: 500.5831 - val_mean_squared_error: 500.5831\n",
      "Epoch 123/200\n",
      "625/625 [==============================] - ETA: 0s - loss: 1007.2525 - mean_squared_error: 1007.2525The average loss for epoch 122 is 1007.25 and mean squared error is 1007.25.\n",
      "625/625 [==============================] - 13s 20ms/step - loss: 1007.2525 - mean_squared_error: 1007.2525 - val_loss: 441.9385 - val_mean_squared_error: 441.9385\n",
      "Epoch 124/200\n",
      "625/625 [==============================] - ETA: 0s - loss: 1025.6150 - mean_squared_error: 1025.6150The average loss for epoch 123 is 1025.61 and mean squared error is 1025.61.\n",
      "625/625 [==============================] - 13s 21ms/step - loss: 1025.6150 - mean_squared_error: 1025.6150 - val_loss: 460.8194 - val_mean_squared_error: 460.8194\n",
      "Epoch 125/200\n",
      "624/625 [============================>.] - ETA: 0s - loss: 1028.5240 - mean_squared_error: 1028.5240The average loss for epoch 124 is 1028.45 and mean squared error is 1028.45.\n",
      "625/625 [==============================] - 13s 20ms/step - loss: 1028.4529 - mean_squared_error: 1028.4529 - val_loss: 494.5892 - val_mean_squared_error: 494.5892\n",
      "Epoch 126/200\n",
      "625/625 [==============================] - ETA: 0s - loss: 1010.2291 - mean_squared_error: 1010.2291The average loss for epoch 125 is 1010.23 and mean squared error is 1010.23.\n",
      "625/625 [==============================] - 13s 21ms/step - loss: 1010.2291 - mean_squared_error: 1010.2291 - val_loss: 469.0590 - val_mean_squared_error: 469.0590\n",
      "Epoch 127/200\n",
      "623/625 [============================>.] - ETA: 0s - loss: 1024.3031 - mean_squared_error: 1024.3031The average loss for epoch 126 is 1024.73 and mean squared error is 1024.73.\n",
      "625/625 [==============================] - 12s 20ms/step - loss: 1024.7333 - mean_squared_error: 1024.7333 - val_loss: 465.7584 - val_mean_squared_error: 465.7584\n",
      "Epoch 128/200\n",
      "622/625 [============================>.] - ETA: 0s - loss: 1018.6000 - mean_squared_error: 1018.6000The average loss for epoch 127 is 1019.54 and mean squared error is 1019.54.\n",
      "625/625 [==============================] - 13s 20ms/step - loss: 1019.5394 - mean_squared_error: 1019.5394 - val_loss: 423.5437 - val_mean_squared_error: 423.5437\n",
      "Epoch 129/200\n",
      "623/625 [============================>.] - ETA: 0s - loss: 1013.8278 - mean_squared_error: 1013.8278The average loss for epoch 128 is 1013.64 and mean squared error is 1013.64.\n",
      "625/625 [==============================] - 12s 20ms/step - loss: 1013.6428 - mean_squared_error: 1013.6428 - val_loss: 438.2831 - val_mean_squared_error: 438.2831\n",
      "Epoch 130/200\n",
      "624/625 [============================>.] - ETA: 0s - loss: 1018.7363 - mean_squared_error: 1018.7363The average loss for epoch 129 is 1018.77 and mean squared error is 1018.77.\n",
      "625/625 [==============================] - 12s 20ms/step - loss: 1018.7704 - mean_squared_error: 1018.7704 - val_loss: 473.3564 - val_mean_squared_error: 473.3564\n",
      "Epoch 131/200\n",
      "624/625 [============================>.] - ETA: 0s - loss: 1005.4930 - mean_squared_error: 1005.4930The average loss for epoch 130 is 1005.57 and mean squared error is 1005.57.\n",
      "625/625 [==============================] - 13s 21ms/step - loss: 1005.5710 - mean_squared_error: 1005.5710 - val_loss: 508.5082 - val_mean_squared_error: 508.5082\n",
      "Epoch 132/200\n",
      "625/625 [==============================] - ETA: 0s - loss: 1013.7509 - mean_squared_error: 1013.7509The average loss for epoch 131 is 1013.75 and mean squared error is 1013.75.\n",
      "625/625 [==============================] - 13s 21ms/step - loss: 1013.7509 - mean_squared_error: 1013.7509 - val_loss: 455.8043 - val_mean_squared_error: 455.8043\n",
      "Epoch 133/200\n",
      "623/625 [============================>.] - ETA: 0s - loss: 1011.5315 - mean_squared_error: 1011.5315The average loss for epoch 132 is 1011.21 and mean squared error is 1011.21.\n",
      "625/625 [==============================] - 13s 21ms/step - loss: 1011.2079 - mean_squared_error: 1011.2079 - val_loss: 446.5095 - val_mean_squared_error: 446.5095\n",
      "Epoch 134/200\n",
      "625/625 [==============================] - ETA: 0s - loss: 1014.9748 - mean_squared_error: 1014.9748The average loss for epoch 133 is 1014.97 and mean squared error is 1014.97.\n",
      "625/625 [==============================] - 12s 20ms/step - loss: 1014.9748 - mean_squared_error: 1014.9748 - val_loss: 417.0616 - val_mean_squared_error: 417.0616\n",
      "Epoch 135/200\n",
      "624/625 [============================>.] - ETA: 0s - loss: 1012.5259 - mean_squared_error: 1012.5259The average loss for epoch 134 is 1012.73 and mean squared error is 1012.73.\n",
      "625/625 [==============================] - 13s 20ms/step - loss: 1012.7269 - mean_squared_error: 1012.7269 - val_loss: 452.8304 - val_mean_squared_error: 452.8304\n",
      "Epoch 136/200\n",
      "625/625 [==============================] - ETA: 0s - loss: 1008.6734 - mean_squared_error: 1008.6734The average loss for epoch 135 is 1008.67 and mean squared error is 1008.67.\n",
      "625/625 [==============================] - 13s 20ms/step - loss: 1008.6734 - mean_squared_error: 1008.6734 - val_loss: 444.1415 - val_mean_squared_error: 444.1415\n",
      "Epoch 137/200\n",
      "624/625 [============================>.] - ETA: 0s - loss: 1015.9605 - mean_squared_error: 1015.9605The average loss for epoch 136 is 1015.91 and mean squared error is 1015.91.\n",
      "625/625 [==============================] - 13s 21ms/step - loss: 1015.9129 - mean_squared_error: 1015.9129 - val_loss: 436.7792 - val_mean_squared_error: 436.7792\n",
      "Epoch 138/200\n",
      "625/625 [==============================] - ETA: 0s - loss: 1019.0477 - mean_squared_error: 1019.0477The average loss for epoch 137 is 1019.05 and mean squared error is 1019.05.\n",
      "625/625 [==============================] - 13s 21ms/step - loss: 1019.0477 - mean_squared_error: 1019.0477 - val_loss: 435.9210 - val_mean_squared_error: 435.9210\n",
      "Epoch 139/200\n",
      "625/625 [==============================] - ETA: 0s - loss: 1010.0532 - mean_squared_error: 1010.0532The average loss for epoch 138 is 1010.05 and mean squared error is 1010.05.\n",
      "625/625 [==============================] - 13s 21ms/step - loss: 1010.0532 - mean_squared_error: 1010.0532 - val_loss: 401.5925 - val_mean_squared_error: 401.5925\n",
      "Epoch 140/200\n",
      "624/625 [============================>.] - ETA: 0s - loss: 1004.8336 - mean_squared_error: 1004.8336The average loss for epoch 139 is 1005.08 and mean squared error is 1005.08.\n",
      "625/625 [==============================] - 13s 21ms/step - loss: 1005.0833 - mean_squared_error: 1005.0833 - val_loss: 424.0677 - val_mean_squared_error: 424.0677\n",
      "Epoch 141/200\n",
      "625/625 [==============================] - ETA: 0s - loss: 1013.5278 - mean_squared_error: 1013.5278The average loss for epoch 140 is 1013.53 and mean squared error is 1013.53.\n",
      "625/625 [==============================] - 13s 20ms/step - loss: 1013.5278 - mean_squared_error: 1013.5278 - val_loss: 437.9785 - val_mean_squared_error: 437.9785\n",
      "Epoch 142/200\n",
      "624/625 [============================>.] - ETA: 0s - loss: 1012.8603 - mean_squared_error: 1012.8603The average loss for epoch 141 is 1012.94 and mean squared error is 1012.94.\n",
      "625/625 [==============================] - 13s 21ms/step - loss: 1012.9355 - mean_squared_error: 1012.9355 - val_loss: 473.7067 - val_mean_squared_error: 473.7067\n",
      "Epoch 143/200\n",
      "625/625 [==============================] - ETA: 0s - loss: 1010.9937 - mean_squared_error: 1010.9937The average loss for epoch 142 is 1010.99 and mean squared error is 1010.99.\n",
      "625/625 [==============================] - 13s 21ms/step - loss: 1010.9937 - mean_squared_error: 1010.9937 - val_loss: 473.9794 - val_mean_squared_error: 473.9794\n",
      "Epoch 144/200\n",
      "623/625 [============================>.] - ETA: 0s - loss: 1002.2904 - mean_squared_error: 1002.2904The average loss for epoch 143 is 1002.44 and mean squared error is 1002.44.\n",
      "625/625 [==============================] - 13s 21ms/step - loss: 1002.4417 - mean_squared_error: 1002.4417 - val_loss: 435.0102 - val_mean_squared_error: 435.0102\n",
      "Epoch 145/200\n",
      "625/625 [==============================] - ETA: 0s - loss: 1022.3007 - mean_squared_error: 1022.3007The average loss for epoch 144 is 1022.30 and mean squared error is 1022.30.\n",
      "625/625 [==============================] - 13s 21ms/step - loss: 1022.3007 - mean_squared_error: 1022.3007 - val_loss: 448.9269 - val_mean_squared_error: 448.9269\n",
      "Epoch 146/200\n",
      "623/625 [============================>.] - ETA: 0s - loss: 1004.7877 - mean_squared_error: 1004.7877The average loss for epoch 145 is 1005.00 and mean squared error is 1005.00.\n",
      "625/625 [==============================] - 13s 20ms/step - loss: 1004.9959 - mean_squared_error: 1004.9959 - val_loss: 427.8434 - val_mean_squared_error: 427.8434\n",
      "Epoch 147/200\n",
      "624/625 [============================>.] - ETA: 0s - loss: 1007.8316 - mean_squared_error: 1007.8316The average loss for epoch 146 is 1008.02 and mean squared error is 1008.02.\n",
      "625/625 [==============================] - 13s 21ms/step - loss: 1008.0226 - mean_squared_error: 1008.0226 - val_loss: 459.5167 - val_mean_squared_error: 459.5167\n",
      "Epoch 148/200\n",
      "625/625 [==============================] - ETA: 0s - loss: 1003.5977 - mean_squared_error: 1003.5977The average loss for epoch 147 is 1003.60 and mean squared error is 1003.60.\n",
      "625/625 [==============================] - 13s 20ms/step - loss: 1003.5977 - mean_squared_error: 1003.5977 - val_loss: 415.4333 - val_mean_squared_error: 415.4333\n",
      "Epoch 149/200\n",
      "624/625 [============================>.] - ETA: 0s - loss: 1004.8040 - mean_squared_error: 1004.8040The average loss for epoch 148 is 1005.18 and mean squared error is 1005.18.\n",
      "625/625 [==============================] - 13s 20ms/step - loss: 1005.1786 - mean_squared_error: 1005.1786 - val_loss: 443.5476 - val_mean_squared_error: 443.5476\n",
      "Epoch 150/200\n",
      "623/625 [============================>.] - ETA: 0s - loss: 998.0417 - mean_squared_error: 998.0417The average loss for epoch 149 is  998.17 and mean squared error is  998.17.\n",
      "625/625 [==============================] - 13s 21ms/step - loss: 998.1724 - mean_squared_error: 998.1724 - val_loss: 428.0660 - val_mean_squared_error: 428.0660\n",
      "Epoch 151/200\n",
      "622/625 [============================>.] - ETA: 0s - loss: 1004.4608 - mean_squared_error: 1004.4608The average loss for epoch 150 is 1004.47 and mean squared error is 1004.47.\n",
      "625/625 [==============================] - 13s 21ms/step - loss: 1004.4670 - mean_squared_error: 1004.4670 - val_loss: 430.7103 - val_mean_squared_error: 430.7103\n",
      "Epoch 152/200\n",
      "625/625 [==============================] - ETA: 0s - loss: 991.8707 - mean_squared_error: 991.8707The average loss for epoch 151 is  991.87 and mean squared error is  991.87.\n",
      "625/625 [==============================] - 14s 22ms/step - loss: 991.8707 - mean_squared_error: 991.8707 - val_loss: 439.8121 - val_mean_squared_error: 439.8121\n",
      "Epoch 153/200\n",
      "623/625 [============================>.] - ETA: 0s - loss: 1009.5247 - mean_squared_error: 1009.5247The average loss for epoch 152 is 1009.94 and mean squared error is 1009.94.\n",
      "625/625 [==============================] - 13s 21ms/step - loss: 1009.9443 - mean_squared_error: 1009.9443 - val_loss: 455.0447 - val_mean_squared_error: 455.0447\n",
      "Epoch 154/200\n",
      "624/625 [============================>.] - ETA: 0s - loss: 1000.9664 - mean_squared_error: 1000.9664The average loss for epoch 153 is 1001.38 and mean squared error is 1001.38.\n",
      "625/625 [==============================] - 13s 21ms/step - loss: 1001.3772 - mean_squared_error: 1001.3772 - val_loss: 402.3107 - val_mean_squared_error: 402.3107\n",
      "Epoch 155/200\n",
      "624/625 [============================>.] - ETA: 0s - loss: 990.9736 - mean_squared_error: 990.9736The average loss for epoch 154 is  991.35 and mean squared error is  991.35.\n",
      "625/625 [==============================] - 13s 21ms/step - loss: 991.3501 - mean_squared_error: 991.3501 - val_loss: 423.5349 - val_mean_squared_error: 423.5349\n",
      "Epoch 156/200\n",
      "623/625 [============================>.] - ETA: 0s - loss: 1004.2375 - mean_squared_error: 1004.2375The average loss for epoch 155 is 1003.86 and mean squared error is 1003.86.\n",
      "625/625 [==============================] - 13s 21ms/step - loss: 1003.8555 - mean_squared_error: 1003.8555 - val_loss: 426.3117 - val_mean_squared_error: 426.3117\n",
      "Epoch 157/200\n",
      "625/625 [==============================] - ETA: 0s - loss: 1005.8204 - mean_squared_error: 1005.8204The average loss for epoch 156 is 1005.82 and mean squared error is 1005.82.\n",
      "625/625 [==============================] - 13s 21ms/step - loss: 1005.8204 - mean_squared_error: 1005.8204 - val_loss: 463.1978 - val_mean_squared_error: 463.1978\n",
      "Epoch 158/200\n",
      "625/625 [==============================] - ETA: 0s - loss: 1010.2433 - mean_squared_error: 1010.2433The average loss for epoch 157 is 1010.24 and mean squared error is 1010.24.\n",
      "625/625 [==============================] - 13s 21ms/step - loss: 1010.2433 - mean_squared_error: 1010.2433 - val_loss: 433.4801 - val_mean_squared_error: 433.4801\n",
      "Epoch 159/200\n",
      "623/625 [============================>.] - ETA: 0s - loss: 999.6746 - mean_squared_error: 999.6746The average loss for epoch 158 is  999.10 and mean squared error is  999.10.\n",
      "625/625 [==============================] - 14s 22ms/step - loss: 999.1015 - mean_squared_error: 999.1015 - val_loss: 446.5988 - val_mean_squared_error: 446.5988\n",
      "Epoch 160/200\n",
      "623/625 [============================>.] - ETA: 0s - loss: 1009.8157 - mean_squared_error: 1009.8157The average loss for epoch 159 is 1009.93 and mean squared error is 1009.93.\n",
      "625/625 [==============================] - 14s 22ms/step - loss: 1009.9288 - mean_squared_error: 1009.9288 - val_loss: 411.3414 - val_mean_squared_error: 411.3414\n",
      "Epoch 161/200\n",
      "625/625 [==============================] - ETA: 0s - loss: 993.6273 - mean_squared_error: 993.6273The average loss for epoch 160 is  993.63 and mean squared error is  993.63.\n",
      "625/625 [==============================] - 13s 21ms/step - loss: 993.6273 - mean_squared_error: 993.6273 - val_loss: 449.8948 - val_mean_squared_error: 449.8948\n",
      "Epoch 162/200\n",
      "625/625 [==============================] - ETA: 0s - loss: 1004.9913 - mean_squared_error: 1004.9913The average loss for epoch 161 is 1004.99 and mean squared error is 1004.99.\n",
      "625/625 [==============================] - 13s 21ms/step - loss: 1004.9913 - mean_squared_error: 1004.9913 - val_loss: 465.4532 - val_mean_squared_error: 465.4532\n",
      "Epoch 163/200\n",
      "624/625 [============================>.] - ETA: 0s - loss: 995.1680 - mean_squared_error: 995.1680The average loss for epoch 162 is  995.36 and mean squared error is  995.36.\n",
      "625/625 [==============================] - 13s 21ms/step - loss: 995.3552 - mean_squared_error: 995.3552 - val_loss: 437.4965 - val_mean_squared_error: 437.4965\n",
      "Epoch 164/200\n",
      "625/625 [==============================] - ETA: 0s - loss: 998.2334 - mean_squared_error: 998.2334The average loss for epoch 163 is  998.23 and mean squared error is  998.23.\n",
      "625/625 [==============================] - 13s 20ms/step - loss: 998.2334 - mean_squared_error: 998.2334 - val_loss: 457.6200 - val_mean_squared_error: 457.6200\n",
      "Epoch 165/200\n",
      "625/625 [==============================] - ETA: 0s - loss: 999.3898 - mean_squared_error: 999.3898The average loss for epoch 164 is  999.39 and mean squared error is  999.39.\n",
      "625/625 [==============================] - 13s 21ms/step - loss: 999.3898 - mean_squared_error: 999.3898 - val_loss: 448.9630 - val_mean_squared_error: 448.9630\n",
      "Epoch 166/200\n",
      "622/625 [============================>.] - ETA: 0s - loss: 1000.9075 - mean_squared_error: 1000.9075The average loss for epoch 165 is 1001.05 and mean squared error is 1001.05.\n",
      "625/625 [==============================] - 13s 20ms/step - loss: 1001.0461 - mean_squared_error: 1001.0461 - val_loss: 421.7335 - val_mean_squared_error: 421.7335\n",
      "Epoch 167/200\n",
      "624/625 [============================>.] - ETA: 0s - loss: 1004.7169 - mean_squared_error: 1004.7169The average loss for epoch 166 is 1004.74 and mean squared error is 1004.74.\n",
      "625/625 [==============================] - 13s 21ms/step - loss: 1004.7411 - mean_squared_error: 1004.7411 - val_loss: 450.7722 - val_mean_squared_error: 450.7722\n",
      "Epoch 168/200\n",
      "623/625 [============================>.] - ETA: 0s - loss: 995.5472 - mean_squared_error: 995.5472The average loss for epoch 167 is  995.20 and mean squared error is  995.20.\n",
      "625/625 [==============================] - 13s 20ms/step - loss: 995.1962 - mean_squared_error: 995.1962 - val_loss: 464.1097 - val_mean_squared_error: 464.1097\n",
      "Epoch 169/200\n",
      "623/625 [============================>.] - ETA: 0s - loss: 991.5246 - mean_squared_error: 991.5246The average loss for epoch 168 is  991.30 and mean squared error is  991.30.\n",
      "625/625 [==============================] - 13s 21ms/step - loss: 991.2986 - mean_squared_error: 991.2986 - val_loss: 439.0071 - val_mean_squared_error: 439.0071\n",
      "Epoch 170/200\n",
      "623/625 [============================>.] - ETA: 0s - loss: 988.8868 - mean_squared_error: 988.8868The average loss for epoch 169 is  989.66 and mean squared error is  989.66.\n",
      "625/625 [==============================] - 13s 21ms/step - loss: 989.6621 - mean_squared_error: 989.6621 - val_loss: 414.0876 - val_mean_squared_error: 414.0876\n",
      "Epoch 171/200\n",
      "624/625 [============================>.] - ETA: 0s - loss: 1000.2823 - mean_squared_error: 1000.2823The average loss for epoch 170 is 1000.78 and mean squared error is 1000.78.\n",
      "625/625 [==============================] - 13s 20ms/step - loss: 1000.7781 - mean_squared_error: 1000.7781 - val_loss: 455.0736 - val_mean_squared_error: 455.0736\n",
      "Epoch 172/200\n",
      "624/625 [============================>.] - ETA: 0s - loss: 993.4898 - mean_squared_error: 993.4898The average loss for epoch 171 is  993.08 and mean squared error is  993.08.\n",
      "625/625 [==============================] - 13s 21ms/step - loss: 993.0838 - mean_squared_error: 993.0838 - val_loss: 445.6913 - val_mean_squared_error: 445.6913\n",
      "Epoch 173/200\n",
      "625/625 [==============================] - ETA: 0s - loss: 996.0567 - mean_squared_error: 996.0567The average loss for epoch 172 is  996.06 and mean squared error is  996.06.\n",
      "625/625 [==============================] - 14s 22ms/step - loss: 996.0567 - mean_squared_error: 996.0567 - val_loss: 410.9908 - val_mean_squared_error: 410.9908\n",
      "Epoch 174/200\n",
      "625/625 [==============================] - ETA: 0s - loss: 1004.9142 - mean_squared_error: 1004.9142The average loss for epoch 173 is 1004.91 and mean squared error is 1004.91.\n",
      "625/625 [==============================] - 13s 21ms/step - loss: 1004.9142 - mean_squared_error: 1004.9142 - val_loss: 464.2827 - val_mean_squared_error: 464.2827\n",
      "Epoch 175/200\n",
      "625/625 [==============================] - ETA: 0s - loss: 1000.2776 - mean_squared_error: 1000.2776The average loss for epoch 174 is 1000.28 and mean squared error is 1000.28.\n",
      "625/625 [==============================] - 13s 22ms/step - loss: 1000.2776 - mean_squared_error: 1000.2776 - val_loss: 422.7509 - val_mean_squared_error: 422.7509\n",
      "Epoch 176/200\n",
      "624/625 [============================>.] - ETA: 0s - loss: 998.3981 - mean_squared_error: 998.3981The average loss for epoch 175 is  999.15 and mean squared error is  999.15.\n",
      "625/625 [==============================] - 13s 21ms/step - loss: 999.1473 - mean_squared_error: 999.1473 - val_loss: 427.7956 - val_mean_squared_error: 427.7956\n",
      "Epoch 177/200\n",
      "623/625 [============================>.] - ETA: 0s - loss: 998.8892 - mean_squared_error: 998.8892The average loss for epoch 176 is  998.20 and mean squared error is  998.20.\n",
      "625/625 [==============================] - 13s 20ms/step - loss: 998.1963 - mean_squared_error: 998.1963 - val_loss: 456.9807 - val_mean_squared_error: 456.9807\n",
      "Epoch 178/200\n",
      "624/625 [============================>.] - ETA: 0s - loss: 1005.3222 - mean_squared_error: 1005.3222The average loss for epoch 177 is 1005.56 and mean squared error is 1005.56.\n",
      "625/625 [==============================] - 13s 21ms/step - loss: 1005.5562 - mean_squared_error: 1005.5562 - val_loss: 427.7463 - val_mean_squared_error: 427.7463\n",
      "Epoch 179/200\n",
      "624/625 [============================>.] - ETA: 0s - loss: 1000.5457 - mean_squared_error: 1000.5457The average loss for epoch 178 is 1000.18 and mean squared error is 1000.18.\n",
      "625/625 [==============================] - 13s 21ms/step - loss: 1000.1758 - mean_squared_error: 1000.1758 - val_loss: 426.1945 - val_mean_squared_error: 426.1945\n",
      "Epoch 180/200\n",
      "625/625 [==============================] - ETA: 0s - loss: 992.3861 - mean_squared_error: 992.3861The average loss for epoch 179 is  992.39 and mean squared error is  992.39.\n",
      "625/625 [==============================] - 13s 21ms/step - loss: 992.3861 - mean_squared_error: 992.3861 - val_loss: 452.2223 - val_mean_squared_error: 452.2223\n",
      "Epoch 181/200\n",
      "625/625 [==============================] - ETA: 0s - loss: 1001.8177 - mean_squared_error: 1001.8177The average loss for epoch 180 is 1001.82 and mean squared error is 1001.82.\n",
      "625/625 [==============================] - 13s 21ms/step - loss: 1001.8177 - mean_squared_error: 1001.8177 - val_loss: 424.0358 - val_mean_squared_error: 424.0358\n",
      "Epoch 182/200\n",
      "625/625 [==============================] - ETA: 0s - loss: 980.8810 - mean_squared_error: 980.8810The average loss for epoch 181 is  980.88 and mean squared error is  980.88.\n",
      "625/625 [==============================] - 13s 22ms/step - loss: 980.8810 - mean_squared_error: 980.8810 - val_loss: 453.7945 - val_mean_squared_error: 453.7945\n",
      "Epoch 183/200\n",
      "623/625 [============================>.] - ETA: 0s - loss: 995.5271 - mean_squared_error: 995.5271The average loss for epoch 182 is  995.62 and mean squared error is  995.62.\n",
      "625/625 [==============================] - 14s 22ms/step - loss: 995.6221 - mean_squared_error: 995.6221 - val_loss: 461.5652 - val_mean_squared_error: 461.5652\n",
      "Epoch 184/200\n",
      "624/625 [============================>.] - ETA: 0s - loss: 1000.5706 - mean_squared_error: 1000.5706The average loss for epoch 183 is 1000.50 and mean squared error is 1000.50.\n",
      "625/625 [==============================] - 14s 22ms/step - loss: 1000.4990 - mean_squared_error: 1000.4990 - val_loss: 487.0027 - val_mean_squared_error: 487.0027\n",
      "Epoch 185/200\n",
      "624/625 [============================>.] - ETA: 0s - loss: 993.5515 - mean_squared_error: 993.5515The average loss for epoch 184 is  993.26 and mean squared error is  993.26.\n",
      "625/625 [==============================] - 13s 21ms/step - loss: 993.2556 - mean_squared_error: 993.2556 - val_loss: 491.2750 - val_mean_squared_error: 491.2750\n",
      "Epoch 186/200\n",
      "625/625 [==============================] - ETA: 0s - loss: 988.4284 - mean_squared_error: 988.4284The average loss for epoch 185 is  988.43 and mean squared error is  988.43.\n",
      "625/625 [==============================] - 13s 21ms/step - loss: 988.4284 - mean_squared_error: 988.4284 - val_loss: 459.8366 - val_mean_squared_error: 459.8366\n",
      "Epoch 187/200\n",
      "623/625 [============================>.] - ETA: 0s - loss: 995.8451 - mean_squared_error: 995.8451The average loss for epoch 186 is  995.59 and mean squared error is  995.59.\n",
      "625/625 [==============================] - 14s 22ms/step - loss: 995.5938 - mean_squared_error: 995.5938 - val_loss: 409.8743 - val_mean_squared_error: 409.8743\n",
      "Epoch 188/200\n",
      "624/625 [============================>.] - ETA: 0s - loss: 1006.2886 - mean_squared_error: 1006.2886The average loss for epoch 187 is 1006.29 and mean squared error is 1006.29.\n",
      "625/625 [==============================] - 14s 22ms/step - loss: 1006.2855 - mean_squared_error: 1006.2855 - val_loss: 468.2132 - val_mean_squared_error: 468.2132\n",
      "Epoch 189/200\n",
      "623/625 [============================>.] - ETA: 0s - loss: 994.1528 - mean_squared_error: 994.1528The average loss for epoch 188 is  994.22 and mean squared error is  994.22.\n",
      "625/625 [==============================] - 14s 22ms/step - loss: 994.2159 - mean_squared_error: 994.2159 - val_loss: 459.9302 - val_mean_squared_error: 459.9302\n",
      "Epoch 190/200\n",
      "625/625 [==============================] - ETA: 0s - loss: 991.5339 - mean_squared_error: 991.5339The average loss for epoch 189 is  991.53 and mean squared error is  991.53.\n",
      "625/625 [==============================] - 13s 21ms/step - loss: 991.5339 - mean_squared_error: 991.5339 - val_loss: 423.7901 - val_mean_squared_error: 423.7901\n",
      "Epoch 191/200\n",
      "623/625 [============================>.] - ETA: 0s - loss: 988.4644 - mean_squared_error: 988.4644The average loss for epoch 190 is  988.58 and mean squared error is  988.58.\n",
      "625/625 [==============================] - 14s 22ms/step - loss: 988.5768 - mean_squared_error: 988.5768 - val_loss: 415.2686 - val_mean_squared_error: 415.2686\n",
      "Epoch 192/200\n",
      "623/625 [============================>.] - ETA: 0s - loss: 990.5962 - mean_squared_error: 990.5962The average loss for epoch 191 is  990.38 and mean squared error is  990.38.\n",
      "625/625 [==============================] - 13s 21ms/step - loss: 990.3798 - mean_squared_error: 990.3798 - val_loss: 443.7314 - val_mean_squared_error: 443.7314\n",
      "Epoch 193/200\n",
      "624/625 [============================>.] - ETA: 0s - loss: 985.4590 - mean_squared_error: 985.4590The average loss for epoch 192 is  985.51 and mean squared error is  985.51.\n",
      "625/625 [==============================] - 13s 21ms/step - loss: 985.5095 - mean_squared_error: 985.5095 - val_loss: 446.3978 - val_mean_squared_error: 446.3978\n",
      "Epoch 194/200\n",
      "623/625 [============================>.] - ETA: 0s - loss: 991.0404 - mean_squared_error: 991.0404The average loss for epoch 193 is  991.65 and mean squared error is  991.65.\n",
      "625/625 [==============================] - 13s 21ms/step - loss: 991.6540 - mean_squared_error: 991.6540 - val_loss: 473.6690 - val_mean_squared_error: 473.6690\n",
      "Epoch 195/200\n",
      "623/625 [============================>.] - ETA: 0s - loss: 984.4850 - mean_squared_error: 984.4850The average loss for epoch 194 is  985.25 and mean squared error is  985.25.\n",
      "625/625 [==============================] - 13s 21ms/step - loss: 985.2491 - mean_squared_error: 985.2491 - val_loss: 455.4398 - val_mean_squared_error: 455.4398\n",
      "Epoch 196/200\n",
      "623/625 [============================>.] - ETA: 0s - loss: 999.2435 - mean_squared_error: 999.2435The average loss for epoch 195 is  999.28 and mean squared error is  999.28.\n",
      "625/625 [==============================] - 13s 22ms/step - loss: 999.2840 - mean_squared_error: 999.2840 - val_loss: 460.6120 - val_mean_squared_error: 460.6120\n",
      "Epoch 197/200\n",
      "625/625 [==============================] - ETA: 0s - loss: 984.6213 - mean_squared_error: 984.6213The average loss for epoch 196 is  984.62 and mean squared error is  984.62.\n",
      "625/625 [==============================] - 13s 22ms/step - loss: 984.6213 - mean_squared_error: 984.6213 - val_loss: 456.4197 - val_mean_squared_error: 456.4197\n",
      "Epoch 198/200\n",
      "624/625 [============================>.] - ETA: 0s - loss: 986.8275 - mean_squared_error: 986.8275The average loss for epoch 197 is  987.10 and mean squared error is  987.10.\n",
      "625/625 [==============================] - 13s 21ms/step - loss: 987.0974 - mean_squared_error: 987.0974 - val_loss: 423.8579 - val_mean_squared_error: 423.8579\n",
      "Epoch 199/200\n",
      "625/625 [==============================] - ETA: 0s - loss: 993.7505 - mean_squared_error: 993.7505The average loss for epoch 198 is  993.75 and mean squared error is  993.75.\n",
      "625/625 [==============================] - 13s 21ms/step - loss: 993.7505 - mean_squared_error: 993.7505 - val_loss: 467.1939 - val_mean_squared_error: 467.1939\n",
      "Epoch 200/200\n",
      "624/625 [============================>.] - ETA: 0s - loss: 990.0073 - mean_squared_error: 990.0073The average loss for epoch 199 is  989.74 and mean squared error is  989.74.\n",
      "625/625 [==============================] - 13s 21ms/step - loss: 989.7361 - mean_squared_error: 989.7361 - val_loss: 467.3943 - val_mean_squared_error: 467.3943\n",
      "157/157 [==============================] - 1s 8ms/step - loss: 467.3943 - mean_squared_error: 467.3943\n",
      "Start predicting; got log keys: []\n",
      "Stop predicting; got log keys: []\n"
     ]
    }
   ],
   "source": [
    "batch_size = 64\n",
    "epochs = 200\n",
    "\n",
    "model.compile(loss=keras.losses.MeanSquaredError(),\n",
    "              optimizer='adam',\n",
    "              metrics=['mean_squared_error'])\n",
    "\n",
    "history = model.fit(\n",
    "          X_train, y_train,\n",
    "          batch_size=batch_size,\n",
    "          epochs=epochs,\n",
    "          verbose=1,\n",
    "          validation_data=(X_test, y_test),\n",
    "          callbacks=[LossAndErrorPrintingCallback()],)\n",
    "\n",
    "res = model.evaluate(\n",
    "    X_test, y_test, batch_size=batch_size,\n",
    ")\n",
    "\n",
    "predictions = model.predict(X_test, batch_size=batch_size, callbacks=[CustomCallback()])"
   ]
  },
  {
   "cell_type": "code",
   "execution_count": 68,
   "metadata": {
    "colab": {
     "base_uri": "https://localhost:8080/",
     "height": 627
    },
    "id": "fhqq6gjo210i",
    "outputId": "81a421a4-9a33-4635-d6d7-fd1d3ca9a686"
   },
   "outputs": [
    {
     "name": "stdout",
     "output_type": "stream",
     "text": [
      "9997\n",
      "         x_entry   y_entry   z_entry      theta         phi\n",
      "0     181.563553 -5.062657  0.000024  66.443039  152.428421\n",
      "1     -94.911476  0.094327 -0.000050  59.661079    0.525064\n",
      "2    -105.526985  0.053682 -0.000112  60.424171    0.718598\n",
      "3      98.424034  4.614394 -0.000172  58.276924 -130.253738\n",
      "4      22.814211 -4.421422 -0.000173  42.691990  116.608337\n",
      "...          ...       ...       ...        ...         ...\n",
      "9992  172.178787  4.433176 -0.000028  66.337967 -123.264755\n",
      "9993  304.400208 -6.174856  0.000204  78.876022  184.052185\n",
      "9994  211.677750  5.374421  0.000005  70.030647 -145.860001\n",
      "9995 -189.334183  0.338974 -0.000017  70.463776    0.393567\n",
      "9996  232.287369  3.543963  0.000082  73.048859 -100.295052\n",
      "\n",
      "[9997 rows x 5 columns]\n"
     ]
    },
    {
     "name": "stderr",
     "output_type": "stream",
     "text": [
      "/usr/local/lib/python3.7/dist-packages/seaborn/distributions.py:2619: FutureWarning: `distplot` is a deprecated function and will be removed in a future version. Please adapt your code to use either `displot` (a figure-level function with similar flexibility) or `histplot` (an axes-level function for histograms).\n",
      "  warnings.warn(msg, FutureWarning)\n"
     ]
    },
    {
     "data": {
      "text/plain": [
       "Text(0.5, 1.0, 'theta (predicted)')"
      ]
     },
     "execution_count": 68,
     "metadata": {},
     "output_type": "execute_result"
    },
    {
     "data": {
      "image/png": "[encoded data removed]",
      "text/plain": [
       "<Figure size 432x288 with 1 Axes>"
      ]
     },
     "metadata": {
      "needs_background": "light"
     },
     "output_type": "display_data"
    }
   ],
   "source": [
    "print(len(predictions))\n",
    "df_predict = pd.DataFrame(predictions, columns=['x_entry', 'y_entry', 'z_entry', 'theta', 'phi'])\n",
    "print(df_predict)\n",
    "df_predict.head()\n",
    "sns.distplot(df_predict['theta'], kde=False, bins=10)\n",
    "plt.xlabel('theta')\n",
    "plt.ylabel('frequency')\n",
    "plt.title(\"theta (predicted)\")"
   ]
  },
  {
   "cell_type": "code",
   "execution_count": 69,
   "metadata": {
    "colab": {
     "base_uri": "https://localhost:8080/",
     "height": 367
    },
    "id": "-4BUK1-2CLxF",
    "outputId": "75da33b6-4980-4e5c-ed40-1647486207c0"
   },
   "outputs": [
    {
     "name": "stderr",
     "output_type": "stream",
     "text": [
      "/usr/local/lib/python3.7/dist-packages/seaborn/distributions.py:2619: FutureWarning: `distplot` is a deprecated function and will be removed in a future version. Please adapt your code to use either `displot` (a figure-level function with similar flexibility) or `histplot` (an axes-level function for histograms).\n",
      "  warnings.warn(msg, FutureWarning)\n"
     ]
    },
    {
     "data": {
      "text/plain": [
       "Text(0.5, 1.0, 'phi (predicted)')"
      ]
     },
     "execution_count": 69,
     "metadata": {},
     "output_type": "execute_result"
    },
    {
     "data": {
      "image/png": "[encoded data removed]",
      "text/plain": [
       "<Figure size 432x288 with 1 Axes>"
      ]
     },
     "metadata": {
      "needs_background": "light"
     },
     "output_type": "display_data"
    }
   ],
   "source": [
    "sns.distplot(df_predict['phi'], kde=False, bins=10)\n",
    "plt.xlabel('phi')\n",
    "plt.ylabel('frequency')\n",
    "plt.title(\"phi (predicted)\")"
   ]
  },
  {
   "cell_type": "code",
   "execution_count": 70,
   "metadata": {
    "colab": {
     "base_uri": "https://localhost:8080/",
     "height": 368
    },
    "id": "SJhhcS8rCMfP",
    "outputId": "5ff7c1f7-38e7-470c-c9a8-25db9a8b5ea6"
   },
   "outputs": [
    {
     "name": "stderr",
     "output_type": "stream",
     "text": [
      "/usr/local/lib/python3.7/dist-packages/seaborn/distributions.py:2619: FutureWarning: `distplot` is a deprecated function and will be removed in a future version. Please adapt your code to use either `displot` (a figure-level function with similar flexibility) or `histplot` (an axes-level function for histograms).\n",
      "  warnings.warn(msg, FutureWarning)\n"
     ]
    },
    {
     "data": {
      "text/plain": [
       "Text(0.5, 1.0, 'x_entry (predicted)')"
      ]
     },
     "execution_count": 70,
     "metadata": {},
     "output_type": "execute_result"
    },
    {
     "data": {
      "image/png": "[encoded data removed]",
      "text/plain": [
       "<Figure size 432x288 with 1 Axes>"
      ]
     },
     "metadata": {
      "needs_background": "light"
     },
     "output_type": "display_data"
    }
   ],
   "source": [
    "sns.distplot(df_predict['x_entry'], kde=False, bins=10)\n",
    "plt.xlabel('x_entry')\n",
    "plt.ylabel('frequency')\n",
    "plt.title(\"x_entry (predicted)\")"
   ]
  },
  {
   "cell_type": "code",
   "execution_count": 71,
   "metadata": {
    "colab": {
     "base_uri": "https://localhost:8080/",
     "height": 368
    },
    "id": "BlSaOsnxCNN8",
    "outputId": "c8080e22-775b-43f8-ffb4-09d5fb1c16e2"
   },
   "outputs": [
    {
     "name": "stderr",
     "output_type": "stream",
     "text": [
      "/usr/local/lib/python3.7/dist-packages/seaborn/distributions.py:2619: FutureWarning: `distplot` is a deprecated function and will be removed in a future version. Please adapt your code to use either `displot` (a figure-level function with similar flexibility) or `histplot` (an axes-level function for histograms).\n",
      "  warnings.warn(msg, FutureWarning)\n"
     ]
    },
    {
     "data": {
      "text/plain": [
       "Text(0.5, 1.0, 'y_entry (predicted)')"
      ]
     },
     "execution_count": 71,
     "metadata": {},
     "output_type": "execute_result"
    },
    {
     "data": {
      "image/png": "[encoded data removed]",
      "text/plain": [
       "<Figure size 432x288 with 1 Axes>"
      ]
     },
     "metadata": {
      "needs_background": "light"
     },
     "output_type": "display_data"
    }
   ],
   "source": [
    "sns.distplot(df_predict['y_entry'], kde=False, bins=10)\n",
    "plt.xlabel('y_entry')\n",
    "plt.ylabel('frequency')\n",
    "plt.title(\"y_entry (predicted)\")"
   ]
  },
  {
   "cell_type": "code",
   "execution_count": 72,
   "metadata": {
    "colab": {
     "base_uri": "https://localhost:8080/",
     "height": 368
    },
    "id": "n5h94oi-CNxK",
    "outputId": "8045d6c6-56f9-4924-ebde-2fc235b16675"
   },
   "outputs": [
    {
     "name": "stderr",
     "output_type": "stream",
     "text": [
      "/usr/local/lib/python3.7/dist-packages/seaborn/distributions.py:2619: FutureWarning: `distplot` is a deprecated function and will be removed in a future version. Please adapt your code to use either `displot` (a figure-level function with similar flexibility) or `histplot` (an axes-level function for histograms).\n",
      "  warnings.warn(msg, FutureWarning)\n"
     ]
    },
    {
     "data": {
      "text/plain": [
       "Text(0.5, 1.0, 'z_entry (predicted)')"
      ]
     },
     "execution_count": 72,
     "metadata": {},
     "output_type": "execute_result"
    },
    {
     "data": {
      "image/png": "[encoded data removed]",
      "text/plain": [
       "<Figure size 432x288 with 1 Axes>"
      ]
     },
     "metadata": {
      "needs_background": "light"
     },
     "output_type": "display_data"
    }
   ],
   "source": [
    "sns.distplot(df_predict['z_entry'], kde=False, bins=10)\n",
    "plt.xlabel('z_entry')\n",
    "plt.ylabel('frequency')\n",
    "plt.title(\"z_entry (predicted)\")"
   ]
  },
  {
   "cell_type": "code",
   "execution_count": 73,
   "metadata": {
    "colab": {
     "base_uri": "https://localhost:8080/",
     "height": 296
    },
    "id": "4CDk4yIK1Wt-",
    "outputId": "ffb736d6-4534-4810-e51d-859c637a2bf5"
   },
   "outputs": [
    {
     "data": {
      "text/plain": [
       "<matplotlib.legend.Legend at 0x7fc48fcb7c90>"
      ]
     },
     "execution_count": 73,
     "metadata": {},
     "output_type": "execute_result"
    },
    {
     "data": {
      "image/png": "[encoded data removed]",
      "text/plain": [
       "<Figure size 432x288 with 1 Axes>"
      ]
     },
     "metadata": {
      "needs_background": "light"
     },
     "output_type": "display_data"
    }
   ],
   "source": [
    "plt.plot(history.history['loss'], label='train_loss')\n",
    "plt.plot(history.history['val_loss'], label = 'val_loss')\n",
    "plt.xlabel('Epoch')\n",
    "plt.ylabel('Loss')\n",
    "plt.legend(loc='upper right')\n"
   ]
  },
  {
   "cell_type": "code",
   "execution_count": 74,
   "metadata": {
    "colab": {
     "base_uri": "https://localhost:8080/",
     "height": 282
    },
    "id": "ypt3Jcn4pdGE",
    "outputId": "f97498c2-0efe-4a3c-9e4a-e4947797b335"
   },
   "outputs": [
    {
     "data": {
      "text/plain": [
       "<matplotlib.legend.Legend at 0x7fc48fcad450>"
      ]
     },
     "execution_count": 74,
     "metadata": {},
     "output_type": "execute_result"
    },
    {
     "data": {
      "image/png": "[encoded data removed]",
      "text/plain": [
       "<Figure size 432x288 with 1 Axes>"
      ]
     },
     "metadata": {
      "needs_background": "light"
     },
     "output_type": "display_data"
    }
   ],
   "source": [
    "plt.plot(history.history['mean_squared_error'], label='MSE')\n",
    "plt.legend(loc='upper right')"
   ]
  },
  {
   "cell_type": "code",
   "execution_count": null,
   "metadata": {
    "id": "QIBfASHgGJdo"
   },
   "outputs": [],
   "source": []
  }
 ],
 "metadata": {
  "colab": {
   "name": "CNN-simple-Pred-Pos&Angle.ipynb",
   "provenance": []
  },
  "kernelspec": {
   "display_name": "Python 3 (ipykernel)",
   "language": "python",
   "name": "python3"
  },
  "language_info": {
   "codemirror_mode": {
    "name": "ipython",
    "version": 3
   },
   "file_extension": ".py",
   "mimetype": "text/x-python",
   "name": "python",
   "nbconvert_exporter": "python",
   "pygments_lexer": "ipython3",
   "version": "3.9.4"
  }
 },
 "nbformat": 4,
 "nbformat_minor": 1
}
