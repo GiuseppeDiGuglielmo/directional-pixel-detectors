{
 "cells": [
  {
   "cell_type": "code",
   "execution_count": 1,
   "id": "3a8391fa-659e-448d-bc55-8f6c207a2ffb",
   "metadata": {
    "colab": {
     "base_uri": "https://localhost:8080/"
    },
    "executionInfo": {
     "elapsed": 3375,
     "status": "ok",
     "timestamp": 1662549099003,
     "user": {
      "displayName": "Jieun Yoo",
      "userId": "18119058923405700980"
     },
     "user_tz": -120
    },
    "id": "3a8391fa-659e-448d-bc55-8f6c207a2ffb",
    "outputId": "eba32f20-eeba-4213-cfaa-8ddec7af8bf9"
   },
   "outputs": [],
   "source": [
    "from sklearn.model_selection import train_test_split\n",
    "from sklearn.metrics import mean_squared_error\n",
    "from sklearn.preprocessing import StandardScaler\n",
    "from sklearn.metrics import confusion_matrix\n",
    "from sklearn.metrics import classification_report\n",
    "import tensorflow as tf\n",
    "from tensorflow.keras import datasets, layers, models\n",
    "import keras\n",
    "from keras.models import Sequential\n",
    "from keras.layers import Dense, Dropout, Flatten\n",
    "from keras.layers import Conv2D, MaxPooling2D\n",
    "from keras.callbacks import CSVLogger\n",
    "from keras.callbacks import EarlyStopping\n",
    "import matplotlib.pyplot as plt\n",
    "import numpy as np\n",
    "import pandas as pd\n",
    "from pandas import read_csv\n",
    "import math\n",
    "import seaborn as sns\n",
    "#from google.colab import drive\n",
    "from tensorflow.keras.layers import BatchNormalization\n",
    "from tensorflow.keras.optimizers import Adam\n",
    "#drive.mount('/content/drive')"
   ]
  },
  {
   "cell_type": "code",
   "execution_count": 2,
   "id": "7448f05e-bc94-482b-b6f8-2a4c114cb9d5",
   "metadata": {},
   "outputs": [],
   "source": [
    "#pip install QKeras"
   ]
  },
  {
   "cell_type": "code",
   "execution_count": 3,
   "id": "12180123-80b5-44e4-bd55-606f9fefc5d1",
   "metadata": {
    "colab": {
     "base_uri": "https://localhost:8080/",
     "height": 424
    },
    "executionInfo": {
     "elapsed": 630,
     "status": "ok",
     "timestamp": 1662549099629,
     "user": {
      "displayName": "Jieun Yoo",
      "userId": "18119058923405700980"
     },
     "user_tz": -120
    },
    "id": "12180123-80b5-44e4-bd55-606f9fefc5d1",
    "outputId": "55c64a88-0f1d-4da1-eece-eec161329062"
   },
   "outputs": [
    {
     "data": {
      "text/html": [
       "<div>\n",
       "<style scoped>\n",
       "    .dataframe tbody tr th:only-of-type {\n",
       "        vertical-align: middle;\n",
       "    }\n",
       "\n",
       "    .dataframe tbody tr th {\n",
       "        vertical-align: top;\n",
       "    }\n",
       "\n",
       "    .dataframe thead th {\n",
       "        text-align: right;\n",
       "    }\n",
       "</style>\n",
       "<table border=\"1\" class=\"dataframe\">\n",
       "  <thead>\n",
       "    <tr style=\"text-align: right;\">\n",
       "      <th></th>\n",
       "      <th>0</th>\n",
       "      <th>1</th>\n",
       "      <th>2</th>\n",
       "      <th>3</th>\n",
       "      <th>4</th>\n",
       "      <th>5</th>\n",
       "      <th>6</th>\n",
       "      <th>7</th>\n",
       "      <th>8</th>\n",
       "      <th>9</th>\n",
       "      <th>10</th>\n",
       "      <th>11</th>\n",
       "      <th>12</th>\n",
       "      <th>y-local</th>\n",
       "    </tr>\n",
       "  </thead>\n",
       "  <tbody>\n",
       "    <tr>\n",
       "      <th>0</th>\n",
       "      <td>0.0</td>\n",
       "      <td>0.0</td>\n",
       "      <td>0.0</td>\n",
       "      <td>0.0</td>\n",
       "      <td>2.0</td>\n",
       "      <td>3.0</td>\n",
       "      <td>1.0</td>\n",
       "      <td>0.0</td>\n",
       "      <td>0.0</td>\n",
       "      <td>0.0</td>\n",
       "      <td>0.0</td>\n",
       "      <td>0.0</td>\n",
       "      <td>0.0</td>\n",
       "      <td>2.778870</td>\n",
       "    </tr>\n",
       "    <tr>\n",
       "      <th>1</th>\n",
       "      <td>0.0</td>\n",
       "      <td>0.0</td>\n",
       "      <td>0.0</td>\n",
       "      <td>0.0</td>\n",
       "      <td>6.0</td>\n",
       "      <td>7.0</td>\n",
       "      <td>9.0</td>\n",
       "      <td>3.0</td>\n",
       "      <td>0.0</td>\n",
       "      <td>0.0</td>\n",
       "      <td>0.0</td>\n",
       "      <td>0.0</td>\n",
       "      <td>0.0</td>\n",
       "      <td>0.834873</td>\n",
       "    </tr>\n",
       "    <tr>\n",
       "      <th>2</th>\n",
       "      <td>0.0</td>\n",
       "      <td>0.0</td>\n",
       "      <td>0.0</td>\n",
       "      <td>0.0</td>\n",
       "      <td>0.0</td>\n",
       "      <td>1.0</td>\n",
       "      <td>2.0</td>\n",
       "      <td>3.0</td>\n",
       "      <td>0.0</td>\n",
       "      <td>0.0</td>\n",
       "      <td>0.0</td>\n",
       "      <td>0.0</td>\n",
       "      <td>0.0</td>\n",
       "      <td>2.631550</td>\n",
       "    </tr>\n",
       "    <tr>\n",
       "      <th>3</th>\n",
       "      <td>0.0</td>\n",
       "      <td>0.0</td>\n",
       "      <td>0.0</td>\n",
       "      <td>0.0</td>\n",
       "      <td>0.0</td>\n",
       "      <td>10.0</td>\n",
       "      <td>19.0</td>\n",
       "      <td>9.0</td>\n",
       "      <td>0.0</td>\n",
       "      <td>0.0</td>\n",
       "      <td>0.0</td>\n",
       "      <td>0.0</td>\n",
       "      <td>0.0</td>\n",
       "      <td>8.079170</td>\n",
       "    </tr>\n",
       "    <tr>\n",
       "      <th>4</th>\n",
       "      <td>0.0</td>\n",
       "      <td>0.0</td>\n",
       "      <td>0.0</td>\n",
       "      <td>1.0</td>\n",
       "      <td>2.0</td>\n",
       "      <td>1.0</td>\n",
       "      <td>1.0</td>\n",
       "      <td>1.0</td>\n",
       "      <td>0.0</td>\n",
       "      <td>0.0</td>\n",
       "      <td>0.0</td>\n",
       "      <td>0.0</td>\n",
       "      <td>0.0</td>\n",
       "      <td>-7.075810</td>\n",
       "    </tr>\n",
       "    <tr>\n",
       "      <th>...</th>\n",
       "      <td>...</td>\n",
       "      <td>...</td>\n",
       "      <td>...</td>\n",
       "      <td>...</td>\n",
       "      <td>...</td>\n",
       "      <td>...</td>\n",
       "      <td>...</td>\n",
       "      <td>...</td>\n",
       "      <td>...</td>\n",
       "      <td>...</td>\n",
       "      <td>...</td>\n",
       "      <td>...</td>\n",
       "      <td>...</td>\n",
       "      <td>...</td>\n",
       "    </tr>\n",
       "    <tr>\n",
       "      <th>429745</th>\n",
       "      <td>0.0</td>\n",
       "      <td>0.0</td>\n",
       "      <td>0.0</td>\n",
       "      <td>2.0</td>\n",
       "      <td>5.0</td>\n",
       "      <td>6.0</td>\n",
       "      <td>1.0</td>\n",
       "      <td>0.0</td>\n",
       "      <td>0.0</td>\n",
       "      <td>0.0</td>\n",
       "      <td>0.0</td>\n",
       "      <td>0.0</td>\n",
       "      <td>0.0</td>\n",
       "      <td>2.777170</td>\n",
       "    </tr>\n",
       "    <tr>\n",
       "      <th>429746</th>\n",
       "      <td>0.0</td>\n",
       "      <td>0.0</td>\n",
       "      <td>0.0</td>\n",
       "      <td>0.0</td>\n",
       "      <td>0.0</td>\n",
       "      <td>2.0</td>\n",
       "      <td>2.0</td>\n",
       "      <td>2.0</td>\n",
       "      <td>3.0</td>\n",
       "      <td>0.0</td>\n",
       "      <td>0.0</td>\n",
       "      <td>0.0</td>\n",
       "      <td>0.0</td>\n",
       "      <td>-1.324640</td>\n",
       "    </tr>\n",
       "    <tr>\n",
       "      <th>429747</th>\n",
       "      <td>0.0</td>\n",
       "      <td>0.0</td>\n",
       "      <td>0.0</td>\n",
       "      <td>0.0</td>\n",
       "      <td>0.0</td>\n",
       "      <td>16.0</td>\n",
       "      <td>27.0</td>\n",
       "      <td>0.0</td>\n",
       "      <td>0.0</td>\n",
       "      <td>0.0</td>\n",
       "      <td>0.0</td>\n",
       "      <td>0.0</td>\n",
       "      <td>0.0</td>\n",
       "      <td>4.885720</td>\n",
       "    </tr>\n",
       "    <tr>\n",
       "      <th>429748</th>\n",
       "      <td>0.0</td>\n",
       "      <td>0.0</td>\n",
       "      <td>0.0</td>\n",
       "      <td>0.0</td>\n",
       "      <td>1.0</td>\n",
       "      <td>15.0</td>\n",
       "      <td>0.0</td>\n",
       "      <td>0.0</td>\n",
       "      <td>0.0</td>\n",
       "      <td>0.0</td>\n",
       "      <td>0.0</td>\n",
       "      <td>0.0</td>\n",
       "      <td>0.0</td>\n",
       "      <td>7.984120</td>\n",
       "    </tr>\n",
       "    <tr>\n",
       "      <th>429749</th>\n",
       "      <td>0.0</td>\n",
       "      <td>0.0</td>\n",
       "      <td>0.0</td>\n",
       "      <td>0.0</td>\n",
       "      <td>1.0</td>\n",
       "      <td>3.0</td>\n",
       "      <td>3.0</td>\n",
       "      <td>0.0</td>\n",
       "      <td>0.0</td>\n",
       "      <td>0.0</td>\n",
       "      <td>0.0</td>\n",
       "      <td>0.0</td>\n",
       "      <td>0.0</td>\n",
       "      <td>3.585260</td>\n",
       "    </tr>\n",
       "  </tbody>\n",
       "</table>\n",
       "<p>429750 rows × 14 columns</p>\n",
       "</div>"
      ],
      "text/plain": [
       "          0    1    2    3    4     5     6    7    8    9   10   11   12  \\\n",
       "0       0.0  0.0  0.0  0.0  2.0   3.0   1.0  0.0  0.0  0.0  0.0  0.0  0.0   \n",
       "1       0.0  0.0  0.0  0.0  6.0   7.0   9.0  3.0  0.0  0.0  0.0  0.0  0.0   \n",
       "2       0.0  0.0  0.0  0.0  0.0   1.0   2.0  3.0  0.0  0.0  0.0  0.0  0.0   \n",
       "3       0.0  0.0  0.0  0.0  0.0  10.0  19.0  9.0  0.0  0.0  0.0  0.0  0.0   \n",
       "4       0.0  0.0  0.0  1.0  2.0   1.0   1.0  1.0  0.0  0.0  0.0  0.0  0.0   \n",
       "...     ...  ...  ...  ...  ...   ...   ...  ...  ...  ...  ...  ...  ...   \n",
       "429745  0.0  0.0  0.0  2.0  5.0   6.0   1.0  0.0  0.0  0.0  0.0  0.0  0.0   \n",
       "429746  0.0  0.0  0.0  0.0  0.0   2.0   2.0  2.0  3.0  0.0  0.0  0.0  0.0   \n",
       "429747  0.0  0.0  0.0  0.0  0.0  16.0  27.0  0.0  0.0  0.0  0.0  0.0  0.0   \n",
       "429748  0.0  0.0  0.0  0.0  1.0  15.0   0.0  0.0  0.0  0.0  0.0  0.0  0.0   \n",
       "429749  0.0  0.0  0.0  0.0  1.0   3.0   3.0  0.0  0.0  0.0  0.0  0.0  0.0   \n",
       "\n",
       "         y-local  \n",
       "0       2.778870  \n",
       "1       0.834873  \n",
       "2       2.631550  \n",
       "3       8.079170  \n",
       "4      -7.075810  \n",
       "...          ...  \n",
       "429745  2.777170  \n",
       "429746 -1.324640  \n",
       "429747  4.885720  \n",
       "429748  7.984120  \n",
       "429749  3.585260  \n",
       "\n",
       "[429750 rows x 14 columns]"
      ]
     },
     "execution_count": 3,
     "metadata": {},
     "output_type": "execute_result"
    }
   ],
   "source": [
    "df1 = pd.read_csv('/home/jieun201/sept27_tryKeras/InputTrainSet.csv')\n",
    "df1"
   ]
  },
  {
   "cell_type": "code",
   "execution_count": 4,
   "id": "1928faac-c2d6-4345-88ef-6e714d8f2d72",
   "metadata": {
    "colab": {
     "base_uri": "https://localhost:8080/",
     "height": 424
    },
    "executionInfo": {
     "elapsed": 19,
     "status": "ok",
     "timestamp": 1662549099630,
     "user": {
      "displayName": "Jieun Yoo",
      "userId": "18119058923405700980"
     },
     "user_tz": -120
    },
    "id": "1928faac-c2d6-4345-88ef-6e714d8f2d72",
    "outputId": "efb22685-d2fd-4ed3-fd18-2d8c5c0cc685"
   },
   "outputs": [
    {
     "data": {
      "text/html": [
       "<div>\n",
       "<style scoped>\n",
       "    .dataframe tbody tr th:only-of-type {\n",
       "        vertical-align: middle;\n",
       "    }\n",
       "\n",
       "    .dataframe tbody tr th {\n",
       "        vertical-align: top;\n",
       "    }\n",
       "\n",
       "    .dataframe thead th {\n",
       "        text-align: right;\n",
       "    }\n",
       "</style>\n",
       "<table border=\"1\" class=\"dataframe\">\n",
       "  <thead>\n",
       "    <tr style=\"text-align: right;\">\n",
       "      <th></th>\n",
       "      <th>pt</th>\n",
       "    </tr>\n",
       "  </thead>\n",
       "  <tbody>\n",
       "    <tr>\n",
       "      <th>0</th>\n",
       "      <td>0</td>\n",
       "    </tr>\n",
       "    <tr>\n",
       "      <th>1</th>\n",
       "      <td>0</td>\n",
       "    </tr>\n",
       "    <tr>\n",
       "      <th>2</th>\n",
       "      <td>0</td>\n",
       "    </tr>\n",
       "    <tr>\n",
       "      <th>3</th>\n",
       "      <td>0</td>\n",
       "    </tr>\n",
       "    <tr>\n",
       "      <th>4</th>\n",
       "      <td>1</td>\n",
       "    </tr>\n",
       "    <tr>\n",
       "      <th>...</th>\n",
       "      <td>...</td>\n",
       "    </tr>\n",
       "    <tr>\n",
       "      <th>429745</th>\n",
       "      <td>0</td>\n",
       "    </tr>\n",
       "    <tr>\n",
       "      <th>429746</th>\n",
       "      <td>0</td>\n",
       "    </tr>\n",
       "    <tr>\n",
       "      <th>429747</th>\n",
       "      <td>0</td>\n",
       "    </tr>\n",
       "    <tr>\n",
       "      <th>429748</th>\n",
       "      <td>1</td>\n",
       "    </tr>\n",
       "    <tr>\n",
       "      <th>429749</th>\n",
       "      <td>1</td>\n",
       "    </tr>\n",
       "  </tbody>\n",
       "</table>\n",
       "<p>429750 rows × 1 columns</p>\n",
       "</div>"
      ],
      "text/plain": [
       "        pt\n",
       "0        0\n",
       "1        0\n",
       "2        0\n",
       "3        0\n",
       "4        1\n",
       "...     ..\n",
       "429745   0\n",
       "429746   0\n",
       "429747   0\n",
       "429748   1\n",
       "429749   1\n",
       "\n",
       "[429750 rows x 1 columns]"
      ]
     },
     "execution_count": 4,
     "metadata": {},
     "output_type": "execute_result"
    }
   ],
   "source": [
    "df2 = pd.read_csv('/home/jieun201/sept27_tryKeras/labelsTrain.csv')\n",
    "df2"
   ]
  },
  {
   "cell_type": "code",
   "execution_count": 5,
   "id": "4a90e2bb-9f16-4a05-b309-07b0ad58eb2c",
   "metadata": {
    "colab": {
     "base_uri": "https://localhost:8080/",
     "height": 424
    },
    "executionInfo": {
     "elapsed": 16,
     "status": "ok",
     "timestamp": 1662549099630,
     "user": {
      "displayName": "Jieun Yoo",
      "userId": "18119058923405700980"
     },
     "user_tz": -120
    },
    "id": "4a90e2bb-9f16-4a05-b309-07b0ad58eb2c",
    "outputId": "cc294ee0-b2e8-4b8f-887f-c854116c0ea2"
   },
   "outputs": [
    {
     "data": {
      "text/html": [
       "<div>\n",
       "<style scoped>\n",
       "    .dataframe tbody tr th:only-of-type {\n",
       "        vertical-align: middle;\n",
       "    }\n",
       "\n",
       "    .dataframe tbody tr th {\n",
       "        vertical-align: top;\n",
       "    }\n",
       "\n",
       "    .dataframe thead th {\n",
       "        text-align: right;\n",
       "    }\n",
       "</style>\n",
       "<table border=\"1\" class=\"dataframe\">\n",
       "  <thead>\n",
       "    <tr style=\"text-align: right;\">\n",
       "      <th></th>\n",
       "      <th>0</th>\n",
       "      <th>1</th>\n",
       "      <th>2</th>\n",
       "      <th>3</th>\n",
       "      <th>4</th>\n",
       "      <th>5</th>\n",
       "      <th>6</th>\n",
       "      <th>7</th>\n",
       "      <th>8</th>\n",
       "      <th>9</th>\n",
       "      <th>10</th>\n",
       "      <th>11</th>\n",
       "      <th>12</th>\n",
       "      <th>y-local</th>\n",
       "    </tr>\n",
       "  </thead>\n",
       "  <tbody>\n",
       "    <tr>\n",
       "      <th>0</th>\n",
       "      <td>0.0</td>\n",
       "      <td>0.0</td>\n",
       "      <td>1.0</td>\n",
       "      <td>2.0</td>\n",
       "      <td>2.0</td>\n",
       "      <td>2.0</td>\n",
       "      <td>3.0</td>\n",
       "      <td>0.0</td>\n",
       "      <td>0.0</td>\n",
       "      <td>0.0</td>\n",
       "      <td>0.0</td>\n",
       "      <td>0.0</td>\n",
       "      <td>0.0</td>\n",
       "      <td>-7.65045</td>\n",
       "    </tr>\n",
       "    <tr>\n",
       "      <th>1</th>\n",
       "      <td>0.0</td>\n",
       "      <td>0.0</td>\n",
       "      <td>0.0</td>\n",
       "      <td>0.0</td>\n",
       "      <td>0.0</td>\n",
       "      <td>1.0</td>\n",
       "      <td>9.0</td>\n",
       "      <td>5.0</td>\n",
       "      <td>0.0</td>\n",
       "      <td>0.0</td>\n",
       "      <td>0.0</td>\n",
       "      <td>0.0</td>\n",
       "      <td>0.0</td>\n",
       "      <td>5.58730</td>\n",
       "    </tr>\n",
       "    <tr>\n",
       "      <th>2</th>\n",
       "      <td>0.0</td>\n",
       "      <td>0.0</td>\n",
       "      <td>0.0</td>\n",
       "      <td>2.0</td>\n",
       "      <td>5.0</td>\n",
       "      <td>5.0</td>\n",
       "      <td>4.0</td>\n",
       "      <td>0.0</td>\n",
       "      <td>0.0</td>\n",
       "      <td>0.0</td>\n",
       "      <td>0.0</td>\n",
       "      <td>0.0</td>\n",
       "      <td>0.0</td>\n",
       "      <td>-3.31692</td>\n",
       "    </tr>\n",
       "    <tr>\n",
       "      <th>3</th>\n",
       "      <td>0.0</td>\n",
       "      <td>0.0</td>\n",
       "      <td>0.0</td>\n",
       "      <td>3.0</td>\n",
       "      <td>6.0</td>\n",
       "      <td>6.0</td>\n",
       "      <td>5.0</td>\n",
       "      <td>3.0</td>\n",
       "      <td>0.0</td>\n",
       "      <td>0.0</td>\n",
       "      <td>0.0</td>\n",
       "      <td>0.0</td>\n",
       "      <td>0.0</td>\n",
       "      <td>-1.29760</td>\n",
       "    </tr>\n",
       "    <tr>\n",
       "      <th>4</th>\n",
       "      <td>0.0</td>\n",
       "      <td>0.0</td>\n",
       "      <td>2.0</td>\n",
       "      <td>4.0</td>\n",
       "      <td>4.0</td>\n",
       "      <td>6.0</td>\n",
       "      <td>3.0</td>\n",
       "      <td>0.0</td>\n",
       "      <td>0.0</td>\n",
       "      <td>0.0</td>\n",
       "      <td>0.0</td>\n",
       "      <td>0.0</td>\n",
       "      <td>0.0</td>\n",
       "      <td>-6.27107</td>\n",
       "    </tr>\n",
       "    <tr>\n",
       "      <th>...</th>\n",
       "      <td>...</td>\n",
       "      <td>...</td>\n",
       "      <td>...</td>\n",
       "      <td>...</td>\n",
       "      <td>...</td>\n",
       "      <td>...</td>\n",
       "      <td>...</td>\n",
       "      <td>...</td>\n",
       "      <td>...</td>\n",
       "      <td>...</td>\n",
       "      <td>...</td>\n",
       "      <td>...</td>\n",
       "      <td>...</td>\n",
       "      <td>...</td>\n",
       "    </tr>\n",
       "    <tr>\n",
       "      <th>107431</th>\n",
       "      <td>0.0</td>\n",
       "      <td>0.0</td>\n",
       "      <td>0.0</td>\n",
       "      <td>3.0</td>\n",
       "      <td>6.0</td>\n",
       "      <td>6.0</td>\n",
       "      <td>0.0</td>\n",
       "      <td>0.0</td>\n",
       "      <td>0.0</td>\n",
       "      <td>0.0</td>\n",
       "      <td>0.0</td>\n",
       "      <td>0.0</td>\n",
       "      <td>0.0</td>\n",
       "      <td>2.08619</td>\n",
       "    </tr>\n",
       "    <tr>\n",
       "      <th>107432</th>\n",
       "      <td>0.0</td>\n",
       "      <td>0.0</td>\n",
       "      <td>0.0</td>\n",
       "      <td>0.0</td>\n",
       "      <td>16.0</td>\n",
       "      <td>2.0</td>\n",
       "      <td>0.0</td>\n",
       "      <td>0.0</td>\n",
       "      <td>0.0</td>\n",
       "      <td>0.0</td>\n",
       "      <td>0.0</td>\n",
       "      <td>0.0</td>\n",
       "      <td>0.0</td>\n",
       "      <td>7.81045</td>\n",
       "    </tr>\n",
       "    <tr>\n",
       "      <th>107433</th>\n",
       "      <td>0.0</td>\n",
       "      <td>0.0</td>\n",
       "      <td>7.0</td>\n",
       "      <td>19.0</td>\n",
       "      <td>19.0</td>\n",
       "      <td>0.0</td>\n",
       "      <td>0.0</td>\n",
       "      <td>0.0</td>\n",
       "      <td>0.0</td>\n",
       "      <td>0.0</td>\n",
       "      <td>0.0</td>\n",
       "      <td>0.0</td>\n",
       "      <td>0.0</td>\n",
       "      <td>4.77811</td>\n",
       "    </tr>\n",
       "    <tr>\n",
       "      <th>107434</th>\n",
       "      <td>0.0</td>\n",
       "      <td>0.0</td>\n",
       "      <td>0.0</td>\n",
       "      <td>3.0</td>\n",
       "      <td>3.0</td>\n",
       "      <td>0.0</td>\n",
       "      <td>0.0</td>\n",
       "      <td>0.0</td>\n",
       "      <td>0.0</td>\n",
       "      <td>0.0</td>\n",
       "      <td>0.0</td>\n",
       "      <td>0.0</td>\n",
       "      <td>0.0</td>\n",
       "      <td>7.78435</td>\n",
       "    </tr>\n",
       "    <tr>\n",
       "      <th>107435</th>\n",
       "      <td>0.0</td>\n",
       "      <td>0.0</td>\n",
       "      <td>0.0</td>\n",
       "      <td>1.0</td>\n",
       "      <td>3.0</td>\n",
       "      <td>1.0</td>\n",
       "      <td>2.0</td>\n",
       "      <td>0.0</td>\n",
       "      <td>0.0</td>\n",
       "      <td>0.0</td>\n",
       "      <td>0.0</td>\n",
       "      <td>0.0</td>\n",
       "      <td>0.0</td>\n",
       "      <td>-3.52083</td>\n",
       "    </tr>\n",
       "  </tbody>\n",
       "</table>\n",
       "<p>107436 rows × 14 columns</p>\n",
       "</div>"
      ],
      "text/plain": [
       "          0    1    2     3     4    5    6    7    8    9   10   11   12  \\\n",
       "0       0.0  0.0  1.0   2.0   2.0  2.0  3.0  0.0  0.0  0.0  0.0  0.0  0.0   \n",
       "1       0.0  0.0  0.0   0.0   0.0  1.0  9.0  5.0  0.0  0.0  0.0  0.0  0.0   \n",
       "2       0.0  0.0  0.0   2.0   5.0  5.0  4.0  0.0  0.0  0.0  0.0  0.0  0.0   \n",
       "3       0.0  0.0  0.0   3.0   6.0  6.0  5.0  3.0  0.0  0.0  0.0  0.0  0.0   \n",
       "4       0.0  0.0  2.0   4.0   4.0  6.0  3.0  0.0  0.0  0.0  0.0  0.0  0.0   \n",
       "...     ...  ...  ...   ...   ...  ...  ...  ...  ...  ...  ...  ...  ...   \n",
       "107431  0.0  0.0  0.0   3.0   6.0  6.0  0.0  0.0  0.0  0.0  0.0  0.0  0.0   \n",
       "107432  0.0  0.0  0.0   0.0  16.0  2.0  0.0  0.0  0.0  0.0  0.0  0.0  0.0   \n",
       "107433  0.0  0.0  7.0  19.0  19.0  0.0  0.0  0.0  0.0  0.0  0.0  0.0  0.0   \n",
       "107434  0.0  0.0  0.0   3.0   3.0  0.0  0.0  0.0  0.0  0.0  0.0  0.0  0.0   \n",
       "107435  0.0  0.0  0.0   1.0   3.0  1.0  2.0  0.0  0.0  0.0  0.0  0.0  0.0   \n",
       "\n",
       "        y-local  \n",
       "0      -7.65045  \n",
       "1       5.58730  \n",
       "2      -3.31692  \n",
       "3      -1.29760  \n",
       "4      -6.27107  \n",
       "...         ...  \n",
       "107431  2.08619  \n",
       "107432  7.81045  \n",
       "107433  4.77811  \n",
       "107434  7.78435  \n",
       "107435 -3.52083  \n",
       "\n",
       "[107436 rows x 14 columns]"
      ]
     },
     "execution_count": 5,
     "metadata": {},
     "output_type": "execute_result"
    }
   ],
   "source": [
    "df3 = pd.read_csv('/home/jieun201/sept27_tryKeras/InputTestSet.csv')\n",
    "df3"
   ]
  },
  {
   "cell_type": "code",
   "execution_count": 6,
   "id": "761c52bf-e171-4bb8-a715-650c0bb1fd13",
   "metadata": {
    "colab": {
     "base_uri": "https://localhost:8080/",
     "height": 424
    },
    "executionInfo": {
     "elapsed": 16,
     "status": "ok",
     "timestamp": 1662549099631,
     "user": {
      "displayName": "Jieun Yoo",
      "userId": "18119058923405700980"
     },
     "user_tz": -120
    },
    "id": "761c52bf-e171-4bb8-a715-650c0bb1fd13",
    "outputId": "6b855e99-cae1-485b-f01c-76b4c213c448"
   },
   "outputs": [
    {
     "data": {
      "text/html": [
       "<div>\n",
       "<style scoped>\n",
       "    .dataframe tbody tr th:only-of-type {\n",
       "        vertical-align: middle;\n",
       "    }\n",
       "\n",
       "    .dataframe tbody tr th {\n",
       "        vertical-align: top;\n",
       "    }\n",
       "\n",
       "    .dataframe thead th {\n",
       "        text-align: right;\n",
       "    }\n",
       "</style>\n",
       "<table border=\"1\" class=\"dataframe\">\n",
       "  <thead>\n",
       "    <tr style=\"text-align: right;\">\n",
       "      <th></th>\n",
       "      <th>pt</th>\n",
       "    </tr>\n",
       "  </thead>\n",
       "  <tbody>\n",
       "    <tr>\n",
       "      <th>0</th>\n",
       "      <td>1</td>\n",
       "    </tr>\n",
       "    <tr>\n",
       "      <th>1</th>\n",
       "      <td>1</td>\n",
       "    </tr>\n",
       "    <tr>\n",
       "      <th>2</th>\n",
       "      <td>1</td>\n",
       "    </tr>\n",
       "    <tr>\n",
       "      <th>3</th>\n",
       "      <td>0</td>\n",
       "    </tr>\n",
       "    <tr>\n",
       "      <th>4</th>\n",
       "      <td>1</td>\n",
       "    </tr>\n",
       "    <tr>\n",
       "      <th>...</th>\n",
       "      <td>...</td>\n",
       "    </tr>\n",
       "    <tr>\n",
       "      <th>107431</th>\n",
       "      <td>1</td>\n",
       "    </tr>\n",
       "    <tr>\n",
       "      <th>107432</th>\n",
       "      <td>0</td>\n",
       "    </tr>\n",
       "    <tr>\n",
       "      <th>107433</th>\n",
       "      <td>0</td>\n",
       "    </tr>\n",
       "    <tr>\n",
       "      <th>107434</th>\n",
       "      <td>1</td>\n",
       "    </tr>\n",
       "    <tr>\n",
       "      <th>107435</th>\n",
       "      <td>1</td>\n",
       "    </tr>\n",
       "  </tbody>\n",
       "</table>\n",
       "<p>107436 rows × 1 columns</p>\n",
       "</div>"
      ],
      "text/plain": [
       "        pt\n",
       "0        1\n",
       "1        1\n",
       "2        1\n",
       "3        0\n",
       "4        1\n",
       "...     ..\n",
       "107431   1\n",
       "107432   0\n",
       "107433   0\n",
       "107434   1\n",
       "107435   1\n",
       "\n",
       "[107436 rows x 1 columns]"
      ]
     },
     "execution_count": 6,
     "metadata": {},
     "output_type": "execute_result"
    }
   ],
   "source": [
    "df4 = pd.read_csv('/home/jieun201/sept27_tryKeras/labelsTest.csv')\n",
    "df4"
   ]
  },
  {
   "cell_type": "code",
   "execution_count": 7,
   "id": "f150ba39-5d91-4633-b6cd-b1ecd0b3ed91",
   "metadata": {
    "colab": {
     "base_uri": "https://localhost:8080/"
    },
    "executionInfo": {
     "elapsed": 16,
     "status": "ok",
     "timestamp": 1662549099631,
     "user": {
      "displayName": "Jieun Yoo",
      "userId": "18119058923405700980"
     },
     "user_tz": -120
    },
    "id": "f150ba39-5d91-4633-b6cd-b1ecd0b3ed91",
    "outputId": "6646d2a6-a877-46c8-eb1f-10cd96eee6ae"
   },
   "outputs": [
    {
     "name": "stdout",
     "output_type": "stream",
     "text": [
      "(429750, 14) (107436, 14) (429750, 1) (107436, 1)\n"
     ]
    }
   ],
   "source": [
    "X_train = df1.values\n",
    "X_test = df3.values\n",
    "\n",
    "y_train = df2.values\n",
    "y_test = df4.values\n",
    "#X_train, X_test, y_train, y_test = train_test_split(X,y,test_size = 0.20, random_state = 0)\n",
    "\n",
    "print(X_train.shape, X_test.shape, y_train.shape, y_test.shape)"
   ]
  },
  {
   "cell_type": "code",
   "execution_count": 8,
   "id": "beb8db5f-411e-4d01-9d53-26cccf3fd39f",
   "metadata": {
    "colab": {
     "base_uri": "https://localhost:8080/"
    },
    "executionInfo": {
     "elapsed": 14,
     "status": "ok",
     "timestamp": 1662549099631,
     "user": {
      "displayName": "Jieun Yoo",
      "userId": "18119058923405700980"
     },
     "user_tz": -120
    },
    "id": "beb8db5f-411e-4d01-9d53-26cccf3fd39f",
    "outputId": "1aa13315-91fa-4ab5-a407-09d0b3747a1e"
   },
   "outputs": [
    {
     "data": {
      "text/plain": [
       "array([[0],\n",
       "       [0],\n",
       "       [0],\n",
       "       ...,\n",
       "       [0],\n",
       "       [1],\n",
       "       [1]])"
      ]
     },
     "execution_count": 8,
     "metadata": {},
     "output_type": "execute_result"
    }
   ],
   "source": [
    "y_train"
   ]
  },
  {
   "cell_type": "code",
   "execution_count": 9,
   "id": "23e343bd-a2e8-427a-b00e-c0f778074fad",
   "metadata": {
    "executionInfo": {
     "elapsed": 14,
     "status": "ok",
     "timestamp": 1662549099632,
     "user": {
      "displayName": "Jieun Yoo",
      "userId": "18119058923405700980"
     },
     "user_tz": -120
    },
    "id": "23e343bd-a2e8-427a-b00e-c0f778074fad"
   },
   "outputs": [],
   "source": [
    "scaler = StandardScaler()\n",
    "X_train = scaler.fit_transform(X_train.reshape(-1, X_train.shape[-1])).reshape(X_train.shape)\n",
    "X_test = scaler.transform(X_test.reshape(-1, X_test.shape[-1])).reshape(X_test.shape)"
   ]
  },
  {
   "cell_type": "code",
   "execution_count": 10,
   "id": "15339e98-b6af-41cd-b568-16e2b6ecb03e",
   "metadata": {
    "colab": {
     "base_uri": "https://localhost:8080/"
    },
    "executionInfo": {
     "elapsed": 14,
     "status": "ok",
     "timestamp": 1662549099632,
     "user": {
      "displayName": "Jieun Yoo",
      "userId": "18119058923405700980"
     },
     "user_tz": -120
    },
    "id": "15339e98-b6af-41cd-b568-16e2b6ecb03e",
    "outputId": "683b4d2f-fbf1-4c5f-ab49-99ff3f9fb8b2"
   },
   "outputs": [
    {
     "data": {
      "text/plain": [
       "array([[-0.08461813, -0.16315037,  0.19857922, ..., -0.06289045,\n",
       "        -0.05426783, -1.70711068],\n",
       "       [-0.08461813, -0.16315037, -0.39849222, ..., -0.06289045,\n",
       "        -0.05426783,  1.23015188],\n",
       "       [-0.08461813, -0.16315037, -0.39849222, ..., -0.06289045,\n",
       "        -0.05426783, -0.74556394],\n",
       "       ...,\n",
       "       [-0.08461813, -0.16315037,  3.78100788, ..., -0.06289045,\n",
       "        -0.05426783,  1.05060449],\n",
       "       [-0.08461813, -0.16315037, -0.39849222, ..., -0.06289045,\n",
       "        -0.05426783,  1.71764505],\n",
       "       [-0.08461813, -0.16315037, -0.39849222, ..., -0.06289045,\n",
       "        -0.05426783, -0.79080858]])"
      ]
     },
     "execution_count": 10,
     "metadata": {},
     "output_type": "execute_result"
    }
   ],
   "source": [
    "X_test"
   ]
  },
  {
   "cell_type": "code",
   "execution_count": 11,
   "id": "5af05867-d2f2-4be1-9bd1-f179487a47ee",
   "metadata": {
    "colab": {
     "base_uri": "https://localhost:8080/"
    },
    "executionInfo": {
     "elapsed": 14,
     "status": "ok",
     "timestamp": 1662549099633,
     "user": {
      "displayName": "Jieun Yoo",
      "userId": "18119058923405700980"
     },
     "user_tz": -120
    },
    "id": "5af05867-d2f2-4be1-9bd1-f179487a47ee",
    "outputId": "162ae75e-b8ba-4e54-f3e2-39fce9206d6d"
   },
   "outputs": [],
   "source": [
    "from tensorflow.keras.layers import Input, Activation\n",
    "#from qkeras import quantized bits\n",
    "#from qkeras import QDense, QActivation\n",
    "from qkeras import *"
   ]
  },
  {
   "cell_type": "code",
   "execution_count": 12,
   "id": "e12a3b6d-13fe-4482-94d0-c24dfc5fac20",
   "metadata": {},
   "outputs": [],
   "source": [
    "def CreateQModel(shape, nb_classes):\n",
    "    x = x_in = Input(shape)\n",
    "    x = QDense(32,\n",
    "        kernel_quantizer=quantized_bits(2,0,alpha=1), bias_quantizer=quantized_bits(2,0,alpha=1),\n",
    "        name=\"dense1\")(x)\n",
    "    x = keras.layers.BatchNormalization()(x)\n",
    "    x = QActivation(\"quantized_relu(4,0)\", name=\"relu-1\")(x)\n",
    "    x = QDense(64,\n",
    "        kernel_quantizer=quantized_bits(2,0,alpha=1), bias_quantizer=quantized_bits(2,0,alpha=1),\n",
    "        name=\"dense12\")(x)\n",
    "    x = keras.layers.BatchNormalization()(x)\n",
    "    x = QActivation(\"quantized_relu(4,0)\", name=\"relu-2\")(x)\n",
    "    x = QDense(1, kernel_quantizer=quantized_bits(2,0,alpha=1), bias_quantizer=quantized_bits(2,0,alpha=1),\n",
    "        name=\"dense2\")(x)\n",
    "    x = keras.layers.BatchNormalization()(x)\n",
    "    x = QActivation(\"quantized_sigmoid(4,0)\", name=\"sig-1\")(x)\n",
    "    model = Model(inputs=x_in, outputs=x)\n",
    "    return model"
   ]
  },
  {
   "cell_type": "code",
   "execution_count": 13,
   "id": "4720ce89-2eae-4016-a7c2-955ae4bbaae9",
   "metadata": {
    "executionInfo": {
     "elapsed": 9,
     "status": "ok",
     "timestamp": 1662549099633,
     "user": {
      "displayName": "Jieun Yoo",
      "userId": "18119058923405700980"
     },
     "user_tz": -120
    },
    "id": "4720ce89-2eae-4016-a7c2-955ae4bbaae9"
   },
   "outputs": [
    {
     "name": "stderr",
     "output_type": "stream",
     "text": [
      "2022-09-28 18:07:04.292230: I tensorflow/stream_executor/cuda/cuda_gpu_executor.cc:939] successful NUMA node read from SysFS had negative value (-1), but there must be at least one NUMA node, so returning NUMA node zero\n",
      "2022-09-28 18:07:04.329310: I tensorflow/stream_executor/cuda/cuda_gpu_executor.cc:939] successful NUMA node read from SysFS had negative value (-1), but there must be at least one NUMA node, so returning NUMA node zero\n",
      "2022-09-28 18:07:04.329625: I tensorflow/stream_executor/cuda/cuda_gpu_executor.cc:939] successful NUMA node read from SysFS had negative value (-1), but there must be at least one NUMA node, so returning NUMA node zero\n",
      "2022-09-28 18:07:04.330839: I tensorflow/core/platform/cpu_feature_guard.cc:151] This TensorFlow binary is optimized with oneAPI Deep Neural Network Library (oneDNN) to use the following CPU instructions in performance-critical operations:  SSE4.1 SSE4.2 AVX AVX2 FMA\n",
      "To enable them in other operations, rebuild TensorFlow with the appropriate compiler flags.\n",
      "2022-09-28 18:07:04.336328: I tensorflow/stream_executor/cuda/cuda_gpu_executor.cc:939] successful NUMA node read from SysFS had negative value (-1), but there must be at least one NUMA node, so returning NUMA node zero\n",
      "2022-09-28 18:07:04.336640: I tensorflow/stream_executor/cuda/cuda_gpu_executor.cc:939] successful NUMA node read from SysFS had negative value (-1), but there must be at least one NUMA node, so returning NUMA node zero\n",
      "2022-09-28 18:07:04.336927: I tensorflow/stream_executor/cuda/cuda_gpu_executor.cc:939] successful NUMA node read from SysFS had negative value (-1), but there must be at least one NUMA node, so returning NUMA node zero\n",
      "2022-09-28 18:07:04.861835: I tensorflow/stream_executor/cuda/cuda_gpu_executor.cc:939] successful NUMA node read from SysFS had negative value (-1), but there must be at least one NUMA node, so returning NUMA node zero\n",
      "2022-09-28 18:07:04.862213: I tensorflow/stream_executor/cuda/cuda_gpu_executor.cc:939] successful NUMA node read from SysFS had negative value (-1), but there must be at least one NUMA node, so returning NUMA node zero\n",
      "2022-09-28 18:07:04.862503: I tensorflow/stream_executor/cuda/cuda_gpu_executor.cc:939] successful NUMA node read from SysFS had negative value (-1), but there must be at least one NUMA node, so returning NUMA node zero\n",
      "2022-09-28 18:07:04.862758: I tensorflow/core/common_runtime/gpu/gpu_device.cc:1525] Created device /job:localhost/replica:0/task:0/device:GPU:0 with 7919 MB memory:  -> device: 0, name: NVIDIA A100 80GB PCIe MIG 1g.10gb, pci bus id: 0000:05:00.0, compute capability: 8.0\n"
     ]
    }
   ],
   "source": [
    "model=CreateQModel(X_train.shape[1:], y_train.shape[-1])\n",
    "model.compile(optimizer=Adam(0.001),\n",
    "              loss='binary_crossentropy',\n",
    "              metrics=['accuracy'])"
   ]
  },
  {
   "cell_type": "code",
   "execution_count": 14,
   "id": "97c9baf1-74eb-4154-94de-d8e505b832dd",
   "metadata": {
    "colab": {
     "base_uri": "https://localhost:8080/"
    },
    "executionInfo": {
     "elapsed": 45141,
     "status": "ok",
     "timestamp": 1662549144765,
     "user": {
      "displayName": "Jieun Yoo",
      "userId": "18119058923405700980"
     },
     "user_tz": -120
    },
    "id": "97c9baf1-74eb-4154-94de-d8e505b832dd",
    "outputId": "249830b1-fd2a-49d6-d54d-c257cad51c4c"
   },
   "outputs": [
    {
     "name": "stdout",
     "output_type": "stream",
     "text": [
      "Epoch 1/200\n",
      " 42/672 [>.............................] - ETA: 2s - loss: 1.6175 - accuracy: 0.5513"
     ]
    },
    {
     "name": "stderr",
     "output_type": "stream",
     "text": [
      "2022-09-28 18:07:08.644472: I tensorflow/stream_executor/cuda/cuda_blas.cc:1774] TensorFloat-32 will be used for the matrix multiplication. This will only be logged once.\n"
     ]
    },
    {
     "name": "stdout",
     "output_type": "stream",
     "text": [
      "672/672 [==============================] - 5s 5ms/step - loss: 1.0160 - accuracy: 0.6228 - val_loss: 0.7629 - val_accuracy: 0.6602\n",
      "Epoch 2/200\n",
      "672/672 [==============================] - 3s 4ms/step - loss: 0.6792 - accuracy: 0.6712 - val_loss: 0.6324 - val_accuracy: 0.6694\n",
      "Epoch 3/200\n",
      "672/672 [==============================] - 3s 5ms/step - loss: 0.6238 - accuracy: 0.6883 - val_loss: 0.6024 - val_accuracy: 0.7015\n",
      "Epoch 4/200\n",
      "672/672 [==============================] - 3s 4ms/step - loss: 0.6160 - accuracy: 0.6955 - val_loss: 0.6173 - val_accuracy: 0.6924\n",
      "Epoch 5/200\n",
      "672/672 [==============================] - 3s 4ms/step - loss: 0.6095 - accuracy: 0.7028 - val_loss: 0.6061 - val_accuracy: 0.7084\n",
      "Epoch 6/200\n",
      "672/672 [==============================] - 3s 4ms/step - loss: 0.6100 - accuracy: 0.7072 - val_loss: 0.6153 - val_accuracy: 0.7115\n",
      "Epoch 7/200\n",
      "672/672 [==============================] - 3s 4ms/step - loss: 0.6040 - accuracy: 0.7120 - val_loss: 0.5932 - val_accuracy: 0.7168\n",
      "Epoch 8/200\n",
      "672/672 [==============================] - 3s 4ms/step - loss: 0.6011 - accuracy: 0.7114 - val_loss: 0.5855 - val_accuracy: 0.7053\n",
      "Epoch 9/200\n",
      "672/672 [==============================] - 3s 4ms/step - loss: 0.5998 - accuracy: 0.7164 - val_loss: 0.5840 - val_accuracy: 0.7203\n",
      "Epoch 10/200\n",
      "672/672 [==============================] - 3s 4ms/step - loss: 0.6050 - accuracy: 0.7193 - val_loss: 0.5824 - val_accuracy: 0.7200\n",
      "Epoch 11/200\n",
      "672/672 [==============================] - 3s 4ms/step - loss: 0.5949 - accuracy: 0.7177 - val_loss: 0.5927 - val_accuracy: 0.7234\n",
      "Epoch 12/200\n",
      "672/672 [==============================] - 3s 4ms/step - loss: 0.5928 - accuracy: 0.7206 - val_loss: 0.6541 - val_accuracy: 0.7105\n",
      "Epoch 13/200\n",
      "672/672 [==============================] - 3s 4ms/step - loss: 0.5958 - accuracy: 0.7220 - val_loss: 0.5977 - val_accuracy: 0.7173\n",
      "Epoch 14/200\n",
      "672/672 [==============================] - 3s 4ms/step - loss: 0.5903 - accuracy: 0.7235 - val_loss: 0.5783 - val_accuracy: 0.7301\n",
      "Epoch 15/200\n",
      "672/672 [==============================] - 3s 4ms/step - loss: 0.5932 - accuracy: 0.7230 - val_loss: 0.6067 - val_accuracy: 0.7177\n",
      "Epoch 16/200\n",
      "672/672 [==============================] - 3s 4ms/step - loss: 0.5896 - accuracy: 0.7251 - val_loss: 0.6078 - val_accuracy: 0.7205\n",
      "Epoch 17/200\n",
      "672/672 [==============================] - 3s 4ms/step - loss: 0.5890 - accuracy: 0.7266 - val_loss: 0.6024 - val_accuracy: 0.7234\n",
      "Epoch 18/200\n",
      "672/672 [==============================] - 3s 4ms/step - loss: 0.5829 - accuracy: 0.7271 - val_loss: 0.5879 - val_accuracy: 0.7243\n",
      "Epoch 19/200\n",
      "672/672 [==============================] - 3s 4ms/step - loss: 0.5808 - accuracy: 0.7278 - val_loss: 0.5915 - val_accuracy: 0.7254\n",
      "Epoch 20/200\n",
      "672/672 [==============================] - 3s 4ms/step - loss: 0.5787 - accuracy: 0.7284 - val_loss: 0.5750 - val_accuracy: 0.7253\n",
      "Epoch 21/200\n",
      "672/672 [==============================] - 3s 4ms/step - loss: 0.5776 - accuracy: 0.7286 - val_loss: 0.5847 - val_accuracy: 0.7228\n",
      "Epoch 22/200\n",
      "672/672 [==============================] - 3s 4ms/step - loss: 0.5767 - accuracy: 0.7275 - val_loss: 0.5899 - val_accuracy: 0.7179\n",
      "Epoch 23/200\n",
      "672/672 [==============================] - 3s 4ms/step - loss: 0.5752 - accuracy: 0.7276 - val_loss: 0.5707 - val_accuracy: 0.7295\n",
      "Epoch 24/200\n",
      "672/672 [==============================] - 3s 4ms/step - loss: 0.5751 - accuracy: 0.7284 - val_loss: 0.5966 - val_accuracy: 0.7119\n"
     ]
    }
   ],
   "source": [
    "es = EarlyStopping(monitor='val_accuracy', \n",
    "                                   mode='max', # don't minimize the accuracy!\n",
    "                                   patience=10,\n",
    "                                   restore_best_weights=True)\n",
    "\n",
    "history = model.fit(X_train,\n",
    "                    y_train,\n",
    "                    callbacks=[es],\n",
    "                    epochs=200, \n",
    "                    batch_size=512,\n",
    "                    validation_split=0.2,\n",
    "                    shuffle=True,\n",
    "                    verbose=1)"
   ]
  },
  {
   "cell_type": "code",
   "execution_count": 15,
   "id": "0bb4c82a-85d8-4e6c-9396-5ea7ec79e0c4",
   "metadata": {
    "colab": {
     "base_uri": "https://localhost:8080/",
     "height": 295
    },
    "executionInfo": {
     "elapsed": 15,
     "status": "ok",
     "timestamp": 1662549144766,
     "user": {
      "displayName": "Jieun Yoo",
      "userId": "18119058923405700980"
     },
     "user_tz": -120
    },
    "id": "0bb4c82a-85d8-4e6c-9396-5ea7ec79e0c4",
    "outputId": "664874f8-a83f-4560-bffc-a3ebec410988"
   },
   "outputs": [
    {
     "data": {
      "image/png": "[encoded data removed]",
      "text/plain": [
       "<Figure size 640x480 with 1 Axes>"
      ]
     },
     "metadata": {},
     "output_type": "display_data"
    }
   ],
   "source": [
    "history_dict = history.history\n",
    "loss_values = history_dict['loss'] \n",
    "val_loss_values = history_dict['val_loss'] \n",
    "epochs = range(1, len(loss_values) + 1) \n",
    "plt.plot(epochs, loss_values, 'bo', label='Training loss')\n",
    "plt.plot(epochs, val_loss_values, 'orange', label='Validation loss')\n",
    "plt.title('Training and validation loss')\n",
    "plt.xlabel('Epochs')\n",
    "plt.ylabel('Loss')\n",
    "plt.legend()\n",
    "plt.savefig('loss.png')"
   ]
  },
  {
   "cell_type": "code",
   "execution_count": 21,
   "id": "0c4da634-9a07-4808-93f1-afc1428c08d2",
   "metadata": {
    "colab": {
     "base_uri": "https://localhost:8080/",
     "height": 312
    },
    "executionInfo": {
     "elapsed": 13,
     "status": "ok",
     "timestamp": 1662549144766,
     "user": {
      "displayName": "Jieun Yoo",
      "userId": "18119058923405700980"
     },
     "user_tz": -120
    },
    "id": "0c4da634-9a07-4808-93f1-afc1428c08d2",
    "outputId": "d71e430e-a7eb-45df-9f1c-33c012cc072a"
   },
   "outputs": [
    {
     "data": {
      "image/png": "[encoded data removed]",
      "text/plain": [
       "<Figure size 640x480 with 1 Axes>"
      ]
     },
     "metadata": {},
     "output_type": "display_data"
    }
   ],
   "source": [
    "acc = history.history['accuracy']\n",
    "val_acc = history.history['val_accuracy']\n",
    "epochs = range(1, len(acc) + 1)\n",
    "plt.plot(epochs, acc, 'bo', label='Training accuracy')\n",
    "plt.plot(epochs, val_acc, 'orange', label='Validation accuracy')\n",
    "plt.title('Training and validation accuracy')\n",
    "plt.xlabel('Epochs')\n",
    "plt.ylabel('Accuracy')\n",
    "plt.legend()\n",
    "\n",
    "np.max(val_acc)\n",
    "plt.savefig('accuracyDropout0.2.png')\n",
    "plt.show()"
   ]
  },
  {
   "cell_type": "code",
   "execution_count": 17,
   "id": "1378681c-a72c-4380-84bd-9fcf5b782038",
   "metadata": {
    "colab": {
     "base_uri": "https://localhost:8080/"
    },
    "executionInfo": {
     "elapsed": 13852,
     "status": "ok",
     "timestamp": 1662549158607,
     "user": {
      "displayName": "Jieun Yoo",
      "userId": "18119058923405700980"
     },
     "user_tz": -120
    },
    "id": "1378681c-a72c-4380-84bd-9fcf5b782038",
    "outputId": "a0848d6d-8d74-4720-d56b-bc0f676e31cb"
   },
   "outputs": [],
   "source": [
    "model.predict(X_test) \n",
    "np.round(model.predict(X_test),0) \n",
    "preds = np.round(model.predict(X_test),0)\n",
    "#print(confusion_matrix(y_test, preds)) # order matters! (actual, predicted)\n",
    "#print(classification_report(y_test, preds))"
   ]
  },
  {
   "cell_type": "code",
   "execution_count": 18,
   "id": "19848f68-c8d8-469e-ba8e-60de256a4557",
   "metadata": {
    "executionInfo": {
     "elapsed": 3282,
     "status": "ok",
     "timestamp": 1662549161880,
     "user": {
      "displayName": "Jieun Yoo",
      "userId": "18119058923405700980"
     },
     "user_tz": -120
    },
    "id": "19848f68-c8d8-469e-ba8e-60de256a4557"
   },
   "outputs": [],
   "source": [
    "predictionsFiles = np.round(model.predict(X_test),0)"
   ]
  },
  {
   "cell_type": "code",
   "execution_count": 19,
   "id": "091327bd-28ed-4570-8f00-9315e209bf7e",
   "metadata": {
    "executionInfo": {
     "elapsed": 4,
     "status": "ok",
     "timestamp": 1662549162312,
     "user": {
      "displayName": "Jieun Yoo",
      "userId": "18119058923405700980"
     },
     "user_tz": -120
    },
    "id": "091327bd-28ed-4570-8f00-9315e209bf7e"
   },
   "outputs": [],
   "source": [
    "pd.DataFrame(predictionsFiles).to_csv(\"predictionsFilesDropout0.2.csv\",header='predict', index=False)"
   ]
  },
  {
   "cell_type": "code",
   "execution_count": 20,
   "id": "5fa23cc3-3f30-4cd4-85e5-ae6064869378",
   "metadata": {
    "executionInfo": {
     "elapsed": 3,
     "status": "ok",
     "timestamp": 1662549162312,
     "user": {
      "displayName": "Jieun Yoo",
      "userId": "18119058923405700980"
     },
     "user_tz": -120
    },
    "id": "5fa23cc3-3f30-4cd4-85e5-ae6064869378"
   },
   "outputs": [],
   "source": [
    "pd.DataFrame(y_test).to_csv(\"trueDropout0.2.csv\",header='true', index=False)"
   ]
  },
  {
   "cell_type": "code",
   "execution_count": null,
   "id": "caf53631-bfae-4276-9400-30bbf6bc5490",
   "metadata": {
    "executionInfo": {
     "elapsed": 3,
     "status": "ok",
     "timestamp": 1662549162312,
     "user": {
      "displayName": "Jieun Yoo",
      "userId": "18119058923405700980"
     },
     "user_tz": -120
    },
    "id": "caf53631-bfae-4276-9400-30bbf6bc5490"
   },
   "outputs": [],
   "source": []
  }
 ],
 "metadata": {
  "accelerator": "GPU",
  "colab": {
   "collapsed_sections": [],
   "provenance": []
  },
  "gpuClass": "standard",
  "kernelspec": {
   "display_name": "Python 3 (ipykernel)",
   "language": "python",
   "name": "py3-preamble"
  },
  "language_info": {
   "codemirror_mode": {
    "name": "ipython",
    "version": 3
   },
   "file_extension": ".py",
   "mimetype": "text/x-python",
   "name": "python",
   "nbconvert_exporter": "python",
   "pygments_lexer": "ipython3",
   "version": "3.9.13"
  }
 },
 "nbformat": 4,
 "nbformat_minor": 5
}
