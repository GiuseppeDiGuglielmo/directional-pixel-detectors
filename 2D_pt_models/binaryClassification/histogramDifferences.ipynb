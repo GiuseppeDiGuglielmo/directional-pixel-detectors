{
 "cells": [
  {
   "cell_type": "code",
   "execution_count": 1,
   "id": "bdb78c8b",
   "metadata": {},
   "outputs": [],
   "source": [
    "import matplotlib.pyplot as plt\n",
    "import numpy as np\n",
    "import pandas as pd\n",
    "from pandas import read_csv\n",
    "import math\n",
    "import seaborn as sns"
   ]
  },
  {
   "cell_type": "code",
   "execution_count": 34,
   "id": "f3ae0760",
   "metadata": {},
   "outputs": [],
   "source": [
    "df1 = pd.read_csv('truePT.csv')\n",
    "df2 = pd.read_csv('predictionsFiles.csv')\n",
    "df3 = pd.read_csv('true.csv')\n",
    "df2.columns.values[0] = \"predict\"\n",
    "df3.columns.values[0] = \"true\"\n",
    "df2['predict'] = df2['predict'].astype(int)"
   ]
  },
  {
   "cell_type": "code",
   "execution_count": 35,
   "id": "1db413fb",
   "metadata": {},
   "outputs": [
    {
     "data": {
      "text/html": [
       "<div>\n",
       "<style scoped>\n",
       "    .dataframe tbody tr th:only-of-type {\n",
       "        vertical-align: middle;\n",
       "    }\n",
       "\n",
       "    .dataframe tbody tr th {\n",
       "        vertical-align: top;\n",
       "    }\n",
       "\n",
       "    .dataframe thead th {\n",
       "        text-align: right;\n",
       "    }\n",
       "</style>\n",
       "<table border=\"1\" class=\"dataframe\">\n",
       "  <thead>\n",
       "    <tr style=\"text-align: right;\">\n",
       "      <th></th>\n",
       "      <th>pt</th>\n",
       "      <th>predict</th>\n",
       "      <th>true</th>\n",
       "    </tr>\n",
       "  </thead>\n",
       "  <tbody>\n",
       "    <tr>\n",
       "      <th>0</th>\n",
       "      <td>0.195765</td>\n",
       "      <td>0</td>\n",
       "      <td>0</td>\n",
       "    </tr>\n",
       "    <tr>\n",
       "      <th>1</th>\n",
       "      <td>0.263803</td>\n",
       "      <td>0</td>\n",
       "      <td>0</td>\n",
       "    </tr>\n",
       "    <tr>\n",
       "      <th>2</th>\n",
       "      <td>0.191804</td>\n",
       "      <td>1</td>\n",
       "      <td>0</td>\n",
       "    </tr>\n",
       "    <tr>\n",
       "      <th>3</th>\n",
       "      <td>0.306821</td>\n",
       "      <td>0</td>\n",
       "      <td>1</td>\n",
       "    </tr>\n",
       "    <tr>\n",
       "      <th>4</th>\n",
       "      <td>0.266454</td>\n",
       "      <td>1</td>\n",
       "      <td>0</td>\n",
       "    </tr>\n",
       "    <tr>\n",
       "      <th>...</th>\n",
       "      <td>...</td>\n",
       "      <td>...</td>\n",
       "      <td>...</td>\n",
       "    </tr>\n",
       "    <tr>\n",
       "      <th>2688</th>\n",
       "      <td>0.289953</td>\n",
       "      <td>0</td>\n",
       "      <td>0</td>\n",
       "    </tr>\n",
       "    <tr>\n",
       "      <th>2689</th>\n",
       "      <td>0.092671</td>\n",
       "      <td>0</td>\n",
       "      <td>0</td>\n",
       "    </tr>\n",
       "    <tr>\n",
       "      <th>2690</th>\n",
       "      <td>0.297414</td>\n",
       "      <td>1</td>\n",
       "      <td>0</td>\n",
       "    </tr>\n",
       "    <tr>\n",
       "      <th>2691</th>\n",
       "      <td>0.171515</td>\n",
       "      <td>0</td>\n",
       "      <td>0</td>\n",
       "    </tr>\n",
       "    <tr>\n",
       "      <th>2692</th>\n",
       "      <td>0.195763</td>\n",
       "      <td>0</td>\n",
       "      <td>0</td>\n",
       "    </tr>\n",
       "  </tbody>\n",
       "</table>\n",
       "<p>2693 rows × 3 columns</p>\n",
       "</div>"
      ],
      "text/plain": [
       "            pt  predict  true\n",
       "0     0.195765        0     0\n",
       "1     0.263803        0     0\n",
       "2     0.191804        1     0\n",
       "3     0.306821        0     1\n",
       "4     0.266454        1     0\n",
       "...        ...      ...   ...\n",
       "2688  0.289953        0     0\n",
       "2689  0.092671        0     0\n",
       "2690  0.297414        1     0\n",
       "2691  0.171515        0     0\n",
       "2692  0.195763        0     0\n",
       "\n",
       "[2693 rows x 3 columns]"
      ]
     },
     "execution_count": 35,
     "metadata": {},
     "output_type": "execute_result"
    }
   ],
   "source": [
    "concatenate = pd.concat([df1,df2, df3], axis=1)\n",
    "concatenate"
   ]
  },
  {
   "cell_type": "code",
   "execution_count": 36,
   "id": "4a529d93",
   "metadata": {},
   "outputs": [
    {
     "data": {
      "text/plain": [
       "False"
      ]
     },
     "execution_count": 36,
     "metadata": {},
     "output_type": "execute_result"
    }
   ],
   "source": [
    "concatenate['predict'].equals(concatenate['true'])\n"
   ]
  },
  {
   "cell_type": "code",
   "execution_count": 37,
   "id": "e7cce753",
   "metadata": {},
   "outputs": [],
   "source": [
    "concatenate['predictCorrect'] = np.where(concatenate['predict'] == concatenate['true'], 'correct', 'wrong')"
   ]
  },
  {
   "cell_type": "code",
   "execution_count": 38,
   "id": "bfb8a36e",
   "metadata": {},
   "outputs": [
    {
     "data": {
      "text/html": [
       "<div>\n",
       "<style scoped>\n",
       "    .dataframe tbody tr th:only-of-type {\n",
       "        vertical-align: middle;\n",
       "    }\n",
       "\n",
       "    .dataframe tbody tr th {\n",
       "        vertical-align: top;\n",
       "    }\n",
       "\n",
       "    .dataframe thead th {\n",
       "        text-align: right;\n",
       "    }\n",
       "</style>\n",
       "<table border=\"1\" class=\"dataframe\">\n",
       "  <thead>\n",
       "    <tr style=\"text-align: right;\">\n",
       "      <th></th>\n",
       "      <th>pt</th>\n",
       "      <th>predict</th>\n",
       "      <th>true</th>\n",
       "      <th>predictCorrect</th>\n",
       "    </tr>\n",
       "  </thead>\n",
       "  <tbody>\n",
       "    <tr>\n",
       "      <th>0</th>\n",
       "      <td>0.195765</td>\n",
       "      <td>0</td>\n",
       "      <td>0</td>\n",
       "      <td>correct</td>\n",
       "    </tr>\n",
       "    <tr>\n",
       "      <th>1</th>\n",
       "      <td>0.263803</td>\n",
       "      <td>0</td>\n",
       "      <td>0</td>\n",
       "      <td>correct</td>\n",
       "    </tr>\n",
       "    <tr>\n",
       "      <th>2</th>\n",
       "      <td>0.191804</td>\n",
       "      <td>1</td>\n",
       "      <td>0</td>\n",
       "      <td>wrong</td>\n",
       "    </tr>\n",
       "    <tr>\n",
       "      <th>3</th>\n",
       "      <td>0.306821</td>\n",
       "      <td>0</td>\n",
       "      <td>1</td>\n",
       "      <td>wrong</td>\n",
       "    </tr>\n",
       "    <tr>\n",
       "      <th>4</th>\n",
       "      <td>0.266454</td>\n",
       "      <td>1</td>\n",
       "      <td>0</td>\n",
       "      <td>wrong</td>\n",
       "    </tr>\n",
       "    <tr>\n",
       "      <th>...</th>\n",
       "      <td>...</td>\n",
       "      <td>...</td>\n",
       "      <td>...</td>\n",
       "      <td>...</td>\n",
       "    </tr>\n",
       "    <tr>\n",
       "      <th>2688</th>\n",
       "      <td>0.289953</td>\n",
       "      <td>0</td>\n",
       "      <td>0</td>\n",
       "      <td>correct</td>\n",
       "    </tr>\n",
       "    <tr>\n",
       "      <th>2689</th>\n",
       "      <td>0.092671</td>\n",
       "      <td>0</td>\n",
       "      <td>0</td>\n",
       "      <td>correct</td>\n",
       "    </tr>\n",
       "    <tr>\n",
       "      <th>2690</th>\n",
       "      <td>0.297414</td>\n",
       "      <td>1</td>\n",
       "      <td>0</td>\n",
       "      <td>wrong</td>\n",
       "    </tr>\n",
       "    <tr>\n",
       "      <th>2691</th>\n",
       "      <td>0.171515</td>\n",
       "      <td>0</td>\n",
       "      <td>0</td>\n",
       "      <td>correct</td>\n",
       "    </tr>\n",
       "    <tr>\n",
       "      <th>2692</th>\n",
       "      <td>0.195763</td>\n",
       "      <td>0</td>\n",
       "      <td>0</td>\n",
       "      <td>correct</td>\n",
       "    </tr>\n",
       "  </tbody>\n",
       "</table>\n",
       "<p>2693 rows × 4 columns</p>\n",
       "</div>"
      ],
      "text/plain": [
       "            pt  predict  true predictCorrect\n",
       "0     0.195765        0     0        correct\n",
       "1     0.263803        0     0        correct\n",
       "2     0.191804        1     0          wrong\n",
       "3     0.306821        0     1          wrong\n",
       "4     0.266454        1     0          wrong\n",
       "...        ...      ...   ...            ...\n",
       "2688  0.289953        0     0        correct\n",
       "2689  0.092671        0     0        correct\n",
       "2690  0.297414        1     0          wrong\n",
       "2691  0.171515        0     0        correct\n",
       "2692  0.195763        0     0        correct\n",
       "\n",
       "[2693 rows x 4 columns]"
      ]
     },
     "execution_count": 38,
     "metadata": {},
     "output_type": "execute_result"
    }
   ],
   "source": [
    "concatenate"
   ]
  },
  {
   "cell_type": "code",
   "execution_count": 104,
   "id": "d7ebd980",
   "metadata": {},
   "outputs": [
    {
     "data": {
      "image/png": "[encoded data removed]",
      "text/plain": [
       "<Figure size 720x432 with 1 Axes>"
      ]
     },
     "metadata": {
      "needs_background": "light"
     },
     "output_type": "display_data"
    }
   ],
   "source": [
    "import seaborn as sns\n",
    "fig = plt.figure(figsize=(10,6))\n",
    "sns.distplot( concatenate.loc[concatenate['predictCorrect'] == 'correct']['pt'] , color=\"skyblue\", label=\"Ok\", kde=False, bins=100)\n",
    "#sns.distplot( concatenate.loc[concatenate['predictCorrect'] == 'wrong']['pt'] , color=\"red\", label=\"No\", kde=False);\n",
    "plt.xlabel('true pt (GeV)')\n",
    "plt.ylabel('frequency')\n",
    "plt.xlim([0,5])\n",
    "            \n",
    "#labels = np.linspace(0, 5, 10) \n",
    "labels = [0,0.2,0.4,0.6,0.8,1.0,1.2,1.4,1.6,1.8,2.0,2.2,2.4,2.6,2.8,3.0,3.2,3.4,3.6,3.8,4.0, 4.2,4.4,4.6,4.8,5.0]\n",
    "ax = plt.gca()\n",
    "ax.get_xlim()\n",
    "ax.set_xticks(labels) \n",
    "plt.title(\"pt of correctly identified tracks\")\n",
    "plt.savefig('pt-true.png')"
   ]
  },
  {
   "cell_type": "code",
   "execution_count": 103,
   "id": "bbc30c7e",
   "metadata": {},
   "outputs": [
    {
     "data": {
      "image/png": "[encoded data removed]",
      "text/plain": [
       "<Figure size 720x432 with 1 Axes>"
      ]
     },
     "metadata": {
      "needs_background": "light"
     },
     "output_type": "display_data"
    }
   ],
   "source": [
    "import seaborn as sns\n",
    "fig = plt.figure(figsize=(10,6))\n",
    "#sns.distplot( concatenate.loc[concatenate['predictCorrect'] == 'correct']['pt'] , color=\"skyblue\", label=\"Ok\", kde=False)\n",
    "sns.distplot( concatenate.loc[concatenate['predictCorrect'] == 'wrong']['pt'] , color=\"red\", label=\"No\", kde=False, bins=100);\n",
    "plt.xlabel('true pt (GeV)')\n",
    "plt.ylabel('frequency')\n",
    "plt.xlim([0,5])\n",
    "            \n",
    "#labels = np.linspace(0, 5, 10) \n",
    "labels = [0,0.2,0.4,0.6,0.8,1.0,1.2,1.4,1.6,1.8,2.0,2.2,2.4,2.6,2.8,3.0,3.2,3.4,3.6,3.8,4.0, 4.2,4.4,4.6,4.8,5.0]\n",
    "ax = plt.gca()\n",
    "ax.get_xlim()\n",
    "ax.set_xticks(labels) \n",
    "plt.title(\"pt of incorrectly identified tracks\")\n",
    "plt.savefig('incorrectpt-true.png')"
   ]
  },
  {
   "cell_type": "code",
   "execution_count": 102,
   "id": "8c4cc638",
   "metadata": {},
   "outputs": [
    {
     "data": {
      "image/png": "[encoded data removed]",
      "text/plain": [
       "<Figure size 720x432 with 1 Axes>"
      ]
     },
     "metadata": {
      "needs_background": "light"
     },
     "output_type": "display_data"
    }
   ],
   "source": [
    "import seaborn as sns\n",
    "fig = plt.figure(figsize=(10,6))\n",
    "sns.distplot( concatenate.loc[concatenate['predictCorrect'] == 'correct']['pt'] , color=\"skyblue\", label=\"Ok\", kde=False, bins=100)\n",
    "sns.distplot( concatenate.loc[concatenate['predictCorrect'] == 'wrong']['pt'] , color=\"red\", label=\"No\", kde=False, bins=100);\n",
    "plt.xlabel('true pt (GeV)')\n",
    "plt.ylabel('frequency')\n",
    "plt.title(\"pt of tracks\")\n",
    "\n",
    "plt.xlim([0,5])\n",
    "            \n",
    "#labels = np.linspace(0, 5, 10) \n",
    "labels = [0,0.2,0.4,0.6,0.8,1.0,1.2,1.4,1.6,1.8,2.0,2.2,2.4,2.6,2.8,3.0,3.2,3.4,3.6,3.8,4.0, 4.2,4.4,4.6,4.8,5.0]\n",
    "ax = plt.gca()\n",
    "ax.get_xlim()\n",
    "ax.set_xticks(labels) \n",
    "\n",
    "fig.legend(labels=['pt of correctlyIdentified clusters','pt of incorrectlyIdentified clusters'])\n",
    "plt.savefig('overlay-true.png')"
   ]
  },
  {
   "cell_type": "code",
   "execution_count": 101,
   "id": "5ef414c7",
   "metadata": {},
   "outputs": [
    {
     "data": {
      "image/png": "[encoded data removed]",
      "text/plain": [
       "<Figure size 720x432 with 1 Axes>"
      ]
     },
     "metadata": {
      "needs_background": "light"
     },
     "output_type": "display_data"
    }
   ],
   "source": [
    "import seaborn as sns\n",
    "import numpy as np\n",
    "import pandas as pd\n",
    "import seaborn as sns\n",
    "import matplotlib.pyplot as plt\n",
    "\n",
    "fig = plt.figure(figsize=(10,6))\n",
    "myPlot = sns.distplot(concatenate['pt'],kde=False, bins=100)\n",
    "\n",
    "plt.xlim([0,5])\n",
    "            \n",
    "#labels = np.linspace(0, 5, 10) \n",
    "labels = [0,0.2, 0.4,0.6,0.8,1.0,1.2,1.4,1.6,1.8,2.0,2.2,2.4,2.6,2.8,3.0,3.2,3.4,3.6,3.8,4.0, 4.2,4.4,4.6,4.8,5.0]\n",
    "ax = plt.gca()\n",
    "ax.get_xlim()\n",
    "ax.set_xticks(labels) \n",
    "#sns.distplot( concatenate.loc[concatenate['predictCorrect'] == 'correct']['pt'] , color=\"skyblue\", label=\"Ok\", kde=False)\n",
    "#sns.distplot( concatenate.loc[concatenate['predictCorrect'] == 'wrong']['pt'] , color=\"red\", label=\"No\", kde=False);\n",
    "plt.xlabel('true pt (GeV)')\n",
    "plt.ylabel('frequency')\n",
    "plt.title(\"true pt of tracks\")\n",
    "plt.savefig('pt-trueAll.png')"
   ]
  },
  {
   "cell_type": "code",
   "execution_count": 107,
   "id": "b8d4840b",
   "metadata": {},
   "outputs": [
    {
     "data": {
      "image/png": "[encoded data removed]",
      "text/plain": [
       "<Figure size 720x432 with 1 Axes>"
      ]
     },
     "metadata": {
      "needs_background": "light"
     },
     "output_type": "display_data"
    }
   ],
   "source": [
    "import seaborn as sns\n",
    "import numpy as np\n",
    "import pandas as pd\n",
    "import seaborn as sns\n",
    "import matplotlib.pyplot as plt\n",
    "\n",
    "fig = plt.figure(figsize=(10,6))\n",
    "myPlot = sns.distplot(concatenate['pt'],kde=False, bins=100)\n",
    "\n",
    "plt.xlim([0,1])\n",
    "            \n",
    "#labels = np.linspace(0, 5, 10) \n",
    "labels = [0,0.3]\n",
    "ax = plt.gca()\n",
    "ax.get_xlim()\n",
    "ax.set_xticks(labels) \n",
    "#sns.distplot( concatenate.loc[concatenate['predictCorrect'] == 'correct']['pt'] , color=\"skyblue\", label=\"Ok\", kde=False)\n",
    "#sns.distplot( concatenate.loc[concatenate['predictCorrect'] == 'wrong']['pt'] , color=\"red\", label=\"No\", kde=False);\n",
    "plt.xlabel('true pt (GeV)')\n",
    "plt.ylabel('frequency')\n",
    "plt.title(\"true pt of tracks\")\n",
    "plt.savefig('pt-trueAll.png')"
   ]
  },
  {
   "cell_type": "code",
   "execution_count": 111,
   "id": "2183e8a7",
   "metadata": {},
   "outputs": [
    {
     "data": {
      "image/png": "[encoded data removed]",
      "text/plain": [
       "<Figure size 720x432 with 1 Axes>"
      ]
     },
     "metadata": {
      "needs_background": "light"
     },
     "output_type": "display_data"
    }
   ],
   "source": [
    "import seaborn as sns\n",
    "fig = plt.figure(figsize=(10,6))\n",
    "sns.distplot( concatenate.loc[concatenate['predictCorrect'] == 'correct']['pt'] , color=\"skyblue\", label=\"Ok\", kde=False, bins=100)\n",
    "sns.distplot( concatenate.loc[concatenate['predictCorrect'] == 'wrong']['pt'] , color=\"red\", label=\"No\", kde=False, bins=100);\n",
    "plt.xlabel('true pt (GeV)')\n",
    "plt.ylabel('frequency')\n",
    "plt.title(\"pt of tracks\")\n",
    "\n",
    "plt.xlim([0,1])\n",
    "            \n",
    "#labels = np.linspace(0, 5, 10) \n",
    "labels = [0,0.3]\n",
    "ax = plt.gca()\n",
    "ax.get_xlim()\n",
    "ax.set_xticks(labels) \n",
    "\n",
    "fig.legend(labels=['pt of correctlyIdentified clusters','pt of incorrectlyIdentified clusters'])\n",
    "plt.savefig('overlay-trueZoomedLeft.png')"
   ]
  },
  {
   "cell_type": "code",
   "execution_count": 113,
   "id": "2ca3df4a",
   "metadata": {},
   "outputs": [
    {
     "data": {
      "image/png": "[encoded data removed]",
      "text/plain": [
       "<Figure size 720x432 with 1 Axes>"
      ]
     },
     "metadata": {
      "needs_background": "light"
     },
     "output_type": "display_data"
    }
   ],
   "source": [
    "import seaborn as sns\n",
    "fig = plt.figure(figsize=(10,6))\n",
    "sns.distplot( concatenate.loc[concatenate['predictCorrect'] == 'correct']['pt'] , color=\"skyblue\", label=\"Ok\", kde=False, bins=100)\n",
    "sns.distplot( concatenate.loc[concatenate['predictCorrect'] == 'wrong']['pt'] , color=\"red\", label=\"No\", kde=False, bins=100);\n",
    "plt.xlabel('true pt (GeV)')\n",
    "plt.ylabel('frequency')\n",
    "plt.title(\"pt of tracks\")\n",
    "\n",
    "plt.xlim([2,5])\n",
    "            \n",
    "#labels = np.linspace(0, 5, 10) \n",
    "labels = [3.0,4.0,5.0]\n",
    "ax = plt.gca()\n",
    "ax.get_xlim()\n",
    "ax.set_xticks(labels) \n",
    "plt.ylim([0,50])\n",
    "\n",
    "fig.legend(labels=['pt of correctlyIdentified clusters','pt of incorrectlyIdentified clusters'])\n",
    "plt.savefig('overlay-trueZoomedRight.png')"
   ]
  }
 ],
 "metadata": {
  "kernelspec": {
   "display_name": "Python 3 (ipykernel)",
   "language": "python",
   "name": "python3"
  },
  "language_info": {
   "codemirror_mode": {
    "name": "ipython",
    "version": 3
   },
   "file_extension": ".py",
   "mimetype": "text/x-python",
   "name": "python",
   "nbconvert_exporter": "python",
   "pygments_lexer": "ipython3",
   "version": "3.9.4"
  }
 },
 "nbformat": 4,
 "nbformat_minor": 5
}
