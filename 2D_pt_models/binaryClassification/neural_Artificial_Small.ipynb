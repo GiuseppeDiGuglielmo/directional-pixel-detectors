{
 "cells": [
  {
   "cell_type": "code",
   "execution_count": 1,
   "id": "5fa7c5bf",
   "metadata": {},
   "outputs": [],
   "source": [
    "#this code was heavily borrowed from: https://medium.com/luca-chuangs-bapm-notes/build-a-neural-network-in-python-binary-classification-49596d7dcabf\n",
    "from sklearn.model_selection import train_test_split\n",
    "from sklearn.metrics import mean_squared_error\n",
    "from sklearn.preprocessing import StandardScaler\n",
    "import tensorflow as tf\n",
    "from tensorflow.keras import datasets, layers, models\n",
    "import keras\n",
    "from keras.models import Sequential\n",
    "from keras.layers import Dense, Dropout, Flatten\n",
    "from keras.layers import Conv2D, MaxPooling2D\n",
    "from keras.callbacks import CSVLogger\n",
    "from keras.callbacks import EarlyStopping\n",
    "import matplotlib.pyplot as plt\n",
    "import numpy as np\n",
    "import pandas as pd\n",
    "from pandas import read_csv\n",
    "import math\n",
    "import seaborn as sns"
   ]
  },
  {
   "cell_type": "code",
   "execution_count": 2,
   "id": "42ce325e",
   "metadata": {},
   "outputs": [
    {
     "data": {
      "text/html": [
       "<div>\n",
       "<style scoped>\n",
       "    .dataframe tbody tr th:only-of-type {\n",
       "        vertical-align: middle;\n",
       "    }\n",
       "\n",
       "    .dataframe tbody tr th {\n",
       "        vertical-align: top;\n",
       "    }\n",
       "\n",
       "    .dataframe thead th {\n",
       "        text-align: right;\n",
       "    }\n",
       "</style>\n",
       "<table border=\"1\" class=\"dataframe\">\n",
       "  <thead>\n",
       "    <tr style=\"text-align: right;\">\n",
       "      <th></th>\n",
       "      <th>y-size</th>\n",
       "      <th>y-local</th>\n",
       "    </tr>\n",
       "  </thead>\n",
       "  <tbody>\n",
       "    <tr>\n",
       "      <th>0</th>\n",
       "      <td>4</td>\n",
       "      <td>1.373240</td>\n",
       "    </tr>\n",
       "    <tr>\n",
       "      <th>1</th>\n",
       "      <td>4</td>\n",
       "      <td>-4.944870</td>\n",
       "    </tr>\n",
       "    <tr>\n",
       "      <th>2</th>\n",
       "      <td>4</td>\n",
       "      <td>-7.841000</td>\n",
       "    </tr>\n",
       "    <tr>\n",
       "      <th>3</th>\n",
       "      <td>3</td>\n",
       "      <td>0.978565</td>\n",
       "    </tr>\n",
       "    <tr>\n",
       "      <th>4</th>\n",
       "      <td>7</td>\n",
       "      <td>-7.251630</td>\n",
       "    </tr>\n",
       "    <tr>\n",
       "      <th>...</th>\n",
       "      <td>...</td>\n",
       "      <td>...</td>\n",
       "    </tr>\n",
       "    <tr>\n",
       "      <th>13459</th>\n",
       "      <td>5</td>\n",
       "      <td>-4.636650</td>\n",
       "    </tr>\n",
       "    <tr>\n",
       "      <th>13460</th>\n",
       "      <td>5</td>\n",
       "      <td>1.955300</td>\n",
       "    </tr>\n",
       "    <tr>\n",
       "      <th>13461</th>\n",
       "      <td>2</td>\n",
       "      <td>7.074700</td>\n",
       "    </tr>\n",
       "    <tr>\n",
       "      <th>13462</th>\n",
       "      <td>6</td>\n",
       "      <td>0.127066</td>\n",
       "    </tr>\n",
       "    <tr>\n",
       "      <th>13463</th>\n",
       "      <td>7</td>\n",
       "      <td>-6.675040</td>\n",
       "    </tr>\n",
       "  </tbody>\n",
       "</table>\n",
       "<p>13464 rows × 2 columns</p>\n",
       "</div>"
      ],
      "text/plain": [
       "       y-size   y-local\n",
       "0           4  1.373240\n",
       "1           4 -4.944870\n",
       "2           4 -7.841000\n",
       "3           3  0.978565\n",
       "4           7 -7.251630\n",
       "...       ...       ...\n",
       "13459       5 -4.636650\n",
       "13460       5  1.955300\n",
       "13461       2  7.074700\n",
       "13462       6  0.127066\n",
       "13463       7 -6.675040\n",
       "\n",
       "[13464 rows x 2 columns]"
      ]
     },
     "execution_count": 2,
     "metadata": {},
     "output_type": "execute_result"
    }
   ],
   "source": [
    "df1 = pd.read_csv('input.csv')\n",
    "df1"
   ]
  },
  {
   "cell_type": "code",
   "execution_count": 3,
   "id": "f5eea45a",
   "metadata": {},
   "outputs": [
    {
     "data": {
      "text/html": [
       "<div>\n",
       "<style scoped>\n",
       "    .dataframe tbody tr th:only-of-type {\n",
       "        vertical-align: middle;\n",
       "    }\n",
       "\n",
       "    .dataframe tbody tr th {\n",
       "        vertical-align: top;\n",
       "    }\n",
       "\n",
       "    .dataframe thead th {\n",
       "        text-align: right;\n",
       "    }\n",
       "</style>\n",
       "<table border=\"1\" class=\"dataframe\">\n",
       "  <thead>\n",
       "    <tr style=\"text-align: right;\">\n",
       "      <th></th>\n",
       "      <th>pt</th>\n",
       "    </tr>\n",
       "  </thead>\n",
       "  <tbody>\n",
       "    <tr>\n",
       "      <th>0</th>\n",
       "      <td>0</td>\n",
       "    </tr>\n",
       "    <tr>\n",
       "      <th>1</th>\n",
       "      <td>1</td>\n",
       "    </tr>\n",
       "    <tr>\n",
       "      <th>2</th>\n",
       "      <td>1</td>\n",
       "    </tr>\n",
       "    <tr>\n",
       "      <th>3</th>\n",
       "      <td>0</td>\n",
       "    </tr>\n",
       "    <tr>\n",
       "      <th>4</th>\n",
       "      <td>0</td>\n",
       "    </tr>\n",
       "    <tr>\n",
       "      <th>...</th>\n",
       "      <td>...</td>\n",
       "    </tr>\n",
       "    <tr>\n",
       "      <th>13459</th>\n",
       "      <td>0</td>\n",
       "    </tr>\n",
       "    <tr>\n",
       "      <th>13460</th>\n",
       "      <td>0</td>\n",
       "    </tr>\n",
       "    <tr>\n",
       "      <th>13461</th>\n",
       "      <td>0</td>\n",
       "    </tr>\n",
       "    <tr>\n",
       "      <th>13462</th>\n",
       "      <td>0</td>\n",
       "    </tr>\n",
       "    <tr>\n",
       "      <th>13463</th>\n",
       "      <td>0</td>\n",
       "    </tr>\n",
       "  </tbody>\n",
       "</table>\n",
       "<p>13464 rows × 1 columns</p>\n",
       "</div>"
      ],
      "text/plain": [
       "       pt\n",
       "0       0\n",
       "1       1\n",
       "2       1\n",
       "3       0\n",
       "4       0\n",
       "...    ..\n",
       "13459   0\n",
       "13460   0\n",
       "13461   0\n",
       "13462   0\n",
       "13463   0\n",
       "\n",
       "[13464 rows x 1 columns]"
      ]
     },
     "execution_count": 3,
     "metadata": {},
     "output_type": "execute_result"
    }
   ],
   "source": [
    "df2 = pd.read_csv('labels.csv')\n",
    "df2"
   ]
  },
  {
   "cell_type": "code",
   "execution_count": 4,
   "id": "1fb1aeb2",
   "metadata": {},
   "outputs": [
    {
     "name": "stdout",
     "output_type": "stream",
     "text": [
      "(13464, 2) (13464, 1)\n",
      "(10771, 2) (2693, 2) (10771, 1) (2693, 1)\n"
     ]
    }
   ],
   "source": [
    "X = df1.values\n",
    "y = df2.values\n",
    "X_train, X_test, y_train, y_test = train_test_split(X,y,test_size = 0.20, random_state = 0)\n",
    "print(X.shape, y.shape)\n",
    "print(X_train.shape, X_test.shape, y_train.shape, y_test.shape)\n"
   ]
  },
  {
   "cell_type": "code",
   "execution_count": 5,
   "id": "61da15e3",
   "metadata": {},
   "outputs": [],
   "source": [
    "scaler = StandardScaler()\n",
    "X_train = scaler.fit_transform(X_train.reshape(-1, X_train.shape[-1])).reshape(X_train.shape)\n",
    "X_test = scaler.transform(X_test.reshape(-1, X_test.shape[-1])).reshape(X_test.shape)"
   ]
  },
  {
   "cell_type": "code",
   "execution_count": 7,
   "id": "bbfe5f13",
   "metadata": {},
   "outputs": [
    {
     "name": "stdout",
     "output_type": "stream",
     "text": [
      "Model: \"sequential_1\"\n",
      "_________________________________________________________________\n",
      " Layer (type)                Output Shape              Param #   \n",
      "=================================================================\n",
      " dense_3 (Dense)             (None, 16)                48        \n",
      "                                                                 \n",
      " dense_4 (Dense)             (None, 16)                272       \n",
      "                                                                 \n",
      " dense_5 (Dense)             (None, 1)                 17        \n",
      "                                                                 \n",
      "=================================================================\n",
      "Total params: 337\n",
      "Trainable params: 337\n",
      "Non-trainable params: 0\n",
      "_________________________________________________________________\n",
      "Epoch 1/80\n",
      "1078/1078 [==============================] - 1s 941us/step - loss: 0.6597 - accuracy: 0.5978 - val_loss: 0.6359 - val_accuracy: 0.6914\n",
      "Epoch 2/80\n",
      "1078/1078 [==============================] - 1s 850us/step - loss: 0.6162 - accuracy: 0.6827 - val_loss: 0.6004 - val_accuracy: 0.7089\n",
      "Epoch 3/80\n",
      "1078/1078 [==============================] - 1s 881us/step - loss: 0.5915 - accuracy: 0.7056 - val_loss: 0.5855 - val_accuracy: 0.7111\n",
      "Epoch 4/80\n",
      "1078/1078 [==============================] - 1s 822us/step - loss: 0.5836 - accuracy: 0.7052 - val_loss: 0.5783 - val_accuracy: 0.7052\n",
      "Epoch 5/80\n",
      "1078/1078 [==============================] - 1s 750us/step - loss: 0.5801 - accuracy: 0.7062 - val_loss: 0.5736 - val_accuracy: 0.7174\n",
      "Epoch 6/80\n",
      "1078/1078 [==============================] - 1s 768us/step - loss: 0.5759 - accuracy: 0.7119 - val_loss: 0.5728 - val_accuracy: 0.7174\n",
      "Epoch 7/80\n",
      "1078/1078 [==============================] - 1s 757us/step - loss: 0.5751 - accuracy: 0.7111 - val_loss: 0.5779 - val_accuracy: 0.6977\n",
      "Epoch 8/80\n",
      "1078/1078 [==============================] - 1s 754us/step - loss: 0.5733 - accuracy: 0.7130 - val_loss: 0.5669 - val_accuracy: 0.7152\n",
      "Epoch 9/80\n",
      "1078/1078 [==============================] - 1s 754us/step - loss: 0.5708 - accuracy: 0.7142 - val_loss: 0.5658 - val_accuracy: 0.7144\n",
      "Epoch 10/80\n",
      "1078/1078 [==============================] - 1s 755us/step - loss: 0.5715 - accuracy: 0.7092 - val_loss: 0.5791 - val_accuracy: 0.7141\n",
      "Epoch 11/80\n",
      "1078/1078 [==============================] - 1s 770us/step - loss: 0.5693 - accuracy: 0.7130 - val_loss: 0.5644 - val_accuracy: 0.7167\n",
      "Epoch 12/80\n",
      "1078/1078 [==============================] - 1s 755us/step - loss: 0.5668 - accuracy: 0.7132 - val_loss: 0.5725 - val_accuracy: 0.7167\n",
      "Epoch 13/80\n",
      "1078/1078 [==============================] - 1s 847us/step - loss: 0.5648 - accuracy: 0.7140 - val_loss: 0.5666 - val_accuracy: 0.7141\n",
      "Epoch 14/80\n",
      "1078/1078 [==============================] - 1s 849us/step - loss: 0.5635 - accuracy: 0.7129 - val_loss: 0.5609 - val_accuracy: 0.7196\n",
      "Epoch 15/80\n",
      "1078/1078 [==============================] - 1s 829us/step - loss: 0.5612 - accuracy: 0.7135 - val_loss: 0.5575 - val_accuracy: 0.7200\n",
      "Epoch 16/80\n",
      "1078/1078 [==============================] - 1s 738us/step - loss: 0.5592 - accuracy: 0.7113 - val_loss: 0.5546 - val_accuracy: 0.7137\n",
      "Epoch 17/80\n",
      "1078/1078 [==============================] - 1s 738us/step - loss: 0.5578 - accuracy: 0.7129 - val_loss: 0.5550 - val_accuracy: 0.7141\n",
      "Epoch 18/80\n",
      "1078/1078 [==============================] - 1s 723us/step - loss: 0.5577 - accuracy: 0.7139 - val_loss: 0.5620 - val_accuracy: 0.7163\n",
      "Epoch 19/80\n",
      "1078/1078 [==============================] - 1s 729us/step - loss: 0.5576 - accuracy: 0.7096 - val_loss: 0.5513 - val_accuracy: 0.7126\n",
      "Epoch 20/80\n",
      "1078/1078 [==============================] - 1s 753us/step - loss: 0.5570 - accuracy: 0.7128 - val_loss: 0.5610 - val_accuracy: 0.7044\n",
      "Epoch 21/80\n",
      "1078/1078 [==============================] - 1s 801us/step - loss: 0.5568 - accuracy: 0.7124 - val_loss: 0.5541 - val_accuracy: 0.7148\n",
      "Epoch 22/80\n",
      "1078/1078 [==============================] - 1s 812us/step - loss: 0.5558 - accuracy: 0.7161 - val_loss: 0.5546 - val_accuracy: 0.7118\n",
      "Epoch 23/80\n",
      "1078/1078 [==============================] - 1s 750us/step - loss: 0.5562 - accuracy: 0.7120 - val_loss: 0.5508 - val_accuracy: 0.7092\n",
      "Epoch 24/80\n",
      "1078/1078 [==============================] - 1s 743us/step - loss: 0.5567 - accuracy: 0.7111 - val_loss: 0.5547 - val_accuracy: 0.7174\n",
      "Epoch 25/80\n",
      "1078/1078 [==============================] - 1s 737us/step - loss: 0.5564 - accuracy: 0.7140 - val_loss: 0.5633 - val_accuracy: 0.7007\n"
     ]
    }
   ],
   "source": [
    "model = Sequential()\n",
    "model.add(Dense(16, input_shape=(X.shape[1],), activation='relu')) # Add an input shape! (features,)\n",
    "model.add(Dense(16, activation='relu'))\n",
    "model.add(Dense(1, activation='sigmoid'))\n",
    "model.summary() \n",
    "\n",
    "model.compile(optimizer='Adam', \n",
    "              loss='binary_crossentropy',\n",
    "              metrics=['accuracy'])\n",
    "\n",
    "es = EarlyStopping(monitor='val_accuracy', \n",
    "                                   mode='max', # don't minimize the accuracy!\n",
    "                                   patience=10,\n",
    "                                   restore_best_weights=True)\n",
    "\n",
    "# now we just update our model fit call\n",
    "history = model.fit(X,\n",
    "                    y,\n",
    "                    callbacks=[es],\n",
    "                    epochs=80, # you can set this to a big number!\n",
    "                    batch_size=10,\n",
    "                    validation_split=0.2,\n",
    "                    shuffle=True,\n",
    "                    verbose=1)"
   ]
  },
  {
   "cell_type": "code",
   "execution_count": 14,
   "id": "fe81b440",
   "metadata": {},
   "outputs": [
    {
     "data": {
      "image/png": "[encoded data removed]",
      "text/plain": [
       "<Figure size 432x288 with 1 Axes>"
      ]
     },
     "metadata": {
      "needs_background": "light"
     },
     "output_type": "display_data"
    }
   ],
   "source": [
    "history_dict = history.history\n",
    "loss_values = history_dict['loss'] # you can change this\n",
    "val_loss_values = history_dict['val_loss'] # you can also change this\n",
    "epochs = range(1, len(loss_values) + 1) \n",
    "\n",
    "plt.plot(epochs, loss_values, 'bo', label='Training loss')\n",
    "plt.plot(epochs, val_loss_values, 'orange', label='Validation loss')\n",
    "plt.title('Training and validation loss')\n",
    "plt.xlabel('Epochs')\n",
    "plt.ylabel('Loss')\n",
    "plt.legend()\n",
    "plt.savefig('loss.png')"
   ]
  },
  {
   "cell_type": "code",
   "execution_count": 9,
   "id": "373254f0",
   "metadata": {},
   "outputs": [
    {
     "data": {
      "image/png": "[encoded data removed]",
      "text/plain": [
       "<Figure size 432x288 with 1 Axes>"
      ]
     },
     "metadata": {
      "needs_background": "light"
     },
     "output_type": "display_data"
    },
    {
     "data": {
      "text/plain": [
       "0.7200148701667786"
      ]
     },
     "execution_count": 9,
     "metadata": {},
     "output_type": "execute_result"
    }
   ],
   "source": [
    "acc = history.history['accuracy']\n",
    "val_acc = history.history['val_accuracy']\n",
    "\n",
    "epochs = range(1, len(acc) + 1)\n",
    "\n",
    "plt.plot(epochs, acc, 'bo', label='Training accuracy')\n",
    "# orange is for \"orange\"\n",
    "plt.plot(epochs, val_acc, 'orange', label='Validation accuracy')\n",
    "plt.title('Training and validation accuracy')\n",
    "plt.xlabel('Epochs')\n",
    "plt.ylabel('Accuracy')\n",
    "plt.legend()\n",
    "plt.show()\n",
    "\n",
    "np.max(val_acc)"
   ]
  },
  {
   "cell_type": "code",
   "execution_count": 12,
   "id": "e4790f9b",
   "metadata": {},
   "outputs": [
    {
     "name": "stdout",
     "output_type": "stream",
     "text": [
      "[[4598 2134]\n",
      " [1715 5017]]\n",
      "              precision    recall  f1-score   support\n",
      "\n",
      "           0       0.73      0.68      0.70      6732\n",
      "           1       0.70      0.75      0.72      6732\n",
      "\n",
      "    accuracy                           0.71     13464\n",
      "   macro avg       0.71      0.71      0.71     13464\n",
      "weighted avg       0.71      0.71      0.71     13464\n",
      "\n"
     ]
    }
   ],
   "source": [
    "from sklearn.metrics import confusion_matrix\n",
    "from sklearn.metrics import classification_report\n",
    "\n",
    "# see how these are numbers between 0 and 1? \n",
    "model.predict(X) # prob of successes (survival)\n",
    "np.round(model.predict(X),0) # 1 and 0 (survival or not)\n",
    " # 1 and 0 (survival or not)\n",
    "\n",
    "# so we need to round to a whole number (0 or 1),\n",
    "# or the confusion matrix won't work!\n",
    "preds = np.round(model.predict(X),0)\n",
    "\n",
    "print(confusion_matrix(y, preds)) # order matters! (actual, predicted)\n",
    "\n",
    "print(classification_report(y, preds))"
   ]
  }
 ],
 "metadata": {
  "kernelspec": {
   "display_name": "Python 3 (ipykernel)",
   "language": "python",
   "name": "python3"
  },
  "language_info": {
   "codemirror_mode": {
    "name": "ipython",
    "version": 3
   },
   "file_extension": ".py",
   "mimetype": "text/x-python",
   "name": "python",
   "nbconvert_exporter": "python",
   "pygments_lexer": "ipython3",
   "version": "3.9.4"
  }
 },
 "nbformat": 4,
 "nbformat_minor": 5
}
