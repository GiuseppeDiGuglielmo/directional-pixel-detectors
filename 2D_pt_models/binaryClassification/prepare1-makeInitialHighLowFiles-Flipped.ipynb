{
 "cells": [
  {
   "cell_type": "code",
   "execution_count": 1,
   "id": "511be8a7",
   "metadata": {},
   "outputs": [],
   "source": [
    "import numpy as np\n",
    "import pandas as pd\n",
    "from pandas import read_csv\n",
    "import math\n",
    "import seaborn as sns\n",
    "import matplotlib.pyplot as plt"
   ]
  },
  {
   "cell_type": "code",
   "execution_count": null,
   "id": "176ba850",
   "metadata": {},
   "outputs": [],
   "source": [
    "df1 = pd.read_csv('BIGlabels.csv')\n",
    "df2 = pd.read_csv('BIGrecon.csv')"
   ]
  },
  {
   "cell_type": "code",
   "execution_count": null,
   "id": "f23ca8c8",
   "metadata": {},
   "outputs": [],
   "source": [
    "df3 = pd.concat([df1,df2], axis=1, join=\"inner\")"
   ]
  },
  {
   "cell_type": "code",
   "execution_count": null,
   "id": "9d06ba7a",
   "metadata": {},
   "outputs": [],
   "source": [
    "df3.drop('n_x', axis=1, inplace=True)\n",
    "df3.drop('n_y', axis=1, inplace=True)\n",
    "df3.drop('cotAlpha',axis = 1, inplace=True)\n",
    "df3.drop('cotBeta',axis = 1, inplace=True)\n",
    "df3.drop('number_eh_pairs', axis=1, inplace=True)\n",
    "df3.drop('x-entry', axis=1, inplace=True)\n",
    "df3.drop('y-entry', axis=1, inplace=True)"
   ]
  },
  {
   "cell_type": "code",
   "execution_count": null,
   "id": "99426251",
   "metadata": {},
   "outputs": [],
   "source": [
    "df3.head()\n",
    "df3.to_csv('positivePT_flipped.csv',index=False)"
   ]
  },
  {
   "cell_type": "code",
   "execution_count": null,
   "id": "8dc3593f",
   "metadata": {},
   "outputs": [],
   "source": [
    "getFrame = pd.read_csv('positivePT_flipped.csv')\n",
    "\n",
    "##unflipped\n",
    "#getFrame1 = getFrame[getFrame['z-entry'] == 100]\n",
    "#getFrame2 = getFrame1[getFrame1['n_z'] < 0]\n",
    "\n",
    "#flipped\n",
    "getFrame1 = getFrame[getFrame['z-entry'] == 0]\n",
    "getFrame2 = getFrame1[getFrame1['n_z'] > 0]\n",
    "#getFrame2\n",
    "getFrame3 = getFrame2[getFrame2['pt'] < 0.3]"
   ]
  },
  {
   "cell_type": "code",
   "execution_count": null,
   "id": "69f44a88",
   "metadata": {},
   "outputs": [],
   "source": [
    "getFrame3\n",
    "getFrame3.to_csv('lowPTset128172.csv', index=False)\n",
    "#everything below is not run (save positivePT.csv and save for other stuff)"
   ]
  },
  {
   "cell_type": "code",
   "execution_count": null,
   "id": "a0a447c7",
   "metadata": {},
   "outputs": [],
   "source": []
  },
  {
   "cell_type": "code",
   "execution_count": null,
   "id": "485c1883",
   "metadata": {},
   "outputs": [],
   "source": []
  }
 ],
 "metadata": {
  "kernelspec": {
   "display_name": "Python 3 (ipykernel)",
   "language": "python",
   "name": "python3"
  },
  "language_info": {
   "codemirror_mode": {
    "name": "ipython",
    "version": 3
   },
   "file_extension": ".py",
   "mimetype": "text/x-python",
   "name": "python",
   "nbconvert_exporter": "python",
   "pygments_lexer": "ipython3",
   "version": "3.9.4"
  }
 },
 "nbformat": 4,
 "nbformat_minor": 5
}
