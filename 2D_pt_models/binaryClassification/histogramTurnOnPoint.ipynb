{
 "cells": [
  {
   "cell_type": "code",
   "execution_count": 1,
   "id": "bdb78c8b",
   "metadata": {},
   "outputs": [],
   "source": [
    "import matplotlib.pyplot as plt\n",
    "import numpy as np\n",
    "import pandas as pd\n",
    "from pandas import read_csv\n",
    "import math\n",
    "import seaborn as sns"
   ]
  },
  {
   "cell_type": "code",
   "execution_count": 2,
   "id": "f3ae0760",
   "metadata": {},
   "outputs": [],
   "source": [
    "df1 = pd.read_csv('truePT.csv')\n",
    "df2 = pd.read_csv('predictionsFiles.csv')\n",
    "df3 = pd.read_csv('true.csv')\n",
    "df2.columns.values[0] = \"predict\"\n",
    "df3.columns.values[0] = \"true\"\n",
    "df2['predict'] = df2['predict'].astype(int)"
   ]
  },
  {
   "cell_type": "code",
   "execution_count": 3,
   "id": "1db413fb",
   "metadata": {},
   "outputs": [
    {
     "data": {
      "text/html": [
       "<div>\n",
       "<style scoped>\n",
       "    .dataframe tbody tr th:only-of-type {\n",
       "        vertical-align: middle;\n",
       "    }\n",
       "\n",
       "    .dataframe tbody tr th {\n",
       "        vertical-align: top;\n",
       "    }\n",
       "\n",
       "    .dataframe thead th {\n",
       "        text-align: right;\n",
       "    }\n",
       "</style>\n",
       "<table border=\"1\" class=\"dataframe\">\n",
       "  <thead>\n",
       "    <tr style=\"text-align: right;\">\n",
       "      <th></th>\n",
       "      <th>pt</th>\n",
       "      <th>predict</th>\n",
       "      <th>true</th>\n",
       "    </tr>\n",
       "  </thead>\n",
       "  <tbody>\n",
       "    <tr>\n",
       "      <th>0</th>\n",
       "      <td>2.191190</td>\n",
       "      <td>0</td>\n",
       "      <td>1</td>\n",
       "    </tr>\n",
       "    <tr>\n",
       "      <th>1</th>\n",
       "      <td>0.185314</td>\n",
       "      <td>1</td>\n",
       "      <td>0</td>\n",
       "    </tr>\n",
       "    <tr>\n",
       "      <th>2</th>\n",
       "      <td>0.973620</td>\n",
       "      <td>1</td>\n",
       "      <td>1</td>\n",
       "    </tr>\n",
       "    <tr>\n",
       "      <th>3</th>\n",
       "      <td>1.337790</td>\n",
       "      <td>1</td>\n",
       "      <td>1</td>\n",
       "    </tr>\n",
       "    <tr>\n",
       "      <th>4</th>\n",
       "      <td>0.270891</td>\n",
       "      <td>0</td>\n",
       "      <td>0</td>\n",
       "    </tr>\n",
       "    <tr>\n",
       "      <th>...</th>\n",
       "      <td>...</td>\n",
       "      <td>...</td>\n",
       "      <td>...</td>\n",
       "    </tr>\n",
       "    <tr>\n",
       "      <th>51265</th>\n",
       "      <td>1.706740</td>\n",
       "      <td>1</td>\n",
       "      <td>1</td>\n",
       "    </tr>\n",
       "    <tr>\n",
       "      <th>51266</th>\n",
       "      <td>0.896679</td>\n",
       "      <td>1</td>\n",
       "      <td>1</td>\n",
       "    </tr>\n",
       "    <tr>\n",
       "      <th>51267</th>\n",
       "      <td>0.158010</td>\n",
       "      <td>0</td>\n",
       "      <td>0</td>\n",
       "    </tr>\n",
       "    <tr>\n",
       "      <th>51268</th>\n",
       "      <td>1.635630</td>\n",
       "      <td>1</td>\n",
       "      <td>1</td>\n",
       "    </tr>\n",
       "    <tr>\n",
       "      <th>51269</th>\n",
       "      <td>0.198371</td>\n",
       "      <td>0</td>\n",
       "      <td>0</td>\n",
       "    </tr>\n",
       "  </tbody>\n",
       "</table>\n",
       "<p>51270 rows × 3 columns</p>\n",
       "</div>"
      ],
      "text/plain": [
       "             pt  predict  true\n",
       "0      2.191190        0     1\n",
       "1      0.185314        1     0\n",
       "2      0.973620        1     1\n",
       "3      1.337790        1     1\n",
       "4      0.270891        0     0\n",
       "...         ...      ...   ...\n",
       "51265  1.706740        1     1\n",
       "51266  0.896679        1     1\n",
       "51267  0.158010        0     0\n",
       "51268  1.635630        1     1\n",
       "51269  0.198371        0     0\n",
       "\n",
       "[51270 rows x 3 columns]"
      ]
     },
     "execution_count": 3,
     "metadata": {},
     "output_type": "execute_result"
    }
   ],
   "source": [
    "concatenate = pd.concat([df1,df2, df3], axis=1)\n",
    "concatenate"
   ]
  },
  {
   "cell_type": "code",
   "execution_count": 4,
   "id": "e69f0330",
   "metadata": {},
   "outputs": [],
   "source": [
    "list1 = []\n",
    "list2 = []"
   ]
  },
  {
   "cell_type": "code",
   "execution_count": 5,
   "id": "fd6278fa",
   "metadata": {},
   "outputs": [],
   "source": [
    "#binTEST = concatenate.loc[(concatenate['pt'] > 0.3) ]\n",
    "#binTEST"
   ]
  },
  {
   "cell_type": "code",
   "execution_count": 6,
   "id": "ece4c12f",
   "metadata": {},
   "outputs": [],
   "source": [
    "#correctlyIdentified = sum((binTEST.predict == 1) & (binTEST.true == 1))\n",
    "#correctlyIdentified\n",
    "#IncorrectlyIdentified = sum((binTEST.predict == 0) & (binTEST.true == 1))\n",
    "#IncorrectlyIdentified"
   ]
  },
  {
   "cell_type": "code",
   "execution_count": 7,
   "id": "75fd6492",
   "metadata": {},
   "outputs": [],
   "source": [
    "bin4 = concatenate.loc[(concatenate['pt'] < 0.4) & (concatenate['pt'] >= 0.3)]\n",
    "list1.append(bin4.shape[0])\n",
    "list2.append( sum((bin4.predict == 1))/(bin4.shape[0]))"
   ]
  },
  {
   "cell_type": "code",
   "execution_count": 8,
   "id": "588d3559",
   "metadata": {},
   "outputs": [],
   "source": [
    "bin5 = concatenate.loc[(concatenate['pt'] < 0.5) & (concatenate['pt'] >= 0.4)]\n",
    "list1.append(bin5.shape[0])\n",
    "list2.append( sum((bin5.predict == 1))/(bin5.shape[0]))"
   ]
  },
  {
   "cell_type": "code",
   "execution_count": 9,
   "id": "e02d5ad2",
   "metadata": {},
   "outputs": [],
   "source": [
    "bin6 = concatenate.loc[(concatenate['pt'] < 0.6) & (concatenate['pt'] >= 0.5)]\n",
    "list1.append(bin6.shape[0])\n",
    "list2.append( sum((bin6.predict == 1))/(bin6.shape[0]) )"
   ]
  },
  {
   "cell_type": "code",
   "execution_count": 10,
   "id": "c4bd0f56",
   "metadata": {},
   "outputs": [],
   "source": [
    "bin7 = concatenate.loc[(concatenate['pt'] < 0.7) & (concatenate['pt'] >= 0.6)]\n",
    "list1.append(bin7.shape[0])\n",
    "list2.append( sum((bin7.predict == 1))/(bin7.shape[0]) )"
   ]
  },
  {
   "cell_type": "code",
   "execution_count": 11,
   "id": "aa019235",
   "metadata": {},
   "outputs": [],
   "source": [
    "bin8 = concatenate.loc[(concatenate['pt'] < 0.8) & (concatenate['pt'] >= 0.7)]\n",
    "list1.append(bin8.shape[0])\n",
    "list2.append( sum((bin8.predict == 1))/(bin8.shape[0]) )"
   ]
  },
  {
   "cell_type": "code",
   "execution_count": 12,
   "id": "b4aadb30",
   "metadata": {},
   "outputs": [],
   "source": [
    "bin9 = concatenate.loc[(concatenate['pt'] < 0.9) & (concatenate['pt'] >= 0.8)]\n",
    "list1.append(bin9.shape[0])\n",
    "list2.append( sum((bin9.predict == 1))/(bin9.shape[0]) )"
   ]
  },
  {
   "cell_type": "code",
   "execution_count": 13,
   "id": "4cd51008",
   "metadata": {},
   "outputs": [],
   "source": [
    "bin10 = concatenate.loc[(concatenate['pt'] < 1.0) & (concatenate['pt'] >= 0.9)]\n",
    "list1.append(bin10.shape[0])\n",
    "list2.append( sum((bin10.predict == 1))/(bin10.shape[0]) )"
   ]
  },
  {
   "cell_type": "code",
   "execution_count": 14,
   "id": "a4100412",
   "metadata": {},
   "outputs": [],
   "source": [
    "bin11 = concatenate.loc[(concatenate['pt'] < 1.1) & (concatenate['pt'] >= 1.0)]\n",
    "list1.append(bin11.shape[0])\n",
    "list2.append( sum((bin11.predict == 1))/(bin11.shape[0]) )"
   ]
  },
  {
   "cell_type": "code",
   "execution_count": 15,
   "id": "0aa13844",
   "metadata": {},
   "outputs": [],
   "source": [
    "bin12 = concatenate.loc[(concatenate['pt'] < 1.2) & (concatenate['pt'] >= 1.1)]\n",
    "list1.append(bin12.shape[0])\n",
    "list2.append( sum((bin12.predict == 1))/(bin12.shape[0]) )"
   ]
  },
  {
   "cell_type": "code",
   "execution_count": 16,
   "id": "d19d024a",
   "metadata": {},
   "outputs": [],
   "source": [
    "bin13 = concatenate.loc[(concatenate['pt'] < 1.3) & (concatenate['pt'] >= 1.2)]\n",
    "list1.append(bin13.shape[0])\n",
    "list2.append( sum((bin13.predict == 1))/(bin13.shape[0]) )"
   ]
  },
  {
   "cell_type": "code",
   "execution_count": 17,
   "id": "486ddfc8",
   "metadata": {},
   "outputs": [],
   "source": [
    "bin14 = concatenate.loc[(concatenate['pt'] < 1.4) & (concatenate['pt'] >= 1.3)]\n",
    "list1.append(bin14.shape[0])\n",
    "list2.append( sum((bin14.predict == 1))/(bin14.shape[0]) )"
   ]
  },
  {
   "cell_type": "code",
   "execution_count": 18,
   "id": "54acccab",
   "metadata": {},
   "outputs": [],
   "source": [
    "bin15 = concatenate.loc[(concatenate['pt'] < 1.5) & (concatenate['pt'] >= 1.4)]\n",
    "list1.append(bin15.shape[0])\n",
    "list2.append( sum((bin15.predict == 1))/(bin15.shape[0]) )"
   ]
  },
  {
   "cell_type": "code",
   "execution_count": 19,
   "id": "848dddd1",
   "metadata": {},
   "outputs": [],
   "source": [
    "bin16 = concatenate.loc[(concatenate['pt'] < 1.6) & (concatenate['pt'] >= 1.5)]\n",
    "list1.append(bin16.shape[0])\n",
    "list2.append( sum((bin16.predict == 1))/(bin16.shape[0]) )"
   ]
  },
  {
   "cell_type": "code",
   "execution_count": 20,
   "id": "7cbdca93",
   "metadata": {},
   "outputs": [],
   "source": [
    "bin17 = concatenate.loc[(concatenate['pt'] < 1.7) & (concatenate['pt'] >= 1.6)]\n",
    "list1.append(bin17.shape[0])\n",
    "list2.append( sum((bin17.predict == 1))/(bin17.shape[0]) )"
   ]
  },
  {
   "cell_type": "code",
   "execution_count": 21,
   "id": "9e938f8d",
   "metadata": {},
   "outputs": [],
   "source": [
    "bin18 = concatenate.loc[(concatenate['pt'] < 1.8) & (concatenate['pt'] >= 1.7)]\n",
    "list1.append(bin18.shape[0])\n",
    "list2.append( sum((bin18.predict == 1))/(bin18.shape[0]) )"
   ]
  },
  {
   "cell_type": "code",
   "execution_count": 22,
   "id": "5a38e2e2",
   "metadata": {},
   "outputs": [],
   "source": [
    "bin19 = concatenate.loc[(concatenate['pt'] < 1.9) & (concatenate['pt'] >= 1.8)]\n",
    "list1.append(bin19.shape[0])\n",
    "list2.append( sum((bin19.predict == 1))/(bin19.shape[0]) )"
   ]
  },
  {
   "cell_type": "code",
   "execution_count": 23,
   "id": "616b9d08",
   "metadata": {},
   "outputs": [],
   "source": [
    "bin20 = concatenate.loc[(concatenate['pt'] < 2.0) & (concatenate['pt'] >= 1.9)]\n",
    "list1.append(bin20.shape[0])\n",
    "list2.append( sum((bin20.predict == 1))/(bin20.shape[0]) )"
   ]
  },
  {
   "cell_type": "code",
   "execution_count": 24,
   "id": "3c5b4fe4",
   "metadata": {},
   "outputs": [],
   "source": [
    "bin21 = concatenate.loc[(concatenate['pt'] < 2.1) & (concatenate['pt'] >= 2.0)]\n",
    "list1.append(bin21.shape[0])\n",
    "list2.append( sum((bin21.predict == 1))/(bin21.shape[0]) )"
   ]
  },
  {
   "cell_type": "code",
   "execution_count": 25,
   "id": "6adff419",
   "metadata": {},
   "outputs": [],
   "source": [
    "bin22 = concatenate.loc[(concatenate['pt'] < 2.2) & (concatenate['pt'] >= 2.1)]\n",
    "list1.append(bin22.shape[0])\n",
    "list2.append( sum((bin22.predict == 1))/(bin22.shape[0]) )"
   ]
  },
  {
   "cell_type": "code",
   "execution_count": 26,
   "id": "a33abf95",
   "metadata": {},
   "outputs": [],
   "source": [
    "bin23 = concatenate.loc[(concatenate['pt'] < 2.3) & (concatenate['pt'] >= 2.2)]\n",
    "list1.append(bin23.shape[0])\n",
    "list2.append( sum((bin23.predict == 1))/(bin23.shape[0]) )"
   ]
  },
  {
   "cell_type": "code",
   "execution_count": 27,
   "id": "a97f0784",
   "metadata": {},
   "outputs": [],
   "source": [
    "bin24 = concatenate.loc[(concatenate['pt'] < 2.4) & (concatenate['pt'] >= 2.3)]\n",
    "list1.append(bin24.shape[0])\n",
    "list2.append( sum((bin24.predict == 1))/(bin24.shape[0]) )"
   ]
  },
  {
   "cell_type": "code",
   "execution_count": 28,
   "id": "75638980",
   "metadata": {},
   "outputs": [],
   "source": [
    "bin25 = concatenate.loc[(concatenate['pt'] < 2.5) & (concatenate['pt'] >= 2.4)]\n",
    "list1.append(bin25.shape[0])\n",
    "list2.append( sum((bin25.predict == 1))/(bin25.shape[0]) )"
   ]
  },
  {
   "cell_type": "code",
   "execution_count": 29,
   "id": "c484f364",
   "metadata": {},
   "outputs": [],
   "source": [
    "bin26 = concatenate.loc[(concatenate['pt'] < 2.6) & (concatenate['pt'] >= 2.5)]\n",
    "list1.append(bin26.shape[0])\n",
    "list2.append( sum((bin26.predict == 1))/(bin26.shape[0]) )"
   ]
  },
  {
   "cell_type": "code",
   "execution_count": 30,
   "id": "1e624d6c",
   "metadata": {},
   "outputs": [],
   "source": [
    "bin27 = concatenate.loc[(concatenate['pt'] < 2.7) & (concatenate['pt'] >= 2.6)]\n",
    "list1.append(bin27.shape[0])\n",
    "list2.append( sum((bin27.predict == 1))/(bin27.shape[0]) )"
   ]
  },
  {
   "cell_type": "code",
   "execution_count": 31,
   "id": "c4336d6c",
   "metadata": {},
   "outputs": [],
   "source": [
    "bin28 = concatenate.loc[(concatenate['pt'] < 2.8) & (concatenate['pt'] >= 2.7)]\n",
    "list1.append(bin28.shape[0])\n",
    "list2.append( sum((bin28.predict == 1))/(bin28.shape[0]) )"
   ]
  },
  {
   "cell_type": "code",
   "execution_count": 32,
   "id": "1f97abf0",
   "metadata": {},
   "outputs": [],
   "source": [
    "bin29 = concatenate.loc[(concatenate['pt'] < 2.9) & (concatenate['pt'] >= 2.8)]\n",
    "list1.append(bin29.shape[0])\n",
    "list2.append( sum((bin29.predict == 1))/(bin29.shape[0]) )"
   ]
  },
  {
   "cell_type": "code",
   "execution_count": 33,
   "id": "9ff6155b",
   "metadata": {},
   "outputs": [],
   "source": [
    "bin30 = concatenate.loc[(concatenate['pt'] < 3.0) & (concatenate['pt'] >= 2.9)]\n",
    "list1.append(bin30.shape[0])\n",
    "list2.append( sum((bin30.predict == 1))/(bin30.shape[0]) )"
   ]
  },
  {
   "cell_type": "code",
   "execution_count": 34,
   "id": "681ff24e",
   "metadata": {},
   "outputs": [],
   "source": [
    "bin31 = concatenate.loc[(concatenate['pt'] < 3.1) & (concatenate['pt'] >= 3.0)]\n",
    "list1.append(bin31.shape[0])\n",
    "list2.append( sum((bin31.predict == 1))/(bin31.shape[0]) )"
   ]
  },
  {
   "cell_type": "code",
   "execution_count": 35,
   "id": "30faa122",
   "metadata": {},
   "outputs": [],
   "source": [
    "bin32 = concatenate.loc[(concatenate['pt'] < 3.2) & (concatenate['pt'] >= 3.1)]\n",
    "list1.append(bin32.shape[0])\n",
    "list2.append( sum((bin32.predict == 1))/(bin32.shape[0]) )"
   ]
  },
  {
   "cell_type": "code",
   "execution_count": 36,
   "id": "d443c236",
   "metadata": {},
   "outputs": [],
   "source": [
    "bin33 = concatenate.loc[(concatenate['pt'] < 3.3) & (concatenate['pt'] >= 3.2)]\n",
    "list1.append(bin33.shape[0])\n",
    "list2.append( sum((bin33.predict == 1))/(bin33.shape[0]) )"
   ]
  },
  {
   "cell_type": "code",
   "execution_count": 37,
   "id": "05c943af",
   "metadata": {},
   "outputs": [],
   "source": [
    "bin34 = concatenate.loc[(concatenate['pt'] < 3.4) & (concatenate['pt'] >= 3.3)]\n",
    "list1.append(bin34.shape[0])\n",
    "list2.append( sum((bin34.predict == 1))/(bin34.shape[0]) )"
   ]
  },
  {
   "cell_type": "code",
   "execution_count": 38,
   "id": "7da84192",
   "metadata": {},
   "outputs": [],
   "source": [
    "bin35 = concatenate.loc[(concatenate['pt'] < 3.5) & (concatenate['pt'] >= 3.4)]\n",
    "list1.append(bin35.shape[0])\n",
    "list2.append( sum((bin35.predict == 1))/(bin35.shape[0]) )"
   ]
  },
  {
   "cell_type": "code",
   "execution_count": 39,
   "id": "41cfbc82",
   "metadata": {},
   "outputs": [],
   "source": [
    "bin36 = concatenate.loc[(concatenate['pt'] < 3.6) & (concatenate['pt'] >= 3.5)]\n",
    "list1.append(bin36.shape[0])\n",
    "list2.append( sum((bin36.predict == 1))/(bin36.shape[0]) )"
   ]
  },
  {
   "cell_type": "code",
   "execution_count": 40,
   "id": "2c91e2f3",
   "metadata": {},
   "outputs": [],
   "source": [
    "bin37 = concatenate.loc[(concatenate['pt'] < 3.7) & (concatenate['pt'] >= 3.6)]\n",
    "list1.append(bin37.shape[0])\n",
    "list2.append( sum((bin37.predict == 1))/(bin37.shape[0]) )"
   ]
  },
  {
   "cell_type": "code",
   "execution_count": 41,
   "id": "fff90877",
   "metadata": {},
   "outputs": [],
   "source": [
    "bin38 = concatenate.loc[(concatenate['pt'] < 3.8) & (concatenate['pt'] >= 3.7)]\n",
    "list1.append(bin38.shape[0])\n",
    "list2.append( sum((bin38.predict == 1))/(bin38.shape[0]) )"
   ]
  },
  {
   "cell_type": "code",
   "execution_count": 42,
   "id": "1ad33b2d",
   "metadata": {},
   "outputs": [],
   "source": [
    "bin39 = concatenate.loc[(concatenate['pt'] < 3.9) & (concatenate['pt'] >= 3.8)]\n",
    "list1.append(bin39.shape[0])\n",
    "list2.append( sum((bin39.predict == 1))/(bin39.shape[0]) )"
   ]
  },
  {
   "cell_type": "code",
   "execution_count": 43,
   "id": "12133e8d",
   "metadata": {},
   "outputs": [],
   "source": [
    "bin40 = concatenate.loc[(concatenate['pt'] < 4.0) & (concatenate['pt'] >= 3.9)]\n",
    "list1.append(bin40.shape[0])\n",
    "list2.append( sum((bin40.predict == 1))/(bin40.shape[0]) )"
   ]
  },
  {
   "cell_type": "code",
   "execution_count": 44,
   "id": "fa2258a9",
   "metadata": {},
   "outputs": [],
   "source": [
    "bin41 = concatenate.loc[(concatenate['pt'] < 4.1) & (concatenate['pt'] >= 4.0)]\n",
    "list1.append(bin41.shape[0])\n",
    "list2.append( sum((bin41.predict == 1))/(bin41.shape[0]) )"
   ]
  },
  {
   "cell_type": "code",
   "execution_count": 45,
   "id": "f23297f8",
   "metadata": {},
   "outputs": [],
   "source": [
    "bin42 = concatenate.loc[(concatenate['pt'] < 4.2) & (concatenate['pt'] >= 4.1)]\n",
    "list1.append(bin42.shape[0])\n",
    "list2.append( sum((bin42.predict == 1))/(bin42.shape[0]) )"
   ]
  },
  {
   "cell_type": "code",
   "execution_count": 46,
   "id": "b135f29f",
   "metadata": {},
   "outputs": [],
   "source": [
    "bin43 = concatenate.loc[(concatenate['pt'] < 4.3) & (concatenate['pt'] >= 4.2)]\n",
    "list1.append(bin43.shape[0])\n",
    "list2.append( sum((bin43.predict == 1))/(bin43.shape[0]) )"
   ]
  },
  {
   "cell_type": "code",
   "execution_count": 47,
   "id": "bbe9c3f1",
   "metadata": {},
   "outputs": [],
   "source": [
    "bin44 = concatenate.loc[(concatenate['pt'] < 4.4) & (concatenate['pt'] >= 4.3)]\n",
    "list1.append(bin44.shape[0])\n",
    "list2.append( sum((bin44.predict == 1))/(bin44.shape[0]) )"
   ]
  },
  {
   "cell_type": "code",
   "execution_count": 48,
   "id": "b65e5b1f",
   "metadata": {},
   "outputs": [],
   "source": [
    "bin45 = concatenate.loc[(concatenate['pt'] < 4.5) & (concatenate['pt'] >= 4.4)]\n",
    "list1.append(bin45.shape[0])\n",
    "list2.append( sum((bin45.predict == 1))/(bin45.shape[0]) )"
   ]
  },
  {
   "cell_type": "code",
   "execution_count": 49,
   "id": "16d4e096",
   "metadata": {},
   "outputs": [],
   "source": [
    "bin46 = concatenate.loc[(concatenate['pt'] < 4.6) & (concatenate['pt'] >= 4.5)]\n",
    "list1.append(bin46.shape[0])\n",
    "list2.append( sum((bin46.predict == 1))/(bin46.shape[0]) )"
   ]
  },
  {
   "cell_type": "code",
   "execution_count": 50,
   "id": "9d529060",
   "metadata": {},
   "outputs": [],
   "source": [
    "bin47 = concatenate.loc[(concatenate['pt'] < 4.7) & (concatenate['pt'] >= 4.6)]\n",
    "list1.append(bin47.shape[0])\n",
    "list2.append( sum((bin47.predict == 1))/(bin47.shape[0]) )"
   ]
  },
  {
   "cell_type": "code",
   "execution_count": 51,
   "id": "ebfe6a27",
   "metadata": {},
   "outputs": [],
   "source": [
    "bin48 = concatenate.loc[(concatenate['pt'] < 4.8) & (concatenate['pt'] >= 4.7)]\n",
    "list1.append(bin48.shape[0])\n",
    "list2.append( sum((bin48.predict == 1))/(bin48.shape[0]) )"
   ]
  },
  {
   "cell_type": "code",
   "execution_count": 52,
   "id": "f00ce7da",
   "metadata": {},
   "outputs": [],
   "source": [
    "bin49 = concatenate.loc[(concatenate['pt'] < 4.9) & (concatenate['pt'] >= 4.8)]\n",
    "list1.append(bin49.shape[0])\n",
    "list2.append( sum((bin49.predict == 1))/(bin49.shape[0]) )"
   ]
  },
  {
   "cell_type": "code",
   "execution_count": 53,
   "id": "1135172b",
   "metadata": {},
   "outputs": [],
   "source": [
    "bin50 = concatenate.loc[(concatenate['pt'] < 5.0) & (concatenate['pt'] >= 4.9)]\n",
    "list1.append(bin50.shape[0])\n",
    "list2.append( sum((bin50.predict == 1))/(bin50.shape[0]) )"
   ]
  },
  {
   "cell_type": "code",
   "execution_count": 54,
   "id": "6ae9ec3d",
   "metadata": {},
   "outputs": [
    {
     "data": {
      "text/plain": [
       "[0.524264705882353,\n",
       " 0.56047197640118,\n",
       " 0.571537290715373,\n",
       " 0.6191588785046729,\n",
       " 0.630451415455241,\n",
       " 0.6421219319081551,\n",
       " 0.65284178187404,\n",
       " 0.6819526627218935,\n",
       " 0.6593655589123867,\n",
       " 0.671969696969697,\n",
       " 0.6809338521400778,\n",
       " 0.6981981981981982,\n",
       " 0.6762645914396888,\n",
       " 0.675609756097561,\n",
       " 0.6818613485280152,\n",
       " 0.689010989010989,\n",
       " 0.7240437158469946,\n",
       " 0.6830427892234548,\n",
       " 0.6889279437609842,\n",
       " 0.6947368421052632,\n",
       " 0.6700507614213198,\n",
       " 0.7006172839506173,\n",
       " 0.7372013651877133,\n",
       " 0.6903765690376569,\n",
       " 0.7365853658536585,\n",
       " 0.7027027027027027,\n",
       " 0.7228915662650602,\n",
       " 0.6778523489932886,\n",
       " 0.6576576576576577,\n",
       " 0.6886792452830188,\n",
       " 0.7017543859649122,\n",
       " 0.8271604938271605,\n",
       " 0.7066666666666667,\n",
       " 0.7,\n",
       " 0.7540983606557377,\n",
       " 0.7560975609756098,\n",
       " 0.734375,\n",
       " 0.6857142857142857,\n",
       " 0.6595744680851063,\n",
       " 0.7941176470588235,\n",
       " 0.6904761904761905,\n",
       " 0.8518518518518519,\n",
       " 0.5714285714285714,\n",
       " 0.6086956521739131,\n",
       " 0.5714285714285714,\n",
       " 0.7222222222222222,\n",
       " 0.4]"
      ]
     },
     "execution_count": 54,
     "metadata": {},
     "output_type": "execute_result"
    }
   ],
   "source": [
    "list2"
   ]
  },
  {
   "cell_type": "code",
   "execution_count": 55,
   "id": "53a6720b",
   "metadata": {},
   "outputs": [
    {
     "data": {
      "text/plain": [
       "47"
      ]
     },
     "execution_count": 55,
     "metadata": {},
     "output_type": "execute_result"
    }
   ],
   "source": [
    "len(list2)"
   ]
  },
  {
   "cell_type": "code",
   "execution_count": 56,
   "id": "c18d2ae2",
   "metadata": {},
   "outputs": [],
   "source": [
    "xvalues = [0.3,0.4,0.5,0.6,0.7,0.8,0.9,1.0,1.1,1.2,1.3,1.4,1.5,1.6,1.7,1.8,1.9,2.0,2.1,2.2,2.3,2.4,2.5,2.6,2.7,2.8,2.9,3.0,3.1,3.2,3.3,3.4,3.5,3.6,3.7,3.8,3.9,4.0,4.1,4.2,4.3,4.4,4.5,4.6,4.7,4.8,4.9]"
   ]
  },
  {
   "cell_type": "code",
   "execution_count": 57,
   "id": "e9d4ab51",
   "metadata": {},
   "outputs": [],
   "source": [
    "df = pd.DataFrame(xvalues, columns = ['bin'])\n",
    "df['accuracy'] = list2"
   ]
  },
  {
   "cell_type": "code",
   "execution_count": 58,
   "id": "fbc89529",
   "metadata": {},
   "outputs": [
    {
     "data": {
      "text/plain": [
       "[1360,\n",
       " 1356,\n",
       " 1314,\n",
       " 1284,\n",
       " 1307,\n",
       " 1263,\n",
       " 1302,\n",
       " 1352,\n",
       " 1324,\n",
       " 1320,\n",
       " 1285,\n",
       " 1332,\n",
       " 1285,\n",
       " 1230,\n",
       " 1053,\n",
       " 910,\n",
       " 732,\n",
       " 631,\n",
       " 569,\n",
       " 475,\n",
       " 394,\n",
       " 324,\n",
       " 293,\n",
       " 239,\n",
       " 205,\n",
       " 185,\n",
       " 166,\n",
       " 149,\n",
       " 111,\n",
       " 106,\n",
       " 114,\n",
       " 81,\n",
       " 75,\n",
       " 60,\n",
       " 61,\n",
       " 41,\n",
       " 64,\n",
       " 35,\n",
       " 47,\n",
       " 34,\n",
       " 42,\n",
       " 27,\n",
       " 28,\n",
       " 23,\n",
       " 14,\n",
       " 18,\n",
       " 15]"
      ]
     },
     "execution_count": 58,
     "metadata": {},
     "output_type": "execute_result"
    }
   ],
   "source": [
    "list1"
   ]
  },
  {
   "cell_type": "code",
   "execution_count": 66,
   "id": "c2e819b5",
   "metadata": {
    "scrolled": true
   },
   "outputs": [
    {
     "data": {
      "image/png": "[encoded data removed]",
      "text/plain": [
       "<Figure size 1440x576 with 1 Axes>"
      ]
     },
     "metadata": {},
     "output_type": "display_data"
    }
   ],
   "source": [
    "import seaborn as sns\n",
    "fig = plt.figure(figsize=(20,8))\n",
    "\n",
    "sns.set_theme(style=\"darkgrid\")\n",
    "\n",
    "#sns.lineplot(data = df, x = 'bin', y='accuracy')\n",
    "sns.scatterplot(data = df, x = 'bin', y='accuracy')\n",
    "labels = xvalues\n",
    "ax = plt.gca()\n",
    "ax.get_xlim()\n",
    "ax.set_xticks(labels) \n",
    "plt.xlim([0,5.0])\n",
    "plt.xlabel('binned true pt (GeV)')\n",
    "plt.ylabel('% tracks > 0.3 GeV accurately classified as > 0.3 GeV')\n",
    "\n",
    "plt.savefig('turnOnPoint.png')\n",
    "plt.show()"
   ]
  },
  {
   "cell_type": "code",
   "execution_count": 65,
   "id": "98cf3506",
   "metadata": {},
   "outputs": [
    {
     "data": {
      "image/png": "[encoded data removed]",
      "text/plain": [
       "<Figure size 1440x576 with 1 Axes>"
      ]
     },
     "metadata": {},
     "output_type": "display_data"
    }
   ],
   "source": [
    "df2 = pd.DataFrame(xvalues, columns = ['bin'])\n",
    "df2['accuracy'] = list1\n",
    "\n",
    "import seaborn as sns\n",
    "fig = plt.figure(figsize=(20,8))\n",
    "\n",
    "sns.set_theme(style=\"darkgrid\")\n",
    "\n",
    "#sns.lineplot(data = df, x = 'bin', y='accuracy')\n",
    "sns.scatterplot(data = df2, x = 'bin', y='accuracy')\n",
    "labels = xvalues\n",
    "ax = plt.gca()\n",
    "ax.get_xlim()\n",
    "ax.set_xticks(labels) \n",
    "plt.xlim([0,5.0])\n",
    "plt.xlabel('binned true pt (GeV)')\n",
    "plt.ylabel('number of test set examples')\n",
    "\n",
    "plt.savefig('numberTestSetSamples.png')\n",
    "plt.show()"
   ]
  }
 ],
 "metadata": {
  "kernelspec": {
   "display_name": "Python 3 (ipykernel)",
   "language": "python",
   "name": "python3"
  },
  "language_info": {
   "codemirror_mode": {
    "name": "ipython",
    "version": 3
   },
   "file_extension": ".py",
   "mimetype": "text/x-python",
   "name": "python",
   "nbconvert_exporter": "python",
   "pygments_lexer": "ipython3",
   "version": "3.9.4"
  }
 },
 "nbformat": 4,
 "nbformat_minor": 5
}
