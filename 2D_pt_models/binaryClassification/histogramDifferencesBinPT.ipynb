{
 "cells": [
  {
   "cell_type": "code",
   "execution_count": null,
   "id": "bdb78c8b",
   "metadata": {},
   "outputs": [],
   "source": [
    "import matplotlib.pyplot as plt\n",
    "import numpy as np\n",
    "import pandas as pd\n",
    "from pandas import read_csv\n",
    "import math\n",
    "import seaborn as sns"
   ]
  },
  {
   "cell_type": "code",
   "execution_count": null,
   "id": "f3ae0760",
   "metadata": {},
   "outputs": [],
   "source": [
    "df1 = pd.read_csv('truePT.csv')\n",
    "df2 = pd.read_csv('predictionsFiles.csv')\n",
    "df3 = pd.read_csv('true.csv')\n",
    "df2.columns.values[0] = \"predict\"\n",
    "df3.columns.values[0] = \"true\"\n",
    "df2['predict'] = df2['predict'].astype(int)"
   ]
  },
  {
   "cell_type": "code",
   "execution_count": null,
   "id": "1db413fb",
   "metadata": {},
   "outputs": [],
   "source": [
    "concatenate = pd.concat([df1,df2, df3], axis=1)\n",
    "concatenate"
   ]
  },
  {
   "cell_type": "code",
   "execution_count": null,
   "id": "e69f0330",
   "metadata": {},
   "outputs": [],
   "source": [
    "list1 = []\n",
    "list2 = []"
   ]
  },
  {
   "cell_type": "code",
   "execution_count": null,
   "id": "43be133f",
   "metadata": {},
   "outputs": [],
   "source": [
    "bin1 = concatenate.loc[(concatenate['pt'] < 0.1) ]\n",
    "list1.append(bin1.shape[0])\n",
    "list2.append(((sum((bin1.predict == 0) & (bin1.true == 0))) + (sum((bin1.predict == 1) & (bin1.true == 1))))/bin1.shape[0])"
   ]
  },
  {
   "cell_type": "code",
   "execution_count": null,
   "id": "419b015e",
   "metadata": {},
   "outputs": [],
   "source": [
    "bin2 = concatenate.loc[(concatenate['pt'] < 0.2) & (concatenate['pt'] >= 0.1)]\n",
    "list1.append(bin2.shape[0])\n",
    "list2.append(((sum((bin2.predict == 0) & (bin2.true == 0))) + (sum((bin2.predict == 1) & (bin2.true == 1))))/bin2.shape[0])"
   ]
  },
  {
   "cell_type": "code",
   "execution_count": null,
   "id": "75fd6492",
   "metadata": {},
   "outputs": [],
   "source": [
    "bin3 = concatenate.loc[(concatenate['pt'] < 0.3) & (concatenate['pt'] >= 0.2)]\n",
    "list1.append(bin3.shape[0])\n",
    "list2.append(((sum((bin3.predict == 0) & (bin3.true == 0))) + (sum((bin3.predict == 1) & (bin3.true == 1))))/bin3.shape[0])"
   ]
  },
  {
   "cell_type": "code",
   "execution_count": null,
   "id": "33828ec5",
   "metadata": {},
   "outputs": [],
   "source": [
    "bin4 = concatenate.loc[(concatenate['pt'] < 0.4) & (concatenate['pt'] >= 0.3)]\n",
    "list1.append(bin4.shape[0])\n",
    "list2.append(((sum((bin4.predict == 0) & (bin4.true == 0))) + (sum((bin4.predict == 1) & (bin4.true == 1))))/bin4.shape[0])"
   ]
  },
  {
   "cell_type": "code",
   "execution_count": null,
   "id": "588d3559",
   "metadata": {},
   "outputs": [],
   "source": [
    "bin5 = concatenate.loc[(concatenate['pt'] < 0.5) & (concatenate['pt'] >= 0.4)]\n",
    "list1.append(bin5.shape[0])\n",
    "list2.append(((sum((bin5.predict == 0) & (bin5.true == 0))) + (sum((bin5.predict == 1) & (bin5.true == 1))))/bin5.shape[0])"
   ]
  },
  {
   "cell_type": "code",
   "execution_count": null,
   "id": "e02d5ad2",
   "metadata": {},
   "outputs": [],
   "source": [
    "bin6 = concatenate.loc[(concatenate['pt'] < 0.6) & (concatenate['pt'] >= 0.5)]\n",
    "list1.append(bin6.shape[0])\n",
    "list2.append(((sum((bin6.predict == 0) & (bin6.true == 0))) + (sum((bin6.predict == 1) & (bin6.true == 1))))/bin6.shape[0])"
   ]
  },
  {
   "cell_type": "code",
   "execution_count": null,
   "id": "c4bd0f56",
   "metadata": {},
   "outputs": [],
   "source": [
    "bin7 = concatenate.loc[(concatenate['pt'] < 0.7) & (concatenate['pt'] >= 0.6)]\n",
    "list1.append(bin7.shape[0])\n",
    "list2.append(((sum((bin7.predict == 0) & (bin7.true == 0))) + (sum((bin7.predict == 1) & (bin7.true == 1))))/bin7.shape[0])"
   ]
  },
  {
   "cell_type": "code",
   "execution_count": null,
   "id": "aa019235",
   "metadata": {},
   "outputs": [],
   "source": [
    "bin8 = concatenate.loc[(concatenate['pt'] < 0.8) & (concatenate['pt'] >= 0.7)]\n",
    "list1.append(bin8.shape[0])\n",
    "list2.append(((sum((bin8.predict == 0) & (bin8.true == 0))) + (sum((bin8.predict == 1) & (bin8.true == 1))))/bin8.shape[0])"
   ]
  },
  {
   "cell_type": "code",
   "execution_count": null,
   "id": "b4aadb30",
   "metadata": {},
   "outputs": [],
   "source": [
    "bin9 = concatenate.loc[(concatenate['pt'] < 0.9) & (concatenate['pt'] >= 0.8)]\n",
    "list1.append(bin9.shape[0])\n",
    "list2.append(((sum((bin9.predict == 0) & (bin9.true == 0))) + (sum((bin9.predict == 1) & (bin9.true == 1))))/bin9.shape[0])"
   ]
  },
  {
   "cell_type": "code",
   "execution_count": null,
   "id": "4cd51008",
   "metadata": {},
   "outputs": [],
   "source": [
    "bin10 = concatenate.loc[(concatenate['pt'] < 1.0) & (concatenate['pt'] >= 0.9)]\n",
    "list1.append(bin10.shape[0])\n",
    "list2.append(((sum((bin10.predict == 0) & (bin10.true == 0))) + (sum((bin10.predict == 1) & (bin10.true == 1))))/bin10.shape[0])"
   ]
  },
  {
   "cell_type": "code",
   "execution_count": null,
   "id": "a4100412",
   "metadata": {},
   "outputs": [],
   "source": [
    "bin11 = concatenate.loc[(concatenate['pt'] < 1.1) & (concatenate['pt'] >= 1.0)]\n",
    "list1.append(bin11.shape[0])\n",
    "list2.append(((sum((bin11.predict == 0) & (bin11.true == 0))) + (sum((bin11.predict == 1) & (bin11.true == 1))))/bin11.shape[0])"
   ]
  },
  {
   "cell_type": "code",
   "execution_count": null,
   "id": "0aa13844",
   "metadata": {},
   "outputs": [],
   "source": [
    "bin12 = concatenate.loc[(concatenate['pt'] < 1.2) & (concatenate['pt'] >= 1.1)]\n",
    "list1.append(bin12.shape[0])\n",
    "list2.append(((sum((bin12.predict == 0) & (bin12.true == 0))) + (sum((bin12.predict == 1) & (bin12.true == 1))))/bin12.shape[0])"
   ]
  },
  {
   "cell_type": "code",
   "execution_count": null,
   "id": "d19d024a",
   "metadata": {},
   "outputs": [],
   "source": [
    "bin13 = concatenate.loc[(concatenate['pt'] < 1.3) & (concatenate['pt'] >= 1.2)]\n",
    "list1.append(bin13.shape[0])\n",
    "list2.append(((sum((bin13.predict == 0) & (bin13.true == 0))) + (sum((bin13.predict == 1) & (bin13.true == 1))))/bin13.shape[0])"
   ]
  },
  {
   "cell_type": "code",
   "execution_count": null,
   "id": "486ddfc8",
   "metadata": {},
   "outputs": [],
   "source": [
    "bin14 = concatenate.loc[(concatenate['pt'] < 1.4) & (concatenate['pt'] >= 1.3)]\n",
    "list1.append(bin14.shape[0])\n",
    "list2.append(((sum((bin14.predict == 0) & (bin14.true == 0))) + (sum((bin14.predict == 1) & (bin14.true == 1))))/bin14.shape[0])"
   ]
  },
  {
   "cell_type": "code",
   "execution_count": null,
   "id": "54acccab",
   "metadata": {},
   "outputs": [],
   "source": [
    "bin15 = concatenate.loc[(concatenate['pt'] < 1.5) & (concatenate['pt'] >= 1.4)]\n",
    "list1.append(bin15.shape[0])\n",
    "list2.append(((sum((bin15.predict == 0) & (bin15.true == 0))) + (sum((bin15.predict == 1) & (bin15.true == 1))))/bin15.shape[0])"
   ]
  },
  {
   "cell_type": "code",
   "execution_count": null,
   "id": "848dddd1",
   "metadata": {},
   "outputs": [],
   "source": [
    "bin16 = concatenate.loc[(concatenate['pt'] < 1.6) & (concatenate['pt'] >= 1.5)]\n",
    "list1.append(bin16.shape[0])\n",
    "list2.append(((sum((bin16.predict == 0) & (bin16.true == 0))) + (sum((bin16.predict == 1) & (bin16.true == 1))))/bin16.shape[0])"
   ]
  },
  {
   "cell_type": "code",
   "execution_count": null,
   "id": "7cbdca93",
   "metadata": {},
   "outputs": [],
   "source": [
    "bin17 = concatenate.loc[(concatenate['pt'] < 1.7) & (concatenate['pt'] >= 1.6)]\n",
    "list1.append(bin17.shape[0])\n",
    "list2.append(((sum((bin17.predict == 0) & (bin17.true == 0))) + (sum((bin17.predict == 1) & (bin17.true == 1))))/bin17.shape[0])"
   ]
  },
  {
   "cell_type": "code",
   "execution_count": null,
   "id": "9e938f8d",
   "metadata": {},
   "outputs": [],
   "source": [
    "bin18 = concatenate.loc[(concatenate['pt'] < 1.8) & (concatenate['pt'] >= 1.7)]\n",
    "list1.append(bin18.shape[0])\n",
    "list2.append(((sum((bin18.predict == 0) & (bin18.true == 0))) + (sum((bin18.predict == 1) & (bin18.true == 1))))/bin18.shape[0])"
   ]
  },
  {
   "cell_type": "code",
   "execution_count": null,
   "id": "5a38e2e2",
   "metadata": {},
   "outputs": [],
   "source": [
    "bin19 = concatenate.loc[(concatenate['pt'] < 1.9) & (concatenate['pt'] >= 1.8)]\n",
    "list1.append(bin19.shape[0])\n",
    "list2.append(((sum((bin19.predict == 0) & (bin19.true == 0))) + (sum((bin19.predict == 1) & (bin19.true == 1))))/bin19.shape[0])"
   ]
  },
  {
   "cell_type": "code",
   "execution_count": null,
   "id": "616b9d08",
   "metadata": {},
   "outputs": [],
   "source": [
    "bin20 = concatenate.loc[(concatenate['pt'] < 2.0) & (concatenate['pt'] >= 1.9)]\n",
    "list1.append(bin20.shape[0])\n",
    "list2.append(((sum((bin20.predict == 0) & (bin20.true == 0))) + (sum((bin20.predict == 1) & (bin20.true == 1))))/bin20.shape[0])"
   ]
  },
  {
   "cell_type": "code",
   "execution_count": null,
   "id": "3c5b4fe4",
   "metadata": {},
   "outputs": [],
   "source": [
    "bin21 = concatenate.loc[(concatenate['pt'] < 2.1) & (concatenate['pt'] >= 2.0)]\n",
    "list1.append(bin21.shape[0])\n",
    "list2.append(((sum((bin21.predict == 0) & (bin21.true == 0))) + (sum((bin21.predict == 1) & (bin21.true == 1))))/bin21.shape[0])"
   ]
  },
  {
   "cell_type": "code",
   "execution_count": null,
   "id": "6adff419",
   "metadata": {},
   "outputs": [],
   "source": [
    "bin22 = concatenate.loc[(concatenate['pt'] < 2.2) & (concatenate['pt'] >= 2.1)]\n",
    "list1.append(bin22.shape[0])\n",
    "list2.append(((sum((bin22.predict == 0) & (bin22.true == 0))) + (sum((bin22.predict == 1) & (bin22.true == 1))))/bin22.shape[0])"
   ]
  },
  {
   "cell_type": "code",
   "execution_count": null,
   "id": "a33abf95",
   "metadata": {},
   "outputs": [],
   "source": [
    "bin23 = concatenate.loc[(concatenate['pt'] < 2.3) & (concatenate['pt'] >= 2.2)]\n",
    "list1.append(bin23.shape[0])\n",
    "list2.append(((sum((bin23.predict == 0) & (bin23.true == 0))) + (sum((bin23.predict == 1) & (bin23.true == 1))))/bin23.shape[0])"
   ]
  },
  {
   "cell_type": "code",
   "execution_count": null,
   "id": "a97f0784",
   "metadata": {},
   "outputs": [],
   "source": [
    "bin24 = concatenate.loc[(concatenate['pt'] < 2.4) & (concatenate['pt'] >= 2.3)]\n",
    "list1.append(bin24.shape[0])\n",
    "list2.append(((sum((bin24.predict == 0) & (bin24.true == 0))) + (sum((bin24.predict == 1) & (bin24.true == 1))))/bin24.shape[0])"
   ]
  },
  {
   "cell_type": "code",
   "execution_count": null,
   "id": "75638980",
   "metadata": {},
   "outputs": [],
   "source": [
    "bin25 = concatenate.loc[(concatenate['pt'] < 2.5) & (concatenate['pt'] >= 2.4)]\n",
    "list1.append(bin25.shape[0])\n",
    "list2.append(((sum((bin25.predict == 0) & (bin25.true == 0))) + (sum((bin25.predict == 1) & (bin25.true == 1))))/bin25.shape[0])"
   ]
  },
  {
   "cell_type": "code",
   "execution_count": null,
   "id": "c484f364",
   "metadata": {},
   "outputs": [],
   "source": [
    "bin26 = concatenate.loc[(concatenate['pt'] < 2.6) & (concatenate['pt'] >= 2.5)]\n",
    "list1.append(bin26.shape[0])\n",
    "list2.append(((sum((bin26.predict == 0) & (bin26.true == 0))) + (sum((bin26.predict == 1) & (bin26.true == 1))))/bin26.shape[0])"
   ]
  },
  {
   "cell_type": "code",
   "execution_count": null,
   "id": "1e624d6c",
   "metadata": {},
   "outputs": [],
   "source": [
    "bin27 = concatenate.loc[(concatenate['pt'] < 2.7) & (concatenate['pt'] >= 2.6)]\n",
    "list1.append(bin27.shape[0])\n",
    "list2.append(((sum((bin27.predict == 0) & (bin27.true == 0))) + (sum((bin27.predict == 1) & (bin27.true == 1))))/bin27.shape[0])"
   ]
  },
  {
   "cell_type": "code",
   "execution_count": null,
   "id": "c4336d6c",
   "metadata": {},
   "outputs": [],
   "source": [
    "bin28 = concatenate.loc[(concatenate['pt'] < 2.8) & (concatenate['pt'] >= 2.7)]\n",
    "list1.append(bin28.shape[0])\n",
    "list2.append(((sum((bin28.predict == 0) & (bin28.true == 0))) + (sum((bin28.predict == 1) & (bin28.true == 1))))/bin28.shape[0])"
   ]
  },
  {
   "cell_type": "code",
   "execution_count": null,
   "id": "1f97abf0",
   "metadata": {},
   "outputs": [],
   "source": [
    "bin29 = concatenate.loc[(concatenate['pt'] < 2.9) & (concatenate['pt'] >= 2.8)]\n",
    "list1.append(bin29.shape[0])\n",
    "list2.append(((sum((bin29.predict == 0) & (bin29.true == 0))) + (sum((bin29.predict == 1) & (bin29.true == 1))))/bin29.shape[0])"
   ]
  },
  {
   "cell_type": "code",
   "execution_count": null,
   "id": "9ff6155b",
   "metadata": {},
   "outputs": [],
   "source": [
    "bin30 = concatenate.loc[(concatenate['pt'] < 3.0) & (concatenate['pt'] >= 2.9)]\n",
    "list1.append(bin30.shape[0])\n",
    "list2.append(((sum((bin30.predict == 0) & (bin30.true == 0))) + (sum((bin30.predict == 1) & (bin30.true == 1))))/bin30.shape[0])"
   ]
  },
  {
   "cell_type": "code",
   "execution_count": null,
   "id": "681ff24e",
   "metadata": {},
   "outputs": [],
   "source": [
    "bin31 = concatenate.loc[(concatenate['pt'] < 3.1) & (concatenate['pt'] >= 3.0)]\n",
    "list1.append(bin31.shape[0])\n",
    "list2.append(((sum((bin31.predict == 0) & (bin31.true == 0))) + (sum((bin31.predict == 1) & (bin31.true == 1))))/bin31.shape[0])"
   ]
  },
  {
   "cell_type": "code",
   "execution_count": null,
   "id": "30faa122",
   "metadata": {},
   "outputs": [],
   "source": [
    "bin32 = concatenate.loc[(concatenate['pt'] < 3.2) & (concatenate['pt'] >= 3.1)]\n",
    "list1.append(bin32.shape[0])\n",
    "list2.append(((sum((bin32.predict == 0) & (bin32.true == 0))) + (sum((bin32.predict == 1) & (bin32.true == 1))))/bin32.shape[0])"
   ]
  },
  {
   "cell_type": "code",
   "execution_count": null,
   "id": "d443c236",
   "metadata": {},
   "outputs": [],
   "source": [
    "bin33 = concatenate.loc[(concatenate['pt'] < 3.3) & (concatenate['pt'] >= 3.2)]\n",
    "list1.append(bin33.shape[0])\n",
    "list2.append(((sum((bin33.predict == 0) & (bin33.true == 0))) + (sum((bin33.predict == 1) & (bin33.true == 1))))/bin33.shape[0])"
   ]
  },
  {
   "cell_type": "code",
   "execution_count": null,
   "id": "05c943af",
   "metadata": {},
   "outputs": [],
   "source": [
    "bin34 = concatenate.loc[(concatenate['pt'] < 3.4) & (concatenate['pt'] >= 3.3)]\n",
    "list1.append(bin34.shape[0])\n",
    "list2.append(((sum((bin34.predict == 0) & (bin34.true == 0))) + (sum((bin34.predict == 1) & (bin34.true == 1))))/bin34.shape[0])"
   ]
  },
  {
   "cell_type": "code",
   "execution_count": null,
   "id": "7da84192",
   "metadata": {},
   "outputs": [],
   "source": [
    "bin35 = concatenate.loc[(concatenate['pt'] < 3.5) & (concatenate['pt'] >= 3.4)]\n",
    "list1.append(bin35.shape[0])\n",
    "list2.append(((sum((bin35.predict == 0) & (bin35.true == 0))) + (sum((bin35.predict == 1) & (bin35.true == 1))))/bin35.shape[0])"
   ]
  },
  {
   "cell_type": "code",
   "execution_count": null,
   "id": "41cfbc82",
   "metadata": {},
   "outputs": [],
   "source": [
    "bin36 = concatenate.loc[(concatenate['pt'] < 3.6) & (concatenate['pt'] >= 3.5)]\n",
    "list1.append(bin36.shape[0])\n",
    "list2.append(((sum((bin36.predict == 0) & (bin36.true == 0))) + (sum((bin36.predict == 1) & (bin36.true == 1))))/bin36.shape[0])"
   ]
  },
  {
   "cell_type": "code",
   "execution_count": null,
   "id": "2c91e2f3",
   "metadata": {},
   "outputs": [],
   "source": [
    "bin37 = concatenate.loc[(concatenate['pt'] < 3.7) & (concatenate['pt'] >= 3.6)]\n",
    "list1.append(bin37.shape[0])\n",
    "list2.append(((sum((bin37.predict == 0) & (bin37.true == 0))) + (sum((bin37.predict == 1) & (bin37.true == 1))))/bin37.shape[0])"
   ]
  },
  {
   "cell_type": "code",
   "execution_count": null,
   "id": "fff90877",
   "metadata": {},
   "outputs": [],
   "source": [
    "bin38 = concatenate.loc[(concatenate['pt'] < 3.8) & (concatenate['pt'] >= 3.7)]\n",
    "list1.append(bin38.shape[0])\n",
    "list2.append(((sum((bin38.predict == 0) & (bin38.true == 0))) + (sum((bin38.predict == 1) & (bin38.true == 1))))/bin38.shape[0])"
   ]
  },
  {
   "cell_type": "code",
   "execution_count": null,
   "id": "1ad33b2d",
   "metadata": {},
   "outputs": [],
   "source": [
    "bin39 = concatenate.loc[(concatenate['pt'] < 3.9) & (concatenate['pt'] >= 3.8)]\n",
    "list1.append(bin39.shape[0])\n",
    "list2.append(((sum((bin39.predict == 0) & (bin39.true == 0))) + (sum((bin39.predict == 1) & (bin39.true == 1))))/bin39.shape[0])"
   ]
  },
  {
   "cell_type": "code",
   "execution_count": null,
   "id": "12133e8d",
   "metadata": {},
   "outputs": [],
   "source": [
    "bin40 = concatenate.loc[(concatenate['pt'] < 4.0) & (concatenate['pt'] >= 3.9)]\n",
    "list1.append(bin40.shape[0])\n",
    "list2.append(((sum((bin40.predict == 0) & (bin40.true == 0))) + (sum((bin40.predict == 1) & (bin40.true == 1))))/bin40.shape[0])"
   ]
  },
  {
   "cell_type": "code",
   "execution_count": null,
   "id": "1135172b",
   "metadata": {},
   "outputs": [],
   "source": [
    "bin41 = concatenate.loc[(concatenate['pt'] < 4.1) & (concatenate['pt'] >= 4.0)]\n",
    "list1.append(bin41.shape[0])\n",
    "list2.append(((sum((bin41.predict == 0) & (bin41.true == 0))) + (sum((bin41.predict == 1) & (bin41.true == 1))))/bin41.shape[0])"
   ]
  },
  {
   "cell_type": "code",
   "execution_count": null,
   "id": "6c5a8ac3",
   "metadata": {},
   "outputs": [],
   "source": [
    "bin42 = concatenate.loc[(concatenate['pt'] < 4.2) & (concatenate['pt'] >= 4.1)]\n",
    "list1.append(bin42.shape[0])\n",
    "list2.append(((sum((bin42.predict == 0) & (bin42.true == 0))) + (sum((bin42.predict == 1) & (bin42.true == 1))))/bin42.shape[0])"
   ]
  },
  {
   "cell_type": "code",
   "execution_count": null,
   "id": "ad190540",
   "metadata": {},
   "outputs": [],
   "source": [
    "bin43 = concatenate.loc[(concatenate['pt'] < 4.3) & (concatenate['pt'] >= 4.2)]\n",
    "list1.append(bin43.shape[0])\n",
    "list2.append(((sum((bin43.predict == 0) & (bin43.true == 0))) + (sum((bin43.predict == 1) & (bin43.true == 1))))/bin43.shape[0])"
   ]
  },
  {
   "cell_type": "code",
   "execution_count": null,
   "id": "6d67d8b8",
   "metadata": {},
   "outputs": [],
   "source": [
    "bin44 = concatenate.loc[(concatenate['pt'] < 4.4) & (concatenate['pt'] >= 4.3)]\n",
    "list1.append(bin44.shape[0])\n",
    "list2.append(((sum((bin44.predict == 0) & (bin44.true == 0))) + (sum((bin44.predict == 1) & (bin44.true == 1))))/bin44.shape[0])"
   ]
  },
  {
   "cell_type": "code",
   "execution_count": null,
   "id": "4f31eadb",
   "metadata": {},
   "outputs": [],
   "source": [
    "bin45 = concatenate.loc[(concatenate['pt'] < 4.5) & (concatenate['pt'] >= 4.4)]\n",
    "list1.append(bin41.shape[0])\n",
    "list2.append(((sum((bin45.predict == 0) & (bin45.true == 0))) + (sum((bin45.predict == 1) & (bin45.true == 1))))/bin45.shape[0])"
   ]
  },
  {
   "cell_type": "code",
   "execution_count": null,
   "id": "ea61d625",
   "metadata": {},
   "outputs": [],
   "source": [
    "bin46 = concatenate.loc[(concatenate['pt'] < 4.6) & (concatenate['pt'] >= 4.5)]\n",
    "list1.append(bin46.shape[0])\n",
    "list2.append(((sum((bin46.predict == 0) & (bin46.true == 0))) + (sum((bin46.predict == 1) & (bin46.true == 1))))/bin46.shape[0])"
   ]
  },
  {
   "cell_type": "code",
   "execution_count": null,
   "id": "68eeee83",
   "metadata": {},
   "outputs": [],
   "source": [
    "bin47 = concatenate.loc[(concatenate['pt'] < 4.7) & (concatenate['pt'] >= 4.6)]\n",
    "list1.append(bin47.shape[0])\n",
    "list2.append(((sum((bin47.predict == 0) & (bin47.true == 0))) + (sum((bin47.predict == 1) & (bin47.true == 1))))/bin47.shape[0])"
   ]
  },
  {
   "cell_type": "code",
   "execution_count": null,
   "id": "96931ed1",
   "metadata": {},
   "outputs": [],
   "source": [
    "bin48 = concatenate.loc[(concatenate['pt'] < 4.8) & (concatenate['pt'] >= 4.7)]\n",
    "list1.append(bin48.shape[0])\n",
    "list2.append(((sum((bin48.predict == 0) & (bin48.true == 0))) + (sum((bin48.predict == 1) & (bin48.true == 1))))/bin48.shape[0])"
   ]
  },
  {
   "cell_type": "code",
   "execution_count": null,
   "id": "347c6032",
   "metadata": {},
   "outputs": [],
   "source": [
    "bin49 = concatenate.loc[(concatenate['pt'] < 4.9) & (concatenate['pt'] >= 4.8)]\n",
    "list1.append(bin49.shape[0])\n",
    "list2.append(((sum((bin49.predict == 0) & (bin49.true == 0))) + (sum((bin49.predict == 1) & (bin49.true == 1))))/bin49.shape[0])"
   ]
  },
  {
   "cell_type": "code",
   "execution_count": null,
   "id": "7c226ee3",
   "metadata": {},
   "outputs": [],
   "source": [
    "bin50 = concatenate.loc[(concatenate['pt'] < 5.0) & (concatenate['pt'] >= 4.9)]\n",
    "list1.append(bin50.shape[0])\n",
    "list2.append(((sum((bin50.predict == 0) & (bin50.true == 0))) + (sum((bin50.predict == 1) & (bin50.true == 1))))/bin50.shape[0])\n"
   ]
  },
  {
   "cell_type": "code",
   "execution_count": null,
   "id": "49731fb4",
   "metadata": {},
   "outputs": [],
   "source": [
    "list1"
   ]
  },
  {
   "cell_type": "code",
   "execution_count": null,
   "id": "6ae9ec3d",
   "metadata": {},
   "outputs": [],
   "source": [
    "list2"
   ]
  },
  {
   "cell_type": "code",
   "execution_count": null,
   "id": "53a6720b",
   "metadata": {},
   "outputs": [],
   "source": [
    "len(list2)"
   ]
  },
  {
   "cell_type": "code",
   "execution_count": null,
   "id": "c18d2ae2",
   "metadata": {},
   "outputs": [],
   "source": [
    "xvalues = [0.1,0.2,0.3,0.4,0.5,0.6,0.7,0.8,0.9,1.0,1.1,1.2,1.3,1.4,1.5,1.6,1.7,1.8,1.9,2.0,2.1,2.2,2.3,2.4,2.5,2.6,2.7,2.8,2.9,3.0,3.1,3.2,3.3,3.4,3.5,3.6,3.7,3.8,3.9,4.0,4.1,4.2,4.3,4.4,4.5,4.6,4.7,4.8,4.9,5.0]"
   ]
  },
  {
   "cell_type": "code",
   "execution_count": null,
   "id": "e9d4ab51",
   "metadata": {},
   "outputs": [],
   "source": [
    "df = pd.DataFrame(xvalues, columns = ['bin'])\n",
    "df['accuracy'] = list2\n"
   ]
  },
  {
   "cell_type": "code",
   "execution_count": null,
   "id": "c2e819b5",
   "metadata": {
    "scrolled": true
   },
   "outputs": [],
   "source": [
    "import seaborn as sns\n",
    "fig = plt.figure(figsize=(15,8))\n",
    "\n",
    "sns.set_theme(style=\"darkgrid\")\n",
    "\n",
    "sns.lineplot(data = df, x = 'bin', y='accuracy')\n",
    "#sns.scatterplot(data = df, x = 'bin', y='accuracy')\n",
    "labels = xvalues\n",
    "ax = plt.gca()\n",
    "ax.get_xlim()\n",
    "ax.set_xticks(labels) \n",
    "plt.xlim([0,5.0])\n",
    "plt.xlabel('binned true pt (GeV)')\n",
    "\n",
    "\n",
    "plt.savefig('accuracyBinned.png')\n",
    "plt.show()"
   ]
  }
 ],
 "metadata": {
  "kernelspec": {
   "display_name": "Python 3 (ipykernel)",
   "language": "python",
   "name": "python3"
  },
  "language_info": {
   "codemirror_mode": {
    "name": "ipython",
    "version": 3
   },
   "file_extension": ".py",
   "mimetype": "text/x-python",
   "name": "python",
   "nbconvert_exporter": "python",
   "pygments_lexer": "ipython3",
   "version": "3.9.4"
  }
 },
 "nbformat": 4,
 "nbformat_minor": 5
}
