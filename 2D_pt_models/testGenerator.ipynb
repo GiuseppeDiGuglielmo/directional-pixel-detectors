{
 "cells": [
  {
   "cell_type": "code",
   "execution_count": 1,
   "id": "82b64db7-bff1-4b89-8a0a-40d71668daf1",
   "metadata": {},
   "outputs": [],
   "source": [
    "#input data set is a .csv file with y-profile as first columns, then y-local; last column is label of pt\n",
    "\n",
    "from sklearn.metrics import mean_squared_error\n",
    "from sklearn.metrics import confusion_matrix\n",
    "from sklearn.metrics import classification_report\n",
    "import tensorflow as tf\n",
    "from tensorflow.keras import datasets, layers, models\n",
    "import keras\n",
    "from keras.models import Sequential\n",
    "from keras.layers import Dense, Dropout, Flatten\n",
    "from keras.layers import Conv2D, MaxPooling2D\n",
    "from keras.callbacks import CSVLogger\n",
    "from keras.callbacks import EarlyStopping\n",
    "import matplotlib.pyplot as plt\n",
    "import numpy as np\n",
    "import pandas as pd\n",
    "from pandas import read_csv\n",
    "import math\n",
    "import seaborn as sns\n",
    "import csv\n",
    "import tensorflow\n",
    "from sklearn.preprocessing import StandardScaler"
   ]
  },
  {
   "cell_type": "code",
   "execution_count": 2,
   "id": "700ced07-53b4-4f57-92cd-0c3d7d5eebce",
   "metadata": {},
   "outputs": [],
   "source": [
    "num_rows_train = 100000 # Training Set #Rows\n",
    "num_rows_valid = 20000\n",
    "num_row_test = 10000\n",
    "\n",
    "batch_size = 512\n",
    "numEpochs = 40\n",
    "\n",
    "trainSet = '/home/jieun201/makeDataSets_Oct1/train.csv'\n",
    "validSet = '/home/jieun201/makeDataSets_Oct1/TestSet.csv'\n",
    "testSet = '/home/jieun201/makeDataSets_Oct1/valid.csv'"
   ]
  },
  {
   "cell_type": "code",
   "execution_count": 3,
   "id": "8e04fb63-775c-4b7f-b580-755314f96c92",
   "metadata": {},
   "outputs": [],
   "source": [
    "def generate_arrays_from_file(path, batchsize):\n",
    "    inputs = []\n",
    "    targets = []\n",
    "    batchcount = 0\n",
    "    while True:\n",
    "        with open(path) as f:\n",
    "            reader = csv.reader(f)\n",
    "            next(reader, None)\n",
    "            for line in reader:\n",
    "                #print('line', line)\n",
    "                inputs.append(line[0:14])\n",
    "                targets.append(line[-1])\n",
    "                batchcount += 1\n",
    "                if batchcount > batchsize:\n",
    "                  X = np.asarray(inputs, dtype='float32')\n",
    "                 # print('X is here', X)  \n",
    "                  y = np.asarray(targets, dtype='float32')\n",
    "                  scaler = StandardScaler()                  \n",
    "                  X_train = scaler.fit_transform(X.reshape(-1, X.shape[-1])).reshape(X.shape)\n",
    "                  yield (X_train,y)\n",
    "                  #print('X_train',X_train)\n",
    "                  #print('y', y)\n",
    "                               \n",
    "                  inputs = []\n",
    "                  targets = []\n",
    "                  batchcount = 0"
   ]
  },
  {
   "cell_type": "code",
   "execution_count": 4,
   "id": "37eb2bc5-7322-49e0-a27b-e576a26f29c7",
   "metadata": {},
   "outputs": [
    {
     "name": "stderr",
     "output_type": "stream",
     "text": [
      "2022-10-01 10:45:36.328803: I tensorflow/stream_executor/cuda/cuda_gpu_executor.cc:939] successful NUMA node read from SysFS had negative value (-1), but there must be at least one NUMA node, so returning NUMA node zero\n",
      "2022-10-01 10:45:36.363062: I tensorflow/stream_executor/cuda/cuda_gpu_executor.cc:939] successful NUMA node read from SysFS had negative value (-1), but there must be at least one NUMA node, so returning NUMA node zero\n",
      "2022-10-01 10:45:36.363372: I tensorflow/stream_executor/cuda/cuda_gpu_executor.cc:939] successful NUMA node read from SysFS had negative value (-1), but there must be at least one NUMA node, so returning NUMA node zero\n",
      "2022-10-01 10:45:36.365101: I tensorflow/core/platform/cpu_feature_guard.cc:151] This TensorFlow binary is optimized with oneAPI Deep Neural Network Library (oneDNN) to use the following CPU instructions in performance-critical operations:  SSE4.1 SSE4.2 AVX AVX2 FMA\n",
      "To enable them in other operations, rebuild TensorFlow with the appropriate compiler flags.\n",
      "2022-10-01 10:45:36.371249: I tensorflow/stream_executor/cuda/cuda_gpu_executor.cc:939] successful NUMA node read from SysFS had negative value (-1), but there must be at least one NUMA node, so returning NUMA node zero\n",
      "2022-10-01 10:45:36.371573: I tensorflow/stream_executor/cuda/cuda_gpu_executor.cc:939] successful NUMA node read from SysFS had negative value (-1), but there must be at least one NUMA node, so returning NUMA node zero\n",
      "2022-10-01 10:45:36.371849: I tensorflow/stream_executor/cuda/cuda_gpu_executor.cc:939] successful NUMA node read from SysFS had negative value (-1), but there must be at least one NUMA node, so returning NUMA node zero\n",
      "2022-10-01 10:45:36.964190: I tensorflow/stream_executor/cuda/cuda_gpu_executor.cc:939] successful NUMA node read from SysFS had negative value (-1), but there must be at least one NUMA node, so returning NUMA node zero\n",
      "2022-10-01 10:45:36.964560: I tensorflow/stream_executor/cuda/cuda_gpu_executor.cc:939] successful NUMA node read from SysFS had negative value (-1), but there must be at least one NUMA node, so returning NUMA node zero\n",
      "2022-10-01 10:45:36.964830: I tensorflow/stream_executor/cuda/cuda_gpu_executor.cc:939] successful NUMA node read from SysFS had negative value (-1), but there must be at least one NUMA node, so returning NUMA node zero\n",
      "2022-10-01 10:45:36.965107: I tensorflow/core/common_runtime/gpu/gpu_device.cc:1525] Created device /job:localhost/replica:0/task:0/device:GPU:0 with 7919 MB memory:  -> device: 0, name: NVIDIA A100 80GB PCIe MIG 1g.10gb, pci bus id: 0000:07:00.0, compute capability: 8.0\n"
     ]
    },
    {
     "name": "stdout",
     "output_type": "stream",
     "text": [
      "Model: \"sequential\"\n",
      "_________________________________________________________________\n",
      " Layer (type)                Output Shape              Param #   \n",
      "=================================================================\n",
      " dense (Dense)               (None, 32)                480       \n",
      "                                                                 \n",
      " dense_1 (Dense)             (None, 64)                2112      \n",
      "                                                                 \n",
      " dense_2 (Dense)             (None, 1)                 65        \n",
      "                                                                 \n",
      "=================================================================\n",
      "Total params: 2,657\n",
      "Trainable params: 2,657\n",
      "Non-trainable params: 0\n",
      "_________________________________________________________________\n"
     ]
    }
   ],
   "source": [
    "model = Sequential()\n",
    "model.add(Dense(32, input_shape=(14,), activation='relu'))\n",
    "model.add(Dense(64, activation='relu'))\n",
    "model.add(Dense(1, activation='sigmoid'))\n",
    "model.summary() "
   ]
  },
  {
   "cell_type": "code",
   "execution_count": 5,
   "id": "940c2ec3-16af-425d-9b3e-5662955d1fab",
   "metadata": {},
   "outputs": [],
   "source": [
    "model.compile(optimizer='Adam', \n",
    "              loss='binary_crossentropy',\n",
    "              metrics=['accuracy'])\n",
    "#model.fit(generate_arrays_from_file('test.csv', batch_size),\n",
    "                    #steps_per_epoch=5, epochs=1,verbose=1)\n",
    "\n",
    "#model.fit(generate_arrays_from_file('test.csv',3), batch_size=3,steps_per_epoch=5, epochs=1,verbose=1)\n",
    "#note that batches are ok, but if i put verbose=1, then the dotted line giving the results deletes a row of the batch\n",
    "#also note that batch size seems to start with a zero, so batch size of 2 --> [1,2,3]\n",
    "\n",
    "#steps_per_epoch: Integer or None. Total number of steps (batches of samples) before declaring \n",
    "#one epoch finished and starting the next epoch. "
   ]
  },
  {
   "cell_type": "code",
   "execution_count": 6,
   "id": "c5ceb7f3-12c1-4f1a-92d9-0df36c441861",
   "metadata": {},
   "outputs": [],
   "source": [
    "es = EarlyStopping(monitor='val_accuracy', \n",
    "                                   mode='max', # don't minimize the accuracy!\n",
    "                                   patience=10,\n",
    "                                   restore_best_weights=True)"
   ]
  },
  {
   "cell_type": "code",
   "execution_count": 7,
   "id": "dc6452f9-712f-407f-90fb-f2e4fbca0432",
   "metadata": {},
   "outputs": [
    {
     "name": "stdout",
     "output_type": "stream",
     "text": [
      "39.0625\n",
      "Epoch 1/40\n",
      " 40/195 [=====>........................] - ETA: 0s - loss: 0.6836 - accuracy: 0.5612"
     ]
    },
    {
     "name": "stderr",
     "output_type": "stream",
     "text": [
      "2022-10-01 10:45:38.231482: I tensorflow/stream_executor/cuda/cuda_blas.cc:1774] TensorFloat-32 will be used for the matrix multiplication. This will only be logged once.\n"
     ]
    },
    {
     "name": "stdout",
     "output_type": "stream",
     "text": [
      "195/195 [==============================] - 2s 6ms/step - loss: 0.6555 - accuracy: 0.6162 - val_loss: 0.6245 - val_accuracy: 0.6665\n",
      "Epoch 2/40\n",
      "195/195 [==============================] - 1s 5ms/step - loss: 0.6052 - accuracy: 0.6883 - val_loss: 0.5899 - val_accuracy: 0.7027\n",
      "Epoch 3/40\n",
      "195/195 [==============================] - 1s 5ms/step - loss: 0.5782 - accuracy: 0.7172 - val_loss: 0.5707 - val_accuracy: 0.7176\n",
      "Epoch 4/40\n",
      "195/195 [==============================] - 1s 5ms/step - loss: 0.5601 - accuracy: 0.7303 - val_loss: 0.5563 - val_accuracy: 0.7281\n",
      "Epoch 5/40\n",
      "195/195 [==============================] - 1s 5ms/step - loss: 0.5474 - accuracy: 0.7385 - val_loss: 0.5465 - val_accuracy: 0.7349\n",
      "Epoch 6/40\n",
      "195/195 [==============================] - 1s 5ms/step - loss: 0.5391 - accuracy: 0.7419 - val_loss: 0.5430 - val_accuracy: 0.7360\n",
      "Epoch 7/40\n",
      "195/195 [==============================] - 1s 5ms/step - loss: 0.5321 - accuracy: 0.7457 - val_loss: 0.5353 - val_accuracy: 0.7404\n",
      "Epoch 8/40\n",
      "195/195 [==============================] - 1s 5ms/step - loss: 0.5269 - accuracy: 0.7479 - val_loss: 0.5305 - val_accuracy: 0.7446\n",
      "Epoch 9/40\n",
      "195/195 [==============================] - 1s 4ms/step - loss: 0.5221 - accuracy: 0.7513 - val_loss: 0.5278 - val_accuracy: 0.7447\n",
      "Epoch 10/40\n",
      "195/195 [==============================] - 1s 4ms/step - loss: 0.5167 - accuracy: 0.7541 - val_loss: 0.5228 - val_accuracy: 0.7492\n",
      "Epoch 11/40\n",
      "195/195 [==============================] - 1s 4ms/step - loss: 0.5137 - accuracy: 0.7550 - val_loss: 0.5174 - val_accuracy: 0.7502\n",
      "Epoch 12/40\n",
      "195/195 [==============================] - 1s 4ms/step - loss: 0.5107 - accuracy: 0.7568 - val_loss: 0.5126 - val_accuracy: 0.7556\n",
      "Epoch 13/40\n",
      "195/195 [==============================] - 1s 5ms/step - loss: 0.5068 - accuracy: 0.7586 - val_loss: 0.5119 - val_accuracy: 0.7545\n",
      "Epoch 14/40\n",
      "195/195 [==============================] - 1s 4ms/step - loss: 0.5056 - accuracy: 0.7588 - val_loss: 0.5059 - val_accuracy: 0.7597\n",
      "Epoch 15/40\n",
      "195/195 [==============================] - 1s 5ms/step - loss: 0.5031 - accuracy: 0.7613 - val_loss: 0.5001 - val_accuracy: 0.7647\n",
      "Epoch 16/40\n",
      "195/195 [==============================] - 1s 4ms/step - loss: 0.5007 - accuracy: 0.7618 - val_loss: 0.5019 - val_accuracy: 0.7621\n",
      "Epoch 17/40\n",
      "195/195 [==============================] - 1s 4ms/step - loss: 0.4987 - accuracy: 0.7634 - val_loss: 0.4975 - val_accuracy: 0.7664\n",
      "Epoch 18/40\n",
      "195/195 [==============================] - 1s 4ms/step - loss: 0.4969 - accuracy: 0.7640 - val_loss: 0.4938 - val_accuracy: 0.7688\n",
      "Epoch 19/40\n",
      "195/195 [==============================] - 1s 4ms/step - loss: 0.4954 - accuracy: 0.7648 - val_loss: 0.4935 - val_accuracy: 0.7692\n",
      "Epoch 20/40\n",
      "195/195 [==============================] - 1s 4ms/step - loss: 0.4934 - accuracy: 0.7670 - val_loss: 0.4917 - val_accuracy: 0.7709\n",
      "Epoch 21/40\n",
      "195/195 [==============================] - 1s 6ms/step - loss: 0.4924 - accuracy: 0.7664 - val_loss: 0.4903 - val_accuracy: 0.7711\n",
      "Epoch 22/40\n",
      "195/195 [==============================] - 1s 6ms/step - loss: 0.4916 - accuracy: 0.7668 - val_loss: 0.4875 - val_accuracy: 0.7734\n",
      "Epoch 23/40\n",
      "195/195 [==============================] - 1s 6ms/step - loss: 0.4892 - accuracy: 0.7688 - val_loss: 0.4882 - val_accuracy: 0.7738\n",
      "Epoch 24/40\n",
      "195/195 [==============================] - 1s 6ms/step - loss: 0.4897 - accuracy: 0.7673 - val_loss: 0.4869 - val_accuracy: 0.7744\n",
      "Epoch 25/40\n",
      "195/195 [==============================] - 1s 5ms/step - loss: 0.4878 - accuracy: 0.7696 - val_loss: 0.4837 - val_accuracy: 0.7756\n",
      "Epoch 26/40\n",
      "195/195 [==============================] - 1s 4ms/step - loss: 0.4852 - accuracy: 0.7714 - val_loss: 0.4845 - val_accuracy: 0.7729\n",
      "Epoch 27/40\n",
      "195/195 [==============================] - 1s 5ms/step - loss: 0.4856 - accuracy: 0.7698 - val_loss: 0.4826 - val_accuracy: 0.7758\n",
      "Epoch 28/40\n",
      "195/195 [==============================] - 1s 4ms/step - loss: 0.4845 - accuracy: 0.7708 - val_loss: 0.4816 - val_accuracy: 0.7765\n",
      "Epoch 29/40\n",
      "195/195 [==============================] - 1s 5ms/step - loss: 0.4826 - accuracy: 0.7726 - val_loss: 0.4832 - val_accuracy: 0.7754\n",
      "Epoch 30/40\n",
      "195/195 [==============================] - 1s 5ms/step - loss: 0.4834 - accuracy: 0.7715 - val_loss: 0.4801 - val_accuracy: 0.7767\n",
      "Epoch 31/40\n",
      "195/195 [==============================] - 1s 4ms/step - loss: 0.4823 - accuracy: 0.7718 - val_loss: 0.4814 - val_accuracy: 0.7747\n",
      "Epoch 32/40\n",
      "195/195 [==============================] - 1s 4ms/step - loss: 0.4809 - accuracy: 0.7731 - val_loss: 0.4795 - val_accuracy: 0.7770\n",
      "Epoch 33/40\n",
      "195/195 [==============================] - 1s 4ms/step - loss: 0.4809 - accuracy: 0.7737 - val_loss: 0.4780 - val_accuracy: 0.7768\n",
      "Epoch 34/40\n",
      "195/195 [==============================] - 1s 5ms/step - loss: 0.4801 - accuracy: 0.7732 - val_loss: 0.4773 - val_accuracy: 0.7781\n",
      "Epoch 35/40\n",
      "195/195 [==============================] - 1s 5ms/step - loss: 0.4794 - accuracy: 0.7742 - val_loss: 0.4770 - val_accuracy: 0.7790\n",
      "Epoch 36/40\n",
      "195/195 [==============================] - 1s 4ms/step - loss: 0.4783 - accuracy: 0.7755 - val_loss: 0.4772 - val_accuracy: 0.7786\n",
      "Epoch 37/40\n",
      "195/195 [==============================] - 1s 5ms/step - loss: 0.4784 - accuracy: 0.7739 - val_loss: 0.4764 - val_accuracy: 0.7778\n",
      "Epoch 38/40\n",
      "195/195 [==============================] - 1s 4ms/step - loss: 0.4781 - accuracy: 0.7742 - val_loss: 0.4751 - val_accuracy: 0.7801\n",
      "Epoch 39/40\n",
      "195/195 [==============================] - 1s 5ms/step - loss: 0.4765 - accuracy: 0.7761 - val_loss: 0.4758 - val_accuracy: 0.7791\n",
      "Epoch 40/40\n",
      "195/195 [==============================] - 1s 6ms/step - loss: 0.4779 - accuracy: 0.7736 - val_loss: 0.4756 - val_accuracy: 0.7804\n"
     ]
    }
   ],
   "source": [
    "#num_val_steps = int(15/batch_size)\n",
    "#to get batch size, do one less than due to zero offset, so if want batch size of 2, do batch size of 1\n",
    "\n",
    "num_val_steps = num_rows_valid/batch_size\n",
    "print(num_val_steps)\n",
    "\n",
    "history = model.fit(generate_arrays_from_file(trainSet,batch_size-1), \n",
    "                    steps_per_epoch=num_rows_train/batch_size, epochs=numEpochs,verbose=1,\n",
    "                    validation_data=generate_arrays_from_file(validSet, batch_size-1), \n",
    "                    callbacks=[es],\n",
    "                    #use_multiprocessing=True,workers=6,\n",
    "                    validation_steps=num_val_steps)\n",
    "\n",
    "      #              shuffle=True,\n",
    "       #             verbose=1)\n",
    "#so i need to make separate training and validation sets\n",
    "#it seems this solves the problem of reading from one big file, but still relies on one big file\n",
    "#which may be ok but if not will have to change to read in sep. files"
   ]
  },
  {
   "cell_type": "code",
   "execution_count": 8,
   "id": "6110e35e-d156-47ab-89bd-b69cc6fc244b",
   "metadata": {},
   "outputs": [
    {
     "data": {
      "image/png": "[encoded data removed]",
      "text/plain": [
       "<Figure size 640x480 with 1 Axes>"
      ]
     },
     "metadata": {},
     "output_type": "display_data"
    }
   ],
   "source": [
    "history_dict = history.history\n",
    "loss_values = history_dict['loss'] \n",
    "val_loss_values = history_dict['val_loss'] \n",
    "epochs = range(1, len(loss_values) + 1) \n",
    "plt.plot(epochs, loss_values, 'bo', label='Training loss')\n",
    "plt.plot(epochs, val_loss_values, 'orange', label='Validation loss')\n",
    "plt.title('Training and validation loss')\n",
    "plt.xlabel('Epochs')\n",
    "plt.ylabel('Loss')\n",
    "plt.legend()\n",
    "plt.savefig('loss.png')"
   ]
  },
  {
   "cell_type": "code",
   "execution_count": 9,
   "id": "7bf68abc-472b-45b4-9b1f-ba01100f604e",
   "metadata": {},
   "outputs": [
    {
     "data": {
      "image/png": "[encoded data removed]",
      "text/plain": [
       "<Figure size 640x480 with 1 Axes>"
      ]
     },
     "metadata": {},
     "output_type": "display_data"
    }
   ],
   "source": [
    "acc = history.history['accuracy']\n",
    "val_acc = history.history['val_accuracy']\n",
    "epochs = range(1, len(acc) + 1)\n",
    "plt.plot(epochs, acc, 'bo', label='Training accuracy')\n",
    "plt.plot(epochs, val_acc, 'orange', label='Validation accuracy')\n",
    "plt.title('Training and validation accuracy')\n",
    "plt.xlabel('Epochs')\n",
    "plt.ylabel('Accuracy')\n",
    "plt.legend()\n",
    "np.max(val_acc)\n",
    "plt.savefig('accuracy.png')\n",
    "plt.show()"
   ]
  },
  {
   "cell_type": "code",
   "execution_count": 10,
   "id": "7a70b7b9-32ee-4ba6-bd4c-252b58479031",
   "metadata": {},
   "outputs": [],
   "source": [
    "truthB = []\n",
    "predB = []\n",
    "\n",
    "test_generator = generate_arrays_from_file(testSet,batch_size-1)\n",
    "limit = num_row_test/batch_size\n",
    " \n",
    "batches = 0\n",
    "for i in test_generator:\n",
    "  #predB.append(model.predict(i[0]))\n",
    "  predB.append(np.round(model.predict(i[0]),0))\n",
    "  truthB.append(i[1]) \n",
    "  batches += 1\n",
    "  if batches > (limit)-1:\n",
    "    break"
   ]
  },
  {
   "cell_type": "code",
   "execution_count": 11,
   "id": "8445af5f-e351-4c69-86d8-a348dff52e12",
   "metadata": {},
   "outputs": [],
   "source": [
    "predBATCHED = np.concatenate(predB)\n",
    "truthBATCHED = np.concatenate(truthB)\n",
    "\n",
    "df_predict2 = pd.DataFrame(predBATCHED, columns=['pt'])\n",
    "df_true = pd.DataFrame(truthBATCHED, columns=['pt'])\n",
    "df_predict2.to_csv('predictions.csv', header=False)\n",
    "df_true.to_csv('truePT_label.csv', header=False)\n",
    "#note also need to save true PT not label for analysis purposes - when making test set, make another file that has PT"
   ]
  },
  {
   "cell_type": "code",
   "execution_count": 12,
   "id": "8fb24ae8-efc9-4008-9e03-15954bdfd3d4",
   "metadata": {},
   "outputs": [
    {
     "data": {
      "text/html": [
       "<div>\n",
       "<style scoped>\n",
       "    .dataframe tbody tr th:only-of-type {\n",
       "        vertical-align: middle;\n",
       "    }\n",
       "\n",
       "    .dataframe tbody tr th {\n",
       "        vertical-align: top;\n",
       "    }\n",
       "\n",
       "    .dataframe thead th {\n",
       "        text-align: right;\n",
       "    }\n",
       "</style>\n",
       "<table border=\"1\" class=\"dataframe\">\n",
       "  <thead>\n",
       "    <tr style=\"text-align: right;\">\n",
       "      <th></th>\n",
       "      <th>pt</th>\n",
       "    </tr>\n",
       "  </thead>\n",
       "  <tbody>\n",
       "    <tr>\n",
       "      <th>0</th>\n",
       "      <td>1.0</td>\n",
       "    </tr>\n",
       "    <tr>\n",
       "      <th>1</th>\n",
       "      <td>0.0</td>\n",
       "    </tr>\n",
       "    <tr>\n",
       "      <th>2</th>\n",
       "      <td>0.0</td>\n",
       "    </tr>\n",
       "    <tr>\n",
       "      <th>3</th>\n",
       "      <td>0.0</td>\n",
       "    </tr>\n",
       "    <tr>\n",
       "      <th>4</th>\n",
       "      <td>0.0</td>\n",
       "    </tr>\n",
       "    <tr>\n",
       "      <th>...</th>\n",
       "      <td>...</td>\n",
       "    </tr>\n",
       "    <tr>\n",
       "      <th>9723</th>\n",
       "      <td>0.0</td>\n",
       "    </tr>\n",
       "    <tr>\n",
       "      <th>9724</th>\n",
       "      <td>0.0</td>\n",
       "    </tr>\n",
       "    <tr>\n",
       "      <th>9725</th>\n",
       "      <td>0.0</td>\n",
       "    </tr>\n",
       "    <tr>\n",
       "      <th>9726</th>\n",
       "      <td>0.0</td>\n",
       "    </tr>\n",
       "    <tr>\n",
       "      <th>9727</th>\n",
       "      <td>0.0</td>\n",
       "    </tr>\n",
       "  </tbody>\n",
       "</table>\n",
       "<p>9728 rows × 1 columns</p>\n",
       "</div>"
      ],
      "text/plain": [
       "       pt\n",
       "0     1.0\n",
       "1     0.0\n",
       "2     0.0\n",
       "3     0.0\n",
       "4     0.0\n",
       "...   ...\n",
       "9723  0.0\n",
       "9724  0.0\n",
       "9725  0.0\n",
       "9726  0.0\n",
       "9727  0.0\n",
       "\n",
       "[9728 rows x 1 columns]"
      ]
     },
     "execution_count": 12,
     "metadata": {},
     "output_type": "execute_result"
    }
   ],
   "source": [
    "df_true"
   ]
  },
  {
   "cell_type": "code",
   "execution_count": 13,
   "id": "c1e8e24c-e4b0-49da-877a-926ce6f2ea53",
   "metadata": {},
   "outputs": [
    {
     "name": "stdout",
     "output_type": "stream",
     "text": [
      "[[3835 1076]\n",
      " [1100 3717]]\n"
     ]
    }
   ],
   "source": [
    "print(confusion_matrix(df_true, df_predict2)) # order matters! (actual, predicted)"
   ]
  },
  {
   "cell_type": "code",
   "execution_count": 14,
   "id": "22a6e340-020d-4d1d-9fa2-31f5056cefdf",
   "metadata": {},
   "outputs": [
    {
     "name": "stdout",
     "output_type": "stream",
     "text": [
      "              precision    recall  f1-score   support\n",
      "\n",
      "         0.0       0.78      0.78      0.78      4911\n",
      "         1.0       0.78      0.77      0.77      4817\n",
      "\n",
      "    accuracy                           0.78      9728\n",
      "   macro avg       0.78      0.78      0.78      9728\n",
      "weighted avg       0.78      0.78      0.78      9728\n",
      "\n"
     ]
    }
   ],
   "source": [
    "print(classification_report(df_true, df_predict2))"
   ]
  },
  {
   "cell_type": "code",
   "execution_count": null,
   "id": "51bc3cee-c583-4d60-804d-6a4587f3f8fb",
   "metadata": {},
   "outputs": [],
   "source": []
  }
 ],
 "metadata": {
  "kernelspec": {
   "display_name": "Python 3 (ipykernel)",
   "language": "python",
   "name": "py3-preamble"
  },
  "language_info": {
   "codemirror_mode": {
    "name": "ipython",
    "version": 3
   },
   "file_extension": ".py",
   "mimetype": "text/x-python",
   "name": "python",
   "nbconvert_exporter": "python",
   "pygments_lexer": "ipython3",
   "version": "3.9.13"
  }
 },
 "nbformat": 4,
 "nbformat_minor": 5
}
