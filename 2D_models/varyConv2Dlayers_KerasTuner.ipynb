{
 "cells": [
  {
   "cell_type": "code",
   "execution_count": null,
   "id": "8626ef7a-be24-4aaf-86f1-35ad9ff659b3",
   "metadata": {},
   "outputs": [],
   "source": [
    "#pip install keras_tuner"
   ]
  },
  {
   "cell_type": "code",
   "execution_count": null,
   "id": "d3b95f02-ce28-4943-95d1-cae53980ce75",
   "metadata": {},
   "outputs": [],
   "source": [
    "from tensorflow.keras.callbacks import EarlyStopping\n",
    "from tensorflow.keras.models import Sequential\n",
    "from tensorflow.keras.layers import BatchNormalization\n",
    "from tensorflow.keras.layers import Conv2D\n",
    "from tensorflow.keras.layers import MaxPooling2D\n",
    "from tensorflow.keras.layers import Activation\n",
    "from tensorflow.keras.layers import Flatten\n",
    "from tensorflow.keras.layers import Dropout\n",
    "from tensorflow.keras.layers import Dense\n",
    "from tensorflow.keras.optimizers import Adam\n",
    "import keras_tuner as kt\n",
    "import numpy as np\n",
    "import argparse\n",
    "import pandas as pd\n",
    "from sklearn.model_selection import train_test_split\n",
    "from sklearn.metrics import mean_squared_error\n",
    "from sklearn.preprocessing import StandardScaler\n",
    "from pandas import read_csv\n",
    "import math"
   ]
  },
  {
   "cell_type": "code",
   "execution_count": null,
   "id": "d5d7417e-1761-4997-a954-0e75a35f4b27",
   "metadata": {},
   "outputs": [],
   "source": [
    "OUTPUT_PATH = \"output\"\n",
    "INPUT_SHAPE = (13, 21, 1)\n",
    "NUM_CLASSES = 1\n",
    "EPOCHS = 100\n",
    "BS = 1024\n",
    "EARLY_STOPPING_PATIENCE = 5"
   ]
  },
  {
   "cell_type": "code",
   "execution_count": null,
   "id": "a459cc83-a3b9-45bc-9313-714159a7fdd6",
   "metadata": {},
   "outputs": [],
   "source": [
    "df1 = pd.read_csv('CATrecon.csv')\n",
    "df2 = pd.read_csv('CATlabels.csv')\n",
    "\n",
    "X = df1.values\n",
    "y = df2.values\n",
    "\n",
    "n = 899707\n",
    "\n",
    "X = np.reshape(X, (n,13,21,1))"
   ]
  },
  {
   "cell_type": "markdown",
   "id": "6bba6a49-1a60-4412-9292-06537ad6160e",
   "metadata": {
    "tags": []
   },
   "source": [
    "df2.shape()"
   ]
  },
  {
   "cell_type": "code",
   "execution_count": null,
   "id": "a7db5c82-1927-4e8b-8cdb-57a5550eabef",
   "metadata": {},
   "outputs": [],
   "source": [
    "df1.shape"
   ]
  },
  {
   "cell_type": "code",
   "execution_count": null,
   "id": "73c205ff-3bd0-4d02-9c3c-fe01776f3d18",
   "metadata": {},
   "outputs": [],
   "source": [
    "df2.drop('x-entry', axis=1, inplace=True)\n",
    "df2.drop('y-entry', axis=1, inplace=True)\n",
    "df2.drop('z-entry', axis=1, inplace=True)\n",
    "df2.drop('n_x', axis=1, inplace=True)\n",
    "df2.drop('n_y', axis=1, inplace=True)\n",
    "df2.drop('n_z', axis=1, inplace=True)\n",
    "df2.drop('number_eh_pairs', axis=1, inplace=True)\n",
    "df2.drop('cotAlpha', axis=1, inplace=True)\n",
    "\n",
    "print(df2.head())\n",
    "y = df2.values"
   ]
  },
  {
   "cell_type": "code",
   "execution_count": null,
   "id": "4447cb85-c4fd-40de-ae14-6f7eb377e0b6",
   "metadata": {},
   "outputs": [],
   "source": [
    "def build_model(hp):\n",
    "    model = Sequential()\n",
    "    inputShape = INPUT_SHAPE\n",
    "    chanDim = -1\n",
    "    model.add(Conv2D(hp.Int(\"conv_1\", min_value=64, max_value=256, step=32), (3, 3), strides=(2, 2), \n",
    "                        input_shape=inputShape))\n",
    "    model.add(Activation(\"relu\"))\n",
    "    model.add(MaxPooling2D(pool_size=(2, 2)))\n",
    "    for i in range(hp.Int('n_layers', 3, 5)):  # adding variation of layers.\n",
    "        model.add(Conv2D(hp.Int(f'conv_{i}_units', min_value=64, max_value=256, step=32), \n",
    "                         (3, 3), strides=(2, 2), padding=\"same\" ))\n",
    "        model.add(Activation('relu'))\n",
    "    \n",
    "    model.add(Flatten())\n",
    "    model.add(Dense(hp.Int(\"dense_units\", min_value=64, max_value=512, step=256)))\n",
    "    model.add(Activation(\"relu\"))\n",
    "    model.add(Dropout(0.05))\n",
    " \n",
    "    model.add(Dense(NUM_CLASSES))\n",
    "    model.add(Activation(\"linear\"))\n",
    "    \n",
    "    model.compile(optimizer=\"adam\",\n",
    "        loss=\"Huber\",\n",
    "        metrics=[\"mean_squared_error\"])\n",
    "    \n",
    "    return model"
   ]
  },
  {
   "cell_type": "code",
   "execution_count": null,
   "id": "f4030aca-aacc-4d83-b6d7-bd656167cee5",
   "metadata": {},
   "outputs": [],
   "source": [
    "X_train, X_test, y_train, y_test = train_test_split(X,y,test_size = 0.20, random_state = 0)\n",
    "print(X.shape, y.shape)\n",
    "print(X_train.shape, X_test.shape, y_train.shape, y_test.shape)\n",
    "\n",
    "#scale input data\n",
    "scaler = StandardScaler()\n",
    "X_train = scaler.fit_transform(X_train.reshape(-1, X_train.shape[-1])).reshape(X_train.shape)\n",
    "X_test = scaler.transform(X_test.reshape(-1, X_test.shape[-1])).reshape(X_test.shape)\n",
    "\n",
    "es = EarlyStopping(\n",
    "\tmonitor=\"mean_squared_error\",\n",
    "\tpatience=EARLY_STOPPING_PATIENCE,\n",
    "\trestore_best_weights=True)\n",
    "\n",
    "tuner = kt.BayesianOptimization(build_model, objective=\"mean_squared_error\", \n",
    "                                max_trials=50, \n",
    "                                seed=32, directory=OUTPUT_PATH, project_name='bayes')\n",
    "\n",
    "print(\"[INFO] performing hyperparameter search...\")\n",
    "tuner.search(\n",
    "  x=X_train, y=y_train, validation_data=(X_test, y_test), batch_size=BS, callbacks=[es], epochs=EPOCHS\n",
    "\t)\n",
    "\n",
    "bestHP = tuner.get_best_hyperparameters(num_trials=1)[0]\n",
    "tuner.get_best_models()[0].summary()\n",
    "\n"
   ]
  }
 ],
 "metadata": {
  "kernelspec": {
   "display_name": "Python 3 (ipykernel)",
   "language": "python",
   "name": "python3"
  },
  "language_info": {
   "codemirror_mode": {
    "name": "ipython",
    "version": 3
   },
   "file_extension": ".py",
   "mimetype": "text/x-python",
   "name": "python",
   "nbconvert_exporter": "python",
   "pygments_lexer": "ipython3",
   "version": "3.9.4"
  }
 },
 "nbformat": 4,
 "nbformat_minor": 5
}
