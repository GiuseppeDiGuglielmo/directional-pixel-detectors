{
 "cells": [
  {
   "cell_type": "code",
   "execution_count": 2,
   "id": "8626ef7a-be24-4aaf-86f1-35ad9ff659b3",
   "metadata": {},
   "outputs": [],
   "source": [
    "#pip install keras_tuner"
   ]
  },
  {
   "cell_type": "code",
   "execution_count": 1,
   "id": "d3b95f02-ce28-4943-95d1-cae53980ce75",
   "metadata": {},
   "outputs": [],
   "source": [
    "from tensorflow.keras.callbacks import EarlyStopping\n",
    "from tensorflow.keras.models import Sequential\n",
    "from tensorflow.keras.layers import BatchNormalization\n",
    "from tensorflow.keras.layers import Conv2D\n",
    "from tensorflow.keras.layers import MaxPooling2D\n",
    "from tensorflow.keras.layers import Activation\n",
    "from tensorflow.keras.layers import Flatten\n",
    "from tensorflow.keras.layers import Dropout\n",
    "from tensorflow.keras.layers import Dense\n",
    "from tensorflow.keras.optimizers import Adam\n",
    "import keras_tuner as kt\n",
    "import numpy as np\n",
    "import argparse\n",
    "import pandas as pd\n",
    "from sklearn.model_selection import train_test_split\n",
    "from sklearn.metrics import mean_squared_error\n",
    "from sklearn.preprocessing import StandardScaler\n",
    "from pandas import read_csv\n",
    "import math"
   ]
  },
  {
   "cell_type": "code",
   "execution_count": 3,
   "id": "d5d7417e-1761-4997-a954-0e75a35f4b27",
   "metadata": {},
   "outputs": [],
   "source": [
    "OUTPUT_PATH = \"output\"\n",
    "INPUT_SHAPE = (13, 21, 1)\n",
    "NUM_CLASSES = 2\n",
    "EPOCHS = 100\n",
    "BS = 64\n",
    "EARLY_STOPPING_PATIENCE = 5"
   ]
  },
  {
   "cell_type": "code",
   "execution_count": 4,
   "id": "a459cc83-a3b9-45bc-9313-714159a7fdd6",
   "metadata": {},
   "outputs": [],
   "source": [
    "df1 = pd.read_csv('recon650k.csv')\n",
    "df2 = pd.read_csv('labels650k.csv')\n",
    "\n",
    "X = df1.values\n",
    "y = df2.values\n",
    "\n",
    "n = 650000\n",
    "\n",
    "X = np.reshape(X, (n,13,21,1))"
   ]
  },
  {
   "cell_type": "markdown",
   "id": "6bba6a49-1a60-4412-9292-06537ad6160e",
   "metadata": {
    "tags": []
   },
   "source": [
    "df2.shape()"
   ]
  },
  {
   "cell_type": "code",
   "execution_count": 5,
   "id": "a7db5c82-1927-4e8b-8cdb-57a5550eabef",
   "metadata": {},
   "outputs": [
    {
     "data": {
      "text/plain": [
       "(650000, 273)"
      ]
     },
     "execution_count": 5,
     "metadata": {},
     "output_type": "execute_result"
    }
   ],
   "source": [
    "df1.shape"
   ]
  },
  {
   "cell_type": "code",
   "execution_count": 6,
   "id": "73c205ff-3bd0-4d02-9c3c-fe01776f3d18",
   "metadata": {},
   "outputs": [
    {
     "name": "stdout",
     "output_type": "stream",
     "text": [
      "   cotAlpha   cotBeta\n",
      "0  3.696619  0.098554\n",
      "1  2.341443 -0.206051\n",
      "2  7.428552 -0.017690\n",
      "3  7.807505  0.044182\n",
      "4  3.911512 -0.191527\n"
     ]
    }
   ],
   "source": [
    "df2.drop('x-entry', axis=1, inplace=True)\n",
    "df2.drop('y-entry', axis=1, inplace=True)\n",
    "df2.drop('z-entry', axis=1, inplace=True)\n",
    "df2.drop('n_x', axis=1, inplace=True)\n",
    "df2.drop('n_y', axis=1, inplace=True)\n",
    "df2.drop('n_z', axis=1, inplace=True)\n",
    "df2.drop('number_eh_pairs', axis=1, inplace=True)\n",
    "\n",
    "print(df2.head())\n",
    "y = df2.values"
   ]
  },
  {
   "cell_type": "code",
   "execution_count": 7,
   "id": "4447cb85-c4fd-40de-ae14-6f7eb377e0b6",
   "metadata": {},
   "outputs": [],
   "source": [
    "def build_model(hp):\n",
    "\tmodel = Sequential()\n",
    "    \n",
    "\tinputShape = INPUT_SHAPE\n",
    "\tchanDim = -1\n",
    "\n",
    "\tmodel.add(Conv2D(hp.Int(\"conv_1\", min_value=32, max_value=96, step=32), (3, 3), padding=\"same\", input_shape=inputShape))\n",
    "\tmodel.add(Activation(\"relu\"))\n",
    "\tmodel.add(MaxPooling2D(pool_size=(2, 2)))\n",
    "\tmodel.add(Conv2D(\n",
    "\thp.Int(\"conv_2\", min_value=64, max_value=128, step=32),(3, 3), padding=\"same\"))\n",
    "\tmodel.add(Activation(\"relu\"))\n",
    "\tmodel.add(Flatten())\n",
    "\tmodel.add(Dense(hp.Int(\"dense_units\", min_value=64,\n",
    "\t\tmax_value=512, step=256)))\n",
    "\tmodel.add(Activation(\"relu\"))\n",
    "\tmodel.add(Dropout(0.1))\n",
    "\tmodel.add(Dense(NUM_CLASSES))\n",
    "\tmodel.add(Activation(\"linear\"))\n",
    "\tlr = hp.Choice(\"learning_rate\",\n",
    "\t\tvalues=[1e-1, 1e-2, 1e-3])\n",
    "\topt = Adam(learning_rate=lr)\n",
    "\tmodel.compile(optimizer=opt, loss=\"mean_squared_error\",\n",
    "\t\tmetrics=[\"mean_squared_error\"])\n",
    "\treturn model"
   ]
  },
  {
   "cell_type": "code",
   "execution_count": null,
   "id": "f4030aca-aacc-4d83-b6d7-bd656167cee5",
   "metadata": {},
   "outputs": [
    {
     "name": "stdout",
     "output_type": "stream",
     "text": [
      "Trial 12 Complete [01h 03m 59s]\n",
      "mean_squared_error: 0.01579948514699936\n",
      "\n",
      "Best mean_squared_error So Far: 0.01561440248042345\n",
      "Total elapsed time: 07h 39m 06s\n",
      "\n",
      "Search: Running Trial #13\n",
      "\n",
      "Hyperparameter    |Value             |Best Value So Far \n",
      "conv_1            |64                |96                \n",
      "conv_2            |96                |64                \n",
      "dense_units       |320               |320               \n",
      "learning_rate     |0.001             |0.001             \n",
      "\n",
      "Epoch 1/100\n",
      "8125/8125 [==============================] - 58s 7ms/step - loss: 0.0571 - mean_squared_error: 0.0571 - val_loss: 0.0200 - val_mean_squared_error: 0.0200\n",
      "Epoch 2/100\n",
      "8125/8125 [==============================] - 56s 7ms/step - loss: 0.0249 - mean_squared_error: 0.0249 - val_loss: 0.0116 - val_mean_squared_error: 0.0116\n",
      "Epoch 3/100\n",
      "3028/8125 [==========>...................] - ETA: 31s - loss: 0.0229 - mean_squared_error: 0.0229"
     ]
    }
   ],
   "source": [
    "X_train, X_test, y_train, y_test = train_test_split(X,y,test_size = 0.20, random_state = 0)\n",
    "print(X.shape, y.shape)\n",
    "print(X_train.shape, X_test.shape, y_train.shape, y_test.shape)\n",
    "\n",
    "#scale input data\n",
    "scaler = StandardScaler()\n",
    "X_train = scaler.fit_transform(X_train.reshape(-1, X_train.shape[-1])).reshape(X_train.shape)\n",
    "X_test = scaler.transform(X_test.reshape(-1, X_test.shape[-1])).reshape(X_test.shape)\n",
    "\n",
    "es = EarlyStopping(\n",
    "\tmonitor=\"mean_squared_error\",\n",
    "\tpatience=EARLY_STOPPING_PATIENCE,\n",
    "\trestore_best_weights=True)\n",
    "\n",
    "\n",
    "#tuner = kt.RandomSearch( build_model, objective=\"mean_squared_error\", max_trials=10, seed=32, directory=OUTPUT_PATH,\n",
    "\n",
    "tuner = kt.BayesianOptimization(build_model, objective=\"mean_squared_error\", max_trials=30, seed=32, directory=OUTPUT_PATH, project_name='bayes')\n",
    "\n",
    "print(\"[INFO] performing hyperparameter search...\")\n",
    "tuner.search(\n",
    "  x=X_train, y=y_train, validation_data=(X_test, y_test), batch_size=BS, callbacks=[es], epochs=EPOCHS\n",
    "\t)\n",
    "\n",
    "bestHP = tuner.get_best_hyperparameters(num_trials=1)[0]\n",
    "print(\"[INFO] optimal number of filters in conv_1 layer: {}\".format(bestHP.get(\"conv_1\")))\n",
    "print(\"[INFO] optimal number of filters in conv_2 layer: {}\".format(bestHP.get(\"conv_2\")))\n",
    "print(\"[INFO] optimal number of units in dense layer: {}\".format(bestHP.get(\"dense_units\")))\n",
    "print(\"[INFO] optimal learning rate: {:.4f}\".format(bestHP.get(\"learning_rate\")))"
   ]
  },
  {
   "cell_type": "code",
   "execution_count": null,
   "id": "c0df16a3-326c-470c-b29f-872bb7bec5ee",
   "metadata": {},
   "outputs": [],
   "source": [
    "  "
   ]
  }
 ],
 "metadata": {
  "kernelspec": {
   "display_name": "Python 3 (ipykernel)",
   "language": "python",
   "name": "python3"
  },
  "language_info": {
   "codemirror_mode": {
    "name": "ipython",
    "version": 3
   },
   "file_extension": ".py",
   "mimetype": "text/x-python",
   "name": "python",
   "nbconvert_exporter": "python",
   "pygments_lexer": "ipython3",
   "version": "3.9.4"
  }
 },
 "nbformat": 4,
 "nbformat_minor": 5
}
