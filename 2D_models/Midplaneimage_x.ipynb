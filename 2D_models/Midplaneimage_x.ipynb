{
  "cells": [
    {
      "cell_type": "code",
      "execution_count": null,
      "metadata": {
        "id": "XU9xrpZGwcI2"
      },
      "outputs": [],
      "source": [
        "from sklearn.model_selection import train_test_split\n",
        "from sklearn.metrics import mean_squared_error\n",
        "from sklearn.preprocessing import StandardScaler\n",
        "\n",
        "import tensorflow as tf\n",
        "from tensorflow.keras import datasets, layers, models\n",
        "import keras\n",
        "from keras.models import Sequential\n",
        "from keras.layers import Dense, Dropout, Flatten\n",
        "from keras.layers import Conv2D, MaxPooling2D\n",
        "\n",
        "import os\n",
        "#import glob\n",
        "\n",
        "import matplotlib.pyplot as plt\n",
        "import numpy as np\n",
        "import pandas as pd\n",
        "from pandas import read_csv\n",
        "import math\n",
        "import seaborn as sns\n",
        "\n",
        "import keras\n",
        "from keras.models import Sequential\n",
        "from keras.layers import Dense, Dropout, Flatten\n",
        "from keras.layers import Conv2D, MaxPooling2D\n",
        "from keras.callbacks import CSVLogger\n",
        "from keras.callbacks import EarlyStopping, ModelCheckpoint"
      ]
    },
    {
      "cell_type": "code",
      "execution_count": null,
      "metadata": {
        "colab": {
          "base_uri": "https://localhost:8080/"
        },
        "id": "-Y57cDjYzglB",
        "outputId": "eb62fdb0-a766-4adb-cd31-982da490bab4"
      },
      "outputs": [
        {
          "output_type": "stream",
          "name": "stdout",
          "text": [
            "Mounted at /content/drive\n"
          ]
        }
      ],
      "source": [
        "from google.colab import drive\n",
        "drive.mount('/content/drive')"
      ]
    },
    {
      "cell_type": "code",
      "execution_count": null,
      "metadata": {
        "id": "5TPwIMQAxvw6"
      },
      "outputs": [],
      "source": [
        "\n",
        "df1 = pd.read_csv('/content/drive/MyDrive/feb11-nn/recon650k.csv')\n",
        "df2 = pd.read_csv('/content/drive/MyDrive/feb11-nn/labels650k.csv')\n",
        "\n",
        "X = df1.values\n",
        "y = df2.values\n",
        "\n",
        "n = 650000\n",
        "\n",
        "X = np.reshape(X, (n,13,21,1))"
      ]
    },
    {
      "cell_type": "code",
      "execution_count": null,
      "metadata": {
        "colab": {
          "base_uri": "https://localhost:8080/"
        },
        "id": "MSVsseSlYVih",
        "outputId": "fa21adfa-00c9-48fd-95f0-e213e4122371"
      },
      "outputs": [
        {
          "output_type": "stream",
          "name": "stdout",
          "text": [
            "/content\n",
            "/content/drive/MyDrive/feb11-nn/image-x\n"
          ]
        }
      ],
      "source": [
        "path = os.getcwd()\n",
        "print(path)\n",
        "os.mkdir('/content/drive/MyDrive/feb11-nn/image-x')\n",
        "os.chdir('/content/drive/MyDrive/feb11-nn/image-x')\n",
        "print(os.getcwd())"
      ]
    },
    {
      "cell_type": "code",
      "source": [
        "df2['cotAlpha-revised']=df2['cotAlpha']*50\n",
        "df2['x-midplane']=df2['x-entry']+df2['cotAlpha-revised']\n"
      ],
      "metadata": {
        "id": "7XV-VP38zJ-E"
      },
      "execution_count": null,
      "outputs": []
    },
    {
      "cell_type": "code",
      "source": [
        "df2.head()"
      ],
      "metadata": {
        "colab": {
          "base_uri": "https://localhost:8080/",
          "height": 206
        },
        "id": "s13iBlc8zcq_",
        "outputId": "176a51fd-29df-44fb-ef86-55becfde786d"
      },
      "execution_count": null,
      "outputs": [
        {
          "output_type": "execute_result",
          "data": {
            "text/html": [
              "\n",
              "  <div id=\"df-819a3e2f-b2db-4f5a-ad40-c2872d2e6144\">\n",
              "    <div class=\"colab-df-container\">\n",
              "      <div>\n",
              "<style scoped>\n",
              "    .dataframe tbody tr th:only-of-type {\n",
              "        vertical-align: middle;\n",
              "    }\n",
              "\n",
              "    .dataframe tbody tr th {\n",
              "        vertical-align: top;\n",
              "    }\n",
              "\n",
              "    .dataframe thead th {\n",
              "        text-align: right;\n",
              "    }\n",
              "</style>\n",
              "<table border=\"1\" class=\"dataframe\">\n",
              "  <thead>\n",
              "    <tr style=\"text-align: right;\">\n",
              "      <th></th>\n",
              "      <th>x-entry</th>\n",
              "      <th>y-entry</th>\n",
              "      <th>z-entry</th>\n",
              "      <th>n_x</th>\n",
              "      <th>n_y</th>\n",
              "      <th>n_z</th>\n",
              "      <th>number_eh_pairs</th>\n",
              "      <th>cotAlpha</th>\n",
              "      <th>cotBeta</th>\n",
              "      <th>x-midplane</th>\n",
              "      <th>cotAlpha-revised</th>\n",
              "    </tr>\n",
              "  </thead>\n",
              "  <tbody>\n",
              "    <tr>\n",
              "      <th>0</th>\n",
              "      <td>-168.364151</td>\n",
              "      <td>-2.262124</td>\n",
              "      <td>0.0</td>\n",
              "      <td>0.964984</td>\n",
              "      <td>0.025727</td>\n",
              "      <td>0.261045</td>\n",
              "      <td>25841</td>\n",
              "      <td>3.696619</td>\n",
              "      <td>0.098554</td>\n",
              "      <td>16.466817</td>\n",
              "      <td>184.830968</td>\n",
              "    </tr>\n",
              "    <tr>\n",
              "      <th>1</th>\n",
              "      <td>-127.467667</td>\n",
              "      <td>15.197241</td>\n",
              "      <td>0.0</td>\n",
              "      <td>0.916642</td>\n",
              "      <td>-0.080666</td>\n",
              "      <td>0.391486</td>\n",
              "      <td>15311</td>\n",
              "      <td>2.341443</td>\n",
              "      <td>-0.206051</td>\n",
              "      <td>-10.395537</td>\n",
              "      <td>117.072130</td>\n",
              "    </tr>\n",
              "    <tr>\n",
              "      <th>2</th>\n",
              "      <td>-369.492645</td>\n",
              "      <td>-0.128008</td>\n",
              "      <td>0.0</td>\n",
              "      <td>0.991058</td>\n",
              "      <td>-0.002360</td>\n",
              "      <td>0.133412</td>\n",
              "      <td>87317</td>\n",
              "      <td>7.428552</td>\n",
              "      <td>-0.017690</td>\n",
              "      <td>1.934963</td>\n",
              "      <td>371.427608</td>\n",
              "    </tr>\n",
              "    <tr>\n",
              "      <th>3</th>\n",
              "      <td>-365.951111</td>\n",
              "      <td>-4.567823</td>\n",
              "      <td>0.0</td>\n",
              "      <td>0.991881</td>\n",
              "      <td>0.005613</td>\n",
              "      <td>0.127042</td>\n",
              "      <td>84117</td>\n",
              "      <td>7.807505</td>\n",
              "      <td>0.044182</td>\n",
              "      <td>24.424119</td>\n",
              "      <td>390.375230</td>\n",
              "    </tr>\n",
              "    <tr>\n",
              "      <th>4</th>\n",
              "      <td>-200.628601</td>\n",
              "      <td>14.304100</td>\n",
              "      <td>0.0</td>\n",
              "      <td>0.967751</td>\n",
              "      <td>-0.047386</td>\n",
              "      <td>0.247411</td>\n",
              "      <td>32069</td>\n",
              "      <td>3.911512</td>\n",
              "      <td>-0.191527</td>\n",
              "      <td>-5.053020</td>\n",
              "      <td>195.575581</td>\n",
              "    </tr>\n",
              "  </tbody>\n",
              "</table>\n",
              "</div>\n",
              "      <button class=\"colab-df-convert\" onclick=\"convertToInteractive('df-819a3e2f-b2db-4f5a-ad40-c2872d2e6144')\"\n",
              "              title=\"Convert this dataframe to an interactive table.\"\n",
              "              style=\"display:none;\">\n",
              "        \n",
              "  <svg xmlns=\"http://www.w3.org/2000/svg\" height=\"24px\"viewBox=\"0 0 24 24\"\n",
              "       width=\"24px\">\n",
              "    <path d=\"M0 0h24v24H0V0z\" fill=\"none\"/>\n",
              "    <path d=\"M18.56 5.44l.94 2.06.94-2.06 2.06-.94-2.06-.94-.94-2.06-.94 2.06-2.06.94zm-11 1L8.5 8.5l.94-2.06 2.06-.94-2.06-.94L8.5 2.5l-.94 2.06-2.06.94zm10 10l.94 2.06.94-2.06 2.06-.94-2.06-.94-.94-2.06-.94 2.06-2.06.94z\"/><path d=\"M17.41 7.96l-1.37-1.37c-.4-.4-.92-.59-1.43-.59-.52 0-1.04.2-1.43.59L10.3 9.45l-7.72 7.72c-.78.78-.78 2.05 0 2.83L4 21.41c.39.39.9.59 1.41.59.51 0 1.02-.2 1.41-.59l7.78-7.78 2.81-2.81c.8-.78.8-2.07 0-2.86zM5.41 20L4 18.59l7.72-7.72 1.47 1.35L5.41 20z\"/>\n",
              "  </svg>\n",
              "      </button>\n",
              "      \n",
              "  <style>\n",
              "    .colab-df-container {\n",
              "      display:flex;\n",
              "      flex-wrap:wrap;\n",
              "      gap: 12px;\n",
              "    }\n",
              "\n",
              "    .colab-df-convert {\n",
              "      background-color: #E8F0FE;\n",
              "      border: none;\n",
              "      border-radius: 50%;\n",
              "      cursor: pointer;\n",
              "      display: none;\n",
              "      fill: #1967D2;\n",
              "      height: 32px;\n",
              "      padding: 0 0 0 0;\n",
              "      width: 32px;\n",
              "    }\n",
              "\n",
              "    .colab-df-convert:hover {\n",
              "      background-color: #E2EBFA;\n",
              "      box-shadow: 0px 1px 2px rgba(60, 64, 67, 0.3), 0px 1px 3px 1px rgba(60, 64, 67, 0.15);\n",
              "      fill: #174EA6;\n",
              "    }\n",
              "\n",
              "    [theme=dark] .colab-df-convert {\n",
              "      background-color: #3B4455;\n",
              "      fill: #D2E3FC;\n",
              "    }\n",
              "\n",
              "    [theme=dark] .colab-df-convert:hover {\n",
              "      background-color: #434B5C;\n",
              "      box-shadow: 0px 1px 3px 1px rgba(0, 0, 0, 0.15);\n",
              "      filter: drop-shadow(0px 1px 2px rgba(0, 0, 0, 0.3));\n",
              "      fill: #FFFFFF;\n",
              "    }\n",
              "  </style>\n",
              "\n",
              "      <script>\n",
              "        const buttonEl =\n",
              "          document.querySelector('#df-819a3e2f-b2db-4f5a-ad40-c2872d2e6144 button.colab-df-convert');\n",
              "        buttonEl.style.display =\n",
              "          google.colab.kernel.accessAllowed ? 'block' : 'none';\n",
              "\n",
              "        async function convertToInteractive(key) {\n",
              "          const element = document.querySelector('#df-819a3e2f-b2db-4f5a-ad40-c2872d2e6144');\n",
              "          const dataTable =\n",
              "            await google.colab.kernel.invokeFunction('convertToInteractive',\n",
              "                                                     [key], {});\n",
              "          if (!dataTable) return;\n",
              "\n",
              "          const docLinkHtml = 'Like what you see? Visit the ' +\n",
              "            '<a target=\"_blank\" href=https://colab.research.google.com/notebooks/data_table.ipynb>data table notebook</a>'\n",
              "            + ' to learn more about interactive tables.';\n",
              "          element.innerHTML = '';\n",
              "          dataTable['output_type'] = 'display_data';\n",
              "          await google.colab.output.renderOutput(dataTable, element);\n",
              "          const docLink = document.createElement('div');\n",
              "          docLink.innerHTML = docLinkHtml;\n",
              "          element.appendChild(docLink);\n",
              "        }\n",
              "      </script>\n",
              "    </div>\n",
              "  </div>\n",
              "  "
            ],
            "text/plain": [
              "      x-entry    y-entry  z-entry  ...   cotBeta  x-midplane  cotAlpha-revised\n",
              "0 -168.364151  -2.262124      0.0  ...  0.098554   16.466817        184.830968\n",
              "1 -127.467667  15.197241      0.0  ... -0.206051  -10.395537        117.072130\n",
              "2 -369.492645  -0.128008      0.0  ... -0.017690    1.934963        371.427608\n",
              "3 -365.951111  -4.567823      0.0  ...  0.044182   24.424119        390.375230\n",
              "4 -200.628601  14.304100      0.0  ... -0.191527   -5.053020        195.575581\n",
              "\n",
              "[5 rows x 11 columns]"
            ]
          },
          "metadata": {},
          "execution_count": 13
        }
      ]
    },
    {
      "cell_type": "code",
      "execution_count": null,
      "metadata": {
        "colab": {
          "base_uri": "https://localhost:8080/"
        },
        "id": "k5un3gGszLCd",
        "outputId": "de5e0c26-1a20-4a23-8e9f-c006863d9ae8"
      },
      "outputs": [
        {
          "output_type": "stream",
          "name": "stdout",
          "text": [
            "   x-midplane\n",
            "0   16.466817\n",
            "1  -10.395537\n",
            "2    1.934963\n",
            "3   24.424119\n",
            "4   -5.053020\n"
          ]
        }
      ],
      "source": [
        "#note: labels.csv has 11 columns; you need to drop the column you don't want, and then adjust number of outputs in your NN\n",
        "\n",
        "#df2.head()\n",
        "df2.drop('cotAlpha-revised', axis=1, inplace=True)\n",
        "df2.drop('x-entry', axis=1, inplace=True)\n",
        "df2.drop('y-entry', axis=1, inplace=True)\n",
        "df2.drop('z-entry', axis=1, inplace=True)\n",
        "df2.drop('n_x', axis=1, inplace=True)\n",
        "df2.drop('n_y', axis=1, inplace=True)\n",
        "df2.drop('n_z', axis=1, inplace=True)\n",
        "df2.drop('number_eh_pairs', axis=1, inplace=True)\n",
        "df2.drop('cotAlpha', axis=1, inplace=True)\n",
        "df2.drop('cotBeta', axis=1, inplace=True)\n",
        "\n",
        "print(df2.head())\n",
        "#df2.shape\n",
        "\n",
        "#reset y since you dropped columns\n",
        "y = df2.values"
      ]
    },
    {
      "cell_type": "code",
      "source": [
        "df2.head()"
      ],
      "metadata": {
        "colab": {
          "base_uri": "https://localhost:8080/",
          "height": 206
        },
        "id": "eIoJ-IvqPbyQ",
        "outputId": "c0ee35d0-7025-4222-ea93-d6bafdd107b7"
      },
      "execution_count": null,
      "outputs": [
        {
          "output_type": "execute_result",
          "data": {
            "text/html": [
              "\n",
              "  <div id=\"df-1a05ce60-dfa9-4d26-91d8-d1ac507092e4\">\n",
              "    <div class=\"colab-df-container\">\n",
              "      <div>\n",
              "<style scoped>\n",
              "    .dataframe tbody tr th:only-of-type {\n",
              "        vertical-align: middle;\n",
              "    }\n",
              "\n",
              "    .dataframe tbody tr th {\n",
              "        vertical-align: top;\n",
              "    }\n",
              "\n",
              "    .dataframe thead th {\n",
              "        text-align: right;\n",
              "    }\n",
              "</style>\n",
              "<table border=\"1\" class=\"dataframe\">\n",
              "  <thead>\n",
              "    <tr style=\"text-align: right;\">\n",
              "      <th></th>\n",
              "      <th>x-midplane</th>\n",
              "    </tr>\n",
              "  </thead>\n",
              "  <tbody>\n",
              "    <tr>\n",
              "      <th>0</th>\n",
              "      <td>16.466817</td>\n",
              "    </tr>\n",
              "    <tr>\n",
              "      <th>1</th>\n",
              "      <td>-10.395537</td>\n",
              "    </tr>\n",
              "    <tr>\n",
              "      <th>2</th>\n",
              "      <td>1.934963</td>\n",
              "    </tr>\n",
              "    <tr>\n",
              "      <th>3</th>\n",
              "      <td>24.424119</td>\n",
              "    </tr>\n",
              "    <tr>\n",
              "      <th>4</th>\n",
              "      <td>-5.053020</td>\n",
              "    </tr>\n",
              "  </tbody>\n",
              "</table>\n",
              "</div>\n",
              "      <button class=\"colab-df-convert\" onclick=\"convertToInteractive('df-1a05ce60-dfa9-4d26-91d8-d1ac507092e4')\"\n",
              "              title=\"Convert this dataframe to an interactive table.\"\n",
              "              style=\"display:none;\">\n",
              "        \n",
              "  <svg xmlns=\"http://www.w3.org/2000/svg\" height=\"24px\"viewBox=\"0 0 24 24\"\n",
              "       width=\"24px\">\n",
              "    <path d=\"M0 0h24v24H0V0z\" fill=\"none\"/>\n",
              "    <path d=\"M18.56 5.44l.94 2.06.94-2.06 2.06-.94-2.06-.94-.94-2.06-.94 2.06-2.06.94zm-11 1L8.5 8.5l.94-2.06 2.06-.94-2.06-.94L8.5 2.5l-.94 2.06-2.06.94zm10 10l.94 2.06.94-2.06 2.06-.94-2.06-.94-.94-2.06-.94 2.06-2.06.94z\"/><path d=\"M17.41 7.96l-1.37-1.37c-.4-.4-.92-.59-1.43-.59-.52 0-1.04.2-1.43.59L10.3 9.45l-7.72 7.72c-.78.78-.78 2.05 0 2.83L4 21.41c.39.39.9.59 1.41.59.51 0 1.02-.2 1.41-.59l7.78-7.78 2.81-2.81c.8-.78.8-2.07 0-2.86zM5.41 20L4 18.59l7.72-7.72 1.47 1.35L5.41 20z\"/>\n",
              "  </svg>\n",
              "      </button>\n",
              "      \n",
              "  <style>\n",
              "    .colab-df-container {\n",
              "      display:flex;\n",
              "      flex-wrap:wrap;\n",
              "      gap: 12px;\n",
              "    }\n",
              "\n",
              "    .colab-df-convert {\n",
              "      background-color: #E8F0FE;\n",
              "      border: none;\n",
              "      border-radius: 50%;\n",
              "      cursor: pointer;\n",
              "      display: none;\n",
              "      fill: #1967D2;\n",
              "      height: 32px;\n",
              "      padding: 0 0 0 0;\n",
              "      width: 32px;\n",
              "    }\n",
              "\n",
              "    .colab-df-convert:hover {\n",
              "      background-color: #E2EBFA;\n",
              "      box-shadow: 0px 1px 2px rgba(60, 64, 67, 0.3), 0px 1px 3px 1px rgba(60, 64, 67, 0.15);\n",
              "      fill: #174EA6;\n",
              "    }\n",
              "\n",
              "    [theme=dark] .colab-df-convert {\n",
              "      background-color: #3B4455;\n",
              "      fill: #D2E3FC;\n",
              "    }\n",
              "\n",
              "    [theme=dark] .colab-df-convert:hover {\n",
              "      background-color: #434B5C;\n",
              "      box-shadow: 0px 1px 3px 1px rgba(0, 0, 0, 0.15);\n",
              "      filter: drop-shadow(0px 1px 2px rgba(0, 0, 0, 0.3));\n",
              "      fill: #FFFFFF;\n",
              "    }\n",
              "  </style>\n",
              "\n",
              "      <script>\n",
              "        const buttonEl =\n",
              "          document.querySelector('#df-1a05ce60-dfa9-4d26-91d8-d1ac507092e4 button.colab-df-convert');\n",
              "        buttonEl.style.display =\n",
              "          google.colab.kernel.accessAllowed ? 'block' : 'none';\n",
              "\n",
              "        async function convertToInteractive(key) {\n",
              "          const element = document.querySelector('#df-1a05ce60-dfa9-4d26-91d8-d1ac507092e4');\n",
              "          const dataTable =\n",
              "            await google.colab.kernel.invokeFunction('convertToInteractive',\n",
              "                                                     [key], {});\n",
              "          if (!dataTable) return;\n",
              "\n",
              "          const docLinkHtml = 'Like what you see? Visit the ' +\n",
              "            '<a target=\"_blank\" href=https://colab.research.google.com/notebooks/data_table.ipynb>data table notebook</a>'\n",
              "            + ' to learn more about interactive tables.';\n",
              "          element.innerHTML = '';\n",
              "          dataTable['output_type'] = 'display_data';\n",
              "          await google.colab.output.renderOutput(dataTable, element);\n",
              "          const docLink = document.createElement('div');\n",
              "          docLink.innerHTML = docLinkHtml;\n",
              "          element.appendChild(docLink);\n",
              "        }\n",
              "      </script>\n",
              "    </div>\n",
              "  </div>\n",
              "  "
            ],
            "text/plain": [
              "   x-midplane\n",
              "0   16.466817\n",
              "1  -10.395537\n",
              "2    1.934963\n",
              "3   24.424119\n",
              "4   -5.053020"
            ]
          },
          "metadata": {},
          "execution_count": 18
        }
      ]
    },
    {
      "cell_type": "code",
      "execution_count": null,
      "metadata": {
        "colab": {
          "base_uri": "https://localhost:8080/",
          "height": 352
        },
        "id": "VQcZvD-4DRjc",
        "outputId": "3aed30f4-1453-4784-afb7-13fe9a6d393a"
      },
      "outputs": [
        {
          "output_type": "stream",
          "name": "stderr",
          "text": [
            "/usr/local/lib/python3.7/dist-packages/seaborn/distributions.py:2619: FutureWarning: `distplot` is a deprecated function and will be removed in a future version. Please adapt your code to use either `displot` (a figure-level function with similar flexibility) or `histplot` (an axes-level function for histograms).\n",
            "  warnings.warn(msg, FutureWarning)\n"
          ]
        },
        {
          "output_type": "display_data",
          "data": {
            "image/png": "[encoded data removed]",
            "text/plain": [
              "<Figure size 432x288 with 1 Axes>"
            ]
          },
          "metadata": {
            "needs_background": "light"
          }
        }
      ],
      "source": [
        "#histo. of true cotAlpha values\n",
        "df_true_cotAlpha = pd.DataFrame(df2, columns=['cotAlpha'])\n",
        "sns.distplot(df_true_cotAlpha['cotAlpha'], kde=False, bins=50)\n",
        "plt.xlabel('cotAlpha')\n",
        "plt.xlim([-10,10])\n",
        "plt.ylabel('frequency')\n",
        "plt.title(\"cotAlpha (true)\")\n",
        "plt.savefig('cotAlpha-true.png')"
      ]
    },
    {
      "cell_type": "code",
      "execution_count": null,
      "metadata": {
        "colab": {
          "base_uri": "https://localhost:8080/",
          "height": 352
        },
        "id": "L_w9mQriCzUE",
        "outputId": "2d2d60e2-59ab-4ffb-b770-216e54676a87"
      },
      "outputs": [
        {
          "output_type": "stream",
          "name": "stderr",
          "text": [
            "/usr/local/lib/python3.7/dist-packages/seaborn/distributions.py:2619: FutureWarning: `distplot` is a deprecated function and will be removed in a future version. Please adapt your code to use either `displot` (a figure-level function with similar flexibility) or `histplot` (an axes-level function for histograms).\n",
            "  warnings.warn(msg, FutureWarning)\n"
          ]
        },
        {
          "output_type": "display_data",
          "data": {
            "image/png": "[encoded data removed]",
            "text/plain": [
              "<Figure size 432x288 with 1 Axes>"
            ]
          },
          "metadata": {
            "needs_background": "light"
          }
        }
      ],
      "source": [
        "df_true_cotBeta = pd.DataFrame(df2, columns=['cotBeta'])\n",
        "sns.distplot(df_true_cotBeta['cotBeta'], kde=False, bins=20)\n",
        "plt.xlim([-0.3,0.3])\n",
        "plt.xlabel('cotBeta')\n",
        "plt.ylabel('frequency')\n",
        "plt.title(\"cotBeta (true)\")\n",
        "plt.savefig('cotBeta-true.png')"
      ]
    },
    {
      "cell_type": "code",
      "execution_count": null,
      "metadata": {
        "colab": {
          "base_uri": "https://localhost:8080/",
          "height": 355
        },
        "id": "0jJrPtkUCz3-",
        "outputId": "7e25ffdf-8fb6-4ee2-bbe4-3a6158b71f95"
      },
      "outputs": [
        {
          "output_type": "stream",
          "name": "stderr",
          "text": [
            "/usr/local/lib/python3.7/dist-packages/seaborn/distributions.py:2619: FutureWarning: `distplot` is a deprecated function and will be removed in a future version. Please adapt your code to use either `displot` (a figure-level function with similar flexibility) or `histplot` (an axes-level function for histograms).\n",
            "  warnings.warn(msg, FutureWarning)\n"
          ]
        },
        {
          "output_type": "display_data",
          "data": {
            "image/png": "[encoded data removed]",
            "text/plain": [
              "<Figure size 432x288 with 1 Axes>"
            ]
          },
          "metadata": {
            "needs_background": "light"
          }
        }
      ],
      "source": [
        "df_true_x = pd.DataFrame(df2, columns=['x-entry'])\n",
        "sns.distplot(df_true_x['x-entry'], kde=False, bins=40)\n",
        "plt.xlim([-500,500])\n",
        "plt.xlabel(r'x ($\\mu$m)')\n",
        "plt.ylabel('frequency')\n",
        "plt.title(\"x-entry (true)\")\n",
        "plt.savefig('x-entry-true.png')"
      ]
    },
    {
      "cell_type": "code",
      "execution_count": null,
      "metadata": {
        "colab": {
          "base_uri": "https://localhost:8080/",
          "height": 355
        },
        "id": "D8e3sx58C0h4",
        "outputId": "8afa2d2e-c05e-4d5d-b1a0-74a3b71c00e4"
      },
      "outputs": [
        {
          "name": "stderr",
          "output_type": "stream",
          "text": [
            "/usr/local/lib/python3.7/dist-packages/seaborn/distributions.py:2619: FutureWarning: `distplot` is a deprecated function and will be removed in a future version. Please adapt your code to use either `displot` (a figure-level function with similar flexibility) or `histplot` (an axes-level function for histograms).\n",
            "  warnings.warn(msg, FutureWarning)\n"
          ]
        },
        {
          "data": {
            "image/png": "[encoded data removed]",
            "text/plain": [
              "<Figure size 432x288 with 1 Axes>"
            ]
          },
          "metadata": {},
          "output_type": "display_data"
        }
      ],
      "source": [
        "df_true_y = pd.DataFrame(df2, columns=['y-entry'])\n",
        "sns.distplot(df_true_y['y-entry'], kde=False, bins=40)\n",
        "plt.xlabel(r'y ($\\mu$m)')\n",
        "plt.xlim([-20,20])\n",
        "plt.ylabel('frequency')\n",
        "plt.title(\"y-entry (true)\")\n",
        "plt.savefig('y-entry-true.png')"
      ]
    },
    {
      "cell_type": "code",
      "execution_count": null,
      "metadata": {
        "id": "QvwmzDiz5O9N"
      },
      "outputs": [],
      "source": [
        "#https://keras.io/api/callbacks/#csvlogger\n",
        "#from https://keras.io/guides/writing_your_own_callbacks/\n",
        "class CustomCallback(keras.callbacks.Callback):\n",
        "    def on_train_begin(self, logs=None):\n",
        "        keys = list(logs.keys())\n",
        "        print(\"Starting training; got log keys: {}\".format(keys))\n",
        "\n",
        "    def on_train_end(self, logs=None):\n",
        "        keys = list(logs.keys())\n",
        "        print(\"Stop training; got log keys: {}\".format(keys))\n",
        "\n",
        "    def on_epoch_begin(self, epoch, logs=None):\n",
        "        keys = list(logs.keys())\n",
        "        print(\"Start epoch {} of training; got log keys: {}\".format(epoch, keys))\n",
        "\n",
        "    def on_epoch_end(self, epoch, logs=None):\n",
        "        keys = list(logs.keys())\n",
        "        print(\"End epoch {} of training; got log keys: {}\".format(epoch, keys))\n",
        "\n",
        "    def on_test_begin(self, logs=None):\n",
        "        keys = list(logs.keys())\n",
        "        print(\"Start testing; got log keys: {}\".format(keys))\n",
        "\n",
        "    def on_test_end(self, logs=None):\n",
        "        keys = list(logs.keys())\n",
        "        print(\"Stop testing; got log keys: {}\".format(keys))\n",
        "\n",
        "    def on_predict_begin(self, logs=None):\n",
        "        keys = list(logs.keys())\n",
        "        print(\"Start predicting; got log keys: {}\".format(keys))\n",
        "\n",
        "    def on_predict_end(self, logs=None):\n",
        "        keys = list(logs.keys())\n",
        "        print(\"Stop predicting; got log keys: {}\".format(keys))\n",
        "\n",
        "    def on_train_batch_begin(self, batch, logs=None):\n",
        "        keys = list(logs.keys())\n",
        "        print(\"...Training: start of batch {}; got log keys: {}\".format(batch, keys))\n",
        "\n",
        "    def on_train_batch_end(self, batch, logs=None):\n",
        "        keys = list(logs.keys())\n",
        "        print(\"...Training: end of batch {}; got log keys: {}\".format(batch, keys))\n",
        "\n",
        "    def on_test_batch_begin(self, batch, logs=None):\n",
        "        keys = list(logs.keys())\n",
        "        print(\"...Evaluating: start of batch {}; got log keys: {}\".format(batch, keys))\n",
        "\n",
        "    def on_test_batch_end(self, batch, logs=None):\n",
        "        keys = list(logs.keys())\n",
        "        print(\"...Evaluating: end of batch {}; got log keys: {}\".format(batch, keys))\n",
        "\n",
        "   # def on_predict_batch_begin(self, batch, logs=None):\n",
        "    #    keys = list(logs.keys())\n",
        "     #   print(\"...Predicting: start of batch {}; got log keys: {}\".format(batch, keys))\n",
        "\n",
        "#    def on_predict_batch_end(self, batch, logs=None):\n",
        " #       keys = list(logs.keys())\n",
        "  #      print(\"...Predicting: end of batch {}; got log keys: {}\".format(batch, keys))"
      ]
    },
    {
      "cell_type": "code",
      "execution_count": null,
      "metadata": {
        "colab": {
          "base_uri": "https://localhost:8080/"
        },
        "id": "UUjsMRLKxyeb",
        "outputId": "95aef5f0-edf9-4655-c542-8b895a809fff"
      },
      "outputs": [
        {
          "output_type": "stream",
          "name": "stdout",
          "text": [
            "(650000, 13, 21, 1) (650000, 1)\n",
            "(520000, 13, 21, 1) (130000, 13, 21, 1) (520000, 1) (130000, 1)\n",
            "Model: \"sequential\"\n",
            "_________________________________________________________________\n",
            " Layer (type)                Output Shape              Param #   \n",
            "=================================================================\n",
            " conv2d (Conv2D)             (None, 6, 10, 32)         320       \n",
            "                                                                 \n",
            " max_pooling2d (MaxPooling2D  (None, 3, 5, 32)         0         \n",
            " )                                                               \n",
            "                                                                 \n",
            " conv2d_1 (Conv2D)           (None, 1, 2, 64)          18496     \n",
            "                                                                 \n",
            " flatten (Flatten)           (None, 128)               0         \n",
            "                                                                 \n",
            " dense (Dense)               (None, 64)                8256      \n",
            "                                                                 \n",
            " dropout (Dropout)           (None, 64)                0         \n",
            "                                                                 \n",
            " dense_1 (Dense)             (None, 1)                 65        \n",
            "                                                                 \n",
            "=================================================================\n",
            "Total params: 27,137\n",
            "Trainable params: 27,137\n",
            "Non-trainable params: 0\n",
            "_________________________________________________________________\n"
          ]
        }
      ],
      "source": [
        "X_train, X_test, y_train, y_test = train_test_split(X,y,test_size = 0.20, random_state = 0)\n",
        "print(X.shape, y.shape)\n",
        "print(X_train.shape, X_test.shape, y_train.shape, y_test.shape)\n",
        "\n",
        "#scale input data\n",
        "scaler = StandardScaler()\n",
        "X_train = scaler.fit_transform(X_train.reshape(-1, X_train.shape[-1])).reshape(X_train.shape)\n",
        "X_test = scaler.transform(X_test.reshape(-1, X_test.shape[-1])).reshape(X_test.shape)\n",
        "\n",
        "#make a simple model\n",
        "model = models.Sequential()\n",
        "model.add(layers.Conv2D(32, (3, 3), strides=(2, 2), activation='relu', input_shape=(13, 21, 1)))\n",
        "model.add(layers.MaxPooling2D((2, 2)))\n",
        "model.add(layers.Conv2D(64, (3, 3), strides=(2, 2), activation='relu'))\n",
        "model.add(layers.Flatten())\n",
        "model.add(layers.Dense(64, activation='relu'))\n",
        "model.add(layers.Dropout(0.1))\n",
        "model.add(layers.Dense(1, activation='linear'))\n",
        "model.summary()\n"
      ]
    },
    {
      "cell_type": "code",
      "execution_count": null,
      "metadata": {
        "colab": {
          "base_uri": "https://localhost:8080/"
        },
        "id": "A5wetuxp1efH",
        "outputId": "2230114f-3dde-4d2c-9600-ec44967b0a4a"
      },
      "outputs": [
        {
          "output_type": "stream",
          "name": "stdout",
          "text": [
            "Epoch 1/200\n",
            "8120/8125 [============================>.] - ETA: 0s - loss: 1326.9923 - mean_squared_error: 1326.9923\n",
            "Epoch 00001: saving model to cp.ckpt\n",
            "8125/8125 [==============================] - 42s 4ms/step - loss: 1326.3900 - mean_squared_error: 1326.3900 - val_loss: 207.6833 - val_mean_squared_error: 207.6833\n",
            "Epoch 2/200\n",
            "8124/8125 [============================>.] - ETA: 0s - loss: 376.1361 - mean_squared_error: 376.1361\n",
            "Epoch 00002: saving model to cp.ckpt\n",
            "8125/8125 [==============================] - 33s 4ms/step - loss: 376.1333 - mean_squared_error: 376.1333 - val_loss: 165.1845 - val_mean_squared_error: 165.1845\n",
            "Epoch 3/200\n",
            "8124/8125 [============================>.] - ETA: 0s - loss: 340.1420 - mean_squared_error: 340.1420\n",
            "Epoch 00003: saving model to cp.ckpt\n",
            "8125/8125 [==============================] - 34s 4ms/step - loss: 340.1435 - mean_squared_error: 340.1435 - val_loss: 164.8034 - val_mean_squared_error: 164.8034\n",
            "Epoch 4/200\n",
            "8125/8125 [==============================] - ETA: 0s - loss: 322.7105 - mean_squared_error: 322.7105\n",
            "Epoch 00004: saving model to cp.ckpt\n",
            "8125/8125 [==============================] - 31s 4ms/step - loss: 322.7105 - mean_squared_error: 322.7105 - val_loss: 115.7266 - val_mean_squared_error: 115.7266\n",
            "Epoch 5/200\n",
            "8121/8125 [============================>.] - ETA: 0s - loss: 315.2227 - mean_squared_error: 315.2227\n",
            "Epoch 00005: saving model to cp.ckpt\n",
            "8125/8125 [==============================] - 33s 4ms/step - loss: 315.2071 - mean_squared_error: 315.2071 - val_loss: 108.4630 - val_mean_squared_error: 108.4630\n",
            "Epoch 6/200\n",
            "8124/8125 [============================>.] - ETA: 0s - loss: 307.1729 - mean_squared_error: 307.1729\n",
            "Epoch 00006: saving model to cp.ckpt\n",
            "8125/8125 [==============================] - 33s 4ms/step - loss: 307.1702 - mean_squared_error: 307.1702 - val_loss: 94.1266 - val_mean_squared_error: 94.1266\n",
            "Epoch 7/200\n",
            "8124/8125 [============================>.] - ETA: 0s - loss: 303.9114 - mean_squared_error: 303.9114\n",
            "Epoch 00007: saving model to cp.ckpt\n",
            "8125/8125 [==============================] - 32s 4ms/step - loss: 303.9110 - mean_squared_error: 303.9110 - val_loss: 82.9169 - val_mean_squared_error: 82.9169\n",
            "Epoch 8/200\n",
            "8124/8125 [============================>.] - ETA: 0s - loss: 298.4472 - mean_squared_error: 298.4472\n",
            "Epoch 00008: saving model to cp.ckpt\n",
            "8125/8125 [==============================] - 31s 4ms/step - loss: 298.4330 - mean_squared_error: 298.4330 - val_loss: 76.8996 - val_mean_squared_error: 76.8996\n",
            "Epoch 9/200\n",
            "8118/8125 [============================>.] - ETA: 0s - loss: 296.4585 - mean_squared_error: 296.4585\n",
            "Epoch 00009: saving model to cp.ckpt\n",
            "8125/8125 [==============================] - 31s 4ms/step - loss: 296.4673 - mean_squared_error: 296.4673 - val_loss: 78.0110 - val_mean_squared_error: 78.0110\n",
            "Epoch 10/200\n",
            "8124/8125 [============================>.] - ETA: 0s - loss: 294.4006 - mean_squared_error: 294.4006\n",
            "Epoch 00010: saving model to cp.ckpt\n",
            "8125/8125 [==============================] - 33s 4ms/step - loss: 294.3960 - mean_squared_error: 294.3960 - val_loss: 81.4796 - val_mean_squared_error: 81.4796\n",
            "Epoch 11/200\n",
            "8111/8125 [============================>.] - ETA: 0s - loss: 290.9740 - mean_squared_error: 290.9740\n",
            "Epoch 00011: saving model to cp.ckpt\n",
            "8125/8125 [==============================] - 32s 4ms/step - loss: 291.0160 - mean_squared_error: 291.0160 - val_loss: 85.2645 - val_mean_squared_error: 85.2645\n",
            "Epoch 12/200\n",
            "8116/8125 [============================>.] - ETA: 0s - loss: 290.5431 - mean_squared_error: 290.5431\n",
            "Epoch 00012: saving model to cp.ckpt\n",
            "8125/8125 [==============================] - 34s 4ms/step - loss: 290.5310 - mean_squared_error: 290.5310 - val_loss: 87.6472 - val_mean_squared_error: 87.6472\n",
            "Epoch 13/200\n",
            "8114/8125 [============================>.] - ETA: 0s - loss: 289.1227 - mean_squared_error: 289.1227\n",
            "Epoch 00013: saving model to cp.ckpt\n",
            "8125/8125 [==============================] - 32s 4ms/step - loss: 289.1544 - mean_squared_error: 289.1544 - val_loss: 80.3315 - val_mean_squared_error: 80.3315\n",
            "Epoch 14/200\n",
            "8124/8125 [============================>.] - ETA: 0s - loss: 285.9361 - mean_squared_error: 285.9361\n",
            "Epoch 00014: saving model to cp.ckpt\n",
            "8125/8125 [==============================] - 32s 4ms/step - loss: 285.9353 - mean_squared_error: 285.9353 - val_loss: 65.5745 - val_mean_squared_error: 65.5745\n",
            "Epoch 15/200\n",
            "8119/8125 [============================>.] - ETA: 0s - loss: 284.8109 - mean_squared_error: 284.8109\n",
            "Epoch 00015: saving model to cp.ckpt\n",
            "8125/8125 [==============================] - 33s 4ms/step - loss: 284.8222 - mean_squared_error: 284.8222 - val_loss: 73.5219 - val_mean_squared_error: 73.5219\n",
            "Epoch 16/200\n",
            "8115/8125 [============================>.] - ETA: 0s - loss: 283.3893 - mean_squared_error: 283.3893\n",
            "Epoch 00016: saving model to cp.ckpt\n",
            "8125/8125 [==============================] - 33s 4ms/step - loss: 283.4057 - mean_squared_error: 283.4057 - val_loss: 89.5710 - val_mean_squared_error: 89.5710\n",
            "Epoch 17/200\n",
            "8123/8125 [============================>.] - ETA: 0s - loss: 282.4055 - mean_squared_error: 282.4055\n",
            "Epoch 00017: saving model to cp.ckpt\n",
            "8125/8125 [==============================] - 33s 4ms/step - loss: 282.4045 - mean_squared_error: 282.4045 - val_loss: 69.9707 - val_mean_squared_error: 69.9707\n",
            "Epoch 18/200\n",
            "8125/8125 [==============================] - ETA: 0s - loss: 280.6248 - mean_squared_error: 280.6248\n",
            "Epoch 00018: saving model to cp.ckpt\n",
            "8125/8125 [==============================] - 32s 4ms/step - loss: 280.6248 - mean_squared_error: 280.6248 - val_loss: 72.4061 - val_mean_squared_error: 72.4061\n",
            "Epoch 19/200\n",
            "8120/8125 [============================>.] - ETA: 0s - loss: 281.7356 - mean_squared_error: 281.7356\n",
            "Epoch 00019: saving model to cp.ckpt\n",
            "8125/8125 [==============================] - 32s 4ms/step - loss: 281.7780 - mean_squared_error: 281.7780 - val_loss: 67.6561 - val_mean_squared_error: 67.6561\n",
            "Epoch 20/200\n",
            "8124/8125 [============================>.] - ETA: 0s - loss: 279.4155 - mean_squared_error: 279.4155\n",
            "Epoch 00020: saving model to cp.ckpt\n",
            "8125/8125 [==============================] - 32s 4ms/step - loss: 279.4211 - mean_squared_error: 279.4211 - val_loss: 85.8621 - val_mean_squared_error: 85.8621\n",
            "Epoch 21/200\n",
            "8119/8125 [============================>.] - ETA: 0s - loss: 279.2606 - mean_squared_error: 279.2606\n",
            "Epoch 00021: saving model to cp.ckpt\n",
            "8125/8125 [==============================] - 34s 4ms/step - loss: 279.3050 - mean_squared_error: 279.3050 - val_loss: 77.9496 - val_mean_squared_error: 77.9496\n",
            "Epoch 22/200\n",
            "8121/8125 [============================>.] - ETA: 0s - loss: 277.7779 - mean_squared_error: 277.7779\n",
            "Epoch 00022: saving model to cp.ckpt\n",
            "8125/8125 [==============================] - 34s 4ms/step - loss: 277.7546 - mean_squared_error: 277.7546 - val_loss: 70.1275 - val_mean_squared_error: 70.1275\n",
            "Epoch 23/200\n",
            "8114/8125 [============================>.] - ETA: 0s - loss: 277.8860 - mean_squared_error: 277.8860\n",
            "Epoch 00023: saving model to cp.ckpt\n",
            "8125/8125 [==============================] - 34s 4ms/step - loss: 277.8879 - mean_squared_error: 277.8879 - val_loss: 60.5322 - val_mean_squared_error: 60.5322\n",
            "Epoch 24/200\n",
            "8125/8125 [==============================] - ETA: 0s - loss: 275.3022 - mean_squared_error: 275.3022\n",
            "Epoch 00024: saving model to cp.ckpt\n",
            "8125/8125 [==============================] - 34s 4ms/step - loss: 275.3022 - mean_squared_error: 275.3022 - val_loss: 65.5517 - val_mean_squared_error: 65.5517\n",
            "Epoch 25/200\n",
            "8124/8125 [============================>.] - ETA: 0s - loss: 277.3277 - mean_squared_error: 277.3277\n",
            "Epoch 00025: saving model to cp.ckpt\n",
            "8125/8125 [==============================] - 32s 4ms/step - loss: 277.3398 - mean_squared_error: 277.3398 - val_loss: 64.7050 - val_mean_squared_error: 64.7050\n",
            "Epoch 26/200\n",
            "8124/8125 [============================>.] - ETA: 0s - loss: 274.3984 - mean_squared_error: 274.3984\n",
            "Epoch 00026: saving model to cp.ckpt\n",
            "8125/8125 [==============================] - 34s 4ms/step - loss: 274.3961 - mean_squared_error: 274.3961 - val_loss: 60.7979 - val_mean_squared_error: 60.7979\n",
            "Epoch 27/200\n",
            "8120/8125 [============================>.] - ETA: 0s - loss: 273.4110 - mean_squared_error: 273.4110\n",
            "Epoch 00027: saving model to cp.ckpt\n",
            "8125/8125 [==============================] - 34s 4ms/step - loss: 273.4164 - mean_squared_error: 273.4164 - val_loss: 77.2609 - val_mean_squared_error: 77.2609\n",
            "Epoch 28/200\n",
            "8125/8125 [==============================] - ETA: 0s - loss: 274.6501 - mean_squared_error: 274.6501\n",
            "Epoch 00028: saving model to cp.ckpt\n",
            "8125/8125 [==============================] - 34s 4ms/step - loss: 274.6501 - mean_squared_error: 274.6501 - val_loss: 57.9871 - val_mean_squared_error: 57.9871\n",
            "Epoch 29/200\n",
            "8124/8125 [============================>.] - ETA: 0s - loss: 273.8767 - mean_squared_error: 273.8767\n",
            "Epoch 00029: saving model to cp.ckpt\n",
            "8125/8125 [==============================] - 33s 4ms/step - loss: 273.8924 - mean_squared_error: 273.8924 - val_loss: 58.9843 - val_mean_squared_error: 58.9843\n",
            "Epoch 30/200\n",
            "8115/8125 [============================>.] - ETA: 0s - loss: 272.7173 - mean_squared_error: 272.7173\n",
            "Epoch 00030: saving model to cp.ckpt\n",
            "8125/8125 [==============================] - 32s 4ms/step - loss: 272.7446 - mean_squared_error: 272.7446 - val_loss: 60.7394 - val_mean_squared_error: 60.7394\n",
            "Epoch 31/200\n",
            "8121/8125 [============================>.] - ETA: 0s - loss: 271.1329 - mean_squared_error: 271.1329\n",
            "Epoch 00031: saving model to cp.ckpt\n",
            "8125/8125 [==============================] - 40s 5ms/step - loss: 271.1216 - mean_squared_error: 271.1216 - val_loss: 76.5899 - val_mean_squared_error: 76.5899\n",
            "Epoch 32/200\n",
            "8122/8125 [============================>.] - ETA: 0s - loss: 271.4165 - mean_squared_error: 271.4165\n",
            "Epoch 00032: saving model to cp.ckpt\n",
            "8125/8125 [==============================] - 32s 4ms/step - loss: 271.3929 - mean_squared_error: 271.3929 - val_loss: 64.0117 - val_mean_squared_error: 64.0117\n",
            "Epoch 33/200\n",
            "8116/8125 [============================>.] - ETA: 0s - loss: 270.6004 - mean_squared_error: 270.6004\n",
            "Epoch 00033: saving model to cp.ckpt\n",
            "8125/8125 [==============================] - 32s 4ms/step - loss: 270.5876 - mean_squared_error: 270.5876 - val_loss: 61.2654 - val_mean_squared_error: 61.2654\n",
            "Epoch 34/200\n",
            "8121/8125 [============================>.] - ETA: 0s - loss: 269.9104 - mean_squared_error: 269.9104\n",
            "Epoch 00034: saving model to cp.ckpt\n",
            "8125/8125 [==============================] - 37s 4ms/step - loss: 269.8992 - mean_squared_error: 269.8992 - val_loss: 71.2733 - val_mean_squared_error: 71.2733\n",
            "Epoch 35/200\n",
            "8123/8125 [============================>.] - ETA: 0s - loss: 268.5068 - mean_squared_error: 268.5068\n",
            "Epoch 00035: saving model to cp.ckpt\n",
            "8125/8125 [==============================] - 33s 4ms/step - loss: 268.5363 - mean_squared_error: 268.5363 - val_loss: 61.7656 - val_mean_squared_error: 61.7656\n",
            "Epoch 36/200\n",
            "8124/8125 [============================>.] - ETA: 0s - loss: 270.2283 - mean_squared_error: 270.2283\n",
            "Epoch 00036: saving model to cp.ckpt\n",
            "8125/8125 [==============================] - 33s 4ms/step - loss: 270.2320 - mean_squared_error: 270.2320 - val_loss: 65.3262 - val_mean_squared_error: 65.3262\n",
            "Epoch 37/200\n",
            "8114/8125 [============================>.] - ETA: 0s - loss: 269.4707 - mean_squared_error: 269.4707\n",
            "Epoch 00037: saving model to cp.ckpt\n",
            "8125/8125 [==============================] - 33s 4ms/step - loss: 269.4875 - mean_squared_error: 269.4875 - val_loss: 61.5781 - val_mean_squared_error: 61.5781\n",
            "Epoch 38/200\n",
            "8120/8125 [============================>.] - ETA: 0s - loss: 270.1714 - mean_squared_error: 270.1714\n",
            "Epoch 00038: saving model to cp.ckpt\n",
            "8125/8125 [==============================] - 32s 4ms/step - loss: 270.1746 - mean_squared_error: 270.1746 - val_loss: 64.0750 - val_mean_squared_error: 64.0750\n",
            "Epoch 39/200\n",
            "8116/8125 [============================>.] - ETA: 0s - loss: 268.1791 - mean_squared_error: 268.1791\n",
            "Epoch 00039: saving model to cp.ckpt\n",
            "8125/8125 [==============================] - 33s 4ms/step - loss: 268.2175 - mean_squared_error: 268.2175 - val_loss: 64.6918 - val_mean_squared_error: 64.6918\n",
            "Epoch 40/200\n",
            "8119/8125 [============================>.] - ETA: 0s - loss: 267.8324 - mean_squared_error: 267.8324\n",
            "Epoch 00040: saving model to cp.ckpt\n",
            "8125/8125 [==============================] - 32s 4ms/step - loss: 267.8430 - mean_squared_error: 267.8430 - val_loss: 57.9005 - val_mean_squared_error: 57.9005\n",
            "Epoch 41/200\n",
            "8124/8125 [============================>.] - ETA: 0s - loss: 268.1197 - mean_squared_error: 268.1197\n",
            "Epoch 00041: saving model to cp.ckpt\n",
            "8125/8125 [==============================] - 34s 4ms/step - loss: 268.1081 - mean_squared_error: 268.1081 - val_loss: 54.1975 - val_mean_squared_error: 54.1975\n",
            "Epoch 42/200\n",
            "8116/8125 [============================>.] - ETA: 0s - loss: 267.0114 - mean_squared_error: 267.0114\n",
            "Epoch 00042: saving model to cp.ckpt\n",
            "8125/8125 [==============================] - 33s 4ms/step - loss: 266.9794 - mean_squared_error: 266.9794 - val_loss: 61.2726 - val_mean_squared_error: 61.2726\n",
            "Epoch 43/200\n",
            "8124/8125 [============================>.] - ETA: 0s - loss: 266.1151 - mean_squared_error: 266.1151\n",
            "Epoch 00043: saving model to cp.ckpt\n",
            "8125/8125 [==============================] - 32s 4ms/step - loss: 266.1024 - mean_squared_error: 266.1024 - val_loss: 64.9953 - val_mean_squared_error: 64.9953\n",
            "Epoch 44/200\n",
            "8118/8125 [============================>.] - ETA: 0s - loss: 265.9924 - mean_squared_error: 265.9924\n",
            "Epoch 00044: saving model to cp.ckpt\n",
            "8125/8125 [==============================] - 34s 4ms/step - loss: 265.9973 - mean_squared_error: 265.9973 - val_loss: 59.1929 - val_mean_squared_error: 59.1929\n",
            "Epoch 45/200\n",
            "8119/8125 [============================>.] - ETA: 0s - loss: 266.7918 - mean_squared_error: 266.7918\n",
            "Epoch 00045: saving model to cp.ckpt\n",
            "8125/8125 [==============================] - 32s 4ms/step - loss: 266.7691 - mean_squared_error: 266.7691 - val_loss: 51.7897 - val_mean_squared_error: 51.7897\n",
            "Epoch 46/200\n",
            "8119/8125 [============================>.] - ETA: 0s - loss: 265.5715 - mean_squared_error: 265.5715\n",
            "Epoch 00046: saving model to cp.ckpt\n",
            "8125/8125 [==============================] - 32s 4ms/step - loss: 265.5496 - mean_squared_error: 265.5496 - val_loss: 60.8507 - val_mean_squared_error: 60.8507\n",
            "Epoch 47/200\n",
            "8118/8125 [============================>.] - ETA: 0s - loss: 266.2538 - mean_squared_error: 266.2538\n",
            "Epoch 00047: saving model to cp.ckpt\n",
            "8125/8125 [==============================] - 34s 4ms/step - loss: 266.2670 - mean_squared_error: 266.2670 - val_loss: 58.2011 - val_mean_squared_error: 58.2011\n",
            "Epoch 48/200\n",
            "8123/8125 [============================>.] - ETA: 0s - loss: 265.5753 - mean_squared_error: 265.5753\n",
            "Epoch 00048: saving model to cp.ckpt\n",
            "8125/8125 [==============================] - 34s 4ms/step - loss: 265.5807 - mean_squared_error: 265.5807 - val_loss: 58.9149 - val_mean_squared_error: 58.9149\n",
            "Epoch 49/200\n",
            "8117/8125 [============================>.] - ETA: 0s - loss: 263.6015 - mean_squared_error: 263.6015\n",
            "Epoch 00049: saving model to cp.ckpt\n",
            "8125/8125 [==============================] - 32s 4ms/step - loss: 263.5425 - mean_squared_error: 263.5425 - val_loss: 50.8425 - val_mean_squared_error: 50.8425\n",
            "Epoch 50/200\n",
            "8112/8125 [============================>.] - ETA: 0s - loss: 264.6029 - mean_squared_error: 264.6029\n",
            "Epoch 00050: saving model to cp.ckpt\n",
            "8125/8125 [==============================] - 33s 4ms/step - loss: 264.5970 - mean_squared_error: 264.5970 - val_loss: 57.3734 - val_mean_squared_error: 57.3734\n",
            "Epoch 51/200\n",
            "8124/8125 [============================>.] - ETA: 0s - loss: 263.5852 - mean_squared_error: 263.5852\n",
            "Epoch 00051: saving model to cp.ckpt\n",
            "8125/8125 [==============================] - 32s 4ms/step - loss: 263.6022 - mean_squared_error: 263.6022 - val_loss: 63.3746 - val_mean_squared_error: 63.3746\n",
            "Epoch 52/200\n",
            "8117/8125 [============================>.] - ETA: 0s - loss: 263.5958 - mean_squared_error: 263.5958\n",
            "Epoch 00052: saving model to cp.ckpt\n",
            "8125/8125 [==============================] - 32s 4ms/step - loss: 263.6054 - mean_squared_error: 263.6054 - val_loss: 55.1056 - val_mean_squared_error: 55.1056\n",
            "Epoch 53/200\n",
            "8121/8125 [============================>.] - ETA: 0s - loss: 264.0945 - mean_squared_error: 264.0945\n",
            "Epoch 00053: saving model to cp.ckpt\n",
            "8125/8125 [==============================] - 34s 4ms/step - loss: 264.0963 - mean_squared_error: 264.0963 - val_loss: 54.2166 - val_mean_squared_error: 54.2166\n",
            "Epoch 54/200\n",
            "8123/8125 [============================>.] - ETA: 0s - loss: 263.7019 - mean_squared_error: 263.7019\n",
            "Epoch 00054: saving model to cp.ckpt\n",
            "8125/8125 [==============================] - 34s 4ms/step - loss: 263.7150 - mean_squared_error: 263.7150 - val_loss: 59.7197 - val_mean_squared_error: 59.7197\n",
            "Epoch 55/200\n",
            "8115/8125 [============================>.] - ETA: 0s - loss: 263.0470 - mean_squared_error: 263.0470\n",
            "Epoch 00055: saving model to cp.ckpt\n",
            "8125/8125 [==============================] - 34s 4ms/step - loss: 263.0750 - mean_squared_error: 263.0750 - val_loss: 64.6071 - val_mean_squared_error: 64.6071\n",
            "Epoch 56/200\n",
            "8123/8125 [============================>.] - ETA: 0s - loss: 262.4522 - mean_squared_error: 262.4522\n",
            "Epoch 00056: saving model to cp.ckpt\n",
            "8125/8125 [==============================] - 33s 4ms/step - loss: 262.4505 - mean_squared_error: 262.4505 - val_loss: 70.5790 - val_mean_squared_error: 70.5790\n",
            "Epoch 57/200\n",
            "8118/8125 [============================>.] - ETA: 0s - loss: 263.7166 - mean_squared_error: 263.7166\n",
            "Epoch 00057: saving model to cp.ckpt\n",
            "8125/8125 [==============================] - 32s 4ms/step - loss: 263.7109 - mean_squared_error: 263.7109 - val_loss: 53.6801 - val_mean_squared_error: 53.6801\n",
            "Epoch 58/200\n",
            "8125/8125 [==============================] - ETA: 0s - loss: 261.7766 - mean_squared_error: 261.7766\n",
            "Epoch 00058: saving model to cp.ckpt\n",
            "8125/8125 [==============================] - 36s 4ms/step - loss: 261.7766 - mean_squared_error: 261.7766 - val_loss: 59.1568 - val_mean_squared_error: 59.1568\n",
            "Epoch 59/200\n",
            "8123/8125 [============================>.] - ETA: 0s - loss: 262.5711 - mean_squared_error: 262.5711\n",
            "Epoch 00059: saving model to cp.ckpt\n",
            "8125/8125 [==============================] - 32s 4ms/step - loss: 262.5673 - mean_squared_error: 262.5673 - val_loss: 50.0406 - val_mean_squared_error: 50.0406\n",
            "Epoch 60/200\n",
            "8121/8125 [============================>.] - ETA: 0s - loss: 260.2096 - mean_squared_error: 260.2096\n",
            "Epoch 00060: saving model to cp.ckpt\n",
            "8125/8125 [==============================] - 33s 4ms/step - loss: 260.2104 - mean_squared_error: 260.2104 - val_loss: 56.9929 - val_mean_squared_error: 56.9929\n",
            "Epoch 61/200\n",
            "8124/8125 [============================>.] - ETA: 0s - loss: 260.4822 - mean_squared_error: 260.4822\n",
            "Epoch 00061: saving model to cp.ckpt\n",
            "8125/8125 [==============================] - 32s 4ms/step - loss: 260.4893 - mean_squared_error: 260.4893 - val_loss: 52.1761 - val_mean_squared_error: 52.1761\n",
            "Epoch 62/200\n",
            "8112/8125 [============================>.] - ETA: 0s - loss: 259.5067 - mean_squared_error: 259.5067\n",
            "Epoch 00062: saving model to cp.ckpt\n",
            "8125/8125 [==============================] - 32s 4ms/step - loss: 259.4881 - mean_squared_error: 259.4881 - val_loss: 63.7477 - val_mean_squared_error: 63.7477\n",
            "Epoch 63/200\n",
            "8117/8125 [============================>.] - ETA: 0s - loss: 261.8248 - mean_squared_error: 261.8248\n",
            "Epoch 00063: saving model to cp.ckpt\n",
            "8125/8125 [==============================] - 32s 4ms/step - loss: 261.7994 - mean_squared_error: 261.7994 - val_loss: 55.4938 - val_mean_squared_error: 55.4938\n",
            "Epoch 64/200\n",
            "8120/8125 [============================>.] - ETA: 0s - loss: 259.8680 - mean_squared_error: 259.8680\n",
            "Epoch 00064: saving model to cp.ckpt\n",
            "8125/8125 [==============================] - 39s 5ms/step - loss: 259.8457 - mean_squared_error: 259.8457 - val_loss: 50.6814 - val_mean_squared_error: 50.6814\n",
            "Epoch 65/200\n",
            "8118/8125 [============================>.] - ETA: 0s - loss: 260.1613 - mean_squared_error: 260.1613\n",
            "Epoch 00065: saving model to cp.ckpt\n",
            "8125/8125 [==============================] - 35s 4ms/step - loss: 260.1487 - mean_squared_error: 260.1487 - val_loss: 72.2274 - val_mean_squared_error: 72.2274\n",
            "Epoch 66/200\n",
            "8124/8125 [============================>.] - ETA: 0s - loss: 261.1067 - mean_squared_error: 261.1067\n",
            "Epoch 00066: saving model to cp.ckpt\n",
            "8125/8125 [==============================] - 34s 4ms/step - loss: 261.1149 - mean_squared_error: 261.1149 - val_loss: 88.5585 - val_mean_squared_error: 88.5585\n",
            "Epoch 67/200\n",
            "8116/8125 [============================>.] - ETA: 0s - loss: 260.4425 - mean_squared_error: 260.4425\n",
            "Epoch 00067: saving model to cp.ckpt\n",
            "8125/8125 [==============================] - 32s 4ms/step - loss: 260.4983 - mean_squared_error: 260.4983 - val_loss: 56.0214 - val_mean_squared_error: 56.0214\n",
            "Epoch 68/200\n",
            "8125/8125 [==============================] - ETA: 0s - loss: 260.5455 - mean_squared_error: 260.5455\n",
            "Epoch 00068: saving model to cp.ckpt\n",
            "8125/8125 [==============================] - 32s 4ms/step - loss: 260.5455 - mean_squared_error: 260.5455 - val_loss: 55.1626 - val_mean_squared_error: 55.1626\n",
            "Epoch 69/200\n",
            "8117/8125 [============================>.] - ETA: 0s - loss: 259.9043 - mean_squared_error: 259.9043\n",
            "Epoch 00069: saving model to cp.ckpt\n",
            "8125/8125 [==============================] - 35s 4ms/step - loss: 259.9015 - mean_squared_error: 259.9015 - val_loss: 60.6119 - val_mean_squared_error: 60.6119\n",
            "Epoch 70/200\n",
            "8115/8125 [============================>.] - ETA: 0s - loss: 260.8026 - mean_squared_error: 260.8026\n",
            "Epoch 00070: saving model to cp.ckpt\n",
            "8125/8125 [==============================] - 32s 4ms/step - loss: 260.8176 - mean_squared_error: 260.8176 - val_loss: 58.0243 - val_mean_squared_error: 58.0243\n",
            "Epoch 71/200\n",
            "8125/8125 [==============================] - ETA: 0s - loss: 259.9091 - mean_squared_error: 259.9091\n",
            "Epoch 00071: saving model to cp.ckpt\n",
            "8125/8125 [==============================] - 33s 4ms/step - loss: 259.9091 - mean_squared_error: 259.9091 - val_loss: 53.0658 - val_mean_squared_error: 53.0658\n",
            "Epoch 72/200\n",
            "8113/8125 [============================>.] - ETA: 0s - loss: 260.1397 - mean_squared_error: 260.1397\n",
            "Epoch 00072: saving model to cp.ckpt\n",
            "8125/8125 [==============================] - 33s 4ms/step - loss: 260.1088 - mean_squared_error: 260.1088 - val_loss: 49.7195 - val_mean_squared_error: 49.7195\n",
            "Epoch 73/200\n",
            "8122/8125 [============================>.] - ETA: 0s - loss: 258.6106 - mean_squared_error: 258.6106\n",
            "Epoch 00073: saving model to cp.ckpt\n",
            "8125/8125 [==============================] - 34s 4ms/step - loss: 258.5967 - mean_squared_error: 258.5967 - val_loss: 46.9249 - val_mean_squared_error: 46.9249\n",
            "Epoch 74/200\n",
            "8124/8125 [============================>.] - ETA: 0s - loss: 255.2798 - mean_squared_error: 255.2798\n",
            "Epoch 00074: saving model to cp.ckpt\n",
            "8125/8125 [==============================] - 34s 4ms/step - loss: 255.2681 - mean_squared_error: 255.2681 - val_loss: 53.5887 - val_mean_squared_error: 53.5887\n",
            "Epoch 75/200\n",
            "8118/8125 [============================>.] - ETA: 0s - loss: 253.0895 - mean_squared_error: 253.0895\n",
            "Epoch 00075: saving model to cp.ckpt\n",
            "8125/8125 [==============================] - 33s 4ms/step - loss: 253.0642 - mean_squared_error: 253.0642 - val_loss: 49.1000 - val_mean_squared_error: 49.1000\n",
            "Epoch 76/200\n",
            "8124/8125 [============================>.] - ETA: 0s - loss: 255.0085 - mean_squared_error: 255.0085\n",
            "Epoch 00076: saving model to cp.ckpt\n",
            "8125/8125 [==============================] - 35s 4ms/step - loss: 255.0141 - mean_squared_error: 255.0141 - val_loss: 56.8150 - val_mean_squared_error: 56.8150\n",
            "Epoch 77/200\n",
            "8114/8125 [============================>.] - ETA: 0s - loss: 254.4189 - mean_squared_error: 254.4189\n",
            "Epoch 00077: saving model to cp.ckpt\n",
            "8125/8125 [==============================] - 34s 4ms/step - loss: 254.3921 - mean_squared_error: 254.3921 - val_loss: 48.1986 - val_mean_squared_error: 48.1986\n",
            "Epoch 78/200\n",
            "8116/8125 [============================>.] - ETA: 0s - loss: 254.2914 - mean_squared_error: 254.2914\n",
            "Epoch 00078: saving model to cp.ckpt\n",
            "8125/8125 [==============================] - 32s 4ms/step - loss: 254.2718 - mean_squared_error: 254.2718 - val_loss: 50.8709 - val_mean_squared_error: 50.8709\n",
            "Epoch 79/200\n",
            "8112/8125 [============================>.] - ETA: 0s - loss: 253.5833 - mean_squared_error: 253.5833\n",
            "Epoch 00079: saving model to cp.ckpt\n",
            "8125/8125 [==============================] - 34s 4ms/step - loss: 253.5805 - mean_squared_error: 253.5805 - val_loss: 47.6202 - val_mean_squared_error: 47.6202\n",
            "Epoch 80/200\n",
            "8124/8125 [============================>.] - ETA: 0s - loss: 254.0673 - mean_squared_error: 254.0673\n",
            "Epoch 00080: saving model to cp.ckpt\n",
            "8125/8125 [==============================] - 34s 4ms/step - loss: 254.0609 - mean_squared_error: 254.0609 - val_loss: 48.4809 - val_mean_squared_error: 48.4809\n",
            "Epoch 81/200\n",
            "8121/8125 [============================>.] - ETA: 0s - loss: 253.9540 - mean_squared_error: 253.9540\n",
            "Epoch 00081: saving model to cp.ckpt\n",
            "8125/8125 [==============================] - 33s 4ms/step - loss: 253.9889 - mean_squared_error: 253.9889 - val_loss: 79.5458 - val_mean_squared_error: 79.5458\n",
            "Epoch 82/200\n",
            "8119/8125 [============================>.] - ETA: 0s - loss: 253.2076 - mean_squared_error: 253.2076\n",
            "Epoch 00082: saving model to cp.ckpt\n",
            "8125/8125 [==============================] - 33s 4ms/step - loss: 253.2056 - mean_squared_error: 253.2056 - val_loss: 57.4972 - val_mean_squared_error: 57.4972\n",
            "Epoch 83/200\n",
            "8118/8125 [============================>.] - ETA: 0s - loss: 253.3823 - mean_squared_error: 253.3823\n",
            "Epoch 00083: saving model to cp.ckpt\n",
            "8125/8125 [==============================] - 34s 4ms/step - loss: 253.3811 - mean_squared_error: 253.3811 - val_loss: 48.2723 - val_mean_squared_error: 48.2723\n",
            "Epoch 84/200\n",
            "8124/8125 [============================>.] - ETA: 0s - loss: 253.2080 - mean_squared_error: 253.2080\n",
            "Epoch 00084: saving model to cp.ckpt\n",
            "8125/8125 [==============================] - 33s 4ms/step - loss: 253.2177 - mean_squared_error: 253.2177 - val_loss: 48.9274 - val_mean_squared_error: 48.9274\n",
            "Epoch 85/200\n",
            "8116/8125 [============================>.] - ETA: 0s - loss: 252.3129 - mean_squared_error: 252.3129\n",
            "Epoch 00085: saving model to cp.ckpt\n",
            "8125/8125 [==============================] - 35s 4ms/step - loss: 252.3620 - mean_squared_error: 252.3620 - val_loss: 46.4283 - val_mean_squared_error: 46.4283\n",
            "Epoch 86/200\n",
            "8124/8125 [============================>.] - ETA: 0s - loss: 253.7805 - mean_squared_error: 253.7805\n",
            "Epoch 00086: saving model to cp.ckpt\n",
            "8125/8125 [==============================] - 34s 4ms/step - loss: 253.7812 - mean_squared_error: 253.7812 - val_loss: 58.3770 - val_mean_squared_error: 58.3770\n",
            "Epoch 87/200\n",
            "8118/8125 [============================>.] - ETA: 0s - loss: 253.8446 - mean_squared_error: 253.8446\n",
            "Epoch 00087: saving model to cp.ckpt\n",
            "8125/8125 [==============================] - 34s 4ms/step - loss: 253.8889 - mean_squared_error: 253.8889 - val_loss: 45.3557 - val_mean_squared_error: 45.3557\n",
            "Epoch 88/200\n",
            "8117/8125 [============================>.] - ETA: 0s - loss: 251.5154 - mean_squared_error: 251.5154\n",
            "Epoch 00088: saving model to cp.ckpt\n",
            "8125/8125 [==============================] - 33s 4ms/step - loss: 251.5135 - mean_squared_error: 251.5135 - val_loss: 49.9001 - val_mean_squared_error: 49.9001\n",
            "Epoch 89/200\n",
            "8116/8125 [============================>.] - ETA: 0s - loss: 253.0722 - mean_squared_error: 253.0722\n",
            "Epoch 00089: saving model to cp.ckpt\n",
            "8125/8125 [==============================] - 33s 4ms/step - loss: 253.0287 - mean_squared_error: 253.0287 - val_loss: 55.7551 - val_mean_squared_error: 55.7551\n",
            "Epoch 90/200\n",
            "8114/8125 [============================>.] - ETA: 0s - loss: 253.4135 - mean_squared_error: 253.4135\n",
            "Epoch 00090: saving model to cp.ckpt\n",
            "8125/8125 [==============================] - 33s 4ms/step - loss: 253.3849 - mean_squared_error: 253.3849 - val_loss: 52.6163 - val_mean_squared_error: 52.6163\n",
            "Epoch 91/200\n",
            "8118/8125 [============================>.] - ETA: 0s - loss: 252.1709 - mean_squared_error: 252.1709\n",
            "Epoch 00091: saving model to cp.ckpt\n",
            "8125/8125 [==============================] - 38s 5ms/step - loss: 252.1502 - mean_squared_error: 252.1502 - val_loss: 49.5293 - val_mean_squared_error: 49.5293\n",
            "Epoch 92/200\n",
            "8123/8125 [============================>.] - ETA: 0s - loss: 251.8194 - mean_squared_error: 251.8194\n",
            "Epoch 00092: saving model to cp.ckpt\n",
            "8125/8125 [==============================] - 36s 4ms/step - loss: 251.8092 - mean_squared_error: 251.8092 - val_loss: 51.2800 - val_mean_squared_error: 51.2800\n",
            "Epoch 93/200\n",
            "8118/8125 [============================>.] - ETA: 0s - loss: 251.2842 - mean_squared_error: 251.2842\n",
            "Epoch 00093: saving model to cp.ckpt\n",
            "8125/8125 [==============================] - 35s 4ms/step - loss: 251.2823 - mean_squared_error: 251.2823 - val_loss: 48.3918 - val_mean_squared_error: 48.3918\n",
            "Epoch 94/200\n",
            "8122/8125 [============================>.] - ETA: 0s - loss: 253.5280 - mean_squared_error: 253.5280\n",
            "Epoch 00094: saving model to cp.ckpt\n",
            "8125/8125 [==============================] - 38s 5ms/step - loss: 253.5236 - mean_squared_error: 253.5236 - val_loss: 54.9280 - val_mean_squared_error: 54.9280\n",
            "Epoch 95/200\n",
            "8121/8125 [============================>.] - ETA: 0s - loss: 252.2867 - mean_squared_error: 252.2867\n",
            "Epoch 00095: saving model to cp.ckpt\n",
            "8125/8125 [==============================] - 45s 5ms/step - loss: 252.2844 - mean_squared_error: 252.2844 - val_loss: 67.3925 - val_mean_squared_error: 67.3925\n",
            "Epoch 96/200\n",
            "8122/8125 [============================>.] - ETA: 0s - loss: 251.9941 - mean_squared_error: 251.9941\n",
            "Epoch 00096: saving model to cp.ckpt\n",
            "8125/8125 [==============================] - 34s 4ms/step - loss: 251.9918 - mean_squared_error: 251.9918 - val_loss: 45.7595 - val_mean_squared_error: 45.7595\n",
            "Epoch 97/200\n",
            "8125/8125 [==============================] - ETA: 0s - loss: 251.9047 - mean_squared_error: 251.9047\n",
            "Epoch 00097: saving model to cp.ckpt\n",
            "8125/8125 [==============================] - 33s 4ms/step - loss: 251.9047 - mean_squared_error: 251.9047 - val_loss: 54.6138 - val_mean_squared_error: 54.6138\n",
            "Epoch 98/200\n",
            "8124/8125 [============================>.] - ETA: 0s - loss: 251.4536 - mean_squared_error: 251.4536\n",
            "Epoch 00098: saving model to cp.ckpt\n",
            "8125/8125 [==============================] - 34s 4ms/step - loss: 251.4553 - mean_squared_error: 251.4553 - val_loss: 45.5224 - val_mean_squared_error: 45.5224\n",
            "Epoch 99/200\n",
            "8119/8125 [============================>.] - ETA: 0s - loss: 250.7812 - mean_squared_error: 250.7812\n",
            "Epoch 00099: saving model to cp.ckpt\n",
            "8125/8125 [==============================] - 33s 4ms/step - loss: 250.7864 - mean_squared_error: 250.7864 - val_loss: 49.2276 - val_mean_squared_error: 49.2276\n",
            "Epoch 100/200\n",
            "8117/8125 [============================>.] - ETA: 0s - loss: 250.7752 - mean_squared_error: 250.7752\n",
            "Epoch 00100: saving model to cp.ckpt\n",
            "8125/8125 [==============================] - 34s 4ms/step - loss: 250.7725 - mean_squared_error: 250.7725 - val_loss: 49.7862 - val_mean_squared_error: 49.7862\n",
            "Epoch 101/200\n",
            "8115/8125 [============================>.] - ETA: 0s - loss: 250.8271 - mean_squared_error: 250.8271\n",
            "Epoch 00101: saving model to cp.ckpt\n",
            "8125/8125 [==============================] - 39s 5ms/step - loss: 250.8355 - mean_squared_error: 250.8355 - val_loss: 46.1769 - val_mean_squared_error: 46.1769\n",
            "Epoch 102/200\n",
            "8118/8125 [============================>.] - ETA: 0s - loss: 249.8560 - mean_squared_error: 249.8560\n",
            "Epoch 00102: saving model to cp.ckpt\n",
            "8125/8125 [==============================] - 35s 4ms/step - loss: 249.8710 - mean_squared_error: 249.8710 - val_loss: 46.5668 - val_mean_squared_error: 46.5668\n",
            "Epoch 103/200\n",
            "8116/8125 [============================>.] - ETA: 0s - loss: 250.1718 - mean_squared_error: 250.1718\n",
            "Epoch 00103: saving model to cp.ckpt\n",
            "8125/8125 [==============================] - 35s 4ms/step - loss: 250.1993 - mean_squared_error: 250.1993 - val_loss: 49.6420 - val_mean_squared_error: 49.6420\n",
            "Epoch 104/200\n",
            "8122/8125 [============================>.] - ETA: 0s - loss: 250.3506 - mean_squared_error: 250.3506\n",
            "Epoch 00104: saving model to cp.ckpt\n",
            "8125/8125 [==============================] - 34s 4ms/step - loss: 250.3512 - mean_squared_error: 250.3512 - val_loss: 47.6381 - val_mean_squared_error: 47.6381\n",
            "Epoch 105/200\n",
            "8122/8125 [============================>.] - ETA: 0s - loss: 249.6344 - mean_squared_error: 249.6344\n",
            "Epoch 00105: saving model to cp.ckpt\n",
            "8125/8125 [==============================] - 35s 4ms/step - loss: 249.6428 - mean_squared_error: 249.6428 - val_loss: 51.6109 - val_mean_squared_error: 51.6109\n",
            "Epoch 106/200\n",
            "8124/8125 [============================>.] - ETA: 0s - loss: 252.3590 - mean_squared_error: 252.3590\n",
            "Epoch 00106: saving model to cp.ckpt\n",
            "8125/8125 [==============================] - 40s 5ms/step - loss: 252.3474 - mean_squared_error: 252.3474 - val_loss: 44.3444 - val_mean_squared_error: 44.3444\n",
            "Epoch 107/200\n",
            "8118/8125 [============================>.] - ETA: 0s - loss: 250.9770 - mean_squared_error: 250.9770\n",
            "Epoch 00107: saving model to cp.ckpt\n",
            "8125/8125 [==============================] - 33s 4ms/step - loss: 250.9953 - mean_squared_error: 250.9953 - val_loss: 50.4871 - val_mean_squared_error: 50.4871\n",
            "Epoch 108/200\n",
            "8123/8125 [============================>.] - ETA: 0s - loss: 250.9528 - mean_squared_error: 250.9528\n",
            "Epoch 00108: saving model to cp.ckpt\n",
            "8125/8125 [==============================] - 37s 5ms/step - loss: 250.9552 - mean_squared_error: 250.9552 - val_loss: 53.6729 - val_mean_squared_error: 53.6729\n",
            "Epoch 109/200\n",
            "8114/8125 [============================>.] - ETA: 0s - loss: 250.8028 - mean_squared_error: 250.8028\n",
            "Epoch 00109: saving model to cp.ckpt\n",
            "8125/8125 [==============================] - 35s 4ms/step - loss: 250.7868 - mean_squared_error: 250.7868 - val_loss: 53.5135 - val_mean_squared_error: 53.5135\n",
            "Epoch 110/200\n",
            "8124/8125 [============================>.] - ETA: 0s - loss: 249.9579 - mean_squared_error: 249.9579\n",
            "Epoch 00110: saving model to cp.ckpt\n",
            "8125/8125 [==============================] - 35s 4ms/step - loss: 249.9515 - mean_squared_error: 249.9515 - val_loss: 72.4985 - val_mean_squared_error: 72.4985\n",
            "Epoch 111/200\n",
            "8122/8125 [============================>.] - ETA: 0s - loss: 250.1507 - mean_squared_error: 250.1507\n",
            "Epoch 00111: saving model to cp.ckpt\n",
            "8125/8125 [==============================] - 33s 4ms/step - loss: 250.1332 - mean_squared_error: 250.1332 - val_loss: 54.4847 - val_mean_squared_error: 54.4847\n",
            "Epoch 112/200\n",
            "8121/8125 [============================>.] - ETA: 0s - loss: 250.0722 - mean_squared_error: 250.0722\n",
            "Epoch 00112: saving model to cp.ckpt\n",
            "8125/8125 [==============================] - 38s 5ms/step - loss: 250.0840 - mean_squared_error: 250.0840 - val_loss: 46.4197 - val_mean_squared_error: 46.4197\n",
            "Epoch 113/200\n",
            "8124/8125 [============================>.] - ETA: 0s - loss: 250.9629 - mean_squared_error: 250.9629\n",
            "Epoch 00113: saving model to cp.ckpt\n",
            "8125/8125 [==============================] - 37s 5ms/step - loss: 250.9609 - mean_squared_error: 250.9609 - val_loss: 47.2664 - val_mean_squared_error: 47.2664\n",
            "Epoch 114/200\n",
            "8124/8125 [============================>.] - ETA: 0s - loss: 249.7126 - mean_squared_error: 249.7126\n",
            "Epoch 00114: saving model to cp.ckpt\n",
            "8125/8125 [==============================] - 33s 4ms/step - loss: 249.7020 - mean_squared_error: 249.7020 - val_loss: 53.3834 - val_mean_squared_error: 53.3834\n",
            "Epoch 115/200\n",
            "8124/8125 [============================>.] - ETA: 0s - loss: 249.6106 - mean_squared_error: 249.6106\n",
            "Epoch 00115: saving model to cp.ckpt\n",
            "8125/8125 [==============================] - 35s 4ms/step - loss: 249.6131 - mean_squared_error: 249.6131 - val_loss: 42.7898 - val_mean_squared_error: 42.7898\n",
            "Epoch 116/200\n",
            "8117/8125 [============================>.] - ETA: 0s - loss: 250.0507 - mean_squared_error: 250.0507\n",
            "Epoch 00116: saving model to cp.ckpt\n",
            "8125/8125 [==============================] - 37s 5ms/step - loss: 250.0642 - mean_squared_error: 250.0642 - val_loss: 50.5494 - val_mean_squared_error: 50.5494\n",
            "Epoch 117/200\n",
            "8122/8125 [============================>.] - ETA: 0s - loss: 251.2576 - mean_squared_error: 251.2576\n",
            "Epoch 00117: saving model to cp.ckpt\n",
            "8125/8125 [==============================] - 33s 4ms/step - loss: 251.2508 - mean_squared_error: 251.2508 - val_loss: 53.6187 - val_mean_squared_error: 53.6187\n",
            "Epoch 118/200\n",
            "8120/8125 [============================>.] - ETA: 0s - loss: 249.0540 - mean_squared_error: 249.0540\n",
            "Epoch 00118: saving model to cp.ckpt\n",
            "8125/8125 [==============================] - 34s 4ms/step - loss: 249.0762 - mean_squared_error: 249.0762 - val_loss: 45.8522 - val_mean_squared_error: 45.8522\n",
            "Epoch 119/200\n",
            "8119/8125 [============================>.] - ETA: 0s - loss: 250.1428 - mean_squared_error: 250.1428\n",
            "Epoch 00119: saving model to cp.ckpt\n",
            "8125/8125 [==============================] - 33s 4ms/step - loss: 250.1616 - mean_squared_error: 250.1616 - val_loss: 44.4398 - val_mean_squared_error: 44.4398\n",
            "Epoch 120/200\n",
            "8116/8125 [============================>.] - ETA: 0s - loss: 249.2469 - mean_squared_error: 249.2469\n",
            "Epoch 00120: saving model to cp.ckpt\n",
            "8125/8125 [==============================] - 36s 4ms/step - loss: 249.2508 - mean_squared_error: 249.2508 - val_loss: 46.3405 - val_mean_squared_error: 46.3405\n",
            "Epoch 121/200\n",
            "8118/8125 [============================>.] - ETA: 0s - loss: 250.2036 - mean_squared_error: 250.2036\n",
            "Epoch 00121: saving model to cp.ckpt\n",
            "8125/8125 [==============================] - 37s 5ms/step - loss: 250.2156 - mean_squared_error: 250.2156 - val_loss: 51.2439 - val_mean_squared_error: 51.2439\n",
            "Epoch 122/200\n",
            "8124/8125 [============================>.] - ETA: 0s - loss: 250.4374 - mean_squared_error: 250.4374\n",
            "Epoch 00122: saving model to cp.ckpt\n",
            "8125/8125 [==============================] - 38s 5ms/step - loss: 250.4238 - mean_squared_error: 250.4238 - val_loss: 49.5911 - val_mean_squared_error: 49.5911\n",
            "Epoch 123/200\n",
            "8124/8125 [============================>.] - ETA: 0s - loss: 249.3836 - mean_squared_error: 249.3836\n",
            "Epoch 00123: saving model to cp.ckpt\n",
            "8125/8125 [==============================] - 35s 4ms/step - loss: 249.3821 - mean_squared_error: 249.3821 - val_loss: 44.8097 - val_mean_squared_error: 44.8097\n",
            "Epoch 124/200\n",
            "8124/8125 [============================>.] - ETA: 0s - loss: 247.8505 - mean_squared_error: 247.8505\n",
            "Epoch 00124: saving model to cp.ckpt\n",
            "8125/8125 [==============================] - 34s 4ms/step - loss: 247.8514 - mean_squared_error: 247.8514 - val_loss: 42.8927 - val_mean_squared_error: 42.8927\n",
            "Epoch 125/200\n",
            "8117/8125 [============================>.] - ETA: 0s - loss: 249.2243 - mean_squared_error: 249.2243\n",
            "Epoch 00125: saving model to cp.ckpt\n",
            "8125/8125 [==============================] - 35s 4ms/step - loss: 249.1841 - mean_squared_error: 249.1841 - val_loss: 42.4027 - val_mean_squared_error: 42.4027\n",
            "Epoch 126/200\n",
            "8125/8125 [==============================] - ETA: 0s - loss: 248.5394 - mean_squared_error: 248.5394\n",
            "Epoch 00126: saving model to cp.ckpt\n",
            "8125/8125 [==============================] - 36s 4ms/step - loss: 248.5394 - mean_squared_error: 248.5394 - val_loss: 42.5474 - val_mean_squared_error: 42.5474\n",
            "Epoch 127/200\n",
            "8122/8125 [============================>.] - ETA: 0s - loss: 247.7644 - mean_squared_error: 247.7644\n",
            "Epoch 00127: saving model to cp.ckpt\n",
            "8125/8125 [==============================] - 34s 4ms/step - loss: 247.7516 - mean_squared_error: 247.7516 - val_loss: 46.1128 - val_mean_squared_error: 46.1128\n",
            "Epoch 128/200\n",
            "8117/8125 [============================>.] - ETA: 0s - loss: 248.9945 - mean_squared_error: 248.9945\n",
            "Epoch 00128: saving model to cp.ckpt\n",
            "8125/8125 [==============================] - 34s 4ms/step - loss: 248.9964 - mean_squared_error: 248.9964 - val_loss: 48.0166 - val_mean_squared_error: 48.0166\n",
            "Epoch 129/200\n",
            "8119/8125 [============================>.] - ETA: 0s - loss: 248.7376 - mean_squared_error: 248.7376\n",
            "Epoch 00129: saving model to cp.ckpt\n",
            "8125/8125 [==============================] - 36s 4ms/step - loss: 248.7371 - mean_squared_error: 248.7371 - val_loss: 41.6219 - val_mean_squared_error: 41.6219\n",
            "Epoch 130/200\n",
            "8114/8125 [============================>.] - ETA: 0s - loss: 247.9362 - mean_squared_error: 247.9362\n",
            "Epoch 00130: saving model to cp.ckpt\n",
            "8125/8125 [==============================] - 36s 4ms/step - loss: 247.9559 - mean_squared_error: 247.9559 - val_loss: 49.7189 - val_mean_squared_error: 49.7189\n",
            "Epoch 131/200\n",
            "8125/8125 [==============================] - ETA: 0s - loss: 249.3906 - mean_squared_error: 249.3906\n",
            "Epoch 00131: saving model to cp.ckpt\n",
            "8125/8125 [==============================] - 38s 5ms/step - loss: 249.3906 - mean_squared_error: 249.3906 - val_loss: 44.5472 - val_mean_squared_error: 44.5472\n",
            "Epoch 132/200\n",
            "8120/8125 [============================>.] - ETA: 0s - loss: 249.4806 - mean_squared_error: 249.4806\n",
            "Epoch 00132: saving model to cp.ckpt\n",
            "8125/8125 [==============================] - 39s 5ms/step - loss: 249.4592 - mean_squared_error: 249.4592 - val_loss: 53.1259 - val_mean_squared_error: 53.1259\n",
            "Epoch 133/200\n",
            "8122/8125 [============================>.] - ETA: 0s - loss: 247.5346 - mean_squared_error: 247.5346\n",
            "Epoch 00133: saving model to cp.ckpt\n",
            "8125/8125 [==============================] - 34s 4ms/step - loss: 247.5213 - mean_squared_error: 247.5213 - val_loss: 47.2007 - val_mean_squared_error: 47.2007\n",
            "Epoch 134/200\n",
            "8118/8125 [============================>.] - ETA: 0s - loss: 248.3249 - mean_squared_error: 248.3249\n",
            "Epoch 00134: saving model to cp.ckpt\n",
            "8125/8125 [==============================] - 35s 4ms/step - loss: 248.3191 - mean_squared_error: 248.3191 - val_loss: 43.8833 - val_mean_squared_error: 43.8833\n",
            "Epoch 135/200\n",
            "8121/8125 [============================>.] - ETA: 0s - loss: 249.0196 - mean_squared_error: 249.0196\n",
            "Epoch 00135: saving model to cp.ckpt\n",
            "8125/8125 [==============================] - 36s 4ms/step - loss: 249.0177 - mean_squared_error: 249.0177 - val_loss: 42.9163 - val_mean_squared_error: 42.9163\n",
            "Epoch 136/200\n",
            "8125/8125 [==============================] - ETA: 0s - loss: 247.4235 - mean_squared_error: 247.4235\n",
            "Epoch 00136: saving model to cp.ckpt\n",
            "8125/8125 [==============================] - 35s 4ms/step - loss: 247.4235 - mean_squared_error: 247.4235 - val_loss: 64.7676 - val_mean_squared_error: 64.7676\n",
            "Epoch 137/200\n",
            "8124/8125 [============================>.] - ETA: 0s - loss: 247.7497 - mean_squared_error: 247.7497\n",
            "Epoch 00137: saving model to cp.ckpt\n",
            "8125/8125 [==============================] - 35s 4ms/step - loss: 247.7376 - mean_squared_error: 247.7376 - val_loss: 50.5480 - val_mean_squared_error: 50.5480\n",
            "Epoch 138/200\n",
            "8123/8125 [============================>.] - ETA: 0s - loss: 248.6817 - mean_squared_error: 248.6817\n",
            "Epoch 00138: saving model to cp.ckpt\n",
            "8125/8125 [==============================] - 35s 4ms/step - loss: 248.6868 - mean_squared_error: 248.6868 - val_loss: 47.8024 - val_mean_squared_error: 47.8024\n",
            "Epoch 139/200\n",
            "8122/8125 [============================>.] - ETA: 0s - loss: 248.6610 - mean_squared_error: 248.6610\n",
            "Epoch 00139: saving model to cp.ckpt\n",
            "8125/8125 [==============================] - 36s 4ms/step - loss: 248.6534 - mean_squared_error: 248.6534 - val_loss: 51.0452 - val_mean_squared_error: 51.0452\n",
            "Epoch 140/200\n",
            "8122/8125 [============================>.] - ETA: 0s - loss: 247.1835 - mean_squared_error: 247.1835\n",
            "Epoch 00140: saving model to cp.ckpt\n",
            "8125/8125 [==============================] - 36s 4ms/step - loss: 247.1786 - mean_squared_error: 247.1786 - val_loss: 44.9857 - val_mean_squared_error: 44.9857\n",
            "Epoch 141/200\n",
            "8124/8125 [============================>.] - ETA: 0s - loss: 247.4976 - mean_squared_error: 247.4976\n",
            "Epoch 00141: saving model to cp.ckpt\n",
            "8125/8125 [==============================] - 36s 4ms/step - loss: 247.4930 - mean_squared_error: 247.4930 - val_loss: 45.4381 - val_mean_squared_error: 45.4381\n",
            "Epoch 142/200\n",
            "8124/8125 [============================>.] - ETA: 0s - loss: 248.6463 - mean_squared_error: 248.6463\n",
            "Epoch 00142: saving model to cp.ckpt\n",
            "8125/8125 [==============================] - 34s 4ms/step - loss: 248.6574 - mean_squared_error: 248.6574 - val_loss: 46.7100 - val_mean_squared_error: 46.7100\n",
            "Epoch 143/200\n",
            "8122/8125 [============================>.] - ETA: 0s - loss: 246.9239 - mean_squared_error: 246.9239\n",
            "Epoch 00143: saving model to cp.ckpt\n",
            "8125/8125 [==============================] - 34s 4ms/step - loss: 246.9043 - mean_squared_error: 246.9043 - val_loss: 45.0240 - val_mean_squared_error: 45.0240\n",
            "Epoch 144/200\n",
            "8114/8125 [============================>.] - ETA: 0s - loss: 248.5176 - mean_squared_error: 248.5176\n",
            "Epoch 00144: saving model to cp.ckpt\n",
            "8125/8125 [==============================] - 34s 4ms/step - loss: 248.5533 - mean_squared_error: 248.5533 - val_loss: 41.2095 - val_mean_squared_error: 41.2095\n",
            "Epoch 145/200\n",
            "8117/8125 [============================>.] - ETA: 0s - loss: 248.2421 - mean_squared_error: 248.2421\n",
            "Epoch 00145: saving model to cp.ckpt\n",
            "8125/8125 [==============================] - 36s 4ms/step - loss: 248.2316 - mean_squared_error: 248.2316 - val_loss: 54.2830 - val_mean_squared_error: 54.2830\n",
            "Epoch 146/200\n",
            "8124/8125 [============================>.] - ETA: 0s - loss: 247.0837 - mean_squared_error: 247.0837\n",
            "Epoch 00146: saving model to cp.ckpt\n",
            "8125/8125 [==============================] - 36s 4ms/step - loss: 247.0796 - mean_squared_error: 247.0796 - val_loss: 43.3390 - val_mean_squared_error: 43.3390\n",
            "Epoch 147/200\n",
            "8119/8125 [============================>.] - ETA: 0s - loss: 248.4577 - mean_squared_error: 248.4577\n",
            "Epoch 00147: saving model to cp.ckpt\n",
            "8125/8125 [==============================] - 36s 4ms/step - loss: 248.4623 - mean_squared_error: 248.4623 - val_loss: 43.6841 - val_mean_squared_error: 43.6841\n",
            "Epoch 148/200\n",
            "8120/8125 [============================>.] - ETA: 0s - loss: 247.7844 - mean_squared_error: 247.7844\n",
            "Epoch 00148: saving model to cp.ckpt\n",
            "8125/8125 [==============================] - 36s 4ms/step - loss: 247.8088 - mean_squared_error: 247.8088 - val_loss: 41.0839 - val_mean_squared_error: 41.0839\n",
            "Epoch 149/200\n",
            "8117/8125 [============================>.] - ETA: 0s - loss: 248.0101 - mean_squared_error: 248.0101\n",
            "Epoch 00149: saving model to cp.ckpt\n",
            "8125/8125 [==============================] - 35s 4ms/step - loss: 248.0257 - mean_squared_error: 248.0257 - val_loss: 51.1082 - val_mean_squared_error: 51.1082\n",
            "Epoch 150/200\n",
            "8119/8125 [============================>.] - ETA: 0s - loss: 247.5826 - mean_squared_error: 247.5826\n",
            "Epoch 00150: saving model to cp.ckpt\n",
            "8125/8125 [==============================] - 35s 4ms/step - loss: 247.6247 - mean_squared_error: 247.6247 - val_loss: 39.6686 - val_mean_squared_error: 39.6686\n",
            "Epoch 151/200\n",
            "8124/8125 [============================>.] - ETA: 0s - loss: 246.4471 - mean_squared_error: 246.4471\n",
            "Epoch 00151: saving model to cp.ckpt\n",
            "8125/8125 [==============================] - 42s 5ms/step - loss: 246.4410 - mean_squared_error: 246.4410 - val_loss: 47.8561 - val_mean_squared_error: 47.8561\n",
            "Epoch 152/200\n",
            "8119/8125 [============================>.] - ETA: 0s - loss: 248.4255 - mean_squared_error: 248.4255\n",
            "Epoch 00152: saving model to cp.ckpt\n",
            "8125/8125 [==============================] - 37s 5ms/step - loss: 248.4163 - mean_squared_error: 248.4163 - val_loss: 42.9108 - val_mean_squared_error: 42.9108\n",
            "Epoch 153/200\n",
            "8123/8125 [============================>.] - ETA: 0s - loss: 246.0095 - mean_squared_error: 246.0095\n",
            "Epoch 00153: saving model to cp.ckpt\n",
            "8125/8125 [==============================] - 40s 5ms/step - loss: 246.0083 - mean_squared_error: 246.0083 - val_loss: 54.2601 - val_mean_squared_error: 54.2601\n",
            "Epoch 154/200\n",
            "8124/8125 [============================>.] - ETA: 0s - loss: 247.4524 - mean_squared_error: 247.4524\n",
            "Epoch 00154: saving model to cp.ckpt\n",
            "8125/8125 [==============================] - 35s 4ms/step - loss: 247.4648 - mean_squared_error: 247.4648 - val_loss: 44.9504 - val_mean_squared_error: 44.9504\n",
            "Epoch 155/200\n",
            "8120/8125 [============================>.] - ETA: 0s - loss: 248.2451 - mean_squared_error: 248.2451\n",
            "Epoch 00155: saving model to cp.ckpt\n",
            "8125/8125 [==============================] - 35s 4ms/step - loss: 248.2575 - mean_squared_error: 248.2575 - val_loss: 47.8837 - val_mean_squared_error: 47.8837\n",
            "Epoch 156/200\n",
            "8119/8125 [============================>.] - ETA: 0s - loss: 246.8482 - mean_squared_error: 246.8482\n",
            "Epoch 00156: saving model to cp.ckpt\n",
            "8125/8125 [==============================] - 36s 4ms/step - loss: 246.8378 - mean_squared_error: 246.8378 - val_loss: 43.8920 - val_mean_squared_error: 43.8920\n",
            "Epoch 157/200\n",
            "8118/8125 [============================>.] - ETA: 0s - loss: 247.7117 - mean_squared_error: 247.7117\n",
            "Epoch 00157: saving model to cp.ckpt\n",
            "8125/8125 [==============================] - 35s 4ms/step - loss: 247.7050 - mean_squared_error: 247.7050 - val_loss: 40.4893 - val_mean_squared_error: 40.4893\n",
            "Epoch 158/200\n",
            "8123/8125 [============================>.] - ETA: 0s - loss: 247.2019 - mean_squared_error: 247.2019\n",
            "Epoch 00158: saving model to cp.ckpt\n",
            "8125/8125 [==============================] - 37s 5ms/step - loss: 247.1953 - mean_squared_error: 247.1953 - val_loss: 43.2941 - val_mean_squared_error: 43.2941\n",
            "Epoch 159/200\n",
            "8124/8125 [============================>.] - ETA: 0s - loss: 246.3434 - mean_squared_error: 246.3434\n",
            "Epoch 00159: saving model to cp.ckpt\n",
            "8125/8125 [==============================] - 39s 5ms/step - loss: 246.3468 - mean_squared_error: 246.3468 - val_loss: 53.5956 - val_mean_squared_error: 53.5956\n",
            "Epoch 160/200\n",
            "8118/8125 [============================>.] - ETA: 0s - loss: 246.0162 - mean_squared_error: 246.0162\n",
            "Epoch 00160: saving model to cp.ckpt\n",
            "8125/8125 [==============================] - 37s 5ms/step - loss: 246.0312 - mean_squared_error: 246.0312 - val_loss: 52.3352 - val_mean_squared_error: 52.3352\n",
            "Epoch 161/200\n",
            "8116/8125 [============================>.] - ETA: 0s - loss: 247.4821 - mean_squared_error: 247.4821\n",
            "Epoch 00161: saving model to cp.ckpt\n",
            "8125/8125 [==============================] - 35s 4ms/step - loss: 247.5071 - mean_squared_error: 247.5071 - val_loss: 41.3756 - val_mean_squared_error: 41.3756\n",
            "Epoch 162/200\n",
            "8119/8125 [============================>.] - ETA: 0s - loss: 248.0283 - mean_squared_error: 248.0283\n",
            "Epoch 00162: saving model to cp.ckpt\n",
            "8125/8125 [==============================] - 36s 4ms/step - loss: 248.0298 - mean_squared_error: 248.0298 - val_loss: 46.7513 - val_mean_squared_error: 46.7513\n",
            "Epoch 163/200\n",
            "8116/8125 [============================>.] - ETA: 0s - loss: 246.5326 - mean_squared_error: 246.5326\n",
            "Epoch 00163: saving model to cp.ckpt\n",
            "8125/8125 [==============================] - 37s 5ms/step - loss: 246.5483 - mean_squared_error: 246.5483 - val_loss: 46.8961 - val_mean_squared_error: 46.8961\n",
            "Epoch 164/200\n",
            "8123/8125 [============================>.] - ETA: 0s - loss: 246.7676 - mean_squared_error: 246.7676\n",
            "Epoch 00164: saving model to cp.ckpt\n",
            "8125/8125 [==============================] - 38s 5ms/step - loss: 246.7583 - mean_squared_error: 246.7583 - val_loss: 45.7611 - val_mean_squared_error: 45.7611\n",
            "Epoch 165/200\n",
            "8122/8125 [============================>.] - ETA: 0s - loss: 247.5990 - mean_squared_error: 247.5990\n",
            "Epoch 00165: saving model to cp.ckpt\n",
            "8125/8125 [==============================] - 35s 4ms/step - loss: 247.5964 - mean_squared_error: 247.5964 - val_loss: 53.2944 - val_mean_squared_error: 53.2944\n",
            "Epoch 166/200\n",
            "8122/8125 [============================>.] - ETA: 0s - loss: 245.6270 - mean_squared_error: 245.6270\n",
            "Epoch 00166: saving model to cp.ckpt\n",
            "8125/8125 [==============================] - 35s 4ms/step - loss: 245.6259 - mean_squared_error: 245.6259 - val_loss: 48.3225 - val_mean_squared_error: 48.3225\n",
            "Epoch 167/200\n",
            "8112/8125 [============================>.] - ETA: 0s - loss: 246.9691 - mean_squared_error: 246.9691\n",
            "Epoch 00167: saving model to cp.ckpt\n",
            "8125/8125 [==============================] - 37s 5ms/step - loss: 246.9254 - mean_squared_error: 246.9254 - val_loss: 39.6526 - val_mean_squared_error: 39.6526\n",
            "Epoch 168/200\n",
            "8117/8125 [============================>.] - ETA: 0s - loss: 247.0141 - mean_squared_error: 247.0141\n",
            "Epoch 00168: saving model to cp.ckpt\n",
            "8125/8125 [==============================] - 36s 4ms/step - loss: 247.0215 - mean_squared_error: 247.0215 - val_loss: 48.0433 - val_mean_squared_error: 48.0433\n",
            "Epoch 169/200\n",
            "8120/8125 [============================>.] - ETA: 0s - loss: 248.0415 - mean_squared_error: 248.0415\n",
            "Epoch 00169: saving model to cp.ckpt\n",
            "8125/8125 [==============================] - 36s 4ms/step - loss: 248.0434 - mean_squared_error: 248.0434 - val_loss: 45.3607 - val_mean_squared_error: 45.3607\n",
            "Epoch 170/200\n",
            "8121/8125 [============================>.] - ETA: 0s - loss: 246.5973 - mean_squared_error: 246.5973\n",
            "Epoch 00170: saving model to cp.ckpt\n",
            "8125/8125 [==============================] - 35s 4ms/step - loss: 246.5761 - mean_squared_error: 246.5761 - val_loss: 42.9352 - val_mean_squared_error: 42.9352\n",
            "Epoch 171/200\n",
            "8123/8125 [============================>.] - ETA: 0s - loss: 246.3450 - mean_squared_error: 246.3450\n",
            "Epoch 00171: saving model to cp.ckpt\n",
            "8125/8125 [==============================] - 40s 5ms/step - loss: 246.3365 - mean_squared_error: 246.3365 - val_loss: 46.0144 - val_mean_squared_error: 46.0144\n",
            "Epoch 172/200\n",
            "8116/8125 [============================>.] - ETA: 0s - loss: 245.3335 - mean_squared_error: 245.3335\n",
            "Epoch 00172: saving model to cp.ckpt\n",
            "8125/8125 [==============================] - 36s 4ms/step - loss: 245.3293 - mean_squared_error: 245.3293 - val_loss: 42.6953 - val_mean_squared_error: 42.6953\n",
            "Epoch 173/200\n",
            "8117/8125 [============================>.] - ETA: 0s - loss: 245.4740 - mean_squared_error: 245.4740\n",
            "Epoch 00173: saving model to cp.ckpt\n",
            "8125/8125 [==============================] - 37s 5ms/step - loss: 245.4428 - mean_squared_error: 245.4428 - val_loss: 48.6782 - val_mean_squared_error: 48.6782\n",
            "Epoch 174/200\n",
            "8120/8125 [============================>.] - ETA: 0s - loss: 247.0719 - mean_squared_error: 247.0719\n",
            "Epoch 00174: saving model to cp.ckpt\n",
            "8125/8125 [==============================] - 37s 5ms/step - loss: 247.0627 - mean_squared_error: 247.0627 - val_loss: 63.9044 - val_mean_squared_error: 63.9044\n",
            "Epoch 175/200\n",
            "8124/8125 [============================>.] - ETA: 0s - loss: 246.9372 - mean_squared_error: 246.9372\n",
            "Epoch 00175: saving model to cp.ckpt\n",
            "8125/8125 [==============================] - 37s 5ms/step - loss: 246.9321 - mean_squared_error: 246.9321 - val_loss: 55.3026 - val_mean_squared_error: 55.3026\n",
            "Epoch 176/200\n",
            "8115/8125 [============================>.] - ETA: 0s - loss: 246.3475 - mean_squared_error: 246.3475\n",
            "Epoch 00176: saving model to cp.ckpt\n",
            "8125/8125 [==============================] - 37s 5ms/step - loss: 246.3276 - mean_squared_error: 246.3276 - val_loss: 43.5345 - val_mean_squared_error: 43.5345\n",
            "Epoch 177/200\n",
            "8124/8125 [============================>.] - ETA: 0s - loss: 244.6277 - mean_squared_error: 244.6277\n",
            "Epoch 00177: saving model to cp.ckpt\n",
            "8125/8125 [==============================] - 37s 5ms/step - loss: 244.6229 - mean_squared_error: 244.6229 - val_loss: 40.7644 - val_mean_squared_error: 40.7644\n",
            "Epoch 178/200\n",
            "8121/8125 [============================>.] - ETA: 0s - loss: 246.5390 - mean_squared_error: 246.5390\n",
            "Epoch 00178: saving model to cp.ckpt\n",
            "8125/8125 [==============================] - 38s 5ms/step - loss: 246.5410 - mean_squared_error: 246.5410 - val_loss: 47.5701 - val_mean_squared_error: 47.5701\n",
            "Epoch 179/200\n",
            "8120/8125 [============================>.] - ETA: 0s - loss: 246.8621 - mean_squared_error: 246.8621\n",
            "Epoch 00179: saving model to cp.ckpt\n",
            "8125/8125 [==============================] - 38s 5ms/step - loss: 246.8827 - mean_squared_error: 246.8827 - val_loss: 50.7575 - val_mean_squared_error: 50.7575\n",
            "Epoch 180/200\n",
            "8118/8125 [============================>.] - ETA: 0s - loss: 247.4897 - mean_squared_error: 247.4897\n",
            "Epoch 00180: saving model to cp.ckpt\n",
            "8125/8125 [==============================] - 37s 5ms/step - loss: 247.4896 - mean_squared_error: 247.4896 - val_loss: 47.3756 - val_mean_squared_error: 47.3756\n",
            "Epoch 181/200\n",
            "8125/8125 [==============================] - ETA: 0s - loss: 246.6325 - mean_squared_error: 246.6325\n",
            "Epoch 00181: saving model to cp.ckpt\n",
            "8125/8125 [==============================] - 38s 5ms/step - loss: 246.6325 - mean_squared_error: 246.6325 - val_loss: 46.6955 - val_mean_squared_error: 46.6955\n",
            "Epoch 182/200\n",
            "8119/8125 [============================>.] - ETA: 0s - loss: 246.0166 - mean_squared_error: 246.0166\n",
            "Epoch 00182: saving model to cp.ckpt\n",
            "8125/8125 [==============================] - 37s 5ms/step - loss: 246.0204 - mean_squared_error: 246.0204 - val_loss: 46.2057 - val_mean_squared_error: 46.2057\n",
            "Epoch 183/200\n",
            "8121/8125 [============================>.] - ETA: 0s - loss: 244.3645 - mean_squared_error: 244.3645\n",
            "Epoch 00183: saving model to cp.ckpt\n",
            "8125/8125 [==============================] - 42s 5ms/step - loss: 244.3682 - mean_squared_error: 244.3682 - val_loss: 51.0205 - val_mean_squared_error: 51.0205\n",
            "Epoch 184/200\n",
            "8124/8125 [============================>.] - ETA: 0s - loss: 245.4792 - mean_squared_error: 245.4792\n",
            "Epoch 00184: saving model to cp.ckpt\n",
            "8125/8125 [==============================] - 36s 4ms/step - loss: 245.4786 - mean_squared_error: 245.4786 - val_loss: 39.1012 - val_mean_squared_error: 39.1012\n",
            "Epoch 185/200\n",
            "8124/8125 [============================>.] - ETA: 0s - loss: 245.7173 - mean_squared_error: 245.7173\n",
            "Epoch 00185: saving model to cp.ckpt\n",
            "8125/8125 [==============================] - 40s 5ms/step - loss: 245.7193 - mean_squared_error: 245.7193 - val_loss: 43.4104 - val_mean_squared_error: 43.4104\n",
            "Epoch 186/200\n",
            "8118/8125 [============================>.] - ETA: 0s - loss: 244.6655 - mean_squared_error: 244.6655\n",
            "Epoch 00186: saving model to cp.ckpt\n",
            "8125/8125 [==============================] - 36s 4ms/step - loss: 244.6578 - mean_squared_error: 244.6578 - val_loss: 56.5552 - val_mean_squared_error: 56.5552\n",
            "Epoch 187/200\n",
            "8125/8125 [==============================] - ETA: 0s - loss: 244.8991 - mean_squared_error: 244.8991\n",
            "Epoch 00187: saving model to cp.ckpt\n",
            "8125/8125 [==============================] - 36s 4ms/step - loss: 244.8991 - mean_squared_error: 244.8991 - val_loss: 42.2246 - val_mean_squared_error: 42.2246\n",
            "Epoch 188/200\n",
            "8120/8125 [============================>.] - ETA: 0s - loss: 245.8755 - mean_squared_error: 245.8755\n",
            "Epoch 00188: saving model to cp.ckpt\n",
            "8125/8125 [==============================] - 37s 5ms/step - loss: 245.8640 - mean_squared_error: 245.8640 - val_loss: 56.2741 - val_mean_squared_error: 56.2741\n",
            "Epoch 189/200\n",
            "8124/8125 [============================>.] - ETA: 0s - loss: 244.6970 - mean_squared_error: 244.6970\n",
            "Epoch 00189: saving model to cp.ckpt\n",
            "8125/8125 [==============================] - 39s 5ms/step - loss: 244.6955 - mean_squared_error: 244.6955 - val_loss: 45.1763 - val_mean_squared_error: 45.1763\n",
            "Epoch 190/200\n",
            "8124/8125 [============================>.] - ETA: 0s - loss: 246.6362 - mean_squared_error: 246.6362\n",
            "Epoch 00190: saving model to cp.ckpt\n",
            "8125/8125 [==============================] - 37s 5ms/step - loss: 246.6341 - mean_squared_error: 246.6341 - val_loss: 40.0921 - val_mean_squared_error: 40.0921\n",
            "Epoch 191/200\n",
            "8114/8125 [============================>.] - ETA: 0s - loss: 244.8915 - mean_squared_error: 244.8915\n",
            "Epoch 00191: saving model to cp.ckpt\n",
            "8125/8125 [==============================] - 38s 5ms/step - loss: 244.8905 - mean_squared_error: 244.8905 - val_loss: 39.6679 - val_mean_squared_error: 39.6679\n",
            "Epoch 192/200\n",
            "8123/8125 [============================>.] - ETA: 0s - loss: 246.1271 - mean_squared_error: 246.1271\n",
            "Epoch 00192: saving model to cp.ckpt\n",
            "8125/8125 [==============================] - 42s 5ms/step - loss: 246.1086 - mean_squared_error: 246.1086 - val_loss: 40.5052 - val_mean_squared_error: 40.5052\n",
            "Epoch 193/200\n",
            "8116/8125 [============================>.] - ETA: 0s - loss: 246.0402 - mean_squared_error: 246.0402\n",
            "Epoch 00193: saving model to cp.ckpt\n",
            "8125/8125 [==============================] - 37s 5ms/step - loss: 246.0080 - mean_squared_error: 246.0080 - val_loss: 40.3819 - val_mean_squared_error: 40.3819\n",
            "Epoch 194/200\n",
            "8121/8125 [============================>.] - ETA: 0s - loss: 245.0396 - mean_squared_error: 245.0396\n",
            "Epoch 00194: saving model to cp.ckpt\n",
            "8125/8125 [==============================] - 37s 5ms/step - loss: 245.0276 - mean_squared_error: 245.0276 - val_loss: 40.4873 - val_mean_squared_error: 40.4873\n",
            "Epoch 195/200\n",
            "8119/8125 [============================>.] - ETA: 0s - loss: 244.6765 - mean_squared_error: 244.6765\n",
            "Epoch 00195: saving model to cp.ckpt\n",
            "8125/8125 [==============================] - 42s 5ms/step - loss: 244.6650 - mean_squared_error: 244.6650 - val_loss: 39.1148 - val_mean_squared_error: 39.1148\n",
            "Epoch 196/200\n",
            "8124/8125 [============================>.] - ETA: 0s - loss: 244.4900 - mean_squared_error: 244.4900\n",
            "Epoch 00196: saving model to cp.ckpt\n",
            "8125/8125 [==============================] - 39s 5ms/step - loss: 244.4931 - mean_squared_error: 244.4931 - val_loss: 45.0731 - val_mean_squared_error: 45.0731\n",
            "Epoch 197/200\n",
            "8121/8125 [============================>.] - ETA: 0s - loss: 245.9960 - mean_squared_error: 245.9960\n",
            "Epoch 00197: saving model to cp.ckpt\n",
            "8125/8125 [==============================] - 40s 5ms/step - loss: 246.0475 - mean_squared_error: 246.0475 - val_loss: 51.6197 - val_mean_squared_error: 51.6197\n",
            "Epoch 198/200\n",
            "8124/8125 [============================>.] - ETA: 0s - loss: 246.2139 - mean_squared_error: 246.2139\n",
            "Epoch 00198: saving model to cp.ckpt\n",
            "8125/8125 [==============================] - 39s 5ms/step - loss: 246.2105 - mean_squared_error: 246.2105 - val_loss: 43.7024 - val_mean_squared_error: 43.7024\n",
            "Epoch 199/200\n",
            "8122/8125 [============================>.] - ETA: 0s - loss: 244.9976 - mean_squared_error: 244.9976\n",
            "Epoch 00199: saving model to cp.ckpt\n",
            "8125/8125 [==============================] - 43s 5ms/step - loss: 244.9964 - mean_squared_error: 244.9964 - val_loss: 41.6937 - val_mean_squared_error: 41.6937\n",
            "Epoch 200/200\n",
            "8125/8125 [==============================] - ETA: 0s - loss: 245.1077 - mean_squared_error: 245.1077\n",
            "Epoch 00200: saving model to cp.ckpt\n",
            "8125/8125 [==============================] - 41s 5ms/step - loss: 245.1077 - mean_squared_error: 245.1077 - val_loss: 44.2298 - val_mean_squared_error: 44.2298\n",
            "2032/2032 [==============================] - 9s 4ms/step - loss: 44.2298 - mean_squared_error: 44.2298\n",
            "Start predicting; got log keys: []\n",
            "Stop predicting; got log keys: []\n"
          ]
        }
      ],
      "source": [
        "checkpoint_path = \"cp.ckpt\"\n",
        "\n",
        "# Create a callback that saves the model's weights \n",
        "# currently, model weights are saved for each training\n",
        "# to do - update for early stopping\n",
        "cp_callback = tf.keras.callbacks.ModelCheckpoint(filepath=checkpoint_path,\n",
        "                                                 save_weights_only=True,\n",
        "                                                 verbose=1)\n",
        "\n",
        "#https://www.tensorflow.org/api_docs/python/tf/keras/callbacks/EarlyStopping\n",
        "#patience: Number of epochs with no improvement after which training will be stopped\n",
        "earlyStop_callback = tf.keras.callbacks.EarlyStopping(monitor='loss', patience=20)\n",
        "\n",
        "csv_logger = CSVLogger('log.csv', append=True, separator=';')\n",
        "\n",
        "batch_size = 64\n",
        "epochs = 200 \n",
        "     \n",
        "model.compile(loss=keras.losses.MeanSquaredError(),\n",
        "              optimizer='adam',\n",
        "              metrics=['mean_squared_error'])\n",
        "\n",
        "history = model.fit(\n",
        "          X_train, y_train,\n",
        "          batch_size=batch_size,\n",
        "          epochs=epochs,  \n",
        "          verbose=1,\n",
        "          validation_data=(X_test, y_test),\n",
        "          callbacks=[cp_callback, csv_logger, earlyStop_callback],\n",
        "          )\n",
        "          \n",
        "res = model.evaluate(\n",
        "    X_test, y_test, batch_size=batch_size,\n",
        ") \n",
        "\n",
        "predictions = model.predict(X_test, batch_size=batch_size, callbacks=[CustomCallback()])"
      ]
    },
    {
      "cell_type": "code",
      "execution_count": null,
      "metadata": {
        "id": "zOYkjgBW6w1Z"
      },
      "outputs": [],
      "source": [
        "#save model                                                      \n",
        "# serialize model to JSON                                                                                                                                                          \n",
        "model_json = model.to_json()                                                                                                              \n",
        "with open(\"model.json\", \"w\") as json_file:                                                    \n",
        "  json_file.write(model_json)                                 \n",
        "                     \n",
        "#save full model in hd5 format                    \n",
        "   \n",
        "model.save('my_model.h5')\n",
        "\n",
        "#alt. methods\n",
        "#You can save History attribute of tf.keras.callbacks.History in .txt form\n",
        "#with open(\"/content/drive/MyDrive/NN-jan28/result_model.txt\",'w') a   s f:\n",
        "#    for k in history.history.keys():\n",
        "#        print(k,file=f)\n",
        "#        for i in history.history[k]:\n",
        "#            print(i,file=f)\n",
        "#import pickle\n",
        "#with open('/content/drive/MyDrive/NN-jan28/trainHistoryDict', 'wb') as file_pi:\n",
        "#    pickle.dump(history.history, file_pi)"
      ]
    },
    {
      "cell_type": "code",
      "execution_count": null,
      "metadata": {
        "colab": {
          "base_uri": "https://localhost:8080/",
          "height": 628
        },
        "id": "fhqq6gjo210i",
        "outputId": "957724be-871a-4de9-984d-be90f0345c98"
      },
      "outputs": [
        {
          "output_type": "stream",
          "name": "stdout",
          "text": [
            "130000\n",
            "           x-entry\n",
            "0       309.980255\n",
            "1      -150.807404\n",
            "2      -396.349976\n",
            "3         0.030913\n",
            "4        78.889336\n",
            "...            ...\n",
            "129995  228.242599\n",
            "129996  393.858551\n",
            "129997  180.389740\n",
            "129998   59.635380\n",
            "129999 -250.462784\n",
            "\n",
            "[130000 rows x 1 columns]\n"
          ]
        },
        {
          "output_type": "stream",
          "name": "stderr",
          "text": [
            "/usr/local/lib/python3.7/dist-packages/seaborn/distributions.py:2619: FutureWarning: `distplot` is a deprecated function and will be removed in a future version. Please adapt your code to use either `displot` (a figure-level function with similar flexibility) or `histplot` (an axes-level function for histograms).\n",
            "  warnings.warn(msg, FutureWarning)\n"
          ]
        },
        {
          "output_type": "display_data",
          "data": {
            "image/png": "[encoded data removed]",
            "text/plain": [
              "<Figure size 432x288 with 1 Axes>"
            ]
          },
          "metadata": {
            "needs_background": "light"
          }
        }
      ],
      "source": [
        "print(len(predictions))\n",
        "df_predict = pd.DataFrame(predictions, columns=['x-entry'])\n",
        "print(df_predict)\n",
        "df_predict.head()\n",
        "sns.distplot(df_predict['x-entry'], kde=False, bins=50)\n",
        "plt.xlim([-400,400])\n",
        "plt.xlabel('cotBeta')\n",
        "plt.ylabel('frequency')\n",
        "plt.title(\"cotBeta (predicted)\")\n",
        "plt.savefig('x-prediction.png')"
      ]
    },
    {
      "cell_type": "code",
      "execution_count": null,
      "metadata": {
        "colab": {
          "base_uri": "https://localhost:8080/"
        },
        "id": "3l2CcXri9wm0",
        "outputId": "79fd0633-0e1f-4cb5-cb79-2763dbf42e40"
      },
      "outputs": [
        {
          "output_type": "stream",
          "name": "stdout",
          "text": [
            "(130000, 1)\n"
          ]
        }
      ],
      "source": [
        "#X_train, X_test, y_train, y_test = train_test_split(X,y,test_size = 0.20, random_state = 0)\n",
        "#print(X.shape, y.shape)\n",
        "#print(X_train.shape, X_test.shape, y_train.shape, y_test.shape)\n",
        "#df_predict = pd.DataFrame(predictions, columns=['x_entry', 'y_entry', 'z_entry', 'cotAlpha', 'cotBeta'])\n",
        "print(y_test.shape)\n",
        "trueLabels = pd.DataFrame(y_test, columns=['x-entry'])\n"
      ]
    },
    {
      "cell_type": "code",
      "execution_count": null,
      "metadata": {
        "colab": {
          "base_uri": "https://localhost:8080/",
          "height": 370
        },
        "id": "-4BUK1-2CLxF",
        "outputId": "e751ed0a-727e-4e72-99da-abff1dea9b39"
      },
      "outputs": [
        {
          "name": "stderr",
          "output_type": "stream",
          "text": [
            "/usr/local/lib/python3.7/dist-packages/seaborn/distributions.py:2619: FutureWarning: `distplot` is a deprecated function and will be removed in a future version. Please adapt your code to use either `displot` (a figure-level function with similar flexibility) or `histplot` (an axes-level function for histograms).\n",
            "  warnings.warn(msg, FutureWarning)\n"
          ]
        },
        {
          "data": {
            "text/plain": [
              "Text(0.5, 1.0, 'cotBeta (predicted)')"
            ]
          },
          "execution_count": 17,
          "metadata": {},
          "output_type": "execute_result"
        },
        {
          "data": {
            "image/png": "[encoded data removed]",
            "text/plain": [
              "<Figure size 432x288 with 1 Axes>"
            ]
          },
          "metadata": {},
          "output_type": "display_data"
        }
      ],
      "source": [
        "sns.distplot(df_predict['cotBeta'], kde=False, bins=20)\n",
        "plt.xlabel('cotBeta')\n",
        "plt.ylabel('frequency')\n",
        "plt.xlim([-0.15,0.15])\n",
        "plt.title(\"cotBeta (predicted)\")"
      ]
    },
    {
      "cell_type": "code",
      "execution_count": null,
      "metadata": {
        "colab": {
          "base_uri": "https://localhost:8080/",
          "height": 356
        },
        "id": "SJhhcS8rCMfP",
        "outputId": "4e43bbe0-c87d-468b-c768-63b5722f5e9a"
      },
      "outputs": [
        {
          "output_type": "stream",
          "name": "stderr",
          "text": [
            "/usr/local/lib/python3.7/dist-packages/seaborn/distributions.py:2619: FutureWarning: `distplot` is a deprecated function and will be removed in a future version. Please adapt your code to use either `displot` (a figure-level function with similar flexibility) or `histplot` (an axes-level function for histograms).\n",
            "  warnings.warn(msg, FutureWarning)\n"
          ]
        },
        {
          "output_type": "display_data",
          "data": {
            "image/png": "[encoded data removed]",
            "text/plain": [
              "<Figure size 432x288 with 1 Axes>"
            ]
          },
          "metadata": {
            "needs_background": "light"
          }
        }
      ],
      "source": [
        "sns.distplot(df_predict['x-entry'], kde=False, bins=40)\n",
        "plt.xlabel(r'x_entry ($\\mu$m)')\n",
        "plt.ylabel('frequency')\n",
        "plt.xlim([-500,500])\n",
        "plt.title(\"x_entry (predicted)\")\n",
        "plt.savefig('x-entry-prediction.png')"
      ]
    },
    {
      "cell_type": "code",
      "execution_count": null,
      "metadata": {
        "colab": {
          "base_uri": "https://localhost:8080/",
          "height": 356
        },
        "id": "BlSaOsnxCNN8",
        "outputId": "008b3ad8-0811-4a9e-be7b-7a3b244b1085"
      },
      "outputs": [
        {
          "name": "stderr",
          "output_type": "stream",
          "text": [
            "/usr/local/lib/python3.7/dist-packages/seaborn/distributions.py:2619: FutureWarning: `distplot` is a deprecated function and will be removed in a future version. Please adapt your code to use either `displot` (a figure-level function with similar flexibility) or `histplot` (an axes-level function for histograms).\n",
            "  warnings.warn(msg, FutureWarning)\n"
          ]
        },
        {
          "data": {
            "image/png": "[encoded data removed]",
            "text/plain": [
              "<Figure size 432x288 with 1 Axes>"
            ]
          },
          "metadata": {},
          "output_type": "display_data"
        }
      ],
      "source": [
        "sns.distplot(df_predict['y_entry'], kde=False, bins=10)\n",
        "plt.xlabel(r'y_entry ($\\mu$m)')\n",
        "#plt.xlim([-20,20])\n",
        "plt.ylabel('frequency')\n",
        "plt.title(\"y_entry (predicted)\")\n",
        "plt.savefig('y-entry-prediction.png')"
      ]
    },
    {
      "cell_type": "code",
      "execution_count": null,
      "metadata": {
        "colab": {
          "base_uri": "https://localhost:8080/",
          "height": 356
        },
        "id": "n5h94oi-CNxK",
        "outputId": "acc73b27-eb0a-45aa-a611-d6ae53e2f3e7"
      },
      "outputs": [
        {
          "name": "stderr",
          "output_type": "stream",
          "text": [
            "/usr/local/lib/python3.7/dist-packages/seaborn/distributions.py:2619: FutureWarning: `distplot` is a deprecated function and will be removed in a future version. Please adapt your code to use either `displot` (a figure-level function with similar flexibility) or `histplot` (an axes-level function for histograms).\n",
            "  warnings.warn(msg, FutureWarning)\n"
          ]
        },
        {
          "data": {
            "image/png": "[encoded data removed]",
            "text/plain": [
              "<Figure size 432x288 with 1 Axes>"
            ]
          },
          "metadata": {},
          "output_type": "display_data"
        }
      ],
      "source": [
        "sns.distplot(df_predict['z_entry'], kde=False, bins=5)\n",
        "plt.xlabel(r'z_entry ($\\mu$m)')\n",
        "plt.ylabel('frequency')\n",
        "#plt.xlim(-.5,.5)\n",
        "plt.title(\"z_entry (predicted)\")\n",
        "plt.savefig('z-entry-prediction.png')"
      ]
    },
    {
      "cell_type": "code",
      "execution_count": null,
      "metadata": {
        "colab": {
          "base_uri": "https://localhost:8080/",
          "height": 352
        },
        "id": "tMGuNZsXpe4m",
        "outputId": "3ac9366f-78fd-40c2-8ab0-a0f1f4da626a"
      },
      "outputs": [
        {
          "name": "stderr",
          "output_type": "stream",
          "text": [
            "/usr/local/lib/python3.7/dist-packages/seaborn/distributions.py:2619: FutureWarning: `distplot` is a deprecated function and will be removed in a future version. Please adapt your code to use either `displot` (a figure-level function with similar flexibility) or `histplot` (an axes-level function for histograms).\n",
            "  warnings.warn(msg, FutureWarning)\n"
          ]
        },
        {
          "data": {
            "image/png": "[encoded data removed]",
            "text/plain": [
              "<Figure size 432x288 with 1 Axes>"
            ]
          },
          "metadata": {},
          "output_type": "display_data"
        }
      ],
      "source": [
        "\n",
        "sns.distplot(trueLabels['cotAlpha']-df_predict['cotAlpha'], kde=False, bins=50)\n",
        "plt.xlabel('cotAlpha residual')\n",
        "plt.ylabel('frequency')\n",
        "plt.xlim([-2,2])\n",
        "plt.title('Cot Alpha Residual')\n",
        "plt.savefig('cotAlpha-resolution.png')"
      ]
    },
    {
      "cell_type": "code",
      "execution_count": null,
      "metadata": {
        "colab": {
          "base_uri": "https://localhost:8080/",
          "height": 352
        },
        "id": "kSPzAUblAVwg",
        "outputId": "8927974a-f1f2-4d93-9298-180f0d761b3a"
      },
      "outputs": [
        {
          "name": "stderr",
          "output_type": "stream",
          "text": [
            "/usr/local/lib/python3.7/dist-packages/seaborn/distributions.py:2619: FutureWarning: `distplot` is a deprecated function and will be removed in a future version. Please adapt your code to use either `displot` (a figure-level function with similar flexibility) or `histplot` (an axes-level function for histograms).\n",
            "  warnings.warn(msg, FutureWarning)\n"
          ]
        },
        {
          "data": {
            "image/png": "[encoded data removed]",
            "text/plain": [
              "<Figure size 432x288 with 1 Axes>"
            ]
          },
          "metadata": {},
          "output_type": "display_data"
        }
      ],
      "source": [
        "sns.distplot(trueLabels['cotBeta']-df_predict['cotBeta'], kde=False, bins=50)\n",
        "plt.xlabel('cotBeta residual')\n",
        "plt.ylabel('frequency')\n",
        "plt.xlim([-.5,.5])\n",
        "plt.title('Cot Beta Residual')\n",
        "plt.savefig('cotBeta-resolution.png')"
      ]
    },
    {
      "cell_type": "code",
      "execution_count": null,
      "metadata": {
        "colab": {
          "base_uri": "https://localhost:8080/",
          "height": 356
        },
        "id": "Ruv__2w7AXEf",
        "outputId": "ba9f66d1-bbc7-4bc5-cf7a-05abc47a6d26"
      },
      "outputs": [
        {
          "name": "stderr",
          "output_type": "stream",
          "text": [
            "/usr/local/lib/python3.7/dist-packages/seaborn/distributions.py:2619: FutureWarning: `distplot` is a deprecated function and will be removed in a future version. Please adapt your code to use either `displot` (a figure-level function with similar flexibility) or `histplot` (an axes-level function for histograms).\n",
            "  warnings.warn(msg, FutureWarning)\n"
          ]
        },
        {
          "data": {
            "image/png": "[encoded data removed]",
            "text/plain": [
              "<Figure size 432x288 with 1 Axes>"
            ]
          },
          "metadata": {},
          "output_type": "display_data"
        }
      ],
      "source": [
        "sns.distplot(trueLabels['x_entry']-df_predict['x_entry'], kde=False, bins=50)\n",
        "plt.xlabel(r'x_entry residual ($\\mu$m)')\n",
        "plt.ylabel('frequency')\n",
        "plt.xlim([-100,100])\n",
        "plt.title('x-entry Residual')\n",
        "plt.savefig('x-entry-resolution.png')"
      ]
    },
    {
      "cell_type": "code",
      "execution_count": null,
      "metadata": {
        "colab": {
          "base_uri": "https://localhost:8080/",
          "height": 356
        },
        "id": "kDjXCj3lAX6I",
        "outputId": "c5d3ca0f-0ca9-4fe7-eab4-3de35e1529fd"
      },
      "outputs": [
        {
          "name": "stderr",
          "output_type": "stream",
          "text": [
            "/usr/local/lib/python3.7/dist-packages/seaborn/distributions.py:2619: FutureWarning: `distplot` is a deprecated function and will be removed in a future version. Please adapt your code to use either `displot` (a figure-level function with similar flexibility) or `histplot` (an axes-level function for histograms).\n",
            "  warnings.warn(msg, FutureWarning)\n"
          ]
        },
        {
          "data": {
            "image/png": "[encoded data removed]",
            "text/plain": [
              "<Figure size 432x288 with 1 Axes>"
            ]
          },
          "metadata": {},
          "output_type": "display_data"
        }
      ],
      "source": [
        "sns.distplot(trueLabels['y_entry']-df_predict['y_entry'], kde=True, bins=50)\n",
        "plt.xlabel(r'y_entry residual ($\\mu$m)')\n",
        "plt.ylabel('frequency')\n",
        "plt.title('y-entry Residual')\n",
        "plt.savefig('y-entry-resolution.png')"
      ]
    },
    {
      "cell_type": "code",
      "execution_count": null,
      "metadata": {
        "colab": {
          "base_uri": "https://localhost:8080/",
          "height": 476
        },
        "id": "eBFVJ2uNYOoq",
        "outputId": "5b436ce8-fc3c-4261-d61f-94211f16f9a4"
      },
      "outputs": [
        {
          "ename": "NameError",
          "evalue": "ignored",
          "output_type": "error",
          "traceback": [
            "\u001b[0;31m---------------------------------------------------------------------------\u001b[0m",
            "\u001b[0;31mNameError\u001b[0m                                 Traceback (most recent call last)",
            "\u001b[0;32m<ipython-input-25-d362cdec65f9>\u001b[0m in \u001b[0;36m<module>\u001b[0;34m()\u001b[0m\n\u001b[1;32m      8\u001b[0m \u001b[0msigma\u001b[0m \u001b[0;34m=\u001b[0m \u001b[0mnp\u001b[0m\u001b[0;34m.\u001b[0m\u001b[0msqrt\u001b[0m\u001b[0;34m(\u001b[0m\u001b[0mvariance\u001b[0m\u001b[0;34m)\u001b[0m\u001b[0;34m\u001b[0m\u001b[0;34m\u001b[0m\u001b[0m\n\u001b[1;32m      9\u001b[0m \u001b[0mx\u001b[0m \u001b[0;34m=\u001b[0m \u001b[0mnp\u001b[0m\u001b[0;34m.\u001b[0m\u001b[0mlinspace\u001b[0m\u001b[0;34m(\u001b[0m\u001b[0mmin\u001b[0m\u001b[0;34m(\u001b[0m\u001b[0mdata\u001b[0m\u001b[0;34m)\u001b[0m\u001b[0;34m,\u001b[0m \u001b[0mmax\u001b[0m\u001b[0;34m(\u001b[0m\u001b[0mdata\u001b[0m\u001b[0;34m)\u001b[0m\u001b[0;34m,\u001b[0m \u001b[0;36m100\u001b[0m\u001b[0;34m)\u001b[0m\u001b[0;34m\u001b[0m\u001b[0;34m\u001b[0m\u001b[0m\n\u001b[0;32m---> 10\u001b[0;31m \u001b[0mplt\u001b[0m\u001b[0;34m.\u001b[0m\u001b[0mplot\u001b[0m\u001b[0;34m(\u001b[0m\u001b[0mx\u001b[0m\u001b[0;34m,\u001b[0m \u001b[0mnorm\u001b[0m\u001b[0;34m.\u001b[0m\u001b[0mpdf\u001b[0m\u001b[0;34m(\u001b[0m\u001b[0mx\u001b[0m\u001b[0;34m,\u001b[0m \u001b[0mmean\u001b[0m\u001b[0;34m,\u001b[0m \u001b[0msigma\u001b[0m\u001b[0;34m)\u001b[0m\u001b[0;34m)\u001b[0m\u001b[0;34m\u001b[0m\u001b[0;34m\u001b[0m\u001b[0m\n\u001b[0m\u001b[1;32m     11\u001b[0m \u001b[0mplt\u001b[0m\u001b[0;34m.\u001b[0m\u001b[0mshow\u001b[0m\u001b[0;34m(\u001b[0m\u001b[0;34m)\u001b[0m\u001b[0;34m\u001b[0m\u001b[0;34m\u001b[0m\u001b[0m\n",
            "\u001b[0;31mNameError\u001b[0m: name 'norm' is not defined"
          ]
        },
        {
          "data": {
            "image/png": "[encoded data removed]",
            "text/plain": [
              "<Figure size 432x288 with 1 Axes>"
            ]
          },
          "metadata": {},
          "output_type": "display_data"
        }
      ],
      "source": [
        "data = trueLabels['y_entry']-df_predict['y_entry']\n",
        "\n",
        "plt.figure(1)\n",
        "plt.hist(data,density=True)\n",
        "plt.xlim((min(data), max(data)))\n",
        "mean = np.mean(data)\n",
        "variance = np.var(data)\n",
        "sigma = np.sqrt(variance)\n",
        "x = np.linspace(min(data), max(data), 100)\n",
        "plt.plot(x, norm.pdf(x, mean, sigma))\n",
        "plt.show()\n"
      ]
    },
    {
      "cell_type": "code",
      "execution_count": null,
      "metadata": {
        "colab": {
          "base_uri": "https://localhost:8080/",
          "height": 356
        },
        "id": "jRY98MwUAYmT",
        "outputId": "23b8248a-1c3f-41f9-b83b-8e9a689b3711"
      },
      "outputs": [
        {
          "name": "stderr",
          "output_type": "stream",
          "text": [
            "/usr/local/lib/python3.7/dist-packages/seaborn/distributions.py:2619: FutureWarning: `distplot` is a deprecated function and will be removed in a future version. Please adapt your code to use either `displot` (a figure-level function with similar flexibility) or `histplot` (an axes-level function for histograms).\n",
            "  warnings.warn(msg, FutureWarning)\n"
          ]
        },
        {
          "data": {
            "image/png": "[encoded data removed]",
            "text/plain": [
              "<Figure size 432x288 with 1 Axes>"
            ]
          },
          "metadata": {},
          "output_type": "display_data"
        }
      ],
      "source": [
        "sns.distplot(trueLabels['z_entry']-df_predict['z_entry'], kde=False, bins=50)\n",
        "plt.xlabel(r'z_entry residual ($\\mu$m)')\n",
        "plt.ylabel('frequency')\n",
        "#plt.xlim([-200,200])\n",
        "plt.title('z-entry Residual')\n",
        "plt.savefig('z-entry-resolution.png')"
      ]
    },
    {
      "cell_type": "code",
      "execution_count": null,
      "metadata": {
        "colab": {
          "base_uri": "https://localhost:8080/",
          "height": 281
        },
        "id": "4CDk4yIK1Wt-",
        "outputId": "5f673688-e7a3-489f-c51e-4266a69fb08f"
      },
      "outputs": [
        {
          "output_type": "display_data",
          "data": {
            "image/png": "[encoded data removed]",
            "text/plain": [
              "<Figure size 432x288 with 1 Axes>"
            ]
          },
          "metadata": {
            "needs_background": "light"
          }
        }
      ],
      "source": [
        "plt.plot(history.history['loss'], label='train_loss')\n",
        "plt.plot(history.history['val_loss'], label = 'val_loss')\n",
        "plt.xlabel('Epoch')\n",
        "plt.ylabel('Loss')\n",
        "plt.legend(loc='upper right')\n",
        "plt.savefig('loss.png')\n"
      ]
    },
    {
      "cell_type": "code",
      "execution_count": null,
      "metadata": {
        "colab": {
          "base_uri": "https://localhost:8080/",
          "height": 267
        },
        "id": "ypt3Jcn4pdGE",
        "outputId": "80d1768f-3677-4911-9886-bd9071f016b8"
      },
      "outputs": [
        {
          "output_type": "display_data",
          "data": {
            "image/png": "[encoded data removed]",
            "text/plain": [
              "<Figure size 432x288 with 1 Axes>"
            ]
          },
          "metadata": {
            "needs_background": "light"
          }
        }
      ],
      "source": [
        "plt.plot(history.history['mean_squared_error'], label='MSE')\n",
        "plt.legend(loc='upper right')\n",
        "plt.savefig('mse.png')"
      ]
    },
    {
      "cell_type": "code",
      "execution_count": null,
      "metadata": {
        "id": "QIBfASHgGJdo"
      },
      "outputs": [],
      "source": [
        "df_predict.to_csv('predictions.csv')"
      ]
    },
    {
      "cell_type": "code",
      "execution_count": null,
      "metadata": {
        "id": "HGAS7RYve0bm"
      },
      "outputs": [],
      "source": [
        "trueLabels.to_csv('trueLabels.csv')"
      ]
    },
    {
      "cell_type": "code",
      "execution_count": null,
      "metadata": {
        "id": "Gr9v7OozgVem"
      },
      "outputs": [],
      "source": [
        ""
      ]
    }
  ],
  "metadata": {
    "colab": {
      "collapsed_sections": [],
      "name": "Midplaneimage-x.ipynb",
      "provenance": []
    },
    "kernelspec": {
      "display_name": "Python 3",
      "name": "python3"
    },
    "language_info": {
      "name": "python"
    },
    "accelerator": "GPU"
  },
  "nbformat": 4,
  "nbformat_minor": 0
}