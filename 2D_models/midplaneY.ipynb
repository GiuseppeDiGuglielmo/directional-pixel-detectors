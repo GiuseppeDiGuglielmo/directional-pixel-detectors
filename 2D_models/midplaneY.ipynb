{
  "cells": [
    {
      "cell_type": "code",
      "execution_count": null,
      "metadata": {
        "id": "XU9xrpZGwcI2"
      },
      "outputs": [],
      "source": [
        "from sklearn.model_selection import train_test_split\n",
        "from sklearn.metrics import mean_squared_error\n",
        "from sklearn.preprocessing import StandardScaler\n",
        "\n",
        "import tensorflow as tf\n",
        "from tensorflow.keras import datasets, layers, models\n",
        "import keras\n",
        "from keras.models import Sequential\n",
        "from keras.layers import Dense, Dropout, Flatten\n",
        "from keras.layers import Conv2D, MaxPooling2D\n",
        "\n",
        "import os\n",
        "#import glob\n",
        "\n",
        "import matplotlib.pyplot as plt\n",
        "import numpy as np\n",
        "import pandas as pd\n",
        "from pandas import read_csv\n",
        "import math\n",
        "import seaborn as sns\n",
        "\n",
        "import keras\n",
        "from keras.models import Sequential\n",
        "from keras.layers import Dense, Dropout, Flatten\n",
        "from keras.layers import Conv2D, MaxPooling2D\n",
        "from keras.callbacks import CSVLogger\n",
        "from keras.callbacks import EarlyStopping, ModelCheckpoint"
      ]
    },
    {
      "cell_type": "code",
      "execution_count": null,
      "metadata": {
        "colab": {
          "base_uri": "https://localhost:8080/"
        },
        "id": "-Y57cDjYzglB",
        "outputId": "887efbcf-62cd-4e47-cfb6-95bc7152cc81"
      },
      "outputs": [
        {
          "output_type": "stream",
          "name": "stdout",
          "text": [
            "Mounted at /content/drive\n"
          ]
        }
      ],
      "source": [
        "from google.colab import drive\n",
        "drive.mount('/content/drive')"
      ]
    },
    {
      "cell_type": "code",
      "execution_count": null,
      "metadata": {
        "id": "5TPwIMQAxvw6"
      },
      "outputs": [],
      "source": [
        "\n",
        "df1 = pd.read_csv('/content/drive/MyDrive/feb11-nn/recon650k.csv')\n",
        "df2 = pd.read_csv('/content/drive/MyDrive/feb11-nn/labels650k.csv')\n",
        "\n",
        "X = df1.values\n",
        "y = df2.values\n",
        "\n",
        "n = 650000\n",
        "\n",
        "X = np.reshape(X, (n,13,21,1))"
      ]
    },
    {
      "cell_type": "code",
      "execution_count": null,
      "metadata": {
        "colab": {
          "base_uri": "https://localhost:8080/"
        },
        "id": "MSVsseSlYVih",
        "outputId": "6e919011-3152-42cd-9c5f-9b8aed93d688"
      },
      "outputs": [
        {
          "output_type": "stream",
          "name": "stdout",
          "text": [
            "/content\n",
            "/content/drive/MyDrive/feb11-nn/march6-midplaneY\n"
          ]
        }
      ],
      "source": [
        "path = os.getcwd()\n",
        "print(path)\n",
        "os.mkdir('/content/drive/MyDrive/feb11-nn/march6-midplaneY')\n",
        "os.chdir('/content/drive/MyDrive/feb11-nn/march6-midplaneY')\n",
        "print(os.getcwd())"
      ]
    },
    {
      "cell_type": "code",
      "execution_count": null,
      "metadata": {
        "id": "7XV-VP38zJ-E"
      },
      "outputs": [],
      "source": [
        "df2['cotBeta-revised']=df2['cotBeta']*50\n",
        "df2['y-midplane']=df2['y-entry']+df2['cotBeta-revised']\n"
      ]
    },
    {
      "cell_type": "code",
      "execution_count": null,
      "metadata": {
        "colab": {
          "base_uri": "https://localhost:8080/",
          "height": 206
        },
        "id": "s13iBlc8zcq_",
        "outputId": "729fa98d-71b4-4270-f248-ab0232ea76e3"
      },
      "outputs": [
        {
          "output_type": "execute_result",
          "data": {
            "text/html": [
              "\n",
              "  <div id=\"df-55226731-d5cc-46fd-84c6-9b6497a459ec\">\n",
              "    <div class=\"colab-df-container\">\n",
              "      <div>\n",
              "<style scoped>\n",
              "    .dataframe tbody tr th:only-of-type {\n",
              "        vertical-align: middle;\n",
              "    }\n",
              "\n",
              "    .dataframe tbody tr th {\n",
              "        vertical-align: top;\n",
              "    }\n",
              "\n",
              "    .dataframe thead th {\n",
              "        text-align: right;\n",
              "    }\n",
              "</style>\n",
              "<table border=\"1\" class=\"dataframe\">\n",
              "  <thead>\n",
              "    <tr style=\"text-align: right;\">\n",
              "      <th></th>\n",
              "      <th>x-entry</th>\n",
              "      <th>y-entry</th>\n",
              "      <th>z-entry</th>\n",
              "      <th>n_x</th>\n",
              "      <th>n_y</th>\n",
              "      <th>n_z</th>\n",
              "      <th>number_eh_pairs</th>\n",
              "      <th>cotAlpha</th>\n",
              "      <th>cotBeta</th>\n",
              "      <th>cotBeta-revised</th>\n",
              "      <th>y-midplane</th>\n",
              "    </tr>\n",
              "  </thead>\n",
              "  <tbody>\n",
              "    <tr>\n",
              "      <th>0</th>\n",
              "      <td>-168.364151</td>\n",
              "      <td>-2.262124</td>\n",
              "      <td>0.0</td>\n",
              "      <td>0.964984</td>\n",
              "      <td>0.025727</td>\n",
              "      <td>0.261045</td>\n",
              "      <td>25841</td>\n",
              "      <td>3.696619</td>\n",
              "      <td>0.098554</td>\n",
              "      <td>4.927694</td>\n",
              "      <td>2.665570</td>\n",
              "    </tr>\n",
              "    <tr>\n",
              "      <th>1</th>\n",
              "      <td>-127.467667</td>\n",
              "      <td>15.197241</td>\n",
              "      <td>0.0</td>\n",
              "      <td>0.916642</td>\n",
              "      <td>-0.080666</td>\n",
              "      <td>0.391486</td>\n",
              "      <td>15311</td>\n",
              "      <td>2.341443</td>\n",
              "      <td>-0.206051</td>\n",
              "      <td>-10.302540</td>\n",
              "      <td>4.894701</td>\n",
              "    </tr>\n",
              "    <tr>\n",
              "      <th>2</th>\n",
              "      <td>-369.492645</td>\n",
              "      <td>-0.128008</td>\n",
              "      <td>0.0</td>\n",
              "      <td>0.991058</td>\n",
              "      <td>-0.002360</td>\n",
              "      <td>0.133412</td>\n",
              "      <td>87317</td>\n",
              "      <td>7.428552</td>\n",
              "      <td>-0.017690</td>\n",
              "      <td>-0.884478</td>\n",
              "      <td>-1.012486</td>\n",
              "    </tr>\n",
              "    <tr>\n",
              "      <th>3</th>\n",
              "      <td>-365.951111</td>\n",
              "      <td>-4.567823</td>\n",
              "      <td>0.0</td>\n",
              "      <td>0.991881</td>\n",
              "      <td>0.005613</td>\n",
              "      <td>0.127042</td>\n",
              "      <td>84117</td>\n",
              "      <td>7.807505</td>\n",
              "      <td>0.044182</td>\n",
              "      <td>2.209112</td>\n",
              "      <td>-2.358711</td>\n",
              "    </tr>\n",
              "    <tr>\n",
              "      <th>4</th>\n",
              "      <td>-200.628601</td>\n",
              "      <td>14.304100</td>\n",
              "      <td>0.0</td>\n",
              "      <td>0.967751</td>\n",
              "      <td>-0.047386</td>\n",
              "      <td>0.247411</td>\n",
              "      <td>32069</td>\n",
              "      <td>3.911512</td>\n",
              "      <td>-0.191527</td>\n",
              "      <td>-9.576373</td>\n",
              "      <td>4.727727</td>\n",
              "    </tr>\n",
              "  </tbody>\n",
              "</table>\n",
              "</div>\n",
              "      <button class=\"colab-df-convert\" onclick=\"convertToInteractive('df-55226731-d5cc-46fd-84c6-9b6497a459ec')\"\n",
              "              title=\"Convert this dataframe to an interactive table.\"\n",
              "              style=\"display:none;\">\n",
              "        \n",
              "  <svg xmlns=\"http://www.w3.org/2000/svg\" height=\"24px\"viewBox=\"0 0 24 24\"\n",
              "       width=\"24px\">\n",
              "    <path d=\"M0 0h24v24H0V0z\" fill=\"none\"/>\n",
              "    <path d=\"M18.56 5.44l.94 2.06.94-2.06 2.06-.94-2.06-.94-.94-2.06-.94 2.06-2.06.94zm-11 1L8.5 8.5l.94-2.06 2.06-.94-2.06-.94L8.5 2.5l-.94 2.06-2.06.94zm10 10l.94 2.06.94-2.06 2.06-.94-2.06-.94-.94-2.06-.94 2.06-2.06.94z\"/><path d=\"M17.41 7.96l-1.37-1.37c-.4-.4-.92-.59-1.43-.59-.52 0-1.04.2-1.43.59L10.3 9.45l-7.72 7.72c-.78.78-.78 2.05 0 2.83L4 21.41c.39.39.9.59 1.41.59.51 0 1.02-.2 1.41-.59l7.78-7.78 2.81-2.81c.8-.78.8-2.07 0-2.86zM5.41 20L4 18.59l7.72-7.72 1.47 1.35L5.41 20z\"/>\n",
              "  </svg>\n",
              "      </button>\n",
              "      \n",
              "  <style>\n",
              "    .colab-df-container {\n",
              "      display:flex;\n",
              "      flex-wrap:wrap;\n",
              "      gap: 12px;\n",
              "    }\n",
              "\n",
              "    .colab-df-convert {\n",
              "      background-color: #E8F0FE;\n",
              "      border: none;\n",
              "      border-radius: 50%;\n",
              "      cursor: pointer;\n",
              "      display: none;\n",
              "      fill: #1967D2;\n",
              "      height: 32px;\n",
              "      padding: 0 0 0 0;\n",
              "      width: 32px;\n",
              "    }\n",
              "\n",
              "    .colab-df-convert:hover {\n",
              "      background-color: #E2EBFA;\n",
              "      box-shadow: 0px 1px 2px rgba(60, 64, 67, 0.3), 0px 1px 3px 1px rgba(60, 64, 67, 0.15);\n",
              "      fill: #174EA6;\n",
              "    }\n",
              "\n",
              "    [theme=dark] .colab-df-convert {\n",
              "      background-color: #3B4455;\n",
              "      fill: #D2E3FC;\n",
              "    }\n",
              "\n",
              "    [theme=dark] .colab-df-convert:hover {\n",
              "      background-color: #434B5C;\n",
              "      box-shadow: 0px 1px 3px 1px rgba(0, 0, 0, 0.15);\n",
              "      filter: drop-shadow(0px 1px 2px rgba(0, 0, 0, 0.3));\n",
              "      fill: #FFFFFF;\n",
              "    }\n",
              "  </style>\n",
              "\n",
              "      <script>\n",
              "        const buttonEl =\n",
              "          document.querySelector('#df-55226731-d5cc-46fd-84c6-9b6497a459ec button.colab-df-convert');\n",
              "        buttonEl.style.display =\n",
              "          google.colab.kernel.accessAllowed ? 'block' : 'none';\n",
              "\n",
              "        async function convertToInteractive(key) {\n",
              "          const element = document.querySelector('#df-55226731-d5cc-46fd-84c6-9b6497a459ec');\n",
              "          const dataTable =\n",
              "            await google.colab.kernel.invokeFunction('convertToInteractive',\n",
              "                                                     [key], {});\n",
              "          if (!dataTable) return;\n",
              "\n",
              "          const docLinkHtml = 'Like what you see? Visit the ' +\n",
              "            '<a target=\"_blank\" href=https://colab.research.google.com/notebooks/data_table.ipynb>data table notebook</a>'\n",
              "            + ' to learn more about interactive tables.';\n",
              "          element.innerHTML = '';\n",
              "          dataTable['output_type'] = 'display_data';\n",
              "          await google.colab.output.renderOutput(dataTable, element);\n",
              "          const docLink = document.createElement('div');\n",
              "          docLink.innerHTML = docLinkHtml;\n",
              "          element.appendChild(docLink);\n",
              "        }\n",
              "      </script>\n",
              "    </div>\n",
              "  </div>\n",
              "  "
            ],
            "text/plain": [
              "      x-entry    y-entry  z-entry       n_x       n_y       n_z  \\\n",
              "0 -168.364151  -2.262124      0.0  0.964984  0.025727  0.261045   \n",
              "1 -127.467667  15.197241      0.0  0.916642 -0.080666  0.391486   \n",
              "2 -369.492645  -0.128008      0.0  0.991058 -0.002360  0.133412   \n",
              "3 -365.951111  -4.567823      0.0  0.991881  0.005613  0.127042   \n",
              "4 -200.628601  14.304100      0.0  0.967751 -0.047386  0.247411   \n",
              "\n",
              "   number_eh_pairs  cotAlpha   cotBeta  cotBeta-revised  y-midplane  \n",
              "0            25841  3.696619  0.098554         4.927694    2.665570  \n",
              "1            15311  2.341443 -0.206051       -10.302540    4.894701  \n",
              "2            87317  7.428552 -0.017690        -0.884478   -1.012486  \n",
              "3            84117  7.807505  0.044182         2.209112   -2.358711  \n",
              "4            32069  3.911512 -0.191527        -9.576373    4.727727  "
            ]
          },
          "metadata": {},
          "execution_count": 6
        }
      ],
      "source": [
        "df2.head()"
      ]
    },
    {
      "cell_type": "code",
      "execution_count": null,
      "metadata": {
        "colab": {
          "base_uri": "https://localhost:8080/"
        },
        "id": "k5un3gGszLCd",
        "outputId": "02ab9603-3386-4d53-e6af-36ed03853ab4"
      },
      "outputs": [
        {
          "output_type": "stream",
          "name": "stdout",
          "text": [
            "   y-midplane\n",
            "0    2.665570\n",
            "1    4.894701\n",
            "2   -1.012486\n",
            "3   -2.358711\n",
            "4    4.727727\n"
          ]
        }
      ],
      "source": [
        "#note: labels.csv has 11 columns; you need to drop the column you don't want, and then adjust number of outputs in your NN\n",
        "\n",
        "#df2.head()\n",
        "df2.drop('cotBeta-revised', axis=1, inplace=True)\n",
        "df2.drop('x-entry', axis=1, inplace=True)\n",
        "df2.drop('y-entry', axis=1, inplace=True)\n",
        "df2.drop('z-entry', axis=1, inplace=True)\n",
        "df2.drop('n_x', axis=1, inplace=True)\n",
        "df2.drop('n_y', axis=1, inplace=True)\n",
        "df2.drop('n_z', axis=1, inplace=True)\n",
        "df2.drop('number_eh_pairs', axis=1, inplace=True)\n",
        "df2.drop('cotAlpha', axis=1, inplace=True)\n",
        "df2.drop('cotBeta', axis=1, inplace=True)\n",
        "\n",
        "print(df2.head())\n",
        "#df2.shape\n",
        "\n",
        "#reset y since you dropped columns\n",
        "y = df2.values"
      ]
    },
    {
      "cell_type": "code",
      "execution_count": null,
      "metadata": {
        "colab": {
          "base_uri": "https://localhost:8080/",
          "height": 206
        },
        "id": "eIoJ-IvqPbyQ",
        "outputId": "ee541626-936b-4f8c-86b0-9208d143f824"
      },
      "outputs": [
        {
          "output_type": "execute_result",
          "data": {
            "text/html": [
              "\n",
              "  <div id=\"df-fe2e9989-ad3b-4fa0-b3df-44163da96841\">\n",
              "    <div class=\"colab-df-container\">\n",
              "      <div>\n",
              "<style scoped>\n",
              "    .dataframe tbody tr th:only-of-type {\n",
              "        vertical-align: middle;\n",
              "    }\n",
              "\n",
              "    .dataframe tbody tr th {\n",
              "        vertical-align: top;\n",
              "    }\n",
              "\n",
              "    .dataframe thead th {\n",
              "        text-align: right;\n",
              "    }\n",
              "</style>\n",
              "<table border=\"1\" class=\"dataframe\">\n",
              "  <thead>\n",
              "    <tr style=\"text-align: right;\">\n",
              "      <th></th>\n",
              "      <th>y-midplane</th>\n",
              "    </tr>\n",
              "  </thead>\n",
              "  <tbody>\n",
              "    <tr>\n",
              "      <th>0</th>\n",
              "      <td>2.665570</td>\n",
              "    </tr>\n",
              "    <tr>\n",
              "      <th>1</th>\n",
              "      <td>4.894701</td>\n",
              "    </tr>\n",
              "    <tr>\n",
              "      <th>2</th>\n",
              "      <td>-1.012486</td>\n",
              "    </tr>\n",
              "    <tr>\n",
              "      <th>3</th>\n",
              "      <td>-2.358711</td>\n",
              "    </tr>\n",
              "    <tr>\n",
              "      <th>4</th>\n",
              "      <td>4.727727</td>\n",
              "    </tr>\n",
              "  </tbody>\n",
              "</table>\n",
              "</div>\n",
              "      <button class=\"colab-df-convert\" onclick=\"convertToInteractive('df-fe2e9989-ad3b-4fa0-b3df-44163da96841')\"\n",
              "              title=\"Convert this dataframe to an interactive table.\"\n",
              "              style=\"display:none;\">\n",
              "        \n",
              "  <svg xmlns=\"http://www.w3.org/2000/svg\" height=\"24px\"viewBox=\"0 0 24 24\"\n",
              "       width=\"24px\">\n",
              "    <path d=\"M0 0h24v24H0V0z\" fill=\"none\"/>\n",
              "    <path d=\"M18.56 5.44l.94 2.06.94-2.06 2.06-.94-2.06-.94-.94-2.06-.94 2.06-2.06.94zm-11 1L8.5 8.5l.94-2.06 2.06-.94-2.06-.94L8.5 2.5l-.94 2.06-2.06.94zm10 10l.94 2.06.94-2.06 2.06-.94-2.06-.94-.94-2.06-.94 2.06-2.06.94z\"/><path d=\"M17.41 7.96l-1.37-1.37c-.4-.4-.92-.59-1.43-.59-.52 0-1.04.2-1.43.59L10.3 9.45l-7.72 7.72c-.78.78-.78 2.05 0 2.83L4 21.41c.39.39.9.59 1.41.59.51 0 1.02-.2 1.41-.59l7.78-7.78 2.81-2.81c.8-.78.8-2.07 0-2.86zM5.41 20L4 18.59l7.72-7.72 1.47 1.35L5.41 20z\"/>\n",
              "  </svg>\n",
              "      </button>\n",
              "      \n",
              "  <style>\n",
              "    .colab-df-container {\n",
              "      display:flex;\n",
              "      flex-wrap:wrap;\n",
              "      gap: 12px;\n",
              "    }\n",
              "\n",
              "    .colab-df-convert {\n",
              "      background-color: #E8F0FE;\n",
              "      border: none;\n",
              "      border-radius: 50%;\n",
              "      cursor: pointer;\n",
              "      display: none;\n",
              "      fill: #1967D2;\n",
              "      height: 32px;\n",
              "      padding: 0 0 0 0;\n",
              "      width: 32px;\n",
              "    }\n",
              "\n",
              "    .colab-df-convert:hover {\n",
              "      background-color: #E2EBFA;\n",
              "      box-shadow: 0px 1px 2px rgba(60, 64, 67, 0.3), 0px 1px 3px 1px rgba(60, 64, 67, 0.15);\n",
              "      fill: #174EA6;\n",
              "    }\n",
              "\n",
              "    [theme=dark] .colab-df-convert {\n",
              "      background-color: #3B4455;\n",
              "      fill: #D2E3FC;\n",
              "    }\n",
              "\n",
              "    [theme=dark] .colab-df-convert:hover {\n",
              "      background-color: #434B5C;\n",
              "      box-shadow: 0px 1px 3px 1px rgba(0, 0, 0, 0.15);\n",
              "      filter: drop-shadow(0px 1px 2px rgba(0, 0, 0, 0.3));\n",
              "      fill: #FFFFFF;\n",
              "    }\n",
              "  </style>\n",
              "\n",
              "      <script>\n",
              "        const buttonEl =\n",
              "          document.querySelector('#df-fe2e9989-ad3b-4fa0-b3df-44163da96841 button.colab-df-convert');\n",
              "        buttonEl.style.display =\n",
              "          google.colab.kernel.accessAllowed ? 'block' : 'none';\n",
              "\n",
              "        async function convertToInteractive(key) {\n",
              "          const element = document.querySelector('#df-fe2e9989-ad3b-4fa0-b3df-44163da96841');\n",
              "          const dataTable =\n",
              "            await google.colab.kernel.invokeFunction('convertToInteractive',\n",
              "                                                     [key], {});\n",
              "          if (!dataTable) return;\n",
              "\n",
              "          const docLinkHtml = 'Like what you see? Visit the ' +\n",
              "            '<a target=\"_blank\" href=https://colab.research.google.com/notebooks/data_table.ipynb>data table notebook</a>'\n",
              "            + ' to learn more about interactive tables.';\n",
              "          element.innerHTML = '';\n",
              "          dataTable['output_type'] = 'display_data';\n",
              "          await google.colab.output.renderOutput(dataTable, element);\n",
              "          const docLink = document.createElement('div');\n",
              "          docLink.innerHTML = docLinkHtml;\n",
              "          element.appendChild(docLink);\n",
              "        }\n",
              "      </script>\n",
              "    </div>\n",
              "  </div>\n",
              "  "
            ],
            "text/plain": [
              "   y-midplane\n",
              "0    2.665570\n",
              "1    4.894701\n",
              "2   -1.012486\n",
              "3   -2.358711\n",
              "4    4.727727"
            ]
          },
          "metadata": {},
          "execution_count": 7
        }
      ],
      "source": [
        "df2.head()"
      ]
    },
    {
      "cell_type": "code",
      "execution_count": null,
      "metadata": {
        "id": "QvwmzDiz5O9N"
      },
      "outputs": [],
      "source": [
        "#https://keras.io/api/callbacks/#csvlogger\n",
        "#from https://keras.io/guides/writing_your_own_callbacks/\n",
        "class CustomCallback(keras.callbacks.Callback):\n",
        "    def on_train_begin(self, logs=None):\n",
        "        keys = list(logs.keys())\n",
        "        print(\"Starting training; got log keys: {}\".format(keys))\n",
        "\n",
        "    def on_train_end(self, logs=None):\n",
        "        keys = list(logs.keys())\n",
        "        print(\"Stop training; got log keys: {}\".format(keys))\n",
        "\n",
        "    def on_epoch_begin(self, epoch, logs=None):\n",
        "        keys = list(logs.keys())\n",
        "        print(\"Start epoch {} of training; got log keys: {}\".format(epoch, keys))\n",
        "\n",
        "    def on_epoch_end(self, epoch, logs=None):\n",
        "        keys = list(logs.keys())\n",
        "        print(\"End epoch {} of training; got log keys: {}\".format(epoch, keys))\n",
        "\n",
        "    def on_test_begin(self, logs=None):\n",
        "        keys = list(logs.keys())\n",
        "        print(\"Start testing; got log keys: {}\".format(keys))\n",
        "\n",
        "    def on_test_end(self, logs=None):\n",
        "        keys = list(logs.keys())\n",
        "        print(\"Stop testing; got log keys: {}\".format(keys))\n",
        "\n",
        "    def on_predict_begin(self, logs=None):\n",
        "        keys = list(logs.keys())\n",
        "        print(\"Start predicting; got log keys: {}\".format(keys))\n",
        "\n",
        "    def on_predict_end(self, logs=None):\n",
        "        keys = list(logs.keys())\n",
        "        print(\"Stop predicting; got log keys: {}\".format(keys))\n",
        "\n",
        "    def on_train_batch_begin(self, batch, logs=None):\n",
        "        keys = list(logs.keys())\n",
        "        print(\"...Training: start of batch {}; got log keys: {}\".format(batch, keys))\n",
        "\n",
        "    def on_train_batch_end(self, batch, logs=None):\n",
        "        keys = list(logs.keys())\n",
        "        print(\"...Training: end of batch {}; got log keys: {}\".format(batch, keys))\n",
        "\n",
        "    def on_test_batch_begin(self, batch, logs=None):\n",
        "        keys = list(logs.keys())\n",
        "        print(\"...Evaluating: start of batch {}; got log keys: {}\".format(batch, keys))\n",
        "\n",
        "    def on_test_batch_end(self, batch, logs=None):\n",
        "        keys = list(logs.keys())\n",
        "        print(\"...Evaluating: end of batch {}; got log keys: {}\".format(batch, keys))\n",
        "\n",
        "   # def on_predict_batch_begin(self, batch, logs=None):\n",
        "    #    keys = list(logs.keys())\n",
        "     #   print(\"...Predicting: start of batch {}; got log keys: {}\".format(batch, keys))\n",
        "\n",
        "#    def on_predict_batch_end(self, batch, logs=None):\n",
        " #       keys = list(logs.keys())\n",
        "  #      print(\"...Predicting: end of batch {}; got log keys: {}\".format(batch, keys))"
      ]
    },
    {
      "cell_type": "code",
      "execution_count": null,
      "metadata": {
        "colab": {
          "base_uri": "https://localhost:8080/"
        },
        "id": "UUjsMRLKxyeb",
        "outputId": "bbf1ae8a-09f0-4f92-f7d7-9772362aa1e4"
      },
      "outputs": [
        {
          "output_type": "stream",
          "name": "stdout",
          "text": [
            "(650000, 13, 21, 1) (650000, 1)\n",
            "(520000, 13, 21, 1) (130000, 13, 21, 1) (520000, 1) (130000, 1)\n",
            "Model: \"sequential\"\n",
            "_________________________________________________________________\n",
            " Layer (type)                Output Shape              Param #   \n",
            "=================================================================\n",
            " conv2d (Conv2D)             (None, 6, 10, 32)         320       \n",
            "                                                                 \n",
            " max_pooling2d (MaxPooling2D  (None, 3, 5, 32)         0         \n",
            " )                                                               \n",
            "                                                                 \n",
            " conv2d_1 (Conv2D)           (None, 1, 2, 64)          18496     \n",
            "                                                                 \n",
            " flatten (Flatten)           (None, 128)               0         \n",
            "                                                                 \n",
            " dense (Dense)               (None, 64)                8256      \n",
            "                                                                 \n",
            " dropout (Dropout)           (None, 64)                0         \n",
            "                                                                 \n",
            " dense_1 (Dense)             (None, 1)                 65        \n",
            "                                                                 \n",
            "=================================================================\n",
            "Total params: 27,137\n",
            "Trainable params: 27,137\n",
            "Non-trainable params: 0\n",
            "_________________________________________________________________\n"
          ]
        }
      ],
      "source": [
        "X_train, X_test, y_train, y_test = train_test_split(X,y,test_size = 0.20, random_state = 0)\n",
        "print(X.shape, y.shape)\n",
        "print(X_train.shape, X_test.shape, y_train.shape, y_test.shape)\n",
        "\n",
        "#scale input data\n",
        "scaler = StandardScaler()\n",
        "X_train = scaler.fit_transform(X_train.reshape(-1, X_train.shape[-1])).reshape(X_train.shape)\n",
        "X_test = scaler.transform(X_test.reshape(-1, X_test.shape[-1])).reshape(X_test.shape)\n",
        "\n",
        "#make a simple model\n",
        "model = models.Sequential()\n",
        "model.add(layers.Conv2D(32, (3, 3), strides=(2, 2), activation='relu', input_shape=(13, 21, 1)))\n",
        "model.add(layers.MaxPooling2D((2, 2)))\n",
        "model.add(layers.Conv2D(64, (3, 3), strides=(2, 2), activation='relu'))\n",
        "model.add(layers.Flatten())\n",
        "model.add(layers.Dense(64, activation='relu'))\n",
        "model.add(layers.Dropout(0.1))\n",
        "model.add(layers.Dense(1, activation='linear'))\n",
        "model.summary()\n"
      ]
    },
    {
      "cell_type": "code",
      "execution_count": null,
      "metadata": {
        "colab": {
          "base_uri": "https://localhost:8080/"
        },
        "id": "A5wetuxp1efH",
        "outputId": "f33502d0-9969-4af7-a8d4-da7e257e1312"
      },
      "outputs": [
        {
          "output_type": "stream",
          "name": "stdout",
          "text": [
            "Epoch 1/100\n",
            "8120/8125 [============================>.] - ETA: 0s - loss: 1.1145 - mean_squared_error: 1.1145\n",
            "Epoch 1: saving model to cp.ckpt\n",
            "8125/8125 [==============================] - 36s 3ms/step - loss: 1.1144 - mean_squared_error: 1.1144 - val_loss: 0.6019 - val_mean_squared_error: 0.6019\n",
            "Epoch 2/100\n",
            "8117/8125 [============================>.] - ETA: 0s - loss: 0.5979 - mean_squared_error: 0.5979\n",
            "Epoch 2: saving model to cp.ckpt\n",
            "8125/8125 [==============================] - 27s 3ms/step - loss: 0.5977 - mean_squared_error: 0.5977 - val_loss: 0.4971 - val_mean_squared_error: 0.4971\n",
            "Epoch 3/100\n",
            "8124/8125 [============================>.] - ETA: 0s - loss: 0.4821 - mean_squared_error: 0.4821\n",
            "Epoch 3: saving model to cp.ckpt\n",
            "8125/8125 [==============================] - 25s 3ms/step - loss: 0.4821 - mean_squared_error: 0.4821 - val_loss: 0.3920 - val_mean_squared_error: 0.3920\n",
            "Epoch 4/100\n",
            "8117/8125 [============================>.] - ETA: 0s - loss: 0.4261 - mean_squared_error: 0.4261\n",
            "Epoch 4: saving model to cp.ckpt\n",
            "8125/8125 [==============================] - 27s 3ms/step - loss: 0.4261 - mean_squared_error: 0.4261 - val_loss: 0.3819 - val_mean_squared_error: 0.3819\n",
            "Epoch 5/100\n",
            "8124/8125 [============================>.] - ETA: 0s - loss: 0.3943 - mean_squared_error: 0.3943\n",
            "Epoch 5: saving model to cp.ckpt\n",
            "8125/8125 [==============================] - 25s 3ms/step - loss: 0.3943 - mean_squared_error: 0.3943 - val_loss: 0.3257 - val_mean_squared_error: 0.3257\n",
            "Epoch 6/100\n",
            "8109/8125 [============================>.] - ETA: 0s - loss: 0.3718 - mean_squared_error: 0.3718\n",
            "Epoch 6: saving model to cp.ckpt\n",
            "8125/8125 [==============================] - 27s 3ms/step - loss: 0.3718 - mean_squared_error: 0.3718 - val_loss: 0.3238 - val_mean_squared_error: 0.3238\n",
            "Epoch 7/100\n",
            "8113/8125 [============================>.] - ETA: 0s - loss: 0.3563 - mean_squared_error: 0.3563\n",
            "Epoch 7: saving model to cp.ckpt\n",
            "8125/8125 [==============================] - 27s 3ms/step - loss: 0.3563 - mean_squared_error: 0.3563 - val_loss: 0.3345 - val_mean_squared_error: 0.3345\n",
            "Epoch 8/100\n",
            "8117/8125 [============================>.] - ETA: 0s - loss: 0.3438 - mean_squared_error: 0.3438\n",
            "Epoch 8: saving model to cp.ckpt\n",
            "8125/8125 [==============================] - 27s 3ms/step - loss: 0.3437 - mean_squared_error: 0.3437 - val_loss: 0.2903 - val_mean_squared_error: 0.2903\n",
            "Epoch 9/100\n",
            "2367/8125 [=======>......................] - ETA: 15s - loss: 0.3340 - mean_squared_error: 0.3340"
          ]
        }
      ],
      "source": [
        "checkpoint_path = \"cp.ckpt\"\n",
        "\n",
        "# Create a callback that saves the model's weights \n",
        "# currently, model weights are saved for each training\n",
        "# to do - update for early stopping\n",
        "cp_callback = tf.keras.callbacks.ModelCheckpoint(filepath=checkpoint_path,\n",
        "                                                 save_weights_only=True,\n",
        "                                                 verbose=1)\n",
        "\n",
        "#https://www.tensorflow.org/api_docs/python/tf/keras/callbacks/EarlyStopping\n",
        "#patience: Number of epochs with no improvement after which training will be stopped\n",
        "earlyStop_callback = tf.keras.callbacks.EarlyStopping(monitor='loss', patience=20)\n",
        "\n",
        "csv_logger = CSVLogger('log.csv', append=True, separator=';')\n",
        "\n",
        "batch_size = 64\n",
        "epochs = 100 \n",
        "     \n",
        "model.compile(loss=keras.losses.MeanSquaredError(),\n",
        "              optimizer='adam',\n",
        "              metrics=['mean_squared_error'])\n",
        "\n",
        "history = model.fit(\n",
        "          X_train, y_train,\n",
        "          batch_size=batch_size,\n",
        "          epochs=epochs,  \n",
        "          verbose=1,\n",
        "          validation_data=(X_test, y_test),\n",
        "          callbacks=[cp_callback, csv_logger, earlyStop_callback],\n",
        "          )\n",
        "          \n",
        "res = model.evaluate(\n",
        "    X_test, y_test, batch_size=batch_size,\n",
        ") \n",
        "\n",
        "predictions = model.predict(X_test, batch_size=batch_size, callbacks=[CustomCallback()])"
      ]
    },
    {
      "cell_type": "code",
      "execution_count": null,
      "metadata": {
        "id": "zOYkjgBW6w1Z"
      },
      "outputs": [],
      "source": [
        "#save model                                                        \n",
        "# serialize model to JSON                                                                                                                                                          \n",
        "model_json = model.to_json()                                                                                                              \n",
        "with open(\"model.json\", \"w\") as json_file:                                                    \n",
        "  json_file.write(model_json)                                 \n",
        "                     \n",
        "#save full model in hd5 format                    \n",
        "   \n",
        "model.save('my_model.h5')\n",
        "\n",
        "#alt. methods\n",
        "#You can save History attribute of tf.keras.callbacks.History in .txt form\n",
        "#with open(\"/content/drive/MyDrive/NN-jan28/result_model.txt\",'w') a   s f:\n",
        "#    for k in history.history.keys():\n",
        "#        print(k,file=f)\n",
        "#        for i in history.history[k]:\n",
        "#            print(i,file=f)\n",
        "#import pickle\n",
        "#with open('/content/drive/MyDrive/NN-jan28/trainHistoryDict', 'wb') as file_pi:\n",
        "#    pickle.dump(history.history, file_pi)"
      ]
    },
    {
      "cell_type": "code",
      "execution_count": null,
      "metadata": {
        "colab": {
          "base_uri": "https://localhost:8080/",
          "height": 628
        },
        "id": "fhqq6gjo210i",
        "outputId": "957724be-871a-4de9-984d-be90f0345c98"
      },
      "outputs": [
        {
          "name": "stdout",
          "output_type": "stream",
          "text": [
            "130000\n",
            "           x-entry\n",
            "0       309.980255\n",
            "1      -150.807404\n",
            "2      -396.349976\n",
            "3         0.030913\n",
            "4        78.889336\n",
            "...            ...\n",
            "129995  228.242599\n",
            "129996  393.858551\n",
            "129997  180.389740\n",
            "129998   59.635380\n",
            "129999 -250.462784\n",
            "\n",
            "[130000 rows x 1 columns]\n"
          ]
        },
        {
          "name": "stderr",
          "output_type": "stream",
          "text": [
            "/usr/local/lib/python3.7/dist-packages/seaborn/distributions.py:2619: FutureWarning: `distplot` is a deprecated function and will be removed in a future version. Please adapt your code to use either `displot` (a figure-level function with similar flexibility) or `histplot` (an axes-level function for histograms).\n",
            "  warnings.warn(msg, FutureWarning)\n"
          ]
        },
        {
          "data": {
            "image/png": "[encoded data removed]",
            "text/plain": [
              "<Figure size 432x288 with 1 Axes>"
            ]
          },
          "metadata": {},
          "output_type": "display_data"
        }
      ],
      "source": [
        "print(len(predictions))\n",
        "df_predict = pd.DataFrame(predictions, columns=['y-midplane'])\n",
        "print(df_predict)\n",
        "df_predict.head()\n",
        "sns.distplot(df_predict['y-midplane'], kde=False, bins=50)\n",
        "plt.xlim([-400,400])\n",
        "plt.xlabel('y-midplane')\n",
        "plt.ylabel('frequency')\n",
        "plt.title(\"y-midplane (predicted)\")\n",
        "plt.savefig('y-midplane-predict.png')"
      ]
    },
    {
      "cell_type": "code",
      "execution_count": null,
      "metadata": {
        "colab": {
          "base_uri": "https://localhost:8080/"
        },
        "id": "3l2CcXri9wm0",
        "outputId": "79fd0633-0e1f-4cb5-cb79-2763dbf42e40"
      },
      "outputs": [
        {
          "name": "stdout",
          "output_type": "stream",
          "text": [
            "(130000, 1)\n"
          ]
        }
      ],
      "source": [
        "#X_train, X_test, y_train, y_test = train_test_split(X,y,test_size = 0.20, random_state = 0)\n",
        "#print(X.shape, y.shape)\n",
        "#print(X_train.shape, X_test.shape, y_train.shape, y_test.shape)\n",
        "#df_predict = pd.DataFrame(predictions, columns=['x_entry', 'y_entry', 'z_entry', 'cotAlpha', 'cotBeta'])\n",
        "print(y_test.shape)\n",
        "trueLabels = pd.DataFrame(y_test, columns=['y-midplane'])\n"
      ]
    },
    {
      "cell_type": "code",
      "execution_count": null,
      "metadata": {
        "colab": {
          "base_uri": "https://localhost:8080/",
          "height": 281
        },
        "id": "4CDk4yIK1Wt-",
        "outputId": "5f673688-e7a3-489f-c51e-4266a69fb08f"
      },
      "outputs": [
        {
          "data": {
            "image/png": "[encoded data removed]",
            "text/plain": [
              "<Figure size 432x288 with 1 Axes>"
            ]
          },
          "metadata": {},
          "output_type": "display_data"
        }
      ],
      "source": [
        "plt.plot(history.history['loss'], label='train_loss')\n",
        "plt.plot(history.history['val_loss'], label = 'val_loss')\n",
        "plt.xlabel('Epoch')\n",
        "plt.ylabel('Loss')\n",
        "plt.legend(loc='upper right')\n",
        "plt.savefig('loss.png')\n"
      ]
    },
    {
      "cell_type": "code",
      "execution_count": null,
      "metadata": {
        "colab": {
          "base_uri": "https://localhost:8080/",
          "height": 267
        },
        "id": "ypt3Jcn4pdGE",
        "outputId": "80d1768f-3677-4911-9886-bd9071f016b8"
      },
      "outputs": [
        {
          "data": {
            "image/png": "[encoded data removed]",
            "text/plain": [
              "<Figure size 432x288 with 1 Axes>"
            ]
          },
          "metadata": {},
          "output_type": "display_data"
        }
      ],
      "source": [
        "plt.plot(history.history['mean_squared_error'], label='MSE')\n",
        "plt.legend(loc='upper right')\n",
        "plt.savefig('mse.png')"
      ]
    },
    {
      "cell_type": "code",
      "execution_count": null,
      "metadata": {
        "id": "QIBfASHgGJdo"
      },
      "outputs": [],
      "source": [
        "df_predict.to_csv('predictions.csv')"
      ]
    },
    {
      "cell_type": "code",
      "execution_count": null,
      "metadata": {
        "id": "HGAS7RYve0bm"
      },
      "outputs": [],
      "source": [
        "trueLabels.to_csv('trueLabels.csv')"
      ]
    },
    {
      "cell_type": "code",
      "execution_count": null,
      "metadata": {
        "id": "Gr9v7OozgVem"
      },
      "outputs": [],
      "source": [
        ""
      ]
    }
  ],
  "metadata": {
    "accelerator": "GPU",
    "colab": {
      "collapsed_sections": [],
      "name": "midplaneY.ipynb",
      "provenance": []
    },
    "kernelspec": {
      "display_name": "Python 3",
      "name": "python3"
    },
    "language_info": {
      "name": "python"
    }
  },
  "nbformat": 4,
  "nbformat_minor": 0
}