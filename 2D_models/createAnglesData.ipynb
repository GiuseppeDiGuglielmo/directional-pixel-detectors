{
 "cells": [
  {
   "cell_type": "code",
   "execution_count": 1,
   "id": "46ba03a4",
   "metadata": {},
   "outputs": [],
   "source": [
    "import pandas as pd\n",
    "import numpy as np\n"
   ]
  },
  {
   "cell_type": "code",
   "execution_count": 10,
   "id": "69a5c8c3",
   "metadata": {},
   "outputs": [],
   "source": [
    "df = pd.read_csv('labels650k.csv')"
   ]
  },
  {
   "cell_type": "code",
   "execution_count": 11,
   "id": "7a6470d4",
   "metadata": {},
   "outputs": [
    {
     "data": {
      "text/html": [
       "<div>\n",
       "<style scoped>\n",
       "    .dataframe tbody tr th:only-of-type {\n",
       "        vertical-align: middle;\n",
       "    }\n",
       "\n",
       "    .dataframe tbody tr th {\n",
       "        vertical-align: top;\n",
       "    }\n",
       "\n",
       "    .dataframe thead th {\n",
       "        text-align: right;\n",
       "    }\n",
       "</style>\n",
       "<table border=\"1\" class=\"dataframe\">\n",
       "  <thead>\n",
       "    <tr style=\"text-align: right;\">\n",
       "      <th></th>\n",
       "      <th>x-entry</th>\n",
       "      <th>y-entry</th>\n",
       "      <th>z-entry</th>\n",
       "      <th>n_x</th>\n",
       "      <th>n_y</th>\n",
       "      <th>n_z</th>\n",
       "      <th>number_eh_pairs</th>\n",
       "      <th>cotAlpha</th>\n",
       "      <th>cotBeta</th>\n",
       "    </tr>\n",
       "  </thead>\n",
       "  <tbody>\n",
       "    <tr>\n",
       "      <th>0</th>\n",
       "      <td>-168.364151</td>\n",
       "      <td>-2.262124</td>\n",
       "      <td>0.0</td>\n",
       "      <td>0.964984</td>\n",
       "      <td>0.025727</td>\n",
       "      <td>0.261045</td>\n",
       "      <td>25841</td>\n",
       "      <td>3.696619</td>\n",
       "      <td>0.098554</td>\n",
       "    </tr>\n",
       "    <tr>\n",
       "      <th>1</th>\n",
       "      <td>-127.467667</td>\n",
       "      <td>15.197241</td>\n",
       "      <td>0.0</td>\n",
       "      <td>0.916642</td>\n",
       "      <td>-0.080666</td>\n",
       "      <td>0.391486</td>\n",
       "      <td>15311</td>\n",
       "      <td>2.341443</td>\n",
       "      <td>-0.206051</td>\n",
       "    </tr>\n",
       "    <tr>\n",
       "      <th>2</th>\n",
       "      <td>-369.492645</td>\n",
       "      <td>-0.128008</td>\n",
       "      <td>0.0</td>\n",
       "      <td>0.991058</td>\n",
       "      <td>-0.002360</td>\n",
       "      <td>0.133412</td>\n",
       "      <td>87317</td>\n",
       "      <td>7.428552</td>\n",
       "      <td>-0.017690</td>\n",
       "    </tr>\n",
       "    <tr>\n",
       "      <th>3</th>\n",
       "      <td>-365.951111</td>\n",
       "      <td>-4.567823</td>\n",
       "      <td>0.0</td>\n",
       "      <td>0.991881</td>\n",
       "      <td>0.005613</td>\n",
       "      <td>0.127042</td>\n",
       "      <td>84117</td>\n",
       "      <td>7.807505</td>\n",
       "      <td>0.044182</td>\n",
       "    </tr>\n",
       "    <tr>\n",
       "      <th>4</th>\n",
       "      <td>-200.628601</td>\n",
       "      <td>14.304100</td>\n",
       "      <td>0.0</td>\n",
       "      <td>0.967751</td>\n",
       "      <td>-0.047386</td>\n",
       "      <td>0.247411</td>\n",
       "      <td>32069</td>\n",
       "      <td>3.911512</td>\n",
       "      <td>-0.191527</td>\n",
       "    </tr>\n",
       "  </tbody>\n",
       "</table>\n",
       "</div>"
      ],
      "text/plain": [
       "      x-entry    y-entry  z-entry       n_x       n_y       n_z  \\\n",
       "0 -168.364151  -2.262124      0.0  0.964984  0.025727  0.261045   \n",
       "1 -127.467667  15.197241      0.0  0.916642 -0.080666  0.391486   \n",
       "2 -369.492645  -0.128008      0.0  0.991058 -0.002360  0.133412   \n",
       "3 -365.951111  -4.567823      0.0  0.991881  0.005613  0.127042   \n",
       "4 -200.628601  14.304100      0.0  0.967751 -0.047386  0.247411   \n",
       "\n",
       "   number_eh_pairs  cotAlpha   cotBeta  \n",
       "0            25841  3.696619  0.098554  \n",
       "1            15311  2.341443 -0.206051  \n",
       "2            87317  7.428552 -0.017690  \n",
       "3            84117  7.807505  0.044182  \n",
       "4            32069  3.911512 -0.191527  "
      ]
     },
     "execution_count": 11,
     "metadata": {},
     "output_type": "execute_result"
    }
   ],
   "source": [
    "df.head()\n"
   ]
  },
  {
   "cell_type": "code",
   "execution_count": 12,
   "id": "f9cfb385",
   "metadata": {},
   "outputs": [],
   "source": [
    "df_new = df.drop('n_x', axis=1, inplace=True)\n",
    "df_new = df.drop('n_y', axis=1, inplace=True)\n",
    "df_new = df.drop('n_z', axis=1, inplace=True)\n",
    "df_new = df.drop('z-entry', axis=1, inplace=True)\n",
    "df_new = df.drop('x-entry', axis=1, inplace=True)\n",
    "df_new = df.drop('y-entry', axis=1, inplace=True)\n",
    "df_new = df.drop('number_eh_pairs', axis=1, inplace=True)\n"
   ]
  },
  {
   "cell_type": "code",
   "execution_count": 13,
   "id": "0c615f72",
   "metadata": {},
   "outputs": [
    {
     "data": {
      "text/html": [
       "<div>\n",
       "<style scoped>\n",
       "    .dataframe tbody tr th:only-of-type {\n",
       "        vertical-align: middle;\n",
       "    }\n",
       "\n",
       "    .dataframe tbody tr th {\n",
       "        vertical-align: top;\n",
       "    }\n",
       "\n",
       "    .dataframe thead th {\n",
       "        text-align: right;\n",
       "    }\n",
       "</style>\n",
       "<table border=\"1\" class=\"dataframe\">\n",
       "  <thead>\n",
       "    <tr style=\"text-align: right;\">\n",
       "      <th></th>\n",
       "      <th>cotAlpha</th>\n",
       "      <th>cotBeta</th>\n",
       "    </tr>\n",
       "  </thead>\n",
       "  <tbody>\n",
       "    <tr>\n",
       "      <th>0</th>\n",
       "      <td>3.696619</td>\n",
       "      <td>0.098554</td>\n",
       "    </tr>\n",
       "    <tr>\n",
       "      <th>1</th>\n",
       "      <td>2.341443</td>\n",
       "      <td>-0.206051</td>\n",
       "    </tr>\n",
       "    <tr>\n",
       "      <th>2</th>\n",
       "      <td>7.428552</td>\n",
       "      <td>-0.017690</td>\n",
       "    </tr>\n",
       "    <tr>\n",
       "      <th>3</th>\n",
       "      <td>7.807505</td>\n",
       "      <td>0.044182</td>\n",
       "    </tr>\n",
       "    <tr>\n",
       "      <th>4</th>\n",
       "      <td>3.911512</td>\n",
       "      <td>-0.191527</td>\n",
       "    </tr>\n",
       "  </tbody>\n",
       "</table>\n",
       "</div>"
      ],
      "text/plain": [
       "   cotAlpha   cotBeta\n",
       "0  3.696619  0.098554\n",
       "1  2.341443 -0.206051\n",
       "2  7.428552 -0.017690\n",
       "3  7.807505  0.044182\n",
       "4  3.911512 -0.191527"
      ]
     },
     "execution_count": 13,
     "metadata": {},
     "output_type": "execute_result"
    }
   ],
   "source": [
    "df.head()"
   ]
  },
  {
   "cell_type": "code",
   "execution_count": 14,
   "id": "c9c8cc0d",
   "metadata": {},
   "outputs": [],
   "source": [
    "df.to_csv('angles.csv')"
   ]
  },
  {
   "cell_type": "code",
   "execution_count": null,
   "id": "2b8a90f4",
   "metadata": {},
   "outputs": [],
   "source": []
  }
 ],
 "metadata": {
  "kernelspec": {
   "display_name": "Python 3 (ipykernel)",
   "language": "python",
   "name": "python3"
  },
  "language_info": {
   "codemirror_mode": {
    "name": "ipython",
    "version": 3
   },
   "file_extension": ".py",
   "mimetype": "text/x-python",
   "name": "python",
   "nbconvert_exporter": "python",
   "pygments_lexer": "ipython3",
   "version": "3.9.4"
  }
 },
 "nbformat": 4,
 "nbformat_minor": 5
}
